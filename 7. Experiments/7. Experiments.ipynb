{
 "cells": [
  {
   "cell_type": "markdown",
   "metadata": {},
   "source": [
    "# SageMaker Experiments"
   ]
  },
  {
   "cell_type": "markdown",
   "metadata": {},
   "source": [
    "This notebook shows how you can use SageMaker Experiment Management Python SDK to organize, track, compare, and evaluate your machine learning (ML) model training experiments.\n",
    "\n",
    "You can track artifacts for experiments, including data sets, algorithms, hyper-parameters, and metrics. Experiments executed on SageMaker such as SageMaker Autopilot jobs and training jobs will be automatically tracked. You can also track artifacts for additional steps within an ML workflow that come before/after model training e.g. data pre-processing or post-training model evaluation.\n",
    "\n",
    "The APIs also let you search and browse your current and past experiments, compare experiments, and identify best performing models."
   ]
  },
  {
   "cell_type": "markdown",
   "metadata": {},
   "source": [
    "### Setup "
   ]
  },
  {
   "cell_type": "markdown",
   "metadata": {},
   "source": [
    "Uncomment (remove the #) the command below to install sagemaker-experiments"
   ]
  },
  {
   "cell_type": "code",
   "execution_count": 2,
   "metadata": {},
   "outputs": [],
   "source": [
    "#!pip install sagemaker-experiments"
   ]
  },
  {
   "cell_type": "markdown",
   "metadata": {},
   "source": [
    "### Imports "
   ]
  },
  {
   "cell_type": "code",
   "execution_count": 3,
   "metadata": {},
   "outputs": [],
   "source": [
    "import pandas as pd\n",
    "import numpy as np\n",
    "import boto3\n",
    "import time\n",
    "\n",
    "from sagemaker.analytics import ExperimentAnalytics\n",
    "from sagemaker.sklearn.model import SKLearnModel\n",
    "from sagemaker.sklearn.estimator import SKLearn\n",
    "from sagemaker import get_execution_role\n",
    "from sagemaker.session import Session\n",
    "import sagemaker\n",
    "\n",
    "from smexperiments.trial_component import TrialComponent\n",
    "from smexperiments.experiment import Experiment\n",
    "from smexperiments.tracker import Tracker\n",
    "from smexperiments.trial import Trial"
   ]
  },
  {
   "cell_type": "markdown",
   "metadata": {},
   "source": [
    "### Essentials"
   ]
  },
  {
   "cell_type": "code",
   "execution_count": 4,
   "metadata": {},
   "outputs": [
    {
     "name": "stderr",
     "output_type": "stream",
     "text": [
      "INFO:botocore.utils:IMDS ENDPOINT: http://169.254.169.254/\n",
      "INFO:botocore.utils:IMDS ENDPOINT: http://169.254.169.254/\n"
     ]
    }
   ],
   "source": [
    "session = sagemaker.Session()\n",
    "role = get_execution_role()"
   ]
  },
  {
   "cell_type": "code",
   "execution_count": 5,
   "metadata": {},
   "outputs": [
    {
     "name": "stderr",
     "output_type": "stream",
     "text": [
      "INFO:botocore.utils:IMDS ENDPOINT: http://169.254.169.254/\n"
     ]
    }
   ],
   "source": [
    "boto_session = boto3.Session()\n",
    "sagemaker_boto_client = boto_session.client('sagemaker')"
   ]
  },
  {
   "cell_type": "markdown",
   "metadata": {},
   "source": [
    "### Upload Data to S3"
   ]
  },
  {
   "cell_type": "code",
   "execution_count": 6,
   "metadata": {},
   "outputs": [],
   "source": [
    "WORK_DIRECTORY = '.././DATA'\n",
    "\n",
    "train_data_s3 = session.upload_data(f'{WORK_DIRECTORY}/train', key_prefix='sklearn-clf/train')\n",
    "test_data_s3 = session.upload_data(f'{WORK_DIRECTORY}/test', key_prefix='sklearn-clf/test')"
   ]
  },
  {
   "cell_type": "markdown",
   "metadata": {},
   "source": [
    "### Create a Processing Tracker "
   ]
  },
  {
   "cell_type": "code",
   "execution_count": 7,
   "metadata": {},
   "outputs": [
    {
     "name": "stderr",
     "output_type": "stream",
     "text": [
      "INFO:botocore.utils:IMDS ENDPOINT: http://169.254.169.254/\n"
     ]
    }
   ],
   "source": [
    "with Tracker.create(display_name='Preprocessing', sagemaker_boto_client=sagemaker_boto_client) as processing_tracker:\n",
    "    processing_tracker.log_parameters({\n",
    "        'scaling-strategy': 'min-max',\n",
    "    })\n",
    "    # we can log the s3 uri to the dataset we just uploaded\n",
    "    processing_tracker.log_input(name='training-data', \n",
    "                      media_type='s3/uri', \n",
    "                      value=train_data_s3)"
   ]
  },
  {
   "cell_type": "markdown",
   "metadata": {},
   "source": [
    "### Create an Experiment\n",
    "\n",
    "Create an experiment to track all the model training iterations. Experiments are a great way to organize your data science work. You can create experiments to organize all your model development work for : [1] a business use case you are addressing (e.g. create experiment named “customer churn prediction”), or [2] a data science team that owns the experiment (e.g. create experiment named “marketing analytics experiment”), or [3] a specific data science and ML project. Think of it as a “folder” for organizing your “files”."
   ]
  },
  {
   "cell_type": "code",
   "execution_count": 9,
   "metadata": {},
   "outputs": [],
   "source": [
    "experiment = Experiment.create(\n",
    "    experiment_name='KNN-Classifier-Experiment', \n",
    "    description='Sklearn Classifier Example', \n",
    "    sagemaker_boto_client=sagemaker_boto_client)"
   ]
  },
  {
   "cell_type": "code",
   "execution_count": 10,
   "metadata": {},
   "outputs": [
    {
     "data": {
      "text/plain": [
       "Experiment(sagemaker_boto_client=<botocore.client.SageMaker object at 0x7fe29f2bf210>,experiment_name='KNN-Classifier-Experiment',description='Sklearn Classifier Example',tags=None,experiment_arn='arn:aws:sagemaker:us-east-1:892313895307:experiment/knn-classifier-experiment',response_metadata={'RequestId': '04887e92-d8b7-429c-94e1-8eee4bfbb7fa', 'HTTPStatusCode': 200, 'HTTPHeaders': {'x-amzn-requestid': '04887e92-d8b7-429c-94e1-8eee4bfbb7fa', 'content-type': 'application/x-amz-json-1.1', 'content-length': '97', 'date': 'Mon, 09 Nov 2020 01:51:33 GMT'}, 'RetryAttempts': 0})"
      ]
     },
     "execution_count": 10,
     "metadata": {},
     "output_type": "execute_result"
    }
   ],
   "source": [
    "experiment"
   ]
  },
  {
   "cell_type": "markdown",
   "metadata": {},
   "source": [
    "### Create a Trial"
   ]
  },
  {
   "cell_type": "markdown",
   "metadata": {},
   "source": [
    "Now create a Trial for each training run to track the it's inputs, parameters, and metrics.<br>\n",
    "We will also create a TrialComponent from the <b>Processing Tracker</b> we created before, and add to the Trial.<br>\n",
    "This will enrich the Trial with the parameters we captured from the data processing stage.<br>\n",
    "Note the execution of the following code takes a while."
   ]
  },
  {
   "cell_type": "code",
   "execution_count": 11,
   "metadata": {},
   "outputs": [],
   "source": [
    "trial_name_map = {}"
   ]
  },
  {
   "cell_type": "code",
   "execution_count": 12,
   "metadata": {},
   "outputs": [],
   "source": [
    "candidates = [3, 7, 9] # number of neighbors"
   ]
  },
  {
   "cell_type": "code",
   "execution_count": 13,
   "metadata": {},
   "outputs": [],
   "source": [
    "processing_trial_component = processing_tracker.trial_component"
   ]
  },
  {
   "cell_type": "code",
   "execution_count": 15,
   "metadata": {},
   "outputs": [
    {
     "name": "stderr",
     "output_type": "stream",
     "text": [
      "INFO:botocore.utils:IMDS ENDPOINT: http://169.254.169.254/\n",
      "INFO:sagemaker.image_uris:Same images used for training and inference. Defaulting to image scope: inference.\n",
      "INFO:sagemaker:Creating training-job with name: training-job-1604886734\n"
     ]
    },
    {
     "name": "stdout",
     "output_type": "stream",
     "text": [
      "2020-11-09 01:52:14 Starting - Starting the training job...\n",
      "2020-11-09 01:52:17 Starting - Launching requested ML instances......\n",
      "2020-11-09 01:53:27 Starting - Preparing the instances for training......\n",
      "2020-11-09 01:54:17 Downloading - Downloading input data......\n",
      "2020-11-09 01:55:19 Training - Downloading the training image.........\n",
      "2020-11-09 01:57:13 Uploading - Uploading generated training model\n",
      "2020-11-09 01:57:13 Completed - Training job completed\n",
      "\u001b[34m2020-11-09 01:56:59,335 sagemaker-training-toolkit INFO     Imported framework sagemaker_sklearn_container.training\u001b[0m\n",
      "\u001b[34m2020-11-09 01:56:59,337 sagemaker-training-toolkit INFO     No GPUs detected (normal if no gpus installed)\u001b[0m\n",
      "\u001b[34m2020-11-09 01:56:59,346 sagemaker_sklearn_container.training INFO     Invoking user training script.\u001b[0m\n",
      "\u001b[34m2020-11-09 01:56:59,649 sagemaker-training-toolkit INFO     No GPUs detected (normal if no gpus installed)\u001b[0m\n",
      "\u001b[34m2020-11-09 01:57:01,246 sagemaker-training-toolkit INFO     No GPUs detected (normal if no gpus installed)\u001b[0m\n",
      "\u001b[34m2020-11-09 01:57:01,266 sagemaker-training-toolkit INFO     No GPUs detected (normal if no gpus installed)\u001b[0m\n",
      "\u001b[34m2020-11-09 01:57:01,277 sagemaker-training-toolkit INFO     Invoking user script\n",
      "\u001b[0m\n",
      "\u001b[34mTraining Env:\n",
      "\u001b[0m\n",
      "\u001b[34m{\n",
      "    \"additional_framework_parameters\": {},\n",
      "    \"channel_input_dirs\": {\n",
      "        \"test\": \"/opt/ml/input/data/test\",\n",
      "        \"train\": \"/opt/ml/input/data/train\"\n",
      "    },\n",
      "    \"current_host\": \"algo-1\",\n",
      "    \"framework_module\": \"sagemaker_sklearn_container.training:main\",\n",
      "    \"hosts\": [\n",
      "        \"algo-1\"\n",
      "    ],\n",
      "    \"hyperparameters\": {\n",
      "        \"nneighbors\": 3\n",
      "    },\n",
      "    \"input_config_dir\": \"/opt/ml/input/config\",\n",
      "    \"input_data_config\": {\n",
      "        \"test\": {\n",
      "            \"TrainingInputMode\": \"File\",\n",
      "            \"S3DistributionType\": \"FullyReplicated\",\n",
      "            \"RecordWrapperType\": \"None\"\n",
      "        },\n",
      "        \"train\": {\n",
      "            \"TrainingInputMode\": \"File\",\n",
      "            \"S3DistributionType\": \"FullyReplicated\",\n",
      "            \"RecordWrapperType\": \"None\"\n",
      "        }\n",
      "    },\n",
      "    \"input_dir\": \"/opt/ml/input\",\n",
      "    \"is_master\": true,\n",
      "    \"job_name\": \"training-job-1604886734\",\n",
      "    \"log_level\": 20,\n",
      "    \"master_hostname\": \"algo-1\",\n",
      "    \"model_dir\": \"/opt/ml/model\",\n",
      "    \"module_dir\": \"s3://sagemaker-us-east-1-892313895307/training-job-1604886734/source/sourcedir.tar.gz\",\n",
      "    \"module_name\": \"train\",\n",
      "    \"network_interface_name\": \"eth0\",\n",
      "    \"num_cpus\": 2,\n",
      "    \"num_gpus\": 0,\n",
      "    \"output_data_dir\": \"/opt/ml/output/data\",\n",
      "    \"output_dir\": \"/opt/ml/output\",\n",
      "    \"output_intermediate_dir\": \"/opt/ml/output/intermediate\",\n",
      "    \"resource_config\": {\n",
      "        \"current_host\": \"algo-1\",\n",
      "        \"hosts\": [\n",
      "            \"algo-1\"\n",
      "        ],\n",
      "        \"network_interface_name\": \"eth0\"\n",
      "    },\n",
      "    \"user_entry_point\": \"train.py\"\u001b[0m\n",
      "\u001b[34m}\n",
      "\u001b[0m\n",
      "\u001b[34mEnvironment variables:\n",
      "\u001b[0m\n",
      "\u001b[34mSM_HOSTS=[\"algo-1\"]\u001b[0m\n",
      "\u001b[34mSM_NETWORK_INTERFACE_NAME=eth0\u001b[0m\n",
      "\u001b[34mSM_HPS={\"nneighbors\":3}\u001b[0m\n",
      "\u001b[34mSM_USER_ENTRY_POINT=train.py\u001b[0m\n",
      "\u001b[34mSM_FRAMEWORK_PARAMS={}\u001b[0m\n",
      "\u001b[34mSM_RESOURCE_CONFIG={\"current_host\":\"algo-1\",\"hosts\":[\"algo-1\"],\"network_interface_name\":\"eth0\"}\u001b[0m\n",
      "\u001b[34mSM_INPUT_DATA_CONFIG={\"test\":{\"RecordWrapperType\":\"None\",\"S3DistributionType\":\"FullyReplicated\",\"TrainingInputMode\":\"File\"},\"train\":{\"RecordWrapperType\":\"None\",\"S3DistributionType\":\"FullyReplicated\",\"TrainingInputMode\":\"File\"}}\u001b[0m\n",
      "\u001b[34mSM_OUTPUT_DATA_DIR=/opt/ml/output/data\u001b[0m\n",
      "\u001b[34mSM_CHANNELS=[\"test\",\"train\"]\u001b[0m\n",
      "\u001b[34mSM_CURRENT_HOST=algo-1\u001b[0m\n",
      "\u001b[34mSM_MODULE_NAME=train\u001b[0m\n",
      "\u001b[34mSM_LOG_LEVEL=20\u001b[0m\n",
      "\u001b[34mSM_FRAMEWORK_MODULE=sagemaker_sklearn_container.training:main\u001b[0m\n",
      "\u001b[34mSM_INPUT_DIR=/opt/ml/input\u001b[0m\n",
      "\u001b[34mSM_INPUT_CONFIG_DIR=/opt/ml/input/config\u001b[0m\n",
      "\u001b[34mSM_OUTPUT_DIR=/opt/ml/output\u001b[0m\n",
      "\u001b[34mSM_NUM_CPUS=2\u001b[0m\n",
      "\u001b[34mSM_NUM_GPUS=0\u001b[0m\n",
      "\u001b[34mSM_MODEL_DIR=/opt/ml/model\u001b[0m\n",
      "\u001b[34mSM_MODULE_DIR=s3://sagemaker-us-east-1-892313895307/training-job-1604886734/source/sourcedir.tar.gz\u001b[0m\n",
      "\u001b[34mSM_TRAINING_ENV={\"additional_framework_parameters\":{},\"channel_input_dirs\":{\"test\":\"/opt/ml/input/data/test\",\"train\":\"/opt/ml/input/data/train\"},\"current_host\":\"algo-1\",\"framework_module\":\"sagemaker_sklearn_container.training:main\",\"hosts\":[\"algo-1\"],\"hyperparameters\":{\"nneighbors\":3},\"input_config_dir\":\"/opt/ml/input/config\",\"input_data_config\":{\"test\":{\"RecordWrapperType\":\"None\",\"S3DistributionType\":\"FullyReplicated\",\"TrainingInputMode\":\"File\"},\"train\":{\"RecordWrapperType\":\"None\",\"S3DistributionType\":\"FullyReplicated\",\"TrainingInputMode\":\"File\"}},\"input_dir\":\"/opt/ml/input\",\"is_master\":true,\"job_name\":\"training-job-1604886734\",\"log_level\":20,\"master_hostname\":\"algo-1\",\"model_dir\":\"/opt/ml/model\",\"module_dir\":\"s3://sagemaker-us-east-1-892313895307/training-job-1604886734/source/sourcedir.tar.gz\",\"module_name\":\"train\",\"network_interface_name\":\"eth0\",\"num_cpus\":2,\"num_gpus\":0,\"output_data_dir\":\"/opt/ml/output/data\",\"output_dir\":\"/opt/ml/output\",\"output_intermediate_dir\":\"/opt/ml/output/intermediate\",\"resource_config\":{\"current_host\":\"algo-1\",\"hosts\":[\"algo-1\"],\"network_interface_name\":\"eth0\"},\"user_entry_point\":\"train.py\"}\u001b[0m\n",
      "\u001b[34mSM_USER_ARGS=[\"--nneighbors\",\"3\"]\u001b[0m\n",
      "\u001b[34mSM_OUTPUT_INTERMEDIATE_DIR=/opt/ml/output/intermediate\u001b[0m\n",
      "\u001b[34mSM_CHANNEL_TEST=/opt/ml/input/data/test\u001b[0m\n",
      "\u001b[34mSM_CHANNEL_TRAIN=/opt/ml/input/data/train\u001b[0m\n",
      "\u001b[34mSM_HP_NNEIGHBORS=3\u001b[0m\n",
      "\u001b[34mPYTHONPATH=/opt/ml/code:/miniconda3/bin:/miniconda3/lib/python37.zip:/miniconda3/lib/python3.7:/miniconda3/lib/python3.7/lib-dynload:/miniconda3/lib/python3.7/site-packages\n",
      "\u001b[0m\n",
      "\u001b[34mInvoking script with the following command:\n",
      "\u001b[0m\n",
      "\u001b[34m/miniconda3/bin/python train.py --nneighbors 3\n",
      "\n",
      "\u001b[0m\n",
      "\u001b[34m------- [STARTING TRAINING] -------\u001b[0m\n",
      "\u001b[34m------- [TRAINING COMPLETE!] -------\u001b[0m\n",
      "\u001b[34m------- [STARTING EVALUATION] -------\u001b[0m\n",
      "\u001b[34mAccuracy = 84.7205%\u001b[0m\n",
      "\u001b[34mTest Accuracy: 84.7205%;\n",
      "\u001b[0m\n",
      "\u001b[34m------- [EVALUATION DONE!] -------\u001b[0m\n",
      "\u001b[34m2020-11-09 01:57:02,908 sagemaker-training-toolkit INFO     Reporting training SUCCESS\u001b[0m\n"
     ]
    },
    {
     "name": "stderr",
     "output_type": "stream",
     "text": [
      "INFO:botocore.utils:IMDS ENDPOINT: http://169.254.169.254/\n",
      "INFO:sagemaker.image_uris:Same images used for training and inference. Defaulting to image scope: inference.\n"
     ]
    },
    {
     "name": "stdout",
     "output_type": "stream",
     "text": [
      "Training seconds: 176\n",
      "Billable seconds: 176\n"
     ]
    },
    {
     "name": "stderr",
     "output_type": "stream",
     "text": [
      "INFO:sagemaker:Creating training-job with name: training-job-1604887047\n"
     ]
    },
    {
     "name": "stdout",
     "output_type": "stream",
     "text": [
      "2020-11-09 01:57:27 Starting - Starting the training job...\n",
      "2020-11-09 01:57:30 Starting - Launching requested ML instances......\n",
      "2020-11-09 01:58:44 Starting - Preparing the instances for training...\n",
      "2020-11-09 01:59:22 Downloading - Downloading input data...\n",
      "2020-11-09 01:59:50 Training - Downloading the training image......\n",
      "2020-11-09 02:00:48 Training - Training image download completed. Training in progress.\n",
      "2020-11-09 02:01:27 Uploading - Uploading generated training model\n",
      "2020-11-09 02:01:27 Completed - Training job completed\n"
     ]
    },
    {
     "name": "stderr",
     "output_type": "stream",
     "text": [
      "INFO:botocore.utils:IMDS ENDPOINT: http://169.254.169.254/\n"
     ]
    },
    {
     "name": "stdout",
     "output_type": "stream",
     "text": [
      "\u001b[34m2020-11-09 02:00:48,840 sagemaker-training-toolkit INFO     Imported framework sagemaker_sklearn_container.training\u001b[0m\n",
      "\u001b[34m2020-11-09 02:00:48,843 sagemaker-training-toolkit INFO     No GPUs detected (normal if no gpus installed)\u001b[0m\n",
      "\u001b[34m2020-11-09 02:00:48,851 sagemaker_sklearn_container.training INFO     Invoking user training script.\u001b[0m\n",
      "\u001b[34m2020-11-09 02:00:49,132 sagemaker-training-toolkit INFO     No GPUs detected (normal if no gpus installed)\u001b[0m\n",
      "\u001b[34m2020-11-09 02:00:55,428 sagemaker-training-toolkit INFO     No GPUs detected (normal if no gpus installed)\u001b[0m\n",
      "\u001b[34m2020-11-09 02:00:55,438 sagemaker-training-toolkit INFO     No GPUs detected (normal if no gpus installed)\u001b[0m\n",
      "\u001b[34m2020-11-09 02:00:55,447 sagemaker-training-toolkit INFO     Invoking user script\n",
      "\u001b[0m\n",
      "\u001b[34mTraining Env:\n",
      "\u001b[0m\n",
      "\u001b[34m{\n",
      "    \"additional_framework_parameters\": {},\n",
      "    \"channel_input_dirs\": {\n",
      "        \"test\": \"/opt/ml/input/data/test\",\n",
      "        \"train\": \"/opt/ml/input/data/train\"\n",
      "    },\n",
      "    \"current_host\": \"algo-1\",\n",
      "    \"framework_module\": \"sagemaker_sklearn_container.training:main\",\n",
      "    \"hosts\": [\n",
      "        \"algo-1\"\n",
      "    ],\n",
      "    \"hyperparameters\": {\n",
      "        \"nneighbors\": 7\n",
      "    },\n",
      "    \"input_config_dir\": \"/opt/ml/input/config\",\n",
      "    \"input_data_config\": {\n",
      "        \"test\": {\n",
      "            \"TrainingInputMode\": \"File\",\n",
      "            \"S3DistributionType\": \"FullyReplicated\",\n",
      "            \"RecordWrapperType\": \"None\"\n",
      "        },\n",
      "        \"train\": {\n",
      "            \"TrainingInputMode\": \"File\",\n",
      "            \"S3DistributionType\": \"FullyReplicated\",\n",
      "            \"RecordWrapperType\": \"None\"\n",
      "        }\n",
      "    },\n",
      "    \"input_dir\": \"/opt/ml/input\",\n",
      "    \"is_master\": true,\n",
      "    \"job_name\": \"training-job-1604887047\",\n",
      "    \"log_level\": 20,\n",
      "    \"master_hostname\": \"algo-1\",\n",
      "    \"model_dir\": \"/opt/ml/model\",\n",
      "    \"module_dir\": \"s3://sagemaker-us-east-1-892313895307/training-job-1604887047/source/sourcedir.tar.gz\",\n",
      "    \"module_name\": \"train\",\n",
      "    \"network_interface_name\": \"eth0\",\n",
      "    \"num_cpus\": 2,\n",
      "    \"num_gpus\": 0,\n",
      "    \"output_data_dir\": \"/opt/ml/output/data\",\n",
      "    \"output_dir\": \"/opt/ml/output\",\n",
      "    \"output_intermediate_dir\": \"/opt/ml/output/intermediate\",\n",
      "    \"resource_config\": {\n",
      "        \"current_host\": \"algo-1\",\n",
      "        \"hosts\": [\n",
      "            \"algo-1\"\n",
      "        ],\n",
      "        \"network_interface_name\": \"eth0\"\n",
      "    },\n",
      "    \"user_entry_point\": \"train.py\"\u001b[0m\n",
      "\u001b[34m}\n",
      "\u001b[0m\n",
      "\u001b[34mEnvironment variables:\n",
      "\u001b[0m\n",
      "\u001b[34mSM_HOSTS=[\"algo-1\"]\u001b[0m\n",
      "\u001b[34mSM_NETWORK_INTERFACE_NAME=eth0\u001b[0m\n",
      "\u001b[34mSM_HPS={\"nneighbors\":7}\u001b[0m\n",
      "\u001b[34mSM_USER_ENTRY_POINT=train.py\u001b[0m\n",
      "\u001b[34mSM_FRAMEWORK_PARAMS={}\u001b[0m\n",
      "\u001b[34mSM_RESOURCE_CONFIG={\"current_host\":\"algo-1\",\"hosts\":[\"algo-1\"],\"network_interface_name\":\"eth0\"}\u001b[0m\n",
      "\u001b[34mSM_INPUT_DATA_CONFIG={\"test\":{\"RecordWrapperType\":\"None\",\"S3DistributionType\":\"FullyReplicated\",\"TrainingInputMode\":\"File\"},\"train\":{\"RecordWrapperType\":\"None\",\"S3DistributionType\":\"FullyReplicated\",\"TrainingInputMode\":\"File\"}}\u001b[0m\n",
      "\u001b[34mSM_OUTPUT_DATA_DIR=/opt/ml/output/data\u001b[0m\n",
      "\u001b[34mSM_CHANNELS=[\"test\",\"train\"]\u001b[0m\n",
      "\u001b[34mSM_CURRENT_HOST=algo-1\u001b[0m\n",
      "\u001b[34mSM_MODULE_NAME=train\u001b[0m\n",
      "\u001b[34mSM_LOG_LEVEL=20\u001b[0m\n",
      "\u001b[34mSM_FRAMEWORK_MODULE=sagemaker_sklearn_container.training:main\u001b[0m\n",
      "\u001b[34mSM_INPUT_DIR=/opt/ml/input\u001b[0m\n",
      "\u001b[34mSM_INPUT_CONFIG_DIR=/opt/ml/input/config\u001b[0m\n",
      "\u001b[34mSM_OUTPUT_DIR=/opt/ml/output\u001b[0m\n",
      "\u001b[34mSM_NUM_CPUS=2\u001b[0m\n",
      "\u001b[34mSM_NUM_GPUS=0\u001b[0m\n",
      "\u001b[34mSM_MODEL_DIR=/opt/ml/model\u001b[0m\n",
      "\u001b[34mSM_MODULE_DIR=s3://sagemaker-us-east-1-892313895307/training-job-1604887047/source/sourcedir.tar.gz\u001b[0m\n",
      "\u001b[34mSM_TRAINING_ENV={\"additional_framework_parameters\":{},\"channel_input_dirs\":{\"test\":\"/opt/ml/input/data/test\",\"train\":\"/opt/ml/input/data/train\"},\"current_host\":\"algo-1\",\"framework_module\":\"sagemaker_sklearn_container.training:main\",\"hosts\":[\"algo-1\"],\"hyperparameters\":{\"nneighbors\":7},\"input_config_dir\":\"/opt/ml/input/config\",\"input_data_config\":{\"test\":{\"RecordWrapperType\":\"None\",\"S3DistributionType\":\"FullyReplicated\",\"TrainingInputMode\":\"File\"},\"train\":{\"RecordWrapperType\":\"None\",\"S3DistributionType\":\"FullyReplicated\",\"TrainingInputMode\":\"File\"}},\"input_dir\":\"/opt/ml/input\",\"is_master\":true,\"job_name\":\"training-job-1604887047\",\"log_level\":20,\"master_hostname\":\"algo-1\",\"model_dir\":\"/opt/ml/model\",\"module_dir\":\"s3://sagemaker-us-east-1-892313895307/training-job-1604887047/source/sourcedir.tar.gz\",\"module_name\":\"train\",\"network_interface_name\":\"eth0\",\"num_cpus\":2,\"num_gpus\":0,\"output_data_dir\":\"/opt/ml/output/data\",\"output_dir\":\"/opt/ml/output\",\"output_intermediate_dir\":\"/opt/ml/output/intermediate\",\"resource_config\":{\"current_host\":\"algo-1\",\"hosts\":[\"algo-1\"],\"network_interface_name\":\"eth0\"},\"user_entry_point\":\"train.py\"}\u001b[0m\n",
      "\u001b[34mSM_USER_ARGS=[\"--nneighbors\",\"7\"]\u001b[0m\n",
      "\u001b[34mSM_OUTPUT_INTERMEDIATE_DIR=/opt/ml/output/intermediate\u001b[0m\n",
      "\u001b[34mSM_CHANNEL_TEST=/opt/ml/input/data/test\u001b[0m\n",
      "\u001b[34mSM_CHANNEL_TRAIN=/opt/ml/input/data/train\u001b[0m\n",
      "\u001b[34mSM_HP_NNEIGHBORS=7\u001b[0m\n",
      "\u001b[34mPYTHONPATH=/opt/ml/code:/miniconda3/bin:/miniconda3/lib/python37.zip:/miniconda3/lib/python3.7:/miniconda3/lib/python3.7/lib-dynload:/miniconda3/lib/python3.7/site-packages\n",
      "\u001b[0m\n",
      "\u001b[34mInvoking script with the following command:\n",
      "\u001b[0m\n",
      "\u001b[34m/miniconda3/bin/python train.py --nneighbors 7\n",
      "\n",
      "\u001b[0m\n",
      "\u001b[34m------- [STARTING TRAINING] -------\u001b[0m\n",
      "\u001b[34m------- [TRAINING COMPLETE!] -------\u001b[0m\n",
      "\u001b[34m------- [STARTING EVALUATION] -------\u001b[0m\n",
      "\u001b[34mAccuracy = 81.7049%\u001b[0m\n",
      "\u001b[34mTest Accuracy: 81.7049%;\n",
      "\u001b[0m\n",
      "\u001b[34m------- [EVALUATION DONE!] -------\u001b[0m\n",
      "\u001b[34m2020-11-09 02:00:57,104 sagemaker-training-toolkit INFO     Reporting training SUCCESS\u001b[0m\n",
      "Training seconds: 125\n",
      "Billable seconds: 125\n"
     ]
    },
    {
     "name": "stderr",
     "output_type": "stream",
     "text": [
      "INFO:sagemaker.image_uris:Same images used for training and inference. Defaulting to image scope: inference.\n",
      "INFO:sagemaker:Creating training-job with name: training-job-1604887300\n"
     ]
    },
    {
     "name": "stdout",
     "output_type": "stream",
     "text": [
      "2020-11-09 02:01:40 Starting - Starting the training job...\n",
      "2020-11-09 02:01:43 Starting - Launching requested ML instances......\n",
      "2020-11-09 02:02:58 Starting - Preparing the instances for training...\n",
      "2020-11-09 02:03:39 Downloading - Downloading input data......\n",
      "2020-11-09 02:04:15 Training - Downloading the training image...\n",
      "2020-11-09 02:05:10 Uploading - Uploading generated training model\u001b[34m2020-11-09 02:05:04,600 sagemaker-training-toolkit INFO     Imported framework sagemaker_sklearn_container.training\u001b[0m\n",
      "\u001b[34m2020-11-09 02:05:04,602 sagemaker-training-toolkit INFO     No GPUs detected (normal if no gpus installed)\u001b[0m\n",
      "\u001b[34m2020-11-09 02:05:04,611 sagemaker_sklearn_container.training INFO     Invoking user training script.\u001b[0m\n",
      "\u001b[34m2020-11-09 02:05:04,912 sagemaker-training-toolkit INFO     No GPUs detected (normal if no gpus installed)\u001b[0m\n",
      "\u001b[34m2020-11-09 02:05:06,408 sagemaker-training-toolkit INFO     No GPUs detected (normal if no gpus installed)\u001b[0m\n",
      "\u001b[34m2020-11-09 02:05:06,419 sagemaker-training-toolkit INFO     No GPUs detected (normal if no gpus installed)\u001b[0m\n",
      "\u001b[34m2020-11-09 02:05:06,428 sagemaker-training-toolkit INFO     Invoking user script\n",
      "\u001b[0m\n",
      "\u001b[34mTraining Env:\n",
      "\u001b[0m\n",
      "\u001b[34m{\n",
      "    \"additional_framework_parameters\": {},\n",
      "    \"channel_input_dirs\": {\n",
      "        \"test\": \"/opt/ml/input/data/test\",\n",
      "        \"train\": \"/opt/ml/input/data/train\"\n",
      "    },\n",
      "    \"current_host\": \"algo-1\",\n",
      "    \"framework_module\": \"sagemaker_sklearn_container.training:main\",\n",
      "    \"hosts\": [\n",
      "        \"algo-1\"\n",
      "    ],\n",
      "    \"hyperparameters\": {\n",
      "        \"nneighbors\": 9\n",
      "    },\n",
      "    \"input_config_dir\": \"/opt/ml/input/config\",\n",
      "    \"input_data_config\": {\n",
      "        \"test\": {\n",
      "            \"TrainingInputMode\": \"File\",\n",
      "            \"S3DistributionType\": \"FullyReplicated\",\n",
      "            \"RecordWrapperType\": \"None\"\n",
      "        },\n",
      "        \"train\": {\n",
      "            \"TrainingInputMode\": \"File\",\n",
      "            \"S3DistributionType\": \"FullyReplicated\",\n",
      "            \"RecordWrapperType\": \"None\"\n",
      "        }\n",
      "    },\n",
      "    \"input_dir\": \"/opt/ml/input\",\n",
      "    \"is_master\": true,\n",
      "    \"job_name\": \"training-job-1604887300\",\n",
      "    \"log_level\": 20,\n",
      "    \"master_hostname\": \"algo-1\",\n",
      "    \"model_dir\": \"/opt/ml/model\",\n",
      "    \"module_dir\": \"s3://sagemaker-us-east-1-892313895307/training-job-1604887300/source/sourcedir.tar.gz\",\n",
      "    \"module_name\": \"train\",\n",
      "    \"network_interface_name\": \"eth0\",\n",
      "    \"num_cpus\": 2,\n",
      "    \"num_gpus\": 0,\n",
      "    \"output_data_dir\": \"/opt/ml/output/data\",\n",
      "    \"output_dir\": \"/opt/ml/output\",\n",
      "    \"output_intermediate_dir\": \"/opt/ml/output/intermediate\",\n",
      "    \"resource_config\": {\n",
      "        \"current_host\": \"algo-1\",\n",
      "        \"hosts\": [\n",
      "            \"algo-1\"\n",
      "        ],\n",
      "        \"network_interface_name\": \"eth0\"\n",
      "    },\n",
      "    \"user_entry_point\": \"train.py\"\u001b[0m\n",
      "\u001b[34m}\n",
      "\u001b[0m\n",
      "\u001b[34mEnvironment variables:\n",
      "\u001b[0m\n",
      "\u001b[34mSM_HOSTS=[\"algo-1\"]\u001b[0m\n",
      "\u001b[34mSM_NETWORK_INTERFACE_NAME=eth0\u001b[0m\n",
      "\u001b[34mSM_HPS={\"nneighbors\":9}\u001b[0m\n",
      "\u001b[34mSM_USER_ENTRY_POINT=train.py\u001b[0m\n",
      "\u001b[34mSM_FRAMEWORK_PARAMS={}\u001b[0m\n",
      "\u001b[34mSM_RESOURCE_CONFIG={\"current_host\":\"algo-1\",\"hosts\":[\"algo-1\"],\"network_interface_name\":\"eth0\"}\u001b[0m\n",
      "\u001b[34mSM_INPUT_DATA_CONFIG={\"test\":{\"RecordWrapperType\":\"None\",\"S3DistributionType\":\"FullyReplicated\",\"TrainingInputMode\":\"File\"},\"train\":{\"RecordWrapperType\":\"None\",\"S3DistributionType\":\"FullyReplicated\",\"TrainingInputMode\":\"File\"}}\u001b[0m\n",
      "\u001b[34mSM_OUTPUT_DATA_DIR=/opt/ml/output/data\u001b[0m\n",
      "\u001b[34mSM_CHANNELS=[\"test\",\"train\"]\u001b[0m\n",
      "\u001b[34mSM_CURRENT_HOST=algo-1\u001b[0m\n",
      "\u001b[34mSM_MODULE_NAME=train\u001b[0m\n",
      "\u001b[34mSM_LOG_LEVEL=20\u001b[0m\n",
      "\u001b[34mSM_FRAMEWORK_MODULE=sagemaker_sklearn_container.training:main\u001b[0m\n",
      "\u001b[34mSM_INPUT_DIR=/opt/ml/input\u001b[0m\n",
      "\u001b[34mSM_INPUT_CONFIG_DIR=/opt/ml/input/config\u001b[0m\n",
      "\u001b[34mSM_OUTPUT_DIR=/opt/ml/output\u001b[0m\n",
      "\u001b[34mSM_NUM_CPUS=2\u001b[0m\n",
      "\u001b[34mSM_NUM_GPUS=0\u001b[0m\n",
      "\u001b[34mSM_MODEL_DIR=/opt/ml/model\u001b[0m\n",
      "\u001b[34mSM_MODULE_DIR=s3://sagemaker-us-east-1-892313895307/training-job-1604887300/source/sourcedir.tar.gz\u001b[0m\n",
      "\u001b[34mSM_TRAINING_ENV={\"additional_framework_parameters\":{},\"channel_input_dirs\":{\"test\":\"/opt/ml/input/data/test\",\"train\":\"/opt/ml/input/data/train\"},\"current_host\":\"algo-1\",\"framework_module\":\"sagemaker_sklearn_container.training:main\",\"hosts\":[\"algo-1\"],\"hyperparameters\":{\"nneighbors\":9},\"input_config_dir\":\"/opt/ml/input/config\",\"input_data_config\":{\"test\":{\"RecordWrapperType\":\"None\",\"S3DistributionType\":\"FullyReplicated\",\"TrainingInputMode\":\"File\"},\"train\":{\"RecordWrapperType\":\"None\",\"S3DistributionType\":\"FullyReplicated\",\"TrainingInputMode\":\"File\"}},\"input_dir\":\"/opt/ml/input\",\"is_master\":true,\"job_name\":\"training-job-1604887300\",\"log_level\":20,\"master_hostname\":\"algo-1\",\"model_dir\":\"/opt/ml/model\",\"module_dir\":\"s3://sagemaker-us-east-1-892313895307/training-job-1604887300/source/sourcedir.tar.gz\",\"module_name\":\"train\",\"network_interface_name\":\"eth0\",\"num_cpus\":2,\"num_gpus\":0,\"output_data_dir\":\"/opt/ml/output/data\",\"output_dir\":\"/opt/ml/output\",\"output_intermediate_dir\":\"/opt/ml/output/intermediate\",\"resource_config\":{\"current_host\":\"algo-1\",\"hosts\":[\"algo-1\"],\"network_interface_name\":\"eth0\"},\"user_entry_point\":\"train.py\"}\u001b[0m\n",
      "\u001b[34mSM_USER_ARGS=[\"--nneighbors\",\"9\"]\u001b[0m\n",
      "\u001b[34mSM_OUTPUT_INTERMEDIATE_DIR=/opt/ml/output/intermediate\u001b[0m\n",
      "\u001b[34mSM_CHANNEL_TEST=/opt/ml/input/data/test\u001b[0m\n",
      "\u001b[34mSM_CHANNEL_TRAIN=/opt/ml/input/data/train\u001b[0m\n",
      "\u001b[34mSM_HP_NNEIGHBORS=9\u001b[0m\n",
      "\u001b[34mPYTHONPATH=/opt/ml/code:/miniconda3/bin:/miniconda3/lib/python37.zip:/miniconda3/lib/python3.7:/miniconda3/lib/python3.7/lib-dynload:/miniconda3/lib/python3.7/site-packages\n",
      "\u001b[0m\n",
      "\u001b[34mInvoking script with the following command:\n",
      "\u001b[0m\n",
      "\u001b[34m/miniconda3/bin/python train.py --nneighbors 9\n",
      "\n",
      "\u001b[0m\n",
      "\u001b[34m------- [STARTING TRAINING] -------\u001b[0m\n",
      "\u001b[34m------- [TRAINING COMPLETE!] -------\u001b[0m\n",
      "\u001b[34m------- [STARTING EVALUATION] -------\u001b[0m\n",
      "\u001b[34mAccuracy = 81.4234%\u001b[0m\n",
      "\u001b[34mTest Accuracy: 81.4234%;\n",
      "\u001b[0m\n",
      "\u001b[34m------- [EVALUATION DONE!] -------\u001b[0m\n",
      "\u001b[34m2020-11-09 02:05:08,195 sagemaker-training-toolkit INFO     Reporting training SUCCESS\u001b[0m\n",
      "\n",
      "2020-11-09 02:05:17 Completed - Training job completed\n",
      "Training seconds: 98\n",
      "Billable seconds: 98\n"
     ]
    }
   ],
   "source": [
    "for i, n_neighbors in enumerate(candidates):\n",
    "    trial_name = f'sklearn-clf-{n_neighbors}-{int(time.time())}'\n",
    "    trial = Trial.create(\n",
    "        trial_name=trial_name, \n",
    "        experiment_name=experiment.experiment_name,\n",
    "        sagemaker_boto_client=sagemaker_boto_client,\n",
    "    )\n",
    "    trial_name_map[n_neighbors] = trial_name\n",
    "    \n",
    "    # Associate the Processing trial component with the current trial\n",
    "    trial.add_trial_component(processing_trial_component)\n",
    "    \n",
    "    estimator = SKLearn(entry_point='train.py',\n",
    "                    instance_type='ml.m5.large',\n",
    "                    instance_count=1,\n",
    "                    framework_version='0.23-1',\n",
    "                    role=role,\n",
    "                    hyperparameters= {'nneighbors': n_neighbors},\n",
    "                    metric_definitions=[\n",
    "                        {'Name':'test:accuracy', 'Regex':'Test Accuracy: (.*?)%;'}\n",
    "                    ],\n",
    "                    enable_sagemaker_metrics=True # IMPORTANT\n",
    "                )\n",
    "                        \n",
    "    training_job_name = 'training-job-{}'.format(int(time.time()))\n",
    "    \n",
    "    # Associate the estimator with an Experiment and a Trial\n",
    "    estimator.fit(\n",
    "        inputs={'train': train_data_s3, 'test': test_data_s3}, \n",
    "        job_name=training_job_name,\n",
    "        experiment_config={\n",
    "            'TrialName': trial.trial_name,\n",
    "            'TrialComponentDisplayName': 'Training',\n",
    "        }, \n",
    "    )"
   ]
  },
  {
   "cell_type": "markdown",
   "metadata": {},
   "source": [
    "### Compare Trials"
   ]
  },
  {
   "cell_type": "markdown",
   "metadata": {},
   "source": [
    "Now we will use the analytics capabilities of Python SDK to query and compare the training runs for identifying the best model produced by our experiment. You can retrieve trial components by using a search expression.\n",
    "\n"
   ]
  },
  {
   "cell_type": "code",
   "execution_count": 16,
   "metadata": {},
   "outputs": [],
   "source": [
    "search_expression = {\n",
    "    \"Filters\":[\n",
    "        {\n",
    "            \"Name\": \"DisplayName\",\n",
    "            \"Operator\": \"Equals\",\n",
    "            \"Value\": \"Training\",\n",
    "        }\n",
    "    ],\n",
    "}"
   ]
  },
  {
   "cell_type": "code",
   "execution_count": 17,
   "metadata": {},
   "outputs": [],
   "source": [
    "trial_component_analytics = ExperimentAnalytics(\n",
    "                                sagemaker_session=Session(boto_session, sagemaker_boto_client), \n",
    "                                experiment_name=\"Sklearn-Knn-Classifier-Experiment-6\",\n",
    "                                search_expression=search_expression,\n",
    "                                sort_by=\"metrics.test:accuracy.max\",\n",
    "                                sort_order=\"Descending\",\n",
    "                                metric_names=['test:accuracy'],\n",
    "                                parameter_names=['nneighbors']\n",
    "                            )"
   ]
  },
  {
   "cell_type": "code",
   "execution_count": 18,
   "metadata": {},
   "outputs": [
    {
     "data": {
      "text/html": [
       "<div>\n",
       "<style scoped>\n",
       "    .dataframe tbody tr th:only-of-type {\n",
       "        vertical-align: middle;\n",
       "    }\n",
       "\n",
       "    .dataframe tbody tr th {\n",
       "        vertical-align: top;\n",
       "    }\n",
       "\n",
       "    .dataframe thead th {\n",
       "        text-align: right;\n",
       "    }\n",
       "</style>\n",
       "<table border=\"1\" class=\"dataframe\">\n",
       "  <thead>\n",
       "    <tr style=\"text-align: right;\">\n",
       "      <th></th>\n",
       "      <th>TrialComponentName</th>\n",
       "      <th>DisplayName</th>\n",
       "      <th>SourceArn</th>\n",
       "      <th>nneighbors</th>\n",
       "      <th>test:accuracy - Min</th>\n",
       "      <th>test:accuracy - Max</th>\n",
       "      <th>test:accuracy - Avg</th>\n",
       "      <th>test:accuracy - StdDev</th>\n",
       "      <th>test:accuracy - Last</th>\n",
       "      <th>test:accuracy - Count</th>\n",
       "      <th>test - MediaType</th>\n",
       "      <th>test - Value</th>\n",
       "      <th>train - MediaType</th>\n",
       "      <th>train - Value</th>\n",
       "      <th>SageMaker.DebugHookOutput - MediaType</th>\n",
       "      <th>SageMaker.DebugHookOutput - Value</th>\n",
       "      <th>SageMaker.ModelArtifact - MediaType</th>\n",
       "      <th>SageMaker.ModelArtifact - Value</th>\n",
       "      <th>Trials</th>\n",
       "      <th>Experiments</th>\n",
       "    </tr>\n",
       "  </thead>\n",
       "  <tbody>\n",
       "    <tr>\n",
       "      <th>0</th>\n",
       "      <td>training-job-1604608548-aws-training-job</td>\n",
       "      <td>Training</td>\n",
       "      <td>arn:aws:sagemaker:us-east-1:892313895307:train...</td>\n",
       "      <td>3.0</td>\n",
       "      <td>97.7273</td>\n",
       "      <td>97.7273</td>\n",
       "      <td>97.7273</td>\n",
       "      <td>0.0</td>\n",
       "      <td>97.7273</td>\n",
       "      <td>1</td>\n",
       "      <td>None</td>\n",
       "      <td>s3://sagemaker-us-east-1-892313895307/sklearn-...</td>\n",
       "      <td>None</td>\n",
       "      <td>s3://sagemaker-us-east-1-892313895307/sklearn-...</td>\n",
       "      <td>None</td>\n",
       "      <td>s3://sagemaker-us-east-1-892313895307/</td>\n",
       "      <td>None</td>\n",
       "      <td>s3://sagemaker-us-east-1-892313895307/training...</td>\n",
       "      <td>[sklearn-clf-3-1604608547]</td>\n",
       "      <td>[Sklearn-Knn-Classifier-Experiment-6]</td>\n",
       "    </tr>\n",
       "    <tr>\n",
       "      <th>1</th>\n",
       "      <td>training-job-1604608802-aws-training-job</td>\n",
       "      <td>Training</td>\n",
       "      <td>arn:aws:sagemaker:us-east-1:892313895307:train...</td>\n",
       "      <td>7.0</td>\n",
       "      <td>93.1818</td>\n",
       "      <td>93.1818</td>\n",
       "      <td>93.1818</td>\n",
       "      <td>0.0</td>\n",
       "      <td>93.1818</td>\n",
       "      <td>1</td>\n",
       "      <td>None</td>\n",
       "      <td>s3://sagemaker-us-east-1-892313895307/sklearn-...</td>\n",
       "      <td>None</td>\n",
       "      <td>s3://sagemaker-us-east-1-892313895307/sklearn-...</td>\n",
       "      <td>None</td>\n",
       "      <td>s3://sagemaker-us-east-1-892313895307/</td>\n",
       "      <td>None</td>\n",
       "      <td>s3://sagemaker-us-east-1-892313895307/training...</td>\n",
       "      <td>[sklearn-clf-7-1604608801]</td>\n",
       "      <td>[Sklearn-Knn-Classifier-Experiment-6]</td>\n",
       "    </tr>\n",
       "    <tr>\n",
       "      <th>2</th>\n",
       "      <td>training-job-1604609057-aws-training-job</td>\n",
       "      <td>Training</td>\n",
       "      <td>arn:aws:sagemaker:us-east-1:892313895307:train...</td>\n",
       "      <td>9.0</td>\n",
       "      <td>90.9091</td>\n",
       "      <td>90.9091</td>\n",
       "      <td>90.9091</td>\n",
       "      <td>0.0</td>\n",
       "      <td>90.9091</td>\n",
       "      <td>1</td>\n",
       "      <td>None</td>\n",
       "      <td>s3://sagemaker-us-east-1-892313895307/sklearn-...</td>\n",
       "      <td>None</td>\n",
       "      <td>s3://sagemaker-us-east-1-892313895307/sklearn-...</td>\n",
       "      <td>None</td>\n",
       "      <td>s3://sagemaker-us-east-1-892313895307/</td>\n",
       "      <td>None</td>\n",
       "      <td>s3://sagemaker-us-east-1-892313895307/training...</td>\n",
       "      <td>[sklearn-clf-9-1604609056]</td>\n",
       "      <td>[Sklearn-Knn-Classifier-Experiment-6]</td>\n",
       "    </tr>\n",
       "  </tbody>\n",
       "</table>\n",
       "</div>"
      ],
      "text/plain": [
       "                         TrialComponentName DisplayName  \\\n",
       "0  training-job-1604608548-aws-training-job    Training   \n",
       "1  training-job-1604608802-aws-training-job    Training   \n",
       "2  training-job-1604609057-aws-training-job    Training   \n",
       "\n",
       "                                           SourceArn  nneighbors  \\\n",
       "0  arn:aws:sagemaker:us-east-1:892313895307:train...         3.0   \n",
       "1  arn:aws:sagemaker:us-east-1:892313895307:train...         7.0   \n",
       "2  arn:aws:sagemaker:us-east-1:892313895307:train...         9.0   \n",
       "\n",
       "   test:accuracy - Min  test:accuracy - Max  test:accuracy - Avg  \\\n",
       "0              97.7273              97.7273              97.7273   \n",
       "1              93.1818              93.1818              93.1818   \n",
       "2              90.9091              90.9091              90.9091   \n",
       "\n",
       "   test:accuracy - StdDev  test:accuracy - Last  test:accuracy - Count  \\\n",
       "0                     0.0               97.7273                      1   \n",
       "1                     0.0               93.1818                      1   \n",
       "2                     0.0               90.9091                      1   \n",
       "\n",
       "  test - MediaType                                       test - Value  \\\n",
       "0             None  s3://sagemaker-us-east-1-892313895307/sklearn-...   \n",
       "1             None  s3://sagemaker-us-east-1-892313895307/sklearn-...   \n",
       "2             None  s3://sagemaker-us-east-1-892313895307/sklearn-...   \n",
       "\n",
       "  train - MediaType                                      train - Value  \\\n",
       "0              None  s3://sagemaker-us-east-1-892313895307/sklearn-...   \n",
       "1              None  s3://sagemaker-us-east-1-892313895307/sklearn-...   \n",
       "2              None  s3://sagemaker-us-east-1-892313895307/sklearn-...   \n",
       "\n",
       "  SageMaker.DebugHookOutput - MediaType  \\\n",
       "0                                  None   \n",
       "1                                  None   \n",
       "2                                  None   \n",
       "\n",
       "        SageMaker.DebugHookOutput - Value SageMaker.ModelArtifact - MediaType  \\\n",
       "0  s3://sagemaker-us-east-1-892313895307/                                None   \n",
       "1  s3://sagemaker-us-east-1-892313895307/                                None   \n",
       "2  s3://sagemaker-us-east-1-892313895307/                                None   \n",
       "\n",
       "                     SageMaker.ModelArtifact - Value  \\\n",
       "0  s3://sagemaker-us-east-1-892313895307/training...   \n",
       "1  s3://sagemaker-us-east-1-892313895307/training...   \n",
       "2  s3://sagemaker-us-east-1-892313895307/training...   \n",
       "\n",
       "                       Trials                            Experiments  \n",
       "0  [sklearn-clf-3-1604608547]  [Sklearn-Knn-Classifier-Experiment-6]  \n",
       "1  [sklearn-clf-7-1604608801]  [Sklearn-Knn-Classifier-Experiment-6]  \n",
       "2  [sklearn-clf-9-1604609056]  [Sklearn-Knn-Classifier-Experiment-6]  "
      ]
     },
     "execution_count": 18,
     "metadata": {},
     "output_type": "execute_result"
    }
   ],
   "source": [
    "trial_component_analytics.dataframe()"
   ]
  },
  {
   "cell_type": "markdown",
   "metadata": {},
   "source": [
    "### Track Model Lineage\n",
    "To isolate and measure the impact of change in hidden channels on model accuracy, we vary the number of hidden channel and fix the value for other hyperparameters.\n",
    "\n",
    "Next let's look at an example of tracing the lineage of a model by accessing the data tracked by SageMaker Experiments for cnn-training-job-2-hidden-channels trial"
   ]
  },
  {
   "cell_type": "code",
   "execution_count": 19,
   "metadata": {},
   "outputs": [
    {
     "data": {
      "text/plain": [
       "{3: 'sklearn-clf-3-1604886734',\n",
       " 7: 'sklearn-clf-7-1604887047',\n",
       " 9: 'sklearn-clf-9-1604887300'}"
      ]
     },
     "execution_count": 19,
     "metadata": {},
     "output_type": "execute_result"
    }
   ],
   "source": [
    "trial_name_map"
   ]
  },
  {
   "cell_type": "code",
   "execution_count": 20,
   "metadata": {},
   "outputs": [],
   "source": [
    "n_neighbors = 3 # PICK candidate for lineage\n",
    "\n",
    "lineage_table = ExperimentAnalytics(\n",
    "    sagemaker_session=Session(boto_session, sagemaker_boto_client), \n",
    "    search_expression={\n",
    "        \"Filters\":[{\n",
    "            \"Name\": \"Parents.TrialName\",\n",
    "            \"Operator\": \"Equals\",\n",
    "            \"Value\": trial_name_map[n_neighbors]\n",
    "        }]\n",
    "    },\n",
    "    sort_by=\"CreationTime\",\n",
    "    sort_order=\"Ascending\",\n",
    ")"
   ]
  },
  {
   "cell_type": "code",
   "execution_count": 21,
   "metadata": {},
   "outputs": [
    {
     "data": {
      "text/html": [
       "<div>\n",
       "<style scoped>\n",
       "    .dataframe tbody tr th:only-of-type {\n",
       "        vertical-align: middle;\n",
       "    }\n",
       "\n",
       "    .dataframe tbody tr th {\n",
       "        vertical-align: top;\n",
       "    }\n",
       "\n",
       "    .dataframe thead th {\n",
       "        text-align: right;\n",
       "    }\n",
       "</style>\n",
       "<table border=\"1\" class=\"dataframe\">\n",
       "  <thead>\n",
       "    <tr style=\"text-align: right;\">\n",
       "      <th></th>\n",
       "      <th>TrialComponentName</th>\n",
       "      <th>DisplayName</th>\n",
       "      <th>scaling-strategy</th>\n",
       "      <th>training-data - MediaType</th>\n",
       "      <th>training-data - Value</th>\n",
       "      <th>Trials</th>\n",
       "      <th>Experiments</th>\n",
       "      <th>SourceArn</th>\n",
       "      <th>SageMaker.ImageUri</th>\n",
       "      <th>SageMaker.InstanceCount</th>\n",
       "      <th>...</th>\n",
       "      <th>test:accuracy - Last</th>\n",
       "      <th>test:accuracy - Count</th>\n",
       "      <th>test - MediaType</th>\n",
       "      <th>test - Value</th>\n",
       "      <th>train - MediaType</th>\n",
       "      <th>train - Value</th>\n",
       "      <th>SageMaker.DebugHookOutput - MediaType</th>\n",
       "      <th>SageMaker.DebugHookOutput - Value</th>\n",
       "      <th>SageMaker.ModelArtifact - MediaType</th>\n",
       "      <th>SageMaker.ModelArtifact - Value</th>\n",
       "    </tr>\n",
       "  </thead>\n",
       "  <tbody>\n",
       "    <tr>\n",
       "      <th>0</th>\n",
       "      <td>TrialComponent-2020-11-09-015014-wdla</td>\n",
       "      <td>Preprocessing</td>\n",
       "      <td>min-max</td>\n",
       "      <td>s3/uri</td>\n",
       "      <td>s3://sagemaker-us-east-1-892313895307/sklearn-...</td>\n",
       "      <td>[sklearn-clf-9-1604887300, sklearn-clf-7-16048...</td>\n",
       "      <td>[KNN-Classifier-Experiment, KNN-Classifier-Exp...</td>\n",
       "      <td>NaN</td>\n",
       "      <td>NaN</td>\n",
       "      <td>NaN</td>\n",
       "      <td>...</td>\n",
       "      <td>NaN</td>\n",
       "      <td>NaN</td>\n",
       "      <td>NaN</td>\n",
       "      <td>NaN</td>\n",
       "      <td>NaN</td>\n",
       "      <td>NaN</td>\n",
       "      <td>NaN</td>\n",
       "      <td>NaN</td>\n",
       "      <td>NaN</td>\n",
       "      <td>NaN</td>\n",
       "    </tr>\n",
       "    <tr>\n",
       "      <th>1</th>\n",
       "      <td>training-job-1604886734-aws-training-job</td>\n",
       "      <td>Training</td>\n",
       "      <td>NaN</td>\n",
       "      <td>NaN</td>\n",
       "      <td>NaN</td>\n",
       "      <td>[sklearn-clf-3-1604886734]</td>\n",
       "      <td>[KNN-Classifier-Experiment]</td>\n",
       "      <td>arn:aws:sagemaker:us-east-1:892313895307:train...</td>\n",
       "      <td>683313688378.dkr.ecr.us-east-1.amazonaws.com/s...</td>\n",
       "      <td>1.0</td>\n",
       "      <td>...</td>\n",
       "      <td>84.7205</td>\n",
       "      <td>1.0</td>\n",
       "      <td>NaN</td>\n",
       "      <td>s3://sagemaker-us-east-1-892313895307/sklearn-...</td>\n",
       "      <td>NaN</td>\n",
       "      <td>s3://sagemaker-us-east-1-892313895307/sklearn-...</td>\n",
       "      <td>NaN</td>\n",
       "      <td>s3://sagemaker-us-east-1-892313895307/</td>\n",
       "      <td>NaN</td>\n",
       "      <td>s3://sagemaker-us-east-1-892313895307/training...</td>\n",
       "    </tr>\n",
       "  </tbody>\n",
       "</table>\n",
       "<p>2 rows × 32 columns</p>\n",
       "</div>"
      ],
      "text/plain": [
       "                         TrialComponentName    DisplayName scaling-strategy  \\\n",
       "0     TrialComponent-2020-11-09-015014-wdla  Preprocessing          min-max   \n",
       "1  training-job-1604886734-aws-training-job       Training              NaN   \n",
       "\n",
       "  training-data - MediaType  \\\n",
       "0                    s3/uri   \n",
       "1                       NaN   \n",
       "\n",
       "                               training-data - Value  \\\n",
       "0  s3://sagemaker-us-east-1-892313895307/sklearn-...   \n",
       "1                                                NaN   \n",
       "\n",
       "                                              Trials  \\\n",
       "0  [sklearn-clf-9-1604887300, sklearn-clf-7-16048...   \n",
       "1                         [sklearn-clf-3-1604886734]   \n",
       "\n",
       "                                         Experiments  \\\n",
       "0  [KNN-Classifier-Experiment, KNN-Classifier-Exp...   \n",
       "1                        [KNN-Classifier-Experiment]   \n",
       "\n",
       "                                           SourceArn  \\\n",
       "0                                                NaN   \n",
       "1  arn:aws:sagemaker:us-east-1:892313895307:train...   \n",
       "\n",
       "                                  SageMaker.ImageUri  SageMaker.InstanceCount  \\\n",
       "0                                                NaN                      NaN   \n",
       "1  683313688378.dkr.ecr.us-east-1.amazonaws.com/s...                      1.0   \n",
       "\n",
       "   ... test:accuracy - Last  test:accuracy - Count  test - MediaType  \\\n",
       "0  ...                  NaN                    NaN               NaN   \n",
       "1  ...              84.7205                    1.0               NaN   \n",
       "\n",
       "                                        test - Value train - MediaType  \\\n",
       "0                                                NaN               NaN   \n",
       "1  s3://sagemaker-us-east-1-892313895307/sklearn-...               NaN   \n",
       "\n",
       "                                       train - Value  \\\n",
       "0                                                NaN   \n",
       "1  s3://sagemaker-us-east-1-892313895307/sklearn-...   \n",
       "\n",
       "  SageMaker.DebugHookOutput - MediaType  \\\n",
       "0                                   NaN   \n",
       "1                                   NaN   \n",
       "\n",
       "        SageMaker.DebugHookOutput - Value  \\\n",
       "0                                     NaN   \n",
       "1  s3://sagemaker-us-east-1-892313895307/   \n",
       "\n",
       "   SageMaker.ModelArtifact - MediaType  \\\n",
       "0                                  NaN   \n",
       "1                                  NaN   \n",
       "\n",
       "                     SageMaker.ModelArtifact - Value  \n",
       "0                                                NaN  \n",
       "1  s3://sagemaker-us-east-1-892313895307/training...  \n",
       "\n",
       "[2 rows x 32 columns]"
      ]
     },
     "execution_count": 21,
     "metadata": {},
     "output_type": "execute_result"
    }
   ],
   "source": [
    "lineage_table.dataframe()"
   ]
  },
  {
   "cell_type": "markdown",
   "metadata": {},
   "source": [
    "### Deploy Best Model"
   ]
  },
  {
   "cell_type": "code",
   "execution_count": 22,
   "metadata": {},
   "outputs": [
    {
     "name": "stderr",
     "output_type": "stream",
     "text": [
      "INFO:botocore.utils:IMDS ENDPOINT: http://169.254.169.254/\n"
     ]
    },
    {
     "data": {
      "text/plain": [
       "'s3://sagemaker-us-east-1-892313895307/training-job-1604608548/output/model.tar.gz'"
      ]
     },
     "execution_count": 22,
     "metadata": {},
     "output_type": "execute_result"
    }
   ],
   "source": [
    "# First model is best since sorted by accuracy at the analytics step above \n",
    "best_trial_component_name = trial_component_analytics.dataframe().iloc[0]['TrialComponentName']\n",
    "best_trial_component = TrialComponent.load(best_trial_component_name)\n",
    "\n",
    "model_data = best_trial_component.output_artifacts['SageMaker.ModelArtifact'].value\n",
    "model_data"
   ]
  },
  {
   "cell_type": "code",
   "execution_count": 23,
   "metadata": {},
   "outputs": [
    {
     "data": {
      "text/plain": [
       "{'n_neighbors': '3'}"
      ]
     },
     "execution_count": 23,
     "metadata": {},
     "output_type": "execute_result"
    }
   ],
   "source": [
    "env = {'n_neighbors': str(int(best_trial_component.parameters['nneighbors']))}\n",
    "env"
   ]
  },
  {
   "cell_type": "code",
   "execution_count": 24,
   "metadata": {},
   "outputs": [],
   "source": [
    "model = SKLearnModel(entry_point='train.py',\n",
    "                     name=best_trial_component.trial_component_name,\n",
    "                     model_data=model_data,\n",
    "                     framework_version='0.23-1',\n",
    "                     role=role,\n",
    "                     env=env, \n",
    "                    )"
   ]
  },
  {
   "cell_type": "code",
   "execution_count": 25,
   "metadata": {},
   "outputs": [
    {
     "name": "stderr",
     "output_type": "stream",
     "text": [
      "INFO:botocore.utils:IMDS ENDPOINT: http://169.254.169.254/\n",
      "INFO:sagemaker.image_uris:Same images used for training and inference. Defaulting to image scope: inference.\n",
      "INFO:sagemaker:Creating model with name: training-job-1604608548-aws-training-job\n",
      "WARNING:sagemaker:Using already existing model: training-job-1604608548-aws-training-job\n",
      "INFO:sagemaker:Creating endpoint with name training-job-1604608548-aws-training-jo-2020-11-09-02-07-20-136\n"
     ]
    },
    {
     "name": "stdout",
     "output_type": "stream",
     "text": [
      "---------------!"
     ]
    },
    {
     "data": {
      "text/plain": [
       "<sagemaker.sklearn.model.SKLearnPredictor at 0x7fe2973f6f10>"
      ]
     },
     "execution_count": 25,
     "metadata": {},
     "output_type": "execute_result"
    }
   ],
   "source": [
    "model.deploy(instance_type='ml.m5.large', \n",
    "             initial_instance_count=1)"
   ]
  },
  {
   "cell_type": "code",
   "execution_count": null,
   "metadata": {},
   "outputs": [],
   "source": []
  },
  {
   "cell_type": "code",
   "execution_count": null,
   "metadata": {},
   "outputs": [],
   "source": []
  }
 ],
 "metadata": {
  "instance_type": "ml.t3.medium",
  "kernelspec": {
   "display_name": "Python 3 (Data Science)",
   "language": "python",
   "name": "python3__SAGEMAKER_INTERNAL__arn:aws:sagemaker:us-east-1:081325390199:image/datascience-1.0"
  },
  "language_info": {
   "codemirror_mode": {
    "name": "ipython",
    "version": 3
   },
   "file_extension": ".py",
   "mimetype": "text/x-python",
   "name": "python",
   "nbconvert_exporter": "python",
   "pygments_lexer": "ipython3",
   "version": "3.7.6"
  }
 },
 "nbformat": 4,
 "nbformat_minor": 4
}
