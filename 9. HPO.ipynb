{
 "cells": [
  {
   "cell_type": "markdown",
   "metadata": {},
   "source": [
    "## Perform Hyper-Parameter Optimization using SageMaker Tuning Jobs"
   ]
  },
  {
   "cell_type": "markdown",
   "metadata": {},
   "source": [
    "### Imports "
   ]
  },
  {
   "cell_type": "code",
   "execution_count": 10,
   "metadata": {},
   "outputs": [],
   "source": [
    "# ML Imports \n",
    "from sklearn.preprocessing import LabelEncoder, MinMaxScaler\n",
    "from sklearn.model_selection import train_test_split\n",
    "import pandas as pd\n",
    "import numpy as np\n",
    "import json\n",
    "import os\n",
    "\n",
    "# AWS Imports \n",
    "from sagemaker.tuner import IntegerParameter, CategoricalParameter, ContinuousParameter, HyperparameterTuner\n",
    "from sagemaker.serializers import CSVSerializer\n",
    "from sagemaker.inputs import TrainingInput\n",
    "from sagemaker import get_execution_role\n",
    "import sagemaker\n",
    "import boto3"
   ]
  },
  {
   "cell_type": "markdown",
   "metadata": {},
   "source": [
    "### 2. Essentials "
   ]
  },
  {
   "cell_type": "code",
   "execution_count": 3,
   "metadata": {},
   "outputs": [
    {
     "name": "stdout",
     "output_type": "stream",
     "text": [
      "Role = arn:aws:iam::892313895307:role/service-role/AmazonSageMaker-ExecutionRole-20200826T084395\n"
     ]
    }
   ],
   "source": [
    "# Get the Execution Role for this Notebook and AWS Session to create Clients\n",
    "sagemaker_execution_role = get_execution_role()\n",
    "print('Role = {}'.format(sagemaker_execution_role))\n",
    "session = boto3.Session()\n",
    "\n",
    "# Clients and Resources\n",
    "s3 = session.resource('s3')\n",
    "sagemaker_session = sagemaker.Session()\n",
    "sagemaker_client = boto3.client('sagemaker')\n",
    "\n",
    "BUCKET = 'sagemaker-demo-892313895307' # USE YOUR ACCOUNT ID OR INITIALS AS SUFFIX\n",
    "PREFIX = 'xgboost-clf'"
   ]
  },
  {
   "cell_type": "markdown",
   "metadata": {},
   "source": [
    "##### Upload Train & Test Sets to S3 and Create Pointers to Data"
   ]
  },
  {
   "cell_type": "code",
   "execution_count": 4,
   "metadata": {},
   "outputs": [
    {
     "data": {
      "text/plain": [
       "s3.Bucket(name='sagemaker-demo-892313895307')"
      ]
     },
     "execution_count": 4,
     "metadata": {},
     "output_type": "execute_result"
    }
   ],
   "source": [
    "s3.create_bucket(Bucket=BUCKET)"
   ]
  },
  {
   "cell_type": "code",
   "execution_count": 7,
   "metadata": {},
   "outputs": [],
   "source": [
    "s3.Bucket(BUCKET).Object(os.path.join(PREFIX, 'train/train.csv')).upload_file('./DATA/train/train.csv')\n",
    "s3.Bucket(BUCKET).Object(os.path.join(PREFIX, 'test/test.csv')).upload_file('./DATA/test/test.csv')\n",
    "s3.Bucket(BUCKET).Object(os.path.join(PREFIX, 'batch_test/batch_test.csv')).upload_file('./DATA/batch_test/batch_test.csv')\n",
    "\n"
   ]
  },
  {
   "cell_type": "markdown",
   "metadata": {},
   "source": [
    "##### Create Pointers to the uploaded files "
   ]
  },
  {
   "cell_type": "code",
   "execution_count": 8,
   "metadata": {},
   "outputs": [],
   "source": [
    "train_set_location = 's3://{}/{}/train/'.format(BUCKET, PREFIX)\n",
    "test_set_location = 's3://{}/{}/test/'.format(BUCKET, PREFIX)"
   ]
  },
  {
   "cell_type": "code",
   "execution_count": 9,
   "metadata": {},
   "outputs": [
    {
     "name": "stdout",
     "output_type": "stream",
     "text": [
      "s3://sagemaker-demo-892313895307/xgboost-clf/train/\n",
      "s3://sagemaker-demo-892313895307/xgboost-clf/test/\n"
     ]
    }
   ],
   "source": [
    "print(train_set_location)\n",
    "print(test_set_location)"
   ]
  },
  {
   "cell_type": "code",
   "execution_count": 11,
   "metadata": {},
   "outputs": [],
   "source": [
    "train_set_pointer = TrainingInput(s3_data=train_set_location, content_type='csv')\n",
    "test_set_pointer = TrainingInput(s3_data=test_set_location, content_type='csv')"
   ]
  },
  {
   "cell_type": "code",
   "execution_count": 12,
   "metadata": {},
   "outputs": [
    {
     "name": "stdout",
     "output_type": "stream",
     "text": [
      "{\n",
      "  \"config\": {\n",
      "    \"DataSource\": {\n",
      "      \"S3DataSource\": {\n",
      "        \"S3DataType\": \"S3Prefix\",\n",
      "        \"S3Uri\": \"s3://sagemaker-demo-892313895307/xgboost-clf/train/\",\n",
      "        \"S3DataDistributionType\": \"FullyReplicated\"\n",
      "      }\n",
      "    },\n",
      "    \"ContentType\": \"csv\"\n",
      "  }\n",
      "}\n"
     ]
    }
   ],
   "source": [
    "print(json.dumps(train_set_pointer.__dict__, indent=2))"
   ]
  },
  {
   "cell_type": "markdown",
   "metadata": {},
   "source": [
    "### 3. Train a Model using SageMaker + Built-in XgBoost Algorithm"
   ]
  },
  {
   "cell_type": "code",
   "execution_count": 13,
   "metadata": {},
   "outputs": [],
   "source": [
    "container_uri = sagemaker.image_uris.retrieve(region=session.region_name, \n",
    "                                              framework='xgboost', \n",
    "                                              version='1.0-1', \n",
    "                                              image_scope='training')"
   ]
  },
  {
   "cell_type": "code",
   "execution_count": 14,
   "metadata": {},
   "outputs": [],
   "source": [
    "xgb = sagemaker.estimator.Estimator(image_uri=container_uri,\n",
    "                                    role=sagemaker_execution_role, \n",
    "                                    instance_count=1, \n",
    "                                    instance_type='ml.m5.large',\n",
    "                                    output_path='s3://{}/{}/model-artifacts'.format(BUCKET, PREFIX),\n",
    "                                    sagemaker_session=sagemaker_session,\n",
    "                                    base_job_name='clf-xgboost')"
   ]
  },
  {
   "cell_type": "code",
   "execution_count": 15,
   "metadata": {},
   "outputs": [],
   "source": [
    "xgb.set_hyperparameters(objective='binary:logistic',\n",
    "                        num_round=100)"
   ]
  },
  {
   "cell_type": "code",
   "execution_count": 16,
   "metadata": {},
   "outputs": [],
   "source": [
    "hyperparameter_ranges = {'eta': ContinuousParameter(0, 1),\n",
    "                         'min_child_weight': ContinuousParameter(1, 10),\n",
    "                         'alpha': ContinuousParameter(0, 2),\n",
    "                         'max_depth': IntegerParameter(1, 10)}"
   ]
  },
  {
   "cell_type": "code",
   "execution_count": 17,
   "metadata": {},
   "outputs": [],
   "source": [
    "objective_metric_name = 'validation:accuracy'"
   ]
  },
  {
   "cell_type": "code",
   "execution_count": 18,
   "metadata": {},
   "outputs": [],
   "source": [
    "tuner = HyperparameterTuner(xgb,\n",
    "                            objective_metric_name,\n",
    "                            hyperparameter_ranges,\n",
    "                            max_jobs=10,\n",
    "                            max_parallel_jobs=5)"
   ]
  },
  {
   "cell_type": "code",
   "execution_count": 19,
   "metadata": {},
   "outputs": [
    {
     "name": "stdout",
     "output_type": "stream",
     "text": [
      "................................................................................................................!\n"
     ]
    }
   ],
   "source": [
    "tuner.fit({'train': train_set_pointer, \n",
    "           'validation': test_set_pointer}, \n",
    "          include_cls_metadata=False)"
   ]
  },
  {
   "cell_type": "code",
   "execution_count": 20,
   "metadata": {},
   "outputs": [
    {
     "data": {
      "text/plain": [
       "'sagemaker-xgboost-201109-0251'"
      ]
     },
     "execution_count": 20,
     "metadata": {},
     "output_type": "execute_result"
    }
   ],
   "source": [
    "hpo_job_name = tuner.latest_tuning_job.job_name\n",
    "hpo_job_name"
   ]
  },
  {
   "cell_type": "code",
   "execution_count": 21,
   "metadata": {},
   "outputs": [
    {
     "data": {
      "text/plain": [
       "'Completed'"
      ]
     },
     "execution_count": 21,
     "metadata": {},
     "output_type": "execute_result"
    }
   ],
   "source": [
    "tuning_job_results = sagemaker_client.describe_hyper_parameter_tuning_job(HyperParameterTuningJobName=hpo_job_name)\n",
    "status = tuning_job_results['HyperParameterTuningJobStatus']\n",
    "status"
   ]
  },
  {
   "cell_type": "code",
   "execution_count": 22,
   "metadata": {},
   "outputs": [
    {
     "data": {
      "text/plain": [
       "{'TrainingJobName': 'sagemaker-xgboost-201109-0251-006-b67ff3a6',\n",
       " 'TrainingJobArn': 'arn:aws:sagemaker:us-east-1:892313895307:training-job/sagemaker-xgboost-201109-0251-006-b67ff3a6',\n",
       " 'CreationTime': datetime.datetime(2020, 11, 9, 2, 56, 9, tzinfo=tzlocal()),\n",
       " 'TrainingStartTime': datetime.datetime(2020, 11, 9, 2, 58, 24, tzinfo=tzlocal()),\n",
       " 'TrainingEndTime': datetime.datetime(2020, 11, 9, 2, 59, 35, tzinfo=tzlocal()),\n",
       " 'TrainingJobStatus': 'Completed',\n",
       " 'TunedHyperParameters': {'alpha': '0.4370194182464262',\n",
       "  'eta': '0.1472495646102641',\n",
       "  'max_depth': '1',\n",
       "  'min_child_weight': '1.2354284387255998'},\n",
       " 'FinalHyperParameterTuningJobObjectiveMetric': {'MetricName': 'validation:accuracy',\n",
       "  'Value': 0.7961400151252747},\n",
       " 'ObjectiveStatus': 'Succeeded'}"
      ]
     },
     "execution_count": 22,
     "metadata": {},
     "output_type": "execute_result"
    }
   ],
   "source": [
    "best_training_job = tuning_job_results['BestTrainingJob']\n",
    "best_training_job"
   ]
  },
  {
   "cell_type": "markdown",
   "metadata": {},
   "source": [
    "### 4. Evaluate Results\n",
    "We can list hyperparameters and objective metrics of all training jobs and pick up the training job with the best objective metric."
   ]
  },
  {
   "cell_type": "code",
   "execution_count": 23,
   "metadata": {},
   "outputs": [],
   "source": [
    "tuner = sagemaker.HyperparameterTuningJobAnalytics(hpo_job_name)\n",
    "hpo_results_df = tuner.dataframe()"
   ]
  },
  {
   "cell_type": "code",
   "execution_count": 24,
   "metadata": {},
   "outputs": [
    {
     "data": {
      "text/html": [
       "<div>\n",
       "<style scoped>\n",
       "    .dataframe tbody tr th:only-of-type {\n",
       "        vertical-align: middle;\n",
       "    }\n",
       "\n",
       "    .dataframe tbody tr th {\n",
       "        vertical-align: top;\n",
       "    }\n",
       "\n",
       "    .dataframe thead th {\n",
       "        text-align: right;\n",
       "    }\n",
       "</style>\n",
       "<table border=\"1\" class=\"dataframe\">\n",
       "  <thead>\n",
       "    <tr style=\"text-align: right;\">\n",
       "      <th></th>\n",
       "      <th>alpha</th>\n",
       "      <th>eta</th>\n",
       "      <th>max_depth</th>\n",
       "      <th>min_child_weight</th>\n",
       "      <th>TrainingJobName</th>\n",
       "      <th>TrainingJobStatus</th>\n",
       "      <th>FinalObjectiveValue</th>\n",
       "      <th>TrainingStartTime</th>\n",
       "      <th>TrainingEndTime</th>\n",
       "      <th>TrainingElapsedTimeSeconds</th>\n",
       "    </tr>\n",
       "  </thead>\n",
       "  <tbody>\n",
       "    <tr>\n",
       "      <th>0</th>\n",
       "      <td>1.133370</td>\n",
       "      <td>0.022724</td>\n",
       "      <td>7.0</td>\n",
       "      <td>8.984360</td>\n",
       "      <td>sagemaker-xgboost-201109-0251-010-bdc973d6</td>\n",
       "      <td>Completed</td>\n",
       "      <td>0.79614</td>\n",
       "      <td>2020-11-09 03:00:04+00:00</td>\n",
       "      <td>2020-11-09 03:01:15+00:00</td>\n",
       "      <td>71.0</td>\n",
       "    </tr>\n",
       "    <tr>\n",
       "      <th>1</th>\n",
       "      <td>1.215318</td>\n",
       "      <td>0.588947</td>\n",
       "      <td>1.0</td>\n",
       "      <td>4.843240</td>\n",
       "      <td>sagemaker-xgboost-201109-0251-009-ab27c289</td>\n",
       "      <td>Completed</td>\n",
       "      <td>0.79614</td>\n",
       "      <td>2020-11-09 02:58:24+00:00</td>\n",
       "      <td>2020-11-09 02:59:37+00:00</td>\n",
       "      <td>73.0</td>\n",
       "    </tr>\n",
       "    <tr>\n",
       "      <th>2</th>\n",
       "      <td>1.055528</td>\n",
       "      <td>0.462787</td>\n",
       "      <td>2.0</td>\n",
       "      <td>4.617471</td>\n",
       "      <td>sagemaker-xgboost-201109-0251-008-14e5e263</td>\n",
       "      <td>Completed</td>\n",
       "      <td>0.79534</td>\n",
       "      <td>2020-11-09 02:58:34+00:00</td>\n",
       "      <td>2020-11-09 02:59:43+00:00</td>\n",
       "      <td>69.0</td>\n",
       "    </tr>\n",
       "    <tr>\n",
       "      <th>3</th>\n",
       "      <td>1.522080</td>\n",
       "      <td>0.168720</td>\n",
       "      <td>2.0</td>\n",
       "      <td>1.006670</td>\n",
       "      <td>sagemaker-xgboost-201109-0251-007-8ae3987a</td>\n",
       "      <td>Completed</td>\n",
       "      <td>0.79574</td>\n",
       "      <td>2020-11-09 02:58:31+00:00</td>\n",
       "      <td>2020-11-09 02:59:46+00:00</td>\n",
       "      <td>75.0</td>\n",
       "    </tr>\n",
       "    <tr>\n",
       "      <th>4</th>\n",
       "      <td>0.437019</td>\n",
       "      <td>0.147250</td>\n",
       "      <td>1.0</td>\n",
       "      <td>1.235428</td>\n",
       "      <td>sagemaker-xgboost-201109-0251-006-b67ff3a6</td>\n",
       "      <td>Completed</td>\n",
       "      <td>0.79614</td>\n",
       "      <td>2020-11-09 02:58:24+00:00</td>\n",
       "      <td>2020-11-09 02:59:35+00:00</td>\n",
       "      <td>71.0</td>\n",
       "    </tr>\n",
       "    <tr>\n",
       "      <th>5</th>\n",
       "      <td>1.920099</td>\n",
       "      <td>0.854157</td>\n",
       "      <td>4.0</td>\n",
       "      <td>3.046718</td>\n",
       "      <td>sagemaker-xgboost-201109-0251-005-d23e9bd7</td>\n",
       "      <td>Completed</td>\n",
       "      <td>0.77161</td>\n",
       "      <td>2020-11-09 02:54:21+00:00</td>\n",
       "      <td>2020-11-09 02:55:31+00:00</td>\n",
       "      <td>70.0</td>\n",
       "    </tr>\n",
       "    <tr>\n",
       "      <th>6</th>\n",
       "      <td>1.295331</td>\n",
       "      <td>0.209690</td>\n",
       "      <td>8.0</td>\n",
       "      <td>8.753706</td>\n",
       "      <td>sagemaker-xgboost-201109-0251-004-812f9995</td>\n",
       "      <td>Completed</td>\n",
       "      <td>0.79292</td>\n",
       "      <td>2020-11-09 02:54:33+00:00</td>\n",
       "      <td>2020-11-09 02:57:16+00:00</td>\n",
       "      <td>163.0</td>\n",
       "    </tr>\n",
       "    <tr>\n",
       "      <th>7</th>\n",
       "      <td>0.257386</td>\n",
       "      <td>0.932444</td>\n",
       "      <td>10.0</td>\n",
       "      <td>2.300000</td>\n",
       "      <td>sagemaker-xgboost-201109-0251-003-d00a6d40</td>\n",
       "      <td>Completed</td>\n",
       "      <td>0.73583</td>\n",
       "      <td>2020-11-09 02:54:19+00:00</td>\n",
       "      <td>2020-11-09 02:55:31+00:00</td>\n",
       "      <td>72.0</td>\n",
       "    </tr>\n",
       "    <tr>\n",
       "      <th>8</th>\n",
       "      <td>0.417937</td>\n",
       "      <td>0.013581</td>\n",
       "      <td>3.0</td>\n",
       "      <td>1.129578</td>\n",
       "      <td>sagemaker-xgboost-201109-0251-002-85c197ab</td>\n",
       "      <td>Completed</td>\n",
       "      <td>0.79534</td>\n",
       "      <td>2020-11-09 02:54:39+00:00</td>\n",
       "      <td>2020-11-09 02:55:44+00:00</td>\n",
       "      <td>65.0</td>\n",
       "    </tr>\n",
       "    <tr>\n",
       "      <th>9</th>\n",
       "      <td>1.563565</td>\n",
       "      <td>0.757821</td>\n",
       "      <td>8.0</td>\n",
       "      <td>9.645825</td>\n",
       "      <td>sagemaker-xgboost-201109-0251-001-06aab40d</td>\n",
       "      <td>Completed</td>\n",
       "      <td>0.76679</td>\n",
       "      <td>2020-11-09 02:54:12+00:00</td>\n",
       "      <td>2020-11-09 02:55:26+00:00</td>\n",
       "      <td>74.0</td>\n",
       "    </tr>\n",
       "  </tbody>\n",
       "</table>\n",
       "</div>"
      ],
      "text/plain": [
       "      alpha       eta  max_depth  min_child_weight  \\\n",
       "0  1.133370  0.022724        7.0          8.984360   \n",
       "1  1.215318  0.588947        1.0          4.843240   \n",
       "2  1.055528  0.462787        2.0          4.617471   \n",
       "3  1.522080  0.168720        2.0          1.006670   \n",
       "4  0.437019  0.147250        1.0          1.235428   \n",
       "5  1.920099  0.854157        4.0          3.046718   \n",
       "6  1.295331  0.209690        8.0          8.753706   \n",
       "7  0.257386  0.932444       10.0          2.300000   \n",
       "8  0.417937  0.013581        3.0          1.129578   \n",
       "9  1.563565  0.757821        8.0          9.645825   \n",
       "\n",
       "                              TrainingJobName TrainingJobStatus  \\\n",
       "0  sagemaker-xgboost-201109-0251-010-bdc973d6         Completed   \n",
       "1  sagemaker-xgboost-201109-0251-009-ab27c289         Completed   \n",
       "2  sagemaker-xgboost-201109-0251-008-14e5e263         Completed   \n",
       "3  sagemaker-xgboost-201109-0251-007-8ae3987a         Completed   \n",
       "4  sagemaker-xgboost-201109-0251-006-b67ff3a6         Completed   \n",
       "5  sagemaker-xgboost-201109-0251-005-d23e9bd7         Completed   \n",
       "6  sagemaker-xgboost-201109-0251-004-812f9995         Completed   \n",
       "7  sagemaker-xgboost-201109-0251-003-d00a6d40         Completed   \n",
       "8  sagemaker-xgboost-201109-0251-002-85c197ab         Completed   \n",
       "9  sagemaker-xgboost-201109-0251-001-06aab40d         Completed   \n",
       "\n",
       "   FinalObjectiveValue         TrainingStartTime           TrainingEndTime  \\\n",
       "0              0.79614 2020-11-09 03:00:04+00:00 2020-11-09 03:01:15+00:00   \n",
       "1              0.79614 2020-11-09 02:58:24+00:00 2020-11-09 02:59:37+00:00   \n",
       "2              0.79534 2020-11-09 02:58:34+00:00 2020-11-09 02:59:43+00:00   \n",
       "3              0.79574 2020-11-09 02:58:31+00:00 2020-11-09 02:59:46+00:00   \n",
       "4              0.79614 2020-11-09 02:58:24+00:00 2020-11-09 02:59:35+00:00   \n",
       "5              0.77161 2020-11-09 02:54:21+00:00 2020-11-09 02:55:31+00:00   \n",
       "6              0.79292 2020-11-09 02:54:33+00:00 2020-11-09 02:57:16+00:00   \n",
       "7              0.73583 2020-11-09 02:54:19+00:00 2020-11-09 02:55:31+00:00   \n",
       "8              0.79534 2020-11-09 02:54:39+00:00 2020-11-09 02:55:44+00:00   \n",
       "9              0.76679 2020-11-09 02:54:12+00:00 2020-11-09 02:55:26+00:00   \n",
       "\n",
       "   TrainingElapsedTimeSeconds  \n",
       "0                        71.0  \n",
       "1                        73.0  \n",
       "2                        69.0  \n",
       "3                        75.0  \n",
       "4                        71.0  \n",
       "5                        70.0  \n",
       "6                       163.0  \n",
       "7                        72.0  \n",
       "8                        65.0  \n",
       "9                        74.0  "
      ]
     },
     "execution_count": 24,
     "metadata": {},
     "output_type": "execute_result"
    }
   ],
   "source": [
    "hpo_results_df"
   ]
  },
  {
   "cell_type": "code",
   "execution_count": null,
   "metadata": {},
   "outputs": [],
   "source": []
  }
 ],
 "metadata": {
  "instance_type": "ml.t3.medium",
  "kernelspec": {
   "display_name": "Python 3 (Data Science)",
   "language": "python",
   "name": "python3__SAGEMAKER_INTERNAL__arn:aws:sagemaker:us-east-1:081325390199:image/datascience-1.0"
  },
  "language_info": {
   "codemirror_mode": {
    "name": "ipython",
    "version": 3
   },
   "file_extension": ".py",
   "mimetype": "text/x-python",
   "name": "python",
   "nbconvert_exporter": "python",
   "pygments_lexer": "ipython3",
   "version": "3.7.6"
  }
 },
 "nbformat": 4,
 "nbformat_minor": 4
}
