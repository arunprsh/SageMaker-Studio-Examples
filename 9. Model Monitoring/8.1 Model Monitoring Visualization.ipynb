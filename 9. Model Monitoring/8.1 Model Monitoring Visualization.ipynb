{
 "cells": [
  {
   "cell_type": "markdown",
   "metadata": {},
   "source": [
    "# SageMaker Model Monitor - Visualizing Monitoring Results\n",
    "\n",
    "\n",
    "The prebuilt container from SageMaker computes a variety of statistics and evaluates constraints out of the box. This notebook demonstrates how you can visualize them. You can grab the ProcessingJob arn from the executions behind a MonitoringSchedule and use this notebook to visualize the results.\n",
    "\n",
    "Let's import some python libraries that will be helpful for visualization"
   ]
  },
  {
   "cell_type": "code",
   "execution_count": 1,
   "metadata": {},
   "outputs": [],
   "source": [
    "from sagemaker.model_monitor import MonitoringExecution\n",
    "from IPython.display import HTML, display\n",
    "from sagemaker.s3 import S3Downloader\n",
    "from sagemaker import session\n",
    "import utils as mu\n",
    "import sagemaker\n",
    "import boto3\n",
    "import json\n",
    "import os"
   ]
  },
  {
   "cell_type": "markdown",
   "metadata": {},
   "source": [
    "## Get Execution and Baseline Details from Processing Job Arn\n",
    "\n",
    "Enter the ProcessingJob arn for an execution of a MonitoringSchedule below to get the result files associated with that execution"
   ]
  },
  {
   "cell_type": "code",
   "execution_count": 2,
   "metadata": {},
   "outputs": [],
   "source": [
    "# CHANGE THIS (Copy ARN from SageMaker Console under Processing Jobs)\n",
    "processing_job_arn = \"arn:aws:sagemaker:us-east-1:892313895307:processing-job/model-monitoring-202011090300-905d6d616c81f943ffe9aa1b\""
   ]
  },
  {
   "cell_type": "code",
   "execution_count": 3,
   "metadata": {},
   "outputs": [],
   "source": [
    "execution = MonitoringExecution.from_processing_arn(sagemaker_session=session.Session(), \n",
    "                                                    processing_job_arn=processing_job_arn)\n",
    "\n",
    "exec_inputs = {inp['InputName']: inp for inp in execution.describe()['ProcessingInputs']}\n",
    "exec_results = execution.output.destination"
   ]
  },
  {
   "cell_type": "code",
   "execution_count": 4,
   "metadata": {},
   "outputs": [],
   "source": [
    "baseline_statistics_filepath = exec_inputs['baseline']['S3Input']['S3Uri'] if 'baseline' in exec_inputs else None\n",
    "execution_statistics_filepath = os.path.join(exec_results, 'statistics.json')\n",
    "violations_filepath = os.path.join(exec_results, 'constraint_violations.json')\n",
    "\n",
    "baseline_statistics = json.loads(S3Downloader.read_file(baseline_statistics_filepath)) if baseline_statistics_filepath is not None else None\n",
    "execution_statistics = json.loads(S3Downloader.read_file(execution_statistics_filepath))\n",
    "violations = json.loads(S3Downloader.read_file(violations_filepath))['violations']"
   ]
  },
  {
   "cell_type": "markdown",
   "metadata": {},
   "source": [
    "## Overview\n",
    "\n",
    "The code below shows the violations and constraint checks across all features in a simple table."
   ]
  },
  {
   "cell_type": "code",
   "execution_count": 5,
   "metadata": {},
   "outputs": [
    {
     "data": {
      "text/html": [
       "<style  type=\"text/css\" >\n",
       "    #T_20457bc4_223c_11eb_b462_b54251bcbd0erow0_col0 {\n",
       "            background-color:  white;\n",
       "            background-color:  #1e2935;\n",
       "            background-color:  #1e2935;\n",
       "        }    #T_20457bc4_223c_11eb_b462_b54251bcbd0erow0_col1 {\n",
       "            background-color:  white;\n",
       "            background-color:  #1e2935;\n",
       "            : ;\n",
       "        }    #T_20457bc4_223c_11eb_b462_b54251bcbd0erow0_col2 {\n",
       "            background-color:  white;\n",
       "            background-color:  #1e2935;\n",
       "            : ;\n",
       "        }    #T_20457bc4_223c_11eb_b462_b54251bcbd0erow0_col3 {\n",
       "            background-color:  white;\n",
       "            background-color:  #1e2935;\n",
       "            : ;\n",
       "        }    #T_20457bc4_223c_11eb_b462_b54251bcbd0erow1_col0 {\n",
       "            background-color:  white;\n",
       "            background-color:  #1e2935;\n",
       "            background-color:  #1e2935;\n",
       "        }    #T_20457bc4_223c_11eb_b462_b54251bcbd0erow1_col1 {\n",
       "            background-color:  white;\n",
       "            background-color:  #1e2935;\n",
       "            : ;\n",
       "        }    #T_20457bc4_223c_11eb_b462_b54251bcbd0erow1_col2 {\n",
       "            background-color:  white;\n",
       "            background-color:  #1e2935;\n",
       "            : ;\n",
       "        }    #T_20457bc4_223c_11eb_b462_b54251bcbd0erow1_col3 {\n",
       "            background-color:  white;\n",
       "            background-color:  #1e2935;\n",
       "            : ;\n",
       "        }    #T_20457bc4_223c_11eb_b462_b54251bcbd0erow2_col0 {\n",
       "            background-color:  white;\n",
       "            background-color:  #1e2935;\n",
       "            background-color:  #1e2935;\n",
       "        }    #T_20457bc4_223c_11eb_b462_b54251bcbd0erow2_col1 {\n",
       "            background-color:  white;\n",
       "            background-color:  #1e2935;\n",
       "            : ;\n",
       "        }    #T_20457bc4_223c_11eb_b462_b54251bcbd0erow2_col2 {\n",
       "            background-color:  white;\n",
       "            background-color:  #1e2935;\n",
       "            : ;\n",
       "        }    #T_20457bc4_223c_11eb_b462_b54251bcbd0erow2_col3 {\n",
       "            background-color:  white;\n",
       "            background-color:  #1e2935;\n",
       "            : ;\n",
       "        }    #T_20457bc4_223c_11eb_b462_b54251bcbd0erow3_col0 {\n",
       "            background-color:  white;\n",
       "            background-color:  #1e2935;\n",
       "            background-color:  #1e2935;\n",
       "        }    #T_20457bc4_223c_11eb_b462_b54251bcbd0erow3_col1 {\n",
       "            background-color:  white;\n",
       "            background-color:  #1e2935;\n",
       "            : ;\n",
       "        }    #T_20457bc4_223c_11eb_b462_b54251bcbd0erow3_col2 {\n",
       "            background-color:  white;\n",
       "            background-color:  #1e2935;\n",
       "            : ;\n",
       "        }    #T_20457bc4_223c_11eb_b462_b54251bcbd0erow3_col3 {\n",
       "            background-color:  white;\n",
       "            background-color:  #1e2935;\n",
       "            : ;\n",
       "        }    #T_20457bc4_223c_11eb_b462_b54251bcbd0erow4_col0 {\n",
       "            background-color:  white;\n",
       "            background-color:  #1e2935;\n",
       "            background-color:  #1e2935;\n",
       "        }    #T_20457bc4_223c_11eb_b462_b54251bcbd0erow4_col1 {\n",
       "            background-color:  white;\n",
       "            background-color:  #1e2935;\n",
       "            : ;\n",
       "        }    #T_20457bc4_223c_11eb_b462_b54251bcbd0erow4_col2 {\n",
       "            background-color:  white;\n",
       "            background-color:  #1e2935;\n",
       "            : ;\n",
       "        }    #T_20457bc4_223c_11eb_b462_b54251bcbd0erow4_col3 {\n",
       "            background-color:  white;\n",
       "            background-color:  #1e2935;\n",
       "            : ;\n",
       "        }</style><table id=\"T_20457bc4_223c_11eb_b462_b54251bcbd0e\" ><thead>    <tr>        <th class=\"blank level0\" ></th>        <th class=\"col_heading level0 col0\" >data_type</th>        <th class=\"col_heading level0 col1\" >completeness</th>        <th class=\"col_heading level0 col2\" >baseline_drift</th>        <th class=\"col_heading level0 col3\" >categorical_values</th>    </tr></thead><tbody>\n",
       "                <tr>\n",
       "                        <th id=\"T_20457bc4_223c_11eb_b462_b54251bcbd0elevel0_row0\" class=\"row_heading level0 row0\" >bmi</th>\n",
       "                        <td id=\"T_20457bc4_223c_11eb_b462_b54251bcbd0erow0_col0\" class=\"data row0 col0\" >Fractional</td>\n",
       "                        <td id=\"T_20457bc4_223c_11eb_b462_b54251bcbd0erow0_col1\" class=\"data row0 col1\" >100.00%</td>\n",
       "                        <td id=\"T_20457bc4_223c_11eb_b462_b54251bcbd0erow0_col2\" class=\"data row0 col2\" >N/A</td>\n",
       "                        <td id=\"T_20457bc4_223c_11eb_b462_b54251bcbd0erow0_col3\" class=\"data row0 col3\" >N/A</td>\n",
       "            </tr>\n",
       "            <tr>\n",
       "                        <th id=\"T_20457bc4_223c_11eb_b462_b54251bcbd0elevel0_row1\" class=\"row_heading level0 row1\" >class</th>\n",
       "                        <td id=\"T_20457bc4_223c_11eb_b462_b54251bcbd0erow1_col0\" class=\"data row1 col0\" >Fractional</td>\n",
       "                        <td id=\"T_20457bc4_223c_11eb_b462_b54251bcbd0erow1_col1\" class=\"data row1 col1\" >100.00%</td>\n",
       "                        <td id=\"T_20457bc4_223c_11eb_b462_b54251bcbd0erow1_col2\" class=\"data row1 col2\" >N/A</td>\n",
       "                        <td id=\"T_20457bc4_223c_11eb_b462_b54251bcbd0erow1_col3\" class=\"data row1 col3\" >N/A</td>\n",
       "            </tr>\n",
       "            <tr>\n",
       "                        <th id=\"T_20457bc4_223c_11eb_b462_b54251bcbd0elevel0_row2\" class=\"row_heading level0 row2\" >diastolic_bp_change</th>\n",
       "                        <td id=\"T_20457bc4_223c_11eb_b462_b54251bcbd0erow2_col0\" class=\"data row2 col0\" >Fractional</td>\n",
       "                        <td id=\"T_20457bc4_223c_11eb_b462_b54251bcbd0erow2_col1\" class=\"data row2 col1\" >100.00%</td>\n",
       "                        <td id=\"T_20457bc4_223c_11eb_b462_b54251bcbd0erow2_col2\" class=\"data row2 col2\" >N/A</td>\n",
       "                        <td id=\"T_20457bc4_223c_11eb_b462_b54251bcbd0erow2_col3\" class=\"data row2 col3\" >N/A</td>\n",
       "            </tr>\n",
       "            <tr>\n",
       "                        <th id=\"T_20457bc4_223c_11eb_b462_b54251bcbd0elevel0_row3\" class=\"row_heading level0 row3\" >respiratory_rate</th>\n",
       "                        <td id=\"T_20457bc4_223c_11eb_b462_b54251bcbd0erow3_col0\" class=\"data row3 col0\" >Fractional</td>\n",
       "                        <td id=\"T_20457bc4_223c_11eb_b462_b54251bcbd0erow3_col1\" class=\"data row3 col1\" >100.00%</td>\n",
       "                        <td id=\"T_20457bc4_223c_11eb_b462_b54251bcbd0erow3_col2\" class=\"data row3 col2\" >N/A</td>\n",
       "                        <td id=\"T_20457bc4_223c_11eb_b462_b54251bcbd0erow3_col3\" class=\"data row3 col3\" >N/A</td>\n",
       "            </tr>\n",
       "            <tr>\n",
       "                        <th id=\"T_20457bc4_223c_11eb_b462_b54251bcbd0elevel0_row4\" class=\"row_heading level0 row4\" >systolic_bp_change</th>\n",
       "                        <td id=\"T_20457bc4_223c_11eb_b462_b54251bcbd0erow4_col0\" class=\"data row4 col0\" >Fractional</td>\n",
       "                        <td id=\"T_20457bc4_223c_11eb_b462_b54251bcbd0erow4_col1\" class=\"data row4 col1\" >100.00%</td>\n",
       "                        <td id=\"T_20457bc4_223c_11eb_b462_b54251bcbd0erow4_col2\" class=\"data row4 col2\" >N/A</td>\n",
       "                        <td id=\"T_20457bc4_223c_11eb_b462_b54251bcbd0erow4_col3\" class=\"data row4 col3\" >N/A</td>\n",
       "            </tr>\n",
       "    </tbody></table>"
      ],
      "text/plain": [
       "<pandas.io.formats.style.Styler at 0x7f127a75d390>"
      ]
     },
     "execution_count": 5,
     "metadata": {},
     "output_type": "execute_result"
    }
   ],
   "source": [
    "mu.show_violation_df(baseline_statistics=baseline_statistics, latest_statistics=execution_statistics, violations=violations)"
   ]
  },
  {
   "cell_type": "markdown",
   "metadata": {},
   "source": [
    "## Distributions\n",
    "\n",
    "This section visualizes the distribution and renders the distribution statistics for all features"
   ]
  },
  {
   "cell_type": "code",
   "execution_count": 6,
   "metadata": {},
   "outputs": [],
   "source": [
    "features = mu.get_features(execution_statistics)\n",
    "feature_baselines = mu.get_features(baseline_statistics)"
   ]
  },
  {
   "cell_type": "code",
   "execution_count": 7,
   "metadata": {},
   "outputs": [
    {
     "data": {
      "text/html": [
       "<h3>Numerical Features</h3>"
      ],
      "text/plain": [
       "<IPython.core.display.HTML object>"
      ]
     },
     "metadata": {},
     "output_type": "display_data"
    },
    {
     "data": {
      "text/html": [
       "<div>\n",
       "<style scoped>\n",
       "    .dataframe tbody tr th:only-of-type {\n",
       "        vertical-align: middle;\n",
       "    }\n",
       "\n",
       "    .dataframe tbody tr th {\n",
       "        vertical-align: top;\n",
       "    }\n",
       "\n",
       "    .dataframe thead th {\n",
       "        text-align: right;\n",
       "    }\n",
       "</style>\n",
       "<table border=\"1\" class=\"dataframe\">\n",
       "  <thead>\n",
       "    <tr style=\"text-align: right;\">\n",
       "      <th></th>\n",
       "      <th>num_present</th>\n",
       "      <th>num_missing</th>\n",
       "      <th>mean</th>\n",
       "      <th>sum</th>\n",
       "      <th>std_dev</th>\n",
       "      <th>min</th>\n",
       "      <th>max</th>\n",
       "    </tr>\n",
       "  </thead>\n",
       "  <tbody>\n",
       "    <tr>\n",
       "      <th>class</th>\n",
       "      <td>41012</td>\n",
       "      <td>0</td>\n",
       "      <td>0.160695</td>\n",
       "      <td>6.590418e+03</td>\n",
       "      <td>0.215210</td>\n",
       "      <td>0.001820</td>\n",
       "      <td>0.895814</td>\n",
       "    </tr>\n",
       "    <tr>\n",
       "      <th>bmi</th>\n",
       "      <td>41012</td>\n",
       "      <td>0</td>\n",
       "      <td>0.729386</td>\n",
       "      <td>2.991359e+04</td>\n",
       "      <td>0.680401</td>\n",
       "      <td>-0.297257</td>\n",
       "      <td>3.000000</td>\n",
       "    </tr>\n",
       "    <tr>\n",
       "      <th>diastolic_bp_change</th>\n",
       "      <td>41012</td>\n",
       "      <td>0</td>\n",
       "      <td>33.260988</td>\n",
       "      <td>1.364100e+06</td>\n",
       "      <td>107.485178</td>\n",
       "      <td>-123.000000</td>\n",
       "      <td>345.343500</td>\n",
       "    </tr>\n",
       "    <tr>\n",
       "      <th>systolic_bp_change</th>\n",
       "      <td>41012</td>\n",
       "      <td>0</td>\n",
       "      <td>2.664386</td>\n",
       "      <td>1.092718e+05</td>\n",
       "      <td>7.434150</td>\n",
       "      <td>-0.111300</td>\n",
       "      <td>34.000000</td>\n",
       "    </tr>\n",
       "    <tr>\n",
       "      <th>respiratory_rate</th>\n",
       "      <td>41012</td>\n",
       "      <td>0</td>\n",
       "      <td>3.147425</td>\n",
       "      <td>1.290822e+05</td>\n",
       "      <td>8.468610</td>\n",
       "      <td>0.000000</td>\n",
       "      <td>34.000000</td>\n",
       "    </tr>\n",
       "  </tbody>\n",
       "</table>\n",
       "</div>"
      ],
      "text/plain": [
       "                     num_present  num_missing       mean           sum  \\\n",
       "class                      41012            0   0.160695  6.590418e+03   \n",
       "bmi                        41012            0   0.729386  2.991359e+04   \n",
       "diastolic_bp_change        41012            0  33.260988  1.364100e+06   \n",
       "systolic_bp_change         41012            0   2.664386  1.092718e+05   \n",
       "respiratory_rate           41012            0   3.147425  1.290822e+05   \n",
       "\n",
       "                        std_dev         min         max  \n",
       "class                  0.215210    0.001820    0.895814  \n",
       "bmi                    0.680401   -0.297257    3.000000  \n",
       "diastolic_bp_change  107.485178 -123.000000  345.343500  \n",
       "systolic_bp_change     7.434150   -0.111300   34.000000  \n",
       "respiratory_rate       8.468610    0.000000   34.000000  "
      ]
     },
     "metadata": {},
     "output_type": "display_data"
    },
    {
     "data": {
      "image/png": "[encoded data removed]",
      "text/plain": [
       "<Figure size 1440x288 with 5 Axes>"
      ]
     },
     "metadata": {
      "needs_background": "light"
     },
     "output_type": "display_data"
    }
   ],
   "source": [
    "mu.show_distributions(features)"
   ]
  },
  {
   "cell_type": "markdown",
   "metadata": {},
   "source": [
    "### Execution Stats vs Baseline"
   ]
  },
  {
   "cell_type": "code",
   "execution_count": 8,
   "metadata": {},
   "outputs": [
    {
     "data": {
      "text/html": [
       "<h3>Numerical Features</h3>"
      ],
      "text/plain": [
       "<IPython.core.display.HTML object>"
      ]
     },
     "metadata": {},
     "output_type": "display_data"
    },
    {
     "data": {
      "text/html": [
       "<div>\n",
       "<style scoped>\n",
       "    .dataframe tbody tr th:only-of-type {\n",
       "        vertical-align: middle;\n",
       "    }\n",
       "\n",
       "    .dataframe tbody tr th {\n",
       "        vertical-align: top;\n",
       "    }\n",
       "\n",
       "    .dataframe thead th {\n",
       "        text-align: right;\n",
       "    }\n",
       "</style>\n",
       "<table border=\"1\" class=\"dataframe\">\n",
       "  <thead>\n",
       "    <tr style=\"text-align: right;\">\n",
       "      <th></th>\n",
       "      <th>num_present</th>\n",
       "      <th>num_missing</th>\n",
       "      <th>mean</th>\n",
       "      <th>sum</th>\n",
       "      <th>std_dev</th>\n",
       "      <th>min</th>\n",
       "      <th>max</th>\n",
       "    </tr>\n",
       "  </thead>\n",
       "  <tbody>\n",
       "    <tr>\n",
       "      <th>class</th>\n",
       "      <td>41012</td>\n",
       "      <td>0</td>\n",
       "      <td>0.160695</td>\n",
       "      <td>6.590418e+03</td>\n",
       "      <td>0.215210</td>\n",
       "      <td>0.001820</td>\n",
       "      <td>0.895814</td>\n",
       "    </tr>\n",
       "    <tr>\n",
       "      <th>bmi</th>\n",
       "      <td>41012</td>\n",
       "      <td>0</td>\n",
       "      <td>0.729386</td>\n",
       "      <td>2.991359e+04</td>\n",
       "      <td>0.680401</td>\n",
       "      <td>-0.297257</td>\n",
       "      <td>3.000000</td>\n",
       "    </tr>\n",
       "    <tr>\n",
       "      <th>diastolic_bp_change</th>\n",
       "      <td>41012</td>\n",
       "      <td>0</td>\n",
       "      <td>33.260988</td>\n",
       "      <td>1.364100e+06</td>\n",
       "      <td>107.485178</td>\n",
       "      <td>-123.000000</td>\n",
       "      <td>345.343500</td>\n",
       "    </tr>\n",
       "    <tr>\n",
       "      <th>systolic_bp_change</th>\n",
       "      <td>41012</td>\n",
       "      <td>0</td>\n",
       "      <td>2.664386</td>\n",
       "      <td>1.092718e+05</td>\n",
       "      <td>7.434150</td>\n",
       "      <td>-0.111300</td>\n",
       "      <td>34.000000</td>\n",
       "    </tr>\n",
       "    <tr>\n",
       "      <th>respiratory_rate</th>\n",
       "      <td>41012</td>\n",
       "      <td>0</td>\n",
       "      <td>3.147425</td>\n",
       "      <td>1.290822e+05</td>\n",
       "      <td>8.468610</td>\n",
       "      <td>0.000000</td>\n",
       "      <td>34.000000</td>\n",
       "    </tr>\n",
       "  </tbody>\n",
       "</table>\n",
       "</div>"
      ],
      "text/plain": [
       "                     num_present  num_missing       mean           sum  \\\n",
       "class                      41012            0   0.160695  6.590418e+03   \n",
       "bmi                        41012            0   0.729386  2.991359e+04   \n",
       "diastolic_bp_change        41012            0  33.260988  1.364100e+06   \n",
       "systolic_bp_change         41012            0   2.664386  1.092718e+05   \n",
       "respiratory_rate           41012            0   3.147425  1.290822e+05   \n",
       "\n",
       "                        std_dev         min         max  \n",
       "class                  0.215210    0.001820    0.895814  \n",
       "bmi                    0.680401   -0.297257    3.000000  \n",
       "diastolic_bp_change  107.485178 -123.000000  345.343500  \n",
       "systolic_bp_change     7.434150   -0.111300   34.000000  \n",
       "respiratory_rate       8.468610    0.000000   34.000000  "
      ]
     },
     "metadata": {},
     "output_type": "display_data"
    },
    {
     "data": {
      "image/png": "[encoded data removed]",
      "text/plain": [
       "<Figure size 1440x288 with 5 Axes>"
      ]
     },
     "metadata": {
      "needs_background": "light"
     },
     "output_type": "display_data"
    }
   ],
   "source": [
    "mu.show_distributions(features, feature_baselines)"
   ]
  },
  {
   "cell_type": "code",
   "execution_count": null,
   "metadata": {},
   "outputs": [],
   "source": []
  }
 ],
 "metadata": {
  "instance_type": "ml.t3.medium",
  "kernelspec": {
   "display_name": "Python 3 (Data Science)",
   "language": "python",
   "name": "python3__SAGEMAKER_INTERNAL__arn:aws:sagemaker:us-east-1:081325390199:image/datascience-1.0"
  },
  "language_info": {
   "codemirror_mode": {
    "name": "ipython",
    "version": 3
   },
   "file_extension": ".py",
   "mimetype": "text/x-python",
   "name": "python",
   "nbconvert_exporter": "python",
   "pygments_lexer": "ipython3",
   "version": "3.7.6"
  }
 },
 "nbformat": 4,
 "nbformat_minor": 4
}
