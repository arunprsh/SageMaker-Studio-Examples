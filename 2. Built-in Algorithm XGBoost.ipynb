{
 "cells": [
  {
   "cell_type": "markdown",
   "metadata": {},
   "source": [
    "## Train XGBoost Model using SageMaker Training + Serve (Host) the Model as a SageMaker Endpoint"
   ]
  },
  {
   "cell_type": "markdown",
   "metadata": {},
   "source": [
    "### 1. Imports "
   ]
  },
  {
   "cell_type": "code",
   "execution_count": 2,
   "metadata": {},
   "outputs": [],
   "source": [
    "import pandas as pd\n",
    "import numpy as np\n",
    "import json\n",
    "import os\n",
    "\n",
    "from sagemaker.serializers import CSVSerializer\n",
    "from sagemaker.inputs import TrainingInput\n",
    "from sagemaker.predictor import Predictor\n",
    "from sagemaker import get_execution_role\n",
    "import sagemaker\n",
    "import boto3"
   ]
  },
  {
   "cell_type": "code",
   "execution_count": 3,
   "metadata": {},
   "outputs": [
    {
     "data": {
      "text/plain": [
       "'2.107.0'"
      ]
     },
     "execution_count": 3,
     "metadata": {},
     "output_type": "execute_result"
    }
   ],
   "source": [
    "sagemaker.__version__"
   ]
  },
  {
   "cell_type": "markdown",
   "metadata": {},
   "source": [
    "### 2. Essentials "
   ]
  },
  {
   "cell_type": "code",
   "execution_count": 4,
   "metadata": {},
   "outputs": [
    {
     "name": "stdout",
     "output_type": "stream",
     "text": [
      "Role = arn:aws:iam::119174016168:role/service-role/AmazonSageMaker-ExecutionRole-20211014T093628\n"
     ]
    }
   ],
   "source": [
    "# Get the Execution Role for this Notebook and AWS Session to create Clients\n",
    "sagemaker_execution_role = get_execution_role()\n",
    "print('Role = {}'.format(sagemaker_execution_role))\n",
    "session = boto3.Session()\n",
    "\n",
    "# Clients and Resources\n",
    "s3 = session.resource('s3')\n",
    "sagemaker_session = sagemaker.Session()\n",
    "\n",
    "BUCKET = sagemaker_session.default_bucket()\n",
    "PREFIX = 'clf'"
   ]
  },
  {
   "cell_type": "markdown",
   "metadata": {},
   "source": [
    "##### Upload Train & Test Sets to S3 and Create Pointers to Data"
   ]
  },
  {
   "cell_type": "code",
   "execution_count": 5,
   "metadata": {},
   "outputs": [
    {
     "data": {
      "text/plain": [
       "s3.Bucket(name='sagemaker-us-east-1-119174016168')"
      ]
     },
     "execution_count": 5,
     "metadata": {},
     "output_type": "execute_result"
    }
   ],
   "source": [
    "s3.create_bucket(Bucket=BUCKET)"
   ]
  },
  {
   "cell_type": "code",
   "execution_count": 6,
   "metadata": {},
   "outputs": [],
   "source": [
    "s3.Bucket(BUCKET).Object(os.path.join(PREFIX, 'train/train.csv')).upload_file('./DATA/train/train.csv')\n",
    "s3.Bucket(BUCKET).Object(os.path.join(PREFIX, 'test/test.csv')).upload_file('./DATA/test/test.csv')\n",
    "s3.Bucket(BUCKET).Object(os.path.join(PREFIX, 'batch_test/batch_test.csv')).upload_file('./DATA/batch_test/batch_test.csv')"
   ]
  },
  {
   "cell_type": "markdown",
   "metadata": {},
   "source": [
    "##### Create Pointers to the uploaded files "
   ]
  },
  {
   "cell_type": "code",
   "execution_count": 7,
   "metadata": {},
   "outputs": [],
   "source": [
    "train_set_location = 's3://{}/{}/train/'.format(BUCKET, PREFIX)\n",
    "test_set_location = 's3://{}/{}/test/'.format(BUCKET, PREFIX)"
   ]
  },
  {
   "cell_type": "code",
   "execution_count": 8,
   "metadata": {},
   "outputs": [
    {
     "name": "stdout",
     "output_type": "stream",
     "text": [
      "s3://sagemaker-us-east-1-119174016168/clf/train/\n",
      "s3://sagemaker-us-east-1-119174016168/clf/test/\n"
     ]
    }
   ],
   "source": [
    "print(train_set_location)\n",
    "print(test_set_location)"
   ]
  },
  {
   "cell_type": "code",
   "execution_count": 9,
   "metadata": {},
   "outputs": [],
   "source": [
    "train_set_pointer = TrainingInput(s3_data=train_set_location, content_type='csv')\n",
    "test_set_pointer = TrainingInput(s3_data=test_set_location, content_type='csv')"
   ]
  },
  {
   "cell_type": "code",
   "execution_count": 10,
   "metadata": {},
   "outputs": [
    {
     "name": "stdout",
     "output_type": "stream",
     "text": [
      "{\n",
      "  \"config\": {\n",
      "    \"DataSource\": {\n",
      "      \"S3DataSource\": {\n",
      "        \"S3DataType\": \"S3Prefix\",\n",
      "        \"S3Uri\": \"s3://sagemaker-us-east-1-119174016168/clf/train/\",\n",
      "        \"S3DataDistributionType\": \"FullyReplicated\"\n",
      "      }\n",
      "    },\n",
      "    \"ContentType\": \"csv\"\n",
      "  }\n",
      "}\n"
     ]
    }
   ],
   "source": [
    "print(json.dumps(train_set_pointer.__dict__, indent=2))"
   ]
  },
  {
   "cell_type": "markdown",
   "metadata": {},
   "source": [
    "### 3. Train a Model using SageMaker + Builtin XgBoost Algorithm"
   ]
  },
  {
   "cell_type": "code",
   "execution_count": 11,
   "metadata": {},
   "outputs": [],
   "source": [
    "container_uri = sagemaker.image_uris.retrieve(region=session.region_name, \n",
    "                                              framework='xgboost', \n",
    "                                              version='1.0-1', \n",
    "                                              image_scope='training')"
   ]
  },
  {
   "cell_type": "code",
   "execution_count": 12,
   "metadata": {},
   "outputs": [],
   "source": [
    "xgb = sagemaker.estimator.Estimator(image_uri=container_uri,\n",
    "                                    role=sagemaker_execution_role, \n",
    "                                    instance_count=2, \n",
    "                                    instance_type='ml.m5.large',\n",
    "                                    output_path='s3://{}/{}/model-artifacts'.format(BUCKET, PREFIX),\n",
    "                                    sagemaker_session=sagemaker_session,\n",
    "                                    base_job_name='classifier')\n",
    "\n",
    "xgb.set_hyperparameters(objective='binary:logistic',\n",
    "                        num_round=100)"
   ]
  },
  {
   "cell_type": "code",
   "execution_count": null,
   "metadata": {},
   "outputs": [
    {
     "name": "stdout",
     "output_type": "stream",
     "text": [
      "2022-10-04 20:54:21 Starting - Starting the training job...\n",
      "2022-10-04 20:54:45 Starting - Preparing the instances for trainingProfilerReport-1664916861: InProgress\n",
      "......\n",
      "2022-10-04 20:55:45 Downloading - Downloading input data......\n",
      "2022-10-04 20:56:45 Training - Downloading the training image...\n",
      "2022-10-04 20:57:20 Training - Training image download completed. Training in progress..\u001b[34mINFO:sagemaker-containers:Imported framework sagemaker_xgboost_container.training\u001b[0m\n",
      "\u001b[34mINFO:sagemaker-containers:Failed to parse hyperparameter objective value binary:logistic to Json.\u001b[0m\n",
      "\u001b[34mReturning the value itself\u001b[0m\n",
      "\u001b[34mINFO:sagemaker-containers:No GPUs detected (normal if no gpus installed)\u001b[0m\n",
      "\u001b[34mINFO:sagemaker_xgboost_container.training:Running XGBoost Sagemaker in algorithm mode\u001b[0m\n",
      "\u001b[34mINFO:root:Determined delimiter of CSV input is ','\u001b[0m\n",
      "\u001b[34mINFO:root:Determined delimiter of CSV input is ','\u001b[0m\n",
      "\u001b[34mINFO:root:Determined delimiter of CSV input is ','\u001b[0m\n",
      "\u001b[34m[20:57:24] 7461x4 matrix with 29844 entries loaded from /opt/ml/input/data/train?format=csv&label_column=0&delimiter=,\u001b[0m\n",
      "\u001b[34mINFO:root:Determined delimiter of CSV input is ','\u001b[0m\n",
      "\u001b[34m[20:57:24] 2487x4 matrix with 9948 entries loaded from /opt/ml/input/data/validation?format=csv&label_column=0&delimiter=,\u001b[0m\n",
      "\u001b[34mINFO:root:Distributed node training with 2 hosts: ['algo-1', 'algo-2']\u001b[0m\n",
      "\u001b[34mINFO:RabitContextManager:Failed to connect to RabitTracker on attempt 0\u001b[0m\n",
      "\u001b[34mINFO:RabitContextManager:Sleeping for 3 sec before retrying\u001b[0m\n",
      "\u001b[34mINFO:RabitContextManager:Connected to RabitTracker.\u001b[0m\n",
      "\u001b[34mtask NULL connected to the tracker\u001b[0m\n",
      "\u001b[34mtask NULL got new rank 0\u001b[0m\n",
      "\u001b[34mINFO:RabitContextManager:Failed to connect to RabitTracker on attempt 0\u001b[0m\n",
      "\u001b[34mINFO:RabitContextManager:Sleeping for 3 sec before retrying\u001b[0m\n",
      "\u001b[34mINFO:sagemaker-containers:Imported framework sagemaker_xgboost_container.training\u001b[0m\n",
      "\u001b[34mINFO:sagemaker-containers:Failed to parse hyperparameter objective value binary:logistic to Json.\u001b[0m\n",
      "\u001b[34mReturning the value itself\u001b[0m\n",
      "\u001b[34mINFO:sagemaker-containers:No GPUs detected (normal if no gpus installed)\u001b[0m\n",
      "\u001b[34mINFO:sagemaker_xgboost_container.training:Running XGBoost Sagemaker in algorithm mode\u001b[0m\n",
      "\u001b[34mINFO:root:Determined delimiter of CSV input is ','\u001b[0m\n",
      "\u001b[34mINFO:root:Determined delimiter of CSV input is ','\u001b[0m\n",
      "\u001b[34mINFO:root:Determined delimiter of CSV input is ','\u001b[0m\n",
      "\u001b[34m[20:57:25] 7461x4 matrix with 29844 entries loaded from /opt/ml/input/data/train?format=csv&label_column=0&delimiter=,\u001b[0m\n",
      "\u001b[34mINFO:root:Determined delimiter of CSV input is ','\u001b[0m\n",
      "\u001b[34m[20:57:25] 2487x4 matrix with 9948 entries loaded from /opt/ml/input/data/validation?format=csv&label_column=0&delimiter=,\u001b[0m\n",
      "\u001b[34mINFO:root:Distributed node training with 2 hosts: ['algo-1', 'algo-2']\u001b[0m\n",
      "\u001b[34mINFO:RabitTracker:start listen on algo-1:9099\u001b[0m\n",
      "\u001b[34mINFO:RabitContextManager:Rabit slave environment: {'DMLC_TRACKER_URI': 'algo-1', 'DMLC_TRACKER_PORT': 9099}\u001b[0m\n",
      "\u001b[34mINFO:RabitContextManager:Connected to RabitTracker.\u001b[0m\n",
      "\u001b[34mINFO:RabitTracker:No data received from connection ('10.2.220.133', 35944). Closing.\u001b[0m\n",
      "\u001b[34mtask NULL connected to the tracker\u001b[0m\n",
      "\u001b[34mINFO:RabitTracker:No data received from connection ('10.2.203.231', 35484). Closing.\u001b[0m\n",
      "\u001b[34mINFO:RabitTracker:Recieve start signal from 10.2.203.231; assign rank 0\u001b[0m\n",
      "\u001b[34mtask NULL got new rank 1\u001b[0m\n",
      "\u001b[34mINFO:RabitTracker:Recieve start signal from 10.2.220.133; assign rank 1\u001b[0m\n",
      "\u001b[34mINFO:RabitTracker:@tracker All of 2 nodes getting started\u001b[0m\n",
      "\u001b[34mINFO:RabitTracker:@tracker All nodes finishes job\u001b[0m\n",
      "\u001b[34mINFO:RabitTracker:@tracker 0.17798972129821777 secs between node start and job finish\u001b[0m\n",
      "\u001b[34mINFO:RabitTracker:start listen on algo-1:9100\u001b[0m\n",
      "\u001b[34mINFO:RabitContextManager:Rabit slave environment: {'DMLC_TRACKER_URI': 'algo-1', 'DMLC_TRACKER_PORT': 9100}\u001b[0m\n",
      "\u001b[34mINFO:RabitContextManager:Connected to RabitTracker.\u001b[0m\n",
      "\u001b[34mINFO:RabitTracker:No data received from connection ('10.2.220.133', 39488). Closing.\u001b[0m\n",
      "\u001b[34mtask NULL connected to the tracker\u001b[0m\n",
      "\u001b[34mINFO:RabitTracker:No data received from connection ('10.2.203.231', 33236). Closing.\u001b[0m\n",
      "\u001b[34mINFO:RabitTracker:Recieve start signal from 10.2.203.231; assign rank 0\u001b[0m\n",
      "\u001b[34mtask NULL got new rank 1\u001b[0m\n",
      "\u001b[34m[2022-10-04 20:57:31.600 ip-10-2-220-133.ec2.internal:1 INFO json_config.py:90] Creating hook from json_config at /opt/ml/input/config/debughookconfig.json.\u001b[0m\n",
      "\u001b[34m[2022-10-04 20:57:31.601 ip-10-2-220-133.ec2.internal:1 INFO hook.py:151] tensorboard_dir has not been set for the hook. SMDebug will not be exporting tensorboard summaries.\u001b[0m\n",
      "\u001b[34m[2022-10-04 20:57:31.601 ip-10-2-220-133.ec2.internal:1 INFO hook.py:196] Saving to /opt/ml/output/tensors\u001b[0m\n",
      "\u001b[34mINFO:root:Debug hook created from config\u001b[0m\n",
      "\u001b[34mINFO:root:Train matrix has 7461 rows\u001b[0m\n",
      "\u001b[34mINFO:root:Validation matrix has 2487 rows\u001b[0m\n",
      "\u001b[34mINFO:RabitTracker:Recieve start signal from 10.2.220.133; assign rank 1\u001b[0m\n",
      "\u001b[34mINFO:RabitTracker:@tracker All of 2 nodes getting started\u001b[0m\n",
      "\u001b[34m[20:57:31] WARNING: /workspace/src/learner.cc:328: \u001b[0m\n",
      "\u001b[34mParameters: { num_round } might not be used.\n",
      "  This may not be accurate due to some parameters are only used in language bindings but\n",
      "  passed down to XGBoost core.  Or some parameters are not used but slip through this\n",
      "  verification. Please open an issue if you find above cases.\u001b[0m\n",
      "\u001b[34m[20:57:31] WARNING: /workspace/src/gbm/gbtree.cc:128: Tree method is automatically selected to be 'approx' for distributed training.\u001b[0m\n",
      "\u001b[35mINFO:RabitContextManager:Connected to RabitTracker.\u001b[0m\n",
      "\u001b[35mtask NULL connected to the tracker\u001b[0m\n",
      "\u001b[35mtask NULL got new rank 0\u001b[0m\n",
      "\u001b[35m[2022-10-04 20:57:31.602 ip-10-2-203-231.ec2.internal:1 INFO json_config.py:90] Creating hook from json_config at /opt/ml/input/config/debughookconfig.json.\u001b[0m\n",
      "\u001b[35m[2022-10-04 20:57:31.602 ip-10-2-203-231.ec2.internal:1 INFO hook.py:151] tensorboard_dir has not been set for the hook. SMDebug will not be exporting tensorboard summaries.\u001b[0m\n",
      "\u001b[35m[2022-10-04 20:57:31.602 ip-10-2-203-231.ec2.internal:1 INFO hook.py:196] Saving to /opt/ml/output/tensors\u001b[0m\n",
      "\u001b[35mINFO:root:Debug hook created from config\u001b[0m\n",
      "\u001b[35mINFO:root:Train matrix has 7461 rows\u001b[0m\n",
      "\u001b[35mINFO:root:Validation matrix has 2487 rows\u001b[0m\n",
      "\u001b[35m[20:57:31] WARNING: /workspace/src/learner.cc:328: \u001b[0m\n",
      "\u001b[35mParameters: { num_round } might not be used.\n",
      "  This may not be accurate due to some parameters are only used in language bindings but\n",
      "  passed down to XGBoost core.  Or some parameters are not used but slip through this\n",
      "  verification. Please open an issue if you find above cases.\u001b[0m\n",
      "\u001b[35m[20:57:31] WARNING: /workspace/src/gbm/gbtree.cc:128: Tree method is automatically selected to be 'approx' for distributed training.\u001b[0m\n",
      "\u001b[35m[2022-10-04 20:57:31.798 ip-10-2-203-231.ec2.internal:1 INFO hook.py:325] Monitoring the collections: metrics\u001b[0m\n",
      "\u001b[34m[2022-10-04 20:57:31.795 ip-10-2-220-133.ec2.internal:1 INFO hook.py:325] Monitoring the collections: metrics\u001b[0m\n",
      "\u001b[34mINFO:RabitTracker:[0]#011train-error:0.18496#011validation-error:0.20748\u001b[0m\n",
      "\u001b[34mINFO:RabitTracker:[1]#011train-error:0.18362#011validation-error:0.20667\u001b[0m\n",
      "\u001b[34mINFO:RabitTracker:[2]#011train-error:0.18630#011validation-error:0.20507\u001b[0m\n",
      "\u001b[34mINFO:RabitTracker:[3]#011train-error:0.18550#011validation-error:0.20426\u001b[0m\n",
      "\u001b[34mINFO:RabitTracker:[4]#011train-error:0.18617#011validation-error:0.20547\u001b[0m\n",
      "\u001b[34mINFO:RabitTracker:[5]#011train-error:0.18630#011validation-error:0.20507\u001b[0m\n",
      "\u001b[34mINFO:RabitTracker:[6]#011train-error:0.18550#011validation-error:0.20547\u001b[0m\n",
      "\u001b[34mINFO:RabitTracker:[7]#011train-error:0.18590#011validation-error:0.20547\u001b[0m\n",
      "\u001b[34mINFO:RabitTracker:[8]#011train-error:0.18510#011validation-error:0.20547\u001b[0m\n",
      "\u001b[34mINFO:RabitTracker:[9]#011train-error:0.18536#011validation-error:0.20587\u001b[0m\n",
      "\u001b[34mINFO:RabitTracker:[10]#011train-error:0.18523#011validation-error:0.20466\u001b[0m\n",
      "\u001b[34mINFO:RabitTracker:[11]#011train-error:0.18483#011validation-error:0.20507\u001b[0m\n",
      "\u001b[34mINFO:RabitTracker:[12]#011train-error:0.18456#011validation-error:0.20507\u001b[0m\n",
      "\u001b[34mINFO:RabitTracker:[13]#011train-error:0.18322#011validation-error:0.20587\u001b[0m\n",
      "\u001b[34mINFO:RabitTracker:[14]#011train-error:0.18268#011validation-error:0.20627\u001b[0m\n",
      "\u001b[34mINFO:RabitTracker:[15]#011train-error:0.18161#011validation-error:0.20788\u001b[0m\n",
      "\u001b[34mINFO:RabitTracker:[16]#011train-error:0.17987#011validation-error:0.20949\u001b[0m\n",
      "\u001b[34mINFO:RabitTracker:[17]#011train-error:0.17920#011validation-error:0.20949\u001b[0m\n",
      "\u001b[34mINFO:RabitTracker:[18]#011train-error:0.17853#011validation-error:0.20828\u001b[0m\n",
      "\u001b[34mINFO:RabitTracker:[19]#011train-error:0.17719#011validation-error:0.20909\u001b[0m\n",
      "\u001b[34mINFO:RabitTracker:[20]#011train-error:0.17705#011validation-error:0.21029\u001b[0m\n",
      "\u001b[34mINFO:RabitTracker:[21]#011train-error:0.17612#011validation-error:0.20828\u001b[0m\n",
      "\u001b[34mINFO:RabitTracker:[22]#011train-error:0.17464#011validation-error:0.20909\u001b[0m\n",
      "\u001b[34mINFO:RabitTracker:[23]#011train-error:0.17330#011validation-error:0.20909\u001b[0m\n",
      "\u001b[34mINFO:RabitTracker:[24]#011train-error:0.17317#011validation-error:0.20909\u001b[0m\n",
      "\u001b[34mINFO:RabitTracker:[25]#011train-error:0.17236#011validation-error:0.21029\u001b[0m\n",
      "\u001b[34mINFO:RabitTracker:[26]#011train-error:0.17183#011validation-error:0.21070\u001b[0m\n",
      "\u001b[34mINFO:RabitTracker:[27]#011train-error:0.17156#011validation-error:0.21190\u001b[0m\n",
      "\u001b[34mINFO:RabitTracker:[28]#011train-error:0.17169#011validation-error:0.21150\u001b[0m\n",
      "\u001b[34mINFO:RabitTracker:[29]#011train-error:0.17129#011validation-error:0.21190\u001b[0m\n",
      "\u001b[34mINFO:RabitTracker:[30]#011train-error:0.17102#011validation-error:0.21150\u001b[0m\n",
      "\u001b[34mINFO:RabitTracker:[31]#011train-error:0.16968#011validation-error:0.21190\u001b[0m\n",
      "\u001b[34mINFO:RabitTracker:[32]#011train-error:0.16727#011validation-error:0.21311\u001b[0m\n",
      "\u001b[34mINFO:RabitTracker:[33]#011train-error:0.16526#011validation-error:0.21311\u001b[0m\n",
      "\u001b[34mINFO:RabitTracker:[34]#011train-error:0.16352#011validation-error:0.21190\u001b[0m\n",
      "\u001b[34mINFO:RabitTracker:[35]#011train-error:0.16245#011validation-error:0.21150\u001b[0m\n",
      "\u001b[34mINFO:RabitTracker:[36]#011train-error:0.16137#011validation-error:0.21150\u001b[0m\n",
      "\u001b[34mINFO:RabitTracker:[37]#011train-error:0.16097#011validation-error:0.21190\u001b[0m\n",
      "\u001b[34mINFO:RabitTracker:[38]#011train-error:0.16043#011validation-error:0.21190\u001b[0m\n",
      "\u001b[34mINFO:RabitTracker:[39]#011train-error:0.15963#011validation-error:0.21230\u001b[0m\n",
      "\u001b[34mINFO:RabitTracker:[40]#011train-error:0.15775#011validation-error:0.21311\u001b[0m\n",
      "\u001b[34mINFO:RabitTracker:[41]#011train-error:0.15682#011validation-error:0.21230\u001b[0m\n",
      "\u001b[34mINFO:RabitTracker:[42]#011train-error:0.15588#011validation-error:0.21190\u001b[0m\n",
      "\u001b[34mINFO:RabitTracker:[43]#011train-error:0.15454#011validation-error:0.21431\u001b[0m\n",
      "\u001b[34mINFO:RabitTracker:[44]#011train-error:0.15199#011validation-error:0.21431\u001b[0m\n",
      "\u001b[34mINFO:RabitTracker:[45]#011train-error:0.15105#011validation-error:0.21351\u001b[0m\n",
      "\u001b[34mINFO:RabitTracker:[46]#011train-error:0.14971#011validation-error:0.21311\u001b[0m\n",
      "\u001b[34mINFO:RabitTracker:[47]#011train-error:0.14918#011validation-error:0.21311\u001b[0m\n",
      "\u001b[34mINFO:RabitTracker:[48]#011train-error:0.14810#011validation-error:0.21190\u001b[0m\n",
      "\u001b[34mINFO:RabitTracker:[49]#011train-error:0.14716#011validation-error:0.21190\u001b[0m\n",
      "\u001b[34mINFO:RabitTracker:[50]#011train-error:0.14636#011validation-error:0.21431\u001b[0m\n",
      "\u001b[34mINFO:RabitTracker:[51]#011train-error:0.14556#011validation-error:0.21351\u001b[0m\n",
      "\u001b[34mINFO:RabitTracker:[52]#011train-error:0.14435#011validation-error:0.21351\u001b[0m\n",
      "\u001b[34mINFO:RabitTracker:[53]#011train-error:0.14274#011validation-error:0.21230\u001b[0m\n",
      "\u001b[34mINFO:RabitTracker:[54]#011train-error:0.14180#011validation-error:0.21271\u001b[0m\n",
      "\u001b[34mINFO:RabitTracker:[55]#011train-error:0.14033#011validation-error:0.21311\u001b[0m\n",
      "\u001b[34mINFO:RabitTracker:[56]#011train-error:0.13953#011validation-error:0.21230\u001b[0m\n",
      "\u001b[34mINFO:RabitTracker:[57]#011train-error:0.13845#011validation-error:0.21311\u001b[0m\n",
      "\u001b[34mINFO:RabitTracker:[58]#011train-error:0.13658#011validation-error:0.21472\u001b[0m\n",
      "\u001b[34mINFO:RabitTracker:[59]#011train-error:0.13510#011validation-error:0.21713\u001b[0m\n",
      "\u001b[34mINFO:RabitTracker:[60]#011train-error:0.13363#011validation-error:0.21713\u001b[0m\n",
      "\u001b[34mINFO:RabitTracker:[61]#011train-error:0.13296#011validation-error:0.21793\u001b[0m\n",
      "\u001b[34mINFO:RabitTracker:[62]#011train-error:0.13215#011validation-error:0.21713\u001b[0m\n",
      "\u001b[34mINFO:RabitTracker:[63]#011train-error:0.13202#011validation-error:0.21673\u001b[0m\n",
      "\u001b[34mINFO:RabitTracker:[64]#011train-error:0.12987#011validation-error:0.21592\u001b[0m\n",
      "\u001b[34mINFO:RabitTracker:[65]#011train-error:0.12947#011validation-error:0.21632\u001b[0m\n",
      "\u001b[34mINFO:RabitTracker:[66]#011train-error:0.12827#011validation-error:0.21552\u001b[0m\n",
      "\u001b[34mINFO:RabitTracker:[67]#011train-error:0.12612#011validation-error:0.21592\u001b[0m\n",
      "\u001b[34mINFO:RabitTracker:[68]#011train-error:0.12572#011validation-error:0.21632\u001b[0m\n",
      "\u001b[34mINFO:RabitTracker:[69]#011train-error:0.12492#011validation-error:0.21592\u001b[0m\n",
      "\u001b[34mINFO:RabitTracker:[70]#011train-error:0.12398#011validation-error:0.21632\u001b[0m\n",
      "\u001b[34mINFO:RabitTracker:[71]#011train-error:0.12250#011validation-error:0.21632\u001b[0m\n",
      "\u001b[34mINFO:RabitTracker:[72]#011train-error:0.12157#011validation-error:0.21632\u001b[0m\n",
      "\u001b[34mINFO:RabitTracker:[73]#011train-error:0.12157#011validation-error:0.21713\u001b[0m\n",
      "\u001b[34mINFO:RabitTracker:[74]#011train-error:0.12036#011validation-error:0.21753\u001b[0m\n",
      "\u001b[34mINFO:RabitTracker:[75]#011train-error:0.11889#011validation-error:0.21834\u001b[0m\n",
      "\u001b[34mINFO:RabitTracker:[76]#011train-error:0.11795#011validation-error:0.21954\u001b[0m\n",
      "\u001b[34mINFO:RabitTracker:[77]#011train-error:0.11594#011validation-error:0.21954\u001b[0m\n",
      "\u001b[34mINFO:RabitTracker:[78]#011train-error:0.11446#011validation-error:0.21954\u001b[0m\n",
      "\u001b[34mINFO:RabitTracker:[79]#011train-error:0.11352#011validation-error:0.21994\u001b[0m\n",
      "\u001b[34mINFO:RabitTracker:[80]#011train-error:0.11299#011validation-error:0.21914\u001b[0m\n",
      "\u001b[34mINFO:RabitTracker:[81]#011train-error:0.11205#011validation-error:0.21954\u001b[0m\n",
      "\u001b[34mINFO:RabitTracker:[82]#011train-error:0.11071#011validation-error:0.21954\u001b[0m\n",
      "\u001b[34mINFO:RabitTracker:[83]#011train-error:0.10964#011validation-error:0.21914\u001b[0m\n",
      "\u001b[34mINFO:RabitTracker:[84]#011train-error:0.10870#011validation-error:0.21874\u001b[0m\n",
      "\u001b[34mINFO:RabitTracker:[85]#011train-error:0.10696#011validation-error:0.22035\u001b[0m\n",
      "\u001b[34mINFO:RabitTracker:[86]#011train-error:0.10428#011validation-error:0.22075\u001b[0m\n",
      "\u001b[34mINFO:RabitTracker:[87]#011train-error:0.10414#011validation-error:0.22075\u001b[0m\n",
      "\u001b[34mINFO:RabitTracker:[88]#011train-error:0.10226#011validation-error:0.22155\u001b[0m\n",
      "\u001b[34mINFO:RabitTracker:[89]#011train-error:0.10119#011validation-error:0.22155\u001b[0m\n",
      "\u001b[34mINFO:RabitTracker:[90]#011train-error:0.10052#011validation-error:0.22236\u001b[0m\n",
      "\u001b[34mINFO:RabitTracker:[91]#011train-error:0.09878#011validation-error:0.22316\u001b[0m\n",
      "\u001b[34mINFO:RabitTracker:[92]#011train-error:0.09784#011validation-error:0.22276\u001b[0m\n",
      "\u001b[34mINFO:RabitTracker:[93]#011train-error:0.09690#011validation-error:0.22477\u001b[0m\n",
      "\u001b[34mINFO:RabitTracker:[94]#011train-error:0.09583#011validation-error:0.22477\u001b[0m\n",
      "\u001b[34mINFO:RabitTracker:[95]#011train-error:0.09530#011validation-error:0.22517\u001b[0m\n",
      "\u001b[34mINFO:RabitTracker:[96]#011train-error:0.09503#011validation-error:0.22477\u001b[0m\n",
      "\u001b[34mINFO:RabitTracker:[97]#011train-error:0.09476#011validation-error:0.22356\u001b[0m\n",
      "\u001b[34mINFO:RabitTracker:[98]#011train-error:0.09409#011validation-error:0.22236\u001b[0m\n",
      "\u001b[34mINFO:RabitTracker:[99]#011train-error:0.09248#011validation-error:0.22276\u001b[0m\n",
      "\u001b[34mINFO:RabitTracker:@tracker All nodes finishes job\u001b[0m\n",
      "\u001b[34mINFO:RabitTracker:@tracker 33.25449228286743 secs between node start and job finish\u001b[0m\n"
     ]
    }
   ],
   "source": [
    "xgb.fit({'train': train_set_pointer, 'validation': test_set_pointer})"
   ]
  },
  {
   "cell_type": "markdown",
   "metadata": {},
   "source": [
    "### 4. Host the Trained Model as a SageMaker Endpoint (using Estimator object)"
   ]
  },
  {
   "cell_type": "code",
   "execution_count": null,
   "metadata": {},
   "outputs": [],
   "source": [
    "xgb_predictor = xgb.deploy(initial_instance_count=2,\n",
    "                           instance_type='ml.m5.large')"
   ]
  },
  {
   "cell_type": "markdown",
   "metadata": {},
   "source": [
    "### 5. Real Time Inference from the Endpoint"
   ]
  },
  {
   "cell_type": "code",
   "execution_count": null,
   "metadata": {},
   "outputs": [],
   "source": [
    "csv_serializer = CSVSerializer()\n",
    "predictor = Predictor(endpoint_name=xgb_predictor.endpoint_name, \n",
    "                      serializer=csv_serializer)"
   ]
  },
  {
   "cell_type": "code",
   "execution_count": null,
   "metadata": {},
   "outputs": [],
   "source": [
    "test_df = pd.read_csv('./DATA/test/test.csv', names=['class', 'bmi', 'diastolic_bp_change', 'systolic_bp_change', 'respiratory_rate'])"
   ]
  },
  {
   "cell_type": "code",
   "execution_count": null,
   "metadata": {},
   "outputs": [],
   "source": [
    "test_df.head()"
   ]
  },
  {
   "cell_type": "code",
   "execution_count": null,
   "metadata": {},
   "outputs": [],
   "source": [
    "X = test_df.sample(1)\n",
    "X"
   ]
  },
  {
   "cell_type": "code",
   "execution_count": null,
   "metadata": {},
   "outputs": [],
   "source": [
    "X = X.values[0]\n",
    "X[1:]"
   ]
  },
  {
   "cell_type": "code",
   "execution_count": null,
   "metadata": {},
   "outputs": [],
   "source": [
    "payload = X[1:]"
   ]
  },
  {
   "cell_type": "code",
   "execution_count": null,
   "metadata": {},
   "outputs": [],
   "source": [
    "%%time\n",
    "\n",
    "predicted_class_prob = predictor.predict(payload).decode('utf-8')\n",
    "if float(predicted_class_prob) < 0.5:\n",
    "    print('PREDICTION = NOT DIABETIC')\n",
    "else:\n",
    "    print('PREDICTION = DIABETIC')\n",
    "print()"
   ]
  },
  {
   "cell_type": "markdown",
   "metadata": {},
   "source": [
    "### 5. Evaluate Hosted Model for Accuracy"
   ]
  },
  {
   "cell_type": "code",
   "execution_count": null,
   "metadata": {},
   "outputs": [],
   "source": [
    "predictions = []\n",
    "expected = []\n",
    "correct = 0\n",
    "for row in test_df.values:\n",
    "    expected_class = row[0]\n",
    "    payload = row[1:]\n",
    "    predicted_class_prob = predictor.predict(payload).decode('utf-8')\n",
    "    predicted_class = 1\n",
    "    if float(predicted_class_prob) < 0.5:\n",
    "        predicted_class = 0  \n",
    "    if predicted_class == expected_class:\n",
    "        correct += 1\n",
    "    predictions.append(predicted_class)\n",
    "    expected.append(expected_class)"
   ]
  },
  {
   "cell_type": "code",
   "execution_count": null,
   "metadata": {},
   "outputs": [],
   "source": [
    "print('Accuracy = {:.2f}%'.format(correct/len(predictions) * 100))"
   ]
  },
  {
   "cell_type": "markdown",
   "metadata": {},
   "source": [
    "#### Confusion Matrix"
   ]
  },
  {
   "cell_type": "code",
   "execution_count": null,
   "metadata": {},
   "outputs": [],
   "source": [
    "expected = pd.Series(np.array(expected))\n",
    "predictions = pd.Series(np.array(predictions))\n",
    "pd.crosstab(expected, predictions, rownames=['Actual'], colnames=['Predicted'], margins=True)"
   ]
  },
  {
   "cell_type": "code",
   "execution_count": null,
   "metadata": {},
   "outputs": [],
   "source": []
  }
 ],
 "metadata": {
  "instance_type": "ml.t3.medium",
  "kernelspec": {
   "display_name": "Python 3 (Data Science)",
   "language": "python",
   "name": "python3__SAGEMAKER_INTERNAL__arn:aws:sagemaker:us-east-1:081325390199:image/datascience-1.0"
  },
  "language_info": {
   "codemirror_mode": {
    "name": "ipython",
    "version": 3
   },
   "file_extension": ".py",
   "mimetype": "text/x-python",
   "name": "python",
   "nbconvert_exporter": "python",
   "pygments_lexer": "ipython3",
   "version": "3.7.10"
  }
 },
 "nbformat": 4,
 "nbformat_minor": 4
}
