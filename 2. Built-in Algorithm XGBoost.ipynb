{
 "cells": [
  {
   "cell_type": "markdown",
   "metadata": {},
   "source": [
    "### 1. Imports "
   ]
  },
  {
   "cell_type": "code",
   "execution_count": 1,
   "metadata": {},
   "outputs": [],
   "source": [
    "import pandas as pd\n",
    "import numpy as np\n",
    "import json\n",
    "import os\n",
    "\n",
    "from sagemaker.serializers import CSVSerializer\n",
    "from sagemaker.inputs import TrainingInput\n",
    "from sagemaker.predictor import Predictor\n",
    "from sagemaker import get_execution_role\n",
    "import sagemaker\n",
    "import boto3"
   ]
  },
  {
   "cell_type": "code",
   "execution_count": 2,
   "metadata": {},
   "outputs": [
    {
     "data": {
      "text/plain": [
       "'2.15.2'"
      ]
     },
     "execution_count": 2,
     "metadata": {},
     "output_type": "execute_result"
    }
   ],
   "source": [
    "sagemaker.__version__"
   ]
  },
  {
   "cell_type": "markdown",
   "metadata": {},
   "source": [
    "### 2. Essentials "
   ]
  },
  {
   "cell_type": "code",
   "execution_count": 3,
   "metadata": {},
   "outputs": [
    {
     "name": "stdout",
     "output_type": "stream",
     "text": [
      "Role = arn:aws:iam::892313895307:role/service-role/AmazonSageMaker-ExecutionRole-20200826T084395\n"
     ]
    }
   ],
   "source": [
    "# Get the Execution Role for this Notebook and AWS Session to create Clients\n",
    "sagemaker_execution_role = get_execution_role()\n",
    "print('Role = {}'.format(sagemaker_execution_role))\n",
    "session = boto3.Session()\n",
    "\n",
    "# Clients and Resources\n",
    "s3 = session.resource('s3')\n",
    "sagemaker_session = sagemaker.Session()\n",
    "\n",
    "BUCKET = 'sagemaker-demo-892313895307' # USE YOUR ACCOUNT ID OR INITIALS AS SUFFIX\n",
    "PREFIX = 'clf'"
   ]
  },
  {
   "cell_type": "markdown",
   "metadata": {},
   "source": [
    "##### Upload Train & Test Sets to S3 and Create Pointers to Data"
   ]
  },
  {
   "cell_type": "code",
   "execution_count": 4,
   "metadata": {},
   "outputs": [
    {
     "data": {
      "text/plain": [
       "s3.Bucket(name='sagemaker-demo-892313895307')"
      ]
     },
     "execution_count": 4,
     "metadata": {},
     "output_type": "execute_result"
    }
   ],
   "source": [
    "s3.create_bucket(Bucket=BUCKET)"
   ]
  },
  {
   "cell_type": "code",
   "execution_count": 5,
   "metadata": {},
   "outputs": [],
   "source": [
    "s3.Bucket(BUCKET).Object(os.path.join(PREFIX, 'train/train.csv')).upload_file('./DATA/train/train.csv')\n",
    "s3.Bucket(BUCKET).Object(os.path.join(PREFIX, 'test/test.csv')).upload_file('./DATA/test/test.csv')\n",
    "s3.Bucket(BUCKET).Object(os.path.join(PREFIX, 'batch_test/batch_test.csv')).upload_file('./DATA/batch_test/batch_test.csv')"
   ]
  },
  {
   "cell_type": "markdown",
   "metadata": {},
   "source": [
    "##### Create Pointers to the uploaded files "
   ]
  },
  {
   "cell_type": "code",
   "execution_count": 6,
   "metadata": {},
   "outputs": [],
   "source": [
    "train_set_location = 's3://{}/{}/train/'.format(BUCKET, PREFIX)\n",
    "test_set_location = 's3://{}/{}/test/'.format(BUCKET, PREFIX)"
   ]
  },
  {
   "cell_type": "code",
   "execution_count": 7,
   "metadata": {},
   "outputs": [
    {
     "name": "stdout",
     "output_type": "stream",
     "text": [
      "s3://sagemaker-demo-892313895307/clf/train/\n",
      "s3://sagemaker-demo-892313895307/clf/test/\n"
     ]
    }
   ],
   "source": [
    "print(train_set_location)\n",
    "print(test_set_location)"
   ]
  },
  {
   "cell_type": "code",
   "execution_count": 8,
   "metadata": {},
   "outputs": [],
   "source": [
    "train_set_pointer = TrainingInput(s3_data=train_set_location, content_type='csv')\n",
    "test_set_pointer = TrainingInput(s3_data=test_set_location, content_type='csv')"
   ]
  },
  {
   "cell_type": "code",
   "execution_count": 9,
   "metadata": {},
   "outputs": [
    {
     "name": "stdout",
     "output_type": "stream",
     "text": [
      "{\n",
      "  \"config\": {\n",
      "    \"DataSource\": {\n",
      "      \"S3DataSource\": {\n",
      "        \"S3DataType\": \"S3Prefix\",\n",
      "        \"S3Uri\": \"s3://sagemaker-demo-892313895307/clf/train/\",\n",
      "        \"S3DataDistributionType\": \"FullyReplicated\"\n",
      "      }\n",
      "    },\n",
      "    \"ContentType\": \"csv\"\n",
      "  }\n",
      "}\n"
     ]
    }
   ],
   "source": [
    "print(json.dumps(train_set_pointer.__dict__, indent=2))"
   ]
  },
  {
   "cell_type": "markdown",
   "metadata": {},
   "source": [
    "### 3. Train a Model using SageMaker + Builtin XgBoost Algorithm"
   ]
  },
  {
   "cell_type": "code",
   "execution_count": 10,
   "metadata": {},
   "outputs": [],
   "source": [
    "container_uri = sagemaker.image_uris.retrieve(region=session.region_name, \n",
    "                                              framework='xgboost', \n",
    "                                              version='1.0-1', \n",
    "                                              image_scope='training')"
   ]
  },
  {
   "cell_type": "code",
   "execution_count": 11,
   "metadata": {},
   "outputs": [],
   "source": [
    "xgb = sagemaker.estimator.Estimator(image_uri=container_uri,\n",
    "                                    role=sagemaker_execution_role, \n",
    "                                    instance_count=2, \n",
    "                                    instance_type='ml.m5.large',\n",
    "                                    output_path='s3://{}/{}/model-artifacts'.format(BUCKET, PREFIX),\n",
    "                                    sagemaker_session=sagemaker_session,\n",
    "                                    base_job_name='classifier')\n",
    "\n",
    "xgb.set_hyperparameters(objective='binary:logistic',\n",
    "                        num_round=100)"
   ]
  },
  {
   "cell_type": "code",
   "execution_count": 12,
   "metadata": {},
   "outputs": [
    {
     "name": "stdout",
     "output_type": "stream",
     "text": [
      "2020-11-09 02:18:10 Starting - Starting the training job...\n",
      "2020-11-09 02:18:17 Starting - Launching requested ML instances.........\n",
      "2020-11-09 02:19:48 Starting - Preparing the instances for training...\n",
      "2020-11-09 02:20:42 Downloading - Downloading input data......\n",
      "2020-11-09 02:21:20 Training - Downloading the training image.\u001b[34mINFO:sagemaker-containers:Imported framework sagemaker_xgboost_container.training\u001b[0m\n",
      "\u001b[34mINFO:sagemaker-containers:Failed to parse hyperparameter objective value binary:logistic to Json.\u001b[0m\n",
      "\u001b[34mReturning the value itself\u001b[0m\n",
      "\u001b[34mINFO:sagemaker-containers:No GPUs detected (normal if no gpus installed)\u001b[0m\n",
      "\u001b[34mINFO:sagemaker_xgboost_container.training:Running XGBoost Sagemaker in algorithm mode\u001b[0m\n",
      "\u001b[34mINFO:root:Determined delimiter of CSV input is ','\u001b[0m\n",
      "\u001b[34mINFO:root:Determined delimiter of CSV input is ','\u001b[0m\n",
      "\u001b[34mINFO:root:Determined delimiter of CSV input is ','\u001b[0m\n",
      "\u001b[34m[02:21:36] 7461x4 matrix with 29844 entries loaded from /opt/ml/input/data/train?format=csv&label_column=0&delimiter=,\u001b[0m\n",
      "\u001b[34mINFO:root:Determined delimiter of CSV input is ','\u001b[0m\n",
      "\u001b[34m[02:21:36] 2487x4 matrix with 9948 entries loaded from /opt/ml/input/data/validation?format=csv&label_column=0&delimiter=,\u001b[0m\n",
      "\u001b[34mINFO:root:Distributed node training with 2 hosts: ['algo-1', 'algo-2']\u001b[0m\n",
      "\n",
      "2020-11-09 02:22:39 Training - Training image download completed. Training in progress.\u001b[34mINFO:sagemaker-containers:Imported framework sagemaker_xgboost_container.training\u001b[0m\n",
      "\u001b[34mINFO:sagemaker-containers:Failed to parse hyperparameter objective value binary:logistic to Json.\u001b[0m\n",
      "\u001b[34mReturning the value itself\u001b[0m\n",
      "\u001b[34mINFO:sagemaker-containers:No GPUs detected (normal if no gpus installed)\u001b[0m\n",
      "\u001b[34mINFO:sagemaker_xgboost_container.training:Running XGBoost Sagemaker in algorithm mode\u001b[0m\n",
      "\u001b[34mINFO:root:Determined delimiter of CSV input is ','\u001b[0m\n",
      "\u001b[34mINFO:root:Determined delimiter of CSV input is ','\u001b[0m\n",
      "\u001b[34mINFO:root:Determined delimiter of CSV input is ','\u001b[0m\n",
      "\u001b[34m[02:22:41] 7461x4 matrix with 29844 entries loaded from /opt/ml/input/data/train?format=csv&label_column=0&delimiter=,\u001b[0m\n",
      "\u001b[34mINFO:root:Determined delimiter of CSV input is ','\u001b[0m\n",
      "\u001b[34m[02:22:41] 2487x4 matrix with 9948 entries loaded from /opt/ml/input/data/validation?format=csv&label_column=0&delimiter=,\u001b[0m\n",
      "\u001b[34mINFO:root:Distributed node training with 2 hosts: ['algo-1', 'algo-2']\u001b[0m\n",
      "\u001b[34mINFO:RabitTracker:start listen on algo-1:9099\u001b[0m\n",
      "\u001b[34mINFO:RabitContextManager:Rabit slave environment: {'DMLC_TRACKER_URI': 'algo-1', 'DMLC_TRACKER_PORT': 9099}\u001b[0m\n",
      "\u001b[34mINFO:RabitContextManager:Connected to RabitTracker.\u001b[0m\n",
      "\u001b[34mINFO:RabitTracker:No data received from connection ('10.0.80.109', 52308). Closing.\u001b[0m\n",
      "\u001b[34mtask NULL connected to the tracker\u001b[0m\n",
      "\u001b[34mINFO:RabitTracker:No data received from connection ('10.0.109.65', 51282). Closing.\u001b[0m\n",
      "\u001b[34mINFO:RabitTracker:Recieve start signal from 10.0.109.65; assign rank 0\u001b[0m\n",
      "\u001b[34mtask NULL got new rank 1\u001b[0m\n",
      "\u001b[34mINFO:RabitTracker:Recieve start signal from 10.0.80.109; assign rank 1\u001b[0m\n",
      "\u001b[34mINFO:RabitTracker:@tracker All of 2 nodes getting started\u001b[0m\n",
      "\u001b[35mINFO:RabitContextManager:Connected to RabitTracker.\u001b[0m\n",
      "\u001b[35mtask NULL connected to the tracker\u001b[0m\n",
      "\u001b[35mtask NULL got new rank 0\u001b[0m\n",
      "\u001b[35mINFO:RabitContextManager:Failed to connect to RabitTracker on attempt 0\u001b[0m\n",
      "\u001b[35mINFO:RabitContextManager:Sleeping for 3 sec before retrying\u001b[0m\n",
      "\u001b[34mINFO:RabitTracker:@tracker All nodes finishes job\u001b[0m\n",
      "\u001b[34mINFO:RabitTracker:@tracker 0.17166376113891602 secs between node start and job finish\u001b[0m\n",
      "\u001b[34mINFO:RabitTracker:start listen on algo-1:9100\u001b[0m\n",
      "\u001b[34mINFO:RabitContextManager:Rabit slave environment: {'DMLC_TRACKER_URI': 'algo-1', 'DMLC_TRACKER_PORT': 9100}\u001b[0m\n",
      "\u001b[34mINFO:RabitContextManager:Connected to RabitTracker.\u001b[0m\n",
      "\u001b[34mINFO:RabitTracker:No data received from connection ('10.0.80.109', 53362). Closing.\u001b[0m\n",
      "\u001b[34mtask NULL connected to the tracker\u001b[0m\n",
      "\u001b[35mINFO:RabitContextManager:Connected to RabitTracker.\u001b[0m\n",
      "\u001b[35mtask NULL connected to the tracker\u001b[0m\n",
      "\u001b[34mINFO:RabitTracker:No data received from connection ('10.0.109.65', 53520). Closing.\u001b[0m\n",
      "\u001b[34mINFO:RabitTracker:Recieve start signal from 10.0.109.65; assign rank 0\u001b[0m\n",
      "\u001b[34mtask NULL got new rank 1\u001b[0m\n",
      "\u001b[34mINFO:RabitTracker:Recieve start signal from 10.0.80.109; assign rank 1\u001b[0m\n",
      "\u001b[34mINFO:root:Train matrix has 7461 rows\u001b[0m\n",
      "\u001b[34mINFO:root:Validation matrix has 2487 rows\u001b[0m\n",
      "\u001b[34mINFO:RabitTracker:@tracker All of 2 nodes getting started\u001b[0m\n",
      "\u001b[34m[02:23:01] WARNING: /workspace/src/learner.cc:328: \u001b[0m\n",
      "\u001b[34mParameters: { num_round } might not be used.\n",
      "\n",
      "  This may not be accurate due to some parameters are only used in language bindings but\n",
      "  passed down to XGBoost core.  Or some parameters are not used but slip through this\n",
      "  verification. Please open an issue if you find above cases.\n",
      "\n",
      "\u001b[0m\n",
      "\u001b[34m[02:23:01] WARNING: /workspace/src/gbm/gbtree.cc:128: Tree method is automatically selected to be 'approx' for distributed training.\u001b[0m\n",
      "\u001b[34mINFO:RabitTracker:[0]#011train-error:0.18496#011validation-error:0.20748\u001b[0m\n",
      "\u001b[34mINFO:RabitTracker:[1]#011train-error:0.18362#011validation-error:0.20667\u001b[0m\n",
      "\u001b[34mINFO:RabitTracker:[2]#011train-error:0.18630#011validation-error:0.20507\u001b[0m\n",
      "\u001b[34mINFO:RabitTracker:[3]#011train-error:0.18550#011validation-error:0.20426\u001b[0m\n",
      "\u001b[35mtask NULL got new rank 0\u001b[0m\n",
      "\u001b[35mINFO:root:Train matrix has 7461 rows\u001b[0m\n",
      "\u001b[35mINFO:root:Validation matrix has 2487 rows\u001b[0m\n",
      "\u001b[35m[02:23:01] WARNING: /workspace/src/learner.cc:328: \u001b[0m\n",
      "\u001b[35mParameters: { num_round } might not be used.\n",
      "\n",
      "  This may not be accurate due to some parameters are only used in language bindings but\n",
      "  passed down to XGBoost core.  Or some parameters are not used but slip through this\n",
      "  verification. Please open an issue if you find above cases.\n",
      "\n",
      "\u001b[0m\n",
      "\u001b[35m[02:23:01] WARNING: /workspace/src/gbm/gbtree.cc:128: Tree method is automatically selected to be 'approx' for distributed training.\u001b[0m\n",
      "\u001b[34mINFO:RabitTracker:[4]#011train-error:0.18617#011validation-error:0.20547\u001b[0m\n",
      "\u001b[34mINFO:RabitTracker:[5]#011train-error:0.18630#011validation-error:0.20507\u001b[0m\n",
      "\u001b[34mINFO:RabitTracker:[6]#011train-error:0.18550#011validation-error:0.20547\u001b[0m\n",
      "\u001b[34mINFO:RabitTracker:[7]#011train-error:0.18590#011validation-error:0.20547\u001b[0m\n",
      "\u001b[34mINFO:RabitTracker:[8]#011train-error:0.18510#011validation-error:0.20547\u001b[0m\n",
      "\u001b[34mINFO:RabitTracker:[9]#011train-error:0.18536#011validation-error:0.20587\u001b[0m\n",
      "\u001b[34mINFO:RabitTracker:[10]#011train-error:0.18510#011validation-error:0.20547\u001b[0m\n",
      "\u001b[34mINFO:RabitTracker:[11]#011train-error:0.18402#011validation-error:0.20587\u001b[0m\n",
      "\u001b[34mINFO:RabitTracker:[12]#011train-error:0.18295#011validation-error:0.20627\u001b[0m\n",
      "\u001b[34mINFO:RabitTracker:[13]#011train-error:0.18295#011validation-error:0.20587\u001b[0m\n",
      "\u001b[34mINFO:RabitTracker:[14]#011train-error:0.18161#011validation-error:0.20627\u001b[0m\n",
      "\u001b[34mINFO:RabitTracker:[15]#011train-error:0.18094#011validation-error:0.20708\u001b[0m\n",
      "\u001b[34mINFO:RabitTracker:[16]#011train-error:0.18014#011validation-error:0.20708\u001b[0m\n",
      "\u001b[34mINFO:RabitTracker:[17]#011train-error:0.17974#011validation-error:0.20708\u001b[0m\n",
      "\u001b[34mINFO:RabitTracker:[18]#011train-error:0.17920#011validation-error:0.20748\u001b[0m\n",
      "\u001b[34mINFO:RabitTracker:[19]#011train-error:0.17786#011validation-error:0.20788\u001b[0m\n",
      "\u001b[34mINFO:RabitTracker:[20]#011train-error:0.17719#011validation-error:0.20708\u001b[0m\n",
      "\u001b[34mINFO:RabitTracker:[21]#011train-error:0.17598#011validation-error:0.20869\u001b[0m\n",
      "\u001b[34mINFO:RabitTracker:[22]#011train-error:0.17464#011validation-error:0.20909\u001b[0m\n",
      "\u001b[34mINFO:RabitTracker:[23]#011train-error:0.17357#011validation-error:0.20909\u001b[0m\n",
      "\u001b[34mINFO:RabitTracker:[24]#011train-error:0.17330#011validation-error:0.20869\u001b[0m\n",
      "\u001b[34mINFO:RabitTracker:[25]#011train-error:0.17250#011validation-error:0.20869\u001b[0m\n",
      "\u001b[34mINFO:RabitTracker:[26]#011train-error:0.17183#011validation-error:0.20949\u001b[0m\n",
      "\u001b[34mINFO:RabitTracker:[27]#011train-error:0.17022#011validation-error:0.20909\u001b[0m\n",
      "\u001b[34mINFO:RabitTracker:[28]#011train-error:0.16928#011validation-error:0.21029\u001b[0m\n",
      "\u001b[34mINFO:RabitTracker:[29]#011train-error:0.16888#011validation-error:0.20949\u001b[0m\n",
      "\u001b[34mINFO:RabitTracker:[30]#011train-error:0.16767#011validation-error:0.20989\u001b[0m\n",
      "\u001b[34mINFO:RabitTracker:[31]#011train-error:0.16660#011validation-error:0.21070\u001b[0m\n",
      "\u001b[34mINFO:RabitTracker:[32]#011train-error:0.16593#011validation-error:0.21190\u001b[0m\n",
      "\u001b[34mINFO:RabitTracker:[33]#011train-error:0.16378#011validation-error:0.21230\u001b[0m\n",
      "\u001b[34mINFO:RabitTracker:[34]#011train-error:0.16392#011validation-error:0.21190\u001b[0m\n",
      "\u001b[34mINFO:RabitTracker:[35]#011train-error:0.16258#011validation-error:0.21271\u001b[0m\n",
      "\u001b[34mINFO:RabitTracker:[36]#011train-error:0.16231#011validation-error:0.21230\u001b[0m\n",
      "\u001b[34mINFO:RabitTracker:[37]#011train-error:0.16070#011validation-error:0.21271\u001b[0m\n",
      "\u001b[34mINFO:RabitTracker:[38]#011train-error:0.15976#011validation-error:0.21351\u001b[0m\n",
      "\u001b[34mINFO:RabitTracker:[39]#011train-error:0.15923#011validation-error:0.21230\u001b[0m\n",
      "\u001b[34mINFO:RabitTracker:[40]#011train-error:0.15802#011validation-error:0.21230\u001b[0m\n",
      "\u001b[34mINFO:RabitTracker:[41]#011train-error:0.15588#011validation-error:0.21190\u001b[0m\n",
      "\u001b[34mINFO:RabitTracker:[42]#011train-error:0.15574#011validation-error:0.21110\u001b[0m\n",
      "\u001b[34mINFO:RabitTracker:[43]#011train-error:0.15480#011validation-error:0.21190\u001b[0m\n",
      "\u001b[34mINFO:RabitTracker:[44]#011train-error:0.15306#011validation-error:0.21311\u001b[0m\n",
      "\u001b[34mINFO:RabitTracker:[45]#011train-error:0.15239#011validation-error:0.21230\u001b[0m\n",
      "\u001b[34mINFO:RabitTracker:[46]#011train-error:0.15052#011validation-error:0.21271\u001b[0m\n",
      "\u001b[34mINFO:RabitTracker:[47]#011train-error:0.14944#011validation-error:0.21351\u001b[0m\n",
      "\u001b[34mINFO:RabitTracker:[48]#011train-error:0.14931#011validation-error:0.21391\u001b[0m\n",
      "\u001b[34mINFO:RabitTracker:[49]#011train-error:0.14824#011validation-error:0.21512\u001b[0m\n",
      "\u001b[34mINFO:RabitTracker:[50]#011train-error:0.14690#011validation-error:0.21431\u001b[0m\n",
      "\u001b[34mINFO:RabitTracker:[51]#011train-error:0.14676#011validation-error:0.21552\u001b[0m\n",
      "\u001b[34mINFO:RabitTracker:[52]#011train-error:0.14569#011validation-error:0.21592\u001b[0m\n",
      "\u001b[34mINFO:RabitTracker:[53]#011train-error:0.14449#011validation-error:0.21512\u001b[0m\n",
      "\u001b[34mINFO:RabitTracker:[54]#011train-error:0.14395#011validation-error:0.21512\u001b[0m\n",
      "\u001b[34mINFO:RabitTracker:[55]#011train-error:0.14381#011validation-error:0.21552\u001b[0m\n",
      "\u001b[34mINFO:RabitTracker:[56]#011train-error:0.14261#011validation-error:0.21552\u001b[0m\n",
      "\u001b[34mINFO:RabitTracker:[57]#011train-error:0.14221#011validation-error:0.21673\u001b[0m\n",
      "\u001b[34mINFO:RabitTracker:[58]#011train-error:0.14127#011validation-error:0.21673\u001b[0m\n",
      "\u001b[34mINFO:RabitTracker:[59]#011train-error:0.13939#011validation-error:0.21592\u001b[0m\n",
      "\u001b[34mINFO:RabitTracker:[60]#011train-error:0.13778#011validation-error:0.21673\u001b[0m\n",
      "\u001b[34mINFO:RabitTracker:[61]#011train-error:0.13617#011validation-error:0.21673\u001b[0m\n",
      "\u001b[34mINFO:RabitTracker:[62]#011train-error:0.13510#011validation-error:0.21713\u001b[0m\n",
      "\u001b[34mINFO:RabitTracker:[63]#011train-error:0.13376#011validation-error:0.21914\u001b[0m\n",
      "\u001b[34mINFO:RabitTracker:[64]#011train-error:0.13296#011validation-error:0.22035\u001b[0m\n",
      "\u001b[34mINFO:RabitTracker:[65]#011train-error:0.13202#011validation-error:0.22115\u001b[0m\n",
      "\u001b[34mINFO:RabitTracker:[66]#011train-error:0.13014#011validation-error:0.22115\u001b[0m\n",
      "\u001b[34mINFO:RabitTracker:[67]#011train-error:0.12880#011validation-error:0.21994\u001b[0m\n",
      "\u001b[34mINFO:RabitTracker:[68]#011train-error:0.12813#011validation-error:0.21994\u001b[0m\n",
      "\u001b[34mINFO:RabitTracker:[69]#011train-error:0.12733#011validation-error:0.22035\u001b[0m\n",
      "\u001b[34mINFO:RabitTracker:[70]#011train-error:0.12572#011validation-error:0.21914\u001b[0m\n",
      "\u001b[34mINFO:RabitTracker:[71]#011train-error:0.12438#011validation-error:0.22075\u001b[0m\n",
      "\u001b[34mINFO:RabitTracker:[72]#011train-error:0.12371#011validation-error:0.22075\u001b[0m\n",
      "\u001b[34mINFO:RabitTracker:[73]#011train-error:0.12170#011validation-error:0.22035\u001b[0m\n",
      "\u001b[34mINFO:RabitTracker:[74]#011train-error:0.12049#011validation-error:0.21914\u001b[0m\n",
      "\u001b[34mINFO:RabitTracker:[75]#011train-error:0.12036#011validation-error:0.21874\u001b[0m\n",
      "\u001b[34mINFO:RabitTracker:[76]#011train-error:0.11862#011validation-error:0.21954\u001b[0m\n",
      "\u001b[34mINFO:RabitTracker:[77]#011train-error:0.11754#011validation-error:0.21793\u001b[0m\n",
      "\u001b[34mINFO:RabitTracker:[78]#011train-error:0.11661#011validation-error:0.21874\u001b[0m\n",
      "\u001b[34mINFO:RabitTracker:[79]#011train-error:0.11540#011validation-error:0.21874\u001b[0m\n",
      "\u001b[34mINFO:RabitTracker:[80]#011train-error:0.11433#011validation-error:0.21954\u001b[0m\n",
      "\u001b[34mINFO:RabitTracker:[81]#011train-error:0.11299#011validation-error:0.21874\u001b[0m\n",
      "\u001b[34mINFO:RabitTracker:[82]#011train-error:0.11178#011validation-error:0.22075\u001b[0m\n",
      "\u001b[34mINFO:RabitTracker:[83]#011train-error:0.11084#011validation-error:0.22035\u001b[0m\n",
      "\u001b[34mINFO:RabitTracker:[84]#011train-error:0.11071#011validation-error:0.21954\u001b[0m\n",
      "\u001b[34mINFO:RabitTracker:[85]#011train-error:0.10910#011validation-error:0.22035\u001b[0m\n",
      "\u001b[34mINFO:RabitTracker:[86]#011train-error:0.10776#011validation-error:0.22195\u001b[0m\n",
      "\u001b[34mINFO:RabitTracker:[87]#011train-error:0.10669#011validation-error:0.22115\u001b[0m\n",
      "\u001b[34mINFO:RabitTracker:[88]#011train-error:0.10562#011validation-error:0.22115\u001b[0m\n",
      "\u001b[34mINFO:RabitTracker:[89]#011train-error:0.10454#011validation-error:0.22155\u001b[0m\n",
      "\u001b[34mINFO:RabitTracker:[90]#011train-error:0.10361#011validation-error:0.22155\u001b[0m\n",
      "\u001b[34mINFO:RabitTracker:[91]#011train-error:0.10267#011validation-error:0.22236\u001b[0m\n",
      "\u001b[34mINFO:RabitTracker:[92]#011train-error:0.10293#011validation-error:0.22155\u001b[0m\n",
      "\u001b[34mINFO:RabitTracker:[93]#011train-error:0.10106#011validation-error:0.22477\u001b[0m\n",
      "\u001b[34mINFO:RabitTracker:[94]#011train-error:0.09945#011validation-error:0.22517\u001b[0m\n",
      "\u001b[34mINFO:RabitTracker:[95]#011train-error:0.09865#011validation-error:0.22477\u001b[0m\n",
      "\u001b[34mINFO:RabitTracker:[96]#011train-error:0.09824#011validation-error:0.22316\u001b[0m\n",
      "\u001b[34mINFO:RabitTracker:[97]#011train-error:0.09731#011validation-error:0.22437\u001b[0m\n",
      "\u001b[34mINFO:RabitTracker:[98]#011train-error:0.09664#011validation-error:0.22517\u001b[0m\n",
      "\u001b[34mINFO:RabitTracker:[99]#011train-error:0.09597#011validation-error:0.22437\u001b[0m\n",
      "\u001b[34mINFO:RabitTracker:@tracker All nodes finishes job\u001b[0m\n",
      "\u001b[34mINFO:RabitTracker:@tracker 14.949635028839111 secs between node start and job finish\u001b[0m\n",
      "\n",
      "2020-11-09 02:23:28 Uploading - Uploading generated training model\n",
      "2020-11-09 02:23:28 Completed - Training job completed\n",
      "Training seconds: 332\n",
      "Billable seconds: 332\n"
     ]
    }
   ],
   "source": [
    "xgb.fit({'train': train_set_pointer, 'validation': test_set_pointer})"
   ]
  },
  {
   "cell_type": "markdown",
   "metadata": {},
   "source": [
    "### 4. Host the Trained Model as a SageMaker Endpoint (using Estimator object)"
   ]
  },
  {
   "cell_type": "code",
   "execution_count": 13,
   "metadata": {},
   "outputs": [
    {
     "name": "stdout",
     "output_type": "stream",
     "text": [
      "---------------!"
     ]
    }
   ],
   "source": [
    "xgb_predictor = xgb.deploy(initial_instance_count=2,\n",
    "                           instance_type='ml.m5.large')"
   ]
  },
  {
   "cell_type": "markdown",
   "metadata": {},
   "source": [
    "### 5. Real Time Inference from the Endpoint"
   ]
  },
  {
   "cell_type": "code",
   "execution_count": 14,
   "metadata": {},
   "outputs": [],
   "source": [
    "csv_serializer = CSVSerializer()\n",
    "predictor = Predictor(endpoint_name=xgb_predictor.endpoint_name, \n",
    "                      serializer=csv_serializer)"
   ]
  },
  {
   "cell_type": "code",
   "execution_count": 15,
   "metadata": {},
   "outputs": [],
   "source": [
    "test_df = pd.read_csv('./DATA/test/test.csv', names=['class', 'bmi', 'diastolic_bp_change', 'systolic_bp_change', 'respiratory_rate'])"
   ]
  },
  {
   "cell_type": "code",
   "execution_count": 16,
   "metadata": {},
   "outputs": [
    {
     "data": {
      "text/html": [
       "<div>\n",
       "<style scoped>\n",
       "    .dataframe tbody tr th:only-of-type {\n",
       "        vertical-align: middle;\n",
       "    }\n",
       "\n",
       "    .dataframe tbody tr th {\n",
       "        vertical-align: top;\n",
       "    }\n",
       "\n",
       "    .dataframe thead th {\n",
       "        text-align: right;\n",
       "    }\n",
       "</style>\n",
       "<table border=\"1\" class=\"dataframe\">\n",
       "  <thead>\n",
       "    <tr style=\"text-align: right;\">\n",
       "      <th></th>\n",
       "      <th>class</th>\n",
       "      <th>bmi</th>\n",
       "      <th>diastolic_bp_change</th>\n",
       "      <th>systolic_bp_change</th>\n",
       "      <th>respiratory_rate</th>\n",
       "    </tr>\n",
       "  </thead>\n",
       "  <tbody>\n",
       "    <tr>\n",
       "      <th>0</th>\n",
       "      <td>0</td>\n",
       "      <td>0.132043</td>\n",
       "      <td>0.088718</td>\n",
       "      <td>0.047720</td>\n",
       "      <td>0.00000</td>\n",
       "    </tr>\n",
       "    <tr>\n",
       "      <th>1</th>\n",
       "      <td>0</td>\n",
       "      <td>0.217554</td>\n",
       "      <td>0.050000</td>\n",
       "      <td>0.078014</td>\n",
       "      <td>0.01942</td>\n",
       "    </tr>\n",
       "    <tr>\n",
       "      <th>2</th>\n",
       "      <td>0</td>\n",
       "      <td>0.526601</td>\n",
       "      <td>0.200000</td>\n",
       "      <td>0.085106</td>\n",
       "      <td>0.00000</td>\n",
       "    </tr>\n",
       "    <tr>\n",
       "      <th>3</th>\n",
       "      <td>1</td>\n",
       "      <td>0.191450</td>\n",
       "      <td>0.111282</td>\n",
       "      <td>0.111550</td>\n",
       "      <td>0.00000</td>\n",
       "    </tr>\n",
       "    <tr>\n",
       "      <th>4</th>\n",
       "      <td>1</td>\n",
       "      <td>0.212498</td>\n",
       "      <td>0.450000</td>\n",
       "      <td>0.170213</td>\n",
       "      <td>0.04283</td>\n",
       "    </tr>\n",
       "  </tbody>\n",
       "</table>\n",
       "</div>"
      ],
      "text/plain": [
       "   class       bmi  diastolic_bp_change  systolic_bp_change  respiratory_rate\n",
       "0      0  0.132043             0.088718            0.047720           0.00000\n",
       "1      0  0.217554             0.050000            0.078014           0.01942\n",
       "2      0  0.526601             0.200000            0.085106           0.00000\n",
       "3      1  0.191450             0.111282            0.111550           0.00000\n",
       "4      1  0.212498             0.450000            0.170213           0.04283"
      ]
     },
     "execution_count": 16,
     "metadata": {},
     "output_type": "execute_result"
    }
   ],
   "source": [
    "test_df.head()"
   ]
  },
  {
   "cell_type": "code",
   "execution_count": 17,
   "metadata": {},
   "outputs": [
    {
     "data": {
      "text/html": [
       "<div>\n",
       "<style scoped>\n",
       "    .dataframe tbody tr th:only-of-type {\n",
       "        vertical-align: middle;\n",
       "    }\n",
       "\n",
       "    .dataframe tbody tr th {\n",
       "        vertical-align: top;\n",
       "    }\n",
       "\n",
       "    .dataframe thead th {\n",
       "        text-align: right;\n",
       "    }\n",
       "</style>\n",
       "<table border=\"1\" class=\"dataframe\">\n",
       "  <thead>\n",
       "    <tr style=\"text-align: right;\">\n",
       "      <th></th>\n",
       "      <th>class</th>\n",
       "      <th>bmi</th>\n",
       "      <th>diastolic_bp_change</th>\n",
       "      <th>systolic_bp_change</th>\n",
       "      <th>respiratory_rate</th>\n",
       "    </tr>\n",
       "  </thead>\n",
       "  <tbody>\n",
       "    <tr>\n",
       "      <th>1532</th>\n",
       "      <td>0</td>\n",
       "      <td>0.523235</td>\n",
       "      <td>0.025</td>\n",
       "      <td>0.028369</td>\n",
       "      <td>0.0</td>\n",
       "    </tr>\n",
       "  </tbody>\n",
       "</table>\n",
       "</div>"
      ],
      "text/plain": [
       "      class       bmi  diastolic_bp_change  systolic_bp_change  \\\n",
       "1532      0  0.523235                0.025            0.028369   \n",
       "\n",
       "      respiratory_rate  \n",
       "1532               0.0  "
      ]
     },
     "execution_count": 17,
     "metadata": {},
     "output_type": "execute_result"
    }
   ],
   "source": [
    "X = test_df.sample(1)\n",
    "X"
   ]
  },
  {
   "cell_type": "code",
   "execution_count": 18,
   "metadata": {},
   "outputs": [
    {
     "data": {
      "text/plain": [
       "array([0.52323543, 0.025     , 0.02836879, 0.        ])"
      ]
     },
     "execution_count": 18,
     "metadata": {},
     "output_type": "execute_result"
    }
   ],
   "source": [
    "X = X.values[0]\n",
    "X[1:]"
   ]
  },
  {
   "cell_type": "code",
   "execution_count": 19,
   "metadata": {},
   "outputs": [],
   "source": [
    "payload = X[1:]"
   ]
  },
  {
   "cell_type": "code",
   "execution_count": 20,
   "metadata": {},
   "outputs": [
    {
     "name": "stdout",
     "output_type": "stream",
     "text": [
      "PREDICTION = NOT DIABETIC\n",
      "\n",
      "CPU times: user 11.2 ms, sys: 0 ns, total: 11.2 ms\n",
      "Wall time: 151 ms\n"
     ]
    }
   ],
   "source": [
    "%%time\n",
    "\n",
    "predicted_class_prob = predictor.predict(payload).decode('utf-8')\n",
    "if float(predicted_class_prob) < 0.5:\n",
    "    print('PREDICTION = NOT DIABETIC')\n",
    "else:\n",
    "    print('PREDICTION = DIABETIC')\n",
    "print()"
   ]
  },
  {
   "cell_type": "markdown",
   "metadata": {},
   "source": [
    "### 5. Evaluate Hosted Model for Accuracy"
   ]
  },
  {
   "cell_type": "code",
   "execution_count": 21,
   "metadata": {},
   "outputs": [],
   "source": [
    "predictions = []\n",
    "expected = []\n",
    "correct = 0\n",
    "for row in test_df.values:\n",
    "    expected_class = row[0]\n",
    "    payload = row[1:]\n",
    "    predicted_class_prob = predictor.predict(payload).decode('utf-8')\n",
    "    \n",
    "    predicted_class = 1\n",
    "    if float(predicted_class_prob) < 0.5:\n",
    "        predicted_class = 0\n",
    "        \n",
    "    if predicted_class == expected_class:\n",
    "        correct += 1\n",
    "    predictions.append(predicted_class)\n",
    "    expected.append(expected_class)"
   ]
  },
  {
   "cell_type": "code",
   "execution_count": 22,
   "metadata": {},
   "outputs": [
    {
     "name": "stdout",
     "output_type": "stream",
     "text": [
      "Accuracy = 77.56%\n"
     ]
    }
   ],
   "source": [
    "print('Accuracy = {:.2f}%'.format(correct/len(predictions) * 100))"
   ]
  },
  {
   "cell_type": "markdown",
   "metadata": {},
   "source": [
    "#### Confusion Matrix"
   ]
  },
  {
   "cell_type": "code",
   "execution_count": 23,
   "metadata": {},
   "outputs": [
    {
     "data": {
      "text/html": [
       "<div>\n",
       "<style scoped>\n",
       "    .dataframe tbody tr th:only-of-type {\n",
       "        vertical-align: middle;\n",
       "    }\n",
       "\n",
       "    .dataframe tbody tr th {\n",
       "        vertical-align: top;\n",
       "    }\n",
       "\n",
       "    .dataframe thead th {\n",
       "        text-align: right;\n",
       "    }\n",
       "</style>\n",
       "<table border=\"1\" class=\"dataframe\">\n",
       "  <thead>\n",
       "    <tr style=\"text-align: right;\">\n",
       "      <th>Predicted</th>\n",
       "      <th>0</th>\n",
       "      <th>1</th>\n",
       "      <th>All</th>\n",
       "    </tr>\n",
       "    <tr>\n",
       "      <th>Actual</th>\n",
       "      <th></th>\n",
       "      <th></th>\n",
       "      <th></th>\n",
       "    </tr>\n",
       "  </thead>\n",
       "  <tbody>\n",
       "    <tr>\n",
       "      <th>0.0</th>\n",
       "      <td>1908</td>\n",
       "      <td>72</td>\n",
       "      <td>1980</td>\n",
       "    </tr>\n",
       "    <tr>\n",
       "      <th>1.0</th>\n",
       "      <td>486</td>\n",
       "      <td>21</td>\n",
       "      <td>507</td>\n",
       "    </tr>\n",
       "    <tr>\n",
       "      <th>All</th>\n",
       "      <td>2394</td>\n",
       "      <td>93</td>\n",
       "      <td>2487</td>\n",
       "    </tr>\n",
       "  </tbody>\n",
       "</table>\n",
       "</div>"
      ],
      "text/plain": [
       "Predicted     0   1   All\n",
       "Actual                   \n",
       "0.0        1908  72  1980\n",
       "1.0         486  21   507\n",
       "All        2394  93  2487"
      ]
     },
     "execution_count": 23,
     "metadata": {},
     "output_type": "execute_result"
    }
   ],
   "source": [
    "expected = pd.Series(np.array(expected))\n",
    "predictions = pd.Series(np.array(predictions))\n",
    "pd.crosstab(expected, predictions, rownames=['Actual'], colnames=['Predicted'], margins=True)"
   ]
  }
 ],
 "metadata": {
  "instance_type": "ml.t3.medium",
  "kernelspec": {
   "display_name": "Python 3 (Data Science)",
   "language": "python",
   "name": "python3__SAGEMAKER_INTERNAL__arn:aws:sagemaker:us-east-1:081325390199:image/datascience-1.0"
  },
  "language_info": {
   "codemirror_mode": {
    "name": "ipython",
    "version": 3
   },
   "file_extension": ".py",
   "mimetype": "text/x-python",
   "name": "python",
   "nbconvert_exporter": "python",
   "pygments_lexer": "ipython3",
   "version": "3.7.6"
  }
 },
 "nbformat": 4,
 "nbformat_minor": 4
}
