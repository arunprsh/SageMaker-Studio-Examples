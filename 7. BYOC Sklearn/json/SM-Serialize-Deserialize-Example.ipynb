{
 "cells": [
  {
   "cell_type": "markdown",
   "id": "detected-director",
   "metadata": {},
   "source": [
    "#### Imports"
   ]
  },
  {
   "cell_type": "code",
   "execution_count": 37,
   "id": "helpful-burke",
   "metadata": {},
   "outputs": [],
   "source": [
    "from sagemaker.deserializers import JSONDeserializer, NumpyDeserializer\n",
    "from sagemaker.serializers import JSONSerializer, NumpySerializer, CSVSerializer\n",
    "import numpy as np\n",
    "import json"
   ]
  },
  {
   "cell_type": "markdown",
   "id": "configured-banks",
   "metadata": {},
   "source": [
    "#### Create a custom serializer (Slightly modified version of JSONSerializer)"
   ]
  },
  {
   "cell_type": "code",
   "execution_count": 22,
   "id": "sustained-complex",
   "metadata": {},
   "outputs": [],
   "source": [
    "class MySerializer(JSONSerializer):\n",
    "    def serialize(self, raw_payload):\n",
    "        payload = {'instances': []}\n",
    "        for row in raw_payload:\n",
    "            payload['instances'].append({'features': row.tolist()})\n",
    "        return json.dumps(payload)"
   ]
  },
  {
   "cell_type": "code",
   "execution_count": 23,
   "id": "wooden-external",
   "metadata": {},
   "outputs": [
    {
     "data": {
      "text/plain": [
       "{'content_type': 'application/json'}"
      ]
     },
     "execution_count": 23,
     "metadata": {},
     "output_type": "execute_result"
    }
   ],
   "source": [
    "my_serializer = MySerializer()\n",
    "my_serializer.__dict__"
   ]
  },
  {
   "cell_type": "code",
   "execution_count": 24,
   "id": "oriental-breast",
   "metadata": {},
   "outputs": [
    {
     "data": {
      "text/plain": [
       "array([[0.1, 0.2, 0.3],\n",
       "       [0.4, 0.5, 0.6]])"
      ]
     },
     "execution_count": 24,
     "metadata": {},
     "output_type": "execute_result"
    }
   ],
   "source": [
    "raw_payload = np.array([[0.1, 0.2, 0.3], [0.4, 0.5, 0.6]])\n",
    "raw_payload"
   ]
  },
  {
   "cell_type": "code",
   "execution_count": 25,
   "id": "oriental-college",
   "metadata": {},
   "outputs": [
    {
     "data": {
      "text/plain": [
       "'{\"instances\": [{\"features\": [0.1, 0.2, 0.3]}, {\"features\": [0.4, 0.5, 0.6]}]}'"
      ]
     },
     "execution_count": 25,
     "metadata": {},
     "output_type": "execute_result"
    }
   ],
   "source": [
    "my_serializer.serialize(raw_payload)"
   ]
  },
  {
   "cell_type": "markdown",
   "id": "persistent-somewhere",
   "metadata": {},
   "source": [
    "#### Testing different default serializers "
   ]
  },
  {
   "cell_type": "code",
   "execution_count": 27,
   "id": "proud-tension",
   "metadata": {},
   "outputs": [
    {
     "data": {
      "text/plain": [
       "array([[0.1, 0.2, 0.3],\n",
       "       [0.4, 0.5, 0.6]])"
      ]
     },
     "execution_count": 27,
     "metadata": {},
     "output_type": "execute_result"
    }
   ],
   "source": [
    "raw_payload = np.array([[0.1, 0.2, 0.3], [0.4, 0.5, 0.6]])\n",
    "raw_payload"
   ]
  },
  {
   "cell_type": "code",
   "execution_count": 28,
   "id": "toxic-attention",
   "metadata": {},
   "outputs": [],
   "source": [
    "json_serializer = JSONSerializer()"
   ]
  },
  {
   "cell_type": "code",
   "execution_count": 31,
   "id": "swedish-czech",
   "metadata": {},
   "outputs": [
    {
     "data": {
      "text/plain": [
       "'[[0.1, 0.2, 0.3], [0.4, 0.5, 0.6]]'"
      ]
     },
     "execution_count": 31,
     "metadata": {},
     "output_type": "execute_result"
    }
   ],
   "source": [
    "serialized_payload = json_serializer.serialize(raw_payload)\n",
    "serialized_payload"
   ]
  },
  {
   "cell_type": "code",
   "execution_count": 32,
   "id": "driven-campus",
   "metadata": {},
   "outputs": [
    {
     "data": {
      "text/plain": [
       "str"
      ]
     },
     "execution_count": 32,
     "metadata": {},
     "output_type": "execute_result"
    }
   ],
   "source": [
    "type(serialized_payload)"
   ]
  },
  {
   "cell_type": "code",
   "execution_count": 38,
   "id": "square-dictionary",
   "metadata": {},
   "outputs": [],
   "source": [
    "csv_serializer = CSVSerializer()"
   ]
  },
  {
   "cell_type": "code",
   "execution_count": 39,
   "id": "regulation-situation",
   "metadata": {},
   "outputs": [
    {
     "data": {
      "text/plain": [
       "'0.1,0.2,0.3\\n0.4,0.5,0.6'"
      ]
     },
     "execution_count": 39,
     "metadata": {},
     "output_type": "execute_result"
    }
   ],
   "source": [
    "serialized_payload = csv_serializer.serialize(raw_payload)\n",
    "serialized_payload"
   ]
  },
  {
   "cell_type": "markdown",
   "id": "treated-acoustic",
   "metadata": {},
   "source": [
    "Testing Numpy Serializer"
   ]
  },
  {
   "cell_type": "code",
   "execution_count": 42,
   "id": "similar-difficulty",
   "metadata": {},
   "outputs": [],
   "source": [
    "raw_payload = [1, 2, 3]"
   ]
  },
  {
   "cell_type": "code",
   "execution_count": 43,
   "id": "cooperative-multimedia",
   "metadata": {},
   "outputs": [],
   "source": [
    "numpy_serializer = NumpySerializer()"
   ]
  },
  {
   "cell_type": "code",
   "execution_count": 44,
   "id": "municipal-flavor",
   "metadata": {},
   "outputs": [
    {
     "data": {
      "text/plain": [
       "b\"\\x93NUMPY\\x01\\x00v\\x00{'descr': '<i8', 'fortran_order': False, 'shape': (3,), }                                                            \\n\\x01\\x00\\x00\\x00\\x00\\x00\\x00\\x00\\x02\\x00\\x00\\x00\\x00\\x00\\x00\\x00\\x03\\x00\\x00\\x00\\x00\\x00\\x00\\x00\""
      ]
     },
     "execution_count": 44,
     "metadata": {},
     "output_type": "execute_result"
    }
   ],
   "source": [
    "serialized_payload = numpy_serializer.serialize(raw_payload)\n",
    "serialized_payload"
   ]
  },
  {
   "cell_type": "markdown",
   "id": "vanilla-sequence",
   "metadata": {},
   "source": [
    "#### Testing default deserializers "
   ]
  },
  {
   "cell_type": "code",
   "execution_count": 45,
   "id": "partial-adventure",
   "metadata": {},
   "outputs": [],
   "source": [
    "numpy_deserializer = NumpyDeserializer()"
   ]
  },
  {
   "cell_type": "code",
   "execution_count": null,
   "id": "foreign-treasure",
   "metadata": {},
   "outputs": [],
   "source": []
  }
 ],
 "metadata": {
  "kernelspec": {
   "display_name": "conda_python3",
   "language": "python",
   "name": "conda_python3"
  },
  "language_info": {
   "codemirror_mode": {
    "name": "ipython",
    "version": 3
   },
   "file_extension": ".py",
   "mimetype": "text/x-python",
   "name": "python",
   "nbconvert_exporter": "python",
   "pygments_lexer": "ipython3",
   "version": "3.6.13"
  }
 },
 "nbformat": 4,
 "nbformat_minor": 5
}
