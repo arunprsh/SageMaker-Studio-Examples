{
 "cells": [
  {
   "cell_type": "markdown",
   "metadata": {},
   "source": [
    "## Parallel Hyper Parameter Optimization (HPO) using SageMaker Tuning"
   ]
  },
  {
   "cell_type": "markdown",
   "metadata": {},
   "source": [
    "### Imports "
   ]
  },
  {
   "cell_type": "code",
   "execution_count": 1,
   "metadata": {},
   "outputs": [],
   "source": [
    "# ML Imports \n",
    "from sklearn.preprocessing import LabelEncoder, MinMaxScaler\n",
    "from sklearn.model_selection import train_test_split\n",
    "import pandas as pd\n",
    "import numpy as np\n",
    "import json\n",
    "import os\n",
    "\n",
    "# AWS Imports \n",
    "from sagemaker.tuner import IntegerParameter, CategoricalParameter, ContinuousParameter, HyperparameterTuner\n",
    "from sagemaker.serializers import CSVSerializer\n",
    "from sagemaker.inputs import TrainingInput\n",
    "from sagemaker import get_execution_role\n",
    "import sagemaker\n",
    "import boto3"
   ]
  },
  {
   "cell_type": "markdown",
   "metadata": {},
   "source": [
    "### 2. Essentials "
   ]
  },
  {
   "cell_type": "code",
   "execution_count": 2,
   "metadata": {},
   "outputs": [
    {
     "name": "stdout",
     "output_type": "stream",
     "text": [
      "Role = arn:aws:iam::892313895307:role/service-role/AmazonSageMaker-ExecutionRole-20200629T123070\n"
     ]
    }
   ],
   "source": [
    "# Get the Execution Role for this Notebook and AWS Session to create Clients\n",
    "sagemaker_execution_role = get_execution_role()\n",
    "print('Role = {}'.format(sagemaker_execution_role))\n",
    "session = boto3.Session()\n",
    "\n",
    "# Clients and Resources\n",
    "s3 = session.resource('s3')\n",
    "sagemaker_session = sagemaker.Session()\n",
    "sagemaker_client = boto3.client('sagemaker')\n",
    "\n",
    "BUCKET = sagemaker_session.default_bucket()\n",
    "PREFIX = 'xgboost-clf'"
   ]
  },
  {
   "cell_type": "markdown",
   "metadata": {},
   "source": [
    "##### Upload Train & Test Sets to S3 and Create Pointers to Data"
   ]
  },
  {
   "cell_type": "code",
   "execution_count": 3,
   "metadata": {},
   "outputs": [
    {
     "data": {
      "text/plain": [
       "s3.Bucket(name='sagemaker-us-east-1-892313895307')"
      ]
     },
     "execution_count": 3,
     "metadata": {},
     "output_type": "execute_result"
    }
   ],
   "source": [
    "s3.create_bucket(Bucket=BUCKET)"
   ]
  },
  {
   "cell_type": "code",
   "execution_count": 4,
   "metadata": {},
   "outputs": [],
   "source": [
    "s3.Bucket(BUCKET).Object(os.path.join(PREFIX, 'train/train.csv')).upload_file('./DATA/train/train.csv')\n",
    "s3.Bucket(BUCKET).Object(os.path.join(PREFIX, 'test/test.csv')).upload_file('./DATA/test/test.csv')\n",
    "s3.Bucket(BUCKET).Object(os.path.join(PREFIX, 'batch_test/batch_test.csv')).upload_file('./DATA/batch_test/batch_test.csv')"
   ]
  },
  {
   "cell_type": "markdown",
   "metadata": {},
   "source": [
    "##### Create Pointers to the uploaded files "
   ]
  },
  {
   "cell_type": "code",
   "execution_count": 5,
   "metadata": {},
   "outputs": [],
   "source": [
    "train_set_location = 's3://{}/{}/train/'.format(BUCKET, PREFIX)\n",
    "test_set_location = 's3://{}/{}/test/'.format(BUCKET, PREFIX)"
   ]
  },
  {
   "cell_type": "code",
   "execution_count": 6,
   "metadata": {},
   "outputs": [
    {
     "name": "stdout",
     "output_type": "stream",
     "text": [
      "s3://sagemaker-us-east-1-892313895307/xgboost-clf/train/\n",
      "s3://sagemaker-us-east-1-892313895307/xgboost-clf/test/\n"
     ]
    }
   ],
   "source": [
    "print(train_set_location)\n",
    "print(test_set_location)"
   ]
  },
  {
   "cell_type": "code",
   "execution_count": 7,
   "metadata": {},
   "outputs": [],
   "source": [
    "train_set_pointer = TrainingInput(s3_data=train_set_location, content_type='csv')\n",
    "test_set_pointer = TrainingInput(s3_data=test_set_location, content_type='csv')"
   ]
  },
  {
   "cell_type": "code",
   "execution_count": 8,
   "metadata": {},
   "outputs": [
    {
     "name": "stdout",
     "output_type": "stream",
     "text": [
      "{\n",
      "  \"config\": {\n",
      "    \"DataSource\": {\n",
      "      \"S3DataSource\": {\n",
      "        \"S3DataType\": \"S3Prefix\",\n",
      "        \"S3Uri\": \"s3://sagemaker-us-east-1-892313895307/xgboost-clf/train/\",\n",
      "        \"S3DataDistributionType\": \"FullyReplicated\"\n",
      "      }\n",
      "    },\n",
      "    \"ContentType\": \"csv\"\n",
      "  }\n",
      "}\n"
     ]
    }
   ],
   "source": [
    "print(json.dumps(train_set_pointer.__dict__, indent=2))"
   ]
  },
  {
   "cell_type": "markdown",
   "metadata": {},
   "source": [
    "### 3. Train a Model using SageMaker + Built-in XgBoost Algorithm"
   ]
  },
  {
   "cell_type": "code",
   "execution_count": 9,
   "metadata": {},
   "outputs": [],
   "source": [
    "container_uri = sagemaker.image_uris.retrieve(region=session.region_name, \n",
    "                                              framework='xgboost', \n",
    "                                              version='1.0-1', \n",
    "                                              image_scope='training')"
   ]
  },
  {
   "cell_type": "code",
   "execution_count": 10,
   "metadata": {},
   "outputs": [],
   "source": [
    "xgb = sagemaker.estimator.Estimator(image_uri=container_uri,\n",
    "                                    role=sagemaker_execution_role, \n",
    "                                    instance_count=1, \n",
    "                                    instance_type='ml.m5.large',\n",
    "                                    output_path='s3://{}/{}/model-artifacts'.format(BUCKET, PREFIX),\n",
    "                                    sagemaker_session=sagemaker_session,\n",
    "                                    base_job_name='clf-xgboost')"
   ]
  },
  {
   "cell_type": "code",
   "execution_count": 11,
   "metadata": {},
   "outputs": [],
   "source": [
    "xgb.set_hyperparameters(objective='binary:logistic',\n",
    "                        num_round=100)"
   ]
  },
  {
   "cell_type": "code",
   "execution_count": 12,
   "metadata": {},
   "outputs": [],
   "source": [
    "hyperparameter_ranges = {'eta': ContinuousParameter(0, 1),\n",
    "                         'min_child_weight': ContinuousParameter(1, 10),\n",
    "                         'alpha': ContinuousParameter(0, 2),\n",
    "                         'max_depth': IntegerParameter(1, 10)}"
   ]
  },
  {
   "cell_type": "code",
   "execution_count": 13,
   "metadata": {},
   "outputs": [],
   "source": [
    "objective_metric_name = 'validation:accuracy'"
   ]
  },
  {
   "cell_type": "code",
   "execution_count": 14,
   "metadata": {},
   "outputs": [],
   "source": [
    "tuner = HyperparameterTuner(xgb,\n",
    "                            objective_metric_name,\n",
    "                            hyperparameter_ranges,\n",
    "                            max_jobs=10,\n",
    "                            max_parallel_jobs=5)"
   ]
  },
  {
   "cell_type": "code",
   "execution_count": 15,
   "metadata": {},
   "outputs": [
    {
     "name": "stdout",
     "output_type": "stream",
     "text": [
      ".......................................................................................................!\n"
     ]
    }
   ],
   "source": [
    "tuner.fit({'train': train_set_pointer, \n",
    "           'validation': test_set_pointer}, \n",
    "           include_cls_metadata=False)"
   ]
  },
  {
   "cell_type": "code",
   "execution_count": 16,
   "metadata": {},
   "outputs": [
    {
     "data": {
      "text/plain": [
       "'sagemaker-xgboost-201209-1711'"
      ]
     },
     "execution_count": 16,
     "metadata": {},
     "output_type": "execute_result"
    }
   ],
   "source": [
    "hpo_job_name = tuner.latest_tuning_job.job_name\n",
    "hpo_job_name"
   ]
  },
  {
   "cell_type": "code",
   "execution_count": 17,
   "metadata": {},
   "outputs": [
    {
     "data": {
      "text/plain": [
       "'Completed'"
      ]
     },
     "execution_count": 17,
     "metadata": {},
     "output_type": "execute_result"
    }
   ],
   "source": [
    "tuning_job_results = sagemaker_client.describe_hyper_parameter_tuning_job(HyperParameterTuningJobName=hpo_job_name)\n",
    "status = tuning_job_results['HyperParameterTuningJobStatus']\n",
    "status"
   ]
  },
  {
   "cell_type": "code",
   "execution_count": 18,
   "metadata": {},
   "outputs": [
    {
     "data": {
      "text/plain": [
       "{'TrainingJobName': 'sagemaker-xgboost-201209-1711-008-d299a5c2',\n",
       " 'TrainingJobArn': 'arn:aws:sagemaker:us-east-1:892313895307:training-job/sagemaker-xgboost-201209-1711-008-d299a5c2',\n",
       " 'CreationTime': datetime.datetime(2020, 12, 9, 17, 15, 41, tzinfo=tzlocal()),\n",
       " 'TrainingStartTime': datetime.datetime(2020, 12, 9, 17, 18, 12, tzinfo=tzlocal()),\n",
       " 'TrainingEndTime': datetime.datetime(2020, 12, 9, 17, 19, 25, tzinfo=tzlocal()),\n",
       " 'TrainingJobStatus': 'Completed',\n",
       " 'TunedHyperParameters': {'alpha': '1.8711020244174286',\n",
       "  'eta': '0.0228779762711755',\n",
       "  'max_depth': '1',\n",
       "  'min_child_weight': '9.952159410331406'},\n",
       " 'FinalHyperParameterTuningJobObjectiveMetric': {'MetricName': 'validation:accuracy',\n",
       "  'Value': 0.7961400151252747},\n",
       " 'ObjectiveStatus': 'Succeeded'}"
      ]
     },
     "execution_count": 18,
     "metadata": {},
     "output_type": "execute_result"
    }
   ],
   "source": [
    "best_training_job = tuning_job_results['BestTrainingJob']\n",
    "best_training_job"
   ]
  },
  {
   "cell_type": "markdown",
   "metadata": {},
   "source": [
    "### 4. Evaluate Results\n",
    "We can list hyperparameters and objective metrics of all training jobs and pick up the training job with the best objective metric."
   ]
  },
  {
   "cell_type": "code",
   "execution_count": 19,
   "metadata": {},
   "outputs": [],
   "source": [
    "tuner = sagemaker.HyperparameterTuningJobAnalytics(hpo_job_name)\n",
    "hpo_results_df = tuner.dataframe()"
   ]
  },
  {
   "cell_type": "code",
   "execution_count": 20,
   "metadata": {},
   "outputs": [
    {
     "data": {
      "text/html": [
       "<div>\n",
       "<style scoped>\n",
       "    .dataframe tbody tr th:only-of-type {\n",
       "        vertical-align: middle;\n",
       "    }\n",
       "\n",
       "    .dataframe tbody tr th {\n",
       "        vertical-align: top;\n",
       "    }\n",
       "\n",
       "    .dataframe thead th {\n",
       "        text-align: right;\n",
       "    }\n",
       "</style>\n",
       "<table border=\"1\" class=\"dataframe\">\n",
       "  <thead>\n",
       "    <tr style=\"text-align: right;\">\n",
       "      <th></th>\n",
       "      <th>alpha</th>\n",
       "      <th>eta</th>\n",
       "      <th>max_depth</th>\n",
       "      <th>min_child_weight</th>\n",
       "      <th>TrainingJobName</th>\n",
       "      <th>TrainingJobStatus</th>\n",
       "      <th>FinalObjectiveValue</th>\n",
       "      <th>TrainingStartTime</th>\n",
       "      <th>TrainingEndTime</th>\n",
       "      <th>TrainingElapsedTimeSeconds</th>\n",
       "    </tr>\n",
       "  </thead>\n",
       "  <tbody>\n",
       "    <tr>\n",
       "      <th>0</th>\n",
       "      <td>1.914010</td>\n",
       "      <td>0.058370</td>\n",
       "      <td>1.0</td>\n",
       "      <td>9.055400</td>\n",
       "      <td>sagemaker-xgboost-201209-1711-010-656e513b</td>\n",
       "      <td>Completed</td>\n",
       "      <td>0.79614</td>\n",
       "      <td>2020-12-09 17:18:14+00:00</td>\n",
       "      <td>2020-12-09 17:19:26+00:00</td>\n",
       "      <td>72.0</td>\n",
       "    </tr>\n",
       "    <tr>\n",
       "      <th>1</th>\n",
       "      <td>0.430650</td>\n",
       "      <td>0.453878</td>\n",
       "      <td>1.0</td>\n",
       "      <td>9.749736</td>\n",
       "      <td>sagemaker-xgboost-201209-1711-009-f515aaa9</td>\n",
       "      <td>Completed</td>\n",
       "      <td>0.79614</td>\n",
       "      <td>2020-12-09 17:17:49+00:00</td>\n",
       "      <td>2020-12-09 17:18:57+00:00</td>\n",
       "      <td>68.0</td>\n",
       "    </tr>\n",
       "    <tr>\n",
       "      <th>2</th>\n",
       "      <td>1.871102</td>\n",
       "      <td>0.022878</td>\n",
       "      <td>1.0</td>\n",
       "      <td>9.952159</td>\n",
       "      <td>sagemaker-xgboost-201209-1711-008-d299a5c2</td>\n",
       "      <td>Completed</td>\n",
       "      <td>0.79614</td>\n",
       "      <td>2020-12-09 17:18:12+00:00</td>\n",
       "      <td>2020-12-09 17:19:25+00:00</td>\n",
       "      <td>73.0</td>\n",
       "    </tr>\n",
       "    <tr>\n",
       "      <th>3</th>\n",
       "      <td>1.718331</td>\n",
       "      <td>0.842489</td>\n",
       "      <td>2.0</td>\n",
       "      <td>4.761570</td>\n",
       "      <td>sagemaker-xgboost-201209-1711-007-95579536</td>\n",
       "      <td>Completed</td>\n",
       "      <td>0.79534</td>\n",
       "      <td>2020-12-09 17:18:22+00:00</td>\n",
       "      <td>2020-12-09 17:19:33+00:00</td>\n",
       "      <td>71.0</td>\n",
       "    </tr>\n",
       "    <tr>\n",
       "      <th>4</th>\n",
       "      <td>0.712389</td>\n",
       "      <td>0.749532</td>\n",
       "      <td>4.0</td>\n",
       "      <td>4.465488</td>\n",
       "      <td>sagemaker-xgboost-201209-1711-006-15241baa</td>\n",
       "      <td>Completed</td>\n",
       "      <td>0.77644</td>\n",
       "      <td>2020-12-09 17:18:14+00:00</td>\n",
       "      <td>2020-12-09 17:19:26+00:00</td>\n",
       "      <td>72.0</td>\n",
       "    </tr>\n",
       "    <tr>\n",
       "      <th>5</th>\n",
       "      <td>0.823433</td>\n",
       "      <td>0.901349</td>\n",
       "      <td>2.0</td>\n",
       "      <td>7.495843</td>\n",
       "      <td>sagemaker-xgboost-201209-1711-005-967cf7f8</td>\n",
       "      <td>Completed</td>\n",
       "      <td>0.79373</td>\n",
       "      <td>2020-12-09 17:14:08+00:00</td>\n",
       "      <td>2020-12-09 17:15:15+00:00</td>\n",
       "      <td>67.0</td>\n",
       "    </tr>\n",
       "    <tr>\n",
       "      <th>6</th>\n",
       "      <td>0.108732</td>\n",
       "      <td>0.162060</td>\n",
       "      <td>9.0</td>\n",
       "      <td>5.529233</td>\n",
       "      <td>sagemaker-xgboost-201209-1711-004-8352abcf</td>\n",
       "      <td>Completed</td>\n",
       "      <td>0.79011</td>\n",
       "      <td>2020-12-09 17:14:10+00:00</td>\n",
       "      <td>2020-12-09 17:15:24+00:00</td>\n",
       "      <td>74.0</td>\n",
       "    </tr>\n",
       "    <tr>\n",
       "      <th>7</th>\n",
       "      <td>0.853271</td>\n",
       "      <td>0.188539</td>\n",
       "      <td>1.0</td>\n",
       "      <td>8.609403</td>\n",
       "      <td>sagemaker-xgboost-201209-1711-003-254bbf0a</td>\n",
       "      <td>Completed</td>\n",
       "      <td>0.79614</td>\n",
       "      <td>2020-12-09 17:14:10+00:00</td>\n",
       "      <td>2020-12-09 17:15:24+00:00</td>\n",
       "      <td>74.0</td>\n",
       "    </tr>\n",
       "    <tr>\n",
       "      <th>8</th>\n",
       "      <td>0.631308</td>\n",
       "      <td>0.171973</td>\n",
       "      <td>9.0</td>\n",
       "      <td>2.621634</td>\n",
       "      <td>sagemaker-xgboost-201209-1711-002-cdd916a3</td>\n",
       "      <td>Completed</td>\n",
       "      <td>0.79011</td>\n",
       "      <td>2020-12-09 17:13:46+00:00</td>\n",
       "      <td>2020-12-09 17:14:53+00:00</td>\n",
       "      <td>67.0</td>\n",
       "    </tr>\n",
       "    <tr>\n",
       "      <th>9</th>\n",
       "      <td>1.060636</td>\n",
       "      <td>0.918407</td>\n",
       "      <td>1.0</td>\n",
       "      <td>9.268074</td>\n",
       "      <td>sagemaker-xgboost-201209-1711-001-d71be9dd</td>\n",
       "      <td>Completed</td>\n",
       "      <td>0.79614</td>\n",
       "      <td>2020-12-09 17:14:11+00:00</td>\n",
       "      <td>2020-12-09 17:15:23+00:00</td>\n",
       "      <td>72.0</td>\n",
       "    </tr>\n",
       "  </tbody>\n",
       "</table>\n",
       "</div>"
      ],
      "text/plain": [
       "      alpha       eta  max_depth  min_child_weight  \\\n",
       "0  1.914010  0.058370        1.0          9.055400   \n",
       "1  0.430650  0.453878        1.0          9.749736   \n",
       "2  1.871102  0.022878        1.0          9.952159   \n",
       "3  1.718331  0.842489        2.0          4.761570   \n",
       "4  0.712389  0.749532        4.0          4.465488   \n",
       "5  0.823433  0.901349        2.0          7.495843   \n",
       "6  0.108732  0.162060        9.0          5.529233   \n",
       "7  0.853271  0.188539        1.0          8.609403   \n",
       "8  0.631308  0.171973        9.0          2.621634   \n",
       "9  1.060636  0.918407        1.0          9.268074   \n",
       "\n",
       "                              TrainingJobName TrainingJobStatus  \\\n",
       "0  sagemaker-xgboost-201209-1711-010-656e513b         Completed   \n",
       "1  sagemaker-xgboost-201209-1711-009-f515aaa9         Completed   \n",
       "2  sagemaker-xgboost-201209-1711-008-d299a5c2         Completed   \n",
       "3  sagemaker-xgboost-201209-1711-007-95579536         Completed   \n",
       "4  sagemaker-xgboost-201209-1711-006-15241baa         Completed   \n",
       "5  sagemaker-xgboost-201209-1711-005-967cf7f8         Completed   \n",
       "6  sagemaker-xgboost-201209-1711-004-8352abcf         Completed   \n",
       "7  sagemaker-xgboost-201209-1711-003-254bbf0a         Completed   \n",
       "8  sagemaker-xgboost-201209-1711-002-cdd916a3         Completed   \n",
       "9  sagemaker-xgboost-201209-1711-001-d71be9dd         Completed   \n",
       "\n",
       "   FinalObjectiveValue         TrainingStartTime           TrainingEndTime  \\\n",
       "0              0.79614 2020-12-09 17:18:14+00:00 2020-12-09 17:19:26+00:00   \n",
       "1              0.79614 2020-12-09 17:17:49+00:00 2020-12-09 17:18:57+00:00   \n",
       "2              0.79614 2020-12-09 17:18:12+00:00 2020-12-09 17:19:25+00:00   \n",
       "3              0.79534 2020-12-09 17:18:22+00:00 2020-12-09 17:19:33+00:00   \n",
       "4              0.77644 2020-12-09 17:18:14+00:00 2020-12-09 17:19:26+00:00   \n",
       "5              0.79373 2020-12-09 17:14:08+00:00 2020-12-09 17:15:15+00:00   \n",
       "6              0.79011 2020-12-09 17:14:10+00:00 2020-12-09 17:15:24+00:00   \n",
       "7              0.79614 2020-12-09 17:14:10+00:00 2020-12-09 17:15:24+00:00   \n",
       "8              0.79011 2020-12-09 17:13:46+00:00 2020-12-09 17:14:53+00:00   \n",
       "9              0.79614 2020-12-09 17:14:11+00:00 2020-12-09 17:15:23+00:00   \n",
       "\n",
       "   TrainingElapsedTimeSeconds  \n",
       "0                        72.0  \n",
       "1                        68.0  \n",
       "2                        73.0  \n",
       "3                        71.0  \n",
       "4                        72.0  \n",
       "5                        67.0  \n",
       "6                        74.0  \n",
       "7                        74.0  \n",
       "8                        67.0  \n",
       "9                        72.0  "
      ]
     },
     "execution_count": 20,
     "metadata": {},
     "output_type": "execute_result"
    }
   ],
   "source": [
    "hpo_results_df"
   ]
  },
  {
   "cell_type": "code",
   "execution_count": null,
   "metadata": {},
   "outputs": [],
   "source": []
  }
 ],
 "metadata": {
  "instance_type": "ml.t3.medium",
  "kernelspec": {
   "display_name": "conda_python3",
   "language": "python",
   "name": "conda_python3"
  },
  "language_info": {
   "codemirror_mode": {
    "name": "ipython",
    "version": 3
   },
   "file_extension": ".py",
   "mimetype": "text/x-python",
   "name": "python",
   "nbconvert_exporter": "python",
   "pygments_lexer": "ipython3",
   "version": "3.6.10"
  }
 },
 "nbformat": 4,
 "nbformat_minor": 4
}
