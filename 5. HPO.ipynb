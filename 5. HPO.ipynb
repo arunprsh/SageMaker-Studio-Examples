{
 "cells": [
  {
   "cell_type": "markdown",
   "metadata": {},
   "source": [
    "## Perform Hyper-Parameter Optimization using SageMaker Tuning Jobs"
   ]
  },
  {
   "cell_type": "markdown",
   "metadata": {},
   "source": [
    "### Imports "
   ]
  },
  {
   "cell_type": "code",
   "execution_count": 1,
   "metadata": {},
   "outputs": [],
   "source": [
    "# ML Imports \n",
    "from sklearn.preprocessing import LabelEncoder, MinMaxScaler\n",
    "from sklearn.model_selection import train_test_split\n",
    "import pandas as pd\n",
    "import numpy as np\n",
    "import json\n",
    "import os\n",
    "\n",
    "# AWS Imports \n",
    "from sagemaker.tuner import IntegerParameter, CategoricalParameter, ContinuousParameter, HyperparameterTuner\n",
    "from sagemaker.serializers import CSVSerializer\n",
    "from sagemaker.inputs import TrainingInput\n",
    "from sagemaker import get_execution_role\n",
    "import sagemaker\n",
    "import boto3"
   ]
  },
  {
   "cell_type": "markdown",
   "metadata": {},
   "source": [
    "### 2. Essentials "
   ]
  },
  {
   "cell_type": "code",
   "execution_count": 2,
   "metadata": {},
   "outputs": [
    {
     "name": "stdout",
     "output_type": "stream",
     "text": [
      "Role = arn:aws:iam::892313895307:role/service-role/AmazonSageMaker-ExecutionRole-20200826T084395\n"
     ]
    }
   ],
   "source": [
    "# Get the Execution Role for this Notebook and AWS Session to create Clients\n",
    "sagemaker_execution_role = get_execution_role()\n",
    "print('Role = {}'.format(sagemaker_execution_role))\n",
    "session = boto3.Session()\n",
    "\n",
    "# Clients and Resources\n",
    "s3 = session.resource('s3')\n",
    "sagemaker_session = sagemaker.Session()\n",
    "sagemaker_client = boto3.client('sagemaker')\n",
    "\n",
    "BUCKET = 'sagemaker-demo-892313895307' # USE YOUR ACCOUNT ID OR INITIALS AS SUFFIX\n",
    "PREFIX = 'xgboost-clf'"
   ]
  },
  {
   "cell_type": "markdown",
   "metadata": {},
   "source": [
    "##### Upload Train & Test Sets to S3 and Create Pointers to Data"
   ]
  },
  {
   "cell_type": "code",
   "execution_count": 3,
   "metadata": {},
   "outputs": [
    {
     "data": {
      "text/plain": [
       "s3.Bucket(name='sagemaker-demo-892313895307')"
      ]
     },
     "execution_count": 3,
     "metadata": {},
     "output_type": "execute_result"
    }
   ],
   "source": [
    "s3.create_bucket(Bucket=BUCKET)"
   ]
  },
  {
   "cell_type": "code",
   "execution_count": 5,
   "metadata": {},
   "outputs": [],
   "source": [
    "s3.Bucket(BUCKET).Object(os.path.join(PREFIX, 'train/train.csv')).upload_file('./DATA/train/train.csv')\n",
    "s3.Bucket(BUCKET).Object(os.path.join(PREFIX, 'test/test.csv')).upload_file('./DATA/test/test.csv')\n",
    "s3.Bucket(BUCKET).Object(os.path.join(PREFIX, 'batch_test/batch_test.csv')).upload_file('./DATA/batch_test/batch_test.csv')"
   ]
  },
  {
   "cell_type": "markdown",
   "metadata": {},
   "source": [
    "##### Create Pointers to the uploaded files "
   ]
  },
  {
   "cell_type": "code",
   "execution_count": 6,
   "metadata": {},
   "outputs": [],
   "source": [
    "train_set_location = 's3://{}/{}/train/'.format(BUCKET, PREFIX)\n",
    "test_set_location = 's3://{}/{}/test/'.format(BUCKET, PREFIX)"
   ]
  },
  {
   "cell_type": "code",
   "execution_count": 7,
   "metadata": {},
   "outputs": [
    {
     "name": "stdout",
     "output_type": "stream",
     "text": [
      "s3://sagemaker-demo-892313895307/xgboost-clf/train/\n",
      "s3://sagemaker-demo-892313895307/xgboost-clf/test/\n"
     ]
    }
   ],
   "source": [
    "print(train_set_location)\n",
    "print(test_set_location)"
   ]
  },
  {
   "cell_type": "code",
   "execution_count": 8,
   "metadata": {},
   "outputs": [],
   "source": [
    "train_set_pointer = TrainingInput(s3_data=train_set_location, content_type='csv')\n",
    "test_set_pointer = TrainingInput(s3_data=test_set_location, content_type='csv')"
   ]
  },
  {
   "cell_type": "code",
   "execution_count": 9,
   "metadata": {},
   "outputs": [
    {
     "name": "stdout",
     "output_type": "stream",
     "text": [
      "{\n",
      "  \"config\": {\n",
      "    \"DataSource\": {\n",
      "      \"S3DataSource\": {\n",
      "        \"S3DataType\": \"S3Prefix\",\n",
      "        \"S3Uri\": \"s3://sagemaker-demo-892313895307/xgboost-clf/train/\",\n",
      "        \"S3DataDistributionType\": \"FullyReplicated\"\n",
      "      }\n",
      "    },\n",
      "    \"ContentType\": \"csv\"\n",
      "  }\n",
      "}\n"
     ]
    }
   ],
   "source": [
    "print(json.dumps(train_set_pointer.__dict__, indent=2))"
   ]
  },
  {
   "cell_type": "markdown",
   "metadata": {},
   "source": [
    "### 3. Train a Model using SageMaker + Built-in XgBoost Algorithm"
   ]
  },
  {
   "cell_type": "code",
   "execution_count": 10,
   "metadata": {},
   "outputs": [],
   "source": [
    "container_uri = sagemaker.image_uris.retrieve(region=session.region_name, \n",
    "                                              framework='xgboost', \n",
    "                                              version='1.0-1', \n",
    "                                              image_scope='training')"
   ]
  },
  {
   "cell_type": "code",
   "execution_count": 11,
   "metadata": {},
   "outputs": [],
   "source": [
    "xgb = sagemaker.estimator.Estimator(image_uri=container_uri,\n",
    "                                    role=sagemaker_execution_role, \n",
    "                                    instance_count=1, \n",
    "                                    instance_type='ml.m5.large',\n",
    "                                    output_path='s3://{}/{}/model-artifacts'.format(BUCKET, PREFIX),\n",
    "                                    sagemaker_session=sagemaker_session,\n",
    "                                    base_job_name='clf-xgboost')"
   ]
  },
  {
   "cell_type": "code",
   "execution_count": 12,
   "metadata": {},
   "outputs": [],
   "source": [
    "xgb.set_hyperparameters(objective='binary:logistic',\n",
    "                        num_round=100)"
   ]
  },
  {
   "cell_type": "code",
   "execution_count": 13,
   "metadata": {},
   "outputs": [],
   "source": [
    "hyperparameter_ranges = {'eta': ContinuousParameter(0, 1),\n",
    "                         'min_child_weight': ContinuousParameter(1, 10),\n",
    "                         'alpha': ContinuousParameter(0, 2),\n",
    "                         'max_depth': IntegerParameter(1, 10)}"
   ]
  },
  {
   "cell_type": "code",
   "execution_count": 14,
   "metadata": {},
   "outputs": [],
   "source": [
    "objective_metric_name = 'validation:accuracy'"
   ]
  },
  {
   "cell_type": "code",
   "execution_count": 15,
   "metadata": {},
   "outputs": [],
   "source": [
    "tuner = HyperparameterTuner(xgb,\n",
    "                            objective_metric_name,\n",
    "                            hyperparameter_ranges,\n",
    "                            max_jobs=10,\n",
    "                            max_parallel_jobs=5)"
   ]
  },
  {
   "cell_type": "code",
   "execution_count": 16,
   "metadata": {},
   "outputs": [
    {
     "name": "stdout",
     "output_type": "stream",
     "text": [
      "........................................................................................................!\n"
     ]
    }
   ],
   "source": [
    "tuner.fit({'train': train_set_pointer, \n",
    "           'validation': test_set_pointer}, \n",
    "           include_cls_metadata=False)"
   ]
  },
  {
   "cell_type": "code",
   "execution_count": 17,
   "metadata": {},
   "outputs": [
    {
     "data": {
      "text/plain": [
       "'sagemaker-xgboost-201207-2113'"
      ]
     },
     "execution_count": 17,
     "metadata": {},
     "output_type": "execute_result"
    }
   ],
   "source": [
    "hpo_job_name = tuner.latest_tuning_job.job_name\n",
    "hpo_job_name"
   ]
  },
  {
   "cell_type": "code",
   "execution_count": 18,
   "metadata": {},
   "outputs": [
    {
     "data": {
      "text/plain": [
       "'Completed'"
      ]
     },
     "execution_count": 18,
     "metadata": {},
     "output_type": "execute_result"
    }
   ],
   "source": [
    "tuning_job_results = sagemaker_client.describe_hyper_parameter_tuning_job(HyperParameterTuningJobName=hpo_job_name)\n",
    "status = tuning_job_results['HyperParameterTuningJobStatus']\n",
    "status"
   ]
  },
  {
   "cell_type": "code",
   "execution_count": 19,
   "metadata": {},
   "outputs": [
    {
     "data": {
      "text/plain": [
       "{'TrainingJobName': 'sagemaker-xgboost-201207-2113-008-d1c5df61',\n",
       " 'TrainingJobArn': 'arn:aws:sagemaker:us-east-1:892313895307:training-job/sagemaker-xgboost-201207-2113-008-d1c5df61',\n",
       " 'CreationTime': datetime.datetime(2020, 12, 7, 21, 17, 21, tzinfo=tzlocal()),\n",
       " 'TrainingStartTime': datetime.datetime(2020, 12, 7, 21, 19, 42, tzinfo=tzlocal()),\n",
       " 'TrainingEndTime': datetime.datetime(2020, 12, 7, 21, 20, 46, tzinfo=tzlocal()),\n",
       " 'TrainingJobStatus': 'Completed',\n",
       " 'TunedHyperParameters': {'alpha': '1.4163806530351208',\n",
       "  'eta': '0.08060260859718339',\n",
       "  'max_depth': '3',\n",
       "  'min_child_weight': '4.199881332801262'},\n",
       " 'FinalHyperParameterTuningJobObjectiveMetric': {'MetricName': 'validation:accuracy',\n",
       "  'Value': 0.7961400151252747},\n",
       " 'ObjectiveStatus': 'Succeeded'}"
      ]
     },
     "execution_count": 19,
     "metadata": {},
     "output_type": "execute_result"
    }
   ],
   "source": [
    "best_training_job = tuning_job_results['BestTrainingJob']\n",
    "best_training_job"
   ]
  },
  {
   "cell_type": "markdown",
   "metadata": {},
   "source": [
    "### 4. Evaluate Results\n",
    "We can list hyperparameters and objective metrics of all training jobs and pick up the training job with the best objective metric."
   ]
  },
  {
   "cell_type": "code",
   "execution_count": 20,
   "metadata": {},
   "outputs": [],
   "source": [
    "tuner = sagemaker.HyperparameterTuningJobAnalytics(hpo_job_name)\n",
    "hpo_results_df = tuner.dataframe()"
   ]
  },
  {
   "cell_type": "code",
   "execution_count": 21,
   "metadata": {},
   "outputs": [
    {
     "data": {
      "text/html": [
       "<div>\n",
       "<style scoped>\n",
       "    .dataframe tbody tr th:only-of-type {\n",
       "        vertical-align: middle;\n",
       "    }\n",
       "\n",
       "    .dataframe tbody tr th {\n",
       "        vertical-align: top;\n",
       "    }\n",
       "\n",
       "    .dataframe thead th {\n",
       "        text-align: right;\n",
       "    }\n",
       "</style>\n",
       "<table border=\"1\" class=\"dataframe\">\n",
       "  <thead>\n",
       "    <tr style=\"text-align: right;\">\n",
       "      <th></th>\n",
       "      <th>alpha</th>\n",
       "      <th>eta</th>\n",
       "      <th>max_depth</th>\n",
       "      <th>min_child_weight</th>\n",
       "      <th>TrainingJobName</th>\n",
       "      <th>TrainingJobStatus</th>\n",
       "      <th>FinalObjectiveValue</th>\n",
       "      <th>TrainingStartTime</th>\n",
       "      <th>TrainingEndTime</th>\n",
       "      <th>TrainingElapsedTimeSeconds</th>\n",
       "    </tr>\n",
       "  </thead>\n",
       "  <tbody>\n",
       "    <tr>\n",
       "      <th>0</th>\n",
       "      <td>0.538207</td>\n",
       "      <td>0.069231</td>\n",
       "      <td>2.0</td>\n",
       "      <td>2.748412</td>\n",
       "      <td>sagemaker-xgboost-201207-2113-010-b5bbff17</td>\n",
       "      <td>Completed</td>\n",
       "      <td>0.79614</td>\n",
       "      <td>2020-12-07 21:19:43+00:00</td>\n",
       "      <td>2020-12-07 21:20:50+00:00</td>\n",
       "      <td>67.0</td>\n",
       "    </tr>\n",
       "    <tr>\n",
       "      <th>1</th>\n",
       "      <td>0.498207</td>\n",
       "      <td>0.059067</td>\n",
       "      <td>2.0</td>\n",
       "      <td>2.568412</td>\n",
       "      <td>sagemaker-xgboost-201207-2113-009-1468ef7f</td>\n",
       "      <td>Completed</td>\n",
       "      <td>0.79614</td>\n",
       "      <td>2020-12-07 21:19:51+00:00</td>\n",
       "      <td>2020-12-07 21:21:04+00:00</td>\n",
       "      <td>73.0</td>\n",
       "    </tr>\n",
       "    <tr>\n",
       "      <th>2</th>\n",
       "      <td>1.416381</td>\n",
       "      <td>0.080603</td>\n",
       "      <td>3.0</td>\n",
       "      <td>4.199881</td>\n",
       "      <td>sagemaker-xgboost-201207-2113-008-d1c5df61</td>\n",
       "      <td>Completed</td>\n",
       "      <td>0.79614</td>\n",
       "      <td>2020-12-07 21:19:42+00:00</td>\n",
       "      <td>2020-12-07 21:20:46+00:00</td>\n",
       "      <td>64.0</td>\n",
       "    </tr>\n",
       "    <tr>\n",
       "      <th>3</th>\n",
       "      <td>0.236732</td>\n",
       "      <td>0.150427</td>\n",
       "      <td>5.0</td>\n",
       "      <td>1.176268</td>\n",
       "      <td>sagemaker-xgboost-201207-2113-007-9829f0f8</td>\n",
       "      <td>Completed</td>\n",
       "      <td>0.79051</td>\n",
       "      <td>2020-12-07 21:19:24+00:00</td>\n",
       "      <td>2020-12-07 21:20:36+00:00</td>\n",
       "      <td>72.0</td>\n",
       "    </tr>\n",
       "    <tr>\n",
       "      <th>4</th>\n",
       "      <td>1.750831</td>\n",
       "      <td>0.089605</td>\n",
       "      <td>7.0</td>\n",
       "      <td>8.845725</td>\n",
       "      <td>sagemaker-xgboost-201207-2113-006-206d64c1</td>\n",
       "      <td>Completed</td>\n",
       "      <td>0.79574</td>\n",
       "      <td>2020-12-07 21:19:46+00:00</td>\n",
       "      <td>2020-12-07 21:21:41+00:00</td>\n",
       "      <td>115.0</td>\n",
       "    </tr>\n",
       "    <tr>\n",
       "      <th>5</th>\n",
       "      <td>0.378858</td>\n",
       "      <td>0.343983</td>\n",
       "      <td>6.0</td>\n",
       "      <td>4.500288</td>\n",
       "      <td>sagemaker-xgboost-201207-2113-005-291ac3a6</td>\n",
       "      <td>Completed</td>\n",
       "      <td>0.78649</td>\n",
       "      <td>2020-12-07 21:15:44+00:00</td>\n",
       "      <td>2020-12-07 21:17:00+00:00</td>\n",
       "      <td>76.0</td>\n",
       "    </tr>\n",
       "    <tr>\n",
       "      <th>6</th>\n",
       "      <td>0.433438</td>\n",
       "      <td>0.906519</td>\n",
       "      <td>9.0</td>\n",
       "      <td>8.865288</td>\n",
       "      <td>sagemaker-xgboost-201207-2113-004-7aad9f90</td>\n",
       "      <td>Completed</td>\n",
       "      <td>0.75312</td>\n",
       "      <td>2020-12-07 21:15:40+00:00</td>\n",
       "      <td>2020-12-07 21:17:14+00:00</td>\n",
       "      <td>94.0</td>\n",
       "    </tr>\n",
       "    <tr>\n",
       "      <th>7</th>\n",
       "      <td>1.811568</td>\n",
       "      <td>0.234967</td>\n",
       "      <td>10.0</td>\n",
       "      <td>9.540089</td>\n",
       "      <td>sagemaker-xgboost-201207-2113-003-54c3806f</td>\n",
       "      <td>Completed</td>\n",
       "      <td>0.78770</td>\n",
       "      <td>2020-12-07 21:15:47+00:00</td>\n",
       "      <td>2020-12-07 21:17:03+00:00</td>\n",
       "      <td>76.0</td>\n",
       "    </tr>\n",
       "    <tr>\n",
       "      <th>8</th>\n",
       "      <td>0.853375</td>\n",
       "      <td>0.564844</td>\n",
       "      <td>10.0</td>\n",
       "      <td>9.291000</td>\n",
       "      <td>sagemaker-xgboost-201207-2113-002-67b3fb26</td>\n",
       "      <td>Completed</td>\n",
       "      <td>0.76518</td>\n",
       "      <td>2020-12-07 21:15:43+00:00</td>\n",
       "      <td>2020-12-07 21:16:54+00:00</td>\n",
       "      <td>71.0</td>\n",
       "    </tr>\n",
       "    <tr>\n",
       "      <th>9</th>\n",
       "      <td>1.006244</td>\n",
       "      <td>0.344265</td>\n",
       "      <td>8.0</td>\n",
       "      <td>7.596766</td>\n",
       "      <td>sagemaker-xgboost-201207-2113-001-41509c17</td>\n",
       "      <td>Completed</td>\n",
       "      <td>0.78689</td>\n",
       "      <td>2020-12-07 21:15:55+00:00</td>\n",
       "      <td>2020-12-07 21:17:23+00:00</td>\n",
       "      <td>88.0</td>\n",
       "    </tr>\n",
       "  </tbody>\n",
       "</table>\n",
       "</div>"
      ],
      "text/plain": [
       "      alpha       eta  max_depth  min_child_weight  \\\n",
       "0  0.538207  0.069231        2.0          2.748412   \n",
       "1  0.498207  0.059067        2.0          2.568412   \n",
       "2  1.416381  0.080603        3.0          4.199881   \n",
       "3  0.236732  0.150427        5.0          1.176268   \n",
       "4  1.750831  0.089605        7.0          8.845725   \n",
       "5  0.378858  0.343983        6.0          4.500288   \n",
       "6  0.433438  0.906519        9.0          8.865288   \n",
       "7  1.811568  0.234967       10.0          9.540089   \n",
       "8  0.853375  0.564844       10.0          9.291000   \n",
       "9  1.006244  0.344265        8.0          7.596766   \n",
       "\n",
       "                              TrainingJobName TrainingJobStatus  \\\n",
       "0  sagemaker-xgboost-201207-2113-010-b5bbff17         Completed   \n",
       "1  sagemaker-xgboost-201207-2113-009-1468ef7f         Completed   \n",
       "2  sagemaker-xgboost-201207-2113-008-d1c5df61         Completed   \n",
       "3  sagemaker-xgboost-201207-2113-007-9829f0f8         Completed   \n",
       "4  sagemaker-xgboost-201207-2113-006-206d64c1         Completed   \n",
       "5  sagemaker-xgboost-201207-2113-005-291ac3a6         Completed   \n",
       "6  sagemaker-xgboost-201207-2113-004-7aad9f90         Completed   \n",
       "7  sagemaker-xgboost-201207-2113-003-54c3806f         Completed   \n",
       "8  sagemaker-xgboost-201207-2113-002-67b3fb26         Completed   \n",
       "9  sagemaker-xgboost-201207-2113-001-41509c17         Completed   \n",
       "\n",
       "   FinalObjectiveValue         TrainingStartTime           TrainingEndTime  \\\n",
       "0              0.79614 2020-12-07 21:19:43+00:00 2020-12-07 21:20:50+00:00   \n",
       "1              0.79614 2020-12-07 21:19:51+00:00 2020-12-07 21:21:04+00:00   \n",
       "2              0.79614 2020-12-07 21:19:42+00:00 2020-12-07 21:20:46+00:00   \n",
       "3              0.79051 2020-12-07 21:19:24+00:00 2020-12-07 21:20:36+00:00   \n",
       "4              0.79574 2020-12-07 21:19:46+00:00 2020-12-07 21:21:41+00:00   \n",
       "5              0.78649 2020-12-07 21:15:44+00:00 2020-12-07 21:17:00+00:00   \n",
       "6              0.75312 2020-12-07 21:15:40+00:00 2020-12-07 21:17:14+00:00   \n",
       "7              0.78770 2020-12-07 21:15:47+00:00 2020-12-07 21:17:03+00:00   \n",
       "8              0.76518 2020-12-07 21:15:43+00:00 2020-12-07 21:16:54+00:00   \n",
       "9              0.78689 2020-12-07 21:15:55+00:00 2020-12-07 21:17:23+00:00   \n",
       "\n",
       "   TrainingElapsedTimeSeconds  \n",
       "0                        67.0  \n",
       "1                        73.0  \n",
       "2                        64.0  \n",
       "3                        72.0  \n",
       "4                       115.0  \n",
       "5                        76.0  \n",
       "6                        94.0  \n",
       "7                        76.0  \n",
       "8                        71.0  \n",
       "9                        88.0  "
      ]
     },
     "execution_count": 21,
     "metadata": {},
     "output_type": "execute_result"
    }
   ],
   "source": [
    "hpo_results_df"
   ]
  },
  {
   "cell_type": "code",
   "execution_count": null,
   "metadata": {},
   "outputs": [],
   "source": []
  }
 ],
 "metadata": {
  "kernelspec": {
   "display_name": "Python 3 (Data Science)",
   "language": "python",
   "name": "python3__SAGEMAKER_INTERNAL__arn:aws:sagemaker:us-east-1:081325390199:image/datascience-1.0"
  },
  "language_info": {
   "codemirror_mode": {
    "name": "ipython",
    "version": 3
   },
   "file_extension": ".py",
   "mimetype": "text/x-python",
   "name": "python",
   "nbconvert_exporter": "python",
   "pygments_lexer": "ipython3",
   "version": "3.7.6"
  }
 },
 "nbformat": 4,
 "nbformat_minor": 4
}
