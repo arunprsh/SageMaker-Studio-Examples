{
 "cells": [
  {
   "cell_type": "markdown",
   "metadata": {},
   "source": [
    "### Imports"
   ]
  },
  {
   "cell_type": "code",
   "execution_count": 1,
   "metadata": {},
   "outputs": [],
   "source": [
    "from pyspark.ml.feature import StringIndexer, VectorIndexer, OneHotEncoder, VectorAssembler, MinMaxScaler\n",
    "from pyspark.sql.types import StructField, StructType, StringType, DoubleType, IntegerType\n",
    "from pyspark.sql.functions import udf\n",
    "from pyspark.sql import SparkSession\n",
    "from pyspark.ml import Pipeline"
   ]
  },
  {
   "cell_type": "markdown",
   "metadata": {},
   "source": [
    "### Create a Spark Local Session"
   ]
  },
  {
   "cell_type": "code",
   "execution_count": 2,
   "metadata": {},
   "outputs": [],
   "source": [
    "spark_session = SparkSession.builder.appName('PySparkLocalTest').getOrCreate()"
   ]
  },
  {
   "cell_type": "code",
   "execution_count": 3,
   "metadata": {},
   "outputs": [
    {
     "data": {
      "text/html": [
       "\n",
       "            <div>\n",
       "                <p><b>SparkSession - in-memory</b></p>\n",
       "                \n",
       "        <div>\n",
       "            <p><b>SparkContext</b></p>\n",
       "\n",
       "            <p><a href=\"http://ip-172-16-75-100.ec2.internal:4041\">Spark UI</a></p>\n",
       "\n",
       "            <dl>\n",
       "              <dt>Version</dt>\n",
       "                <dd><code>v2.3.4</code></dd>\n",
       "              <dt>Master</dt>\n",
       "                <dd><code>local[*]</code></dd>\n",
       "              <dt>AppName</dt>\n",
       "                <dd><code>PySparkLocalTest</code></dd>\n",
       "            </dl>\n",
       "        </div>\n",
       "        \n",
       "            </div>\n",
       "        "
      ],
      "text/plain": [
       "<pyspark.sql.session.SparkSession at 0x7f9a2bef2c88>"
      ]
     },
     "execution_count": 3,
     "metadata": {},
     "output_type": "execute_result"
    }
   ],
   "source": [
    "spark_session"
   ]
  },
  {
   "cell_type": "markdown",
   "metadata": {},
   "source": [
    "### Read Raw Data using PySpark Local"
   ]
  },
  {
   "cell_type": "code",
   "execution_count": 4,
   "metadata": {},
   "outputs": [],
   "source": [
    "schema = StructType([StructField('id', IntegerType(), True), \n",
    "                     StructField('name', StringType(), True),\n",
    "                     StructField('age', IntegerType(), True),\n",
    "                     StructField('sex', StringType(), True),\n",
    "                     StructField('weight', DoubleType(), True),\n",
    "                     StructField('eye_color', StringType(), True)\n",
    "                    ])"
   ]
  },
  {
   "cell_type": "code",
   "execution_count": 5,
   "metadata": {},
   "outputs": [],
   "source": [
    "df = spark_session.read.csv('./DATA/raw.csv', header=True, schema=schema)"
   ]
  },
  {
   "cell_type": "code",
   "execution_count": 6,
   "metadata": {},
   "outputs": [
    {
     "name": "stdout",
     "output_type": "stream",
     "text": [
      "+---+-----+---+---+------+---------+\n",
      "| id| name|age|sex|weight|eye_color|\n",
      "+---+-----+---+---+------+---------+\n",
      "|102|bella| 34|  F|178.23|     blue|\n",
      "|103| cara| 19|  F|149.21|    green|\n",
      "|104|danny| 44|  M|200.33|     blue|\n",
      "|105| emma| 28|  F|188.32|    black|\n",
      "+---+-----+---+---+------+---------+\n",
      "\n"
     ]
    }
   ],
   "source": [
    "df.show()"
   ]
  },
  {
   "cell_type": "code",
   "execution_count": 7,
   "metadata": {},
   "outputs": [],
   "source": [
    "sex_indexer = StringIndexer(inputCol='sex', outputCol='indexed_sex')\n",
    "df = sex_indexer.fit(df).transform(df)"
   ]
  },
  {
   "cell_type": "code",
   "execution_count": 8,
   "metadata": {},
   "outputs": [
    {
     "name": "stdout",
     "output_type": "stream",
     "text": [
      "+---+-----+---+---+------+---------+-----------+\n",
      "| id| name|age|sex|weight|eye_color|indexed_sex|\n",
      "+---+-----+---+---+------+---------+-----------+\n",
      "|102|bella| 34|  F|178.23|     blue|        0.0|\n",
      "|103| cara| 19|  F|149.21|    green|        0.0|\n",
      "|104|danny| 44|  M|200.33|     blue|        1.0|\n",
      "|105| emma| 28|  F|188.32|    black|        0.0|\n",
      "+---+-----+---+---+------+---------+-----------+\n",
      "\n"
     ]
    }
   ],
   "source": [
    "df.show()"
   ]
  },
  {
   "cell_type": "code",
   "execution_count": 9,
   "metadata": {},
   "outputs": [],
   "source": [
    "sex_encoder = OneHotEncoder(inputCol='indexed_sex', outputCol='sex_vector')"
   ]
  },
  {
   "cell_type": "code",
   "execution_count": 10,
   "metadata": {},
   "outputs": [
    {
     "name": "stdout",
     "output_type": "stream",
     "text": [
      "+---+-----+---+---+------+---------+-----------+-------------+\n",
      "| id| name|age|sex|weight|eye_color|indexed_sex|   sex_vector|\n",
      "+---+-----+---+---+------+---------+-----------+-------------+\n",
      "|102|bella| 34|  F|178.23|     blue|        0.0|(1,[0],[1.0])|\n",
      "|103| cara| 19|  F|149.21|    green|        0.0|(1,[0],[1.0])|\n",
      "|104|danny| 44|  M|200.33|     blue|        1.0|    (1,[],[])|\n",
      "|105| emma| 28|  F|188.32|    black|        0.0|(1,[0],[1.0])|\n",
      "+---+-----+---+---+------+---------+-----------+-------------+\n",
      "\n"
     ]
    }
   ],
   "source": [
    "df = sex_encoder.transform(df)\n",
    "df.show()"
   ]
  },
  {
   "cell_type": "markdown",
   "metadata": {},
   "source": [
    "#### eye color transform"
   ]
  },
  {
   "cell_type": "code",
   "execution_count": 11,
   "metadata": {},
   "outputs": [],
   "source": [
    "eye_color_indexer = StringIndexer(inputCol='eye_color', outputCol='indexed_eye_color')\n",
    "df = eye_color_indexer.fit(df).transform(df)"
   ]
  },
  {
   "cell_type": "markdown",
   "metadata": {},
   "source": [
    "<p> One-hot encoding transforms the values indexed column into a binary vector \n",
    "where at maximum one value may be 1. Since there are three values, the vector \n",
    "is of length 2 and the mapping is as follows: </p>\n",
    "\n",
    "<ul> \n",
    "    <li> 0 => 10 \n",
    "    <li> 1 => 01\n",
    "    <li> 2 => 00 \n",
    "</ul>"
   ]
  },
  {
   "cell_type": "code",
   "execution_count": 12,
   "metadata": {},
   "outputs": [],
   "source": [
    "eye_color_encoder = OneHotEncoder(inputCol='indexed_eye_color', outputCol='eye_color_vector')"
   ]
  },
  {
   "cell_type": "code",
   "execution_count": 13,
   "metadata": {},
   "outputs": [
    {
     "name": "stdout",
     "output_type": "stream",
     "text": [
      "+---+-----+---+---+------+---------+-----------+-------------+-----------------+----------------+\n",
      "| id| name|age|sex|weight|eye_color|indexed_sex|   sex_vector|indexed_eye_color|eye_color_vector|\n",
      "+---+-----+---+---+------+---------+-----------+-------------+-----------------+----------------+\n",
      "|102|bella| 34|  F|178.23|     blue|        0.0|(1,[0],[1.0])|              0.0|   (2,[0],[1.0])|\n",
      "|103| cara| 19|  F|149.21|    green|        0.0|(1,[0],[1.0])|              1.0|   (2,[1],[1.0])|\n",
      "|104|danny| 44|  M|200.33|     blue|        1.0|    (1,[],[])|              0.0|   (2,[0],[1.0])|\n",
      "|105| emma| 28|  F|188.32|    black|        0.0|(1,[0],[1.0])|              2.0|       (2,[],[])|\n",
      "+---+-----+---+---+------+---------+-----------+-------------+-----------------+----------------+\n",
      "\n"
     ]
    }
   ],
   "source": [
    "df = eye_color_encoder.transform(df)\n",
    "df.show()"
   ]
  },
  {
   "cell_type": "code",
   "execution_count": 14,
   "metadata": {},
   "outputs": [],
   "source": [
    "# vector assembler will bring all the features to a 1D vector for us to save easily into CSV format\n",
    "assembler = VectorAssembler(inputCols=['age',\n",
    "                                       'weight',\n",
    "                                       'sex_vector',\n",
    "                                       'eye_color_vector'], \n",
    "                            outputCol='features')"
   ]
  },
  {
   "cell_type": "code",
   "execution_count": 15,
   "metadata": {},
   "outputs": [],
   "source": [
    "df = assembler.transform(df)"
   ]
  },
  {
   "cell_type": "code",
   "execution_count": 16,
   "metadata": {},
   "outputs": [
    {
     "name": "stdout",
     "output_type": "stream",
     "text": [
      "+---+-----+---+---+------+---------+-----------+-------------+-----------------+----------------+--------------------+\n",
      "| id| name|age|sex|weight|eye_color|indexed_sex|   sex_vector|indexed_eye_color|eye_color_vector|            features|\n",
      "+---+-----+---+---+------+---------+-----------+-------------+-----------------+----------------+--------------------+\n",
      "|102|bella| 34|  F|178.23|     blue|        0.0|(1,[0],[1.0])|              0.0|   (2,[0],[1.0])|[34.0,178.23,1.0,...|\n",
      "|103| cara| 19|  F|149.21|    green|        0.0|(1,[0],[1.0])|              1.0|   (2,[1],[1.0])|[19.0,149.21,1.0,...|\n",
      "|104|danny| 44|  M|200.33|     blue|        1.0|    (1,[],[])|              0.0|   (2,[0],[1.0])|[44.0,200.33,0.0,...|\n",
      "|105| emma| 28|  F|188.32|    black|        0.0|(1,[0],[1.0])|              2.0|       (2,[],[])|[28.0,188.32,1.0,...|\n",
      "+---+-----+---+---+------+---------+-----------+-------------+-----------------+----------------+--------------------+\n",
      "\n"
     ]
    }
   ],
   "source": [
    "df.show()"
   ]
  },
  {
   "cell_type": "code",
   "execution_count": 17,
   "metadata": {},
   "outputs": [],
   "source": [
    "scaler = MinMaxScaler(inputCol='features', outputCol='scaledFeatures')\n",
    "scaler_model = scaler.fit(df)"
   ]
  },
  {
   "cell_type": "code",
   "execution_count": 18,
   "metadata": {},
   "outputs": [
    {
     "name": "stdout",
     "output_type": "stream",
     "text": [
      "+---+-----+---+---+------+---------+-----------+-------------+-----------------+----------------+--------------------+--------------------+\n",
      "| id| name|age|sex|weight|eye_color|indexed_sex|   sex_vector|indexed_eye_color|eye_color_vector|            features|      scaledFeatures|\n",
      "+---+-----+---+---+------+---------+-----------+-------------+-----------------+----------------+--------------------+--------------------+\n",
      "|102|bella| 34|  F|178.23|     blue|        0.0|(1,[0],[1.0])|              0.0|   (2,[0],[1.0])|[34.0,178.23,1.0,...|[0.6,0.5676838810...|\n",
      "|103| cara| 19|  F|149.21|    green|        0.0|(1,[0],[1.0])|              1.0|   (2,[1],[1.0])|[19.0,149.21,1.0,...|[0.0,0.0,1.0,0.0,...|\n",
      "|104|danny| 44|  M|200.33|     blue|        1.0|    (1,[],[])|              0.0|   (2,[0],[1.0])|[44.0,200.33,0.0,...|[1.0,1.0,0.0,1.0,...|\n",
      "|105| emma| 28|  F|188.32|    black|        0.0|(1,[0],[1.0])|              2.0|       (2,[],[])|[28.0,188.32,1.0,...|[0.36,0.765062597...|\n",
      "+---+-----+---+---+------+---------+-----------+-------------+-----------------+----------------+--------------------+--------------------+\n",
      "\n"
     ]
    }
   ],
   "source": [
    "# normalize each feature to have unit standard deviation\n",
    "df = scaler_model.transform(df)\n",
    "df.show()"
   ]
  },
  {
   "cell_type": "code",
   "execution_count": 19,
   "metadata": {},
   "outputs": [
    {
     "name": "stdout",
     "output_type": "stream",
     "text": [
      "+-------------------------------------+\n",
      "|scaledFeatures                       |\n",
      "+-------------------------------------+\n",
      "|[0.6,0.5676838810641623,1.0,1.0,0.0] |\n",
      "|[0.0,0.0,1.0,0.0,1.0]                |\n",
      "|[1.0,1.0,0.0,1.0,0.0]                |\n",
      "|[0.36,0.7650625978090764,1.0,0.0,0.0]|\n",
      "+-------------------------------------+\n",
      "\n"
     ]
    }
   ],
   "source": [
    "df.select('scaledFeatures').show(truncate=False)"
   ]
  },
  {
   "cell_type": "markdown",
   "metadata": {},
   "source": [
    "### Combine above Steps into a Featurization Pipeline"
   ]
  },
  {
   "cell_type": "code",
   "execution_count": 20,
   "metadata": {},
   "outputs": [],
   "source": [
    "df = spark_session.read.csv('./DATA/raw.csv', header=True, schema=schema)"
   ]
  },
  {
   "cell_type": "code",
   "execution_count": 21,
   "metadata": {},
   "outputs": [],
   "source": [
    "sex_indexer = StringIndexer(inputCol='sex', outputCol='indexed_sex')\n",
    "sex_encoder = OneHotEncoder(inputCol='indexed_sex', outputCol='sex_vector')\n",
    "eye_color_indexer = StringIndexer(inputCol='eye_color', outputCol='indexed_eye_color')\n",
    "eye_color_encoder = OneHotEncoder(inputCol='indexed_eye_color', outputCol='eye_color_vector')\n",
    "assembler = VectorAssembler(inputCols=['age',\n",
    "                                       'weight',\n",
    "                                       'sex_vector',\n",
    "                                       'eye_color_vector'], \n",
    "                            outputCol='features')\n",
    "scaler = MinMaxScaler(inputCol='features', outputCol='scaledFeatures')"
   ]
  },
  {
   "cell_type": "code",
   "execution_count": 22,
   "metadata": {},
   "outputs": [],
   "source": [
    "# The pipeline comprises of the steps added above\n",
    "pipeline = Pipeline(stages=[sex_indexer, sex_encoder, eye_color_indexer, eye_color_encoder, assembler, scaler])\n",
    "    \n",
    "# This step trains the feature transformers\n",
    "model = pipeline.fit(df)\n",
    "    \n",
    "# This step transforms the dataset with information obtained from the previous fit\n",
    "df = model.transform(df)"
   ]
  },
  {
   "cell_type": "code",
   "execution_count": 23,
   "metadata": {},
   "outputs": [
    {
     "name": "stdout",
     "output_type": "stream",
     "text": [
      "+---+-----+---+---+------+---------+-----------+-------------+-----------------+----------------+--------------------+--------------------+\n",
      "| id| name|age|sex|weight|eye_color|indexed_sex|   sex_vector|indexed_eye_color|eye_color_vector|            features|      scaledFeatures|\n",
      "+---+-----+---+---+------+---------+-----------+-------------+-----------------+----------------+--------------------+--------------------+\n",
      "|102|bella| 34|  F|178.23|     blue|        0.0|(1,[0],[1.0])|              0.0|   (2,[0],[1.0])|[34.0,178.23,1.0,...|[0.6,0.5676838810...|\n",
      "|103| cara| 19|  F|149.21|    green|        0.0|(1,[0],[1.0])|              1.0|   (2,[1],[1.0])|[19.0,149.21,1.0,...|[0.0,0.0,1.0,0.0,...|\n",
      "|104|danny| 44|  M|200.33|     blue|        1.0|    (1,[],[])|              0.0|   (2,[0],[1.0])|[44.0,200.33,0.0,...|[1.0,1.0,0.0,1.0,...|\n",
      "|105| emma| 28|  F|188.32|    black|        0.0|(1,[0],[1.0])|              2.0|       (2,[],[])|[28.0,188.32,1.0,...|[0.36,0.765062597...|\n",
      "+---+-----+---+---+------+---------+-----------+-------------+-----------------+----------------+--------------------+--------------------+\n",
      "\n"
     ]
    }
   ],
   "source": [
    "df.show()"
   ]
  },
  {
   "cell_type": "code",
   "execution_count": 24,
   "metadata": {},
   "outputs": [
    {
     "name": "stdout",
     "output_type": "stream",
     "text": [
      "+-------------------------------------+\n",
      "|scaledFeatures                       |\n",
      "+-------------------------------------+\n",
      "|[0.6,0.5676838810641623,1.0,1.0,0.0] |\n",
      "|[0.0,0.0,1.0,0.0,1.0]                |\n",
      "|[1.0,1.0,0.0,1.0,0.0]                |\n",
      "|[0.36,0.7650625978090764,1.0,0.0,0.0]|\n",
      "+-------------------------------------+\n",
      "\n"
     ]
    }
   ],
   "source": [
    "df.select('scaledFeatures').show(truncate=False)"
   ]
  },
  {
   "cell_type": "code",
   "execution_count": 25,
   "metadata": {},
   "outputs": [],
   "source": [
    "age_udf = udf(lambda x: x[0].item(), DoubleType())\n",
    "weight_udf = udf(lambda x: x[1].item(), DoubleType())\n",
    "sex_udf = udf(lambda x: x[2].item(), DoubleType())\n",
    "blue_eye_udf = udf(lambda x: x[3].item(), DoubleType())\n",
    "black_eye_udf = udf(lambda x: x[3].item(), DoubleType())"
   ]
  },
  {
   "cell_type": "code",
   "execution_count": 26,
   "metadata": {},
   "outputs": [],
   "source": [
    "df = df.select(age_udf('scaledFeatures').alias('age'), \n",
    "               weight_udf('scaledFeatures').alias('weight'),\n",
    "               sex_udf('scaledFeatures').alias('sex'),\n",
    "               blue_eye_udf('scaledFeatures').alias('is_blue_eye'),\n",
    "               black_eye_udf('scaledFeatures').alias('is_black_eye'),\n",
    "              )"
   ]
  },
  {
   "cell_type": "code",
   "execution_count": 27,
   "metadata": {},
   "outputs": [
    {
     "name": "stdout",
     "output_type": "stream",
     "text": [
      "+----+------------------+---+-----------+------------+\n",
      "| age|            weight|sex|is_blue_eye|is_black_eye|\n",
      "+----+------------------+---+-----------+------------+\n",
      "| 0.6|0.5676838810641623|1.0|        1.0|         1.0|\n",
      "| 0.0|               0.0|1.0|        0.0|         0.0|\n",
      "| 1.0|               1.0|0.0|        1.0|         1.0|\n",
      "|0.36|0.7650625978090764|1.0|        0.0|         0.0|\n",
      "+----+------------------+---+-----------+------------+\n",
      "\n"
     ]
    }
   ],
   "source": [
    "df.show()"
   ]
  },
  {
   "cell_type": "code",
   "execution_count": 28,
   "metadata": {},
   "outputs": [],
   "source": [
    "df.write.format('csv') \\\n",
    "        .option('header', True) \\\n",
    "        .mode('overwrite') \\\n",
    "        .option('sep', ',') \\\n",
    "        .save('file:////home/ec2-user/SageMaker/SageMaker-Studio-Examples/11.Processing/DATA/transformed.csv')"
   ]
  },
  {
   "cell_type": "code",
   "execution_count": null,
   "metadata": {},
   "outputs": [],
   "source": []
  },
  {
   "cell_type": "code",
   "execution_count": null,
   "metadata": {},
   "outputs": [],
   "source": []
  },
  {
   "cell_type": "code",
   "execution_count": null,
   "metadata": {},
   "outputs": [],
   "source": []
  }
 ],
 "metadata": {
  "kernelspec": {
   "display_name": "conda_python3",
   "language": "python",
   "name": "conda_python3"
  },
  "language_info": {
   "codemirror_mode": {
    "name": "ipython",
    "version": 3
   },
   "file_extension": ".py",
   "mimetype": "text/x-python",
   "name": "python",
   "nbconvert_exporter": "python",
   "pygments_lexer": "ipython3",
   "version": "3.6.10"
  }
 },
 "nbformat": 4,
 "nbformat_minor": 4
}
