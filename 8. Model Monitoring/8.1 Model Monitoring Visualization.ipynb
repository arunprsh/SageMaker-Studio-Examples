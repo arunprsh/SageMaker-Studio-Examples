{
 "cells": [
  {
   "cell_type": "markdown",
   "metadata": {},
   "source": [
    "# SageMaker Model Monitor - Visualizing Monitoring Results\n",
    "\n",
    "\n",
    "The prebuilt container from SageMaker computes a variety of statistics and evaluates constraints out of the box. This notebook demonstrates how you can visualize them. You can grab the ProcessingJob arn from the executions behind a MonitoringSchedule and use this notebook to visualize the results.\n",
    "\n",
    "Let's import some python libraries that will be helpful for visualization"
   ]
  },
  {
   "cell_type": "code",
   "execution_count": 1,
   "metadata": {},
   "outputs": [],
   "source": [
    "from sagemaker.model_monitor import MonitoringExecution\n",
    "from IPython.display import HTML, display\n",
    "from sagemaker.s3 import S3Downloader\n",
    "from sagemaker import session\n",
    "import utils as mu\n",
    "import sagemaker\n",
    "import boto3\n",
    "import json\n",
    "import os"
   ]
  },
  {
   "cell_type": "markdown",
   "metadata": {},
   "source": [
    "## Get Execution and Baseline Details from Processing Job Arn\n",
    "\n",
    "Enter the ProcessingJob arn for an execution of a MonitoringSchedule below to get the result files associated with that execution"
   ]
  },
  {
   "cell_type": "code",
   "execution_count": 3,
   "metadata": {},
   "outputs": [],
   "source": [
    "# CHANGE THIS (Copy ARN from SageMaker Console under Processing Jobs)\n",
    "processing_job_arn = \"arn:aws:sagemaker:us-east-1:892313895307:processing-job/model-monitoring-202011082000-96ca3043fa6008fafb2dedd8\""
   ]
  },
  {
   "cell_type": "code",
   "execution_count": 6,
   "metadata": {},
   "outputs": [],
   "source": [
    "execution = MonitoringExecution.from_processing_arn(sagemaker_session=session.Session(), \n",
    "                                                    processing_job_arn=processing_job_arn)\n",
    "\n",
    "exec_inputs = {inp['InputName']: inp for inp in execution.describe()['ProcessingInputs']}\n",
    "exec_results = execution.output.destination"
   ]
  },
  {
   "cell_type": "code",
   "execution_count": 8,
   "metadata": {},
   "outputs": [],
   "source": [
    "baseline_statistics_filepath = exec_inputs['baseline']['S3Input']['S3Uri'] if 'baseline' in exec_inputs else None\n",
    "execution_statistics_filepath = os.path.join(exec_results, 'statistics.json')\n",
    "violations_filepath = os.path.join(exec_results, 'constraint_violations.json')\n",
    "\n",
    "baseline_statistics = json.loads(S3Downloader.read_file(baseline_statistics_filepath)) if baseline_statistics_filepath is not None else None\n",
    "execution_statistics = json.loads(S3Downloader.read_file(execution_statistics_filepath))\n",
    "violations = json.loads(S3Downloader.read_file(violations_filepath))['violations']"
   ]
  },
  {
   "cell_type": "markdown",
   "metadata": {},
   "source": [
    "## Overview\n",
    "\n",
    "The code below shows the violations and constraint checks across all features in a simple table."
   ]
  },
  {
   "cell_type": "code",
   "execution_count": 9,
   "metadata": {},
   "outputs": [
    {
     "data": {
      "text/html": [
       "<style  type=\"text/css\" >\n",
       "    #T_aaff4324_2202_11eb_b83d_d580a8d01d03row0_col0 {\n",
       "            background-color:  white;\n",
       "            background-color:  #fff7dc;\n",
       "            background-color:  orange;\n",
       "        }    #T_aaff4324_2202_11eb_b83d_d580a8d01d03row0_col1 {\n",
       "            background-color:  white;\n",
       "            background-color:  #fff7dc;\n",
       "            : ;\n",
       "        }    #T_aaff4324_2202_11eb_b83d_d580a8d01d03row0_col2 {\n",
       "            background-color:  white;\n",
       "            background-color:  #fff7dc;\n",
       "            : ;\n",
       "        }    #T_aaff4324_2202_11eb_b83d_d580a8d01d03row0_col3 {\n",
       "            background-color:  white;\n",
       "            background-color:  #fff7dc;\n",
       "            : ;\n",
       "        }    #T_aaff4324_2202_11eb_b83d_d580a8d01d03row1_col0 {\n",
       "            background-color:  white;\n",
       "            background-color:  #fff7dc;\n",
       "            background-color:  orange;\n",
       "        }    #T_aaff4324_2202_11eb_b83d_d580a8d01d03row1_col1 {\n",
       "            background-color:  white;\n",
       "            background-color:  #fff7dc;\n",
       "            : ;\n",
       "        }    #T_aaff4324_2202_11eb_b83d_d580a8d01d03row1_col2 {\n",
       "            background-color:  white;\n",
       "            background-color:  #fff7dc;\n",
       "            : ;\n",
       "        }    #T_aaff4324_2202_11eb_b83d_d580a8d01d03row1_col3 {\n",
       "            background-color:  white;\n",
       "            background-color:  #fff7dc;\n",
       "            : ;\n",
       "        }    #T_aaff4324_2202_11eb_b83d_d580a8d01d03row2_col0 {\n",
       "            background-color:  white;\n",
       "            : ;\n",
       "            : ;\n",
       "        }    #T_aaff4324_2202_11eb_b83d_d580a8d01d03row2_col1 {\n",
       "            background-color:  white;\n",
       "            : ;\n",
       "            : ;\n",
       "        }    #T_aaff4324_2202_11eb_b83d_d580a8d01d03row2_col2 {\n",
       "            background-color:  white;\n",
       "            : ;\n",
       "            : ;\n",
       "        }    #T_aaff4324_2202_11eb_b83d_d580a8d01d03row2_col3 {\n",
       "            background-color:  white;\n",
       "            : ;\n",
       "            : ;\n",
       "        }    #T_aaff4324_2202_11eb_b83d_d580a8d01d03row3_col0 {\n",
       "            background-color:  white;\n",
       "            background-color:  #fff7dc;\n",
       "            background-color:  orange;\n",
       "        }    #T_aaff4324_2202_11eb_b83d_d580a8d01d03row3_col1 {\n",
       "            background-color:  white;\n",
       "            background-color:  #fff7dc;\n",
       "            : ;\n",
       "        }    #T_aaff4324_2202_11eb_b83d_d580a8d01d03row3_col2 {\n",
       "            background-color:  white;\n",
       "            background-color:  #fff7dc;\n",
       "            background-color:  orange;\n",
       "        }    #T_aaff4324_2202_11eb_b83d_d580a8d01d03row3_col3 {\n",
       "            background-color:  white;\n",
       "            background-color:  #fff7dc;\n",
       "            : ;\n",
       "        }    #T_aaff4324_2202_11eb_b83d_d580a8d01d03row4_col0 {\n",
       "            background-color:  white;\n",
       "            background-color:  #fff7dc;\n",
       "            background-color:  orange;\n",
       "        }    #T_aaff4324_2202_11eb_b83d_d580a8d01d03row4_col1 {\n",
       "            background-color:  white;\n",
       "            background-color:  #fff7dc;\n",
       "            : ;\n",
       "        }    #T_aaff4324_2202_11eb_b83d_d580a8d01d03row4_col2 {\n",
       "            background-color:  white;\n",
       "            background-color:  #fff7dc;\n",
       "            : ;\n",
       "        }    #T_aaff4324_2202_11eb_b83d_d580a8d01d03row4_col3 {\n",
       "            background-color:  white;\n",
       "            background-color:  #fff7dc;\n",
       "            : ;\n",
       "        }</style><table id=\"T_aaff4324_2202_11eb_b83d_d580a8d01d03\" ><thead>    <tr>        <th class=\"blank level0\" ></th>        <th class=\"col_heading level0 col0\" >data_type</th>        <th class=\"col_heading level0 col1\" >completeness</th>        <th class=\"col_heading level0 col2\" >baseline_drift</th>        <th class=\"col_heading level0 col3\" >categorical_values</th>    </tr></thead><tbody>\n",
       "                <tr>\n",
       "                        <th id=\"T_aaff4324_2202_11eb_b83d_d580a8d01d03level0_row0\" class=\"row_heading level0 row0\" >class</th>\n",
       "                        <td id=\"T_aaff4324_2202_11eb_b83d_d580a8d01d03row0_col0\" class=\"data row0 col0\" >Fractional</td>\n",
       "                        <td id=\"T_aaff4324_2202_11eb_b83d_d580a8d01d03row0_col1\" class=\"data row0 col1\" >100.00%</td>\n",
       "                        <td id=\"T_aaff4324_2202_11eb_b83d_d580a8d01d03row0_col2\" class=\"data row0 col2\" >N/A</td>\n",
       "                        <td id=\"T_aaff4324_2202_11eb_b83d_d580a8d01d03row0_col3\" class=\"data row0 col3\" >N/A</td>\n",
       "            </tr>\n",
       "            <tr>\n",
       "                        <th id=\"T_aaff4324_2202_11eb_b83d_d580a8d01d03level0_row1\" class=\"row_heading level0 row1\" >color_score</th>\n",
       "                        <td id=\"T_aaff4324_2202_11eb_b83d_d580a8d01d03row1_col0\" class=\"data row1 col0\" >Fractional</td>\n",
       "                        <td id=\"T_aaff4324_2202_11eb_b83d_d580a8d01d03row1_col1\" class=\"data row1 col1\" >100.00%</td>\n",
       "                        <td id=\"T_aaff4324_2202_11eb_b83d_d580a8d01d03row1_col2\" class=\"data row1 col2\" >N/A</td>\n",
       "                        <td id=\"T_aaff4324_2202_11eb_b83d_d580a8d01d03row1_col3\" class=\"data row1 col3\" >N/A</td>\n",
       "            </tr>\n",
       "            <tr>\n",
       "                        <th id=\"T_aaff4324_2202_11eb_b83d_d580a8d01d03level0_row2\" class=\"row_heading level0 row2\" >height</th>\n",
       "                        <td id=\"T_aaff4324_2202_11eb_b83d_d580a8d01d03row2_col0\" class=\"data row2 col0\" >Fractional</td>\n",
       "                        <td id=\"T_aaff4324_2202_11eb_b83d_d580a8d01d03row2_col1\" class=\"data row2 col1\" >100.00%</td>\n",
       "                        <td id=\"T_aaff4324_2202_11eb_b83d_d580a8d01d03row2_col2\" class=\"data row2 col2\" >N/A</td>\n",
       "                        <td id=\"T_aaff4324_2202_11eb_b83d_d580a8d01d03row2_col3\" class=\"data row2 col3\" >N/A</td>\n",
       "            </tr>\n",
       "            <tr>\n",
       "                        <th id=\"T_aaff4324_2202_11eb_b83d_d580a8d01d03level0_row3\" class=\"row_heading level0 row3\" >mass</th>\n",
       "                        <td id=\"T_aaff4324_2202_11eb_b83d_d580a8d01d03row3_col0\" class=\"data row3 col0\" >Fractional</td>\n",
       "                        <td id=\"T_aaff4324_2202_11eb_b83d_d580a8d01d03row3_col1\" class=\"data row3 col1\" >100.00%</td>\n",
       "                        <td id=\"T_aaff4324_2202_11eb_b83d_d580a8d01d03row3_col2\" class=\"data row3 col2\" >12.80%</td>\n",
       "                        <td id=\"T_aaff4324_2202_11eb_b83d_d580a8d01d03row3_col3\" class=\"data row3 col3\" >N/A</td>\n",
       "            </tr>\n",
       "            <tr>\n",
       "                        <th id=\"T_aaff4324_2202_11eb_b83d_d580a8d01d03level0_row4\" class=\"row_heading level0 row4\" >width</th>\n",
       "                        <td id=\"T_aaff4324_2202_11eb_b83d_d580a8d01d03row4_col0\" class=\"data row4 col0\" >Fractional</td>\n",
       "                        <td id=\"T_aaff4324_2202_11eb_b83d_d580a8d01d03row4_col1\" class=\"data row4 col1\" >100.00%</td>\n",
       "                        <td id=\"T_aaff4324_2202_11eb_b83d_d580a8d01d03row4_col2\" class=\"data row4 col2\" >N/A</td>\n",
       "                        <td id=\"T_aaff4324_2202_11eb_b83d_d580a8d01d03row4_col3\" class=\"data row4 col3\" >N/A</td>\n",
       "            </tr>\n",
       "    </tbody></table>"
      ],
      "text/plain": [
       "<pandas.io.formats.style.Styler at 0x7f5a0b11efd0>"
      ]
     },
     "execution_count": 9,
     "metadata": {},
     "output_type": "execute_result"
    }
   ],
   "source": [
    "mu.show_violation_df(baseline_statistics=baseline_statistics, latest_statistics=execution_statistics, violations=violations)"
   ]
  },
  {
   "cell_type": "markdown",
   "metadata": {},
   "source": [
    "## Distributions\n",
    "\n",
    "This section visualizes the distribution and renders the distribution statistics for all features"
   ]
  },
  {
   "cell_type": "code",
   "execution_count": 10,
   "metadata": {},
   "outputs": [],
   "source": [
    "features = mu.get_features(execution_statistics)\n",
    "feature_baselines = mu.get_features(baseline_statistics)"
   ]
  },
  {
   "cell_type": "code",
   "execution_count": 11,
   "metadata": {},
   "outputs": [
    {
     "data": {
      "text/html": [
       "<h3>Numerical Features</h3>"
      ],
      "text/plain": [
       "<IPython.core.display.HTML object>"
      ]
     },
     "metadata": {},
     "output_type": "display_data"
    },
    {
     "data": {
      "text/html": [
       "<div>\n",
       "<style scoped>\n",
       "    .dataframe tbody tr th:only-of-type {\n",
       "        vertical-align: middle;\n",
       "    }\n",
       "\n",
       "    .dataframe tbody tr th {\n",
       "        vertical-align: top;\n",
       "    }\n",
       "\n",
       "    .dataframe thead th {\n",
       "        text-align: right;\n",
       "    }\n",
       "</style>\n",
       "<table border=\"1\" class=\"dataframe\">\n",
       "  <thead>\n",
       "    <tr style=\"text-align: right;\">\n",
       "      <th></th>\n",
       "      <th>num_present</th>\n",
       "      <th>num_missing</th>\n",
       "      <th>mean</th>\n",
       "      <th>sum</th>\n",
       "      <th>std_dev</th>\n",
       "      <th>min</th>\n",
       "      <th>max</th>\n",
       "    </tr>\n",
       "  </thead>\n",
       "  <tbody>\n",
       "    <tr>\n",
       "      <th>class</th>\n",
       "      <td>121899</td>\n",
       "      <td>0</td>\n",
       "      <td>0.850114</td>\n",
       "      <td>1.036280e+05</td>\n",
       "      <td>1.107998</td>\n",
       "      <td>0.000000</td>\n",
       "      <td>3.000000</td>\n",
       "    </tr>\n",
       "    <tr>\n",
       "      <th>mass</th>\n",
       "      <td>121899</td>\n",
       "      <td>0</td>\n",
       "      <td>-0.100035</td>\n",
       "      <td>-1.219417e+04</td>\n",
       "      <td>9.195325</td>\n",
       "      <td>-34.000000</td>\n",
       "      <td>23.000000</td>\n",
       "    </tr>\n",
       "    <tr>\n",
       "      <th>width</th>\n",
       "      <td>121899</td>\n",
       "      <td>0</td>\n",
       "      <td>23.695746</td>\n",
       "      <td>2.888488e+06</td>\n",
       "      <td>77.952985</td>\n",
       "      <td>0.000000</td>\n",
       "      <td>343.000000</td>\n",
       "    </tr>\n",
       "    <tr>\n",
       "      <th>height</th>\n",
       "      <td>121899</td>\n",
       "      <td>0</td>\n",
       "      <td>0.328452</td>\n",
       "      <td>4.003799e+04</td>\n",
       "      <td>0.463386</td>\n",
       "      <td>-0.681011</td>\n",
       "      <td>0.993026</td>\n",
       "    </tr>\n",
       "    <tr>\n",
       "      <th>color_score</th>\n",
       "      <td>121899</td>\n",
       "      <td>0</td>\n",
       "      <td>2.090061</td>\n",
       "      <td>2.547763e+05</td>\n",
       "      <td>4.034095</td>\n",
       "      <td>-0.117647</td>\n",
       "      <td>12.000000</td>\n",
       "    </tr>\n",
       "  </tbody>\n",
       "</table>\n",
       "</div>"
      ],
      "text/plain": [
       "             num_present  num_missing       mean           sum    std_dev  \\\n",
       "class             121899            0   0.850114  1.036280e+05   1.107998   \n",
       "mass              121899            0  -0.100035 -1.219417e+04   9.195325   \n",
       "width             121899            0  23.695746  2.888488e+06  77.952985   \n",
       "height            121899            0   0.328452  4.003799e+04   0.463386   \n",
       "color_score       121899            0   2.090061  2.547763e+05   4.034095   \n",
       "\n",
       "                   min         max  \n",
       "class         0.000000    3.000000  \n",
       "mass        -34.000000   23.000000  \n",
       "width         0.000000  343.000000  \n",
       "height       -0.681011    0.993026  \n",
       "color_score  -0.117647   12.000000  "
      ]
     },
     "metadata": {},
     "output_type": "display_data"
    },
    {
     "data": {
      "image/png": "[encoded data removed]",
      "text/plain": [
       "<Figure size 1440x288 with 5 Axes>"
      ]
     },
     "metadata": {
      "needs_background": "light"
     },
     "output_type": "display_data"
    }
   ],
   "source": [
    "mu.show_distributions(features)"
   ]
  },
  {
   "cell_type": "markdown",
   "metadata": {},
   "source": [
    "### Execution Stats vs Baseline"
   ]
  },
  {
   "cell_type": "code",
   "execution_count": 12,
   "metadata": {},
   "outputs": [
    {
     "data": {
      "text/html": [
       "<h3>Numerical Features</h3>"
      ],
      "text/plain": [
       "<IPython.core.display.HTML object>"
      ]
     },
     "metadata": {},
     "output_type": "display_data"
    },
    {
     "data": {
      "text/html": [
       "<div>\n",
       "<style scoped>\n",
       "    .dataframe tbody tr th:only-of-type {\n",
       "        vertical-align: middle;\n",
       "    }\n",
       "\n",
       "    .dataframe tbody tr th {\n",
       "        vertical-align: top;\n",
       "    }\n",
       "\n",
       "    .dataframe thead th {\n",
       "        text-align: right;\n",
       "    }\n",
       "</style>\n",
       "<table border=\"1\" class=\"dataframe\">\n",
       "  <thead>\n",
       "    <tr style=\"text-align: right;\">\n",
       "      <th></th>\n",
       "      <th>num_present</th>\n",
       "      <th>num_missing</th>\n",
       "      <th>mean</th>\n",
       "      <th>sum</th>\n",
       "      <th>std_dev</th>\n",
       "      <th>min</th>\n",
       "      <th>max</th>\n",
       "    </tr>\n",
       "  </thead>\n",
       "  <tbody>\n",
       "    <tr>\n",
       "      <th>class</th>\n",
       "      <td>121899</td>\n",
       "      <td>0</td>\n",
       "      <td>0.850114</td>\n",
       "      <td>1.036280e+05</td>\n",
       "      <td>1.107998</td>\n",
       "      <td>0.000000</td>\n",
       "      <td>3.000000</td>\n",
       "    </tr>\n",
       "    <tr>\n",
       "      <th>mass</th>\n",
       "      <td>121899</td>\n",
       "      <td>0</td>\n",
       "      <td>-0.100035</td>\n",
       "      <td>-1.219417e+04</td>\n",
       "      <td>9.195325</td>\n",
       "      <td>-34.000000</td>\n",
       "      <td>23.000000</td>\n",
       "    </tr>\n",
       "    <tr>\n",
       "      <th>width</th>\n",
       "      <td>121899</td>\n",
       "      <td>0</td>\n",
       "      <td>23.695746</td>\n",
       "      <td>2.888488e+06</td>\n",
       "      <td>77.952985</td>\n",
       "      <td>0.000000</td>\n",
       "      <td>343.000000</td>\n",
       "    </tr>\n",
       "    <tr>\n",
       "      <th>height</th>\n",
       "      <td>121899</td>\n",
       "      <td>0</td>\n",
       "      <td>0.328452</td>\n",
       "      <td>4.003799e+04</td>\n",
       "      <td>0.463386</td>\n",
       "      <td>-0.681011</td>\n",
       "      <td>0.993026</td>\n",
       "    </tr>\n",
       "    <tr>\n",
       "      <th>color_score</th>\n",
       "      <td>121899</td>\n",
       "      <td>0</td>\n",
       "      <td>2.090061</td>\n",
       "      <td>2.547763e+05</td>\n",
       "      <td>4.034095</td>\n",
       "      <td>-0.117647</td>\n",
       "      <td>12.000000</td>\n",
       "    </tr>\n",
       "  </tbody>\n",
       "</table>\n",
       "</div>"
      ],
      "text/plain": [
       "             num_present  num_missing       mean           sum    std_dev  \\\n",
       "class             121899            0   0.850114  1.036280e+05   1.107998   \n",
       "mass              121899            0  -0.100035 -1.219417e+04   9.195325   \n",
       "width             121899            0  23.695746  2.888488e+06  77.952985   \n",
       "height            121899            0   0.328452  4.003799e+04   0.463386   \n",
       "color_score       121899            0   2.090061  2.547763e+05   4.034095   \n",
       "\n",
       "                   min         max  \n",
       "class         0.000000    3.000000  \n",
       "mass        -34.000000   23.000000  \n",
       "width         0.000000  343.000000  \n",
       "height       -0.681011    0.993026  \n",
       "color_score  -0.117647   12.000000  "
      ]
     },
     "metadata": {},
     "output_type": "display_data"
    },
    {
     "data": {
      "image/png": "[encoded data removed]",
      "text/plain": [
       "<Figure size 1440x288 with 5 Axes>"
      ]
     },
     "metadata": {
      "needs_background": "light"
     },
     "output_type": "display_data"
    }
   ],
   "source": [
    "mu.show_distributions(features, feature_baselines)"
   ]
  },
  {
   "cell_type": "code",
   "execution_count": null,
   "metadata": {},
   "outputs": [],
   "source": []
  }
 ],
 "metadata": {
  "kernelspec": {
   "display_name": "conda_python3",
   "language": "python",
   "name": "conda_python3"
  },
  "language_info": {
   "codemirror_mode": {
    "name": "ipython",
    "version": 3
   },
   "file_extension": ".py",
   "mimetype": "text/x-python",
   "name": "python",
   "nbconvert_exporter": "python",
   "pygments_lexer": "ipython3",
   "version": "3.6.10"
  }
 },
 "nbformat": 4,
 "nbformat_minor": 4
}
