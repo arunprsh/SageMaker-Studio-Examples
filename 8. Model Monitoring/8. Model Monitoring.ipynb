{
 "cells": [
  {
   "cell_type": "markdown",
   "metadata": {},
   "source": [
    "## Monitor Data Drift & Violations using SageMaker Model Monitoring\n",
    "This notebook shows how to:\n",
    "* Host a machine learning model in Amazon SageMaker and capture inference requests, results, and metadata \n",
    "* Analyze a training dataset to generate baseline constraints\n",
    "* Monitor a live endpoint for violations against constraints\n",
    "\n",
    "---\n",
    "## Background\n",
    "\n",
    "Amazon SageMaker provides every developer and data scientist with the ability to build, train, and deploy machine learning models quickly. Amazon SageMaker is a fully-managed service that encompasses the entire machine learning workflow. You can label and prepare your data, choose an algorithm, train a model, and then tune and optimize it for deployment. You can deploy your models to production with Amazon SageMaker to make predictions and lower costs than was previously possible.\n",
    "\n",
    "In addition, Amazon SageMaker enables you to capture the input, output and metadata for invocations of the models that you deploy. It also enables you to analyze the data and monitor its quality. In this notebook, you learn how Amazon SageMaker enables these capabilities.\n",
    "\n",
    "\n",
    "![model-monitor](./model-monitor.jpg)\n"
   ]
  },
  {
   "cell_type": "markdown",
   "metadata": {},
   "source": [
    "### Imports"
   ]
  },
  {
   "cell_type": "code",
   "execution_count": 1,
   "metadata": {},
   "outputs": [],
   "source": [
    "from sagemaker import get_execution_role, session\n",
    "from sagemaker.model import Model\n",
    "import sagemaker\n",
    "import boto3\n",
    "import json\n",
    "import re\n",
    "import os"
   ]
  },
  {
   "cell_type": "code",
   "execution_count": 2,
   "metadata": {},
   "outputs": [
    {
     "data": {
      "text/plain": [
       "'2.15.2'"
      ]
     },
     "execution_count": 2,
     "metadata": {},
     "output_type": "execute_result"
    }
   ],
   "source": [
    "sagemaker.__version__"
   ]
  },
  {
   "cell_type": "markdown",
   "metadata": {},
   "source": [
    "### Essentials"
   ]
  },
  {
   "cell_type": "code",
   "execution_count": 3,
   "metadata": {},
   "outputs": [],
   "source": [
    "session = sagemaker.Session()\n",
    "bucket = session.default_bucket()\n",
    "prefix = 'sklearn-classifier/model-monitor'\n",
    "# COPY the training job name of the previous training job you ran from the SageMaker Console under Training Jobs\n",
    "# Let's re-use the Model we trained in Notebook 2 (Built-in Algorithm XGBoost)\n",
    "training_job_name = 'classifier-2020-11-09-02-18-10-731' # CHANGE THIS\n",
    "# COPY S3 model artifact location from the console\n",
    "model_url = 's3://sagemaker-demo-892313895307/clf/model-artifacts/classifier-2020-11-09-02-18-10-731/output/model.tar.gz'\n",
    "container_image_uri = '683313688378.dkr.ecr.us-east-1.amazonaws.com/sagemaker-xgboost:1.0-1-cpu-py3'\n",
    "role = get_execution_role()"
   ]
  },
  {
   "cell_type": "markdown",
   "metadata": {},
   "source": [
    "### S3 Paths"
   ]
  },
  {
   "cell_type": "code",
   "execution_count": 4,
   "metadata": {},
   "outputs": [
    {
     "name": "stdout",
     "output_type": "stream",
     "text": [
      "Capture path: s3://sagemaker-us-east-1-892313895307/sklearn-classifier/model-monitor/datacapture\n",
      "Report path: s3://sagemaker-us-east-1-892313895307/sklearn-classifier/model-monitor/reports\n"
     ]
    }
   ],
   "source": [
    "data_capture_prefix = '{}/datacapture'.format(prefix)\n",
    "s3_capture_upload_path = 's3://{}/{}'.format(bucket, data_capture_prefix)\n",
    "\n",
    "reports_prefix = '{}/reports'.format(prefix)\n",
    "s3_report_path = 's3://{}/{}'.format(bucket,reports_prefix)\n",
    "\n",
    "code_prefix = '{}/code'.format(prefix)\n",
    "\n",
    "print(\"Capture path: {}\".format(s3_capture_upload_path))\n",
    "print(\"Report path: {}\".format(s3_report_path))"
   ]
  },
  {
   "cell_type": "markdown",
   "metadata": {},
   "source": [
    "## Capture Real-Time Inference Data from SageMaker Endpoints"
   ]
  },
  {
   "cell_type": "code",
   "execution_count": 5,
   "metadata": {},
   "outputs": [],
   "source": [
    "model = Model(image_uri=container_image_uri, \n",
    "              model_data=model_url, \n",
    "              role=role)"
   ]
  },
  {
   "cell_type": "markdown",
   "metadata": {},
   "source": [
    "### Re-deploy using DataCaptureConfig"
   ]
  },
  {
   "cell_type": "markdown",
   "metadata": {},
   "source": [
    "To enable data capture for monitoring the model data quality, you specify the new capture option called DataCaptureConfig. You can capture the request payload, the response payload or both with this configuration. The capture config applies to all variants. Go ahead with the deployment."
   ]
  },
  {
   "cell_type": "code",
   "execution_count": 6,
   "metadata": {},
   "outputs": [],
   "source": [
    "from sagemaker.model_monitor import DataCaptureConfig\n",
    "from time import gmtime, strftime"
   ]
  },
  {
   "cell_type": "code",
   "execution_count": 7,
   "metadata": {},
   "outputs": [
    {
     "name": "stdout",
     "output_type": "stream",
     "text": [
      "EndpointName=classifier-xgboost-model-monitor-2020-11-09-02-24-59\n"
     ]
    }
   ],
   "source": [
    "endpoint_name = 'classifier-xgboost-model-monitor-' + strftime(\"%Y-%m-%d-%H-%M-%S\", gmtime())\n",
    "print(\"EndpointName={}\".format(endpoint_name))\n",
    "\n",
    "data_capture_config = DataCaptureConfig(\n",
    "                        enable_capture=True,\n",
    "                        sampling_percentage=100,\n",
    "                        capture_options=[\"REQUEST\", \"RESPONSE\"],\n",
    "                        destination_s3_uri=s3_capture_upload_path)"
   ]
  },
  {
   "cell_type": "code",
   "execution_count": 8,
   "metadata": {},
   "outputs": [
    {
     "data": {
      "text/plain": [
       "{'enable_capture': True,\n",
       " 'sampling_percentage': 100,\n",
       " 'destination_s3_uri': 's3://sagemaker-us-east-1-892313895307/sklearn-classifier/model-monitor/datacapture',\n",
       " 'kms_key_id': None,\n",
       " 'capture_options': ['REQUEST', 'RESPONSE'],\n",
       " 'csv_content_types': ['text/csv'],\n",
       " 'json_content_types': ['application/json']}"
      ]
     },
     "execution_count": 8,
     "metadata": {},
     "output_type": "execute_result"
    }
   ],
   "source": [
    "data_capture_config.__dict__"
   ]
  },
  {
   "cell_type": "code",
   "execution_count": 9,
   "metadata": {},
   "outputs": [
    {
     "name": "stdout",
     "output_type": "stream",
     "text": [
      "-------------!"
     ]
    }
   ],
   "source": [
    "model.deploy(initial_instance_count=1, \n",
    "             instance_type='ml.m5.xlarge', \n",
    "             endpoint_name=endpoint_name, \n",
    "             data_capture_config=data_capture_config)"
   ]
  },
  {
   "cell_type": "markdown",
   "metadata": {},
   "source": [
    "### Invoke the Deployed Model Monitor Endpoint \n",
    "\n",
    "\n",
    "You can now send data to this endpoint to get inferences in real time. Because you enabled the data capture in the previous steps, the request and response payload, along with some additional metadata, is saved in the Amazon Simple Storage Service (Amazon S3) location you have specified in the DataCaptureConfig."
   ]
  },
  {
   "cell_type": "markdown",
   "metadata": {},
   "source": [
    "This step invokes the endpoint with included sample data for about 2 minutes. Data is captured based on the sampling percentage specified and the capture continues until the data capture option is turned off."
   ]
  },
  {
   "cell_type": "code",
   "execution_count": 10,
   "metadata": {},
   "outputs": [],
   "source": [
    "from sagemaker.serializers import CSVSerializer\n",
    "from sagemaker.predictor import Predictor\n",
    "\n",
    "import pandas as pd\n",
    "pd.set_option('display.max_colwidth', -1)\n",
    "\n",
    "import numpy as np\n",
    "import json\n",
    "import time"
   ]
  },
  {
   "cell_type": "code",
   "execution_count": 11,
   "metadata": {},
   "outputs": [],
   "source": [
    "csv_serializer = CSVSerializer()\n",
    "predictor = Predictor(endpoint_name=endpoint_name, serializer = csv_serializer)"
   ]
  },
  {
   "cell_type": "code",
   "execution_count": 12,
   "metadata": {},
   "outputs": [],
   "source": [
    "test_df = pd.read_csv('.././DATA/test/test.csv', names=['class', 'bmi', 'diastolic_bp_change', 'systolic_bp_change', 'respiratory_rate'])"
   ]
  },
  {
   "cell_type": "code",
   "execution_count": 13,
   "metadata": {},
   "outputs": [
    {
     "data": {
      "text/html": [
       "<div>\n",
       "<style scoped>\n",
       "    .dataframe tbody tr th:only-of-type {\n",
       "        vertical-align: middle;\n",
       "    }\n",
       "\n",
       "    .dataframe tbody tr th {\n",
       "        vertical-align: top;\n",
       "    }\n",
       "\n",
       "    .dataframe thead th {\n",
       "        text-align: right;\n",
       "    }\n",
       "</style>\n",
       "<table border=\"1\" class=\"dataframe\">\n",
       "  <thead>\n",
       "    <tr style=\"text-align: right;\">\n",
       "      <th></th>\n",
       "      <th>class</th>\n",
       "      <th>bmi</th>\n",
       "      <th>diastolic_bp_change</th>\n",
       "      <th>systolic_bp_change</th>\n",
       "      <th>respiratory_rate</th>\n",
       "    </tr>\n",
       "  </thead>\n",
       "  <tbody>\n",
       "    <tr>\n",
       "      <th>0</th>\n",
       "      <td>0</td>\n",
       "      <td>0.132043</td>\n",
       "      <td>0.088718</td>\n",
       "      <td>0.047720</td>\n",
       "      <td>0.00000</td>\n",
       "    </tr>\n",
       "    <tr>\n",
       "      <th>1</th>\n",
       "      <td>0</td>\n",
       "      <td>0.217554</td>\n",
       "      <td>0.050000</td>\n",
       "      <td>0.078014</td>\n",
       "      <td>0.01942</td>\n",
       "    </tr>\n",
       "    <tr>\n",
       "      <th>2</th>\n",
       "      <td>0</td>\n",
       "      <td>0.526601</td>\n",
       "      <td>0.200000</td>\n",
       "      <td>0.085106</td>\n",
       "      <td>0.00000</td>\n",
       "    </tr>\n",
       "    <tr>\n",
       "      <th>3</th>\n",
       "      <td>1</td>\n",
       "      <td>0.191450</td>\n",
       "      <td>0.111282</td>\n",
       "      <td>0.111550</td>\n",
       "      <td>0.00000</td>\n",
       "    </tr>\n",
       "    <tr>\n",
       "      <th>4</th>\n",
       "      <td>1</td>\n",
       "      <td>0.212498</td>\n",
       "      <td>0.450000</td>\n",
       "      <td>0.170213</td>\n",
       "      <td>0.04283</td>\n",
       "    </tr>\n",
       "  </tbody>\n",
       "</table>\n",
       "</div>"
      ],
      "text/plain": [
       "   class       bmi  diastolic_bp_change  systolic_bp_change  respiratory_rate\n",
       "0  0      0.132043  0.088718             0.047720            0.00000         \n",
       "1  0      0.217554  0.050000             0.078014            0.01942         \n",
       "2  0      0.526601  0.200000             0.085106            0.00000         \n",
       "3  1      0.191450  0.111282             0.111550            0.00000         \n",
       "4  1      0.212498  0.450000             0.170213            0.04283         "
      ]
     },
     "execution_count": 13,
     "metadata": {},
     "output_type": "execute_result"
    }
   ],
   "source": [
    "test_df.head()"
   ]
  },
  {
   "cell_type": "code",
   "execution_count": 16,
   "metadata": {},
   "outputs": [
    {
     "name": "stdout",
     "output_type": "stream",
     "text": [
      "0.11074355244636536\n",
      "0.06976258009672165\n",
      "0.04986811801791191\n",
      "0.5094466805458069\n",
      "0.04962078854441643\n",
      "0.19227305054664612\n",
      "0.7178942561149597\n",
      "0.03077702596783638\n",
      "0.225182443857193\n",
      "0.05963601544499397\n",
      "0.337897926568985\n"
     ]
    }
   ],
   "source": [
    "i = 0\n",
    "for _, row in test_df.iterrows():\n",
    "    X =[row.bmi, row.diastolic_bp_change, row.systolic_bp_change, row.respiratory_rate]\n",
    "    payload = np.array(X)\n",
    "    response = predictor.predict(data=payload)\n",
    "    print(response.decode('utf-8'))\n",
    "    if i == 10:\n",
    "        break\n",
    "    i += 1"
   ]
  },
  {
   "cell_type": "markdown",
   "metadata": {},
   "source": [
    "### View captured data\n",
    "\n",
    "NOTE: Could take a minute here\n",
    "\n",
    "Now list the data capture files stored in Amazon S3. You should expect to see different files from different time periods organized based on the hour in which the invocation occurred. The format of the Amazon S3 path is:\n",
    "\n",
    "`s3://{destination-bucket-prefix}/{endpoint-name}/{variant-name}/yyyy/mm/dd/hh/filename.jsonl`"
   ]
  },
  {
   "cell_type": "code",
   "execution_count": 17,
   "metadata": {},
   "outputs": [
    {
     "data": {
      "text/plain": [
       "'sklearn-classifier/model-monitor/datacapture/classifier-xgboost-model-monitor-2020-11-09-02-24-59'"
      ]
     },
     "execution_count": 17,
     "metadata": {},
     "output_type": "execute_result"
    }
   ],
   "source": [
    "s3_client = boto3.Session().client('s3')\n",
    "current_endpoint_capture_prefix = '{}/{}'.format(data_capture_prefix, endpoint_name)\n",
    "current_endpoint_capture_prefix"
   ]
  },
  {
   "cell_type": "code",
   "execution_count": 24,
   "metadata": {},
   "outputs": [
    {
     "data": {
      "text/plain": [
       "[{'Key': 'sklearn-classifier/model-monitor/datacapture/classifier-xgboost-model-monitor-2020-11-09-02-24-59/AllTraffic/2020/11/09/02/33-39-856-b705047b-2992-4404-b7d7-200414c4fe3e.jsonl',\n",
       "  'LastModified': datetime.datetime(2020, 11, 9, 2, 35, 11, tzinfo=tzlocal()),\n",
       "  'ETag': '\"daf5e130444b43e930a9c4efadfb0976\"',\n",
       "  'Size': 1065058,\n",
       "  'StorageClass': 'STANDARD'}]"
      ]
     },
     "execution_count": 24,
     "metadata": {},
     "output_type": "execute_result"
    }
   ],
   "source": [
    "result = s3_client.list_objects(Bucket=bucket, Prefix=current_endpoint_capture_prefix)\n",
    "result.get('Contents')"
   ]
  },
  {
   "cell_type": "code",
   "execution_count": 25,
   "metadata": {},
   "outputs": [
    {
     "name": "stdout",
     "output_type": "stream",
     "text": [
      "Found Capture Files:\n",
      "sklearn-classifier/model-monitor/datacapture/classifier-xgboost-model-monitor-2020-11-09-02-24-59/AllTraffic/2020/11/09/02/33-39-856-b705047b-2992-4404-b7d7-200414c4fe3e.jsonl\n"
     ]
    }
   ],
   "source": [
    "capture_files = [capture_file.get(\"Key\") for capture_file in result.get('Contents')]\n",
    "print(\"Found Capture Files:\")\n",
    "print(\"\\n \".join(capture_files))"
   ]
  },
  {
   "cell_type": "markdown",
   "metadata": {},
   "source": [
    "Next, view the contents of a single capture file. Here you should see all the data captured in an Amazon SageMaker specific JSON-line formatted file. Take a quick peek at the first few lines in the captured file."
   ]
  },
  {
   "cell_type": "code",
   "execution_count": 26,
   "metadata": {},
   "outputs": [],
   "source": [
    "def get_obj_body(obj_key):\n",
    "    return s3_client.get_object(Bucket=bucket, Key=obj_key).get('Body').read().decode(\"utf-8\")"
   ]
  },
  {
   "cell_type": "code",
   "execution_count": 27,
   "metadata": {},
   "outputs": [
    {
     "data": {
      "text/plain": [
       "'{\"captureData\":{\"endpointInput\":{\"observedContentType\":\"text/csv\",\"mode\":\"INPUT\",\"data\":\"0.13204301565241186,0.08871757419950001,0.0477200214141844,0.0\",\"encoding\":\"CSV\"},\"endpointOutput\":{\"observedContentType\":\"text/csv; charset=utf-8\",\"mode\":\"OUTPUT\",\"data\":\"0.11074355244636536\",\"encoding\":\"CSV\"}},\"eventMetadata\":{\"eventId\":\"d0071730-4134-4688-8421-0aeaf9675597\",\"inferenceTime\":\"2020-11-09T02:33:39Z\"},\"eventVersion\":\"0\"}\\n{\"captureData\":{\"endpointInput\":{\"observedContentType\":\"text/csv\",\"mode\":\"INPUT\",\"data\":\"0.2175540408806148,0.05,0.07801418439716312,0.019420419990656437\",\"encoding\":\"CSV\"},\"endpointOutput\":{\"observedContentType\":\"text/csv; charset=utf-8\",\"mode\":\"OUTPUT\",\"data\":\"0.06976258009672165\",\"encoding\":\"CSV\"}},\"eventMetadata\":{\"eventId\":\"03f237f3-a260-4ae4-a427-05cecaa91ce5\",\"inferenceTime\":\"2020-11-09T02:33:39Z\"},\"eventVersion\":\"0\"}\\n{\"captureData\":{\"endpointInput\":{\"observedContentType\":\"text/csv\",\"mode\":\"INPUT\",\"data\":\"0.5266006716935321,0.2,0.0851063829787234,0.0\",\"encodin'"
      ]
     },
     "execution_count": 27,
     "metadata": {},
     "output_type": "execute_result"
    }
   ],
   "source": [
    "capture_file = get_obj_body(capture_files[-1])\n",
    "capture_file[:1000]"
   ]
  },
  {
   "cell_type": "markdown",
   "metadata": {},
   "source": [
    "Finally, the contents of a single line is present below in a formatted JSON file so that you can observe a little better."
   ]
  },
  {
   "cell_type": "code",
   "execution_count": 28,
   "metadata": {},
   "outputs": [
    {
     "name": "stdout",
     "output_type": "stream",
     "text": [
      "{\n",
      "  \"captureData\": {\n",
      "    \"endpointInput\": {\n",
      "      \"observedContentType\": \"text/csv\",\n",
      "      \"mode\": \"INPUT\",\n",
      "      \"data\": \"0.13204301565241186,0.08871757419950001,0.0477200214141844,0.0\",\n",
      "      \"encoding\": \"CSV\"\n",
      "    },\n",
      "    \"endpointOutput\": {\n",
      "      \"observedContentType\": \"text/csv; charset=utf-8\",\n",
      "      \"mode\": \"OUTPUT\",\n",
      "      \"data\": \"0.11074355244636536\",\n",
      "      \"encoding\": \"CSV\"\n",
      "    }\n",
      "  },\n",
      "  \"eventMetadata\": {\n",
      "    \"eventId\": \"d0071730-4134-4688-8421-0aeaf9675597\",\n",
      "    \"inferenceTime\": \"2020-11-09T02:33:39Z\"\n",
      "  },\n",
      "  \"eventVersion\": \"0\"\n",
      "}\n"
     ]
    }
   ],
   "source": [
    "print(json.dumps(json.loads(capture_file.split('\\n')[0]), indent=2))"
   ]
  },
  {
   "cell_type": "markdown",
   "metadata": {},
   "source": [
    "As you can see, each inference request is captured in one line in the jsonl file. The line contains both the input and output merged together. In the example, you provided the ContentType as `text/csv` which is reflected in the `observedContentType` value. Also, you expose the encoding that you used to encode the input and output payloads in the capture format with the `encoding` value.\n",
    "\n",
    "To recap, you observed how you can enable capturing the input or output payloads to an endpoint with a new parameter. You have also observed what the captured format looks like in Amazon S3. Next, continue to explore how Amazon SageMaker helps with monitoring the data collected in Amazon S3."
   ]
  },
  {
   "cell_type": "markdown",
   "metadata": {},
   "source": [
    "## Baseling & Continuous Monitoring"
   ]
  },
  {
   "cell_type": "markdown",
   "metadata": {},
   "source": [
    "In addition to collecting the data, Amazon SageMaker provides the capability for you to monitor and evaluate the data observed by the endpoints. For this:\n",
    "1. Create a baseline with which you compare the realtime traffic. \n",
    "1. Once a baseline is ready, setup a schedule to continously evaluate and compare against the baseline."
   ]
  },
  {
   "cell_type": "markdown",
   "metadata": {},
   "source": [
    "The training dataset with which you trained the model is usually a good baseline dataset. Note that the training dataset data schema and the inference dataset schema should exactly match (i.e. the number and order of the features).\n",
    "\n",
    "From the training dataset you can ask Amazon SageMaker to suggest a set of baseline `constraints` and generate descriptive `statistics` to explore the data. For this example, upload the training dataset that was used to train the pre-trained model included in this example. If you already have it in Amazon S3, you can directly point to it."
   ]
  },
  {
   "cell_type": "code",
   "execution_count": 29,
   "metadata": {},
   "outputs": [
    {
     "name": "stdout",
     "output_type": "stream",
     "text": [
      "Baseline data uri: s3://sagemaker-us-east-1-892313895307/sklearn-classifier/model-monitor/baselining/data\n",
      "Baseline results uri: s3://sagemaker-us-east-1-892313895307/sklearn-classifier/model-monitor/baselining/results\n"
     ]
    }
   ],
   "source": [
    "# copy over the training dataset to Amazon S3 (if you already have it in Amazon S3, you could reuse it)\n",
    "baseline_prefix = prefix + '/baselining'\n",
    "baseline_data_prefix = baseline_prefix + '/data'\n",
    "baseline_results_prefix = baseline_prefix + '/results'\n",
    "\n",
    "baseline_data_uri = 's3://{}/{}'.format(bucket,baseline_data_prefix)\n",
    "baseline_results_uri = 's3://{}/{}'.format(bucket, baseline_results_prefix)\n",
    "print('Baseline data uri: {}'.format(baseline_data_uri))\n",
    "print('Baseline results uri: {}'.format(baseline_results_uri))"
   ]
  },
  {
   "cell_type": "markdown",
   "metadata": {},
   "source": [
    "### Create a Baselining Job with Training Dataset"
   ]
  },
  {
   "cell_type": "code",
   "execution_count": 30,
   "metadata": {},
   "outputs": [],
   "source": [
    "from sagemaker.model_monitor.dataset_format import DatasetFormat\n",
    "from sagemaker.model_monitor import DefaultModelMonitor"
   ]
  },
  {
   "cell_type": "markdown",
   "metadata": {},
   "source": [
    "#### Upload Train Set to S3 as Baseline Data"
   ]
  },
  {
   "cell_type": "code",
   "execution_count": 31,
   "metadata": {},
   "outputs": [],
   "source": [
    "train_data = open('.././DATA/train/train_with_header.csv', 'rb')\n",
    "s3_key = os.path.join(baseline_prefix, 'data', 'train_with_header.csv')\n",
    "boto3.Session().resource('s3').Bucket(bucket).Object(s3_key).upload_fileobj(train_data)"
   ]
  },
  {
   "cell_type": "code",
   "execution_count": 32,
   "metadata": {},
   "outputs": [],
   "source": [
    "default_model_monitor = DefaultModelMonitor(\n",
    "                            role=role,\n",
    "                            instance_count=1,\n",
    "                            instance_type='ml.r5.xlarge',\n",
    "                            volume_size_in_gb=20,\n",
    "                            max_runtime_in_seconds=3600,\n",
    "                        )"
   ]
  },
  {
   "cell_type": "code",
   "execution_count": null,
   "metadata": {},
   "outputs": [],
   "source": [
    "default_model_monitor.suggest_baseline(\n",
    "                            baseline_dataset=baseline_data_uri + '/train_with_header.csv',\n",
    "                            dataset_format=DatasetFormat.csv(header=True),\n",
    "                            output_s3_uri=baseline_results_uri,\n",
    "                            wait=True\n",
    "                        )"
   ]
  },
  {
   "cell_type": "markdown",
   "metadata": {},
   "source": [
    "### Explore the generated constraints and statistics"
   ]
  },
  {
   "cell_type": "code",
   "execution_count": 34,
   "metadata": {},
   "outputs": [],
   "source": [
    "s3_client = boto3.Session().client('s3')\n",
    "result = s3_client.list_objects(Bucket=bucket, Prefix=baseline_results_prefix)\n",
    "report_files = [report_file.get('Key') for report_file in result.get('Contents')]"
   ]
  },
  {
   "cell_type": "code",
   "execution_count": 35,
   "metadata": {},
   "outputs": [
    {
     "name": "stdout",
     "output_type": "stream",
     "text": [
      "Found Files:\n",
      "sklearn-classifier/model-monitor/baselining/results/constraints.json\n",
      " sklearn-classifier/model-monitor/baselining/results/statistics.json\n"
     ]
    }
   ],
   "source": [
    "print('Found Files:')\n",
    "print(\"\\n \".join(report_files))"
   ]
  },
  {
   "cell_type": "code",
   "execution_count": 36,
   "metadata": {},
   "outputs": [],
   "source": [
    "baseline_job = default_model_monitor.latest_baselining_job"
   ]
  },
  {
   "cell_type": "code",
   "execution_count": 37,
   "metadata": {},
   "outputs": [
    {
     "data": {
      "text/plain": [
       "{'inputs': [<sagemaker.processing.ProcessingInput at 0x7f83127cf150>],\n",
       " 'outputs': [<sagemaker.processing.ProcessingOutput at 0x7f83124452d0>],\n",
       " 'output_kms_key': None,\n",
       " 'sagemaker_session': <sagemaker.session.Session at 0x7f8312641510>,\n",
       " 'job_name': 'baseline-suggestion-job-2020-11-09-02-36-26-685'}"
      ]
     },
     "execution_count": 37,
     "metadata": {},
     "output_type": "execute_result"
    }
   ],
   "source": [
    "baseline_job.__dict__"
   ]
  },
  {
   "cell_type": "code",
   "execution_count": 38,
   "metadata": {},
   "outputs": [
    {
     "data": {
      "text/plain": [
       "{'evaluate_constraints': 'Enabled',\n",
       " 'emit_metrics': 'Enabled',\n",
       " 'datatype_check_threshold': 1.0,\n",
       " 'domain_content_threshold': 1.0,\n",
       " 'distribution_constraints': {'perform_comparison': 'Enabled',\n",
       "  'comparison_threshold': 0.1,\n",
       "  'comparison_method': 'Robust'}}"
      ]
     },
     "execution_count": 38,
     "metadata": {},
     "output_type": "execute_result"
    }
   ],
   "source": [
    "baseline_job.suggested_constraints().body_dict['monitoring_config']"
   ]
  },
  {
   "cell_type": "code",
   "execution_count": 39,
   "metadata": {},
   "outputs": [
    {
     "data": {
      "text/html": [
       "<div>\n",
       "<style scoped>\n",
       "    .dataframe tbody tr th:only-of-type {\n",
       "        vertical-align: middle;\n",
       "    }\n",
       "\n",
       "    .dataframe tbody tr th {\n",
       "        vertical-align: top;\n",
       "    }\n",
       "\n",
       "    .dataframe thead th {\n",
       "        text-align: right;\n",
       "    }\n",
       "</style>\n",
       "<table border=\"1\" class=\"dataframe\">\n",
       "  <thead>\n",
       "    <tr style=\"text-align: right;\">\n",
       "      <th></th>\n",
       "      <th>name</th>\n",
       "      <th>inferred_type</th>\n",
       "      <th>numerical_statistics.common.num_present</th>\n",
       "      <th>numerical_statistics.common.num_missing</th>\n",
       "      <th>numerical_statistics.mean</th>\n",
       "      <th>numerical_statistics.sum</th>\n",
       "      <th>numerical_statistics.std_dev</th>\n",
       "      <th>numerical_statistics.min</th>\n",
       "      <th>numerical_statistics.max</th>\n",
       "      <th>numerical_statistics.distribution.kll.buckets</th>\n",
       "      <th>numerical_statistics.distribution.kll.sketch.parameters.c</th>\n",
       "      <th>numerical_statistics.distribution.kll.sketch.parameters.k</th>\n",
       "      <th>numerical_statistics.distribution.kll.sketch.data</th>\n",
       "    </tr>\n",
       "  </thead>\n",
       "  <tbody>\n",
       "    <tr>\n",
       "      <th>0</th>\n",
       "      <td>class</td>\n",
       "      <td>Integral</td>\n",
       "      <td>7461</td>\n",
       "      <td>0</td>\n",
       "      <td>0.187240</td>\n",
       "      <td>1397.000000</td>\n",
       "      <td>0.390104</td>\n",
       "      <td>0.0</td>\n",
       "      <td>1.0</td>\n",
       "      <td>[{'lower_bound': 0.0, 'upper_bound': 0.1, 'count': 6064.0}, {'lower_bound': 0.1, 'upper_bound': 0.2, 'count': 0.0}, {'lower_bound': 0.2, 'upper_bound': 0.3, 'count': 0.0}, {'lower_bound': 0.3, 'upper_bound': 0.4, 'count': 0.0}, {'lower_bound': 0.4, 'upper_bound': 0.5, 'count': 0.0}, {'lower_bound': 0.5, 'upper_bound': 0.6, 'count': 0.0}, {'lower_bound': 0.6, 'upper_bound': 0.7, 'count': 0.0}, {'lower_bound': 0.7, 'upper_bound': 0.8, 'count': 0.0}, {'lower_bound': 0.8, 'upper_bound': 0.9, 'count': 0.0}, {'lower_bound': 0.9, 'upper_bound': 1.0, 'count': 1397.0}]</td>\n",
       "      <td>0.64</td>\n",
       "      <td>2048.0</td>\n",
       "      <td>[[1.0, 1.0, 0.0, 0.0, 0.0, 1.0, 1.0, 0.0, 0.0, 0.0, 0.0, 0.0, 1.0, 0.0, 0.0, 1.0, 1.0, 0.0, 0.0, 0.0, 0.0, 0.0, 0.0, 0.0, 0.0, 1.0, 0.0, 1.0, 1.0, 0.0, 0.0, 0.0, 1.0, 0.0, 1.0, 0.0, 0.0, 0.0, 1.0, 0.0, 0.0, 0.0, 1.0, 1.0, 1.0, 0.0, 0.0, 0.0, 0.0, 0.0, 0.0, 0.0, 0.0, 1.0, 0.0, 1.0, 0.0, 0.0, 1.0, 0.0, 1.0, 0.0, 0.0, 0.0, 0.0, 1.0, 0.0, 0.0, 0.0, 1.0, 1.0, 0.0, 0.0, 0.0, 0.0, 0.0, 0.0, 1.0, 0.0, 1.0, 1.0, 0.0, 0.0, 1.0, 0.0, 0.0, 0.0, 0.0, 0.0, 0.0, 0.0, 1.0, 1.0, 0.0, 0.0, 0.0, 0.0, 0.0, 0.0, 0.0, ...], [1.0], [0.0, 0.0, 0.0, 0.0, 0.0, 0.0, 0.0, 0.0, 0.0, 0.0, 0.0, 0.0, 0.0, 0.0, 0.0, 0.0, 0.0, 0.0, 0.0, 0.0, 0.0, 0.0, 0.0, 0.0, 0.0, 0.0, 0.0, 0.0, 0.0, 0.0, 0.0, 0.0, 0.0, 0.0, 0.0, 0.0, 0.0, 0.0, 0.0, 0.0, 0.0, 0.0, 0.0, 0.0, 0.0, 0.0, 0.0, 0.0, 0.0, 0.0, 0.0, 0.0, 0.0, 0.0, 0.0, 0.0, 0.0, 0.0, 0.0, 0.0, 0.0, 0.0, 0.0, 0.0, 0.0, 0.0, 0.0, 0.0, 0.0, 0.0, 0.0, 0.0, 0.0, 0.0, 0.0, 0.0, 0.0, 0.0, 0.0, 0.0, 0.0, 0.0, 0.0, 0.0, 0.0, 0.0, 0.0, 0.0, 0.0, 0.0, 0.0, 0.0, 0.0, 0.0, 0.0, 0.0, 0.0, 0.0, 0.0, 0.0, ...]]</td>\n",
       "    </tr>\n",
       "    <tr>\n",
       "      <th>1</th>\n",
       "      <td>bmi</td>\n",
       "      <td>Fractional</td>\n",
       "      <td>7461</td>\n",
       "      <td>0</td>\n",
       "      <td>0.315797</td>\n",
       "      <td>2356.163481</td>\n",
       "      <td>0.195465</td>\n",
       "      <td>0.0</td>\n",
       "      <td>1.0</td>\n",
       "      <td>[{'lower_bound': 0.0, 'upper_bound': 0.10000000000000002, 'count': 1117.0}, {'lower_bound': 0.10000000000000002, 'upper_bound': 0.20000000000000004, 'count': 1465.0}, {'lower_bound': 0.20000000000000004, 'upper_bound': 0.3000000000000001, 'count': 1230.0}, {'lower_bound': 0.3000000000000001, 'upper_bound': 0.4000000000000001, 'count': 1131.0}, {'lower_bound': 0.4000000000000001, 'upper_bound': 0.5000000000000001, 'count': 1070.0}, {'lower_bound': 0.5000000000000001, 'upper_bound': 0.6000000000000002, 'count': 792.0}, {'lower_bound': 0.6000000000000002, 'upper_bound': 0.7000000000000002, 'count': 421.0}, {'lower_bound': 0.7000000000000002, 'upper_bound': 0.8000000000000002, 'count': 160.0}, {'lower_bound': 0.8000000000000002, 'upper_bound': 0.9000000000000001, 'count': 65.0}, {'lower_bound': 0.9000000000000001, 'upper_bound': 1.0000000000000002, 'count': 10.0}]</td>\n",
       "      <td>0.64</td>\n",
       "      <td>2048.0</td>\n",
       "      <td>[[0.22004643926117434, 0.41799164814191414, 0.40164603999597687, 0.08965115540289867, 0.4832598604858712, 0.3069023725255823, 0.44711896229258263, 0.26339593847828513, 0.48393797103406394, 0.15879535649381255, 0.590043090857192, 0.17045197393709272, 0.20550090551371458, 0.05982340583926237, 0.2181397363799792, 0.21225208586755862, 0.48730064172826154, 0.6046004023640975, 0.38521101701869376, 0.14926258167113932, 0.6914344626461006, 0.5776288509661499, 0.40531901861657305, 0.17162782704940543, 0.08955979363511955, 0.5070368026131439, 0.5783225370017707, 0.19714206090364672, 0.5811979930086043, 0.35024116468865146, 0.43469359362157894, 0.07400099012324711, 0.07004198546056925, 0.11491142229095636, 0.45429060868266985, 0.5466982415603474, 0.29274251368584386, 0.05046928761949845, 0.2936473447803901, 0.06270264843965287, 0.11541185691486855, 0.3032176161455403, 0.09602326013463156, 0.07740093884962822, 0.43828272580659455, 0.23806753393334168, 0.11969655797353143, 0.28334724817944246, 0.9190716451490231, 0.19371585440058936, 0.39150370599715534, 0.1931393050003956, 0.12636142417107588, 0.43613132162398643, 0.0953390283562756, 0.571197179078586, 0.6032173568187119, 0.36503158407023845, 0.1570522479962892, 0.20185148241402917, 0.24378703858579465, 0.16145040013203454, 0.08961952370422643, 0.38983174478537297, 0.2462401777648363, 0.022656446741425217, 0.1859918871454101, 0.028025623991288284, 0.6009459316529326, 0.0624187867097966, 0.2602670311920719, 0.038151384999758446, 0.08503810444393213, 0.103387725283236, 0.5753713668227444, 0.6013699310172114, 0.5831222546726157, 0.10918541182860068, 0.815416613750768, 0.33221420270722407, 0.31987877211710547, 0.5851829620900668, 0.21828506321602703, 0.09131888623572862, 0.24251071396912138, 0.11675077191408964, 0.28177199750559095, 0.44711492420339904, 0.15351280164354691, 0.04774501959524286, 0.1954140952405619, 0.17496117352558915, 0.39083027049825775, 0.5545879200315713, 0.5031804274427986, 0.25821022784568143, 0.03705874536809332, 0.20698706655161836, 0.0340628197013557, 0.17394155600672823, ...], [0.949872629271312], [0.00343867099232652, 0.008569305090462087, 0.010055571886971476, 0.010950816258977291, 0.013196372415924112, 0.01437485253303944, 0.015276619296916993, 0.015604102211396749, 0.01725607998816673, 0.01870429560265443, 0.019800288704853466, 0.020565795040002274, 0.02146693235990396, 0.02217045476566042, 0.022411665555099446, 0.023382786414734538, 0.02410236796883947, 0.02576591649495729, 0.02638883501682772, 0.02745592892706136, 0.028142980958186882, 0.02889787929725597, 0.029553205950078286, 0.030734088184267823, 0.03141244075230731, 0.03218813679786585, 0.032712004090084394, 0.033791555122032906, 0.03499057069128956, 0.03554337322369754, 0.03596444908449682, 0.036514674033912356, 0.037467601897933585, 0.0382070997167486, 0.038847955383930766, 0.03983443681803221, 0.040543952841045984, 0.0410110251565493, 0.041535976750418306, 0.04214446136579678, 0.04263803859024582, 0.04357857686252714, 0.04397027151333708, 0.044646651451591364, 0.04507771747194148, 0.04540783126270141, 0.04563547854042729, 0.046179261607939504, 0.04674135083185211, 0.04750561859358558, 0.047985702529903806, 0.04845053146254977, 0.04887856891601219, 0.04980549393317685, 0.050162344768900156, 0.05052641992526219, 0.05091256939366627, 0.0514205460570932, 0.05153613635997397, 0.051828343819736174, 0.05218138936070398, 0.05265493009703842, 0.05273270070350015, 0.05318269691645786, 0.05353807515736433, 0.054232402158679305, 0.05507703581284994, 0.05526307635015104, 0.05625302627511297, 0.05660141447966183, 0.05690987962567672, 0.058090796373616416, 0.0585642142577503, 0.05880105139319837, 0.059051365693494756, 0.05957277510400042, 0.0604880753188842, 0.06139376103583674, 0.061676427278689286, 0.06233550112038469, 0.06258227323711585, 0.0629487859151451, 0.06311283328822917, 0.06333593771562349, 0.0637107458115922, 0.06387541089945677, 0.06422027924683356, 0.06475994861315364, 0.06537232773598434, 0.06575778170349217, 0.06604044794634473, 0.06682922136694337, 0.06741592207451107, 0.06805117882504035, 0.06873010377748257, 0.06926755421884387, 0.06980163958602009, 0.0702016988500524, 0.07083001567812226, 0.07140101133758388, ...]]</td>\n",
       "    </tr>\n",
       "    <tr>\n",
       "      <th>2</th>\n",
       "      <td>diastolic_bp_change</td>\n",
       "      <td>Fractional</td>\n",
       "      <td>7461</td>\n",
       "      <td>0</td>\n",
       "      <td>0.148501</td>\n",
       "      <td>1107.968070</td>\n",
       "      <td>0.147993</td>\n",
       "      <td>0.0</td>\n",
       "      <td>1.0</td>\n",
       "      <td>[{'lower_bound': 0.0, 'upper_bound': 0.1, 'count': 3408.0}, {'lower_bound': 0.1, 'upper_bound': 0.2, 'count': 1763.0}, {'lower_bound': 0.2, 'upper_bound': 0.3, 'count': 1063.0}, {'lower_bound': 0.3, 'upper_bound': 0.4, 'count': 562.0}, {'lower_bound': 0.4, 'upper_bound': 0.5, 'count': 388.0}, {'lower_bound': 0.5, 'upper_bound': 0.6, 'count': 201.0}, {'lower_bound': 0.6, 'upper_bound': 0.7, 'count': 46.0}, {'lower_bound': 0.7, 'upper_bound': 0.8, 'count': 23.0}, {'lower_bound': 0.8, 'upper_bound': 0.9, 'count': 3.0}, {'lower_bound': 0.9, 'upper_bound': 1.0, 'count': 4.0}]</td>\n",
       "      <td>0.64</td>\n",
       "      <td>2048.0</td>\n",
       "      <td>[[0.33628242580000006, 0.25, 0.11935878709975001, 0.1, 0.025, 0.05, 0.375, 0.11935878709975001, 0.05, 0.0, 0.42500000000000004, 0.055641212900249995, 0.35000000000000003, 0.05, 0.08871757419950001, 0.1612824258005, 0.0, 0.35000000000000003, 0.0, 0.025, 0.2, 0.019358787099800004, 0.46371757420000004, 0.15000000000000002, 0.0, 0.0, 0.15000000000000002, 0.225, 0.05, 0.05, 0.25, 0.1612824258005, 0.3637175742, 0.0, 0.5, 0.55, 0.1387175741995, 0.0, 0.0, 0.1, 0.0, 0.25, 0.4112824258, 0.33628242580000006, 0.11128242580049999, 0.7250000000000001, 0.4112824258, 0.025, 0.2, 0.0, 0.1887175741995, 0.0, 0.036282425800500014, 0.07500000000000001, 0.0, 0.05, 0.25, 0.044358787099750004, 0.36128242580000003, 0.0, 0.044358787099750004, 0.15000000000000002, 0.1, 0.0, 0.05, 0.0, 0.0, 0.6000000000000001, 0.07500000000000001, 0.06128242580050001, 0.11371757419950002, 0.2, 0.030641212900250004, 0.030641212900250004, 0.11666666666675002, 0.05, 0.25, 0.4112824258, 0.1, 0.25, 0.025, 0.0, 0.2862824258, 0.25, 0.1, 0.0, 0.13333333333325, 0.019358787099800004, 0.025, 0.037500000000000006, 0.18628242580050003, 0.4, 0.0, 0.0, 0.1375, 0.1612824258005, 0.05376080860025, 0.2, 0.06128242580050001, 0.0, ...], [0.9], [0.0, 0.0, 0.0, 0.0, 0.0, 0.0, 0.0, 0.0, 0.0, 0.0, 0.0, 0.0, 0.0, 0.0, 0.0, 0.0, 0.0, 0.0, 0.0, 0.0, 0.0, 0.0, 0.0, 0.0, 0.0, 0.0, 0.0, 0.0, 0.0, 0.0, 0.0, 0.0, 0.0, 0.0, 0.0, 0.0, 0.0, 0.0, 0.0, 0.0, 0.0, 0.0, 0.0, 0.0, 0.0, 0.0, 0.0, 0.0, 0.0, 0.0, 0.0, 0.0, 0.0, 0.0, 0.0, 0.0, 0.0, 0.0, 0.0, 0.0, 0.0, 0.0, 0.0, 0.0, 0.0, 0.0, 0.0, 0.0, 0.0, 0.0, 0.0, 0.0, 0.0, 0.0, 0.0, 0.0, 0.0, 0.0, 0.0, 0.0, 0.0, 0.0, 0.0, 0.0, 0.0, 0.0, 0.0, 0.0, 0.0, 0.0, 0.0, 0.0, 0.0, 0.0, 0.0, 0.0, 0.0, 0.0, 0.0, 0.0, ...]]</td>\n",
       "    </tr>\n",
       "    <tr>\n",
       "      <th>3</th>\n",
       "      <td>systolic_bp_change</td>\n",
       "      <td>Fractional</td>\n",
       "      <td>7461</td>\n",
       "      <td>0</td>\n",
       "      <td>0.068310</td>\n",
       "      <td>509.663786</td>\n",
       "      <td>0.073657</td>\n",
       "      <td>0.0</td>\n",
       "      <td>1.0</td>\n",
       "      <td>[{'lower_bound': 0.0, 'upper_bound': 0.1, 'count': 5702.0}, {'lower_bound': 0.1, 'upper_bound': 0.2, 'count': 1338.0}, {'lower_bound': 0.2, 'upper_bound': 0.3, 'count': 325.0}, {'lower_bound': 0.3, 'upper_bound': 0.4, 'count': 69.0}, {'lower_bound': 0.4, 'upper_bound': 0.5, 'count': 15.0}, {'lower_bound': 0.5, 'upper_bound': 0.6, 'count': 8.0}, {'lower_bound': 0.6, 'upper_bound': 0.7, 'count': 3.0}, {'lower_bound': 0.7, 'upper_bound': 0.8, 'count': 0.0}, {'lower_bound': 0.8, 'upper_bound': 0.9, 'count': 0.0}, {'lower_bound': 0.9, 'upper_bound': 1.0, 'count': 1.0}]</td>\n",
       "      <td>0.64</td>\n",
       "      <td>2048.0</td>\n",
       "      <td>[[0.07284735447234042, 0.0425531914893617, 0.01160098220070922, 0.09219858156028368, 0.028368794326241134, 0.07801418439716312, 0.035460992907801414, 0.05932100361489362, 0.2836879432624113, 0.05673758865248227, 0.04964539007092199, 0.016767812125531915, 0.028368794326241134, 0.0, 0.03353562425106383, 0.02320196440141844, 0.00945626477539007, 0.0, 0.0, 0.1631205673758865, 0.07092198581560283, 0.04706197510851064, 0.2501523190113475, 0.0035460992907801418, 0.0, 0.05673758865248227, 0.07092198581560283, 0.10638297872340426, 0.15602836879432624, 0.03900709219858156, 0.0425531914893617, 0.11864200722978724, 0.05866295730921985, 0.0425531914893617, 0.3404255319148936, 0.1276595744680851, 0.06190441857730497, 0.0, 0.017730496453900707, 0.0070921985815602835, 0.06382978723404255, 0.11347517730496454, 0.037386361564539006, 0.19665619162695036, 0.1328264043929078, 0.0425531914893617, 0.09412395021702127, 0.05673758865248227, 0.014184397163120567, 0.15602836879432624, 0.22178352468510637, 0.0, 0.11864200722978724, 0.07092198581560283, 0.0, 0.11347517730496454, 0.028368794326241134, 0.0238600107070922, 0.019351227087943262, 0.0, 0.07543076943475177, 0.04964539007092199, 0.07801418439716312, 0.0, 0.11347517730496454, 0.0, 0.0, 0.2127659574468085, 0.06382978723404255, 0.0799395530539007, 0.026443425669503546, 0.07092198581560283, 0.018693180782269503, 0.030952209288652485, 0.00945626477539007, 0.02127659574468085, 0.15602836879432624, 0.2604859788609929, 0.06028368794326241, 0.0, 0.06382978723404255, 0.09929078014184398, 0.019351227087943262, 0.05673758865248227, 0.0425531914893617, 0.0, 0.014184397163120567, 0.01160098220070922, 0.028368794326241134, 0.0070921985815602835, 0.0477200214141844, 0.1702127659574468, 0.0, 0.0, 0.014184397163120567, 0.02320196440141844, 0.015906673804751772, 0.12056737588652482, 0.13667714170638298, 0.0, ...], [0.652482269503546], [0.0, 0.0, 0.0, 0.0, 0.0, 0.0, 0.0, 0.0, 0.0, 0.0, 0.0, 0.0, 0.0, 0.0, 0.0, 0.0, 0.0, 0.0, 0.0, 0.0, 0.0, 0.0, 0.0, 0.0, 0.0, 0.0, 0.0, 0.0, 0.0, 0.0, 0.0, 0.0, 0.0, 0.0, 0.0, 0.0, 0.0, 0.0, 0.0, 0.0, 0.0, 0.0, 0.0, 0.0, 0.0, 0.0, 0.0, 0.0, 0.0, 0.0, 0.0, 0.0, 0.0, 0.0, 0.0, 0.0, 0.0, 0.0, 0.0, 0.0, 0.0, 0.0, 0.0, 0.0, 0.0, 0.0, 0.0, 0.0, 0.0, 0.0, 0.0, 0.0, 0.0, 0.0, 0.0, 0.0, 0.0, 0.0, 0.0, 0.0, 0.0, 0.0, 0.0, 0.0, 0.0, 0.0, 0.0, 0.0, 0.0, 0.0, 0.0, 0.0, 0.0, 0.0, 0.0, 0.0, 0.0, 0.0, 0.0, 0.0, ...]]</td>\n",
       "    </tr>\n",
       "    <tr>\n",
       "      <th>4</th>\n",
       "      <td>respiratory_rate</td>\n",
       "      <td>Fractional</td>\n",
       "      <td>7461</td>\n",
       "      <td>0</td>\n",
       "      <td>0.034893</td>\n",
       "      <td>260.336805</td>\n",
       "      <td>0.042689</td>\n",
       "      <td>0.0</td>\n",
       "      <td>1.0</td>\n",
       "      <td>[{'lower_bound': 0.0, 'upper_bound': 0.09999999999999999, 'count': 7207.0}, {'lower_bound': 0.09999999999999999, 'upper_bound': 0.19999999999999998, 'count': 216.0}, {'lower_bound': 0.19999999999999998, 'upper_bound': 0.29999999999999993, 'count': 13.0}, {'lower_bound': 0.29999999999999993, 'upper_bound': 0.39999999999999997, 'count': 12.0}, {'lower_bound': 0.39999999999999997, 'upper_bound': 0.4999999999999999, 'count': 10.0}, {'lower_bound': 0.4999999999999999, 'upper_bound': 0.5999999999999999, 'count': 0.0}, {'lower_bound': 0.5999999999999999, 'upper_bound': 0.7, 'count': 0.0}, {'lower_bound': 0.7, 'upper_bound': 0.7999999999999999, 'count': 0.0}, {'lower_bound': 0.7999999999999999, 'upper_bound': 0.8999999999999998, 'count': 2.0}, {'lower_bound': 0.8999999999999998, 'upper_bound': 0.9999999999999998, 'count': 0.0}]</td>\n",
       "      <td>0.64</td>\n",
       "      <td>2048.0</td>\n",
       "      <td>[[0.05314817005332741, 0.04126308084780673, 0.06814604044080558, 0.04296127823193188, 0.0, 0.0, 0.0, 0.04056511384584134, 0.07679188802854173, 0.050629728227165376, 0.0, 0.0, 0.015537952454270003, 0.04621889333125077, 0.03550151955334425, 0.05781942725958627, 0.15686274509798592, 0.03972746405240863, 0.02598711341812629, 0.0, 0.0, 0.03959979791563735, 0.03275591819146051, 0.046871710169770014, 0.09474692906324314, 0.11877976491061223, 0.0, 0.028258827901212924, 0.03497578764768386, 0.07060961277513077, 0.07799593569460185, 0.05949238553115014, 0.09337723740762546, 0.0, 0.04561681890518641, 0.058837685781216856, 0.04722634902618359, 0.02981325379795728, 0.07953301268999939, 0.0, 0.03741828099092526, 0.05558304286342362, 0.024066569181955134, 0.0, 0.0, 0.0, 0.0, 0.054702294234768155, 0.0, 0.05324872740748199, 0.048001615846581545, 0.020854818481345752, 0.07465024710803934, 0.0, 0.043654661155966265, 0.020278416237770165, 0.059795885027440564, 0.019914596746034553, 0.03863728741563541, 0.04017259115066125, 0.04911781758257276, 0.0, 0.0785926763714104, 0.05600257127978236, 0.01310275198159437, 0.0, 0.046296117935207194, 0.0, 0.05545935538727986, 0.01098699154619192, 0.0, 0.0, 0.0, 0.0, 0.03921568627449648, 0.011745588022059739, 0.02441420007474215, 0.0, 0.049203744265179, 0.039979111061485384, 0.046855112772869044, 0.0, 0.06309097395989266, 0.0774447751299095, 0.06959555694572998, 0.0, 0.025228780384978788, 0.0, 0.0011673941724918149, 0.0, 0.05314817005332741, 0.017941682064266905, 0.09660427667686765, 0.054714263332443294, 0.05752671319680733, 0.06326211823573077, 0.08505396382659944, 0.0, 0.006948783583792576, 0.07405971271670332, ...], [0.8742491226274228], [0.0, 0.0, 0.0, 0.0, 0.0, 0.0, 0.0, 0.0, 0.0, 0.0, 0.0, 0.0, 0.0, 0.0, 0.0, 0.0, 0.0, 0.0, 0.0, 0.0, 0.0, 0.0, 0.0, 0.0, 0.0, 0.0, 0.0, 0.0, 0.0, 0.0, 0.0, 0.0, 0.0, 0.0, 0.0, 0.0, 0.0, 0.0, 0.0, 0.0, 0.0, 0.0, 0.0, 0.0, 0.0, 0.0, 0.0, 0.0, 0.0, 0.0, 0.0, 0.0, 0.0, 0.0, 0.0, 0.0, 0.0, 0.0, 0.0, 0.0, 0.0, 0.0, 0.0, 0.0, 0.0, 0.0, 0.0, 0.0, 0.0, 0.0, 0.0, 0.0, 0.0, 0.0, 0.0, 0.0, 0.0, 0.0, 0.0, 0.0, 0.0, 0.0, 0.0, 0.0, 0.0, 0.0, 0.0, 0.0, 0.0, 0.0, 0.0, 0.0, 0.0, 0.0, 0.0, 0.0, 0.0, 0.0, 0.0, 0.0, ...]]</td>\n",
       "    </tr>\n",
       "  </tbody>\n",
       "</table>\n",
       "</div>"
      ],
      "text/plain": [
       "                  name inferred_type  numerical_statistics.common.num_present  \\\n",
       "0  class                Integral      7461                                      \n",
       "1  bmi                  Fractional    7461                                      \n",
       "2  diastolic_bp_change  Fractional    7461                                      \n",
       "3  systolic_bp_change   Fractional    7461                                      \n",
       "4  respiratory_rate     Fractional    7461                                      \n",
       "\n",
       "   numerical_statistics.common.num_missing  numerical_statistics.mean  \\\n",
       "0  0                                        0.187240                    \n",
       "1  0                                        0.315797                    \n",
       "2  0                                        0.148501                    \n",
       "3  0                                        0.068310                    \n",
       "4  0                                        0.034893                    \n",
       "\n",
       "   numerical_statistics.sum  numerical_statistics.std_dev  \\\n",
       "0  1397.000000               0.390104                       \n",
       "1  2356.163481               0.195465                       \n",
       "2  1107.968070               0.147993                       \n",
       "3  509.663786                0.073657                       \n",
       "4  260.336805                0.042689                       \n",
       "\n",
       "   numerical_statistics.min  numerical_statistics.max  \\\n",
       "0  0.0                       1.0                        \n",
       "1  0.0                       1.0                        \n",
       "2  0.0                       1.0                        \n",
       "3  0.0                       1.0                        \n",
       "4  0.0                       1.0                        \n",
       "\n",
       "                                                                                                                                                                                                                                                                                                                                                                                                                                                                                                                                                                                                                                                                                                                                                                                                                                                              numerical_statistics.distribution.kll.buckets  \\\n",
       "0  [{'lower_bound': 0.0, 'upper_bound': 0.1, 'count': 6064.0}, {'lower_bound': 0.1, 'upper_bound': 0.2, 'count': 0.0}, {'lower_bound': 0.2, 'upper_bound': 0.3, 'count': 0.0}, {'lower_bound': 0.3, 'upper_bound': 0.4, 'count': 0.0}, {'lower_bound': 0.4, 'upper_bound': 0.5, 'count': 0.0}, {'lower_bound': 0.5, 'upper_bound': 0.6, 'count': 0.0}, {'lower_bound': 0.6, 'upper_bound': 0.7, 'count': 0.0}, {'lower_bound': 0.7, 'upper_bound': 0.8, 'count': 0.0}, {'lower_bound': 0.8, 'upper_bound': 0.9, 'count': 0.0}, {'lower_bound': 0.9, 'upper_bound': 1.0, 'count': 1397.0}]                                                                                                                                                                                                                                                                                                                     \n",
       "1  [{'lower_bound': 0.0, 'upper_bound': 0.10000000000000002, 'count': 1117.0}, {'lower_bound': 0.10000000000000002, 'upper_bound': 0.20000000000000004, 'count': 1465.0}, {'lower_bound': 0.20000000000000004, 'upper_bound': 0.3000000000000001, 'count': 1230.0}, {'lower_bound': 0.3000000000000001, 'upper_bound': 0.4000000000000001, 'count': 1131.0}, {'lower_bound': 0.4000000000000001, 'upper_bound': 0.5000000000000001, 'count': 1070.0}, {'lower_bound': 0.5000000000000001, 'upper_bound': 0.6000000000000002, 'count': 792.0}, {'lower_bound': 0.6000000000000002, 'upper_bound': 0.7000000000000002, 'count': 421.0}, {'lower_bound': 0.7000000000000002, 'upper_bound': 0.8000000000000002, 'count': 160.0}, {'lower_bound': 0.8000000000000002, 'upper_bound': 0.9000000000000001, 'count': 65.0}, {'lower_bound': 0.9000000000000001, 'upper_bound': 1.0000000000000002, 'count': 10.0}]   \n",
       "2  [{'lower_bound': 0.0, 'upper_bound': 0.1, 'count': 3408.0}, {'lower_bound': 0.1, 'upper_bound': 0.2, 'count': 1763.0}, {'lower_bound': 0.2, 'upper_bound': 0.3, 'count': 1063.0}, {'lower_bound': 0.3, 'upper_bound': 0.4, 'count': 562.0}, {'lower_bound': 0.4, 'upper_bound': 0.5, 'count': 388.0}, {'lower_bound': 0.5, 'upper_bound': 0.6, 'count': 201.0}, {'lower_bound': 0.6, 'upper_bound': 0.7, 'count': 46.0}, {'lower_bound': 0.7, 'upper_bound': 0.8, 'count': 23.0}, {'lower_bound': 0.8, 'upper_bound': 0.9, 'count': 3.0}, {'lower_bound': 0.9, 'upper_bound': 1.0, 'count': 4.0}]                                                                                                                                                                                                                                                                                                          \n",
       "3  [{'lower_bound': 0.0, 'upper_bound': 0.1, 'count': 5702.0}, {'lower_bound': 0.1, 'upper_bound': 0.2, 'count': 1338.0}, {'lower_bound': 0.2, 'upper_bound': 0.3, 'count': 325.0}, {'lower_bound': 0.3, 'upper_bound': 0.4, 'count': 69.0}, {'lower_bound': 0.4, 'upper_bound': 0.5, 'count': 15.0}, {'lower_bound': 0.5, 'upper_bound': 0.6, 'count': 8.0}, {'lower_bound': 0.6, 'upper_bound': 0.7, 'count': 3.0}, {'lower_bound': 0.7, 'upper_bound': 0.8, 'count': 0.0}, {'lower_bound': 0.8, 'upper_bound': 0.9, 'count': 0.0}, {'lower_bound': 0.9, 'upper_bound': 1.0, 'count': 1.0}]                                                                                                                                                                                                                                                                                                                 \n",
       "4  [{'lower_bound': 0.0, 'upper_bound': 0.09999999999999999, 'count': 7207.0}, {'lower_bound': 0.09999999999999999, 'upper_bound': 0.19999999999999998, 'count': 216.0}, {'lower_bound': 0.19999999999999998, 'upper_bound': 0.29999999999999993, 'count': 13.0}, {'lower_bound': 0.29999999999999993, 'upper_bound': 0.39999999999999997, 'count': 12.0}, {'lower_bound': 0.39999999999999997, 'upper_bound': 0.4999999999999999, 'count': 10.0}, {'lower_bound': 0.4999999999999999, 'upper_bound': 0.5999999999999999, 'count': 0.0}, {'lower_bound': 0.5999999999999999, 'upper_bound': 0.7, 'count': 0.0}, {'lower_bound': 0.7, 'upper_bound': 0.7999999999999999, 'count': 0.0}, {'lower_bound': 0.7999999999999999, 'upper_bound': 0.8999999999999998, 'count': 2.0}, {'lower_bound': 0.8999999999999998, 'upper_bound': 0.9999999999999998, 'count': 0.0}]                                            \n",
       "\n",
       "   numerical_statistics.distribution.kll.sketch.parameters.c  \\\n",
       "0  0.64                                                        \n",
       "1  0.64                                                        \n",
       "2  0.64                                                        \n",
       "3  0.64                                                        \n",
       "4  0.64                                                        \n",
       "\n",
       "   numerical_statistics.distribution.kll.sketch.parameters.k  \\\n",
       "0  2048.0                                                      \n",
       "1  2048.0                                                      \n",
       "2  2048.0                                                      \n",
       "3  2048.0                                                      \n",
       "4  2048.0                                                      \n",
       "\n",
       "                                                                                                                                                                                                                                                                                                                                                                                                                                                                                                                                                                                                                                                                                                                                                                                                                                                                                                                                                                                                                                                                                                                                                                                                                                                                                                                                                                                                                                                                                                                                                                                                                                                                                                                                                                                                                                                                                                                                                                                                                                                                                                                                                                                                                                                                                                                                                                                                                                                                                                                                                                                                                                                                                                                                                                                                                                                                                                                                                                                                                                                                                                                                                                                                                                                                                                                                                                                                                                                                                                                                                                                                                                                                                                                                                                                                                                                                                                                                                                                                                                                                                                                                                                                                                                                                                                                                               numerical_statistics.distribution.kll.sketch.data  \n",
       "0  [[1.0, 1.0, 0.0, 0.0, 0.0, 1.0, 1.0, 0.0, 0.0, 0.0, 0.0, 0.0, 1.0, 0.0, 0.0, 1.0, 1.0, 0.0, 0.0, 0.0, 0.0, 0.0, 0.0, 0.0, 0.0, 1.0, 0.0, 1.0, 1.0, 0.0, 0.0, 0.0, 1.0, 0.0, 1.0, 0.0, 0.0, 0.0, 1.0, 0.0, 0.0, 0.0, 1.0, 1.0, 1.0, 0.0, 0.0, 0.0, 0.0, 0.0, 0.0, 0.0, 0.0, 1.0, 0.0, 1.0, 0.0, 0.0, 1.0, 0.0, 1.0, 0.0, 0.0, 0.0, 0.0, 1.0, 0.0, 0.0, 0.0, 1.0, 1.0, 0.0, 0.0, 0.0, 0.0, 0.0, 0.0, 1.0, 0.0, 1.0, 1.0, 0.0, 0.0, 1.0, 0.0, 0.0, 0.0, 0.0, 0.0, 0.0, 0.0, 1.0, 1.0, 0.0, 0.0, 0.0, 0.0, 0.0, 0.0, 0.0, ...], [1.0], [0.0, 0.0, 0.0, 0.0, 0.0, 0.0, 0.0, 0.0, 0.0, 0.0, 0.0, 0.0, 0.0, 0.0, 0.0, 0.0, 0.0, 0.0, 0.0, 0.0, 0.0, 0.0, 0.0, 0.0, 0.0, 0.0, 0.0, 0.0, 0.0, 0.0, 0.0, 0.0, 0.0, 0.0, 0.0, 0.0, 0.0, 0.0, 0.0, 0.0, 0.0, 0.0, 0.0, 0.0, 0.0, 0.0, 0.0, 0.0, 0.0, 0.0, 0.0, 0.0, 0.0, 0.0, 0.0, 0.0, 0.0, 0.0, 0.0, 0.0, 0.0, 0.0, 0.0, 0.0, 0.0, 0.0, 0.0, 0.0, 0.0, 0.0, 0.0, 0.0, 0.0, 0.0, 0.0, 0.0, 0.0, 0.0, 0.0, 0.0, 0.0, 0.0, 0.0, 0.0, 0.0, 0.0, 0.0, 0.0, 0.0, 0.0, 0.0, 0.0, 0.0, 0.0, 0.0, 0.0, 0.0, 0.0, 0.0, 0.0, ...]]                                                                                                                                                                                                                                                                                                                                                                                                                                                                                                                                                                                                                                                                                                                                                                                                                                                                                                                                                                                                                                                                                                                                                                                                                                                                                                                                                                                                                                                                                                                                                                                                                                                                                                                                                                                                                                                                                                                                                                                                                                                                                                                                                                                                                                                                                                                                                                                                                                                                                                                                                                                                                                                                                                                                                                                                                                                                                                                                                                                                                                                                                                                                                                                                                                                                                                                                  \n",
       "1  [[0.22004643926117434, 0.41799164814191414, 0.40164603999597687, 0.08965115540289867, 0.4832598604858712, 0.3069023725255823, 0.44711896229258263, 0.26339593847828513, 0.48393797103406394, 0.15879535649381255, 0.590043090857192, 0.17045197393709272, 0.20550090551371458, 0.05982340583926237, 0.2181397363799792, 0.21225208586755862, 0.48730064172826154, 0.6046004023640975, 0.38521101701869376, 0.14926258167113932, 0.6914344626461006, 0.5776288509661499, 0.40531901861657305, 0.17162782704940543, 0.08955979363511955, 0.5070368026131439, 0.5783225370017707, 0.19714206090364672, 0.5811979930086043, 0.35024116468865146, 0.43469359362157894, 0.07400099012324711, 0.07004198546056925, 0.11491142229095636, 0.45429060868266985, 0.5466982415603474, 0.29274251368584386, 0.05046928761949845, 0.2936473447803901, 0.06270264843965287, 0.11541185691486855, 0.3032176161455403, 0.09602326013463156, 0.07740093884962822, 0.43828272580659455, 0.23806753393334168, 0.11969655797353143, 0.28334724817944246, 0.9190716451490231, 0.19371585440058936, 0.39150370599715534, 0.1931393050003956, 0.12636142417107588, 0.43613132162398643, 0.0953390283562756, 0.571197179078586, 0.6032173568187119, 0.36503158407023845, 0.1570522479962892, 0.20185148241402917, 0.24378703858579465, 0.16145040013203454, 0.08961952370422643, 0.38983174478537297, 0.2462401777648363, 0.022656446741425217, 0.1859918871454101, 0.028025623991288284, 0.6009459316529326, 0.0624187867097966, 0.2602670311920719, 0.038151384999758446, 0.08503810444393213, 0.103387725283236, 0.5753713668227444, 0.6013699310172114, 0.5831222546726157, 0.10918541182860068, 0.815416613750768, 0.33221420270722407, 0.31987877211710547, 0.5851829620900668, 0.21828506321602703, 0.09131888623572862, 0.24251071396912138, 0.11675077191408964, 0.28177199750559095, 0.44711492420339904, 0.15351280164354691, 0.04774501959524286, 0.1954140952405619, 0.17496117352558915, 0.39083027049825775, 0.5545879200315713, 0.5031804274427986, 0.25821022784568143, 0.03705874536809332, 0.20698706655161836, 0.0340628197013557, 0.17394155600672823, ...], [0.949872629271312], [0.00343867099232652, 0.008569305090462087, 0.010055571886971476, 0.010950816258977291, 0.013196372415924112, 0.01437485253303944, 0.015276619296916993, 0.015604102211396749, 0.01725607998816673, 0.01870429560265443, 0.019800288704853466, 0.020565795040002274, 0.02146693235990396, 0.02217045476566042, 0.022411665555099446, 0.023382786414734538, 0.02410236796883947, 0.02576591649495729, 0.02638883501682772, 0.02745592892706136, 0.028142980958186882, 0.02889787929725597, 0.029553205950078286, 0.030734088184267823, 0.03141244075230731, 0.03218813679786585, 0.032712004090084394, 0.033791555122032906, 0.03499057069128956, 0.03554337322369754, 0.03596444908449682, 0.036514674033912356, 0.037467601897933585, 0.0382070997167486, 0.038847955383930766, 0.03983443681803221, 0.040543952841045984, 0.0410110251565493, 0.041535976750418306, 0.04214446136579678, 0.04263803859024582, 0.04357857686252714, 0.04397027151333708, 0.044646651451591364, 0.04507771747194148, 0.04540783126270141, 0.04563547854042729, 0.046179261607939504, 0.04674135083185211, 0.04750561859358558, 0.047985702529903806, 0.04845053146254977, 0.04887856891601219, 0.04980549393317685, 0.050162344768900156, 0.05052641992526219, 0.05091256939366627, 0.0514205460570932, 0.05153613635997397, 0.051828343819736174, 0.05218138936070398, 0.05265493009703842, 0.05273270070350015, 0.05318269691645786, 0.05353807515736433, 0.054232402158679305, 0.05507703581284994, 0.05526307635015104, 0.05625302627511297, 0.05660141447966183, 0.05690987962567672, 0.058090796373616416, 0.0585642142577503, 0.05880105139319837, 0.059051365693494756, 0.05957277510400042, 0.0604880753188842, 0.06139376103583674, 0.061676427278689286, 0.06233550112038469, 0.06258227323711585, 0.0629487859151451, 0.06311283328822917, 0.06333593771562349, 0.0637107458115922, 0.06387541089945677, 0.06422027924683356, 0.06475994861315364, 0.06537232773598434, 0.06575778170349217, 0.06604044794634473, 0.06682922136694337, 0.06741592207451107, 0.06805117882504035, 0.06873010377748257, 0.06926755421884387, 0.06980163958602009, 0.0702016988500524, 0.07083001567812226, 0.07140101133758388, ...]]  \n",
       "2  [[0.33628242580000006, 0.25, 0.11935878709975001, 0.1, 0.025, 0.05, 0.375, 0.11935878709975001, 0.05, 0.0, 0.42500000000000004, 0.055641212900249995, 0.35000000000000003, 0.05, 0.08871757419950001, 0.1612824258005, 0.0, 0.35000000000000003, 0.0, 0.025, 0.2, 0.019358787099800004, 0.46371757420000004, 0.15000000000000002, 0.0, 0.0, 0.15000000000000002, 0.225, 0.05, 0.05, 0.25, 0.1612824258005, 0.3637175742, 0.0, 0.5, 0.55, 0.1387175741995, 0.0, 0.0, 0.1, 0.0, 0.25, 0.4112824258, 0.33628242580000006, 0.11128242580049999, 0.7250000000000001, 0.4112824258, 0.025, 0.2, 0.0, 0.1887175741995, 0.0, 0.036282425800500014, 0.07500000000000001, 0.0, 0.05, 0.25, 0.044358787099750004, 0.36128242580000003, 0.0, 0.044358787099750004, 0.15000000000000002, 0.1, 0.0, 0.05, 0.0, 0.0, 0.6000000000000001, 0.07500000000000001, 0.06128242580050001, 0.11371757419950002, 0.2, 0.030641212900250004, 0.030641212900250004, 0.11666666666675002, 0.05, 0.25, 0.4112824258, 0.1, 0.25, 0.025, 0.0, 0.2862824258, 0.25, 0.1, 0.0, 0.13333333333325, 0.019358787099800004, 0.025, 0.037500000000000006, 0.18628242580050003, 0.4, 0.0, 0.0, 0.1375, 0.1612824258005, 0.05376080860025, 0.2, 0.06128242580050001, 0.0, ...], [0.9], [0.0, 0.0, 0.0, 0.0, 0.0, 0.0, 0.0, 0.0, 0.0, 0.0, 0.0, 0.0, 0.0, 0.0, 0.0, 0.0, 0.0, 0.0, 0.0, 0.0, 0.0, 0.0, 0.0, 0.0, 0.0, 0.0, 0.0, 0.0, 0.0, 0.0, 0.0, 0.0, 0.0, 0.0, 0.0, 0.0, 0.0, 0.0, 0.0, 0.0, 0.0, 0.0, 0.0, 0.0, 0.0, 0.0, 0.0, 0.0, 0.0, 0.0, 0.0, 0.0, 0.0, 0.0, 0.0, 0.0, 0.0, 0.0, 0.0, 0.0, 0.0, 0.0, 0.0, 0.0, 0.0, 0.0, 0.0, 0.0, 0.0, 0.0, 0.0, 0.0, 0.0, 0.0, 0.0, 0.0, 0.0, 0.0, 0.0, 0.0, 0.0, 0.0, 0.0, 0.0, 0.0, 0.0, 0.0, 0.0, 0.0, 0.0, 0.0, 0.0, 0.0, 0.0, 0.0, 0.0, 0.0, 0.0, 0.0, 0.0, ...]]                                                                                                                                                                                                                                                                                                                                                                                                                                                                                                                                                                                                                                                                                                                                                                                                                                                                                                                                                                                                                                                                                                                                                                                                                                                                                                                                                                                                                                                                                                                                                                                                                                                                                                                                                                                                                                                                                                                                                                                                                                                                                                                                                                                                                                                                                                                                                                                                                                                                                                                                                                                                                       \n",
       "3  [[0.07284735447234042, 0.0425531914893617, 0.01160098220070922, 0.09219858156028368, 0.028368794326241134, 0.07801418439716312, 0.035460992907801414, 0.05932100361489362, 0.2836879432624113, 0.05673758865248227, 0.04964539007092199, 0.016767812125531915, 0.028368794326241134, 0.0, 0.03353562425106383, 0.02320196440141844, 0.00945626477539007, 0.0, 0.0, 0.1631205673758865, 0.07092198581560283, 0.04706197510851064, 0.2501523190113475, 0.0035460992907801418, 0.0, 0.05673758865248227, 0.07092198581560283, 0.10638297872340426, 0.15602836879432624, 0.03900709219858156, 0.0425531914893617, 0.11864200722978724, 0.05866295730921985, 0.0425531914893617, 0.3404255319148936, 0.1276595744680851, 0.06190441857730497, 0.0, 0.017730496453900707, 0.0070921985815602835, 0.06382978723404255, 0.11347517730496454, 0.037386361564539006, 0.19665619162695036, 0.1328264043929078, 0.0425531914893617, 0.09412395021702127, 0.05673758865248227, 0.014184397163120567, 0.15602836879432624, 0.22178352468510637, 0.0, 0.11864200722978724, 0.07092198581560283, 0.0, 0.11347517730496454, 0.028368794326241134, 0.0238600107070922, 0.019351227087943262, 0.0, 0.07543076943475177, 0.04964539007092199, 0.07801418439716312, 0.0, 0.11347517730496454, 0.0, 0.0, 0.2127659574468085, 0.06382978723404255, 0.0799395530539007, 0.026443425669503546, 0.07092198581560283, 0.018693180782269503, 0.030952209288652485, 0.00945626477539007, 0.02127659574468085, 0.15602836879432624, 0.2604859788609929, 0.06028368794326241, 0.0, 0.06382978723404255, 0.09929078014184398, 0.019351227087943262, 0.05673758865248227, 0.0425531914893617, 0.0, 0.014184397163120567, 0.01160098220070922, 0.028368794326241134, 0.0070921985815602835, 0.0477200214141844, 0.1702127659574468, 0.0, 0.0, 0.014184397163120567, 0.02320196440141844, 0.015906673804751772, 0.12056737588652482, 0.13667714170638298, 0.0, ...], [0.652482269503546], [0.0, 0.0, 0.0, 0.0, 0.0, 0.0, 0.0, 0.0, 0.0, 0.0, 0.0, 0.0, 0.0, 0.0, 0.0, 0.0, 0.0, 0.0, 0.0, 0.0, 0.0, 0.0, 0.0, 0.0, 0.0, 0.0, 0.0, 0.0, 0.0, 0.0, 0.0, 0.0, 0.0, 0.0, 0.0, 0.0, 0.0, 0.0, 0.0, 0.0, 0.0, 0.0, 0.0, 0.0, 0.0, 0.0, 0.0, 0.0, 0.0, 0.0, 0.0, 0.0, 0.0, 0.0, 0.0, 0.0, 0.0, 0.0, 0.0, 0.0, 0.0, 0.0, 0.0, 0.0, 0.0, 0.0, 0.0, 0.0, 0.0, 0.0, 0.0, 0.0, 0.0, 0.0, 0.0, 0.0, 0.0, 0.0, 0.0, 0.0, 0.0, 0.0, 0.0, 0.0, 0.0, 0.0, 0.0, 0.0, 0.0, 0.0, 0.0, 0.0, 0.0, 0.0, 0.0, 0.0, 0.0, 0.0, 0.0, 0.0, ...]]                                                                                                                                                                                                                                                                                                                                                                                                                                                                                                                                                                                                                                                                                                                                                                                                                                                                                                                                                                                                                                                                                                                                                                                                                                                                                                                                                                                                                                                                                                                                                                                                                                                                                                                                                                                                                                                                                                              \n",
       "4  [[0.05314817005332741, 0.04126308084780673, 0.06814604044080558, 0.04296127823193188, 0.0, 0.0, 0.0, 0.04056511384584134, 0.07679188802854173, 0.050629728227165376, 0.0, 0.0, 0.015537952454270003, 0.04621889333125077, 0.03550151955334425, 0.05781942725958627, 0.15686274509798592, 0.03972746405240863, 0.02598711341812629, 0.0, 0.0, 0.03959979791563735, 0.03275591819146051, 0.046871710169770014, 0.09474692906324314, 0.11877976491061223, 0.0, 0.028258827901212924, 0.03497578764768386, 0.07060961277513077, 0.07799593569460185, 0.05949238553115014, 0.09337723740762546, 0.0, 0.04561681890518641, 0.058837685781216856, 0.04722634902618359, 0.02981325379795728, 0.07953301268999939, 0.0, 0.03741828099092526, 0.05558304286342362, 0.024066569181955134, 0.0, 0.0, 0.0, 0.0, 0.054702294234768155, 0.0, 0.05324872740748199, 0.048001615846581545, 0.020854818481345752, 0.07465024710803934, 0.0, 0.043654661155966265, 0.020278416237770165, 0.059795885027440564, 0.019914596746034553, 0.03863728741563541, 0.04017259115066125, 0.04911781758257276, 0.0, 0.0785926763714104, 0.05600257127978236, 0.01310275198159437, 0.0, 0.046296117935207194, 0.0, 0.05545935538727986, 0.01098699154619192, 0.0, 0.0, 0.0, 0.0, 0.03921568627449648, 0.011745588022059739, 0.02441420007474215, 0.0, 0.049203744265179, 0.039979111061485384, 0.046855112772869044, 0.0, 0.06309097395989266, 0.0774447751299095, 0.06959555694572998, 0.0, 0.025228780384978788, 0.0, 0.0011673941724918149, 0.0, 0.05314817005332741, 0.017941682064266905, 0.09660427667686765, 0.054714263332443294, 0.05752671319680733, 0.06326211823573077, 0.08505396382659944, 0.0, 0.006948783583792576, 0.07405971271670332, ...], [0.8742491226274228], [0.0, 0.0, 0.0, 0.0, 0.0, 0.0, 0.0, 0.0, 0.0, 0.0, 0.0, 0.0, 0.0, 0.0, 0.0, 0.0, 0.0, 0.0, 0.0, 0.0, 0.0, 0.0, 0.0, 0.0, 0.0, 0.0, 0.0, 0.0, 0.0, 0.0, 0.0, 0.0, 0.0, 0.0, 0.0, 0.0, 0.0, 0.0, 0.0, 0.0, 0.0, 0.0, 0.0, 0.0, 0.0, 0.0, 0.0, 0.0, 0.0, 0.0, 0.0, 0.0, 0.0, 0.0, 0.0, 0.0, 0.0, 0.0, 0.0, 0.0, 0.0, 0.0, 0.0, 0.0, 0.0, 0.0, 0.0, 0.0, 0.0, 0.0, 0.0, 0.0, 0.0, 0.0, 0.0, 0.0, 0.0, 0.0, 0.0, 0.0, 0.0, 0.0, 0.0, 0.0, 0.0, 0.0, 0.0, 0.0, 0.0, 0.0, 0.0, 0.0, 0.0, 0.0, 0.0, 0.0, 0.0, 0.0, 0.0, 0.0, ...]]                                                                                                                                                                                                                                                                                                                                                                                                                                                                                                                                                                                                                                                                                                                                                                                                                                                                                                                                                                                                                                                                                                                                                                                                                                                                                                                                                                                                                                                                                                                                                                                                                                                                                                                                                                                                                                                                                                                                                                                                                                                                                                                "
      ]
     },
     "execution_count": 39,
     "metadata": {},
     "output_type": "execute_result"
    }
   ],
   "source": [
    "schema_df = pd.io.json.json_normalize(baseline_job.baseline_statistics().body_dict['features'])\n",
    "schema_df.head(10)"
   ]
  },
  {
   "cell_type": "code",
   "execution_count": 40,
   "metadata": {},
   "outputs": [
    {
     "data": {
      "text/html": [
       "<div>\n",
       "<style scoped>\n",
       "    .dataframe tbody tr th:only-of-type {\n",
       "        vertical-align: middle;\n",
       "    }\n",
       "\n",
       "    .dataframe tbody tr th {\n",
       "        vertical-align: top;\n",
       "    }\n",
       "\n",
       "    .dataframe thead th {\n",
       "        text-align: right;\n",
       "    }\n",
       "</style>\n",
       "<table border=\"1\" class=\"dataframe\">\n",
       "  <thead>\n",
       "    <tr style=\"text-align: right;\">\n",
       "      <th></th>\n",
       "      <th>name</th>\n",
       "      <th>inferred_type</th>\n",
       "      <th>completeness</th>\n",
       "      <th>num_constraints.is_non_negative</th>\n",
       "    </tr>\n",
       "  </thead>\n",
       "  <tbody>\n",
       "    <tr>\n",
       "      <th>0</th>\n",
       "      <td>class</td>\n",
       "      <td>Integral</td>\n",
       "      <td>1.0</td>\n",
       "      <td>True</td>\n",
       "    </tr>\n",
       "    <tr>\n",
       "      <th>1</th>\n",
       "      <td>bmi</td>\n",
       "      <td>Fractional</td>\n",
       "      <td>1.0</td>\n",
       "      <td>True</td>\n",
       "    </tr>\n",
       "    <tr>\n",
       "      <th>2</th>\n",
       "      <td>diastolic_bp_change</td>\n",
       "      <td>Fractional</td>\n",
       "      <td>1.0</td>\n",
       "      <td>True</td>\n",
       "    </tr>\n",
       "    <tr>\n",
       "      <th>3</th>\n",
       "      <td>systolic_bp_change</td>\n",
       "      <td>Fractional</td>\n",
       "      <td>1.0</td>\n",
       "      <td>True</td>\n",
       "    </tr>\n",
       "    <tr>\n",
       "      <th>4</th>\n",
       "      <td>respiratory_rate</td>\n",
       "      <td>Fractional</td>\n",
       "      <td>1.0</td>\n",
       "      <td>True</td>\n",
       "    </tr>\n",
       "  </tbody>\n",
       "</table>\n",
       "</div>"
      ],
      "text/plain": [
       "                  name inferred_type  completeness  \\\n",
       "0  class                Integral      1.0            \n",
       "1  bmi                  Fractional    1.0            \n",
       "2  diastolic_bp_change  Fractional    1.0            \n",
       "3  systolic_bp_change   Fractional    1.0            \n",
       "4  respiratory_rate     Fractional    1.0            \n",
       "\n",
       "   num_constraints.is_non_negative  \n",
       "0  True                             \n",
       "1  True                             \n",
       "2  True                             \n",
       "3  True                             \n",
       "4  True                             "
      ]
     },
     "execution_count": 40,
     "metadata": {},
     "output_type": "execute_result"
    }
   ],
   "source": [
    "constraints_df = pd.io.json.json_normalize(baseline_job.suggested_constraints().body_dict['features'])\n",
    "constraints_df.head(10)"
   ]
  },
  {
   "cell_type": "markdown",
   "metadata": {},
   "source": [
    "## Monitoring Schedules\n",
    "\n",
    "<p><b>Analyzing collected data for data quality issues</b></p>\n",
    "\n",
    "When you have collected the data above, analyze and monitor the data with Monitoring Schedules"
   ]
  },
  {
   "cell_type": "markdown",
   "metadata": {},
   "source": [
    "### Create a Schedule"
   ]
  },
  {
   "cell_type": "code",
   "execution_count": 41,
   "metadata": {},
   "outputs": [],
   "source": [
    "from sagemaker.model_monitor import CronExpressionGenerator\n",
    "from time import gmtime, strftime"
   ]
  },
  {
   "cell_type": "code",
   "execution_count": 42,
   "metadata": {},
   "outputs": [
    {
     "name": "stderr",
     "output_type": "stream",
     "text": [
      "The endpoint attribute has been renamed in sagemaker>=2.\n",
      "See: https://sagemaker.readthedocs.io/en/stable/v2.html for details.\n"
     ]
    },
    {
     "name": "stdout",
     "output_type": "stream",
     "text": [
      "\n",
      "Creating Monitoring Schedule with name: clf-xgb-model-monitor-schedule-2020-11-09-02-42-48\n"
     ]
    }
   ],
   "source": [
    "mon_schedule_name = 'clf-xgb-model-monitor-schedule-' + strftime('%Y-%m-%d-%H-%M-%S', gmtime())\n",
    "\n",
    "default_model_monitor.create_monitoring_schedule(\n",
    "    monitor_schedule_name=mon_schedule_name,\n",
    "    endpoint_input=predictor.endpoint,\n",
    "    output_s3_uri=s3_report_path,\n",
    "    statistics=default_model_monitor.baseline_statistics(),\n",
    "    constraints=default_model_monitor.suggested_constraints(),\n",
    "    schedule_cron_expression=CronExpressionGenerator.hourly(),\n",
    "    enable_cloudwatch_metrics=True,\n",
    ")"
   ]
  },
  {
   "cell_type": "markdown",
   "metadata": {},
   "source": [
    "### Test Model Monitoring using Artificial Traffic\n",
    "The cell below starts a thread to send some traffic to the endpoint. Note that you need to stop the kernel to terminate this thread. If there is no traffic, the monitoring jobs are marked as `Failed` since there is no data to process."
   ]
  },
  {
   "cell_type": "code",
   "execution_count": 43,
   "metadata": {},
   "outputs": [],
   "source": [
    "from threading import Thread\n",
    "from time import sleep\n",
    "import time"
   ]
  },
  {
   "cell_type": "code",
   "execution_count": 44,
   "metadata": {},
   "outputs": [
    {
     "name": "stderr",
     "output_type": "stream",
     "text": [
      "The endpoint attribute has been renamed in sagemaker>=2.\n",
      "See: https://sagemaker.readthedocs.io/en/stable/v2.html for details.\n"
     ]
    }
   ],
   "source": [
    "endpoint_name = predictor.endpoint\n",
    "#endpoint_name = 'classifier-xgboost-model-monitor-2020-11-08-03-43-50'\n",
    "runtime_client = boto3.client('runtime.sagemaker')"
   ]
  },
  {
   "cell_type": "code",
   "execution_count": 45,
   "metadata": {},
   "outputs": [],
   "source": [
    "def invoke_endpoint(endpoint_name, file_name, runtime_client):\n",
    "    with open(file_name, 'r') as f:\n",
    "        for row in f:\n",
    "            payload = row.rstrip('\\n')\n",
    "            runtime_client.invoke_endpoint(EndpointName=endpoint_name, \n",
    "                                           ContentType='text/csv', \n",
    "                                           Body=payload)\n",
    "            #prediction = response['Body'].read()"
   ]
  },
  {
   "cell_type": "code",
   "execution_count": 46,
   "metadata": {},
   "outputs": [],
   "source": [
    "def invoke_endpoint_forever():\n",
    "    while True:\n",
    "        invoke_endpoint(endpoint_name, '.././DATA/test/model_monitor_test.csv', runtime_client)"
   ]
  },
  {
   "cell_type": "code",
   "execution_count": 47,
   "metadata": {},
   "outputs": [],
   "source": [
    "thread = Thread(target=invoke_endpoint_forever)\n",
    "thread.start()\n",
    "# NOTE: You need to stop the kernel to stop the invocations"
   ]
  },
  {
   "cell_type": "markdown",
   "metadata": {},
   "source": [
    "### Describe and Inspect the Schedule\n",
    "Once you describe, observe that the MonitoringScheduleStatus changes to Scheduled."
   ]
  },
  {
   "cell_type": "code",
   "execution_count": 48,
   "metadata": {},
   "outputs": [
    {
     "name": "stdout",
     "output_type": "stream",
     "text": [
      "Schedule status: Scheduled\n"
     ]
    }
   ],
   "source": [
    "desc_schedule_result = default_model_monitor.describe_schedule()\n",
    "print('Schedule status: {}'.format(desc_schedule_result['MonitoringScheduleStatus']))"
   ]
  },
  {
   "cell_type": "markdown",
   "metadata": {},
   "source": [
    "### List executions\n",
    "The schedule starts jobs at the previously specified intervals. Here, you list the latest five executions. Note that if you are kicking this off after creating the hourly schedule, you might find the executions empty. You might have to wait until you cross the hour boundary (in UTC) to see executions kick off. The code below has the logic for waiting.\n",
    "\n",
    "Note: Even for an hourly schedule, Amazon SageMaker has a buffer period of 20 minutes to schedule your execution. You might see your execution start in anywhere from zero to ~20 minutes from the hour boundary. This is expected and done for load balancing in the backend."
   ]
  },
  {
   "cell_type": "code",
   "execution_count": 51,
   "metadata": {},
   "outputs": [
    {
     "name": "stdout",
     "output_type": "stream",
     "text": [
      "We created a hourly schedule above and it will kick off executions ON the hour (plus 0 - 20 min buffer).\n",
      "We will have to wait till we hit the hour ...\n"
     ]
    }
   ],
   "source": [
    "mon_executions = default_model_monitor.list_executions()\n",
    "\n",
    "print(\"We created a hourly schedule above and it will kick off executions ON the hour (plus 0 - 20 min buffer).\")\n",
    "print(\"We will have to wait till we hit the hour ...\") \n",
    "\n"
   ]
  },
  {
   "cell_type": "code",
   "execution_count": 52,
   "metadata": {},
   "outputs": [
    {
     "data": {
      "text/plain": [
       "[<sagemaker.model_monitor.model_monitoring.MonitoringExecution at 0x7f83102eabd0>]"
      ]
     },
     "execution_count": 52,
     "metadata": {},
     "output_type": "execute_result"
    }
   ],
   "source": [
    "# Wait till you see an execution object in this list before you proceed to the next step\n",
    "# takes between (60 to 80 mins)\n",
    "mon_executions"
   ]
  },
  {
   "cell_type": "markdown",
   "metadata": {},
   "source": [
    "### Inspect a specific execution (latest execution)\n",
    "In the previous cell, you picked up the latest completed or failed scheduled execution. Here are the possible terminal states and what each of them mean: \n",
    "* Completed - This means the monitoring execution completed and no issues were found in the violations report.\n",
    "* CompletedWithViolations - This means the execution completed, but constraint violations were detected.\n",
    "* Failed - The monitoring execution failed, maybe due to client error (perhaps incorrect role premissions) or infrastructure issues. Further examination of FailureReason and ExitMessage is necessary to identify what exactly happened.\n",
    "* Stopped - Job exceeded max runtime or was manually stopped."
   ]
  },
  {
   "cell_type": "code",
   "execution_count": 53,
   "metadata": {},
   "outputs": [
    {
     "data": {
      "text/plain": [
       "{'ProcessingInputs': [{'InputName': 'input_1',\n",
       "   'S3Input': {'S3Uri': 's3://sagemaker-us-east-1-892313895307/sklearn-classifier/model-monitor/datacapture/classifier-xgboost-model-monitor-2020-11-09-02-24-59/AllTraffic/2020/11/09/02',\n",
       "    'LocalPath': '/opt/ml/processing/input/endpoint/classifier-xgboost-model-monitor-2020-11-09-02-24-59/AllTraffic/2020/11/09/02',\n",
       "    'S3DataType': 'S3Prefix',\n",
       "    'S3InputMode': 'File',\n",
       "    'S3DataDistributionType': 'FullyReplicated',\n",
       "    'S3CompressionType': 'None'}},\n",
       "  {'InputName': 'baseline',\n",
       "   'S3Input': {'S3Uri': 's3://sagemaker-us-east-1-892313895307/sklearn-classifier/model-monitor/baselining/results/statistics.json',\n",
       "    'LocalPath': '/opt/ml/processing/baseline/stats',\n",
       "    'S3DataType': 'S3Prefix',\n",
       "    'S3InputMode': 'File',\n",
       "    'S3DataDistributionType': 'FullyReplicated'}},\n",
       "  {'InputName': 'constraints',\n",
       "   'S3Input': {'S3Uri': 's3://sagemaker-us-east-1-892313895307/sklearn-classifier/model-monitor/baselining/results/constraints.json',\n",
       "    'LocalPath': '/opt/ml/processing/baseline/constraints',\n",
       "    'S3DataType': 'S3Prefix',\n",
       "    'S3InputMode': 'File',\n",
       "    'S3DataDistributionType': 'FullyReplicated'}}],\n",
       " 'ProcessingOutputConfig': {'Outputs': [{'OutputName': 'result',\n",
       "    'S3Output': {'S3Uri': 's3://sagemaker-us-east-1-892313895307/sklearn-classifier/model-monitor/reports/classifier-xgboost-model-monitor-2020-11-09-02-24-59/clf-xgb-model-monitor-schedule-2020-11-09-02-42-48/2020/11/09/03',\n",
       "     'LocalPath': '/opt/ml/processing/output',\n",
       "     'S3UploadMode': 'Continuous'}}]},\n",
       " 'ProcessingJobName': 'model-monitoring-202011090300-905d6d616c81f943ffe9aa1b',\n",
       " 'ProcessingResources': {'ClusterConfig': {'InstanceCount': 1,\n",
       "   'InstanceType': 'ml.r5.xlarge',\n",
       "   'VolumeSizeInGB': 20}},\n",
       " 'StoppingCondition': {'MaxRuntimeInSeconds': 3600},\n",
       " 'AppSpecification': {'ImageUri': '156813124566.dkr.ecr.us-east-1.amazonaws.com/sagemaker-model-monitor-analyzer'},\n",
       " 'Environment': {'baseline_constraints': '/opt/ml/processing/baseline/constraints/constraints.json',\n",
       "  'baseline_statistics': '/opt/ml/processing/baseline/stats/statistics.json',\n",
       "  'dataset_format': '{\"sagemakerCaptureJson\":{\"captureIndexNames\":[\"endpointInput\",\"endpointOutput\"]}}',\n",
       "  'dataset_source': '/opt/ml/processing/input/endpoint',\n",
       "  'end_time': '2020-11-09T03:00:00Z',\n",
       "  'output_path': '/opt/ml/processing/output',\n",
       "  'publish_cloudwatch_metrics': 'Enabled',\n",
       "  'sagemaker_endpoint_name': 'classifier-xgboost-model-monitor-2020-11-09-02-24-59',\n",
       "  'sagemaker_monitoring_schedule_name': 'clf-xgb-model-monitor-schedule-2020-11-09-02-42-48',\n",
       "  'start_time': '2020-11-09T02:00:00Z'},\n",
       " 'RoleArn': 'arn:aws:iam::892313895307:role/service-role/AmazonSageMaker-ExecutionRole-20200826T084395',\n",
       " 'ProcessingJobArn': 'arn:aws:sagemaker:us-east-1:892313895307:processing-job/model-monitoring-202011090300-905d6d616c81f943ffe9aa1b',\n",
       " 'ProcessingJobStatus': 'InProgress',\n",
       " 'LastModifiedTime': datetime.datetime(2020, 11, 9, 3, 4, 13, 580000, tzinfo=tzlocal()),\n",
       " 'CreationTime': datetime.datetime(2020, 11, 9, 3, 4, 13, 245000, tzinfo=tzlocal()),\n",
       " 'MonitoringScheduleArn': 'arn:aws:sagemaker:us-east-1:892313895307:monitoring-schedule/clf-xgb-model-monitor-schedule-2020-11-09-02-42-48',\n",
       " 'ResponseMetadata': {'RequestId': '4449aa08-62a7-4390-81c9-f02c16662604',\n",
       "  'HTTPStatusCode': 200,\n",
       "  'HTTPHeaders': {'x-amzn-requestid': '4449aa08-62a7-4390-81c9-f02c16662604',\n",
       "   'content-type': 'application/x-amz-json-1.1',\n",
       "   'content-length': '2887',\n",
       "   'date': 'Mon, 09 Nov 2020 03:06:37 GMT'},\n",
       "  'RetryAttempts': 0}}"
      ]
     },
     "execution_count": 53,
     "metadata": {},
     "output_type": "execute_result"
    }
   ],
   "source": [
    "latest_execution = mon_executions[-1] # latest execution's index is -1, second to last is -2 and so on ...\n",
    "latest_execution.describe()"
   ]
  },
  {
   "cell_type": "code",
   "execution_count": 56,
   "metadata": {},
   "outputs": [
    {
     "name": "stdout",
     "output_type": "stream",
     "text": [
      "Latest Execution Status: Completed\n",
      "Latest Execution Result: CompletedWithViolations: Job completed successfully with 5 violations.\n"
     ]
    }
   ],
   "source": [
    "print(\"Latest Execution Status: {}\".format(latest_execution.describe()['ProcessingJobStatus']))\n",
    "print(\"Latest Execution Result: {}\".format(latest_execution.describe()['ExitMessage']))"
   ]
  },
  {
   "cell_type": "code",
   "execution_count": 57,
   "metadata": {},
   "outputs": [
    {
     "name": "stdout",
     "output_type": "stream",
     "text": [
      "Report URI: s3://sagemaker-us-east-1-892313895307/sklearn-classifier/model-monitor/reports/classifier-xgboost-model-monitor-2020-11-09-02-24-59/clf-xgb-model-monitor-schedule-2020-11-09-02-42-48/2020/11/09/03\n"
     ]
    }
   ],
   "source": [
    "report_uri = latest_execution.output.destination\n",
    "print('Report URI: {}'.format(report_uri))"
   ]
  },
  {
   "cell_type": "markdown",
   "metadata": {},
   "source": [
    "### List the Generated Reports"
   ]
  },
  {
   "cell_type": "code",
   "execution_count": 58,
   "metadata": {},
   "outputs": [],
   "source": [
    "from urllib.parse import urlparse"
   ]
  },
  {
   "cell_type": "code",
   "execution_count": 59,
   "metadata": {},
   "outputs": [
    {
     "name": "stdout",
     "output_type": "stream",
     "text": [
      "Report Bucket: sagemaker-us-east-1-892313895307\n",
      "Report Key: sklearn-classifier/model-monitor/reports/classifier-xgboost-model-monitor-2020-11-09-02-24-59/clf-xgb-model-monitor-schedule-2020-11-09-02-42-48/2020/11/09/03\n"
     ]
    }
   ],
   "source": [
    "s3uri = urlparse(report_uri)\n",
    "report_bucket = s3uri.netloc\n",
    "report_key = s3uri.path.lstrip('/')\n",
    "print('Report Bucket: {}'.format(report_bucket))\n",
    "print('Report Key: {}'.format(report_key))"
   ]
  },
  {
   "cell_type": "code",
   "execution_count": 60,
   "metadata": {},
   "outputs": [
    {
     "name": "stdout",
     "output_type": "stream",
     "text": [
      "Found Report Files:\n",
      "sklearn-classifier/model-monitor/reports/classifier-xgboost-model-monitor-2020-11-09-02-24-59/clf-xgb-model-monitor-schedule-2020-11-09-02-42-48/2020/11/09/03/constraint_violations.json\n",
      " sklearn-classifier/model-monitor/reports/classifier-xgboost-model-monitor-2020-11-09-02-24-59/clf-xgb-model-monitor-schedule-2020-11-09-02-42-48/2020/11/09/03/constraints.json\n",
      " sklearn-classifier/model-monitor/reports/classifier-xgboost-model-monitor-2020-11-09-02-24-59/clf-xgb-model-monitor-schedule-2020-11-09-02-42-48/2020/11/09/03/statistics.json\n"
     ]
    }
   ],
   "source": [
    "s3_client = boto3.Session().client('s3')\n",
    "result = s3_client.list_objects(Bucket=report_bucket, Prefix=report_key)\n",
    "report_files = [report_file.get(\"Key\") for report_file in result.get('Contents')]\n",
    "print(\"Found Report Files:\")\n",
    "print(\"\\n \".join(report_files))"
   ]
  },
  {
   "cell_type": "markdown",
   "metadata": {},
   "source": [
    "### Violations Report\n",
    "\n",
    "If there are any violations compared to the baseline, they will be listed here."
   ]
  },
  {
   "cell_type": "code",
   "execution_count": 61,
   "metadata": {},
   "outputs": [
    {
     "data": {
      "text/plain": [
       "{'body_dict': {'violations': [{'feature_name': 'bmi',\n",
       "    'constraint_check_type': 'data_type_check',\n",
       "    'description': 'Data type match requirement is not met. Expected data type: Fractional, Expected match: 100.0%. Observed: Only 81.21525407197893% of data is Fractional.'},\n",
       "   {'feature_name': 'class',\n",
       "    'constraint_check_type': 'data_type_check',\n",
       "    'description': 'Data type match requirement is not met. Expected data type: Integral, Expected match: 100.0%. Observed: Only 0.0% of data is Integral.'},\n",
       "   {'feature_name': 'diastolic_bp_change',\n",
       "    'constraint_check_type': 'data_type_check',\n",
       "    'description': 'Data type match requirement is not met. Expected data type: Fractional, Expected match: 100.0%. Observed: Only 90.61006534672778% of data is Fractional.'},\n",
       "   {'feature_name': 'respiratory_rate',\n",
       "    'constraint_check_type': 'data_type_check',\n",
       "    'description': 'Data type match requirement is not met. Expected data type: Fractional, Expected match: 100.0%. Observed: Only 81.21769238271726% of data is Fractional.'},\n",
       "   {'feature_name': 'systolic_bp_change',\n",
       "    'constraint_check_type': 'data_type_check',\n",
       "    'description': 'Data type match requirement is not met. Expected data type: Fractional, Expected match: 100.0%. Observed: Only 85.91387886472252% of data is Fractional.'}]},\n",
       " 'file_s3_uri': 's3://sagemaker-us-east-1-892313895307/sklearn-classifier/model-monitor/reports/classifier-xgboost-model-monitor-2020-11-09-02-24-59/clf-xgb-model-monitor-schedule-2020-11-09-02-42-48/2020/11/09/03/constraint_violations.json',\n",
       " 'kms_key': None,\n",
       " 'session': None}"
      ]
     },
     "execution_count": 61,
     "metadata": {},
     "output_type": "execute_result"
    }
   ],
   "source": [
    "violations = default_model_monitor.latest_monitoring_constraint_violations()\n",
    "violations.__dict__"
   ]
  },
  {
   "cell_type": "code",
   "execution_count": 62,
   "metadata": {},
   "outputs": [],
   "source": [
    "constraints_df = pd.json_normalize(violations.body_dict[\"violations\"])"
   ]
  },
  {
   "cell_type": "code",
   "execution_count": 63,
   "metadata": {},
   "outputs": [
    {
     "data": {
      "text/html": [
       "<div>\n",
       "<style scoped>\n",
       "    .dataframe tbody tr th:only-of-type {\n",
       "        vertical-align: middle;\n",
       "    }\n",
       "\n",
       "    .dataframe tbody tr th {\n",
       "        vertical-align: top;\n",
       "    }\n",
       "\n",
       "    .dataframe thead th {\n",
       "        text-align: right;\n",
       "    }\n",
       "</style>\n",
       "<table border=\"1\" class=\"dataframe\">\n",
       "  <thead>\n",
       "    <tr style=\"text-align: right;\">\n",
       "      <th></th>\n",
       "      <th>feature_name</th>\n",
       "      <th>constraint_check_type</th>\n",
       "      <th>description</th>\n",
       "    </tr>\n",
       "  </thead>\n",
       "  <tbody>\n",
       "    <tr>\n",
       "      <th>0</th>\n",
       "      <td>bmi</td>\n",
       "      <td>data_type_check</td>\n",
       "      <td>Data type match requirement is not met. Expected data type: Fractional, Expected match: 100.0%. Observed: Only 81.21525407197893% of data is Fractional.</td>\n",
       "    </tr>\n",
       "    <tr>\n",
       "      <th>1</th>\n",
       "      <td>class</td>\n",
       "      <td>data_type_check</td>\n",
       "      <td>Data type match requirement is not met. Expected data type: Integral, Expected match: 100.0%. Observed: Only 0.0% of data is Integral.</td>\n",
       "    </tr>\n",
       "    <tr>\n",
       "      <th>2</th>\n",
       "      <td>diastolic_bp_change</td>\n",
       "      <td>data_type_check</td>\n",
       "      <td>Data type match requirement is not met. Expected data type: Fractional, Expected match: 100.0%. Observed: Only 90.61006534672778% of data is Fractional.</td>\n",
       "    </tr>\n",
       "    <tr>\n",
       "      <th>3</th>\n",
       "      <td>respiratory_rate</td>\n",
       "      <td>data_type_check</td>\n",
       "      <td>Data type match requirement is not met. Expected data type: Fractional, Expected match: 100.0%. Observed: Only 81.21769238271726% of data is Fractional.</td>\n",
       "    </tr>\n",
       "    <tr>\n",
       "      <th>4</th>\n",
       "      <td>systolic_bp_change</td>\n",
       "      <td>data_type_check</td>\n",
       "      <td>Data type match requirement is not met. Expected data type: Fractional, Expected match: 100.0%. Observed: Only 85.91387886472252% of data is Fractional.</td>\n",
       "    </tr>\n",
       "  </tbody>\n",
       "</table>\n",
       "</div>"
      ],
      "text/plain": [
       "          feature_name constraint_check_type  \\\n",
       "0  bmi                  data_type_check        \n",
       "1  class                data_type_check        \n",
       "2  diastolic_bp_change  data_type_check        \n",
       "3  respiratory_rate     data_type_check        \n",
       "4  systolic_bp_change   data_type_check        \n",
       "\n",
       "                                                                                                                                                description  \n",
       "0  Data type match requirement is not met. Expected data type: Fractional, Expected match: 100.0%. Observed: Only 81.21525407197893% of data is Fractional.  \n",
       "1  Data type match requirement is not met. Expected data type: Integral, Expected match: 100.0%. Observed: Only 0.0% of data is Integral.                    \n",
       "2  Data type match requirement is not met. Expected data type: Fractional, Expected match: 100.0%. Observed: Only 90.61006534672778% of data is Fractional.  \n",
       "3  Data type match requirement is not met. Expected data type: Fractional, Expected match: 100.0%. Observed: Only 81.21769238271726% of data is Fractional.  \n",
       "4  Data type match requirement is not met. Expected data type: Fractional, Expected match: 100.0%. Observed: Only 85.91387886472252% of data is Fractional.  "
      ]
     },
     "execution_count": 63,
     "metadata": {},
     "output_type": "execute_result"
    }
   ],
   "source": [
    "constraints_df"
   ]
  },
  {
   "cell_type": "markdown",
   "metadata": {},
   "source": [
    "### Shift in Statistics "
   ]
  },
  {
   "cell_type": "code",
   "execution_count": 64,
   "metadata": {},
   "outputs": [],
   "source": [
    "statistics_shift = default_model_monitor.latest_monitoring_statistics()"
   ]
  },
  {
   "cell_type": "code",
   "execution_count": 65,
   "metadata": {},
   "outputs": [
    {
     "data": {
      "text/html": [
       "<div>\n",
       "<style scoped>\n",
       "    .dataframe tbody tr th:only-of-type {\n",
       "        vertical-align: middle;\n",
       "    }\n",
       "\n",
       "    .dataframe tbody tr th {\n",
       "        vertical-align: top;\n",
       "    }\n",
       "\n",
       "    .dataframe thead th {\n",
       "        text-align: right;\n",
       "    }\n",
       "</style>\n",
       "<table border=\"1\" class=\"dataframe\">\n",
       "  <thead>\n",
       "    <tr style=\"text-align: right;\">\n",
       "      <th></th>\n",
       "      <th>name</th>\n",
       "      <th>inferred_type</th>\n",
       "      <th>numerical_statistics.common.num_present</th>\n",
       "      <th>numerical_statistics.common.num_missing</th>\n",
       "      <th>numerical_statistics.mean</th>\n",
       "      <th>numerical_statistics.sum</th>\n",
       "      <th>numerical_statistics.std_dev</th>\n",
       "      <th>numerical_statistics.min</th>\n",
       "      <th>numerical_statistics.max</th>\n",
       "      <th>numerical_statistics.distribution.kll.buckets</th>\n",
       "      <th>numerical_statistics.distribution.kll.sketch.parameters.c</th>\n",
       "      <th>numerical_statistics.distribution.kll.sketch.parameters.k</th>\n",
       "      <th>numerical_statistics.distribution.kll.sketch.data</th>\n",
       "    </tr>\n",
       "  </thead>\n",
       "  <tbody>\n",
       "    <tr>\n",
       "      <th>0</th>\n",
       "      <td>class</td>\n",
       "      <td>Fractional</td>\n",
       "      <td>41012</td>\n",
       "      <td>0</td>\n",
       "      <td>0.160695</td>\n",
       "      <td>6.590418e+03</td>\n",
       "      <td>0.215210</td>\n",
       "      <td>0.001820</td>\n",
       "      <td>0.895814</td>\n",
       "      <td>[{'lower_bound': 0.0018202506471425295, 'upper_bound': 0.09121961381752045, 'count': 23909.0}, {'lower_bound': 0.09121961381752045, 'upper_bound': 0.18061897698789836, 'count': 4660.0}, {'lower_bound': 0.18061897698789836, 'upper_bound': 0.27001834015827625, 'count': 6259.0}, {'lower_bound': 0.27001834015827625, 'upper_bound': 0.3594177033286542, 'count': 192.0}, {'lower_bound': 0.3594177033286542, 'upper_bound': 0.4488170664990321, 'count': 96.0}, {'lower_bound': 0.4488170664990321, 'upper_bound': 0.53821642966941, 'count': 64.0}, {'lower_bound': 0.53821642966941, 'upper_bound': 0.6276157928397879, 'count': 1953.0}, {'lower_bound': 0.6276157928397879, 'upper_bound': 0.7170151560101659, 'count': 3863.0}, {'lower_bound': 0.7170151560101659, 'upper_bound': 0.8064145191805437, 'count': 16.0}, {'lower_bound': 0.8064145191805437, 'upper_bound': 0.8958138823509216, 'count': 0.0}]</td>\n",
       "      <td>0.64</td>\n",
       "      <td>2048.0</td>\n",
       "      <td>[[0.008779415860772133, 0.1307021826505661, 0.022546790540218353, 0.0018202506471425295, 0.04551959037780762, 0.002014509867876768, 0.027867484837770462, 0.07810166478157043, 0.708495020866394, 0.04681061953306198, 0.12425511330366135, 0.008779415860772133, 0.2534950077533722, 0.6704414486885071, 0.08783318102359772, 0.203704833984375, 0.012699412181973457, 0.004283061716705561, 0.005715691950172186, 0.57121342420578, 0.1937502920627594, 0.1307021826505661, 0.022546790540218353, 0.0018202506471425295, 0.04551959037780762, 0.002014509867876768, 0.027867484837770462, 0.07810166478157043, 0.708495020866394, 0.04681061953306198, 0.12425511330366135, 0.008779415860772133, 0.2534950077533722, 0.6704414486885071, 0.08783318102359772, 0.203704833984375, 0.012699412181973457, 0.004283061716705561, 0.005715691950172186, 0.57121342420578, 0.1937502920627594, 0.1307021826505661, 0.022546790540218353, 0.0018202506471425295, 0.04551959037780762, 0.002014509867876768, 0.027867484837770462, 0.07810166478157043, 0.708495020866394, 0.04681061953306198, 0.12425511330366135, 0.008779415860772133, 0.2534950077533722, 0.6704414486885071, 0.08783318102359772, 0.203704833984375, 0.012699412181973457, 0.004283061716705561, 0.005715691950172186, 0.57121342420578, 0.1937502920627594, 0.1307021826505661, 0.022546790540218353, 0.0018202506471425295, 0.04551959037780762, 0.002014509867876768, 0.027867484837770462, 0.07810166478157043, 0.708495020866394, 0.04681061953306198, 0.12425511330366135, 0.008779415860772133, 0.2534950077533722, 0.6704414486885071, 0.08783318102359772, 0.203704833984375, 0.012699412181973457, 0.004283061716705561, 0.005715691950172186, 0.57121342420578, 0.1937502920627594, 0.1307021826505661, 0.022546790540218353, 0.0018202506471425295, 0.04551959037780762, 0.002014509867876768, 0.027867484837770462, 0.07810166478157043, 0.708495020866394, 0.04681061953306198, 0.12425511330366135, 0.008779415860772133, 0.2534950077533722, 0.6704414486885071, 0.08783318102359772, 0.203704833984375, 0.012699412181973457, 0.004283061716705561, 0.005715691950172186, 0.57121342420578, ...], [], [0.708495020866394], [], [0.0018202506471425295, 0.0018202506471425295, 0.0018202506471425295, 0.0018202506471425295, 0.0018202506471425295, 0.0018202506471425295, 0.0018202506471425295, 0.0018202506471425295, 0.0018202506471425295, 0.0018202506471425295, 0.0018202506471425295, 0.0018202506471425295, 0.0018202506471425295, 0.0018202506471425295, 0.0018202506471425295, 0.0018202506471425295, 0.0018202506471425295, 0.0018202506471425295, 0.0018202506471425295, 0.0018202506471425295, 0.0018202506471425295, 0.0018202506471425295, 0.0018202506471425295, 0.0018202506471425295, 0.0018202506471425295, 0.0018202506471425295, 0.0018202506471425295, 0.0018202506471425295, 0.0018202506471425295, 0.0018202506471425295, 0.0018202506471425295, 0.0018202506471425295, 0.0018202506471425295, 0.0018202506471425295, 0.0018202506471425295, 0.0018202506471425295, 0.0018202506471425295, 0.0018202506471425295, 0.0018202506471425295, 0.0018202506471425295, 0.0018202506471425295, 0.0018202506471425295, 0.0018202506471425295, 0.0018202506471425295, 0.0018202506471425295, 0.0018202506471425295, 0.0018202506471425295, 0.0018202506471425295, 0.0018202506471425295, 0.0018202506471425295, 0.0018202506471425295, 0.0018202506471425295, 0.0018202506471425295, 0.0018202506471425295, 0.0018202506471425295, 0.0018202506471425295, 0.0018202506471425295, 0.0018202506471425295, 0.0018202506471425295, 0.0018202506471425295, 0.0018202506471425295, 0.0018202506471425295, 0.0018202506471425295, 0.0018202506471425295, 0.0018202506471425295, 0.0018202506471425295, 0.0018202506471425295, 0.0018202506471425295, 0.0018202506471425295, 0.0018202506471425295, 0.0018202506471425295, 0.0018202506471425295, 0.0018202506471425295, 0.0018202506471425295, 0.0018202506471425295, 0.0018202506471425295, 0.0018202506471425295, 0.0018202506471425295, 0.0018202506471425295, 0.0018202506471425295, 0.0018202506471425295, 0.0018202506471425295, 0.0018202506471425295, 0.0018202506471425295, 0.0018202506471425295, 0.0018202506471425295, 0.0018202506471425295, 0.0018202506471425295, 0.0018202506471425295, 0.0018202506471425295, 0.0018202506471425295, 0.0018202506471425295, 0.0018202506471425295, 0.0018202506471425295, 0.0018202506471425295, 0.0018202506471425295, 0.0018202506471425295, 0.0018202506471425295, 0.0018202506471425295, 0.0018202506471425295, ...]]</td>\n",
       "    </tr>\n",
       "    <tr>\n",
       "      <th>1</th>\n",
       "      <td>bmi</td>\n",
       "      <td>Fractional</td>\n",
       "      <td>41012</td>\n",
       "      <td>0</td>\n",
       "      <td>0.729386</td>\n",
       "      <td>2.991359e+04</td>\n",
       "      <td>0.680401</td>\n",
       "      <td>-0.297257</td>\n",
       "      <td>3.000000</td>\n",
       "      <td>[{'lower_bound': -0.297257, 'upper_bound': 0.03246870000000002, 'count': 2002.0}, {'lower_bound': 0.03246870000000002, 'upper_bound': 0.3621944, 'count': 9175.0}, {'lower_bound': 0.3621944, 'upper_bound': 0.6919201, 'count': 12424.0}, {'lower_bound': 0.6919201, 'upper_bound': 1.0216458, 'count': 13563.0}, {'lower_bound': 1.0216458, 'upper_bound': 1.3513715000000004, 'count': 0.0}, {'lower_bound': 1.3513715000000004, 'upper_bound': 1.6810972, 'count': 0.0}, {'lower_bound': 1.6810972, 'upper_bound': 2.0108229, 'count': 1937.0}, {'lower_bound': 2.0108229, 'upper_bound': 2.3405486, 'count': 0.0}, {'lower_bound': 2.3405486, 'upper_bound': 2.6702743, 'count': 0.0}, {'lower_bound': 2.6702743, 'upper_bound': 3.0000000000000004, 'count': 1911.0}]</td>\n",
       "      <td>0.64</td>\n",
       "      <td>2048.0</td>\n",
       "      <td>[[3.0, 0.312679, 0.043427, 0.978176, -0.297257, 0.4119, 0.935486, 1.0, 0.150787, 0.671629, 0.851441, 3.0, 2.0, 1.0, 0.573868, 0.500541, 0.837633, 0.568564, 0.864842, 0.302017, 0.421609, 0.312679, 0.043427, 0.978176, -0.297257, 0.4119, 0.935486, 1.0, 0.150787, 0.671629, 0.851441, 3.0, 2.0, 1.0, 0.573868, 0.500541, 0.837633, 0.568564, 0.864842, 0.302017, 0.421609, 0.312679, 0.043427, 0.978176, -0.297257, 0.4119, 0.935486, 1.0, 0.150787, 0.671629, 0.851441, 3.0, 2.0, 1.0, 0.573868, 0.500541, 0.837633, 0.568564, 0.864842, 0.302017, 0.421609, 0.312679, 0.043427, 0.978176, -0.297257, 0.4119, 0.935486, 1.0, 0.150787, 0.671629, 0.851441, 3.0, 2.0, 1.0, 0.573868, 0.500541, 0.837633, 0.568564, 0.864842, 0.302017, 0.421609, 0.312679, 0.043427, 0.978176, -0.297257, 0.4119, 0.935486, 1.0, 0.150787, 0.671629, 0.851441, 3.0, 2.0, 1.0, 0.573868, 0.500541, 0.837633, 0.568564, 0.864842, 0.302017, ...], [], [3.0], [], [-0.297257, -0.297257, -0.297257, -0.297257, -0.297257, -0.297257, -0.297257, -0.297257, -0.297257, -0.297257, -0.297257, -0.297257, -0.297257, -0.297257, -0.297257, -0.297257, -0.297257, -0.297257, -0.297257, -0.297257, -0.297257, -0.297257, -0.297257, -0.297257, -0.297257, -0.297257, -0.297257, -0.297257, -0.297257, -0.297257, -0.297257, -0.297257, -0.297257, -0.297257, -0.297257, -0.297257, -0.297257, -0.297257, -0.297257, -0.297257, -0.297257, -0.297257, -0.297257, -0.297257, -0.297257, -0.297257, -0.297257, -0.297257, -0.297257, -0.297257, -0.297257, -0.297257, -0.297257, -0.297257, -0.297257, -0.297257, -0.297257, -0.297257, -0.297257, -0.297257, -0.297257, -0.297257, -0.297257, -0.297257, -0.297257, -0.297257, -0.297257, -0.297257, -0.297257, -0.297257, -0.297257, -0.297257, -0.297257, -0.297257, -0.297257, -0.297257, -0.297257, -0.297257, -0.297257, -0.297257, -0.297257, -0.297257, -0.297257, -0.297257, -0.297257, -0.297257, -0.297257, -0.297257, -0.297257, -0.297257, -0.297257, -0.297257, -0.297257, -0.297257, -0.297257, -0.297257, -0.297257, -0.297257, -0.297257, -0.297257, ...]]</td>\n",
       "    </tr>\n",
       "    <tr>\n",
       "      <th>2</th>\n",
       "      <td>diastolic_bp_change</td>\n",
       "      <td>Fractional</td>\n",
       "      <td>41012</td>\n",
       "      <td>0</td>\n",
       "      <td>33.260988</td>\n",
       "      <td>1.364100e+06</td>\n",
       "      <td>107.485178</td>\n",
       "      <td>-123.000000</td>\n",
       "      <td>345.343500</td>\n",
       "      <td>[{'lower_bound': -123.0, 'upper_bound': -76.16565, 'count': 1922.0}, {'lower_bound': -76.16565, 'upper_bound': -29.3313, 'count': 0.0}, {'lower_bound': -29.3313, 'upper_bound': 17.50305, 'count': 33322.0}, {'lower_bound': 17.50305, 'upper_bound': 64.3374, 'count': 0.0}, {'lower_bound': 64.3374, 'upper_bound': 111.17175000000003, 'count': 0.0}, {'lower_bound': 111.17175000000003, 'upper_bound': 158.0061, 'count': 1921.0}, {'lower_bound': 158.0061, 'upper_bound': 204.84045000000003, 'count': 0.0}, {'lower_bound': 204.84045000000003, 'upper_bound': 251.6748, 'count': 0.0}, {'lower_bound': 251.6748, 'upper_bound': 298.50915000000003, 'count': 0.0}, {'lower_bound': 298.50915000000003, 'upper_bound': 345.34350000000006, 'count': 3847.0}]</td>\n",
       "      <td>0.64</td>\n",
       "      <td>2048.0</td>\n",
       "      <td>[[0.780622, 0.485125, 0.57272, 0.327216, 0.28387, -123.0, 0.544246, 0.407947, 0.445269, 345.3435, 0.091287, 0.780622, 0.208537, 0.949004, 4.0, -0.467078, 0.20324, 0.280759, 0.213869, 342.34, 134.24, 0.485125, 0.57272, 0.327216, 0.28387, -123.0, 0.544246, 0.407947, 0.445269, 345.3435, 0.091287, 0.780622, 0.208537, 0.949004, 4.0, -0.467078, 0.20324, 0.280759, 0.213869, 342.34, 134.24, 0.485125, 0.57272, 0.327216, 0.28387, -123.0, 0.544246, 0.407947, 0.445269, 345.3435, 0.091287, 0.780622, 0.208537, 0.949004, 4.0, -0.467078, 0.20324, 0.280759, 0.213869, 342.34, 134.24, 0.485125, 0.57272, 0.327216, 0.28387, -123.0, 0.544246, 0.407947, 0.445269, 345.3435, 0.091287, 0.780622, 0.208537, 0.949004, 4.0, -0.467078, 0.20324, 0.280759, 0.213869, 342.34, 134.24, 0.485125, 0.57272, 0.327216, 0.28387, -123.0, 0.544246, 0.407947, 0.445269, 345.3435, 0.091287, 0.780622, 0.208537, 0.949004, 4.0, -0.467078, 0.20324, 0.280759, 0.213869, 342.34, ...], [], [345.3435], [], [-123.0, -123.0, -123.0, -123.0, -123.0, -123.0, -123.0, -123.0, -123.0, -123.0, -123.0, -123.0, -123.0, -123.0, -123.0, -123.0, -123.0, -123.0, -123.0, -123.0, -123.0, -123.0, -123.0, -123.0, -123.0, -123.0, -123.0, -123.0, -123.0, -123.0, -123.0, -123.0, -123.0, -123.0, -123.0, -123.0, -123.0, -123.0, -123.0, -123.0, -123.0, -123.0, -123.0, -123.0, -123.0, -123.0, -123.0, -123.0, -123.0, -123.0, -123.0, -123.0, -123.0, -123.0, -123.0, -123.0, -123.0, -123.0, -123.0, -123.0, -123.0, -123.0, -123.0, -123.0, -123.0, -123.0, -123.0, -123.0, -123.0, -123.0, -123.0, -123.0, -123.0, -123.0, -123.0, -123.0, -123.0, -123.0, -123.0, -123.0, -123.0, -123.0, -123.0, -123.0, -123.0, -123.0, -123.0, -123.0, -123.0, -123.0, -123.0, -123.0, -123.0, -123.0, -123.0, -123.0, -123.0, -123.0, -123.0, -123.0, ...]]</td>\n",
       "    </tr>\n",
       "    <tr>\n",
       "      <th>3</th>\n",
       "      <td>systolic_bp_change</td>\n",
       "      <td>Fractional</td>\n",
       "      <td>41012</td>\n",
       "      <td>0</td>\n",
       "      <td>2.664386</td>\n",
       "      <td>1.092718e+05</td>\n",
       "      <td>7.434150</td>\n",
       "      <td>-0.111300</td>\n",
       "      <td>34.000000</td>\n",
       "      <td>[{'lower_bound': -0.1113, 'upper_bound': 3.29983, 'count': 35242.0}, {'lower_bound': 3.29983, 'upper_bound': 6.71096, 'count': 1921.0}, {'lower_bound': 6.71096, 'upper_bound': 10.12209, 'count': 0.0}, {'lower_bound': 10.12209, 'upper_bound': 13.53322, 'count': 1923.0}, {'lower_bound': 13.53322, 'upper_bound': 16.94435, 'count': 0.0}, {'lower_bound': 16.94435, 'upper_bound': 20.35548, 'count': 0.0}, {'lower_bound': 20.35548, 'upper_bound': 23.76661, 'count': 0.0}, {'lower_bound': 23.76661, 'upper_bound': 27.17774, 'count': 0.0}, {'lower_bound': 27.17774, 'upper_bound': 30.588870000000004, 'count': 0.0}, {'lower_bound': 30.588870000000004, 'upper_bound': 34.0, 'count': 1926.0}]</td>\n",
       "      <td>0.64</td>\n",
       "      <td>2048.0</td>\n",
       "      <td>[[12.0, 0.49886, 0.413014, 0.371352, 0.663433, 34.0, 0.077138, 0.163461, 0.09155, 0.36217, 0.740013, 12.0, -0.1113, 0.01184, 0.176227, 0.271918, 0.476576, 0.802063, 5.0, 0.106869, 0.536408, 0.49886, 0.413014, 0.371352, 0.663433, 34.0, 0.077138, 0.163461, 0.09155, 0.36217, 0.740013, 12.0, -0.1113, 0.01184, 0.176227, 0.271918, 0.476576, 0.802063, 5.0, 0.106869, 0.536408, 0.49886, 0.413014, 0.371352, 0.663433, 34.0, 0.077138, 0.163461, 0.09155, 0.36217, 0.740013, 12.0, -0.1113, 0.01184, 0.176227, 0.271918, 0.476576, 0.802063, 5.0, 0.106869, 0.536408, 0.49886, 0.413014, 0.371352, 0.663433, 34.0, 0.077138, 0.163461, 0.09155, 0.36217, 0.740013, 12.0, -0.1113, 0.01184, 0.176227, 0.271918, 0.476576, 0.802063, 5.0, 0.106869, 0.536408, 0.49886, 0.413014, 0.371352, 0.663433, 34.0, 0.077138, 0.163461, 0.09155, 0.36217, 0.740013, 12.0, -0.1113, 0.01184, 0.176227, 0.271918, 0.476576, 0.802063, 5.0, 0.106869, ...], [], [34.0], [], [-0.1113, -0.1113, -0.1113, -0.1113, -0.1113, -0.1113, -0.1113, -0.1113, -0.1113, -0.1113, -0.1113, -0.1113, -0.1113, -0.1113, -0.1113, -0.1113, -0.1113, -0.1113, -0.1113, -0.1113, -0.1113, -0.1113, -0.1113, -0.1113, -0.1113, -0.1113, -0.1113, -0.1113, -0.1113, -0.1113, -0.1113, -0.1113, -0.1113, -0.1113, -0.1113, -0.1113, -0.1113, -0.1113, -0.1113, -0.1113, -0.1113, -0.1113, -0.1113, -0.1113, -0.1113, -0.1113, -0.1113, -0.1113, -0.1113, -0.1113, -0.1113, -0.1113, -0.1113, -0.1113, -0.1113, -0.1113, -0.1113, -0.1113, -0.1113, -0.1113, -0.1113, -0.1113, -0.1113, -0.1113, -0.1113, -0.1113, -0.1113, -0.1113, -0.1113, -0.1113, -0.1113, -0.1113, -0.1113, -0.1113, -0.1113, -0.1113, -0.1113, -0.1113, -0.1113, -0.1113, -0.1113, -0.1113, -0.1113, -0.1113, -0.1113, -0.1113, -0.1113, -0.1113, -0.1113, -0.1113, -0.1113, -0.1113, -0.1113, -0.1113, -0.1113, -0.1113, -0.1113, -0.1113, -0.1113, -0.1113, ...]]</td>\n",
       "    </tr>\n",
       "    <tr>\n",
       "      <th>4</th>\n",
       "      <td>respiratory_rate</td>\n",
       "      <td>Fractional</td>\n",
       "      <td>41012</td>\n",
       "      <td>0</td>\n",
       "      <td>3.147425</td>\n",
       "      <td>1.290822e+05</td>\n",
       "      <td>8.468610</td>\n",
       "      <td>0.000000</td>\n",
       "      <td>34.000000</td>\n",
       "      <td>[{'lower_bound': 0.0, 'upper_bound': 3.4, 'count': 37181.0}, {'lower_bound': 3.4, 'upper_bound': 6.8, 'count': 0.0}, {'lower_bound': 6.8, 'upper_bound': 10.2, 'count': 0.0}, {'lower_bound': 10.2, 'upper_bound': 13.6, 'count': 0.0}, {'lower_bound': 13.6, 'upper_bound': 17.0, 'count': 0.0}, {'lower_bound': 17.0, 'upper_bound': 20.4, 'count': 0.0}, {'lower_bound': 20.4, 'upper_bound': 23.8, 'count': 0.0}, {'lower_bound': 23.8, 'upper_bound': 27.2, 'count': 1906.0}, {'lower_bound': 27.2, 'upper_bound': 30.6, 'count': 0.0}, {'lower_bound': 30.6, 'upper_bound': 34.0, 'count': 1925.0}]</td>\n",
       "      <td>0.64</td>\n",
       "      <td>2048.0</td>\n",
       "      <td>[[0.7781, 0.661765, 0.58403, 0.417388, 0.059177, 0.712447, 0.576394, 0.719366, 24.0, 0.339197, 0.029562, 0.7781, 0.678747, 34.0, 0.150283, 0.548428, 0.15356, 0.839661, 0.729862, 0.0, 1.0, 0.661765, 0.58403, 0.417388, 0.059177, 0.712447, 0.576394, 0.719366, 24.0, 0.339197, 0.029562, 0.7781, 0.678747, 34.0, 0.150283, 0.548428, 0.15356, 0.839661, 0.729862, 0.0, 1.0, 0.661765, 0.58403, 0.417388, 0.059177, 0.712447, 0.576394, 0.719366, 24.0, 0.339197, 0.029562, 0.7781, 0.678747, 34.0, 0.150283, 0.548428, 0.15356, 0.839661, 0.729862, 0.0, 1.0, 0.661765, 0.58403, 0.417388, 0.059177, 0.712447, 0.576394, 0.719366, 24.0, 0.339197, 0.029562, 0.7781, 0.678747, 34.0, 0.150283, 0.548428, 0.15356, 0.839661, 0.729862, 0.0, 1.0, 0.661765, 0.58403, 0.417388, 0.059177, 0.712447, 0.576394, 0.719366, 24.0, 0.339197, 0.029562, 0.7781, 0.678747, 34.0, 0.150283, 0.548428, 0.15356, 0.839661, 0.729862, 0.0, ...], [], [34.0], [], [0.0, 0.0, 0.0, 0.0, 0.0, 0.0, 0.0, 0.0, 0.0, 0.0, 0.0, 0.0, 0.0, 0.0, 0.0, 0.0, 0.0, 0.0, 0.0, 0.0, 0.0, 0.0, 0.0, 0.0, 0.0, 0.0, 0.0, 0.0, 0.0, 0.0, 0.0, 0.0, 0.0, 0.0, 0.0, 0.0, 0.0, 0.0, 0.0, 0.0, 0.0, 0.0, 0.0, 0.0, 0.0, 0.0, 0.0, 0.0, 0.0, 0.0, 0.0, 0.0, 0.0, 0.0, 0.0, 0.0, 0.0, 0.0, 0.0, 0.0, 0.0, 0.0, 0.0, 0.0, 0.0, 0.0, 0.0, 0.0, 0.0, 0.0, 0.0, 0.0, 0.0, 0.0, 0.0, 0.0, 0.0, 0.0, 0.0, 0.0, 0.0, 0.0, 0.0, 0.0, 0.0, 0.0, 0.0, 0.0, 0.0, 0.0, 0.0, 0.0, 0.0, 0.0, 0.0, 0.0, 0.0, 0.0, 0.0, 0.0, ...]]</td>\n",
       "    </tr>\n",
       "  </tbody>\n",
       "</table>\n",
       "</div>"
      ],
      "text/plain": [
       "                  name inferred_type  numerical_statistics.common.num_present  \\\n",
       "0  class                Fractional    41012                                     \n",
       "1  bmi                  Fractional    41012                                     \n",
       "2  diastolic_bp_change  Fractional    41012                                     \n",
       "3  systolic_bp_change   Fractional    41012                                     \n",
       "4  respiratory_rate     Fractional    41012                                     \n",
       "\n",
       "   numerical_statistics.common.num_missing  numerical_statistics.mean  \\\n",
       "0  0                                        0.160695                    \n",
       "1  0                                        0.729386                    \n",
       "2  0                                        33.260988                   \n",
       "3  0                                        2.664386                    \n",
       "4  0                                        3.147425                    \n",
       "\n",
       "   numerical_statistics.sum  numerical_statistics.std_dev  \\\n",
       "0  6.590418e+03              0.215210                       \n",
       "1  2.991359e+04              0.680401                       \n",
       "2  1.364100e+06              107.485178                     \n",
       "3  1.092718e+05              7.434150                       \n",
       "4  1.290822e+05              8.468610                       \n",
       "\n",
       "   numerical_statistics.min  numerical_statistics.max  \\\n",
       "0  0.001820                  0.895814                   \n",
       "1 -0.297257                  3.000000                   \n",
       "2 -123.000000                345.343500                 \n",
       "3 -0.111300                  34.000000                  \n",
       "4  0.000000                  34.000000                  \n",
       "\n",
       "                                                                                                                                                                                                                                                                                                                                                                                                                                                                                                                                                                                                                                                                                                                                                                                                                                                                            numerical_statistics.distribution.kll.buckets  \\\n",
       "0  [{'lower_bound': 0.0018202506471425295, 'upper_bound': 0.09121961381752045, 'count': 23909.0}, {'lower_bound': 0.09121961381752045, 'upper_bound': 0.18061897698789836, 'count': 4660.0}, {'lower_bound': 0.18061897698789836, 'upper_bound': 0.27001834015827625, 'count': 6259.0}, {'lower_bound': 0.27001834015827625, 'upper_bound': 0.3594177033286542, 'count': 192.0}, {'lower_bound': 0.3594177033286542, 'upper_bound': 0.4488170664990321, 'count': 96.0}, {'lower_bound': 0.4488170664990321, 'upper_bound': 0.53821642966941, 'count': 64.0}, {'lower_bound': 0.53821642966941, 'upper_bound': 0.6276157928397879, 'count': 1953.0}, {'lower_bound': 0.6276157928397879, 'upper_bound': 0.7170151560101659, 'count': 3863.0}, {'lower_bound': 0.7170151560101659, 'upper_bound': 0.8064145191805437, 'count': 16.0}, {'lower_bound': 0.8064145191805437, 'upper_bound': 0.8958138823509216, 'count': 0.0}]   \n",
       "1  [{'lower_bound': -0.297257, 'upper_bound': 0.03246870000000002, 'count': 2002.0}, {'lower_bound': 0.03246870000000002, 'upper_bound': 0.3621944, 'count': 9175.0}, {'lower_bound': 0.3621944, 'upper_bound': 0.6919201, 'count': 12424.0}, {'lower_bound': 0.6919201, 'upper_bound': 1.0216458, 'count': 13563.0}, {'lower_bound': 1.0216458, 'upper_bound': 1.3513715000000004, 'count': 0.0}, {'lower_bound': 1.3513715000000004, 'upper_bound': 1.6810972, 'count': 0.0}, {'lower_bound': 1.6810972, 'upper_bound': 2.0108229, 'count': 1937.0}, {'lower_bound': 2.0108229, 'upper_bound': 2.3405486, 'count': 0.0}, {'lower_bound': 2.3405486, 'upper_bound': 2.6702743, 'count': 0.0}, {'lower_bound': 2.6702743, 'upper_bound': 3.0000000000000004, 'count': 1911.0}]                                                                                                                                              \n",
       "2  [{'lower_bound': -123.0, 'upper_bound': -76.16565, 'count': 1922.0}, {'lower_bound': -76.16565, 'upper_bound': -29.3313, 'count': 0.0}, {'lower_bound': -29.3313, 'upper_bound': 17.50305, 'count': 33322.0}, {'lower_bound': 17.50305, 'upper_bound': 64.3374, 'count': 0.0}, {'lower_bound': 64.3374, 'upper_bound': 111.17175000000003, 'count': 0.0}, {'lower_bound': 111.17175000000003, 'upper_bound': 158.0061, 'count': 1921.0}, {'lower_bound': 158.0061, 'upper_bound': 204.84045000000003, 'count': 0.0}, {'lower_bound': 204.84045000000003, 'upper_bound': 251.6748, 'count': 0.0}, {'lower_bound': 251.6748, 'upper_bound': 298.50915000000003, 'count': 0.0}, {'lower_bound': 298.50915000000003, 'upper_bound': 345.34350000000006, 'count': 3847.0}]                                                                                                                                                    \n",
       "3  [{'lower_bound': -0.1113, 'upper_bound': 3.29983, 'count': 35242.0}, {'lower_bound': 3.29983, 'upper_bound': 6.71096, 'count': 1921.0}, {'lower_bound': 6.71096, 'upper_bound': 10.12209, 'count': 0.0}, {'lower_bound': 10.12209, 'upper_bound': 13.53322, 'count': 1923.0}, {'lower_bound': 13.53322, 'upper_bound': 16.94435, 'count': 0.0}, {'lower_bound': 16.94435, 'upper_bound': 20.35548, 'count': 0.0}, {'lower_bound': 20.35548, 'upper_bound': 23.76661, 'count': 0.0}, {'lower_bound': 23.76661, 'upper_bound': 27.17774, 'count': 0.0}, {'lower_bound': 27.17774, 'upper_bound': 30.588870000000004, 'count': 0.0}, {'lower_bound': 30.588870000000004, 'upper_bound': 34.0, 'count': 1926.0}]                                                                                                                                                                                                             \n",
       "4  [{'lower_bound': 0.0, 'upper_bound': 3.4, 'count': 37181.0}, {'lower_bound': 3.4, 'upper_bound': 6.8, 'count': 0.0}, {'lower_bound': 6.8, 'upper_bound': 10.2, 'count': 0.0}, {'lower_bound': 10.2, 'upper_bound': 13.6, 'count': 0.0}, {'lower_bound': 13.6, 'upper_bound': 17.0, 'count': 0.0}, {'lower_bound': 17.0, 'upper_bound': 20.4, 'count': 0.0}, {'lower_bound': 20.4, 'upper_bound': 23.8, 'count': 0.0}, {'lower_bound': 23.8, 'upper_bound': 27.2, 'count': 1906.0}, {'lower_bound': 27.2, 'upper_bound': 30.6, 'count': 0.0}, {'lower_bound': 30.6, 'upper_bound': 34.0, 'count': 1925.0}]                                                                                                                                                                                                                                                                                                                \n",
       "\n",
       "   numerical_statistics.distribution.kll.sketch.parameters.c  \\\n",
       "0  0.64                                                        \n",
       "1  0.64                                                        \n",
       "2  0.64                                                        \n",
       "3  0.64                                                        \n",
       "4  0.64                                                        \n",
       "\n",
       "   numerical_statistics.distribution.kll.sketch.parameters.k  \\\n",
       "0  2048.0                                                      \n",
       "1  2048.0                                                      \n",
       "2  2048.0                                                      \n",
       "3  2048.0                                                      \n",
       "4  2048.0                                                      \n",
       "\n",
       "                                                                                                                                                                                                                                                                                                                                                                                                                                                                                                                                                                                                                                                                                                                                                                                                                                                                                                                                                                                                                                                                                                                                                                                                                                                                                                                                                                                                                                                                                                                                                                                                                                                                                                                                                                                                                                                                                                                                                                                                                                                                                                                                                                                                                                                                                                                                                                                                                                                                                                                                                                                                                                                                                                                                                                                                                                                                                                                                                                                                                                                                                                                                                                                                                                                                                                                                                                                                                                                                                                                                                                                                                                                                                                                                                                                                                                                                                                                                                                                                                                                                                                                                                                                                                                                                                                                                                                                                                                                                                                                                                                     numerical_statistics.distribution.kll.sketch.data  \n",
       "0  [[0.008779415860772133, 0.1307021826505661, 0.022546790540218353, 0.0018202506471425295, 0.04551959037780762, 0.002014509867876768, 0.027867484837770462, 0.07810166478157043, 0.708495020866394, 0.04681061953306198, 0.12425511330366135, 0.008779415860772133, 0.2534950077533722, 0.6704414486885071, 0.08783318102359772, 0.203704833984375, 0.012699412181973457, 0.004283061716705561, 0.005715691950172186, 0.57121342420578, 0.1937502920627594, 0.1307021826505661, 0.022546790540218353, 0.0018202506471425295, 0.04551959037780762, 0.002014509867876768, 0.027867484837770462, 0.07810166478157043, 0.708495020866394, 0.04681061953306198, 0.12425511330366135, 0.008779415860772133, 0.2534950077533722, 0.6704414486885071, 0.08783318102359772, 0.203704833984375, 0.012699412181973457, 0.004283061716705561, 0.005715691950172186, 0.57121342420578, 0.1937502920627594, 0.1307021826505661, 0.022546790540218353, 0.0018202506471425295, 0.04551959037780762, 0.002014509867876768, 0.027867484837770462, 0.07810166478157043, 0.708495020866394, 0.04681061953306198, 0.12425511330366135, 0.008779415860772133, 0.2534950077533722, 0.6704414486885071, 0.08783318102359772, 0.203704833984375, 0.012699412181973457, 0.004283061716705561, 0.005715691950172186, 0.57121342420578, 0.1937502920627594, 0.1307021826505661, 0.022546790540218353, 0.0018202506471425295, 0.04551959037780762, 0.002014509867876768, 0.027867484837770462, 0.07810166478157043, 0.708495020866394, 0.04681061953306198, 0.12425511330366135, 0.008779415860772133, 0.2534950077533722, 0.6704414486885071, 0.08783318102359772, 0.203704833984375, 0.012699412181973457, 0.004283061716705561, 0.005715691950172186, 0.57121342420578, 0.1937502920627594, 0.1307021826505661, 0.022546790540218353, 0.0018202506471425295, 0.04551959037780762, 0.002014509867876768, 0.027867484837770462, 0.07810166478157043, 0.708495020866394, 0.04681061953306198, 0.12425511330366135, 0.008779415860772133, 0.2534950077533722, 0.6704414486885071, 0.08783318102359772, 0.203704833984375, 0.012699412181973457, 0.004283061716705561, 0.005715691950172186, 0.57121342420578, ...], [], [0.708495020866394], [], [0.0018202506471425295, 0.0018202506471425295, 0.0018202506471425295, 0.0018202506471425295, 0.0018202506471425295, 0.0018202506471425295, 0.0018202506471425295, 0.0018202506471425295, 0.0018202506471425295, 0.0018202506471425295, 0.0018202506471425295, 0.0018202506471425295, 0.0018202506471425295, 0.0018202506471425295, 0.0018202506471425295, 0.0018202506471425295, 0.0018202506471425295, 0.0018202506471425295, 0.0018202506471425295, 0.0018202506471425295, 0.0018202506471425295, 0.0018202506471425295, 0.0018202506471425295, 0.0018202506471425295, 0.0018202506471425295, 0.0018202506471425295, 0.0018202506471425295, 0.0018202506471425295, 0.0018202506471425295, 0.0018202506471425295, 0.0018202506471425295, 0.0018202506471425295, 0.0018202506471425295, 0.0018202506471425295, 0.0018202506471425295, 0.0018202506471425295, 0.0018202506471425295, 0.0018202506471425295, 0.0018202506471425295, 0.0018202506471425295, 0.0018202506471425295, 0.0018202506471425295, 0.0018202506471425295, 0.0018202506471425295, 0.0018202506471425295, 0.0018202506471425295, 0.0018202506471425295, 0.0018202506471425295, 0.0018202506471425295, 0.0018202506471425295, 0.0018202506471425295, 0.0018202506471425295, 0.0018202506471425295, 0.0018202506471425295, 0.0018202506471425295, 0.0018202506471425295, 0.0018202506471425295, 0.0018202506471425295, 0.0018202506471425295, 0.0018202506471425295, 0.0018202506471425295, 0.0018202506471425295, 0.0018202506471425295, 0.0018202506471425295, 0.0018202506471425295, 0.0018202506471425295, 0.0018202506471425295, 0.0018202506471425295, 0.0018202506471425295, 0.0018202506471425295, 0.0018202506471425295, 0.0018202506471425295, 0.0018202506471425295, 0.0018202506471425295, 0.0018202506471425295, 0.0018202506471425295, 0.0018202506471425295, 0.0018202506471425295, 0.0018202506471425295, 0.0018202506471425295, 0.0018202506471425295, 0.0018202506471425295, 0.0018202506471425295, 0.0018202506471425295, 0.0018202506471425295, 0.0018202506471425295, 0.0018202506471425295, 0.0018202506471425295, 0.0018202506471425295, 0.0018202506471425295, 0.0018202506471425295, 0.0018202506471425295, 0.0018202506471425295, 0.0018202506471425295, 0.0018202506471425295, 0.0018202506471425295, 0.0018202506471425295, 0.0018202506471425295, 0.0018202506471425295, 0.0018202506471425295, ...]]  \n",
       "1  [[3.0, 0.312679, 0.043427, 0.978176, -0.297257, 0.4119, 0.935486, 1.0, 0.150787, 0.671629, 0.851441, 3.0, 2.0, 1.0, 0.573868, 0.500541, 0.837633, 0.568564, 0.864842, 0.302017, 0.421609, 0.312679, 0.043427, 0.978176, -0.297257, 0.4119, 0.935486, 1.0, 0.150787, 0.671629, 0.851441, 3.0, 2.0, 1.0, 0.573868, 0.500541, 0.837633, 0.568564, 0.864842, 0.302017, 0.421609, 0.312679, 0.043427, 0.978176, -0.297257, 0.4119, 0.935486, 1.0, 0.150787, 0.671629, 0.851441, 3.0, 2.0, 1.0, 0.573868, 0.500541, 0.837633, 0.568564, 0.864842, 0.302017, 0.421609, 0.312679, 0.043427, 0.978176, -0.297257, 0.4119, 0.935486, 1.0, 0.150787, 0.671629, 0.851441, 3.0, 2.0, 1.0, 0.573868, 0.500541, 0.837633, 0.568564, 0.864842, 0.302017, 0.421609, 0.312679, 0.043427, 0.978176, -0.297257, 0.4119, 0.935486, 1.0, 0.150787, 0.671629, 0.851441, 3.0, 2.0, 1.0, 0.573868, 0.500541, 0.837633, 0.568564, 0.864842, 0.302017, ...], [], [3.0], [], [-0.297257, -0.297257, -0.297257, -0.297257, -0.297257, -0.297257, -0.297257, -0.297257, -0.297257, -0.297257, -0.297257, -0.297257, -0.297257, -0.297257, -0.297257, -0.297257, -0.297257, -0.297257, -0.297257, -0.297257, -0.297257, -0.297257, -0.297257, -0.297257, -0.297257, -0.297257, -0.297257, -0.297257, -0.297257, -0.297257, -0.297257, -0.297257, -0.297257, -0.297257, -0.297257, -0.297257, -0.297257, -0.297257, -0.297257, -0.297257, -0.297257, -0.297257, -0.297257, -0.297257, -0.297257, -0.297257, -0.297257, -0.297257, -0.297257, -0.297257, -0.297257, -0.297257, -0.297257, -0.297257, -0.297257, -0.297257, -0.297257, -0.297257, -0.297257, -0.297257, -0.297257, -0.297257, -0.297257, -0.297257, -0.297257, -0.297257, -0.297257, -0.297257, -0.297257, -0.297257, -0.297257, -0.297257, -0.297257, -0.297257, -0.297257, -0.297257, -0.297257, -0.297257, -0.297257, -0.297257, -0.297257, -0.297257, -0.297257, -0.297257, -0.297257, -0.297257, -0.297257, -0.297257, -0.297257, -0.297257, -0.297257, -0.297257, -0.297257, -0.297257, -0.297257, -0.297257, -0.297257, -0.297257, -0.297257, -0.297257, ...]]                                                                                                                                                                                                                                                                                                                                                                                                                                                                                                                                                                                                                                                                                                                                                                                                                                                                                                                                                                                                                                                                                                                                                                                                                                                                                                                                                                                                                                                                                                                                                                                                                                                                                                                                                                                                                                                                                                                                                                                                                                                                                                                                                                                                                                                                                                                                                                                                                                                                                                                  \n",
       "2  [[0.780622, 0.485125, 0.57272, 0.327216, 0.28387, -123.0, 0.544246, 0.407947, 0.445269, 345.3435, 0.091287, 0.780622, 0.208537, 0.949004, 4.0, -0.467078, 0.20324, 0.280759, 0.213869, 342.34, 134.24, 0.485125, 0.57272, 0.327216, 0.28387, -123.0, 0.544246, 0.407947, 0.445269, 345.3435, 0.091287, 0.780622, 0.208537, 0.949004, 4.0, -0.467078, 0.20324, 0.280759, 0.213869, 342.34, 134.24, 0.485125, 0.57272, 0.327216, 0.28387, -123.0, 0.544246, 0.407947, 0.445269, 345.3435, 0.091287, 0.780622, 0.208537, 0.949004, 4.0, -0.467078, 0.20324, 0.280759, 0.213869, 342.34, 134.24, 0.485125, 0.57272, 0.327216, 0.28387, -123.0, 0.544246, 0.407947, 0.445269, 345.3435, 0.091287, 0.780622, 0.208537, 0.949004, 4.0, -0.467078, 0.20324, 0.280759, 0.213869, 342.34, 134.24, 0.485125, 0.57272, 0.327216, 0.28387, -123.0, 0.544246, 0.407947, 0.445269, 345.3435, 0.091287, 0.780622, 0.208537, 0.949004, 4.0, -0.467078, 0.20324, 0.280759, 0.213869, 342.34, ...], [], [345.3435], [], [-123.0, -123.0, -123.0, -123.0, -123.0, -123.0, -123.0, -123.0, -123.0, -123.0, -123.0, -123.0, -123.0, -123.0, -123.0, -123.0, -123.0, -123.0, -123.0, -123.0, -123.0, -123.0, -123.0, -123.0, -123.0, -123.0, -123.0, -123.0, -123.0, -123.0, -123.0, -123.0, -123.0, -123.0, -123.0, -123.0, -123.0, -123.0, -123.0, -123.0, -123.0, -123.0, -123.0, -123.0, -123.0, -123.0, -123.0, -123.0, -123.0, -123.0, -123.0, -123.0, -123.0, -123.0, -123.0, -123.0, -123.0, -123.0, -123.0, -123.0, -123.0, -123.0, -123.0, -123.0, -123.0, -123.0, -123.0, -123.0, -123.0, -123.0, -123.0, -123.0, -123.0, -123.0, -123.0, -123.0, -123.0, -123.0, -123.0, -123.0, -123.0, -123.0, -123.0, -123.0, -123.0, -123.0, -123.0, -123.0, -123.0, -123.0, -123.0, -123.0, -123.0, -123.0, -123.0, -123.0, -123.0, -123.0, -123.0, -123.0, ...]]                                                                                                                                                                                                                                                                                                                                                                                                                                                                                                                                                                                                                                                                                                                                                                                                                                                                                                                                                                                                                                                                                                                                                                                                                                                                                                                                                                                                                                                                                                                                                                                                                                                                                                                                                                                                                                                                                                                                                                                                                                                                                                                                                                                                                                                                                                                                                                                                                                                                                                                                                                                                                                                                                                                                                                          \n",
       "3  [[12.0, 0.49886, 0.413014, 0.371352, 0.663433, 34.0, 0.077138, 0.163461, 0.09155, 0.36217, 0.740013, 12.0, -0.1113, 0.01184, 0.176227, 0.271918, 0.476576, 0.802063, 5.0, 0.106869, 0.536408, 0.49886, 0.413014, 0.371352, 0.663433, 34.0, 0.077138, 0.163461, 0.09155, 0.36217, 0.740013, 12.0, -0.1113, 0.01184, 0.176227, 0.271918, 0.476576, 0.802063, 5.0, 0.106869, 0.536408, 0.49886, 0.413014, 0.371352, 0.663433, 34.0, 0.077138, 0.163461, 0.09155, 0.36217, 0.740013, 12.0, -0.1113, 0.01184, 0.176227, 0.271918, 0.476576, 0.802063, 5.0, 0.106869, 0.536408, 0.49886, 0.413014, 0.371352, 0.663433, 34.0, 0.077138, 0.163461, 0.09155, 0.36217, 0.740013, 12.0, -0.1113, 0.01184, 0.176227, 0.271918, 0.476576, 0.802063, 5.0, 0.106869, 0.536408, 0.49886, 0.413014, 0.371352, 0.663433, 34.0, 0.077138, 0.163461, 0.09155, 0.36217, 0.740013, 12.0, -0.1113, 0.01184, 0.176227, 0.271918, 0.476576, 0.802063, 5.0, 0.106869, ...], [], [34.0], [], [-0.1113, -0.1113, -0.1113, -0.1113, -0.1113, -0.1113, -0.1113, -0.1113, -0.1113, -0.1113, -0.1113, -0.1113, -0.1113, -0.1113, -0.1113, -0.1113, -0.1113, -0.1113, -0.1113, -0.1113, -0.1113, -0.1113, -0.1113, -0.1113, -0.1113, -0.1113, -0.1113, -0.1113, -0.1113, -0.1113, -0.1113, -0.1113, -0.1113, -0.1113, -0.1113, -0.1113, -0.1113, -0.1113, -0.1113, -0.1113, -0.1113, -0.1113, -0.1113, -0.1113, -0.1113, -0.1113, -0.1113, -0.1113, -0.1113, -0.1113, -0.1113, -0.1113, -0.1113, -0.1113, -0.1113, -0.1113, -0.1113, -0.1113, -0.1113, -0.1113, -0.1113, -0.1113, -0.1113, -0.1113, -0.1113, -0.1113, -0.1113, -0.1113, -0.1113, -0.1113, -0.1113, -0.1113, -0.1113, -0.1113, -0.1113, -0.1113, -0.1113, -0.1113, -0.1113, -0.1113, -0.1113, -0.1113, -0.1113, -0.1113, -0.1113, -0.1113, -0.1113, -0.1113, -0.1113, -0.1113, -0.1113, -0.1113, -0.1113, -0.1113, -0.1113, -0.1113, -0.1113, -0.1113, -0.1113, -0.1113, ...]]                                                                                                                                                                                                                                                                                                                                                                                                                                                                                                                                                                                                                                                                                                                                                                                                                                                                                                                                                                                                                                                                                                                                                                                                                                                                                                                                                                                                                                                                                                                                                                                                                                                                                                                                                                                                                                                                                                                                                                                                                                                                                                                                                                                                                                                                                                                                                                                                                                                                                                                                                                                                                                                                                                         \n",
       "4  [[0.7781, 0.661765, 0.58403, 0.417388, 0.059177, 0.712447, 0.576394, 0.719366, 24.0, 0.339197, 0.029562, 0.7781, 0.678747, 34.0, 0.150283, 0.548428, 0.15356, 0.839661, 0.729862, 0.0, 1.0, 0.661765, 0.58403, 0.417388, 0.059177, 0.712447, 0.576394, 0.719366, 24.0, 0.339197, 0.029562, 0.7781, 0.678747, 34.0, 0.150283, 0.548428, 0.15356, 0.839661, 0.729862, 0.0, 1.0, 0.661765, 0.58403, 0.417388, 0.059177, 0.712447, 0.576394, 0.719366, 24.0, 0.339197, 0.029562, 0.7781, 0.678747, 34.0, 0.150283, 0.548428, 0.15356, 0.839661, 0.729862, 0.0, 1.0, 0.661765, 0.58403, 0.417388, 0.059177, 0.712447, 0.576394, 0.719366, 24.0, 0.339197, 0.029562, 0.7781, 0.678747, 34.0, 0.150283, 0.548428, 0.15356, 0.839661, 0.729862, 0.0, 1.0, 0.661765, 0.58403, 0.417388, 0.059177, 0.712447, 0.576394, 0.719366, 24.0, 0.339197, 0.029562, 0.7781, 0.678747, 34.0, 0.150283, 0.548428, 0.15356, 0.839661, 0.729862, 0.0, ...], [], [34.0], [], [0.0, 0.0, 0.0, 0.0, 0.0, 0.0, 0.0, 0.0, 0.0, 0.0, 0.0, 0.0, 0.0, 0.0, 0.0, 0.0, 0.0, 0.0, 0.0, 0.0, 0.0, 0.0, 0.0, 0.0, 0.0, 0.0, 0.0, 0.0, 0.0, 0.0, 0.0, 0.0, 0.0, 0.0, 0.0, 0.0, 0.0, 0.0, 0.0, 0.0, 0.0, 0.0, 0.0, 0.0, 0.0, 0.0, 0.0, 0.0, 0.0, 0.0, 0.0, 0.0, 0.0, 0.0, 0.0, 0.0, 0.0, 0.0, 0.0, 0.0, 0.0, 0.0, 0.0, 0.0, 0.0, 0.0, 0.0, 0.0, 0.0, 0.0, 0.0, 0.0, 0.0, 0.0, 0.0, 0.0, 0.0, 0.0, 0.0, 0.0, 0.0, 0.0, 0.0, 0.0, 0.0, 0.0, 0.0, 0.0, 0.0, 0.0, 0.0, 0.0, 0.0, 0.0, 0.0, 0.0, 0.0, 0.0, 0.0, 0.0, ...]]                                                                                                                                                                                                                                                                                                                                                                                                                                                                                                                                                                                                                                                                                                                                                                                                                                                                                                                                                                                                                                                                                                                                                                                                                                                                                                                                                                                                                                                                                                                                                                                                                                                                                                                                                                                                                                                                                                                                                                                                                                                                                                                                                                                                                                                                                                                                                                                                                                                                                                                                                                                                                                                                                                                                                                                                                                                                                                                                                                                                                                                                                                                                      "
      ]
     },
     "execution_count": 65,
     "metadata": {},
     "output_type": "execute_result"
    }
   ],
   "source": [
    "statistics_shift_df = pd.json_normalize(statistics_shift.body_dict[\"features\"])\n",
    "statistics_shift_df"
   ]
  },
  {
   "cell_type": "markdown",
   "metadata": {},
   "source": [
    "### Other Commands\n",
    "We can also start and stop the monitoring schedules."
   ]
  },
  {
   "cell_type": "code",
   "execution_count": null,
   "metadata": {},
   "outputs": [],
   "source": [
    "# my_default_monitor.stop_monitoring_schedule()\n",
    "# my_default_monitor.start_monitoring_schedule()"
   ]
  },
  {
   "cell_type": "markdown",
   "metadata": {},
   "source": [
    "## Delete the Resources\n",
    "\n",
    "You can keep your endpoint running to continue capturing data. If you do not plan to collect more data or use this endpoint further, you should delete the endpoint to avoid incurring additional charges. Note that deleting your endpoint does not delete the data that was captured during the model invocations. That data persists in Amazon S3 until you delete it yourself.\n",
    "\n",
    "But before that, you need to delete the schedule first."
   ]
  },
  {
   "cell_type": "code",
   "execution_count": null,
   "metadata": {},
   "outputs": [],
   "source": [
    "# my_default_monitor.delete_monitoring_schedule()\n",
    "# time.sleep(60) # actually wait for the deletion"
   ]
  },
  {
   "cell_type": "code",
   "execution_count": null,
   "metadata": {},
   "outputs": [],
   "source": [
    "# predictor.delete_endpoint()"
   ]
  },
  {
   "cell_type": "code",
   "execution_count": null,
   "metadata": {},
   "outputs": [],
   "source": [
    "# predictor.delete_model()"
   ]
  },
  {
   "cell_type": "code",
   "execution_count": null,
   "metadata": {},
   "outputs": [],
   "source": []
  },
  {
   "cell_type": "code",
   "execution_count": null,
   "metadata": {},
   "outputs": [],
   "source": []
  },
  {
   "cell_type": "code",
   "execution_count": null,
   "metadata": {},
   "outputs": [],
   "source": []
  }
 ],
 "metadata": {
  "instance_type": "ml.t3.medium",
  "kernelspec": {
   "display_name": "Python 3 (Data Science)",
   "language": "python",
   "name": "python3__SAGEMAKER_INTERNAL__arn:aws:sagemaker:us-east-1:081325390199:image/datascience-1.0"
  },
  "language_info": {
   "codemirror_mode": {
    "name": "ipython",
    "version": 3
   },
   "file_extension": ".py",
   "mimetype": "text/x-python",
   "name": "python",
   "nbconvert_exporter": "python",
   "pygments_lexer": "ipython3",
   "version": "3.7.6"
  }
 },
 "nbformat": 4,
 "nbformat_minor": 4
}
