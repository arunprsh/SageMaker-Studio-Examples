{
 "cells": [
  {
   "cell_type": "markdown",
   "metadata": {},
   "source": [
    "# Model Monitor - Example\n",
    "This notebook shows how to:\n",
    "* Host a machine learning model in Amazon SageMaker and capture inference requests, results, and metadata \n",
    "* Analyze a training dataset to generate baseline constraints\n",
    "* Monitor a live endpoint for violations against constraints\n",
    "\n",
    "---\n",
    "## Background\n",
    "\n",
    "Amazon SageMaker provides every developer and data scientist with the ability to build, train, and deploy machine learning models quickly. Amazon SageMaker is a fully-managed service that encompasses the entire machine learning workflow. You can label and prepare your data, choose an algorithm, train a model, and then tune and optimize it for deployment. You can deploy your models to production with Amazon SageMaker to make predictions and lower costs than was previously possible.\n",
    "\n",
    "In addition, Amazon SageMaker enables you to capture the input, output and metadata for invocations of the models that you deploy. It also enables you to analyze the data and monitor its quality. In this notebook, you learn how Amazon SageMaker enables these capabilities.\n",
    "\n",
    "\n",
    "![model-monitor](./model-monitor.jpg)\n"
   ]
  },
  {
   "cell_type": "markdown",
   "metadata": {},
   "source": [
    "### Imports"
   ]
  },
  {
   "cell_type": "code",
   "execution_count": 1,
   "metadata": {},
   "outputs": [],
   "source": [
    "from sagemaker import get_execution_role, session\n",
    "from sagemaker.model import Model\n",
    "import sagemaker\n",
    "import boto3\n",
    "import json\n",
    "import re\n",
    "import os"
   ]
  },
  {
   "cell_type": "code",
   "execution_count": 2,
   "metadata": {},
   "outputs": [
    {
     "data": {
      "text/plain": [
       "'2.16.1'"
      ]
     },
     "execution_count": 2,
     "metadata": {},
     "output_type": "execute_result"
    }
   ],
   "source": [
    "sagemaker.__version__"
   ]
  },
  {
   "cell_type": "markdown",
   "metadata": {},
   "source": [
    "### Essentials"
   ]
  },
  {
   "cell_type": "code",
   "execution_count": 3,
   "metadata": {},
   "outputs": [],
   "source": [
    "session = sagemaker.Session()\n",
    "bucket = session.default_bucket()\n",
    "prefix = 'classifier/model-monitor'\n",
    "# COPY the training job name of the previous training job you ran from the SageMaker Console under Training Jobs\n",
    "# Let's re-use the Model we trained in Notebook 2 (Built-in Algorithm XGBoost)\n",
    "training_job_name = 'classifier-2020-11-06-01-17-06-402' # CHANGE THIS\n",
    "# COPY S3 model artifact location from the console\n",
    "model_url = 's3://sagemaker-demo-892313895307/clf/model-artifacts/classifier-2020-11-06-01-17-06-402/output/model.tar.gz'\n",
    "container_image_uri = '683313688378.dkr.ecr.us-east-1.amazonaws.com/sagemaker-xgboost:1.0-1-cpu-py3'\n",
    "role = get_execution_role()"
   ]
  },
  {
   "cell_type": "markdown",
   "metadata": {},
   "source": [
    "### S3 Paths"
   ]
  },
  {
   "cell_type": "code",
   "execution_count": 4,
   "metadata": {},
   "outputs": [
    {
     "name": "stdout",
     "output_type": "stream",
     "text": [
      "Capture path: s3://sagemaker-us-east-1-892313895307/classifier/model-monitor/datacapture\n",
      "Report path: s3://sagemaker-us-east-1-892313895307/classifier/model-monitor/reports\n"
     ]
    }
   ],
   "source": [
    "data_capture_prefix = '{}/datacapture'.format(prefix)\n",
    "s3_capture_upload_path = 's3://{}/{}'.format(bucket, data_capture_prefix)\n",
    "\n",
    "reports_prefix = '{}/reports'.format(prefix)\n",
    "s3_report_path = 's3://{}/{}'.format(bucket,reports_prefix)\n",
    "\n",
    "code_prefix = '{}/code'.format(prefix)\n",
    "\n",
    "print(\"Capture path: {}\".format(s3_capture_upload_path))\n",
    "print(\"Report path: {}\".format(s3_report_path))"
   ]
  },
  {
   "cell_type": "markdown",
   "metadata": {},
   "source": [
    "## Capture Real-Time Inference Data from SageMaker Endpoints"
   ]
  },
  {
   "cell_type": "code",
   "execution_count": 5,
   "metadata": {},
   "outputs": [],
   "source": [
    "model = Model(image_uri=container_image_uri, model_data=model_url, role=role)"
   ]
  },
  {
   "cell_type": "markdown",
   "metadata": {},
   "source": [
    "### Re-deploy using DataCaptureConfig"
   ]
  },
  {
   "cell_type": "markdown",
   "metadata": {},
   "source": [
    "To enable data capture for monitoring the model data quality, you specify the new capture option called DataCaptureConfig. You can capture the request payload, the response payload or both with this configuration. The capture config applies to all variants. Go ahead with the deployment."
   ]
  },
  {
   "cell_type": "code",
   "execution_count": 6,
   "metadata": {},
   "outputs": [],
   "source": [
    "from sagemaker.model_monitor import DataCaptureConfig\n",
    "from time import gmtime, strftime"
   ]
  },
  {
   "cell_type": "code",
   "execution_count": 7,
   "metadata": {},
   "outputs": [
    {
     "name": "stdout",
     "output_type": "stream",
     "text": [
      "EndpointName=classifier-xgboost-model-monitor-2020-11-08-18-52-39\n"
     ]
    }
   ],
   "source": [
    "endpoint_name = 'classifier-xgboost-model-monitor-' + strftime(\"%Y-%m-%d-%H-%M-%S\", gmtime())\n",
    "print(\"EndpointName={}\".format(endpoint_name))\n",
    "\n",
    "data_capture_config = DataCaptureConfig(\n",
    "                        enable_capture=True,\n",
    "                        sampling_percentage=100,\n",
    "                        capture_options=[\"REQUEST\", \"RESPONSE\"],\n",
    "                        destination_s3_uri=s3_capture_upload_path)"
   ]
  },
  {
   "cell_type": "code",
   "execution_count": 8,
   "metadata": {},
   "outputs": [
    {
     "data": {
      "text/plain": [
       "{'enable_capture': True,\n",
       " 'sampling_percentage': 100,\n",
       " 'destination_s3_uri': 's3://sagemaker-us-east-1-892313895307/classifier/model-monitor/datacapture',\n",
       " 'kms_key_id': None,\n",
       " 'capture_options': ['REQUEST', 'RESPONSE'],\n",
       " 'csv_content_types': ['text/csv'],\n",
       " 'json_content_types': ['application/json']}"
      ]
     },
     "execution_count": 8,
     "metadata": {},
     "output_type": "execute_result"
    }
   ],
   "source": [
    "data_capture_config.__dict__"
   ]
  },
  {
   "cell_type": "code",
   "execution_count": null,
   "metadata": {},
   "outputs": [
    {
     "name": "stdout",
     "output_type": "stream",
     "text": [
      "------"
     ]
    }
   ],
   "source": [
    "model.deploy(initial_instance_count=1, \n",
    "             instance_type='ml.m5.xlarge', \n",
    "             endpoint_name=endpoint_name, \n",
    "             data_capture_config=data_capture_config)"
   ]
  },
  {
   "cell_type": "markdown",
   "metadata": {},
   "source": [
    "### Invoke the Deployed Model Monitor Endpoint \n",
    "\n",
    "\n",
    "You can now send data to this endpoint to get inferences in real time. Because you enabled the data capture in the previous steps, the request and response payload, along with some additional metadata, is saved in the Amazon Simple Storage Service (Amazon S3) location you have specified in the DataCaptureConfig."
   ]
  },
  {
   "cell_type": "markdown",
   "metadata": {},
   "source": [
    "This step invokes the endpoint with included sample data for about 2 minutes. Data is captured based on the sampling percentage specified and the capture continues until the data capture option is turned off."
   ]
  },
  {
   "cell_type": "code",
   "execution_count": 15,
   "metadata": {},
   "outputs": [],
   "source": [
    "from sagemaker.serializers import CSVSerializer\n",
    "from sagemaker.predictor import Predictor\n",
    "\n",
    "import pandas as pd\n",
    "pd.set_option('display.max_colwidth', -1)\n",
    "\n",
    "import numpy as np\n",
    "import json\n",
    "import time"
   ]
  },
  {
   "cell_type": "code",
   "execution_count": 16,
   "metadata": {},
   "outputs": [],
   "source": [
    "csv_serializer = CSVSerializer()\n",
    "predictor = Predictor(endpoint_name=endpoint_name, serializer = csv_serializer)"
   ]
  },
  {
   "cell_type": "code",
   "execution_count": 17,
   "metadata": {},
   "outputs": [],
   "source": [
    "test_df = pd.read_csv('.././DATA/test/test.csv', names=['class', 'mass', 'width', 'height', 'color_score'])"
   ]
  },
  {
   "cell_type": "code",
   "execution_count": 18,
   "metadata": {},
   "outputs": [
    {
     "data": {
      "text/html": [
       "<div>\n",
       "<style scoped>\n",
       "    .dataframe tbody tr th:only-of-type {\n",
       "        vertical-align: middle;\n",
       "    }\n",
       "\n",
       "    .dataframe tbody tr th {\n",
       "        vertical-align: top;\n",
       "    }\n",
       "\n",
       "    .dataframe thead th {\n",
       "        text-align: right;\n",
       "    }\n",
       "</style>\n",
       "<table border=\"1\" class=\"dataframe\">\n",
       "  <thead>\n",
       "    <tr style=\"text-align: right;\">\n",
       "      <th></th>\n",
       "      <th>class</th>\n",
       "      <th>mass</th>\n",
       "      <th>width</th>\n",
       "      <th>height</th>\n",
       "      <th>color_score</th>\n",
       "    </tr>\n",
       "  </thead>\n",
       "  <tbody>\n",
       "    <tr>\n",
       "      <th>0</th>\n",
       "      <td>1</td>\n",
       "      <td>0.142857</td>\n",
       "      <td>0.058824</td>\n",
       "      <td>0.538462</td>\n",
       "      <td>0.382353</td>\n",
       "    </tr>\n",
       "    <tr>\n",
       "      <th>1</th>\n",
       "      <td>3</td>\n",
       "      <td>0.371429</td>\n",
       "      <td>0.529412</td>\n",
       "      <td>0.646154</td>\n",
       "      <td>0.588235</td>\n",
       "    </tr>\n",
       "    <tr>\n",
       "      <th>2</th>\n",
       "      <td>0</td>\n",
       "      <td>0.314286</td>\n",
       "      <td>0.441176</td>\n",
       "      <td>0.569231</td>\n",
       "      <td>0.323529</td>\n",
       "    </tr>\n",
       "    <tr>\n",
       "      <th>3</th>\n",
       "      <td>1</td>\n",
       "      <td>0.157143</td>\n",
       "      <td>0.058824</td>\n",
       "      <td>0.676923</td>\n",
       "      <td>0.441176</td>\n",
       "    </tr>\n",
       "    <tr>\n",
       "      <th>4</th>\n",
       "      <td>3</td>\n",
       "      <td>0.457143</td>\n",
       "      <td>0.500000</td>\n",
       "      <td>0.800000</td>\n",
       "      <td>0.529412</td>\n",
       "    </tr>\n",
       "  </tbody>\n",
       "</table>\n",
       "</div>"
      ],
      "text/plain": [
       "   class      mass     width    height  color_score\n",
       "0  1      0.142857  0.058824  0.538462  0.382353   \n",
       "1  3      0.371429  0.529412  0.646154  0.588235   \n",
       "2  0      0.314286  0.441176  0.569231  0.323529   \n",
       "3  1      0.157143  0.058824  0.676923  0.441176   \n",
       "4  3      0.457143  0.500000  0.800000  0.529412   "
      ]
     },
     "execution_count": 18,
     "metadata": {},
     "output_type": "execute_result"
    }
   ],
   "source": [
    "test_df.head()"
   ]
  },
  {
   "cell_type": "code",
   "execution_count": 19,
   "metadata": {},
   "outputs": [
    {
     "name": "stdout",
     "output_type": "stream",
     "text": [
      "1.0\n",
      "3.0\n",
      "1.0\n",
      "3.0\n",
      "3.0\n",
      "3.0\n",
      "1.0\n",
      "3.0\n",
      "0.0\n",
      "0.0\n",
      "3.0\n",
      "3.0\n",
      "0.0\n",
      "0.0\n",
      "2.0\n"
     ]
    }
   ],
   "source": [
    "for _, row in test_df.iterrows():\n",
    "    X =[row.mass, row.width, row.height, row.color_score]\n",
    "    payload = np.array(X)\n",
    "    response = predictor.predict(data=payload)\n",
    "    print(response.decode('utf-8'))"
   ]
  },
  {
   "cell_type": "markdown",
   "metadata": {},
   "source": [
    "### View captured data\n",
    "\n",
    "NOTE: Could take a minute here\n",
    "\n",
    "Now list the data capture files stored in Amazon S3. You should expect to see different files from different time periods organized based on the hour in which the invocation occurred. The format of the Amazon S3 path is:\n",
    "\n",
    "`s3://{destination-bucket-prefix}/{endpoint-name}/{variant-name}/yyyy/mm/dd/hh/filename.jsonl`"
   ]
  },
  {
   "cell_type": "code",
   "execution_count": 24,
   "metadata": {},
   "outputs": [
    {
     "data": {
      "text/plain": [
       "'classifier/model-monitor/datacapture/classifier-xgboost-model-monitor-2020-11-08-18-52-39'"
      ]
     },
     "execution_count": 24,
     "metadata": {},
     "output_type": "execute_result"
    }
   ],
   "source": [
    "s3_client = boto3.Session().client('s3')\n",
    "current_endpoint_capture_prefix = '{}/{}'.format(data_capture_prefix, endpoint_name)\n",
    "current_endpoint_capture_prefix"
   ]
  },
  {
   "cell_type": "code",
   "execution_count": 25,
   "metadata": {},
   "outputs": [
    {
     "data": {
      "text/plain": [
       "[{'Key': 'classifier/model-monitor/datacapture/classifier-xgboost-model-monitor-2020-11-08-18-52-39/AllTraffic/2020/11/08/19/00-57-540-5a21e6d7-30d7-4e5e-ab03-1aabdd5bda7d.jsonl',\n",
       "  'LastModified': datetime.datetime(2020, 11, 8, 19, 2, 5, tzinfo=tzlocal()),\n",
       "  'ETag': '\"ec48781edd77361c8c00830dd420454c\"',\n",
       "  'Size': 6326,\n",
       "  'StorageClass': 'STANDARD'}]"
      ]
     },
     "execution_count": 25,
     "metadata": {},
     "output_type": "execute_result"
    }
   ],
   "source": [
    "result = s3_client.list_objects(Bucket=bucket, Prefix=current_endpoint_capture_prefix)\n",
    "result.get('Contents')"
   ]
  },
  {
   "cell_type": "code",
   "execution_count": 26,
   "metadata": {},
   "outputs": [
    {
     "name": "stdout",
     "output_type": "stream",
     "text": [
      "Found Capture Files:\n",
      "classifier/model-monitor/datacapture/classifier-xgboost-model-monitor-2020-11-08-18-52-39/AllTraffic/2020/11/08/19/00-57-540-5a21e6d7-30d7-4e5e-ab03-1aabdd5bda7d.jsonl\n"
     ]
    }
   ],
   "source": [
    "capture_files = [capture_file.get(\"Key\") for capture_file in result.get('Contents')]\n",
    "print(\"Found Capture Files:\")\n",
    "print(\"\\n \".join(capture_files))"
   ]
  },
  {
   "cell_type": "markdown",
   "metadata": {},
   "source": [
    "Next, view the contents of a single capture file. Here you should see all the data captured in an Amazon SageMaker specific JSON-line formatted file. Take a quick peek at the first few lines in the captured file."
   ]
  },
  {
   "cell_type": "code",
   "execution_count": 27,
   "metadata": {},
   "outputs": [],
   "source": [
    "def get_obj_body(obj_key):\n",
    "    return s3_client.get_object(Bucket=bucket, Key=obj_key).get('Body').read().decode(\"utf-8\")"
   ]
  },
  {
   "cell_type": "code",
   "execution_count": 28,
   "metadata": {},
   "outputs": [
    {
     "data": {
      "text/plain": [
       "'{\"captureData\":{\"endpointInput\":{\"observedContentType\":\"text/csv\",\"mode\":\"INPUT\",\"data\":\"0.14285714285714285,0.058823529411764726,0.5384615384615385,0.38235294117647056\",\"encoding\":\"CSV\"},\"endpointOutput\":{\"observedContentType\":\"text/csv; charset=utf-8\",\"mode\":\"OUTPUT\",\"data\":\"1.0\",\"encoding\":\"CSV\"}},\"eventMetadata\":{\"eventId\":\"5b0ed505-4dbc-43ea-9caf-985c3385545d\",\"inferenceTime\":\"2020-11-08T19:00:57Z\"},\"eventVersion\":\"0\"}\\n{\"captureData\":{\"endpointInput\":{\"observedContentType\":\"text/csv\",\"mode\":\"INPUT\",\"data\":\"0.3714285714285714,0.5294117647058825,0.6461538461538461,0.5882352941176472\",\"encoding\":\"CSV\"},\"endpointOutput\":{\"observedContentType\":\"text/csv; charset=utf-8\",\"mode\":\"OUTPUT\",\"data\":\"3.0\",\"encoding\":\"CSV\"}},\"eventMetadata\":{\"eventId\":\"ab1c1739-7e89-4950-9d53-8f1c4286e132\",\"inferenceTime\":\"2020-11-08T19:00:57Z\"},\"eventVersion\":\"0\"}\\n{\"captureData\":{\"endpointInput\":{\"observedContentType\":\"text/csv\",\"mode\":\"INPUT\",\"data\":\"0.31428571428571433,0.4411764705882353,0.5692307692307692,0'"
      ]
     },
     "execution_count": 28,
     "metadata": {},
     "output_type": "execute_result"
    }
   ],
   "source": [
    "capture_file = get_obj_body(capture_files[-1])\n",
    "capture_file[:1000]"
   ]
  },
  {
   "cell_type": "markdown",
   "metadata": {},
   "source": [
    "Finally, the contents of a single line is present below in a formatted JSON file so that you can observe a little better."
   ]
  },
  {
   "cell_type": "code",
   "execution_count": 29,
   "metadata": {},
   "outputs": [
    {
     "name": "stdout",
     "output_type": "stream",
     "text": [
      "{\n",
      "  \"captureData\": {\n",
      "    \"endpointInput\": {\n",
      "      \"observedContentType\": \"text/csv\",\n",
      "      \"mode\": \"INPUT\",\n",
      "      \"data\": \"0.14285714285714285,0.058823529411764726,0.5384615384615385,0.38235294117647056\",\n",
      "      \"encoding\": \"CSV\"\n",
      "    },\n",
      "    \"endpointOutput\": {\n",
      "      \"observedContentType\": \"text/csv; charset=utf-8\",\n",
      "      \"mode\": \"OUTPUT\",\n",
      "      \"data\": \"1.0\",\n",
      "      \"encoding\": \"CSV\"\n",
      "    }\n",
      "  },\n",
      "  \"eventMetadata\": {\n",
      "    \"eventId\": \"5b0ed505-4dbc-43ea-9caf-985c3385545d\",\n",
      "    \"inferenceTime\": \"2020-11-08T19:00:57Z\"\n",
      "  },\n",
      "  \"eventVersion\": \"0\"\n",
      "}\n"
     ]
    }
   ],
   "source": [
    "print(json.dumps(json.loads(capture_file.split('\\n')[0]), indent=2))"
   ]
  },
  {
   "cell_type": "markdown",
   "metadata": {},
   "source": [
    "As you can see, each inference request is captured in one line in the jsonl file. The line contains both the input and output merged together. In the example, you provided the ContentType as `text/csv` which is reflected in the `observedContentType` value. Also, you expose the encoding that you used to encode the input and output payloads in the capture format with the `encoding` value.\n",
    "\n",
    "To recap, you observed how you can enable capturing the input or output payloads to an endpoint with a new parameter. You have also observed what the captured format looks like in Amazon S3. Next, continue to explore how Amazon SageMaker helps with monitoring the data collected in Amazon S3."
   ]
  },
  {
   "cell_type": "markdown",
   "metadata": {},
   "source": [
    "## Baseling & Continuous Monitoring"
   ]
  },
  {
   "cell_type": "markdown",
   "metadata": {},
   "source": [
    "In addition to collecting the data, Amazon SageMaker provides the capability for you to monitor and evaluate the data observed by the endpoints. For this:\n",
    "1. Create a baseline with which you compare the realtime traffic. \n",
    "1. Once a baseline is ready, setup a schedule to continously evaluate and compare against the baseline."
   ]
  },
  {
   "cell_type": "markdown",
   "metadata": {},
   "source": [
    "The training dataset with which you trained the model is usually a good baseline dataset. Note that the training dataset data schema and the inference dataset schema should exactly match (i.e. the number and order of the features).\n",
    "\n",
    "From the training dataset you can ask Amazon SageMaker to suggest a set of baseline `constraints` and generate descriptive `statistics` to explore the data. For this example, upload the training dataset that was used to train the pre-trained model included in this example. If you already have it in Amazon S3, you can directly point to it."
   ]
  },
  {
   "cell_type": "code",
   "execution_count": 30,
   "metadata": {},
   "outputs": [
    {
     "name": "stdout",
     "output_type": "stream",
     "text": [
      "Baseline data uri: s3://sagemaker-us-east-1-892313895307/classifier/model-monitor/baselining/data\n",
      "Baseline results uri: s3://sagemaker-us-east-1-892313895307/classifier/model-monitor/baselining/results\n"
     ]
    }
   ],
   "source": [
    "# copy over the training dataset to Amazon S3 (if you already have it in Amazon S3, you could reuse it)\n",
    "baseline_prefix = prefix + '/baselining'\n",
    "baseline_data_prefix = baseline_prefix + '/data'\n",
    "baseline_results_prefix = baseline_prefix + '/results'\n",
    "\n",
    "baseline_data_uri = 's3://{}/{}'.format(bucket,baseline_data_prefix)\n",
    "baseline_results_uri = 's3://{}/{}'.format(bucket, baseline_results_prefix)\n",
    "print('Baseline data uri: {}'.format(baseline_data_uri))\n",
    "print('Baseline results uri: {}'.format(baseline_results_uri))"
   ]
  },
  {
   "cell_type": "markdown",
   "metadata": {},
   "source": [
    "### Create a Baselining Job with Training Dataset"
   ]
  },
  {
   "cell_type": "code",
   "execution_count": 31,
   "metadata": {},
   "outputs": [],
   "source": [
    "from sagemaker.model_monitor.dataset_format import DatasetFormat\n",
    "from sagemaker.model_monitor import DefaultModelMonitor"
   ]
  },
  {
   "cell_type": "markdown",
   "metadata": {},
   "source": [
    "#### Upload Train Set to S3 as Baseline Data"
   ]
  },
  {
   "cell_type": "code",
   "execution_count": 32,
   "metadata": {},
   "outputs": [],
   "source": [
    "train_data = open('.././DATA/train/train_with_header.csv', 'rb')\n",
    "s3_key = os.path.join(baseline_prefix, 'data', 'train_with_header.csv')\n",
    "boto3.Session().resource('s3').Bucket(bucket).Object(s3_key).upload_fileobj(train_data)"
   ]
  },
  {
   "cell_type": "code",
   "execution_count": 33,
   "metadata": {},
   "outputs": [],
   "source": [
    "default_model_monitor = DefaultModelMonitor(\n",
    "                            role=role,\n",
    "                            instance_count=1,\n",
    "                            instance_type='ml.r5.xlarge',\n",
    "                            volume_size_in_gb=20,\n",
    "                            max_runtime_in_seconds=3600,\n",
    "                        )"
   ]
  },
  {
   "cell_type": "code",
   "execution_count": 34,
   "metadata": {},
   "outputs": [
    {
     "name": "stdout",
     "output_type": "stream",
     "text": [
      "\n",
      "Job Name:  baseline-suggestion-job-2020-11-08-19-04-14-270\n",
      "Inputs:  [{'InputName': 'baseline_dataset_input', 'S3Input': {'S3Uri': 's3://sagemaker-us-east-1-892313895307/classifier/model-monitor/baselining/data/train_with_header.csv', 'LocalPath': '/opt/ml/processing/input/baseline_dataset_input', 'S3DataType': 'S3Prefix', 'S3InputMode': 'File', 'S3DataDistributionType': 'FullyReplicated', 'S3CompressionType': 'None'}}]\n",
      "Outputs:  [{'OutputName': 'monitoring_output', 'S3Output': {'S3Uri': 's3://sagemaker-us-east-1-892313895307/classifier/model-monitor/baselining/results', 'LocalPath': '/opt/ml/processing/output', 'S3UploadMode': 'EndOfJob'}}]\n",
      ".......................\u001b[34m2020-11-08 19:07:55,625 - __main__ - INFO - All params:{'ProcessingJobArn': 'arn:aws:sagemaker:us-east-1:892313895307:processing-job/baseline-suggestion-job-2020-11-08-19-04-14-270', 'ProcessingJobName': 'baseline-suggestion-job-2020-11-08-19-04-14-270', 'Environment': {'dataset_format': '{\"csv\": {\"header\": true, \"output_columns_position\": \"START\"}}', 'dataset_source': '/opt/ml/processing/input/baseline_dataset_input', 'output_path': '/opt/ml/processing/output', 'publish_cloudwatch_metrics': 'Disabled'}, 'AppSpecification': {'ImageUri': '156813124566.dkr.ecr.us-east-1.amazonaws.com/sagemaker-model-monitor-analyzer', 'ContainerEntrypoint': None, 'ContainerArguments': None}, 'ProcessingInputs': [{'InputName': 'baseline_dataset_input', 'S3Input': {'LocalPath': '/opt/ml/processing/input/baseline_dataset_input', 'S3Uri': 's3://sagemaker-us-east-1-892313895307/classifier/model-monitor/baselining/data/train_with_header.csv', 'S3DataDistributionType': 'FullyReplicated', 'S3DataType': 'S3Prefix', 'S3InputMode': 'File', 'S3CompressionType': 'None', 'S3DownloadMode': 'StartOfJob'}}], 'ProcessingOutputConfig': {'Outputs': [{'OutputName': 'monitoring_output', 'S3Output': {'LocalPath': '/opt/ml/processing/output', 'S3Uri': 's3://sagemaker-us-east-1-892313895307/classifier/model-monitor/baselining/results', 'S3UploadMode': 'EndOfJob'}, 'FeatureStoreOutput': None}], 'KmsKeyId': None}, 'ProcessingResources': {'ClusterConfig': {'InstanceCount': 1, 'InstanceType': 'ml.r5.xlarge', 'VolumeSizeInGB': 20, 'VolumeKmsKeyId': None}}, 'RoleArn': 'arn:aws:iam::892313895307:role/service-role/AmazonSageMaker-ExecutionRole-20200827T161464', 'StoppingCondition': {'MaxRuntimeInSeconds': 3600}}\u001b[0m\n",
      "\u001b[34m2020-11-08 19:07:55,625 - __main__ - INFO - Current Environment:{'dataset_format': '{\"csv\": {\"header\": true, \"output_columns_position\": \"START\"}}', 'dataset_source': '/opt/ml/processing/input/baseline_dataset_input', 'output_path': '/opt/ml/processing/output', 'publish_cloudwatch_metrics': 'Disabled'}\u001b[0m\n",
      "\u001b[34m2020-11-08 19:07:55,625 - DefaultDataAnalyzer - INFO - Performing analysis with input: {\"dataset_source\": \"/opt/ml/processing/input/baseline_dataset_input\", \"dataset_format\": {\"csv\": {\"header\": true, \"output_columns_position\": \"START\"}}, \"record_preprocessor_script\": null, \"post_analytics_processor_script\": null, \"baseline_constraints\": null, \"baseline_statistics\": null, \"output_path\": \"/opt/ml/processing/output\", \"start_time\": null, \"end_time\": null, \"cloudwatch_metrics_directory\": \"/opt/ml/output/metrics/cloudwatch\", \"publish_cloudwatch_metrics\": \"Disabled\", \"sagemaker_endpoint_name\": null, \"sagemaker_monitoring_schedule_name\": null, \"output_message_file\": \"/opt/ml/output/message\"}\u001b[0m\n",
      "\u001b[34m2020-11-08 19:07:55,625 - DefaultDataAnalyzer - INFO - Bootstrapping yarn\u001b[0m\n",
      "\u001b[34m2020-11-08 19:07:55,625 - bootstrap - INFO - Copy aws jars\u001b[0m\n",
      "\u001b[34m2020-11-08 19:07:55,684 - bootstrap - INFO - Copy cluster config\u001b[0m\n",
      "\u001b[34m2020-11-08 19:07:55,685 - bootstrap - INFO - Write runtime cluster config\u001b[0m\n",
      "\u001b[34m2020-11-08 19:07:55,685 - bootstrap - INFO - Resource Config is: {'current_host': 'algo-1', 'hosts': ['algo-1']}\u001b[0m\n",
      "\u001b[34m2020-11-08 19:07:55,696 - bootstrap - INFO - Finished Yarn configuration files setup.\u001b[0m\n",
      "\u001b[34m2020-11-08 19:07:55,696 - bootstrap - INFO - Starting spark process for master node algo-1\u001b[0m\n",
      "\u001b[34m2020-11-08 19:07:55,696 - bootstrap - INFO - Running command: /usr/hadoop-3.0.0/bin/hdfs namenode -format -force\u001b[0m\n",
      "\u001b[34mWARNING: /usr/hadoop-3.0.0/logs does not exist. Creating.\u001b[0m\n",
      "\u001b[34m2020-11-08 19:07:56,175 INFO namenode.NameNode: STARTUP_MSG: \u001b[0m\n",
      "\u001b[34m/************************************************************\u001b[0m\n",
      "\u001b[34mSTARTUP_MSG: Starting NameNode\u001b[0m\n",
      "\u001b[34mSTARTUP_MSG:   host = algo-1/10.2.245.200\u001b[0m\n",
      "\u001b[34mSTARTUP_MSG:   args = [-format, -force]\u001b[0m\n",
      "\u001b[34mSTARTUP_MSG:   version = 3.0.0\u001b[0m\n",
      "\u001b[34mSTARTUP_MSG:   classpath = /usr/hadoop-3.0.0/etc/hadoop:/usr/hadoop-3.0.0/share/hadoop/common/lib/mockito-all-1.8.5.jar:/usr/hadoop-3.0.0/share/hadoop/common/lib/jetty-server-9.3.19.v20170502.jar:/usr/hadoop-3.0.0/share/hadoop/common/lib/asm-5.0.4.jar:/usr/hadoop-3.0.0/share/hadoop/common/lib/commons-lang3-3.4.jar:/usr/hadoop-3.0.0/share/hadoop/common/lib/accessors-smart-1.2.jar:/usr/hadoop-3.0.0/share/hadoop/common/lib/kerb-admin-1.0.1.jar:/usr/hadoop-3.0.0/share/hadoop/common/lib/jetty-http-9.3.19.v20170502.jar:/usr/hadoop-3.0.0/share/hadoop/common/lib/jetty-webapp-9.3.19.v20170502.jar:/usr/hadoop-3.0.0/share/hadoop/common/lib/gson-2.2.4.jar:/usr/hadoop-3.0.0/share/hadoop/common/lib/jackson-mapper-asl-1.9.13.jar:/usr/hadoop-3.0.0/share/hadoop/common/lib/commons-beanutils-1.9.3.jar:/usr/hadoop-3.0.0/share/hadoop/common/lib/jettison-1.1.jar:/usr/hadoop-3.0.0/share/hadoop/common/lib/curator-recipes-2.12.0.jar:/usr/hadoop-3.0.0/share/hadoop/common/lib/httpcore-4.4.4.jar:/usr/hadoop-3.0.0/share/hadoop/common/lib/kerby-util-1.0.1.jar:/usr/hadoop-3.0.0/share/hadoop/common/lib/curator-framework-2.12.0.jar:/usr/hadoop-3.0.0/share/hadoop/common/lib/avro-1.7.7.jar:/usr/hadoop-3.0.0/share/hadoop/common/lib/jetty-xml-9.3.19.v20170502.jar:/usr/hadoop-3.0.0/share/hadoop/common/lib/kerb-util-1.0.1.jar:/usr/hadoop-3.0.0/share/hadoop/common/lib/paranamer-2.3.jar:/usr/hadoop-3.0.0/share/hadoop/common/lib/jetty-security-9.3.19.v20170502.jar:/usr/hadoop-3.0.0/share/hadoop/common/lib/commons-compress-1.4.1.jar:/usr/hadoop-3.0.0/share/hadoop/common/lib/curator-client-2.12.0.jar:/usr/hadoop-3.0.0/share/hadoop/common/lib/woodstox-core-5.0.3.jar:/usr/hadoop-3.0.0/share/hadoop/common/lib/jetty-io-9.3.19.v20170502.jar:/usr/hadoop-3.0.0/share/hadoop/common/lib/commons-cli-1.2.jar:/usr/hadoop-3.0.0/share/hadoop/common/lib/protobuf-java-2.5.0.jar:/usr/hadoop-3.0.0/share/hadoop/common/lib/slf4j-log4j12-1.7.25.jar:/usr/hadoop-3.0.0/share/hadoop/common/lib/jetty-util-9.3.19.v20170502.jar:/usr/hadoop-3.0.0/share/hadoop/common/lib/jackson-core-asl-1.9.13.jar:/usr/hadoop-3.0.0/share/hadoop/common/lib/re2j-1.1.jar:/usr/hadoop-3.0.0/share/hadoop/common/lib/kerb-server-1.0.1.jar:/usr/hadoop-3.0.0/share/hadoop/common/lib/hadoop-auth-3.0.0.jar:/usr/hadoop-3.0.0/share/hadoop/common/lib/kerby-config-1.0.1.jar:/usr/hadoop-3.0.0/share/hadoop/common/lib/guava-11.0.2.jar:/usr/hadoop-3.0.0/share/hadoop/common/lib/hamcrest-core-1.3.jar:/usr/hadoop-3.0.0/share/hadoop/common/lib/kerb-core-1.0.1.jar:/usr/hadoop-3.0.0/share/hadoop/common/lib/jackson-jaxrs-1.9.13.jar:/usr/hadoop-3.0.0/share/hadoop/common/lib/stax2-api-3.1.4.jar:/usr/hadoop-3.0.0/share/hadoop/common/lib/commons-io-2.4.jar:/usr/hadoop-3.0.0/share/hadoop/common/lib/json-smart-2.3.jar:/usr/hadoop-3.0.0/share/hadoop/common/lib/jsch-0.1.54.jar:/usr/hadoop-3.0.0/share/hadoop/common/lib/token-provider-1.0.1.jar:/usr/hadoop-3.0.0/share/hadoop/common/lib/jackson-xc-1.9.13.jar:/usr/hadoop-3.0.0/share/hadoop/common/lib/netty-3.10.5.Final.jar:/usr/hadoop-3.0.0/share/hadoop/common/lib/zookeeper-3.4.9.jar:/usr/hadoop-3.0.0/share/hadoop/common/lib/jersey-servlet-1.19.jar:/usr/hadoop-3.0.0/share/hadoop/common/lib/junit-4.11.jar:/usr/hadoop-3.0.0/share/hadoop/common/lib/commons-lang-2.6.jar:/usr/hadoop-3.0.0/share/hadoop/common/lib/jaxb-impl-2.2.3-1.jar:/usr/hadoop-3.0.0/share/hadoop/common/lib/jackson-core-2.7.8.jar:/usr/hadoop-3.0.0/share/hadoop/common/lib/kerby-pkix-1.0.1.jar:/usr/hadoop-3.0.0/share/hadoop/common/lib/jackson-annotations-2.7.8.jar:/usr/hadoop-3.0.0/share/hadoop/common/lib/commons-logging-1.1.3.jar:/usr/hadoop-3.0.0/share/hadoop/common/lib/kerby-asn1-1.0.1.jar:/usr/hadoop-3.0.0/share/hadoop/common/lib/jaxb-api-2.2.11.jar:/usr/hadoop-3.0.0/share/hadoop/common/lib/commons-net-3.1.jar:/usr/hadoop-3.0.0/share/hadoop/common/lib/snappy-java-1.0.5.jar:/usr/hadoop-3.0.0/share/hadoop/common/lib/jackson-databind-2.7.8.jar:/usr/hadoop-3.0.0/share/hadoop/common/lib/htrace-core4-4.1.0-incubating.jar:/usr/hadoop-3.0.0/share/hadoop/common/lib/httpclient-4.5.2.jar:/usr/hadoop-3.0.0/share/hadoop/common/lib/commons-codec-1.4.jar:/usr/hadoop-3.0.0/share/hadoop/common/lib/kerb-common-1.0.1.jar:/usr/hadoop-3.0.0/share/hadoop/common/lib/hadoop-annotations-3.0.0.jar:/usr/hadoop-3.0.0/share/hadoop/common/lib/jersey-core-1.19.jar:/usr/hadoop-3.0.0/share/hadoop/common/lib/jsp-api-2.1.jar:/usr/hadoop-3.0.0/share/hadoop/common/lib/jsr311-api-1.1.1.jar:/usr/hadoop-3.0.0/share/hadoop/common/lib/jersey-server-1.19.jar:/usr/hadoop-3.0.0/share/hadoop/common/lib/xz-1.0.jar:/usr/hadoop-3.0.0/share/hadoop/common/lib/commons-collections-3.2.2.jar:/usr/hadoop-3.0.0/share/hadoop/common/lib/kerb-identity-1.0.1.jar:/usr/hadoop-3.0.0/share/hadoop/common/lib/kerby-xdr-1.0.1.jar:/usr/hadoop-3.0.0/share/hadoop/common/lib/kerb-client-1.0.1.jar:/usr/hadoop-3.0.0/share/hadoop/common/lib/jul-to-slf4j-1.7.25.jar:/usr/hadoop-3.0.0/share/hadoop/common/lib/kerb-crypto-1.0.1.jar:/usr/hadoop-3.0.0/share/hadoop/common/lib/nimbus-jose-jwt-4.41.1.jar:/usr/hadoop-3.0.0/share/hadoop/common/lib/jcip-annotations-1.0-1.jar:/usr/hadoop-3.0.0/share/hadoop/common/lib/jsr305-3.0.0.jar:/usr/hadoop-3.0.0/share/hadoop/common/lib/log4j-1.2.17.jar:/usr/hadoop-3.0.0/share/hadoop/common/lib/jersey-json-1.19.jar:/usr/hadoop-3.0.0/share/hadoop/common/lib/jetty-servlet-9.3.19.v20170502.jar:/usr/hadoop-3.0.0/share/hadoop/common/lib/metrics-core-3.0.1.jar:/usr/hadoop-3.0.0/share/hadoop/common/lib/javax.servlet-api-3.1.0.jar:/usr/hadoop-3.0.0/share/hadoop/common/lib/kerb-simplekdc-1.0.1.jar:/usr/hadoop-3.0.0/share/hadoop/common/lib/slf4j-api-1.7.25.jar:/usr/hadoop-3.0.0/share/hadoop/common/lib/commons-math3-3.1.1.jar:/usr/hadoop-3.0.0/share/hadoop/common/lib/commons-configuration2-2.1.1.jar:/usr/hadoop-3.0.0/share/hadoop/common/lib/aws-java-sdk-bundle-1.11.199.jar:/usr/hadoop-3.0.0/share/hadoop/common/lib/hadoop-aws-3.0.0.jar:/usr/hadoop-3.0.0/share/hadoop/common/hadoop-common-3.0.0-tests.jar:/usr/hadoop-3.0.0/share/hadoop/common/hadoop-common-3.0.0.jar:/usr/hadoop-3.0.0/share/hadoop/common/hadoop-nfs-3.0.0.jar:/usr/hadoop-3.0.0/share/hadoop/common/hadoop-kms-3.0.0.jar:/usr/hadoop-3.0.0/share/hadoop/hdfs:/usr/hadoop-3.0.0/share/hadoop/hdfs/lib/leveldbjni-all-1.8.jar:/usr/hadoop-3.0.0/share/hadoop/hdfs/lib/jetty-server-9.3.19.v20170502.jar:/usr/hadoop-3.0.0/share/hadoop/hdfs/lib/asm-5.0.4.jar:/usr/hadoop-3.0.0/share/hadoop/hdfs/lib/commons-lang3-3.4.jar:/usr/hadoop-3.0.0/share/hadoop/hdfs/lib/accessors-smart-1.2.jar:/usr/hadoop-3.0.0/share/hadoop/hdfs/lib/kerb-admin-1.0.1.jar:/usr/hadoop-3.0.0/share/hadoop/hdfs/lib/jetty-http-9.3.19.v20170502.jar:/usr/hadoop-3.0.0/share/hadoop/hdfs/lib/jetty-webapp-9.3.19.v20170502.jar:/usr/hadoop-3.0.0/share/hadoop/hdfs/lib/gson-2.2.4.jar:/usr/hadoop-3.0.0/share/hadoop/hdfs/lib/jackson-mapper-asl-1.9.13.jar:/usr/hadoop-3.0.0/share/hadoop/hdfs/lib/commons-beanutils-1.9.3.jar:/usr/hadoop-3.0.0/share/hadoop/hdfs/lib/jettison-1.1.jar:/usr/hadoop-3.0.0/share/hadoop/hdfs/lib/curator-recipes-2.12.0.jar:/usr/hadoop-3.0.0/share/hadoop/hdfs/lib/httpcore-4.4.4.jar:/usr/hadoop-3.0.0/share/hadoop/hdfs/lib/kerby-util-1.0.1.jar:/usr/hadoop-3.0.0/share/hadoop/hdfs/lib/curator-framework-2.12.0.jar:/usr/hadoop-3.0.0/share/hadoop/hdfs/lib/avro-1.7.7.jar:/usr/hadoop-3.0.0/share/hadoop/hdfs/lib/jetty-xml-9.3.19.v20170502.jar:/usr/hadoop-3.0.0/share/hadoop/hdfs/lib/kerb-util-1.0.1.jar:/usr/hadoop-3.0.0/share/hadoop/hdfs/lib/paranamer-2.3.jar:/usr/hadoop-3.0.0/share/hadoop/hdfs/lib/jetty-security-9.3.19.v20170502.jar:/usr/hadoop-3.0.0/share/hadoop/hdfs/lib/commons-compress-1.4.1.jar:/usr/hadoop-3.0.0/share/hadoop/hdfs/lib/curator-client-2.12.0.jar:/usr/hadoop-3.0.0/share/hadoop/hdfs/lib/woodstox-core-5.0.3.jar:/usr/hadoop-3.0.0/share/hadoop/hdfs/lib/jetty-io-9.3.19.v20170502.jar:/usr/hadoop-3.0.0/share/hadoop/hdfs/lib/commons-cli-1.2.jar:/usr/hadoop-3.0.0/share/hadoop/hdfs/lib/protobuf-java-2.5.0.jar:/usr/hadoop-3.0.0/share/hadoop/hdfs/lib/commons-daemon-1.0.13.jar:/usr/hadoop-3.0.0/share/hadoop/hdfs/lib/jetty-util-9.3.19.v20170502.jar:/usr/hadoop-3.0.0/share/hadoop/hdfs/lib/jackson-core-asl-1.9.13.jar:/usr/hadoop-3.0.0/share/hadoop/hdfs/lib/re2j-1.1.jar:/usr/hadoop-3.0.0/share/hadoop/hdfs/lib/kerb-server-1.0.1.jar:/usr/hadoop-3.0.0/share/hadoop/hdfs/lib/hadoop-auth-3.0.0.jar:/usr/hadoop-3.0.0/share/hadoop/hdfs/lib/kerby-config-1.0.1.jar:/usr/hadoop-3.0.0/share/hadoop/hdfs/lib/guava-11.0.2.jar:/usr/hadoop-3.0.0/share/hadoop/hdfs/lib/kerb-core-1.0.1.jar:/usr/hadoop-3.0.0/share/hadoop/hdfs/lib/jackson-jaxrs-1.9.13.jar:/usr/hadoop-3.0.0/share/hadoop/hdfs/lib/stax2-api-3.1.4.jar:/usr/hadoop-3.0.0/share/hadoop/hdfs/lib/commons-io-2.4.jar:/usr/hadoop-3.0.0/share/hadoop/hdfs/lib/json-smart-2.3.jar:/usr/hadoop-3.0.0/share/hadoop/hdfs/lib/jsch-0.1.54.jar:/usr/hadoop-3.0.0/share/hadoop/hdfs/lib/token-provider-1.0.1.jar:/usr/hadoop-3.0.0/share/hadoop/hdfs/lib/jackson-xc-1.9.13.jar:/usr/hadoop-3.0.0/share/hadoop/hdfs/lib/netty-3.10.5.Final.jar:/usr/hadoop-3.0.0/share/hadoop/hdfs/lib/zookeeper-3.4.9.jar:/usr/hadoop-3.0.0/share/hadoop/hdfs/lib/jersey-servlet-1.19.jar:/usr/hadoop-3.0.0/share/hadoop/hdfs/lib/commons-lang-2.6.jar:/usr/hadoop-3.0.0/share/hadoop/hdfs/lib/jaxb-impl-2.2.3-1.jar:/usr/hadoop-3.0.0/share/hadoop/hdfs/lib/jetty-util-ajax-9.3.19.v20170502.jar:/usr/hadoop-3.0.0/share/hadoop/hdfs/lib/jackson-core-2.7.8.jar:/usr/hadoop-3.0.0/share/hadoop/hdfs/lib/kerby-pkix-1.0.1.jar:/usr/hadoop-3.0.0/share/hadoop/hdfs/lib/jackson-annotations-2.7.8.jar:/usr/hadoop-3.0.0/share/hadoop/hdfs/lib/commons-logging-1.1.3.jar:/usr/hadoop-3.0.0/share/hadoop/hdfs/lib/kerby-asn1-1.0.1.jar:/usr/hadoop-3.0.0/share/hadoop/hdfs/lib/jaxb-api-2.2.11.jar:/usr/hadoop-3.0.0/share/hadoop/hdfs/lib/commons-net-3.1.jar:/usr/hadoop-3.0.0/share/hadoop/hdfs/lib/snappy-java-1.0.5.jar:/usr/hadoop-3.0.0/share/hadoop/hdfs/lib/jackson-databind-2.7.8.jar:/usr/hadoop-3.0.0/share/hadoop/hdfs/lib/htrace-core4-4.1.0-incubating.jar:/usr/hadoop-3.0.0/share/hadoop/hdfs/lib/httpclient-4.5.2.jar:/usr/hadoop-3.0.0/share/hadoop/hdfs/lib/commons-codec-1.4.jar:/usr/hadoop-3.0.0/share/hadoop/hdfs/lib/kerb-common-1.0.1.jar:/usr/hadoop-3.0.0/share/hadoop/hdfs/lib/hadoop-annotations-3.0.0.jar:/usr/hadoop-3.0.0/share/hadoop/hdfs/lib/jersey-core-1.19.jar:/usr/hadoop-3.0.0/share/hadoop/hdfs/lib/jsr311-api-1.1.1.jar:/usr/hadoop-3.0.0/share/hadoop/hdfs/lib/json-simple-1.1.1.jar:/usr/hadoop-3.0.0/share/hadoop/hdfs/lib/jersey-server-1.19.jar:/usr/hadoop-3.0.0/share/hadoop/hdfs/lib/xz-1.0.jar:/usr/hadoop-3.0.0/share/hadoop/hdfs/lib/commons-collections-3.2.2.jar:/usr/hadoop-3.0.0/share/hadoop/hdfs/lib/okhttp-2.4.0.jar:/usr/hadoop-3.0.0/share/hadoop/hdfs/lib/kerb-identity-1.0.1.jar:/usr/hadoop-3.0.0/share/hadoop/hdfs/lib/kerby-xdr-1.0.1.jar:/usr/hadoop-3.0.0/share/hadoop/hdfs/lib/netty-all-4.0.23.Final.jar:/usr/hadoop-3.0.0/share/hadoop/hdfs/lib/kerb-client-1.0.1.jar:/usr/hadoop-3.0.0/share/hadoop/hdfs/lib/kerb-crypto-1.0.1.jar:/usr/hadoop-3.0.0/share/hadoop/hdfs/lib/nimbus-jose-jwt-4.41.1.jar:/usr/hadoop-3.0.0/share/hadoop/hdfs/lib/jcip-annotations-1.0-1.jar:/usr/hadoop-3.0.0/share/hadoop/hdfs/lib/okio-1.4.0.jar:/usr/hadoop-3.0.0/share/hadoop/hdfs/lib/jsr305-3.0.0.jar:/usr/hadoop-3.0.0/share/hadoop/hdfs/lib/log4j-1.2.17.jar:/usr/hadoop-3.0.0/share/hadoop/hdfs/lib/jersey-json-1.19.jar:/usr/hadoop-3.0.0/share/hadoop/hdfs/lib/jetty-servlet-9.3.19.v20170502.jar:/usr/hadoop-3.0.0/share/hadoop/hdfs/lib/javax.servlet-api-3.1.0.jar:/usr/hadoop-3.0.0/share/hadoop/hdfs/lib/kerb-simplekdc-1.0.1.jar:/usr/hadoop-3.0.0/share/hadoop/hdfs/lib/commons-math3-3.1.1.jar:/usr/hadoop-3.0.0/share/hadoop/hdfs/lib/commons-configuration2-2.1.1.jar:/usr/hadoop-3.0.0/share/hadoop/hdfs/hadoop-hdfs-3.0.0-tests.jar:/usr/hadoop-3.0.0/share/hadoop/hdfs/hadoop-hdfs-native-client-3.0.0-tests.jar:/usr/hadoop-3.0.0/share/hadoop/hdfs/hadoop-hdfs-httpfs-3.0.0.jar:/usr/hadoop-3.0.0/share/hadoop/hdfs/hadoop-hdfs-3.0.0.jar:/usr/hadoop-3.0.0/share/hadoop/hdfs/hadoop-hdfs-client-3.0.0.jar:/usr/hadoop-3.0.0/share/hadoop/hdfs/hadoop-hdfs-native-client-3.0.0.jar:/usr/hadoop-3.0.0/share/hadoop/hdfs/hadoop-hdfs-client-3.0.0-tests.jar:/usr/hadoop-3.0.0/share/hadoop/hdfs/hadoop-hdfs-nfs-3.0.0.jar:/usr/hadoop-3.0.0/share/hadoop/mapreduce/hadoop-mapreduce-client-shuffle-3.0.0.jar:/usr/hadoop-3.0.0/share/hadoop/mapreduce/hadoop-mapreduce-client-app-3.0.0.jar:/usr/hadoop-3.0.0/share/hadoop/mapreduce/hadoop-mapreduce-client-core-3.0.0.jar:/usr/hadoop-3.0.0/share/hadoop/mapreduce/hadoop-mapreduce-examples-3.0.0.jar:/usr/hadoop-3.0.0/share/hadoop/mapreduce/hadoop-mapreduce-client-jobclient-3.0.0.jar:/usr/hadoop-3.0.0/share/hadoop/mapreduce/hadoop-mapreduce-client-hs-3.0.0.jar:/usr/hadoop-3.0.0/share/hadoop/mapreduce/hadoop-mapreduce-client-hs-plugins-3.0.0.jar:/usr/hadoop-3.0.0/share/hadoop/mapreduce/hadoop-mapreduce-client-nativetask-3.0.0.jar:/usr/hadoop-3.0.0/share/hadoop/mapreduce/hadoop-mapreduce-client-jobclient-3.0.0-tests.jar:/usr/hadoop-3.0.0/share/hadoop/mapreduce/hadoop-mapreduce-client-common-3.0.0.jar:/usr/hadoop-3.0.0/share/hadoop/yarn:/usr/hadoop-3.0.0/share/hadoop/yarn/lib/jackson-jaxrs-base-2.7.8.jar:/usr/hadoop-3.0.0/share/hadoop/yarn/lib/disruptor-3.3.0.jar:/usr/hadoop-3.0.0/share/hadoop/yarn/lib/hbase-client-1.2.6.jar:/usr/hadoop-3.0.0/share/hadoop/yarn/lib/metrics-core-2.2.0.jar:/usr/hadoop-3.0.0/share/hadoop/yarn/lib/jsp-2.1-6.1.14.jar:/usr/hadoop-3.0.0/share/hadoop/yarn/lib/commons-el-1.0.jar:/usr/hadoop-3.0.0/share/hadoop/yarn/lib/java-util-1.9.0.jar:/usr/hadoop-3.0.0/share/hadoop/yarn/lib/jsp-api-2.1-6.1.14.jar:/usr/hadoop-3.0.0/share/hadoop/yarn/lib/hbase-prefix-tree-1.2.6.jar:/usr/hadoop-3.0.0/share/hadoop/yarn/lib/commons-math-2.2.jar:/usr/hadoop-3.0.0/share/hadoop/yarn/lib/commons-csv-1.0.jar:/usr/hadoop-3.0.0/share/hadoop/yarn/lib/jamon-runtime-2.4.1.jar:/usr/hadoop-3.0.0/share/hadoop/yarn/lib/hbase-hadoop2-compat-1.2.6.jar:/usr/hadoop-3.0.0/share/hadoop/yarn/lib/jasper-compiler-5.5.23.jar:/usr/hadoop-3.0.0/share/hadoop/yarn/lib/jcodings-1.0.8.jar:/usr/hadoop-3.0.0/share/hadoop/yarn/lib/htrace-core-3.1.0-incubating.jar:/usr/hadoop-3.0.0/share/hadoop/yarn/lib/hbase-hadoop-compat-1.2.6.jar:/usr/hadoop-3.0.0/share/hadoop/yarn/lib/hbase-common-1.2.6.jar:/usr/hadoop-3.0.0/share/hadoop/yarn/lib/hbase-server-1.2.6.jar:/usr/hadoop-3.0.0/share/hadoop/yarn/lib/json-io-2.5.1.jar:/usr/hadoop-3.0.0/share/hadoop/yarn/lib/javax.inject-1.jar:/usr/hadoop-3.0.0/share/hadoop/yarn/lib/fst-2.50.jar:/usr/hadoop-3.0.0/share/hadoop/yarn/lib/aopalliance-1.0.jar:/usr/hadoop-3.0.0/share/hadoop/yarn/lib/jackson-module-jaxb-annotations-2.7.8.jar:/usr/hadoop-3.0.0/share/hadoop/yarn/lib/jersey-client-1.19.jar:/usr/hadoop-3.0.0/share/hadoop/yarn/lib/hbase-protocol-1.2.6.jar:/usr/hadoop-3.0.0/share/hadoop/yarn/lib/guice-4.0.jar:/usr/hadoop-3.0.0/share/hadoop/yarn/lib/HikariCP-java7-2.4.12.jar:/usr/hadoop-3.0.0/share/hadoop/yarn/lib/geronimo-jcache_1.0_spec-1.0-alpha-1.jar:/usr/hadoop-3.0.0/share/hadoop/yarn/lib/hbase-annotations-1.2.6.jar:/usr/hadoop-3.0.0/share/hadoop/yarn/lib/jersey-guice-1.19.jar:/usr/hadoop-3.0.0/share/hadoop/yarn/lib/jasper-runtime-5.5.23.jar:/usr/hadoop-3.0.0/share/hadoop/yarn/lib/joni-2.1.2.jar:/usr/hadoop-3.0.0/share/hadoop/yarn/lib/commons-httpclient-3.1.jar:/usr/hadoop-3.0.0/share/hadoop/yarn/lib/guice-servlet-4.0.jar:/usr/hadoop-3.0.0/share/hadoop/yarn/lib/findbugs-annotations-1.3.9-1.jar:/usr/hadoop-3.0.0/share/hadoop/yarn/lib/hbase-procedure-1.2.6.jar:/usr/hadoop-3.0.0/share/hadoop/yarn/lib/jackson-jaxrs-json-provider-2.7.8.jar:/usr/hadoop-3.0.0/share/hadoop/yarn/lib/mssql-jdbc-6.2.1.jre7.jar:/usr/hadoop-3.0.0/share/hadoop/yarn/lib/servlet-api-2.5-6.1.14.jar:/usr/hadoop-3.0.0/share/hadoop/yarn/lib/metrics-core-3.0.1.jar:/usr/hadoop-3.0.0/share/hadoop/yarn/lib/ehcache-3.3.1.jar:/usr/hadoop-3.0.0/share/hadoop/yarn/hadoop-yarn-server-router-3.0.0.jar:/usr/hadoop-3.0.0/share/hadoop/yarn/hadoop-yarn-server-timeline-pluginstorage-3.0.0.jar:/usr/hadoop-3.0.0/share/hadoop/yarn/hadoop-yarn-applications-unmanaged-am-launcher-3.0.0.jar:/usr/hadoop-3.0.0/share/hadoop/yarn/hadoop-yarn-server-common-3.0.0.jar:/usr/hadoop-3.0.0/share/hadoop/yarn/hadoop-yarn-server-sharedcachemanager-3.0.0.jar:/usr/hadoop-3.0.0/share/hadoop/yarn/hadoop-yarn-server-resourcemanager-3.0.0.jar:/usr/hadoop-3.0.0/share/hadoop/yarn/hadoop-yarn-server-nodemanager-3.0.0.jar:/usr/hadoop-3.0.0/share/hadoop/yarn/hadoop-yarn-server-timelineservice-hbase-3.0.0.jar:/usr\u001b[0m\n",
      "\u001b[34m/hadoop-3.0.0/share/hadoop/yarn/hadoop-yarn-server-tests-3.0.0.jar:/usr/hadoop-3.0.0/share/hadoop/yarn/hadoop-yarn-server-timelineservice-hbase-tests-3.0.0.jar:/usr/hadoop-3.0.0/share/hadoop/yarn/hadoop-yarn-common-3.0.0.jar:/usr/hadoop-3.0.0/share/hadoop/yarn/hadoop-yarn-api-3.0.0.jar:/usr/hadoop-3.0.0/share/hadoop/yarn/hadoop-yarn-applications-distributedshell-3.0.0.jar:/usr/hadoop-3.0.0/share/hadoop/yarn/hadoop-yarn-registry-3.0.0.jar:/usr/hadoop-3.0.0/share/hadoop/yarn/hadoop-yarn-client-3.0.0.jar:/usr/hadoop-3.0.0/share/hadoop/yarn/hadoop-yarn-server-applicationhistoryservice-3.0.0.jar:/usr/hadoop-3.0.0/share/hadoop/yarn/hadoop-yarn-server-timelineservice-3.0.0.jar:/usr/hadoop-3.0.0/share/hadoop/yarn/hadoop-yarn-server-web-proxy-3.0.0.jar\u001b[0m\n",
      "\u001b[34mSTARTUP_MSG:   build = https://git-wip-us.apache.org/repos/asf/hadoop.git -r c25427ceca461ee979d30edd7a4b0f50718e6533; compiled by 'andrew' on 2017-12-08T19:16Z\u001b[0m\n",
      "\u001b[34mSTARTUP_MSG:   java = 1.8.0_265\u001b[0m\n",
      "\u001b[34m************************************************************/\u001b[0m\n",
      "\u001b[34m2020-11-08 19:07:56,185 INFO namenode.NameNode: registered UNIX signal handlers for [TERM, HUP, INT]\u001b[0m\n",
      "\u001b[34m2020-11-08 19:07:56,190 INFO namenode.NameNode: createNameNode [-format, -force]\u001b[0m\n",
      "\u001b[34mFormatting using clusterid: CID-7251fa70-0401-4c0c-89e2-f413acb09b3b\u001b[0m\n",
      "\u001b[34m2020-11-08 19:07:56,665 INFO namenode.FSEditLog: Edit logging is async:true\u001b[0m\n",
      "\u001b[34m2020-11-08 19:07:56,677 INFO namenode.FSNamesystem: KeyProvider: null\u001b[0m\n",
      "\u001b[34m2020-11-08 19:07:56,679 INFO namenode.FSNamesystem: fsLock is fair: true\u001b[0m\n",
      "\u001b[34m2020-11-08 19:07:56,681 INFO namenode.FSNamesystem: Detailed lock hold time metrics enabled: false\u001b[0m\n",
      "\u001b[34m2020-11-08 19:07:56,686 INFO namenode.FSNamesystem: fsOwner             = root (auth:SIMPLE)\u001b[0m\n",
      "\u001b[34m2020-11-08 19:07:56,686 INFO namenode.FSNamesystem: supergroup          = supergroup\u001b[0m\n",
      "\u001b[34m2020-11-08 19:07:56,686 INFO namenode.FSNamesystem: isPermissionEnabled = true\u001b[0m\n",
      "\u001b[34m2020-11-08 19:07:56,686 INFO namenode.FSNamesystem: HA Enabled: false\u001b[0m\n",
      "\u001b[34m2020-11-08 19:07:56,723 INFO common.Util: dfs.datanode.fileio.profiling.sampling.percentage set to 0. Disabling file IO profiling\u001b[0m\n",
      "\u001b[34m2020-11-08 19:07:56,734 INFO blockmanagement.DatanodeManager: dfs.block.invalidate.limit: configured=1000, counted=60, effected=1000\u001b[0m\n",
      "\u001b[34m2020-11-08 19:07:56,735 INFO blockmanagement.DatanodeManager: dfs.namenode.datanode.registration.ip-hostname-check=true\u001b[0m\n",
      "\u001b[34m2020-11-08 19:07:56,742 INFO blockmanagement.BlockManager: dfs.namenode.startup.delay.block.deletion.sec is set to 000:00:00:00.000\u001b[0m\n",
      "\u001b[34m2020-11-08 19:07:56,742 INFO blockmanagement.BlockManager: The block deletion will start around 2020 Nov 08 19:07:56\u001b[0m\n",
      "\u001b[34m2020-11-08 19:07:56,744 INFO util.GSet: Computing capacity for map BlocksMap\u001b[0m\n",
      "\u001b[34m2020-11-08 19:07:56,744 INFO util.GSet: VM type       = 64-bit\u001b[0m\n",
      "\u001b[34m2020-11-08 19:07:56,745 INFO util.GSet: 2.0% max memory 6.7 GB = 136.4 MB\u001b[0m\n",
      "\u001b[34m2020-11-08 19:07:56,745 INFO util.GSet: capacity      = 2^24 = 16777216 entries\u001b[0m\n",
      "\u001b[34m2020-11-08 19:07:56,800 INFO blockmanagement.BlockManager: dfs.block.access.token.enable = false\u001b[0m\n",
      "\u001b[34m2020-11-08 19:07:56,804 INFO Configuration.deprecation: No unit for dfs.namenode.safemode.extension(30000) assuming MILLISECONDS\u001b[0m\n",
      "\u001b[34m2020-11-08 19:07:56,804 INFO blockmanagement.BlockManagerSafeMode: dfs.namenode.safemode.threshold-pct = 0.9990000128746033\u001b[0m\n",
      "\u001b[34m2020-11-08 19:07:56,804 INFO blockmanagement.BlockManagerSafeMode: dfs.namenode.safemode.min.datanodes = 0\u001b[0m\n",
      "\u001b[34m2020-11-08 19:07:56,804 INFO blockmanagement.BlockManagerSafeMode: dfs.namenode.safemode.extension = 30000\u001b[0m\n",
      "\u001b[34m2020-11-08 19:07:56,804 INFO blockmanagement.BlockManager: defaultReplication         = 3\u001b[0m\n",
      "\u001b[34m2020-11-08 19:07:56,804 INFO blockmanagement.BlockManager: maxReplication             = 512\u001b[0m\n",
      "\u001b[34m2020-11-08 19:07:56,805 INFO blockmanagement.BlockManager: minReplication             = 1\u001b[0m\n",
      "\u001b[34m2020-11-08 19:07:56,805 INFO blockmanagement.BlockManager: maxReplicationStreams      = 2\u001b[0m\n",
      "\u001b[34m2020-11-08 19:07:56,805 INFO blockmanagement.BlockManager: redundancyRecheckInterval  = 3000ms\u001b[0m\n",
      "\u001b[34m2020-11-08 19:07:56,805 INFO blockmanagement.BlockManager: encryptDataTransfer        = false\u001b[0m\n",
      "\u001b[34m2020-11-08 19:07:56,805 INFO blockmanagement.BlockManager: maxNumBlocksToLog          = 1000\u001b[0m\n",
      "\u001b[34m2020-11-08 19:07:56,840 INFO util.GSet: Computing capacity for map INodeMap\u001b[0m\n",
      "\u001b[34m2020-11-08 19:07:56,840 INFO util.GSet: VM type       = 64-bit\u001b[0m\n",
      "\u001b[34m2020-11-08 19:07:56,841 INFO util.GSet: 1.0% max memory 6.7 GB = 68.2 MB\u001b[0m\n",
      "\u001b[34m2020-11-08 19:07:56,841 INFO util.GSet: capacity      = 2^23 = 8388608 entries\u001b[0m\n",
      "\u001b[34m2020-11-08 19:07:56,858 INFO namenode.FSDirectory: ACLs enabled? false\u001b[0m\n",
      "\u001b[34m2020-11-08 19:07:56,858 INFO namenode.FSDirectory: POSIX ACL inheritance enabled? true\u001b[0m\n",
      "\u001b[34m2020-11-08 19:07:56,858 INFO namenode.FSDirectory: XAttrs enabled? true\u001b[0m\n",
      "\u001b[34m2020-11-08 19:07:56,858 INFO namenode.NameNode: Caching file names occurring more than 10 times\u001b[0m\n",
      "\u001b[34m2020-11-08 19:07:56,863 INFO snapshot.SnapshotManager: Loaded config captureOpenFiles: false, skipCaptureAccessTimeOnlyChange: false, snapshotDiffAllowSnapRootDescendant: true\u001b[0m\n",
      "\u001b[34m2020-11-08 19:07:56,867 INFO util.GSet: Computing capacity for map cachedBlocks\u001b[0m\n",
      "\u001b[34m2020-11-08 19:07:56,867 INFO util.GSet: VM type       = 64-bit\u001b[0m\n",
      "\u001b[34m2020-11-08 19:07:56,867 INFO util.GSet: 0.25% max memory 6.7 GB = 17.0 MB\u001b[0m\n",
      "\u001b[34m2020-11-08 19:07:56,867 INFO util.GSet: capacity      = 2^21 = 2097152 entries\u001b[0m\n",
      "\u001b[34m2020-11-08 19:07:56,874 INFO metrics.TopMetrics: NNTop conf: dfs.namenode.top.window.num.buckets = 10\u001b[0m\n",
      "\u001b[34m2020-11-08 19:07:56,874 INFO metrics.TopMetrics: NNTop conf: dfs.namenode.top.num.users = 10\u001b[0m\n",
      "\u001b[34m2020-11-08 19:07:56,874 INFO metrics.TopMetrics: NNTop conf: dfs.namenode.top.windows.minutes = 1,5,25\u001b[0m\n",
      "\u001b[34m2020-11-08 19:07:56,877 INFO namenode.FSNamesystem: Retry cache on namenode is enabled\u001b[0m\n",
      "\u001b[34m2020-11-08 19:07:56,877 INFO namenode.FSNamesystem: Retry cache will use 0.03 of total heap and retry cache entry expiry time is 600000 millis\u001b[0m\n",
      "\u001b[34m2020-11-08 19:07:56,878 INFO util.GSet: Computing capacity for map NameNodeRetryCache\u001b[0m\n",
      "\u001b[34m2020-11-08 19:07:56,878 INFO util.GSet: VM type       = 64-bit\u001b[0m\n",
      "\u001b[34m2020-11-08 19:07:56,879 INFO util.GSet: 0.029999999329447746% max memory 6.7 GB = 2.0 MB\u001b[0m\n",
      "\u001b[34m2020-11-08 19:07:56,879 INFO util.GSet: capacity      = 2^18 = 262144 entries\u001b[0m\n",
      "\u001b[34m2020-11-08 19:07:56,901 INFO namenode.FSImage: Allocated new BlockPoolId: BP-812732550-10.2.245.200-1604862476895\u001b[0m\n",
      "\u001b[34m2020-11-08 19:07:56,913 INFO common.Storage: Storage directory /opt/amazon/hadoop/hdfs/namenode has been successfully formatted.\u001b[0m\n",
      "\u001b[34m2020-11-08 19:07:56,920 INFO namenode.FSImageFormatProtobuf: Saving image file /opt/amazon/hadoop/hdfs/namenode/current/fsimage.ckpt_0000000000000000000 using no compression\u001b[0m\n",
      "\u001b[34m2020-11-08 19:07:57,002 INFO namenode.FSImageFormatProtobuf: Image file /opt/amazon/hadoop/hdfs/namenode/current/fsimage.ckpt_0000000000000000000 of size 389 bytes saved in 0 seconds.\u001b[0m\n",
      "\u001b[34m2020-11-08 19:07:57,014 INFO namenode.NNStorageRetentionManager: Going to retain 1 images with txid >= 0\u001b[0m\n",
      "\u001b[34m2020-11-08 19:07:57,018 INFO namenode.NameNode: SHUTDOWN_MSG: \u001b[0m\n",
      "\u001b[34m/************************************************************\u001b[0m\n",
      "\u001b[34mSHUTDOWN_MSG: Shutting down NameNode at algo-1/10.2.245.200\u001b[0m\n",
      "\u001b[34m************************************************************/\u001b[0m\n",
      "\u001b[34m2020-11-08 19:07:57,030 - bootstrap - INFO - Running command: /usr/hadoop-3.0.0/bin/hdfs --daemon start namenode\u001b[0m\n",
      "\u001b[34m2020-11-08 19:07:59,078 - bootstrap - INFO - Failed to run /usr/hadoop-3.0.0/bin/hdfs --daemon start namenode, return code 1\u001b[0m\n",
      "\u001b[34m2020-11-08 19:07:59,078 - bootstrap - INFO - Running command: /usr/hadoop-3.0.0/bin/hdfs --daemon start datanode\u001b[0m\n"
     ]
    },
    {
     "name": "stdout",
     "output_type": "stream",
     "text": [
      "\u001b[34m2020-11-08 19:08:01,134 - bootstrap - INFO - Failed to run /usr/hadoop-3.0.0/bin/hdfs --daemon start datanode, return code 1\u001b[0m\n",
      "\u001b[34m2020-11-08 19:08:01,134 - bootstrap - INFO - Running command: /usr/hadoop-3.0.0/bin/yarn --daemon start resourcemanager\u001b[0m\n",
      "\u001b[34mWARNING: YARN_LOG_DIR has been replaced by HADOOP_LOG_DIR. Using value of YARN_LOG_DIR.\u001b[0m\n",
      "\u001b[34mWARNING: /var/log/yarn/ does not exist. Creating.\u001b[0m\n",
      "\u001b[34m2020-11-08 19:08:03,203 - bootstrap - INFO - Failed to run /usr/hadoop-3.0.0/bin/yarn --daemon start resourcemanager, return code 1\u001b[0m\n",
      "\u001b[34m2020-11-08 19:08:03,203 - bootstrap - INFO - Running command: /usr/hadoop-3.0.0/bin/yarn --daemon start nodemanager\u001b[0m\n",
      "\u001b[34mWARNING: YARN_LOG_DIR has been replaced by HADOOP_LOG_DIR. Using value of YARN_LOG_DIR.\u001b[0m\n",
      "\u001b[34m2020-11-08 19:08:05,294 - bootstrap - INFO - Failed to run /usr/hadoop-3.0.0/bin/yarn --daemon start nodemanager, return code 1\u001b[0m\n",
      "\u001b[34m2020-11-08 19:08:05,294 - bootstrap - INFO - Running command: /usr/hadoop-3.0.0/bin/yarn --daemon start proxyserver\u001b[0m\n",
      "\u001b[34mWARNING: YARN_LOG_DIR has been replaced by HADOOP_LOG_DIR. Using value of YARN_LOG_DIR.\u001b[0m\n",
      "\u001b[34m2020-11-08 19:08:07,400 - bootstrap - INFO - Failed to run /usr/hadoop-3.0.0/bin/yarn --daemon start proxyserver, return code 1\u001b[0m\n",
      "\u001b[34m2020-11-08 19:08:07,401 - DefaultDataAnalyzer - INFO - Total number of hosts in the cluster: 1\u001b[0m\n",
      "\u001b[34m2020-11-08 19:08:17,402 - DefaultDataAnalyzer - INFO - Running command: bin/spark-submit --master yarn --deploy-mode client --conf spark.hadoop.fs.s3a.aws.credentials.provider=org.apache.hadoop.fs.s3a.SimpleAWSCredentialsProvider --conf spark.serializer=org.apache.spark.serializer.KryoSerializer /opt/amazon/sagemaker-data-analyzer-1.0-jar-with-dependencies.jar --analytics_input /tmp/spark_job_config.json\u001b[0m\n",
      "\u001b[34m2020-11-08 19:08:18 WARN  NativeCodeLoader:60 - Unable to load native-hadoop library for your platform... using builtin-java classes where applicable\u001b[0m\n",
      "\u001b[34m2020-11-08 19:08:18 INFO  Main:27 - Start analyzing with args: --analytics_input /tmp/spark_job_config.json\u001b[0m\n",
      "\u001b[34m2020-11-08 19:08:18 INFO  Main:30 - Analytics input path: DataAnalyzerParams(/tmp/spark_job_config.json,yarn)\u001b[0m\n",
      "\u001b[34m2020-11-08 19:08:18 INFO  FileUtil:66 - Read file from path /tmp/spark_job_config.json.\u001b[0m\n",
      "\u001b[34m2020-11-08 19:08:19 INFO  SparkContext:54 - Running Spark version 2.3.1\u001b[0m\n",
      "\u001b[34m2020-11-08 19:08:19 INFO  SparkContext:54 - Submitted application: SageMakerDataAnalyzer\u001b[0m\n",
      "\u001b[34m2020-11-08 19:08:19 INFO  SecurityManager:54 - Changing view acls to: root\u001b[0m\n",
      "\u001b[34m2020-11-08 19:08:19 INFO  SecurityManager:54 - Changing modify acls to: root\u001b[0m\n",
      "\u001b[34m2020-11-08 19:08:19 INFO  SecurityManager:54 - Changing view acls groups to: \u001b[0m\n",
      "\u001b[34m2020-11-08 19:08:19 INFO  SecurityManager:54 - Changing modify acls groups to: \u001b[0m\n",
      "\u001b[34m2020-11-08 19:08:19 INFO  SecurityManager:54 - SecurityManager: authentication disabled; ui acls disabled; users  with view permissions: Set(root); groups with view permissions: Set(); users  with modify permissions: Set(root); groups with modify permissions: Set()\u001b[0m\n",
      "\u001b[34m2020-11-08 19:08:19 INFO  Utils:54 - Successfully started service 'sparkDriver' on port 38391.\u001b[0m\n",
      "\u001b[34m2020-11-08 19:08:19 INFO  SparkEnv:54 - Registering MapOutputTracker\u001b[0m\n",
      "\u001b[34m2020-11-08 19:08:19 INFO  SparkEnv:54 - Registering BlockManagerMaster\u001b[0m\n",
      "\u001b[34m2020-11-08 19:08:19 INFO  BlockManagerMasterEndpoint:54 - Using org.apache.spark.storage.DefaultTopologyMapper for getting topology information\u001b[0m\n",
      "\u001b[34m2020-11-08 19:08:19 INFO  BlockManagerMasterEndpoint:54 - BlockManagerMasterEndpoint up\u001b[0m\n",
      "\u001b[34m2020-11-08 19:08:19 INFO  DiskBlockManager:54 - Created local directory at /tmp/blockmgr-597545f9-ff9e-48be-b7c9-a73ab5354f4c\u001b[0m\n",
      "\u001b[34m2020-11-08 19:08:19 INFO  MemoryStore:54 - MemoryStore started with capacity 1458.6 MB\u001b[0m\n",
      "\u001b[34m2020-11-08 19:08:19 INFO  SparkEnv:54 - Registering OutputCommitCoordinator\u001b[0m\n",
      "\u001b[34m2020-11-08 19:08:19 INFO  SparkContext:54 - Added JAR file:/opt/amazon/sagemaker-data-analyzer-1.0-jar-with-dependencies.jar at spark://10.2.245.200:38391/jars/sagemaker-data-analyzer-1.0-jar-with-dependencies.jar with timestamp 1604862499430\u001b[0m\n",
      "\u001b[34m2020-11-08 19:08:20 INFO  RMProxy:133 - Connecting to ResourceManager at /10.2.245.200:8032\u001b[0m\n",
      "\u001b[34m2020-11-08 19:08:20 INFO  Client:54 - Requesting a new application from cluster with 1 NodeManagers\u001b[0m\n",
      "\u001b[34m2020-11-08 19:08:20 INFO  Configuration:2636 - resource-types.xml not found\u001b[0m\n",
      "\u001b[34m2020-11-08 19:08:20 INFO  ResourceUtils:427 - Unable to find 'resource-types.xml'.\u001b[0m\n",
      "\u001b[34m2020-11-08 19:08:20 INFO  Client:54 - Verifying our application has not requested more than the maximum memory capability of the cluster (31706 MB per container)\u001b[0m\n",
      "\u001b[34m2020-11-08 19:08:20 INFO  Client:54 - Will allocate AM container, with 896 MB memory including 384 MB overhead\u001b[0m\n",
      "\u001b[34m2020-11-08 19:08:20 INFO  Client:54 - Setting up container launch context for our AM\u001b[0m\n",
      "\u001b[34m2020-11-08 19:08:20 INFO  Client:54 - Setting up the launch environment for our AM container\u001b[0m\n",
      "\u001b[34m2020-11-08 19:08:20 INFO  Client:54 - Preparing resources for our AM container\u001b[0m\n",
      "\u001b[34m2020-11-08 19:08:21 WARN  Client:66 - Neither spark.yarn.jars nor spark.yarn.archive is set, falling back to uploading libraries under SPARK_HOME.\u001b[0m\n",
      "\u001b[34m2020-11-08 19:08:22 INFO  Client:54 - Uploading resource file:/tmp/spark-d1da0672-9be7-4f78-a5cf-22ebac0e4852/__spark_libs__5944046339094385894.zip -> hdfs://10.2.245.200/user/root/.sparkStaging/application_1604862482768_0001/__spark_libs__5944046339094385894.zip\u001b[0m\n",
      "\u001b[34m2020-11-08 19:08:24 INFO  Client:54 - Uploading resource file:/tmp/spark-d1da0672-9be7-4f78-a5cf-22ebac0e4852/__spark_conf__2884186839745592534.zip -> hdfs://10.2.245.200/user/root/.sparkStaging/application_1604862482768_0001/__spark_conf__.zip\u001b[0m\n",
      "\u001b[34m2020-11-08 19:08:24 INFO  SecurityManager:54 - Changing view acls to: root\u001b[0m\n",
      "\u001b[34m2020-11-08 19:08:24 INFO  SecurityManager:54 - Changing modify acls to: root\u001b[0m\n",
      "\u001b[34m2020-11-08 19:08:24 INFO  SecurityManager:54 - Changing view acls groups to: \u001b[0m\n",
      "\u001b[34m2020-11-08 19:08:24 INFO  SecurityManager:54 - Changing modify acls groups to: \u001b[0m\n",
      "\u001b[34m2020-11-08 19:08:24 INFO  SecurityManager:54 - SecurityManager: authentication disabled; ui acls disabled; users  with view permissions: Set(root); groups with view permissions: Set(); users  with modify permissions: Set(root); groups with modify permissions: Set()\u001b[0m\n",
      "\u001b[34m2020-11-08 19:08:24 INFO  Client:54 - Submitting application application_1604862482768_0001 to ResourceManager\u001b[0m\n",
      "\u001b[34m2020-11-08 19:08:24 INFO  YarnClientImpl:310 - Submitted application application_1604862482768_0001\u001b[0m\n",
      "\u001b[34m2020-11-08 19:08:24 INFO  SchedulerExtensionServices:54 - Starting Yarn extension services with app application_1604862482768_0001 and attemptId None\u001b[0m\n",
      "\u001b[34m2020-11-08 19:08:25 INFO  Client:54 - Application report for application_1604862482768_0001 (state: ACCEPTED)\u001b[0m\n",
      "\u001b[34m2020-11-08 19:08:25 INFO  Client:54 - \u001b[0m\n",
      "\u001b[34m#011 client token: N/A\u001b[0m\n",
      "\u001b[34m#011 diagnostics: AM container is launched, waiting for AM container to Register with RM\u001b[0m\n",
      "\u001b[34m#011 ApplicationMaster host: N/A\u001b[0m\n",
      "\u001b[34m#011 ApplicationMaster RPC port: -1\u001b[0m\n",
      "\u001b[34m#011 queue: default\u001b[0m\n",
      "\u001b[34m#011 start time: 1604862504393\u001b[0m\n",
      "\u001b[34m#011 final status: UNDEFINED\u001b[0m\n",
      "\u001b[34m#011 tracking URL: http://algo-1:8088/proxy/application_1604862482768_0001/\u001b[0m\n",
      "\u001b[34m#011 user: root\u001b[0m\n",
      "\u001b[34m2020-11-08 19:08:26 INFO  Client:54 - Application report for application_1604862482768_0001 (state: ACCEPTED)\u001b[0m\n",
      "\u001b[34m2020-11-08 19:08:27 INFO  Client:54 - Application report for application_1604862482768_0001 (state: ACCEPTED)\u001b[0m\n",
      "\u001b[34m2020-11-08 19:08:28 INFO  Client:54 - Application report for application_1604862482768_0001 (state: ACCEPTED)\u001b[0m\n",
      "\u001b[34m2020-11-08 19:08:29 INFO  YarnClientSchedulerBackend:54 - Add WebUI Filter. org.apache.hadoop.yarn.server.webproxy.amfilter.AmIpFilter, Map(PROXY_HOSTS -> algo-1, PROXY_URI_BASES -> http://algo-1:8088/proxy/application_1604862482768_0001), /proxy/application_1604862482768_0001\u001b[0m\n",
      "\u001b[34m2020-11-08 19:08:29 INFO  YarnSchedulerBackend$YarnSchedulerEndpoint:54 - ApplicationMaster registered as NettyRpcEndpointRef(spark-client://YarnAM)\u001b[0m\n",
      "\u001b[34m2020-11-08 19:08:29 INFO  Client:54 - Application report for application_1604862482768_0001 (state: RUNNING)\u001b[0m\n",
      "\u001b[34m2020-11-08 19:08:29 INFO  Client:54 - \u001b[0m\n",
      "\u001b[34m#011 client token: N/A\u001b[0m\n",
      "\u001b[34m#011 diagnostics: N/A\u001b[0m\n",
      "\u001b[34m#011 ApplicationMaster host: 10.2.245.200\u001b[0m\n",
      "\u001b[34m#011 ApplicationMaster RPC port: 0\u001b[0m\n",
      "\u001b[34m#011 queue: default\u001b[0m\n",
      "\u001b[34m#011 start time: 1604862504393\u001b[0m\n",
      "\u001b[34m#011 final status: UNDEFINED\u001b[0m\n",
      "\u001b[34m#011 tracking URL: http://algo-1:8088/proxy/application_1604862482768_0001/\u001b[0m\n",
      "\u001b[34m#011 user: root\u001b[0m\n",
      "\u001b[34m2020-11-08 19:08:29 INFO  YarnClientSchedulerBackend:54 - Application application_1604862482768_0001 has started running.\u001b[0m\n",
      "\u001b[34m2020-11-08 19:08:29 INFO  Utils:54 - Successfully started service 'org.apache.spark.network.netty.NettyBlockTransferService' on port 33603.\u001b[0m\n",
      "\u001b[34m2020-11-08 19:08:29 INFO  NettyBlockTransferService:54 - Server created on 10.2.245.200:33603\u001b[0m\n",
      "\u001b[34m2020-11-08 19:08:29 INFO  BlockManager:54 - Using org.apache.spark.storage.RandomBlockReplicationPolicy for block replication policy\u001b[0m\n",
      "\u001b[34m2020-11-08 19:08:29 INFO  BlockManagerMaster:54 - Registering BlockManager BlockManagerId(driver, 10.2.245.200, 33603, None)\u001b[0m\n",
      "\u001b[34m2020-11-08 19:08:29 INFO  BlockManagerMasterEndpoint:54 - Registering block manager 10.2.245.200:33603 with 1458.6 MB RAM, BlockManagerId(driver, 10.2.245.200, 33603, None)\u001b[0m\n",
      "\u001b[34m2020-11-08 19:08:29 INFO  BlockManagerMaster:54 - Registered BlockManager BlockManagerId(driver, 10.2.245.200, 33603, None)\u001b[0m\n",
      "\u001b[34m2020-11-08 19:08:29 INFO  BlockManager:54 - Initialized BlockManager: BlockManagerId(driver, 10.2.245.200, 33603, None)\u001b[0m\n",
      "\u001b[34m2020-11-08 19:08:29 INFO  log:192 - Logging initialized @12070ms\u001b[0m\n",
      "\u001b[34m2020-11-08 19:08:31 INFO  YarnSchedulerBackend$YarnDriverEndpoint:54 - Registered executor NettyRpcEndpointRef(spark-client://Executor) (10.2.245.200:52544) with ID 1\u001b[0m\n",
      "\u001b[34m2020-11-08 19:08:31 INFO  BlockManagerMasterEndpoint:54 - Registering block manager algo-1:34523 with 11.9 GB RAM, BlockManagerId(1, algo-1, 34523, None)\u001b[0m\n"
     ]
    },
    {
     "name": "stdout",
     "output_type": "stream",
     "text": [
      "\u001b[34m2020-11-08 19:08:49 INFO  YarnClientSchedulerBackend:54 - SchedulerBackend is ready for scheduling beginning after waiting maxRegisteredResourcesWaitingTime: 30000(ms)\u001b[0m\n",
      "\u001b[34m2020-11-08 19:08:49 WARN  SparkContext:66 - Spark is not running in local mode, therefore the checkpoint directory must not be on the local filesystem. Directory '/tmp' appears to be on the local filesystem.\u001b[0m\n",
      "\u001b[34m2020-11-08 19:08:49 INFO  DatasetReader:90 - Files to process:List(file:///opt/ml/processing/input/baseline_dataset_input/train_with_header.csv)\u001b[0m\n",
      "\u001b[34m2020-11-08 19:08:49 INFO  SharedState:54 - Setting hive.metastore.warehouse.dir ('null') to the value of spark.sql.warehouse.dir ('file:/usr/spark-2.3.1/spark-warehouse').\u001b[0m\n",
      "\u001b[34m2020-11-08 19:08:49 INFO  SharedState:54 - Warehouse path is 'file:/usr/spark-2.3.1/spark-warehouse'.\u001b[0m\n",
      "\u001b[34m2020-11-08 19:08:49 INFO  StateStoreCoordinatorRef:54 - Registered StateStoreCoordinator endpoint\u001b[0m\n",
      "\u001b[34m2020-11-08 19:08:50 INFO  FileSourceStrategy:54 - Pruning directories with: \u001b[0m\n",
      "\u001b[34m2020-11-08 19:08:50 INFO  FileSourceStrategy:54 - Post-Scan Filters: (length(trim(value#0, None)) > 0)\u001b[0m\n",
      "\u001b[34m2020-11-08 19:08:50 INFO  FileSourceStrategy:54 - Output Data Schema: struct<value: string>\u001b[0m\n",
      "\u001b[34m2020-11-08 19:08:50 INFO  FileSourceScanExec:54 - Pushed Filters: \u001b[0m\n",
      "\u001b[34m2020-11-08 19:08:51 INFO  CodeGenerator:54 - Code generated in 192.322748 ms\u001b[0m\n",
      "\u001b[34m2020-11-08 19:08:51 INFO  CodeGenerator:54 - Code generated in 28.45894 ms\u001b[0m\n",
      "\u001b[34m2020-11-08 19:08:51 INFO  MemoryStore:54 - Block broadcast_0 stored as values in memory (estimated size 429.5 KB, free 1458.2 MB)\u001b[0m\n",
      "\u001b[34m2020-11-08 19:08:51 INFO  MemoryStore:54 - Block broadcast_0_piece0 stored as bytes in memory (estimated size 38.2 KB, free 1458.1 MB)\u001b[0m\n",
      "\u001b[34m2020-11-08 19:08:51 INFO  BlockManagerInfo:54 - Added broadcast_0_piece0 in memory on 10.2.245.200:33603 (size: 38.2 KB, free: 1458.6 MB)\u001b[0m\n",
      "\u001b[34m2020-11-08 19:08:51 INFO  SparkContext:54 - Created broadcast 0 from csv at DatasetReader.scala:49\u001b[0m\n",
      "\u001b[34m2020-11-08 19:08:51 INFO  FileSourceScanExec:54 - Planning scan with bin packing, max size: 4194304 bytes, open cost is considered as scanning 4194304 bytes.\u001b[0m\n",
      "\u001b[34m2020-11-08 19:08:51 INFO  SparkContext:54 - Starting job: csv at DatasetReader.scala:49\u001b[0m\n",
      "\u001b[34m2020-11-08 19:08:51 INFO  DAGScheduler:54 - Got job 0 (csv at DatasetReader.scala:49) with 1 output partitions\u001b[0m\n",
      "\u001b[34m2020-11-08 19:08:51 INFO  DAGScheduler:54 - Final stage: ResultStage 0 (csv at DatasetReader.scala:49)\u001b[0m\n",
      "\u001b[34m2020-11-08 19:08:51 INFO  DAGScheduler:54 - Parents of final stage: List()\u001b[0m\n",
      "\u001b[34m2020-11-08 19:08:51 INFO  DAGScheduler:54 - Missing parents: List()\u001b[0m\n",
      "\u001b[34m2020-11-08 19:08:51 INFO  DAGScheduler:54 - Submitting ResultStage 0 (MapPartitionsRDD[3] at csv at DatasetReader.scala:49), which has no missing parents\u001b[0m\n",
      "\u001b[34m2020-11-08 19:08:51 INFO  MemoryStore:54 - Block broadcast_1 stored as values in memory (estimated size 9.4 KB, free 1458.1 MB)\u001b[0m\n",
      "\u001b[34m2020-11-08 19:08:51 INFO  MemoryStore:54 - Block broadcast_1_piece0 stored as bytes in memory (estimated size 4.5 KB, free 1458.1 MB)\u001b[0m\n",
      "\u001b[34m2020-11-08 19:08:51 INFO  BlockManagerInfo:54 - Added broadcast_1_piece0 in memory on 10.2.245.200:33603 (size: 4.5 KB, free: 1458.6 MB)\u001b[0m\n",
      "\u001b[34m2020-11-08 19:08:51 INFO  SparkContext:54 - Created broadcast 1 from broadcast at DAGScheduler.scala:1039\u001b[0m\n",
      "\u001b[34m2020-11-08 19:08:51 INFO  DAGScheduler:54 - Submitting 1 missing tasks from ResultStage 0 (MapPartitionsRDD[3] at csv at DatasetReader.scala:49) (first 15 tasks are for partitions Vector(0))\u001b[0m\n",
      "\u001b[34m2020-11-08 19:08:51 INFO  YarnScheduler:54 - Adding task set 0.0 with 1 tasks\u001b[0m\n",
      "\u001b[34m2020-11-08 19:08:51 INFO  TaskSetManager:54 - Starting task 0.0 in stage 0.0 (TID 0, algo-1, executor 1, partition 0, PROCESS_LOCAL, 8352 bytes)\u001b[0m\n",
      "\u001b[34m2020-11-08 19:08:52 INFO  BlockManagerInfo:54 - Added broadcast_1_piece0 in memory on algo-1:34523 (size: 4.5 KB, free: 11.9 GB)\u001b[0m\n",
      "\u001b[34m2020-11-08 19:08:53 INFO  BlockManagerInfo:54 - Added broadcast_0_piece0 in memory on algo-1:34523 (size: 38.2 KB, free: 11.9 GB)\u001b[0m\n",
      "\u001b[34m2020-11-08 19:08:53 INFO  TaskSetManager:54 - Finished task 0.0 in stage 0.0 (TID 0) in 1721 ms on algo-1 (executor 1) (1/1)\u001b[0m\n",
      "\u001b[34m2020-11-08 19:08:53 INFO  YarnScheduler:54 - Removed TaskSet 0.0, whose tasks have all completed, from pool \u001b[0m\n",
      "\u001b[34m2020-11-08 19:08:53 INFO  DAGScheduler:54 - ResultStage 0 (csv at DatasetReader.scala:49) finished in 1.804 s\u001b[0m\n",
      "\u001b[34m2020-11-08 19:08:53 INFO  DAGScheduler:54 - Job 0 finished: csv at DatasetReader.scala:49, took 1.854286 s\u001b[0m\n",
      "\u001b[34m2020-11-08 19:08:53 INFO  FileSourceStrategy:54 - Pruning directories with: \u001b[0m\n",
      "\u001b[34m2020-11-08 19:08:53 INFO  FileSourceStrategy:54 - Post-Scan Filters: \u001b[0m\n",
      "\u001b[34m2020-11-08 19:08:53 INFO  FileSourceStrategy:54 - Output Data Schema: struct<value: string>\u001b[0m\n",
      "\u001b[34m2020-11-08 19:08:53 INFO  FileSourceScanExec:54 - Pushed Filters: \u001b[0m\n",
      "\u001b[34m2020-11-08 19:08:53 INFO  CodeGenerator:54 - Code generated in 8.825664 ms\u001b[0m\n",
      "\u001b[34m2020-11-08 19:08:53 INFO  MemoryStore:54 - Block broadcast_2 stored as values in memory (estimated size 429.5 KB, free 1457.7 MB)\u001b[0m\n",
      "\u001b[34m2020-11-08 19:08:53 INFO  MemoryStore:54 - Block broadcast_2_piece0 stored as bytes in memory (estimated size 38.2 KB, free 1457.7 MB)\u001b[0m\n",
      "\u001b[34m2020-11-08 19:08:53 INFO  BlockManagerInfo:54 - Added broadcast_2_piece0 in memory on 10.2.245.200:33603 (size: 38.2 KB, free: 1458.5 MB)\u001b[0m\n",
      "\u001b[34m2020-11-08 19:08:53 INFO  SparkContext:54 - Created broadcast 2 from csv at DatasetReader.scala:49\u001b[0m\n",
      "\u001b[34m2020-11-08 19:08:53 INFO  FileSourceScanExec:54 - Planning scan with bin packing, max size: 4194304 bytes, open cost is considered as scanning 4194304 bytes.\u001b[0m\n",
      "\u001b[34m2020-11-08 19:08:53 INFO  FileSourceStrategy:54 - Pruning directories with: \u001b[0m\n",
      "\u001b[34m2020-11-08 19:08:53 INFO  FileSourceStrategy:54 - Post-Scan Filters: \u001b[0m\n",
      "\u001b[34m2020-11-08 19:08:53 INFO  FileSourceStrategy:54 - Output Data Schema: struct<class: string, mass: string, width: string, height: string, color_score: string ... 3 more fields>\u001b[0m\n",
      "\u001b[34m2020-11-08 19:08:53 INFO  FileSourceScanExec:54 - Pushed Filters: \u001b[0m\n",
      "\u001b[34m2020-11-08 19:08:53 INFO  MemoryStore:54 - Block broadcast_3 stored as values in memory (estimated size 429.5 KB, free 1457.3 MB)\u001b[0m\n",
      "\u001b[34m2020-11-08 19:08:53 INFO  MemoryStore:54 - Block broadcast_3_piece0 stored as bytes in memory (estimated size 38.2 KB, free 1457.2 MB)\u001b[0m\n",
      "\u001b[34m2020-11-08 19:08:53 INFO  BlockManagerInfo:54 - Added broadcast_3_piece0 in memory on 10.2.245.200:33603 (size: 38.2 KB, free: 1458.5 MB)\u001b[0m\n",
      "\u001b[34m2020-11-08 19:08:53 INFO  SparkContext:54 - Created broadcast 3 from cache at DataAnalyzer.scala:76\u001b[0m\n",
      "\u001b[34m2020-11-08 19:08:53 INFO  FileSourceScanExec:54 - Planning scan with bin packing, max size: 4194304 bytes, open cost is considered as scanning 4194304 bytes.\u001b[0m\n",
      "\u001b[34m2020-11-08 19:08:53 INFO  CodeGenerator:54 - Code generated in 18.783579 ms\u001b[0m\n",
      "\u001b[34m2020-11-08 19:08:53 INFO  CodeGenerator:54 - Code generated in 19.122082 ms\u001b[0m\n",
      "\u001b[34m2020-11-08 19:08:53 INFO  SparkContext:54 - Starting job: head at DataAnalyzer.scala:79\u001b[0m\n",
      "\u001b[34m2020-11-08 19:08:53 INFO  DAGScheduler:54 - Got job 1 (head at DataAnalyzer.scala:79) with 1 output partitions\u001b[0m\n",
      "\u001b[34m2020-11-08 19:08:53 INFO  DAGScheduler:54 - Final stage: ResultStage 1 (head at DataAnalyzer.scala:79)\u001b[0m\n",
      "\u001b[34m2020-11-08 19:08:53 INFO  DAGScheduler:54 - Parents of final stage: List()\u001b[0m\n",
      "\u001b[34m2020-11-08 19:08:53 INFO  DAGScheduler:54 - Missing parents: List()\u001b[0m\n",
      "\u001b[34m2020-11-08 19:08:53 INFO  DAGScheduler:54 - Submitting ResultStage 1 (MapPartitionsRDD[17] at head at DataAnalyzer.scala:79), which has no missing parents\u001b[0m\n",
      "\u001b[34m2020-11-08 19:08:53 INFO  ContextCleaner:54 - Cleaned accumulator 22\u001b[0m\n",
      "\u001b[34m2020-11-08 19:08:53 INFO  ContextCleaner:54 - Cleaned accumulator 27\u001b[0m\n",
      "\u001b[34m2020-11-08 19:08:53 INFO  ContextCleaner:54 - Cleaned accumulator 3\u001b[0m\n",
      "\u001b[34m2020-11-08 19:08:53 INFO  ContextCleaner:54 - Cleaned accumulator 13\u001b[0m\n",
      "\u001b[34m2020-11-08 19:08:53 INFO  ContextCleaner:54 - Cleaned accumulator 8\u001b[0m\n",
      "\u001b[34m2020-11-08 19:08:53 INFO  ContextCleaner:54 - Cleaned accumulator 21\u001b[0m\n",
      "\u001b[34m2020-11-08 19:08:53 INFO  ContextCleaner:54 - Cleaned accumulator 0\u001b[0m\n",
      "\u001b[34m2020-11-08 19:08:53 INFO  ContextCleaner:54 - Cleaned accumulator 18\u001b[0m\n",
      "\u001b[34m2020-11-08 19:08:53 INFO  ContextCleaner:54 - Cleaned accumulator 29\u001b[0m\n",
      "\u001b[34m2020-11-08 19:08:53 INFO  ContextCleaner:54 - Cleaned accumulator 31\u001b[0m\n"
     ]
    },
    {
     "name": "stdout",
     "output_type": "stream",
     "text": [
      "\u001b[34m2020-11-08 19:08:53 INFO  MemoryStore:54 - Block broadcast_4 stored as values in memory (estimated size 20.5 KB, free 1457.2 MB)\u001b[0m\n",
      "\u001b[34m2020-11-08 19:08:53 INFO  BlockManagerInfo:54 - Removed broadcast_1_piece0 on 10.2.245.200:33603 in memory (size: 4.5 KB, free: 1458.5 MB)\u001b[0m\n",
      "\u001b[34m2020-11-08 19:08:53 INFO  BlockManagerInfo:54 - Removed broadcast_1_piece0 on algo-1:34523 in memory (size: 4.5 KB, free: 11.9 GB)\u001b[0m\n",
      "\u001b[34m2020-11-08 19:08:53 INFO  MemoryStore:54 - Block broadcast_4_piece0 stored as bytes in memory (estimated size 9.1 KB, free 1457.2 MB)\u001b[0m\n",
      "\u001b[34m2020-11-08 19:08:53 INFO  BlockManagerInfo:54 - Added broadcast_4_piece0 in memory on 10.2.245.200:33603 (size: 9.1 KB, free: 1458.5 MB)\u001b[0m\n",
      "\u001b[34m2020-11-08 19:08:53 INFO  SparkContext:54 - Created broadcast 4 from broadcast at DAGScheduler.scala:1039\u001b[0m\n",
      "\u001b[34m2020-11-08 19:08:53 INFO  DAGScheduler:54 - Submitting 1 missing tasks from ResultStage 1 (MapPartitionsRDD[17] at head at DataAnalyzer.scala:79) (first 15 tasks are for partitions Vector(0))\u001b[0m\n",
      "\u001b[34m2020-11-08 19:08:53 INFO  YarnScheduler:54 - Adding task set 1.0 with 1 tasks\u001b[0m\n",
      "\u001b[34m2020-11-08 19:08:53 INFO  TaskSetManager:54 - Starting task 0.0 in stage 1.0 (TID 1, algo-1, executor 1, partition 0, PROCESS_LOCAL, 8352 bytes)\u001b[0m\n",
      "\u001b[34m2020-11-08 19:08:53 INFO  ContextCleaner:54 - Cleaned accumulator 4\u001b[0m\n",
      "\u001b[34m2020-11-08 19:08:53 INFO  ContextCleaner:54 - Cleaned accumulator 32\u001b[0m\n",
      "\u001b[34m2020-11-08 19:08:53 INFO  ContextCleaner:54 - Cleaned accumulator 16\u001b[0m\n",
      "\u001b[34m2020-11-08 19:08:53 INFO  ContextCleaner:54 - Cleaned accumulator 7\u001b[0m\n",
      "\u001b[34m2020-11-08 19:08:53 INFO  ContextCleaner:54 - Cleaned accumulator 26\u001b[0m\n",
      "\u001b[34m2020-11-08 19:08:53 INFO  BlockManagerInfo:54 - Removed broadcast_2_piece0 on 10.2.245.200:33603 in memory (size: 38.2 KB, free: 1458.5 MB)\u001b[0m\n",
      "\u001b[34m2020-11-08 19:08:53 INFO  ContextCleaner:54 - Cleaned accumulator 5\u001b[0m\n",
      "\u001b[34m2020-11-08 19:08:53 INFO  ContextCleaner:54 - Cleaned accumulator 34\u001b[0m\n",
      "\u001b[34m2020-11-08 19:08:53 INFO  ContextCleaner:54 - Cleaned accumulator 9\u001b[0m\n",
      "\u001b[34m2020-11-08 19:08:53 INFO  ContextCleaner:54 - Cleaned accumulator 2\u001b[0m\n",
      "\u001b[34m2020-11-08 19:08:53 INFO  ContextCleaner:54 - Cleaned accumulator 17\u001b[0m\n",
      "\u001b[34m2020-11-08 19:08:53 INFO  ContextCleaner:54 - Cleaned accumulator 23\u001b[0m\n",
      "\u001b[34m2020-11-08 19:08:53 INFO  BlockManagerInfo:54 - Removed broadcast_0_piece0 on 10.2.245.200:33603 in memory (size: 38.2 KB, free: 1458.6 MB)\u001b[0m\n",
      "\u001b[34m2020-11-08 19:08:53 INFO  BlockManagerInfo:54 - Removed broadcast_0_piece0 on algo-1:34523 in memory (size: 38.2 KB, free: 11.9 GB)\u001b[0m\n",
      "\u001b[34m2020-11-08 19:08:53 INFO  ContextCleaner:54 - Cleaned accumulator 30\u001b[0m\n",
      "\u001b[34m2020-11-08 19:08:53 INFO  ContextCleaner:54 - Cleaned accumulator 11\u001b[0m\n",
      "\u001b[34m2020-11-08 19:08:53 INFO  ContextCleaner:54 - Cleaned accumulator 25\u001b[0m\n",
      "\u001b[34m2020-11-08 19:08:53 INFO  ContextCleaner:54 - Cleaned accumulator 19\u001b[0m\n",
      "\u001b[34m2020-11-08 19:08:53 INFO  ContextCleaner:54 - Cleaned accumulator 6\u001b[0m\n",
      "\u001b[34m2020-11-08 19:08:53 INFO  ContextCleaner:54 - Cleaned accumulator 24\u001b[0m\n",
      "\u001b[34m2020-11-08 19:08:53 INFO  ContextCleaner:54 - Cleaned accumulator 1\u001b[0m\n",
      "\u001b[34m2020-11-08 19:08:53 INFO  ContextCleaner:54 - Cleaned accumulator 33\u001b[0m\n",
      "\u001b[34m2020-11-08 19:08:53 INFO  ContextCleaner:54 - Cleaned accumulator 14\u001b[0m\n",
      "\u001b[34m2020-11-08 19:08:53 INFO  ContextCleaner:54 - Cleaned accumulator 15\u001b[0m\n",
      "\u001b[34m2020-11-08 19:08:53 INFO  ContextCleaner:54 - Cleaned accumulator 20\u001b[0m\n",
      "\u001b[34m2020-11-08 19:08:53 INFO  ContextCleaner:54 - Cleaned accumulator 35\u001b[0m\n",
      "\u001b[34m2020-11-08 19:08:53 INFO  ContextCleaner:54 - Cleaned accumulator 10\u001b[0m\n",
      "\u001b[34m2020-11-08 19:08:53 INFO  ContextCleaner:54 - Cleaned accumulator 12\u001b[0m\n",
      "\u001b[34m2020-11-08 19:08:53 INFO  ContextCleaner:54 - Cleaned accumulator 28\u001b[0m\n",
      "\u001b[34m2020-11-08 19:08:53 INFO  BlockManagerInfo:54 - Added broadcast_4_piece0 in memory on algo-1:34523 (size: 9.1 KB, free: 11.9 GB)\u001b[0m\n",
      "\u001b[34m2020-11-08 19:08:54 INFO  BlockManagerInfo:54 - Added broadcast_3_piece0 in memory on algo-1:34523 (size: 38.2 KB, free: 11.9 GB)\u001b[0m\n",
      "\u001b[34m2020-11-08 19:08:54 INFO  BlockManagerInfo:54 - Added rdd_11_0 in memory on algo-1:34523 (size: 3.8 KB, free: 11.9 GB)\u001b[0m\n",
      "\u001b[34m2020-11-08 19:08:54 INFO  TaskSetManager:54 - Finished task 0.0 in stage 1.0 (TID 1) in 399 ms on algo-1 (executor 1) (1/1)\u001b[0m\n",
      "\u001b[34m2020-11-08 19:08:54 INFO  YarnScheduler:54 - Removed TaskSet 1.0, whose tasks have all completed, from pool \u001b[0m\n",
      "\u001b[34m2020-11-08 19:08:54 INFO  DAGScheduler:54 - ResultStage 1 (head at DataAnalyzer.scala:79) finished in 0.505 s\u001b[0m\n",
      "\u001b[34m2020-11-08 19:08:54 INFO  DAGScheduler:54 - Job 1 finished: head at DataAnalyzer.scala:79, took 0.511605 s\u001b[0m\n",
      "\u001b[34m2020-11-08 19:08:54 WARN  Utils:66 - Truncated the string representation of a plan since it was too large. This behavior can be adjusted by setting 'spark.debug.maxToStringFields' in SparkEnv.conf.\u001b[0m\n",
      "\u001b[34m2020-11-08 19:08:54 INFO  CodeGenerator:54 - Code generated in 17.206816 ms\u001b[0m\n",
      "\u001b[34m2020-11-08 19:08:54 INFO  SparkContext:54 - Starting job: collect at AnalysisRunner.scala:313\u001b[0m\n",
      "\u001b[34m2020-11-08 19:08:54 INFO  DAGScheduler:54 - Registering RDD 22 (collect at AnalysisRunner.scala:313)\u001b[0m\n",
      "\u001b[34m2020-11-08 19:08:54 INFO  DAGScheduler:54 - Got job 2 (collect at AnalysisRunner.scala:313) with 1 output partitions\u001b[0m\n",
      "\u001b[34m2020-11-08 19:08:54 INFO  DAGScheduler:54 - Final stage: ResultStage 3 (collect at AnalysisRunner.scala:313)\u001b[0m\n",
      "\u001b[34m2020-11-08 19:08:54 INFO  DAGScheduler:54 - Parents of final stage: List(ShuffleMapStage 2)\u001b[0m\n",
      "\u001b[34m2020-11-08 19:08:54 INFO  DAGScheduler:54 - Missing parents: List(ShuffleMapStage 2)\u001b[0m\n",
      "\u001b[34m2020-11-08 19:08:54 INFO  DAGScheduler:54 - Submitting ShuffleMapStage 2 (MapPartitionsRDD[22] at collect at AnalysisRunner.scala:313), which has no missing parents\u001b[0m\n",
      "\u001b[34m2020-11-08 19:08:54 INFO  MemoryStore:54 - Block broadcast_5 stored as values in memory (estimated size 65.2 KB, free 1458.1 MB)\u001b[0m\n",
      "\u001b[34m2020-11-08 19:08:54 INFO  MemoryStore:54 - Block broadcast_5_piece0 stored as bytes in memory (estimated size 22.7 KB, free 1458.0 MB)\u001b[0m\n",
      "\u001b[34m2020-11-08 19:08:54 INFO  BlockManagerInfo:54 - Added broadcast_5_piece0 in memory on 10.2.245.200:33603 (size: 22.7 KB, free: 1458.5 MB)\u001b[0m\n",
      "\u001b[34m2020-11-08 19:08:54 INFO  SparkContext:54 - Created broadcast 5 from broadcast at DAGScheduler.scala:1039\u001b[0m\n",
      "\u001b[34m2020-11-08 19:08:54 INFO  DAGScheduler:54 - Submitting 1 missing tasks from ShuffleMapStage 2 (MapPartitionsRDD[22] at collect at AnalysisRunner.scala:313) (first 15 tasks are for partitions Vector(0))\u001b[0m\n",
      "\u001b[34m2020-11-08 19:08:54 INFO  YarnScheduler:54 - Adding task set 2.0 with 1 tasks\u001b[0m\n",
      "\u001b[34m2020-11-08 19:08:54 INFO  TaskSetManager:54 - Starting task 0.0 in stage 2.0 (TID 2, algo-1, executor 1, partition 0, PROCESS_LOCAL, 8341 bytes)\u001b[0m\n",
      "\u001b[34m2020-11-08 19:08:54 INFO  BlockManagerInfo:54 - Added broadcast_5_piece0 in memory on algo-1:34523 (size: 22.7 KB, free: 11.9 GB)\u001b[0m\n",
      "\u001b[34m2020-11-08 19:08:55 INFO  TaskSetManager:54 - Finished task 0.0 in stage 2.0 (TID 2) in 978 ms on algo-1 (executor 1) (1/1)\u001b[0m\n",
      "\u001b[34m2020-11-08 19:08:55 INFO  YarnScheduler:54 - Removed TaskSet 2.0, whose tasks have all completed, from pool \u001b[0m\n",
      "\u001b[34m2020-11-08 19:08:55 INFO  DAGScheduler:54 - ShuffleMapStage 2 (collect at AnalysisRunner.scala:313) finished in 1.003 s\u001b[0m\n",
      "\u001b[34m2020-11-08 19:08:55 INFO  DAGScheduler:54 - looking for newly runnable stages\u001b[0m\n",
      "\u001b[34m2020-11-08 19:08:55 INFO  DAGScheduler:54 - running: Set()\u001b[0m\n",
      "\u001b[34m2020-11-08 19:08:55 INFO  DAGScheduler:54 - waiting: Set(ResultStage 3)\u001b[0m\n",
      "\u001b[34m2020-11-08 19:08:55 INFO  DAGScheduler:54 - failed: Set()\u001b[0m\n",
      "\u001b[34m2020-11-08 19:08:55 INFO  DAGScheduler:54 - Submitting ResultStage 3 (MapPartitionsRDD[25] at collect at AnalysisRunner.scala:313), which has no missing parents\u001b[0m\n",
      "\u001b[34m2020-11-08 19:08:55 INFO  MemoryStore:54 - Block broadcast_6 stored as values in memory (estimated size 77.5 KB, free 1458.0 MB)\u001b[0m\n",
      "\u001b[34m2020-11-08 19:08:55 INFO  MemoryStore:54 - Block broadcast_6_piece0 stored as bytes in memory (estimated size 26.5 KB, free 1457.9 MB)\u001b[0m\n",
      "\u001b[34m2020-11-08 19:08:55 INFO  BlockManagerInfo:54 - Added broadcast_6_piece0 in memory on 10.2.245.200:33603 (size: 26.5 KB, free: 1458.5 MB)\u001b[0m\n",
      "\u001b[34m2020-11-08 19:08:55 INFO  SparkContext:54 - Created broadcast 6 from broadcast at DAGScheduler.scala:1039\u001b[0m\n",
      "\u001b[34m2020-11-08 19:08:55 INFO  DAGScheduler:54 - Submitting 1 missing tasks from ResultStage 3 (MapPartitionsRDD[25] at collect at AnalysisRunner.scala:313) (first 15 tasks are for partitions Vector(0))\u001b[0m\n",
      "\u001b[34m2020-11-08 19:08:55 INFO  YarnScheduler:54 - Adding task set 3.0 with 1 tasks\u001b[0m\n",
      "\u001b[34m2020-11-08 19:08:55 INFO  TaskSetManager:54 - Starting task 0.0 in stage 3.0 (TID 3, algo-1, executor 1, partition 0, NODE_LOCAL, 7765 bytes)\u001b[0m\n",
      "\u001b[34m2020-11-08 19:08:55 INFO  BlockManagerInfo:54 - Added broadcast_6_piece0 in memory on algo-1:34523 (size: 26.5 KB, free: 11.9 GB)\u001b[0m\n",
      "\u001b[34m2020-11-08 19:08:55 INFO  MapOutputTrackerMasterEndpoint:54 - Asked to send map output locations for shuffle 0 to 10.2.245.200:52544\u001b[0m\n",
      "\u001b[34m2020-11-08 19:08:56 INFO  TaskSetManager:54 - Finished task 0.0 in stage 3.0 (TID 3) in 302 ms on algo-1 (executor 1) (1/1)\u001b[0m\n",
      "\u001b[34m2020-11-08 19:08:56 INFO  YarnScheduler:54 - Removed TaskSet 3.0, whose tasks have all completed, from pool \u001b[0m\n",
      "\u001b[34m2020-11-08 19:08:56 INFO  DAGScheduler:54 - ResultStage 3 (collect at AnalysisRunner.scala:313) finished in 0.333 s\u001b[0m\n",
      "\u001b[34m2020-11-08 19:08:56 INFO  DAGScheduler:54 - Job 2 finished: collect at AnalysisRunner.scala:313, took 1.357607 s\u001b[0m\n",
      "\u001b[34m2020-11-08 19:08:56 INFO  CodeGenerator:54 - Code generated in 20.548671 ms\u001b[0m\n",
      "\u001b[34m2020-11-08 19:08:56 INFO  SparkContext:54 - Starting job: treeReduce at KLLRunner.scala:107\u001b[0m\n",
      "\u001b[34m2020-11-08 19:08:56 INFO  DAGScheduler:54 - Got job 3 (treeReduce at KLLRunner.scala:107) with 1 output partitions\u001b[0m\n",
      "\u001b[34m2020-11-08 19:08:56 INFO  DAGScheduler:54 - Final stage: ResultStage 4 (treeReduce at KLLRunner.scala:107)\u001b[0m\n",
      "\u001b[34m2020-11-08 19:08:56 INFO  DAGScheduler:54 - Parents of final stage: List()\u001b[0m\n",
      "\u001b[34m2020-11-08 19:08:56 INFO  DAGScheduler:54 - Missing parents: List()\u001b[0m\n",
      "\u001b[34m2020-11-08 19:08:56 INFO  DAGScheduler:54 - Submitting ResultStage 4 (MapPartitionsRDD[34] at treeReduce at KLLRunner.scala:107), which has no missing parents\u001b[0m\n",
      "\u001b[34m2020-11-08 19:08:56 INFO  MemoryStore:54 - Block broadcast_7 stored as values in memory (estimated size 25.3 KB, free 1457.9 MB)\u001b[0m\n",
      "\u001b[34m2020-11-08 19:08:56 INFO  MemoryStore:54 - Block broadcast_7_piece0 stored as bytes in memory (estimated size 11.0 KB, free 1457.9 MB)\u001b[0m\n",
      "\u001b[34m2020-11-08 19:08:56 INFO  BlockManagerInfo:54 - Added broadcast_7_piece0 in memory on 10.2.245.200:33603 (size: 11.0 KB, free: 1458.5 MB)\u001b[0m\n",
      "\u001b[34m2020-11-08 19:08:56 INFO  SparkContext:54 - Created broadcast 7 from broadcast at DAGScheduler.scala:1039\u001b[0m\n",
      "\u001b[34m2020-11-08 19:08:56 INFO  DAGScheduler:54 - Submitting 1 missing tasks from ResultStage 4 (MapPartitionsRDD[34] at treeReduce at KLLRunner.scala:107) (first 15 tasks are for partitions Vector(0))\u001b[0m\n",
      "\u001b[34m2020-11-08 19:08:56 INFO  YarnScheduler:54 - Adding task set 4.0 with 1 tasks\u001b[0m\n",
      "\u001b[34m2020-11-08 19:08:56 INFO  TaskSetManager:54 - Starting task 0.0 in stage 4.0 (TID 4, algo-1, executor 1, partition 0, PROCESS_LOCAL, 8352 bytes)\u001b[0m\n",
      "\u001b[34m2020-11-08 19:08:56 INFO  BlockManagerInfo:54 - Added broadcast_7_piece0 in memory on algo-1:34523 (size: 11.0 KB, free: 11.9 GB)\u001b[0m\n",
      "\u001b[34m2020-11-08 19:08:56 INFO  TaskSetManager:54 - Finished task 0.0 in stage 4.0 (TID 4) in 146 ms on algo-1 (executor 1) (1/1)\u001b[0m\n",
      "\u001b[34m2020-11-08 19:08:56 INFO  YarnScheduler:54 - Removed TaskSet 4.0, whose tasks have all completed, from pool \u001b[0m\n",
      "\u001b[34m2020-11-08 19:08:56 INFO  DAGScheduler:54 - ResultStage 4 (treeReduce at KLLRunner.scala:107) finished in 0.156 s\u001b[0m\n",
      "\u001b[34m2020-11-08 19:08:56 INFO  DAGScheduler:54 - Job 3 finished: treeReduce at KLLRunner.scala:107, took 0.159590 s\u001b[0m\n",
      "\u001b[34m2020-11-08 19:08:56 INFO  CodeGenerator:54 - Code generated in 65.133873 ms\u001b[0m\n",
      "\u001b[34m2020-11-08 19:08:56 INFO  CodeGenerator:54 - Code generated in 111.09266 ms\u001b[0m\n",
      "\u001b[34m2020-11-08 19:08:57 INFO  CodeGenerator:54 - Code generated in 83.866636 ms\u001b[0m\n",
      "\u001b[34m2020-11-08 19:08:57 INFO  SparkContext:54 - Starting job: collect at AnalysisRunner.scala:313\u001b[0m\n",
      "\u001b[34m2020-11-08 19:08:57 INFO  DAGScheduler:54 - Registering RDD 39 (collect at AnalysisRunner.scala:313)\u001b[0m\n",
      "\u001b[34m2020-11-08 19:08:57 INFO  DAGScheduler:54 - Got job 4 (collect at AnalysisRunner.scala:313) with 1 output partitions\u001b[0m\n",
      "\u001b[34m2020-11-08 19:08:57 INFO  DAGScheduler:54 - Final stage: ResultStage 6 (collect at AnalysisRunner.scala:313)\u001b[0m\n",
      "\u001b[34m2020-11-08 19:08:57 INFO  DAGScheduler:54 - Parents of final stage: List(ShuffleMapStage 5)\u001b[0m\n",
      "\u001b[34m2020-11-08 19:08:57 INFO  DAGScheduler:54 - Missing parents: List(ShuffleMapStage 5)\u001b[0m\n",
      "\u001b[34m2020-11-08 19:08:57 INFO  DAGScheduler:54 - Submitting ShuffleMapStage 5 (MapPartitionsRDD[39] at collect at AnalysisRunner.scala:313), which has no missing parents\u001b[0m\n",
      "\u001b[34m2020-11-08 19:08:57 INFO  MemoryStore:54 - Block broadcast_8 stored as values in memory (estimated size 63.8 KB, free 1457.8 MB)\u001b[0m\n",
      "\u001b[34m2020-11-08 19:08:57 INFO  MemoryStore:54 - Block broadcast_8_piece0 stored as bytes in memory (estimated size 22.1 KB, free 1457.8 MB)\u001b[0m\n",
      "\u001b[34m2020-11-08 19:08:57 INFO  BlockManagerInfo:54 - Added broadcast_8_piece0 in memory on 10.2.245.200:33603 (size: 22.1 KB, free: 1458.5 MB)\u001b[0m\n",
      "\u001b[34m2020-11-08 19:08:57 INFO  SparkContext:54 - Created broadcast 8 from broadcast at DAGScheduler.scala:1039\u001b[0m\n",
      "\u001b[34m2020-11-08 19:08:57 INFO  DAGScheduler:54 - Submitting 1 missing tasks from ShuffleMapStage 5 (MapPartitionsRDD[39] at collect at AnalysisRunner.scala:313) (first 15 tasks are for partitions Vector(0))\u001b[0m\n",
      "\u001b[34m2020-11-08 19:08:57 INFO  YarnScheduler:54 - Adding task set 5.0 with 1 tasks\u001b[0m\n",
      "\u001b[34m2020-11-08 19:08:57 INFO  TaskSetManager:54 - Starting task 0.0 in stage 5.0 (TID 5, algo-1, executor 1, partition 0, PROCESS_LOCAL, 8341 bytes)\u001b[0m\n",
      "\u001b[34m2020-11-08 19:08:57 INFO  BlockManagerInfo:54 - Added broadcast_8_piece0 in memory on algo-1:34523 (size: 22.1 KB, free: 11.9 GB)\u001b[0m\n",
      "\u001b[34m2020-11-08 19:08:57 INFO  TaskSetManager:54 - Finished task 0.0 in stage 5.0 (TID 5) in 111 ms on algo-1 (executor 1) (1/1)\u001b[0m\n",
      "\u001b[34m2020-11-08 19:08:57 INFO  YarnScheduler:54 - Removed TaskSet 5.0, whose tasks have all completed, from pool \u001b[0m\n",
      "\u001b[34m2020-11-08 19:08:57 INFO  DAGScheduler:54 - ShuffleMapStage 5 (collect at AnalysisRunner.scala:313) finished in 0.126 s\u001b[0m\n",
      "\u001b[34m2020-11-08 19:08:57 INFO  DAGScheduler:54 - looking for newly runnable stages\u001b[0m\n",
      "\u001b[34m2020-11-08 19:08:57 INFO  DAGScheduler:54 - running: Set()\u001b[0m\n",
      "\u001b[34m2020-11-08 19:08:57 INFO  DAGScheduler:54 - waiting: Set(ResultStage 6)\u001b[0m\n",
      "\u001b[34m2020-11-08 19:08:57 INFO  DAGScheduler:54 - failed: Set()\u001b[0m\n",
      "\u001b[34m2020-11-08 19:08:57 INFO  DAGScheduler:54 - Submitting ResultStage 6 (MapPartitionsRDD[42] at collect at AnalysisRunner.scala:313), which has no missing parents\u001b[0m\n",
      "\u001b[34m2020-11-08 19:08:57 INFO  MemoryStore:54 - Block broadcast_9 stored as values in memory (estimated size 54.0 KB, free 1457.8 MB)\u001b[0m\n",
      "\u001b[34m2020-11-08 19:08:57 INFO  MemoryStore:54 - Block broadcast_9_piece0 stored as bytes in memory (estimated size 16.5 KB, free 1457.7 MB)\u001b[0m\n",
      "\u001b[34m2020-11-08 19:08:57 INFO  BlockManagerInfo:54 - Added broadcast_9_piece0 in memory on 10.2.245.200:33603 (size: 16.5 KB, free: 1458.5 MB)\u001b[0m\n",
      "\u001b[34m2020-11-08 19:08:57 INFO  SparkContext:54 - Created broadcast 9 from broadcast at DAGScheduler.scala:1039\u001b[0m\n",
      "\u001b[34m2020-11-08 19:08:57 INFO  DAGScheduler:54 - Submitting 1 missing tasks from ResultStage 6 (MapPartitionsRDD[42] at collect at AnalysisRunner.scala:313) (first 15 tasks are for partitions Vector(0))\u001b[0m\n",
      "\u001b[34m2020-11-08 19:08:57 INFO  YarnScheduler:54 - Adding task set 6.0 with 1 tasks\u001b[0m\n",
      "\u001b[34m2020-11-08 19:08:57 INFO  TaskSetManager:54 - Starting task 0.0 in stage 6.0 (TID 6, algo-1, executor 1, partition 0, NODE_LOCAL, 7765 bytes)\u001b[0m\n",
      "\u001b[34m2020-11-08 19:08:57 INFO  BlockManagerInfo:54 - Added broadcast_9_piece0 in memory on algo-1:34523 (size: 16.5 KB, free: 11.9 GB)\u001b[0m\n",
      "\u001b[34m2020-11-08 19:08:57 INFO  MapOutputTrackerMasterEndpoint:54 - Asked to send map output locations for shuffle 1 to 10.2.245.200:52544\u001b[0m\n",
      "\u001b[34m2020-11-08 19:08:57 INFO  TaskSetManager:54 - Finished task 0.0 in stage 6.0 (TID 6) in 104 ms on algo-1 (executor 1) (1/1)\u001b[0m\n",
      "\u001b[34m2020-11-08 19:08:57 INFO  YarnScheduler:54 - Removed TaskSet 6.0, whose tasks have all completed, from pool \u001b[0m\n",
      "\u001b[34m2020-11-08 19:08:57 INFO  DAGScheduler:54 - ResultStage 6 (collect at AnalysisRunner.scala:313) finished in 0.116 s\u001b[0m\n",
      "\u001b[34m2020-11-08 19:08:57 INFO  DAGScheduler:54 - Job 4 finished: collect at AnalysisRunner.scala:313, took 0.251883 s\u001b[0m\n",
      "\u001b[34m2020-11-08 19:08:57 INFO  SparkContext:54 - Starting job: countByKey at ColumnProfiler.scala:566\u001b[0m\n",
      "\u001b[34m2020-11-08 19:08:57 INFO  DAGScheduler:54 - Registering RDD 49 (countByKey at ColumnProfiler.scala:566)\u001b[0m\n",
      "\u001b[34m2020-11-08 19:08:57 INFO  DAGScheduler:54 - Got job 5 (countByKey at ColumnProfiler.scala:566) with 1 output partitions\u001b[0m\n",
      "\u001b[34m2020-11-08 19:08:57 INFO  DAGScheduler:54 - Final stage: ResultStage 8 (countByKey at ColumnProfiler.scala:566)\u001b[0m\n",
      "\u001b[34m2020-11-08 19:08:57 INFO  DAGScheduler:54 - Parents of final stage: List(ShuffleMapStage 7)\u001b[0m\n",
      "\u001b[34m2020-11-08 19:08:57 INFO  DAGScheduler:54 - Missing parents: List(ShuffleMapStage 7)\u001b[0m\n",
      "\u001b[34m2020-11-08 19:08:57 INFO  DAGScheduler:54 - Submitting ShuffleMapStage 7 (MapPartitionsRDD[49] at countByKey at ColumnProfiler.scala:566), which has no missing parents\u001b[0m\n",
      "\u001b[34m2020-11-08 19:08:57 INFO  MemoryStore:54 - Block broadcast_10 stored as values in memory (estimated size 19.9 KB, free 1457.7 MB)\u001b[0m\n",
      "\u001b[34m2020-11-08 19:08:57 INFO  MemoryStore:54 - Block broadcast_10_piece0 stored as bytes in memory (estimated size 9.7 KB, free 1457.7 MB)\u001b[0m\n",
      "\u001b[34m2020-11-08 19:08:57 INFO  BlockManagerInfo:54 - Added broadcast_10_piece0 in memory on 10.2.245.200:33603 (size: 9.7 KB, free: 1458.4 MB)\u001b[0m\n",
      "\u001b[34m2020-11-08 19:08:57 INFO  SparkContext:54 - Created broadcast 10 from broadcast at DAGScheduler.scala:1039\u001b[0m\n",
      "\u001b[34m2020-11-08 19:08:57 INFO  DAGScheduler:54 - Submitting 1 missing tasks from ShuffleMapStage 7 (MapPartitionsRDD[49] at countByKey at ColumnProfiler.scala:566) (first 15 tasks are for partitions Vector(0))\u001b[0m\n",
      "\u001b[34m2020-11-08 19:08:57 INFO  YarnScheduler:54 - Adding task set 7.0 with 1 tasks\u001b[0m\n",
      "\u001b[34m2020-11-08 19:08:57 INFO  TaskSetManager:54 - Starting task 0.0 in stage 7.0 (TID 7, algo-1, executor 1, partition 0, PROCESS_LOCAL, 8341 bytes)\u001b[0m\n",
      "\u001b[34m2020-11-08 19:08:57 INFO  BlockManagerInfo:54 - Added broadcast_10_piece0 in memory on algo-1:34523 (size: 9.7 KB, free: 11.9 GB)\u001b[0m\n",
      "\u001b[34m2020-11-08 19:08:58 INFO  TaskSetManager:54 - Finished task 0.0 in stage 7.0 (TID 7) in 1034 ms on algo-1 (executor 1) (1/1)\u001b[0m\n",
      "\u001b[34m2020-11-08 19:08:58 INFO  YarnScheduler:54 - Removed TaskSet 7.0, whose tasks have all completed, from pool \u001b[0m\n",
      "\u001b[34m2020-11-08 19:08:58 INFO  DAGScheduler:54 - ShuffleMapStage 7 (countByKey at ColumnProfiler.scala:566) finished in 1.066 s\u001b[0m\n",
      "\u001b[34m2020-11-08 19:08:58 INFO  DAGScheduler:54 - looking for newly runnable stages\u001b[0m\n",
      "\u001b[34m2020-11-08 19:08:58 INFO  DAGScheduler:54 - running: Set()\u001b[0m\n",
      "\u001b[34m2020-11-08 19:08:58 INFO  DAGScheduler:54 - waiting: Set(ResultStage 8)\u001b[0m\n",
      "\u001b[34m2020-11-08 19:08:58 INFO  DAGScheduler:54 - failed: Set()\u001b[0m\n",
      "\u001b[34m2020-11-08 19:08:58 INFO  DAGScheduler:54 - Submitting ResultStage 8 (ShuffledRDD[50] at countByKey at ColumnProfiler.scala:566), which has no missing parents\u001b[0m\n",
      "\u001b[34m2020-11-08 19:08:58 INFO  MemoryStore:54 - Block broadcast_11 stored as values in memory (estimated size 3.2 KB, free 1457.7 MB)\u001b[0m\n",
      "\u001b[34m2020-11-08 19:08:58 INFO  MemoryStore:54 - Block broadcast_11_piece0 stored as bytes in memory (estimated size 1924.0 B, free 1457.7 MB)\u001b[0m\n",
      "\u001b[34m2020-11-08 19:08:58 INFO  BlockManagerInfo:54 - Added broadcast_11_piece0 in memory on 10.2.245.200:33603 (size: 1924.0 B, free: 1458.4 MB)\u001b[0m\n",
      "\u001b[34m2020-11-08 19:08:58 INFO  SparkContext:54 - Created broadcast 11 from broadcast at DAGScheduler.scala:1039\u001b[0m\n",
      "\u001b[34m2020-11-08 19:08:58 INFO  DAGScheduler:54 - Submitting 1 missing tasks from ResultStage 8 (ShuffledRDD[50] at countByKey at ColumnProfiler.scala:566) (first 15 tasks are for partitions Vector(0))\u001b[0m\n",
      "\u001b[34m2020-11-08 19:08:58 INFO  YarnScheduler:54 - Adding task set 8.0 with 1 tasks\u001b[0m\n",
      "\u001b[34m2020-11-08 19:08:58 INFO  TaskSetManager:54 - Starting task 0.0 in stage 8.0 (TID 8, algo-1, executor 1, partition 0, NODE_LOCAL, 7660 bytes)\u001b[0m\n",
      "\u001b[34m2020-11-08 19:08:58 INFO  BlockManagerInfo:54 - Added broadcast_11_piece0 in memory on algo-1:34523 (size: 1924.0 B, free: 11.9 GB)\u001b[0m\n",
      "\u001b[34m2020-11-08 19:08:58 INFO  MapOutputTrackerMasterEndpoint:54 - Asked to send map output locations for shuffle 2 to 10.2.245.200:52544\u001b[0m\n",
      "\u001b[34m2020-11-08 19:08:58 INFO  TaskSetManager:54 - Finished task 0.0 in stage 8.0 (TID 8) in 75 ms on algo-1 (executor 1) (1/1)\u001b[0m\n",
      "\u001b[34m2020-11-08 19:08:58 INFO  YarnScheduler:54 - Removed TaskSet 8.0, whose tasks have all completed, from pool \u001b[0m\n",
      "\u001b[34m2020-11-08 19:08:58 INFO  DAGScheduler:54 - ResultStage 8 (countByKey at ColumnProfiler.scala:566) finished in 0.090 s\u001b[0m\n",
      "\u001b[34m2020-11-08 19:08:58 INFO  DAGScheduler:54 - Job 5 finished: countByKey at ColumnProfiler.scala:566, took 1.172079 s\u001b[0m\n",
      "\u001b[34m2020-11-08 19:08:58 INFO  ConstraintGenerator:45 - Generating Constraints:\u001b[0m\n",
      "\u001b[34m2020-11-08 19:08:58 INFO  ConstraintGenerator:50 - Constraints: {\n",
      "  \"version\" : 0.0,\n",
      "  \"features\" : [ {\n",
      "    \"name\" : \"class\",\n",
      "    \"inferred_type\" : \"Integral\",\n",
      "    \"completeness\" : 1.0,\n",
      "    \"num_constraints\" : {\n",
      "      \"is_non_negative\" : true\n",
      "    }\n",
      "  }, {\n",
      "    \"name\" : \"mass\",\n",
      "    \"inferred_type\" : \"Fractional\",\n",
      "    \"completeness\" : 1.0,\n",
      "    \"num_constraints\" : {\n",
      "      \"is_non_negative\" : true\n",
      "    }\n",
      "  }, {\n",
      "    \"name\" : \"width\",\n",
      "    \"inferred_type\" : \"Fractional\",\n",
      "    \"completeness\" : 1.0,\n",
      "    \"num_constraints\" : {\n",
      "      \"is_non_negative\" : true\n",
      "    }\n",
      "  }, {\n",
      "    \"name\" : \"height\",\n",
      "    \"inferred_type\" : \"Fractional\",\n",
      "    \"completeness\" : 1.0,\n",
      "    \"num_constraints\" : {\n",
      "      \"is_non_negative\" : true\n",
      "    }\n",
      "  }, {\n",
      "    \"name\" : \"color_score\",\n",
      "    \"inferred_type\" : \"Fractional\",\n",
      "    \"completeness\" : 1.0,\n",
      "    \"num_constraints\" : {\n",
      "      \"is_non_negative\" : true\n",
      "    }\n",
      "  } ],\n",
      "  \"monitoring_config\" : {\n",
      "    \"evaluate_constraints\" : \"Enabled\",\n",
      "    \"emit_metrics\" : \"Enabled\",\n",
      "    \"datatype_check_threshold\" : 1.0,\n",
      "    \"domain_content_threshold\" : 1.0,\n",
      "    \"distribution_constraints\" : {\n",
      "      \"perform_comparison\" : \"Enabled\",\n",
      "      \"comparison_threshold\" : 0.1,\n",
      "      \"comparison_method\" : \"Robust\"\n",
      "    }\n",
      "  }\u001b[0m\n",
      "\u001b[34m}\u001b[0m\n",
      "\u001b[34m2020-11-08 19:08:58 INFO  FileUtil:29 - Write to file constraints.json at path /opt/ml/processing/output.\u001b[0m\n",
      "\u001b[34m2020-11-08 19:08:58 INFO  StatsGenerator:65 - Generating Stats:\u001b[0m\n",
      "\u001b[34m2020-11-08 19:08:58 INFO  CodeGenerator:54 - Code generated in 9.931971 ms\u001b[0m\n",
      "\u001b[34m2020-11-08 19:08:58 INFO  CodeGenerator:54 - Code generated in 7.915235 ms\u001b[0m\n",
      "\u001b[34m2020-11-08 19:08:58 INFO  SparkContext:54 - Starting job: count at StatsGenerator.scala:67\u001b[0m\n",
      "\u001b[34m2020-11-08 19:08:58 INFO  DAGScheduler:54 - Registering RDD 55 (count at StatsGenerator.scala:67)\u001b[0m\n",
      "\u001b[34m2020-11-08 19:08:58 INFO  DAGScheduler:54 - Got job 6 (count at StatsGenerator.scala:67) with 1 output partitions\u001b[0m\n",
      "\u001b[34m2020-11-08 19:08:58 INFO  DAGScheduler:54 - Final stage: ResultStage 10 (count at StatsGenerator.scala:67)\u001b[0m\n",
      "\u001b[34m2020-11-08 19:08:58 INFO  DAGScheduler:54 - Parents of final stage: List(ShuffleMapStage 9)\u001b[0m\n",
      "\u001b[34m2020-11-08 19:08:58 INFO  DAGScheduler:54 - Missing parents: List(ShuffleMapStage 9)\u001b[0m\n",
      "\u001b[34m2020-11-08 19:08:58 INFO  DAGScheduler:54 - Submitting ShuffleMapStage 9 (MapPartitionsRDD[55] at count at StatsGenerator.scala:67), which has no missing parents\u001b[0m\n",
      "\u001b[34m2020-11-08 19:08:58 INFO  MemoryStore:54 - Block broadcast_12 stored as values in memory (estimated size 20.8 KB, free 1457.7 MB)\u001b[0m\n",
      "\u001b[34m2020-11-08 19:08:58 INFO  MemoryStore:54 - Block broadcast_12_piece0 stored as bytes in memory (estimated size 9.7 KB, free 1457.7 MB)\u001b[0m\n",
      "\u001b[34m2020-11-08 19:08:58 INFO  BlockManagerInfo:54 - Added broadcast_12_piece0 in memory on 10.2.245.200:33603 (size: 9.7 KB, free: 1458.4 MB)\u001b[0m\n",
      "\u001b[34m2020-11-08 19:08:58 INFO  SparkContext:54 - Created broadcast 12 from broadcast at DAGScheduler.scala:1039\u001b[0m\n",
      "\u001b[34m2020-11-08 19:08:58 INFO  DAGScheduler:54 - Submitting 1 missing tasks from ShuffleMapStage 9 (MapPartitionsRDD[55] at count at StatsGenerator.scala:67) (first 15 tasks are for partitions Vector(0))\u001b[0m\n",
      "\u001b[34m2020-11-08 19:08:58 INFO  YarnScheduler:54 - Adding task set 9.0 with 1 tasks\u001b[0m\n",
      "\u001b[34m2020-11-08 19:08:58 INFO  TaskSetManager:54 - Starting task 0.0 in stage 9.0 (TID 9, algo-1, executor 1, partition 0, PROCESS_LOCAL, 8341 bytes)\u001b[0m\n",
      "\u001b[34m2020-11-08 19:08:58 INFO  BlockManagerInfo:54 - Added broadcast_12_piece0 in memory on algo-1:34523 (size: 9.7 KB, free: 11.9 GB)\u001b[0m\n",
      "\u001b[34m2020-11-08 19:08:58 INFO  TaskSetManager:54 - Finished task 0.0 in stage 9.0 (TID 9) in 61 ms on algo-1 (executor 1) (1/1)\u001b[0m\n",
      "\u001b[34m2020-11-08 19:08:58 INFO  YarnScheduler:54 - Removed TaskSet 9.0, whose tasks have all completed, from pool \u001b[0m\n",
      "\u001b[34m2020-11-08 19:08:58 INFO  DAGScheduler:54 - ShuffleMapStage 9 (count at StatsGenerator.scala:67) finished in 0.071 s\u001b[0m\n",
      "\u001b[34m2020-11-08 19:08:58 INFO  DAGScheduler:54 - looking for newly runnable stages\u001b[0m\n",
      "\u001b[34m2020-11-08 19:08:58 INFO  DAGScheduler:54 - running: Set()\u001b[0m\n",
      "\u001b[34m2020-11-08 19:08:58 INFO  DAGScheduler:54 - waiting: Set(ResultStage 10)\u001b[0m\n",
      "\u001b[34m2020-11-08 19:08:58 INFO  DAGScheduler:54 - failed: Set()\u001b[0m\n",
      "\u001b[34m2020-11-08 19:08:58 INFO  DAGScheduler:54 - Submitting ResultStage 10 (MapPartitionsRDD[58] at count at StatsGenerator.scala:67), which has no missing parents\u001b[0m\n",
      "\u001b[34m2020-11-08 19:08:58 INFO  MemoryStore:54 - Block broadcast_13 stored as values in memory (estimated size 7.4 KB, free 1457.7 MB)\u001b[0m\n",
      "\u001b[34m2020-11-08 19:08:58 INFO  MemoryStore:54 - Block broadcast_13_piece0 stored as bytes in memory (estimated size 3.8 KB, free 1457.7 MB)\u001b[0m\n",
      "\u001b[34m2020-11-08 19:08:58 INFO  BlockManagerInfo:54 - Added broadcast_13_piece0 in memory on 10.2.245.200:33603 (size: 3.8 KB, free: 1458.4 MB)\u001b[0m\n",
      "\u001b[34m2020-11-08 19:08:58 INFO  SparkContext:54 - Created broadcast 13 from broadcast at DAGScheduler.scala:1039\u001b[0m\n",
      "\u001b[34m2020-11-08 19:08:58 INFO  DAGScheduler:54 - Submitting 1 missing tasks from ResultStage 10 (MapPartitionsRDD[58] at count at StatsGenerator.scala:67) (first 15 tasks are for partitions Vector(0))\u001b[0m\n",
      "\u001b[34m2020-11-08 19:08:58 INFO  YarnScheduler:54 - Adding task set 10.0 with 1 tasks\u001b[0m\n",
      "\u001b[34m2020-11-08 19:08:58 INFO  TaskSetManager:54 - Starting task 0.0 in stage 10.0 (TID 10, algo-1, executor 1, partition 0, NODE_LOCAL, 7765 bytes)\u001b[0m\n",
      "\u001b[34m2020-11-08 19:08:58 INFO  BlockManagerInfo:54 - Added broadcast_13_piece0 in memory on algo-1:34523 (size: 3.8 KB, free: 11.9 GB)\u001b[0m\n",
      "\u001b[34m2020-11-08 19:08:58 INFO  MapOutputTrackerMasterEndpoint:54 - Asked to send map output locations for shuffle 3 to 10.2.245.200:52544\u001b[0m\n",
      "\u001b[34m2020-11-08 19:08:58 INFO  TaskSetManager:54 - Finished task 0.0 in stage 10.0 (TID 10) in 34 ms on algo-1 (executor 1) (1/1)\u001b[0m\n",
      "\u001b[34m2020-11-08 19:08:58 INFO  YarnScheduler:54 - Removed TaskSet 10.0, whose tasks have all completed, from pool \u001b[0m\n",
      "\u001b[34m2020-11-08 19:08:58 INFO  DAGScheduler:54 - ResultStage 10 (count at StatsGenerator.scala:67) finished in 0.052 s\u001b[0m\n",
      "\u001b[34m2020-11-08 19:08:58 INFO  DAGScheduler:54 - Job 6 finished: count at StatsGenerator.scala:67, took 0.130816 s\u001b[0m\n",
      "\u001b[34m2020-11-08 19:08:59 INFO  StatsGenerator:70 - Stats: {\n",
      "  \"version\" : 0.0,\n",
      "  \"dataset\" : {\n",
      "    \"item_count\" : 44\n",
      "  },\n",
      "  \"features\" : [ {\n",
      "    \"name\" : \"class\",\n",
      "    \"inferred_type\" : \"Integral\",\n",
      "    \"numerical_statistics\" : {\n",
      "      \"common\" : {\n",
      "        \"num_present\" : 44,\n",
      "        \"num_missing\" : 0\n",
      "      },\n",
      "      \"mean\" : 1.3636363636363635,\n",
      "      \"sum\" : 60.0,\n",
      "      \"std_dev\" : 1.207757295962402,\n",
      "      \"min\" : 0.0,\n",
      "      \"max\" : 3.0,\n",
      "      \"distribution\" : {\n",
      "        \"kll\" : {\n",
      "          \"buckets\" : [ {\n",
      "            \"lower_bound\" : 0.0,\n",
      "            \"upper_bound\" : 0.3,\n",
      "            \"count\" : 14.0\n",
      "          }, {\n",
      "            \"lower_bound\" : 0.3,\n",
      "            \"upper_bound\" : 0.6,\n",
      "            \"count\" : 0.0\n",
      "          }, {\n",
      "            \"lower_bound\" : 0.6,\n",
      "            \"upper_bound\" : 0.9,\n",
      "            \"count\" : 0.0\n",
      "          }, {\n",
      "            \"lower_bound\" : 0.9,\n",
      "            \"upper_bound\" : 1.2,\n",
      "            \"count\" : 13.0\n",
      "          }, {\n",
      "            \"lower_bound\" : 1.2,\n",
      "            \"upper_bound\" : 1.5,\n",
      "            \"count\" : 0.0\n",
      "          }, {\n",
      "            \"lower_bound\" : 1.5,\n",
      "            \"upper_bound\" : 1.8,\n",
      "            \"count\" : 0.0\n",
      "          }, {\n",
      "            \"lower_bound\" : 1.8,\n",
      "            \"upper_bound\" : 2.1,\n",
      "            \"count\" : 4.0\n",
      "          }, {\n",
      "            \"lower_bound\" : 2.1,\n",
      "            \"upper_bound\" : 2.4,\n",
      "            \"count\" : 0.0\n",
      "          }, {\n",
      "            \"lower_bound\" : 2.4,\n",
      "            \"upper_bound\" : 2.7,\n",
      "            \"count\" : 0.0\n",
      "          }, {\n",
      "            \"lower_bound\" : 2.7,\n",
      "            \"upper_bound\" : 3.0,\n",
      "            \"count\" : 13.0\n",
      "          } ],\n",
      "          \"sketch\" : {\n",
      "            \"parameters\" : {\n",
      "              \"c\" : 0.64,\n",
      "              \"k\" : 2048.0\n",
      "            },\n",
      "            \"data\" : [ [ 0.0, 1.0, 0.0, 0.0, 1.0, 1.0, 0.0, 0.0, 2.0, 3.0, 3.0, 1.0, 2.0, 1.0, 3.0, 3.0, 0.0, 1.0, 3.0, 0.0, 1.0, 2.0, 2.0, 0.0, 1.0, 3.0, 0.0, 1.0, 3.0, 1.0, 1.0, 0.0, 1.0, 3.0, 3.0, 0.0, 3.0, 0.0, 0.0, 3.0, 3.0, 3.0, 0.0, 1.0 ] ]\n",
      "          }\n",
      "        }\n",
      "      }\n",
      "    }\n",
      "  }, {\n",
      "    \"name\" : \"mass\",\n",
      "    \"inferred_type\" : \"Fractional\",\n",
      "    \"numerical_statistics\" : {\n",
      "      \"common\" : {\n",
      "        \"num_present\" : 44,\n",
      "        \"num_missing\" : 0\n",
      "      },\n",
      "      \"mean\" : 0.3019480519480519,\n",
      "      \"sum\" : 13.285714285714285,\n",
      "      \"std_dev\" : 0.18439443357765442,\n",
      "      \"min\" : 0.0,\n",
      "      \"max\" : 1.0,\n",
      "      \"distribution\" : {\n",
      "        \"kll\" : {\n",
      "          \"buckets\" : [ {\n",
      "            \"lower_bound\" : 0.0,\n",
      "            \"upper_bound\" : 0.1,\n",
      "            \"count\" : 4.0\n",
      "          }, {\n",
      "            \"lower_bound\" : 0.1,\n",
      "            \"upper_bound\" : 0.2,\n",
      "            \"count\" : 5.0\n",
      "          }, {\n",
      "            \"lower_bound\" : 0.2,\n",
      "            \"upper_bound\" : 0.3,\n",
      "            \"count\" : 15.0\n",
      "          }, {\n",
      "            \"lower_bound\" : 0.3,\n",
      "            \"upper_bound\" : 0.4,\n",
      "            \"count\" : 13.0\n",
      "          }, {\n",
      "            \"lower_bound\" : 0.4,\n",
      "            \"upper_bound\" : 0.5,\n",
      "            \"count\" : 5.0\n",
      "          }, {\n",
      "            \"lower_bound\" : 0.5,\n",
      "            \"upper_bound\" : 0.6,\n",
      "            \"count\" : 0.0\n",
      "          }, {\n",
      "            \"lower_bound\" : 0.6,\n",
      "            \"upper_bound\" : 0.7,\n",
      "            \"count\" : 0.0\n",
      "          }, {\n",
      "            \"lower_bound\" : 0.7,\n",
      "            \"upper_bound\" : 0.8,\n",
      "            \"count\" : 0.0\n",
      "          }, {\n",
      "            \"lower_bound\" : 0.8,\n",
      "            \"upper_bound\" : 0.9,\n",
      "            \"count\" : 0.0\n",
      "          }, {\n",
      "            \"lower_bound\" : 0.9,\n",
      "            \"upper_bound\" : 1.0,\n",
      "            \"count\" : 2.0\n",
      "          } ],\n",
      "          \"sketch\" : {\n",
      "            \"parameters\" : {\n",
      "              \"c\" : 0.64,\n",
      "              \"k\" : 2048.0\n",
      "            },\n",
      "            \"data\" : [ [ 0.32142857142857145, 0.42142857142857143, 0.36428571428571427, 0.2785714285714285, 0.19285714285714284, 0.2, 0.28571428571428575, 0.3714285714285714, 0.01428571428571429, 0.24285714285714283, 0.2785714285714285, 0.49999999999999994, 0.0, 0.14285714285714285, 0.3, 0.95, 0.28571428571428575, 0.14285714285714285, 0.2642857142857143, 0.3, 0.2714285714285714, 0.0357142857142857, 0.02857142857142858, 0.28571428571428575, 0.4428571428571429, 0.3, 0.2714285714285714, 0.15000000000000002, 1.0, 0.15000000000000002, 0.35000000000000003, 0.3428571428571428, 0.42857142857142855, 0.31428571428571433, 0.4071428571428572, 0.2285714285714286, 0.2785714285714285, 0.3071428571428571, 0.32857142857142857, 0.29285714285714287, 0.2357142857142857, 0.2285714285714286, 0.35714285714285715, 0.39285714285714285 ] ]\n",
      "          }\n",
      "        }\n",
      "      }\n",
      "    }\n",
      "  }, {\n",
      "    \"name\" : \"width\",\n",
      "    \"inferred_type\" : \"Fractional\",\n",
      "    \"numerical_statistics\" : {\n",
      "      \"common\" : {\n",
      "        \"num_present\" : 44,\n",
      "        \"num_missing\" : 0\n",
      "      },\n",
      "      \"mean\" : 0.3709893048128343,\n",
      "      \"sum\" : 16.32352941176471,\n",
      "      \"std_dev\" : 0.21615108704431354,\n",
      "      \"min\" : 0.0,\n",
      "      \"max\" : 1.0000000000000002,\n",
      "      \"distribution\" : {\n",
      "        \"kll\" : {\n",
      "          \"buckets\" : [ {\n",
      "            \"lower_bound\" : 0.0,\n",
      "            \"upper_bound\" : 0.10000000000000002,\n",
      "            \"count\" : 8.0\n",
      "          }, {\n",
      "            \"lower_bound\" : 0.10000000000000002,\n",
      "            \"upper_bound\" : 0.20000000000000004,\n",
      "            \"count\" : 2.0\n",
      "          }, {\n",
      "            \"lower_bound\" : 0.20000000000000004,\n",
      "            \"upper_bound\" : 0.3000000000000001,\n",
      "            \"count\" : 3.0\n",
      "          }, {\n",
      "            \"lower_bound\" : 0.3000000000000001,\n",
      "            \"upper_bound\" : 0.4000000000000001,\n",
      "            \"count\" : 7.0\n",
      "          }, {\n",
      "            \"lower_bound\" : 0.4000000000000001,\n",
      "            \"upper_bound\" : 0.5000000000000001,\n",
      "            \"count\" : 14.0\n",
      "          }, {\n",
      "            \"lower_bound\" : 0.5000000000000001,\n",
      "            \"upper_bound\" : 0.6000000000000002,\n",
      "            \"count\" : 7.0\n",
      "          }, {\n",
      "            \"lower_bound\" : 0.6000000000000002,\n",
      "            \"upper_bound\" : 0.7000000000000002,\n",
      "            \"count\" : 1.0\n",
      "          }, {\n",
      "            \"lower_bound\" : 0.7000000000000002,\n",
      "            \"upper_bound\" : 0.8000000000000002,\n",
      "            \"count\" : 0.0\n",
      "          }, {\n",
      "            \"lower_bound\" : 0.8000000000000002,\n",
      "            \"upper_bound\" : 0.9000000000000001,\n",
      "            \"count\" : 0.0\n",
      "          }, {\n",
      "            \"lower_bound\" : 0.9000000000000001,\n",
      "            \"upper_bound\" : 1.0000000000000002,\n",
      "            \"count\" : 2.0\n",
      "          } ],\n",
      "          \"sketch\" : {\n",
      "            \"parameters\" : {\n",
      "              \"c\" : 0.64,\n",
      "              \"k\" : 2048.0\n",
      "            },\n",
      "            \"data\" : [ [ 0.32352941176470584, 0.41176470588235303, 0.3823529411764708, 0.35294117647058854, 0.05882352941176472, 0.0, 0.470588235294118, 0.6470588235294119, 0.02941176470588247, 0.2941176470588236, 0.3823529411764708, 0.4411764705882353, 0.0, 0.08823529411764697, 0.35294117647058854, 0.9411764705882353, 0.5588235294117647, 0.1470588235294117, 0.3823529411764708, 0.5000000000000002, 0.2058823529411764, 0.11764705882352944, 0.05882352941176472, 0.5294117647058825, 0.4411764705882353, 0.3823529411764708, 0.5294117647058825, 0.02941176470588247, 1.0000000000000002, 0.08823529411764697, 0.4411764705882353, 0.470588235294118, 0.4411764705882353, 0.41176470588235303, 0.5000000000000002, 0.4411764705882353, 0.41176470588235303, 0.470588235294118, 0.5000000000000002, 0.41176470588235303, 0.5294117647058825, 0.26470588235294135, 0.470588235294118, 0.41176470588235303 ] ]\n",
      "          }\n",
      "        }\n",
      "      }\n",
      "    }\n",
      "  }, {\n",
      "    \"name\" : \"height\",\n",
      "    \"inferred_type\" : \"Fractional\",\n",
      "    \"numerical_statistics\" : {\n",
      "      \"common\" : {\n",
      "        \"num_present\" : 44,\n",
      "        \"num_missing\" : 0\n",
      "      },\n",
      "      \"mean\" : 0.5685314685314685,\n",
      "      \"sum\" : 25.015384615384615,\n",
      "      \"std_dev\" : 0.21951471111635912,\n",
      "      \"min\" : 0.0,\n",
      "      \"max\" : 1.0,\n",
      "      \"distribution\" : {\n",
      "        \"kll\" : {\n",
      "          \"buckets\" : [ {\n",
      "            \"lower_bound\" : 0.0,\n",
      "            \"upper_bound\" : 0.1,\n",
      "            \"count\" : 3.0\n",
      "          }, {\n",
      "            \"lower_bound\" : 0.1,\n",
      "            \"upper_bound\" : 0.2,\n",
      "            \"count\" : 1.0\n",
      "          }, {\n",
      "            \"lower_bound\" : 0.2,\n",
      "            \"upper_bound\" : 0.3,\n",
      "            \"count\" : 0.0\n",
      "          }, {\n",
      "            \"lower_bound\" : 0.3,\n",
      "            \"upper_bound\" : 0.4,\n",
      "            \"count\" : 0.0\n",
      "          }, {\n",
      "            \"lower_bound\" : 0.4,\n",
      "            \"upper_bound\" : 0.5,\n",
      "            \"count\" : 10.0\n",
      "          }, {\n",
      "            \"lower_bound\" : 0.5,\n",
      "            \"upper_bound\" : 0.6,\n",
      "            \"count\" : 14.0\n",
      "          }, {\n",
      "            \"lower_bound\" : 0.6,\n",
      "            \"upper_bound\" : 0.7,\n",
      "            \"count\" : 7.0\n",
      "          }, {\n",
      "            \"lower_bound\" : 0.7,\n",
      "            \"upper_bound\" : 0.8,\n",
      "            \"count\" : 1.0\n",
      "          }, {\n",
      "            \"lower_bound\" : 0.8,\n",
      "            \"upper_bound\" : 0.9,\n",
      "            \"count\" : 4.0\n",
      "          }, {\n",
      "            \"lower_bound\" : 0.9,\n",
      "            \"upper_bound\" : 1.0,\n",
      "            \"count\" : 4.0\n",
      "          } ],\n",
      "          \"sketch\" : {\n",
      "            \"parameters\" : {\n",
      "              \"c\" : 0.64,\n",
      "              \"k\" : 2048.0\n",
      "            },\n",
      "            \"data\" : [ [ 0.5076923076923077, 0.9692307692307693, 0.5846153846153845, 0.476923076923077, 0.6461538461538461, 0.723076923076923, 0.5230769230769232, 0.4307692307692308, 0.0461538461538461, 0.5230769230769232, 0.5384615384615385, 0.9538461538461538, 0.0, 0.6923076923076923, 0.5230769230769232, 0.8307692307692309, 0.476923076923077, 0.5692307692307692, 0.6000000000000001, 0.5384615384615385, 0.6923076923076923, 0.10769230769230775, 0.09230769230769231, 0.5384615384615385, 1.0, 0.5538461538461539, 0.5076923076923077, 0.6153846153846154, 0.8, 0.6307692307692307, 0.9384615384615385, 0.4615384615384617, 0.8769230769230769, 0.4615384615384617, 0.6307692307692307, 0.476923076923077, 0.49230769230769234, 0.49230769230769234, 0.5538461538461539, 0.5846153846153845, 0.5846153846153845, 0.476923076923077, 0.49230769230769234, 0.8 ] ]\n",
      "          }\n",
      "        }\n",
      "      }\n",
      "    }\n",
      "  }, {\n",
      "    \"name\" : \"color_score\",\n",
      "    \"inferred_type\" : \"Fractional\",\n",
      "    \"numerical_statistics\" : {\n",
      "      \"common\" : {\n",
      "        \"num_present\" : 44,\n",
      "        \"num_missing\" : 0\n",
      "      },\n",
      "      \"mean\" : 0.5020053475935828,\n",
      "      \"sum\" : 22.088235294117645,\n",
      "      \"std_dev\" : 0.21752758384968102,\n",
      "      \"min\" : 0.0,\n",
      "      \"max\" : 1.0,\n",
      "      \"distribution\" : {\n",
      "        \"kll\" : {\n",
      "          \"buckets\" : [ {\n",
      "            \"lower_bound\" : 0.0,\n",
      "            \"upper_bound\" : 0.1,\n",
      "            \"count\" : 2.0\n",
      "          }, {\n",
      "            \"lower_bound\" : 0.1,\n",
      "            \"upper_bound\" : 0.2,\n",
      "            \"count\" : 0.0\n",
      "          }, {\n",
      "            \"lower_bound\" : 0.2,\n",
      "            \"upper_bound\" : 0.3,\n",
      "            \"count\" : 3.0\n",
      "          }, {\n",
      "            \"lower_bound\" : 0.3,\n",
      "            \"upper_bound\" : 0.4,\n",
      "            \"count\" : 13.0\n",
      "          }, {\n",
      "            \"lower_bound\" : 0.4,\n",
      "            \"upper_bound\" : 0.5,\n",
      "            \"count\" : 8.0\n",
      "          }, {\n",
      "            \"lower_bound\" : 0.5,\n",
      "            \"upper_bound\" : 0.6,\n",
      "            \"count\" : 4.0\n",
      "          }, {\n",
      "            \"lower_bound\" : 0.6,\n",
      "            \"upper_bound\" : 0.7,\n",
      "            \"count\" : 6.0\n",
      "          }, {\n",
      "            \"lower_bound\" : 0.7,\n",
      "            \"upper_bound\" : 0.8,\n",
      "            \"count\" : 3.0\n",
      "          }, {\n",
      "            \"lower_bound\" : 0.8,\n",
      "            \"upper_bound\" : 0.9,\n",
      "            \"count\" : 3.0\n",
      "          }, {\n",
      "            \"lower_bound\" : 0.9,\n",
      "            \"upper_bound\" : 1.0,\n",
      "            \"count\" : 2.0\n",
      "          } ],\n",
      "          \"sketch\" : {\n",
      "            \"parameters\" : {\n",
      "              \"c\" : 0.64,\n",
      "              \"k\" : 2048.0\n",
      "            },\n",
      "            \"data\" : [ [ 1.0, 0.3235294117647056, 0.9705882352941178, 0.8529411764705879, 0.35294117647058787, 0.4117647058823528, 0.7352941176470584, 0.0, 0.6470588235294117, 0.4705882352941173, 0.5588235294117645, 0.35294117647058787, 0.6470588235294117, 0.35294117647058787, 0.6470588235294117, 0.4705882352941173, 0.2941176470588234, 0.38235294117647056, 0.4705882352941173, 0.7941176470588234, 0.38235294117647056, 0.6176470588235294, 0.5882352941176472, 0.23529411764705888, 0.38235294117647056, 0.5, 0.2941176470588234, 0.38235294117647056, 0.4705882352941173, 0.3235294117647056, 0.38235294117647056, 0.8823529411764706, 0.38235294117647056, 0.6176470588235294, 0.44117647058823506, 0.8235294117647056, 0.6764705882352939, 0.7647058823529411, 0.4117647058823528, 0.5294117647058822, 0.4705882352941173, 0.38235294117647056, 0.02941176470588225, 0.38235294117647056 ] ]\n",
      "          }\n",
      "        }\n",
      "      }\n",
      "    }\n",
      "  } ]\u001b[0m\n",
      "\u001b[34m}\u001b[0m\n",
      "\u001b[34m2020-11-08 19:08:59 INFO  FileUtil:29 - Write to file statistics.json at path /opt/ml/processing/output.\u001b[0m\n",
      "\u001b[34m2020-11-08 19:08:59 INFO  YarnClientSchedulerBackend:54 - Interrupting monitor thread\u001b[0m\n",
      "\u001b[34m2020-11-08 19:08:59 INFO  YarnClientSchedulerBackend:54 - Shutting down all executors\u001b[0m\n",
      "\u001b[34m2020-11-08 19:08:59 INFO  YarnSchedulerBackend$YarnDriverEndpoint:54 - Asking each executor to shut down\u001b[0m\n",
      "\u001b[34m2020-11-08 19:08:59 INFO  SchedulerExtensionServices:54 - Stopping SchedulerExtensionServices\u001b[0m\n",
      "\u001b[34m(serviceOption=None,\n",
      " services=List(),\n",
      " started=false)\u001b[0m\n",
      "\u001b[34m2020-11-08 19:08:59 INFO  YarnClientSchedulerBackend:54 - Stopped\u001b[0m\n",
      "\u001b[34m2020-11-08 19:08:59 INFO  MapOutputTrackerMasterEndpoint:54 - MapOutputTrackerMasterEndpoint stopped!\u001b[0m\n",
      "\u001b[34m2020-11-08 19:08:59 INFO  MemoryStore:54 - MemoryStore cleared\u001b[0m\n",
      "\u001b[34m2020-11-08 19:08:59 INFO  BlockManager:54 - BlockManager stopped\u001b[0m\n",
      "\u001b[34m2020-11-08 19:08:59 INFO  BlockManagerMaster:54 - BlockManagerMaster stopped\u001b[0m\n",
      "\u001b[34m2020-11-08 19:08:59 INFO  OutputCommitCoordinator$OutputCommitCoordinatorEndpoint:54 - OutputCommitCoordinator stopped!\u001b[0m\n",
      "\u001b[34m2020-11-08 19:08:59 INFO  SparkContext:54 - Successfully stopped SparkContext\u001b[0m\n",
      "\u001b[34m2020-11-08 19:08:59 INFO  Main:62 - Completed: Job completed successfully with no violations.\u001b[0m\n",
      "\u001b[34m2020-11-08 19:08:59 INFO  Main:138 - Write to file /opt/ml/output/message.\u001b[0m\n",
      "\u001b[34m2020-11-08 19:08:59 INFO  ShutdownHookManager:54 - Shutdown hook called\u001b[0m\n",
      "\u001b[34m2020-11-08 19:08:59 INFO  ShutdownHookManager:54 - Deleting directory /tmp/spark-d1da0672-9be7-4f78-a5cf-22ebac0e4852\u001b[0m\n",
      "\u001b[34m2020-11-08 19:08:59 INFO  ShutdownHookManager:54 - Deleting directory /tmp/spark-8fccfeb7-b7ba-49cf-ab6f-7cfb391a2bf5\u001b[0m\n",
      "\u001b[34m2020-11-08 19:08:59,510 - DefaultDataAnalyzer - INFO - Completed spark-submit with return code : 0\u001b[0m\n",
      "\u001b[34m2020-11-08 19:08:59,511 - DefaultDataAnalyzer - INFO - Spark job completed.\u001b[0m\n"
     ]
    },
    {
     "name": "stdout",
     "output_type": "stream",
     "text": [
      "\n"
     ]
    },
    {
     "data": {
      "text/plain": [
       "<sagemaker.processing.ProcessingJob at 0x7f8ea078a1d0>"
      ]
     },
     "execution_count": 34,
     "metadata": {},
     "output_type": "execute_result"
    }
   ],
   "source": [
    "default_model_monitor.suggest_baseline(\n",
    "                            baseline_dataset=baseline_data_uri + '/train_with_header.csv',\n",
    "                            dataset_format=DatasetFormat.csv(header=True),\n",
    "                            output_s3_uri=baseline_results_uri,\n",
    "                            wait=True\n",
    "                        )"
   ]
  },
  {
   "cell_type": "markdown",
   "metadata": {},
   "source": [
    "### Explore the generated constraints and statistics"
   ]
  },
  {
   "cell_type": "code",
   "execution_count": 35,
   "metadata": {},
   "outputs": [],
   "source": [
    "s3_client = boto3.Session().client('s3')\n",
    "result = s3_client.list_objects(Bucket=bucket, Prefix=baseline_results_prefix)\n",
    "report_files = [report_file.get('Key') for report_file in result.get('Contents')]"
   ]
  },
  {
   "cell_type": "code",
   "execution_count": 36,
   "metadata": {},
   "outputs": [
    {
     "name": "stdout",
     "output_type": "stream",
     "text": [
      "Found Files:\n",
      "classifier/model-monitor/baselining/results/constraints.json\n",
      " classifier/model-monitor/baselining/results/statistics.json\n"
     ]
    }
   ],
   "source": [
    "print('Found Files:')\n",
    "print(\"\\n \".join(report_files))"
   ]
  },
  {
   "cell_type": "code",
   "execution_count": 37,
   "metadata": {},
   "outputs": [],
   "source": [
    "baseline_job = default_model_monitor.latest_baselining_job"
   ]
  },
  {
   "cell_type": "code",
   "execution_count": 38,
   "metadata": {},
   "outputs": [
    {
     "data": {
      "text/plain": [
       "{'inputs': [<sagemaker.processing.ProcessingInput at 0x7f8ea098c3c8>],\n",
       " 'outputs': [<sagemaker.processing.ProcessingOutput at 0x7f8ea098c470>],\n",
       " 'output_kms_key': None,\n",
       " 'sagemaker_session': <sagemaker.session.Session at 0x7f8ea09d2898>,\n",
       " 'job_name': 'baseline-suggestion-job-2020-11-08-19-04-14-270'}"
      ]
     },
     "execution_count": 38,
     "metadata": {},
     "output_type": "execute_result"
    }
   ],
   "source": [
    "baseline_job.__dict__"
   ]
  },
  {
   "cell_type": "code",
   "execution_count": 39,
   "metadata": {},
   "outputs": [
    {
     "data": {
      "text/plain": [
       "{'evaluate_constraints': 'Enabled',\n",
       " 'emit_metrics': 'Enabled',\n",
       " 'datatype_check_threshold': 1.0,\n",
       " 'domain_content_threshold': 1.0,\n",
       " 'distribution_constraints': {'perform_comparison': 'Enabled',\n",
       "  'comparison_threshold': 0.1,\n",
       "  'comparison_method': 'Robust'}}"
      ]
     },
     "execution_count": 39,
     "metadata": {},
     "output_type": "execute_result"
    }
   ],
   "source": [
    "baseline_job.suggested_constraints().body_dict['monitoring_config']"
   ]
  },
  {
   "cell_type": "code",
   "execution_count": 40,
   "metadata": {},
   "outputs": [
    {
     "data": {
      "text/html": [
       "<div>\n",
       "<style scoped>\n",
       "    .dataframe tbody tr th:only-of-type {\n",
       "        vertical-align: middle;\n",
       "    }\n",
       "\n",
       "    .dataframe tbody tr th {\n",
       "        vertical-align: top;\n",
       "    }\n",
       "\n",
       "    .dataframe thead th {\n",
       "        text-align: right;\n",
       "    }\n",
       "</style>\n",
       "<table border=\"1\" class=\"dataframe\">\n",
       "  <thead>\n",
       "    <tr style=\"text-align: right;\">\n",
       "      <th></th>\n",
       "      <th>name</th>\n",
       "      <th>inferred_type</th>\n",
       "      <th>numerical_statistics.common.num_present</th>\n",
       "      <th>numerical_statistics.common.num_missing</th>\n",
       "      <th>numerical_statistics.mean</th>\n",
       "      <th>numerical_statistics.sum</th>\n",
       "      <th>numerical_statistics.std_dev</th>\n",
       "      <th>numerical_statistics.min</th>\n",
       "      <th>numerical_statistics.max</th>\n",
       "      <th>numerical_statistics.distribution.kll.buckets</th>\n",
       "      <th>numerical_statistics.distribution.kll.sketch.parameters.c</th>\n",
       "      <th>numerical_statistics.distribution.kll.sketch.parameters.k</th>\n",
       "      <th>numerical_statistics.distribution.kll.sketch.data</th>\n",
       "    </tr>\n",
       "  </thead>\n",
       "  <tbody>\n",
       "    <tr>\n",
       "      <th>0</th>\n",
       "      <td>class</td>\n",
       "      <td>Integral</td>\n",
       "      <td>44</td>\n",
       "      <td>0</td>\n",
       "      <td>1.363636</td>\n",
       "      <td>60.000000</td>\n",
       "      <td>1.207757</td>\n",
       "      <td>0.0</td>\n",
       "      <td>3.0</td>\n",
       "      <td>[{'lower_bound': 0.0, 'upper_bound': 0.3, 'count': 14.0}, {'lower_bound': 0.3, 'upper_bound': 0.6, 'count': 0.0}, {'lower_bound': 0.6, 'upper_bound': 0.9, 'count': 0.0}, {'lower_bound': 0.9, 'upper_bound': 1.2, 'count': 13.0}, {'lower_bound': 1.2, 'upper_bound': 1.5, 'count': 0.0}, {'lower_bound': 1.5, 'upper_bound': 1.8, 'count': 0.0}, {'lower_bound': 1.8, 'upper_bound': 2.1, 'count': 4.0}, {'lower_bound': 2.1, 'upper_bound': 2.4, 'count': 0.0}, {'lower_bound': 2.4, 'upper_bound': 2.7, 'count': 0.0}, {'lower_bound': 2.7, 'upper_bound': 3.0, 'count': 13.0}]</td>\n",
       "      <td>0.64</td>\n",
       "      <td>2048.0</td>\n",
       "      <td>[[0.0, 1.0, 0.0, 0.0, 1.0, 1.0, 0.0, 0.0, 2.0, 3.0, 3.0, 1.0, 2.0, 1.0, 3.0, 3.0, 0.0, 1.0, 3.0, 0.0, 1.0, 2.0, 2.0, 0.0, 1.0, 3.0, 0.0, 1.0, 3.0, 1.0, 1.0, 0.0, 1.0, 3.0, 3.0, 0.0, 3.0, 0.0, 0.0, 3.0, 3.0, 3.0, 0.0, 1.0]]</td>\n",
       "    </tr>\n",
       "    <tr>\n",
       "      <th>1</th>\n",
       "      <td>mass</td>\n",
       "      <td>Fractional</td>\n",
       "      <td>44</td>\n",
       "      <td>0</td>\n",
       "      <td>0.301948</td>\n",
       "      <td>13.285714</td>\n",
       "      <td>0.184394</td>\n",
       "      <td>0.0</td>\n",
       "      <td>1.0</td>\n",
       "      <td>[{'lower_bound': 0.0, 'upper_bound': 0.1, 'count': 4.0}, {'lower_bound': 0.1, 'upper_bound': 0.2, 'count': 5.0}, {'lower_bound': 0.2, 'upper_bound': 0.3, 'count': 15.0}, {'lower_bound': 0.3, 'upper_bound': 0.4, 'count': 13.0}, {'lower_bound': 0.4, 'upper_bound': 0.5, 'count': 5.0}, {'lower_bound': 0.5, 'upper_bound': 0.6, 'count': 0.0}, {'lower_bound': 0.6, 'upper_bound': 0.7, 'count': 0.0}, {'lower_bound': 0.7, 'upper_bound': 0.8, 'count': 0.0}, {'lower_bound': 0.8, 'upper_bound': 0.9, 'count': 0.0}, {'lower_bound': 0.9, 'upper_bound': 1.0, 'count': 2.0}]</td>\n",
       "      <td>0.64</td>\n",
       "      <td>2048.0</td>\n",
       "      <td>[[0.32142857142857145, 0.42142857142857143, 0.36428571428571427, 0.2785714285714285, 0.19285714285714284, 0.2, 0.28571428571428575, 0.3714285714285714, 0.01428571428571429, 0.24285714285714283, 0.2785714285714285, 0.49999999999999994, 0.0, 0.14285714285714285, 0.3, 0.95, 0.28571428571428575, 0.14285714285714285, 0.2642857142857143, 0.3, 0.2714285714285714, 0.0357142857142857, 0.02857142857142858, 0.28571428571428575, 0.4428571428571429, 0.3, 0.2714285714285714, 0.15000000000000002, 1.0, 0.15000000000000002, 0.35000000000000003, 0.3428571428571428, 0.42857142857142855, 0.31428571428571433, 0.4071428571428572, 0.2285714285714286, 0.2785714285714285, 0.3071428571428571, 0.32857142857142857, 0.29285714285714287, 0.2357142857142857, 0.2285714285714286, 0.35714285714285715, 0.39285714285714285]]</td>\n",
       "    </tr>\n",
       "    <tr>\n",
       "      <th>2</th>\n",
       "      <td>width</td>\n",
       "      <td>Fractional</td>\n",
       "      <td>44</td>\n",
       "      <td>0</td>\n",
       "      <td>0.370989</td>\n",
       "      <td>16.323529</td>\n",
       "      <td>0.216151</td>\n",
       "      <td>0.0</td>\n",
       "      <td>1.0</td>\n",
       "      <td>[{'lower_bound': 0.0, 'upper_bound': 0.10000000000000002, 'count': 8.0}, {'lower_bound': 0.10000000000000002, 'upper_bound': 0.20000000000000004, 'count': 2.0}, {'lower_bound': 0.20000000000000004, 'upper_bound': 0.3000000000000001, 'count': 3.0}, {'lower_bound': 0.3000000000000001, 'upper_bound': 0.4000000000000001, 'count': 7.0}, {'lower_bound': 0.4000000000000001, 'upper_bound': 0.5000000000000001, 'count': 14.0}, {'lower_bound': 0.5000000000000001, 'upper_bound': 0.6000000000000002, 'count': 7.0}, {'lower_bound': 0.6000000000000002, 'upper_bound': 0.7000000000000002, 'count': 1.0}, {'lower_bound': 0.7000000000000002, 'upper_bound': 0.8000000000000002, 'count': 0.0}, {'lower_bound': 0.8000000000000002, 'upper_bound': 0.9000000000000001, 'count': 0.0}, {'lower_bound': 0.9000000000000001, 'upper_bound': 1.0000000000000002, 'count': 2.0}]</td>\n",
       "      <td>0.64</td>\n",
       "      <td>2048.0</td>\n",
       "      <td>[[0.32352941176470584, 0.41176470588235303, 0.3823529411764708, 0.35294117647058854, 0.05882352941176472, 0.0, 0.470588235294118, 0.6470588235294119, 0.02941176470588247, 0.2941176470588236, 0.3823529411764708, 0.4411764705882353, 0.0, 0.08823529411764697, 0.35294117647058854, 0.9411764705882353, 0.5588235294117647, 0.1470588235294117, 0.3823529411764708, 0.5000000000000002, 0.2058823529411764, 0.11764705882352944, 0.05882352941176472, 0.5294117647058825, 0.4411764705882353, 0.3823529411764708, 0.5294117647058825, 0.02941176470588247, 1.0000000000000002, 0.08823529411764697, 0.4411764705882353, 0.470588235294118, 0.4411764705882353, 0.41176470588235303, 0.5000000000000002, 0.4411764705882353, 0.41176470588235303, 0.470588235294118, 0.5000000000000002, 0.41176470588235303, 0.5294117647058825, 0.26470588235294135, 0.470588235294118, 0.41176470588235303]]</td>\n",
       "    </tr>\n",
       "    <tr>\n",
       "      <th>3</th>\n",
       "      <td>height</td>\n",
       "      <td>Fractional</td>\n",
       "      <td>44</td>\n",
       "      <td>0</td>\n",
       "      <td>0.568531</td>\n",
       "      <td>25.015385</td>\n",
       "      <td>0.219515</td>\n",
       "      <td>0.0</td>\n",
       "      <td>1.0</td>\n",
       "      <td>[{'lower_bound': 0.0, 'upper_bound': 0.1, 'count': 3.0}, {'lower_bound': 0.1, 'upper_bound': 0.2, 'count': 1.0}, {'lower_bound': 0.2, 'upper_bound': 0.3, 'count': 0.0}, {'lower_bound': 0.3, 'upper_bound': 0.4, 'count': 0.0}, {'lower_bound': 0.4, 'upper_bound': 0.5, 'count': 10.0}, {'lower_bound': 0.5, 'upper_bound': 0.6, 'count': 14.0}, {'lower_bound': 0.6, 'upper_bound': 0.7, 'count': 7.0}, {'lower_bound': 0.7, 'upper_bound': 0.8, 'count': 1.0}, {'lower_bound': 0.8, 'upper_bound': 0.9, 'count': 4.0}, {'lower_bound': 0.9, 'upper_bound': 1.0, 'count': 4.0}]</td>\n",
       "      <td>0.64</td>\n",
       "      <td>2048.0</td>\n",
       "      <td>[[0.5076923076923077, 0.9692307692307693, 0.5846153846153845, 0.476923076923077, 0.6461538461538461, 0.723076923076923, 0.5230769230769232, 0.4307692307692308, 0.0461538461538461, 0.5230769230769232, 0.5384615384615385, 0.9538461538461538, 0.0, 0.6923076923076923, 0.5230769230769232, 0.8307692307692309, 0.476923076923077, 0.5692307692307692, 0.6000000000000001, 0.5384615384615385, 0.6923076923076923, 0.10769230769230775, 0.09230769230769231, 0.5384615384615385, 1.0, 0.5538461538461539, 0.5076923076923077, 0.6153846153846154, 0.8, 0.6307692307692307, 0.9384615384615385, 0.4615384615384617, 0.8769230769230769, 0.4615384615384617, 0.6307692307692307, 0.476923076923077, 0.49230769230769234, 0.49230769230769234, 0.5538461538461539, 0.5846153846153845, 0.5846153846153845, 0.476923076923077, 0.49230769230769234, 0.8]]</td>\n",
       "    </tr>\n",
       "    <tr>\n",
       "      <th>4</th>\n",
       "      <td>color_score</td>\n",
       "      <td>Fractional</td>\n",
       "      <td>44</td>\n",
       "      <td>0</td>\n",
       "      <td>0.502005</td>\n",
       "      <td>22.088235</td>\n",
       "      <td>0.217528</td>\n",
       "      <td>0.0</td>\n",
       "      <td>1.0</td>\n",
       "      <td>[{'lower_bound': 0.0, 'upper_bound': 0.1, 'count': 2.0}, {'lower_bound': 0.1, 'upper_bound': 0.2, 'count': 0.0}, {'lower_bound': 0.2, 'upper_bound': 0.3, 'count': 3.0}, {'lower_bound': 0.3, 'upper_bound': 0.4, 'count': 13.0}, {'lower_bound': 0.4, 'upper_bound': 0.5, 'count': 8.0}, {'lower_bound': 0.5, 'upper_bound': 0.6, 'count': 4.0}, {'lower_bound': 0.6, 'upper_bound': 0.7, 'count': 6.0}, {'lower_bound': 0.7, 'upper_bound': 0.8, 'count': 3.0}, {'lower_bound': 0.8, 'upper_bound': 0.9, 'count': 3.0}, {'lower_bound': 0.9, 'upper_bound': 1.0, 'count': 2.0}]</td>\n",
       "      <td>0.64</td>\n",
       "      <td>2048.0</td>\n",
       "      <td>[[1.0, 0.3235294117647056, 0.9705882352941178, 0.8529411764705879, 0.35294117647058787, 0.4117647058823528, 0.7352941176470584, 0.0, 0.6470588235294117, 0.4705882352941173, 0.5588235294117645, 0.35294117647058787, 0.6470588235294117, 0.35294117647058787, 0.6470588235294117, 0.4705882352941173, 0.2941176470588234, 0.38235294117647056, 0.4705882352941173, 0.7941176470588234, 0.38235294117647056, 0.6176470588235294, 0.5882352941176472, 0.23529411764705888, 0.38235294117647056, 0.5, 0.2941176470588234, 0.38235294117647056, 0.4705882352941173, 0.3235294117647056, 0.38235294117647056, 0.8823529411764706, 0.38235294117647056, 0.6176470588235294, 0.44117647058823506, 0.8235294117647056, 0.6764705882352939, 0.7647058823529411, 0.4117647058823528, 0.5294117647058822, 0.4705882352941173, 0.38235294117647056, 0.02941176470588225, 0.38235294117647056]]</td>\n",
       "    </tr>\n",
       "  </tbody>\n",
       "</table>\n",
       "</div>"
      ],
      "text/plain": [
       "          name inferred_type  numerical_statistics.common.num_present  \\\n",
       "0  class        Integral      44                                        \n",
       "1  mass         Fractional    44                                        \n",
       "2  width        Fractional    44                                        \n",
       "3  height       Fractional    44                                        \n",
       "4  color_score  Fractional    44                                        \n",
       "\n",
       "   numerical_statistics.common.num_missing  numerical_statistics.mean  \\\n",
       "0  0                                        1.363636                    \n",
       "1  0                                        0.301948                    \n",
       "2  0                                        0.370989                    \n",
       "3  0                                        0.568531                    \n",
       "4  0                                        0.502005                    \n",
       "\n",
       "   numerical_statistics.sum  numerical_statistics.std_dev  \\\n",
       "0  60.000000                 1.207757                       \n",
       "1  13.285714                 0.184394                       \n",
       "2  16.323529                 0.216151                       \n",
       "3  25.015385                 0.219515                       \n",
       "4  22.088235                 0.217528                       \n",
       "\n",
       "   numerical_statistics.min  numerical_statistics.max  \\\n",
       "0  0.0                       3.0                        \n",
       "1  0.0                       1.0                        \n",
       "2  0.0                       1.0                        \n",
       "3  0.0                       1.0                        \n",
       "4  0.0                       1.0                        \n",
       "\n",
       "                                                                                                                                                                                                                                                                                                                                                                                                                                                                                                                                                                                                                                                                                                                                                                                                                                        numerical_statistics.distribution.kll.buckets  \\\n",
       "0  [{'lower_bound': 0.0, 'upper_bound': 0.3, 'count': 14.0}, {'lower_bound': 0.3, 'upper_bound': 0.6, 'count': 0.0}, {'lower_bound': 0.6, 'upper_bound': 0.9, 'count': 0.0}, {'lower_bound': 0.9, 'upper_bound': 1.2, 'count': 13.0}, {'lower_bound': 1.2, 'upper_bound': 1.5, 'count': 0.0}, {'lower_bound': 1.5, 'upper_bound': 1.8, 'count': 0.0}, {'lower_bound': 1.8, 'upper_bound': 2.1, 'count': 4.0}, {'lower_bound': 2.1, 'upper_bound': 2.4, 'count': 0.0}, {'lower_bound': 2.4, 'upper_bound': 2.7, 'count': 0.0}, {'lower_bound': 2.7, 'upper_bound': 3.0, 'count': 13.0}]                                                                                                                                                                                                                                                                                                  \n",
       "1  [{'lower_bound': 0.0, 'upper_bound': 0.1, 'count': 4.0}, {'lower_bound': 0.1, 'upper_bound': 0.2, 'count': 5.0}, {'lower_bound': 0.2, 'upper_bound': 0.3, 'count': 15.0}, {'lower_bound': 0.3, 'upper_bound': 0.4, 'count': 13.0}, {'lower_bound': 0.4, 'upper_bound': 0.5, 'count': 5.0}, {'lower_bound': 0.5, 'upper_bound': 0.6, 'count': 0.0}, {'lower_bound': 0.6, 'upper_bound': 0.7, 'count': 0.0}, {'lower_bound': 0.7, 'upper_bound': 0.8, 'count': 0.0}, {'lower_bound': 0.8, 'upper_bound': 0.9, 'count': 0.0}, {'lower_bound': 0.9, 'upper_bound': 1.0, 'count': 2.0}]                                                                                                                                                                                                                                                                                                   \n",
       "2  [{'lower_bound': 0.0, 'upper_bound': 0.10000000000000002, 'count': 8.0}, {'lower_bound': 0.10000000000000002, 'upper_bound': 0.20000000000000004, 'count': 2.0}, {'lower_bound': 0.20000000000000004, 'upper_bound': 0.3000000000000001, 'count': 3.0}, {'lower_bound': 0.3000000000000001, 'upper_bound': 0.4000000000000001, 'count': 7.0}, {'lower_bound': 0.4000000000000001, 'upper_bound': 0.5000000000000001, 'count': 14.0}, {'lower_bound': 0.5000000000000001, 'upper_bound': 0.6000000000000002, 'count': 7.0}, {'lower_bound': 0.6000000000000002, 'upper_bound': 0.7000000000000002, 'count': 1.0}, {'lower_bound': 0.7000000000000002, 'upper_bound': 0.8000000000000002, 'count': 0.0}, {'lower_bound': 0.8000000000000002, 'upper_bound': 0.9000000000000001, 'count': 0.0}, {'lower_bound': 0.9000000000000001, 'upper_bound': 1.0000000000000002, 'count': 2.0}]   \n",
       "3  [{'lower_bound': 0.0, 'upper_bound': 0.1, 'count': 3.0}, {'lower_bound': 0.1, 'upper_bound': 0.2, 'count': 1.0}, {'lower_bound': 0.2, 'upper_bound': 0.3, 'count': 0.0}, {'lower_bound': 0.3, 'upper_bound': 0.4, 'count': 0.0}, {'lower_bound': 0.4, 'upper_bound': 0.5, 'count': 10.0}, {'lower_bound': 0.5, 'upper_bound': 0.6, 'count': 14.0}, {'lower_bound': 0.6, 'upper_bound': 0.7, 'count': 7.0}, {'lower_bound': 0.7, 'upper_bound': 0.8, 'count': 1.0}, {'lower_bound': 0.8, 'upper_bound': 0.9, 'count': 4.0}, {'lower_bound': 0.9, 'upper_bound': 1.0, 'count': 4.0}]                                                                                                                                                                                                                                                                                                   \n",
       "4  [{'lower_bound': 0.0, 'upper_bound': 0.1, 'count': 2.0}, {'lower_bound': 0.1, 'upper_bound': 0.2, 'count': 0.0}, {'lower_bound': 0.2, 'upper_bound': 0.3, 'count': 3.0}, {'lower_bound': 0.3, 'upper_bound': 0.4, 'count': 13.0}, {'lower_bound': 0.4, 'upper_bound': 0.5, 'count': 8.0}, {'lower_bound': 0.5, 'upper_bound': 0.6, 'count': 4.0}, {'lower_bound': 0.6, 'upper_bound': 0.7, 'count': 6.0}, {'lower_bound': 0.7, 'upper_bound': 0.8, 'count': 3.0}, {'lower_bound': 0.8, 'upper_bound': 0.9, 'count': 3.0}, {'lower_bound': 0.9, 'upper_bound': 1.0, 'count': 2.0}]                                                                                                                                                                                                                                                                                                    \n",
       "\n",
       "   numerical_statistics.distribution.kll.sketch.parameters.c  \\\n",
       "0  0.64                                                        \n",
       "1  0.64                                                        \n",
       "2  0.64                                                        \n",
       "3  0.64                                                        \n",
       "4  0.64                                                        \n",
       "\n",
       "   numerical_statistics.distribution.kll.sketch.parameters.k  \\\n",
       "0  2048.0                                                      \n",
       "1  2048.0                                                      \n",
       "2  2048.0                                                      \n",
       "3  2048.0                                                      \n",
       "4  2048.0                                                      \n",
       "\n",
       "                                                                                                                                                                                                                                                                                                                                                                                                                                                                                                                                                                                                                                                                                                                                                                                                                                                  numerical_statistics.distribution.kll.sketch.data  \n",
       "0  [[0.0, 1.0, 0.0, 0.0, 1.0, 1.0, 0.0, 0.0, 2.0, 3.0, 3.0, 1.0, 2.0, 1.0, 3.0, 3.0, 0.0, 1.0, 3.0, 0.0, 1.0, 2.0, 2.0, 0.0, 1.0, 3.0, 0.0, 1.0, 3.0, 1.0, 1.0, 0.0, 1.0, 3.0, 3.0, 0.0, 3.0, 0.0, 0.0, 3.0, 3.0, 3.0, 0.0, 1.0]]                                                                                                                                                                                                                                                                                                                                                                                                                                                                                                                                                                                                                                                                    \n",
       "1  [[0.32142857142857145, 0.42142857142857143, 0.36428571428571427, 0.2785714285714285, 0.19285714285714284, 0.2, 0.28571428571428575, 0.3714285714285714, 0.01428571428571429, 0.24285714285714283, 0.2785714285714285, 0.49999999999999994, 0.0, 0.14285714285714285, 0.3, 0.95, 0.28571428571428575, 0.14285714285714285, 0.2642857142857143, 0.3, 0.2714285714285714, 0.0357142857142857, 0.02857142857142858, 0.28571428571428575, 0.4428571428571429, 0.3, 0.2714285714285714, 0.15000000000000002, 1.0, 0.15000000000000002, 0.35000000000000003, 0.3428571428571428, 0.42857142857142855, 0.31428571428571433, 0.4071428571428572, 0.2285714285714286, 0.2785714285714285, 0.3071428571428571, 0.32857142857142857, 0.29285714285714287, 0.2357142857142857, 0.2285714285714286, 0.35714285714285715, 0.39285714285714285]]                                                                  \n",
       "2  [[0.32352941176470584, 0.41176470588235303, 0.3823529411764708, 0.35294117647058854, 0.05882352941176472, 0.0, 0.470588235294118, 0.6470588235294119, 0.02941176470588247, 0.2941176470588236, 0.3823529411764708, 0.4411764705882353, 0.0, 0.08823529411764697, 0.35294117647058854, 0.9411764705882353, 0.5588235294117647, 0.1470588235294117, 0.3823529411764708, 0.5000000000000002, 0.2058823529411764, 0.11764705882352944, 0.05882352941176472, 0.5294117647058825, 0.4411764705882353, 0.3823529411764708, 0.5294117647058825, 0.02941176470588247, 1.0000000000000002, 0.08823529411764697, 0.4411764705882353, 0.470588235294118, 0.4411764705882353, 0.41176470588235303, 0.5000000000000002, 0.4411764705882353, 0.41176470588235303, 0.470588235294118, 0.5000000000000002, 0.41176470588235303, 0.5294117647058825, 0.26470588235294135, 0.470588235294118, 0.41176470588235303]]  \n",
       "3  [[0.5076923076923077, 0.9692307692307693, 0.5846153846153845, 0.476923076923077, 0.6461538461538461, 0.723076923076923, 0.5230769230769232, 0.4307692307692308, 0.0461538461538461, 0.5230769230769232, 0.5384615384615385, 0.9538461538461538, 0.0, 0.6923076923076923, 0.5230769230769232, 0.8307692307692309, 0.476923076923077, 0.5692307692307692, 0.6000000000000001, 0.5384615384615385, 0.6923076923076923, 0.10769230769230775, 0.09230769230769231, 0.5384615384615385, 1.0, 0.5538461538461539, 0.5076923076923077, 0.6153846153846154, 0.8, 0.6307692307692307, 0.9384615384615385, 0.4615384615384617, 0.8769230769230769, 0.4615384615384617, 0.6307692307692307, 0.476923076923077, 0.49230769230769234, 0.49230769230769234, 0.5538461538461539, 0.5846153846153845, 0.5846153846153845, 0.476923076923077, 0.49230769230769234, 0.8]]                                            \n",
       "4  [[1.0, 0.3235294117647056, 0.9705882352941178, 0.8529411764705879, 0.35294117647058787, 0.4117647058823528, 0.7352941176470584, 0.0, 0.6470588235294117, 0.4705882352941173, 0.5588235294117645, 0.35294117647058787, 0.6470588235294117, 0.35294117647058787, 0.6470588235294117, 0.4705882352941173, 0.2941176470588234, 0.38235294117647056, 0.4705882352941173, 0.7941176470588234, 0.38235294117647056, 0.6176470588235294, 0.5882352941176472, 0.23529411764705888, 0.38235294117647056, 0.5, 0.2941176470588234, 0.38235294117647056, 0.4705882352941173, 0.3235294117647056, 0.38235294117647056, 0.8823529411764706, 0.38235294117647056, 0.6176470588235294, 0.44117647058823506, 0.8235294117647056, 0.6764705882352939, 0.7647058823529411, 0.4117647058823528, 0.5294117647058822, 0.4705882352941173, 0.38235294117647056, 0.02941176470588225, 0.38235294117647056]]               "
      ]
     },
     "execution_count": 40,
     "metadata": {},
     "output_type": "execute_result"
    }
   ],
   "source": [
    "schema_df = pd.io.json.json_normalize(baseline_job.baseline_statistics().body_dict['features'])\n",
    "schema_df.head(10)"
   ]
  },
  {
   "cell_type": "code",
   "execution_count": 41,
   "metadata": {},
   "outputs": [
    {
     "data": {
      "text/html": [
       "<div>\n",
       "<style scoped>\n",
       "    .dataframe tbody tr th:only-of-type {\n",
       "        vertical-align: middle;\n",
       "    }\n",
       "\n",
       "    .dataframe tbody tr th {\n",
       "        vertical-align: top;\n",
       "    }\n",
       "\n",
       "    .dataframe thead th {\n",
       "        text-align: right;\n",
       "    }\n",
       "</style>\n",
       "<table border=\"1\" class=\"dataframe\">\n",
       "  <thead>\n",
       "    <tr style=\"text-align: right;\">\n",
       "      <th></th>\n",
       "      <th>name</th>\n",
       "      <th>inferred_type</th>\n",
       "      <th>completeness</th>\n",
       "      <th>num_constraints.is_non_negative</th>\n",
       "    </tr>\n",
       "  </thead>\n",
       "  <tbody>\n",
       "    <tr>\n",
       "      <th>0</th>\n",
       "      <td>class</td>\n",
       "      <td>Integral</td>\n",
       "      <td>1.0</td>\n",
       "      <td>True</td>\n",
       "    </tr>\n",
       "    <tr>\n",
       "      <th>1</th>\n",
       "      <td>mass</td>\n",
       "      <td>Fractional</td>\n",
       "      <td>1.0</td>\n",
       "      <td>True</td>\n",
       "    </tr>\n",
       "    <tr>\n",
       "      <th>2</th>\n",
       "      <td>width</td>\n",
       "      <td>Fractional</td>\n",
       "      <td>1.0</td>\n",
       "      <td>True</td>\n",
       "    </tr>\n",
       "    <tr>\n",
       "      <th>3</th>\n",
       "      <td>height</td>\n",
       "      <td>Fractional</td>\n",
       "      <td>1.0</td>\n",
       "      <td>True</td>\n",
       "    </tr>\n",
       "    <tr>\n",
       "      <th>4</th>\n",
       "      <td>color_score</td>\n",
       "      <td>Fractional</td>\n",
       "      <td>1.0</td>\n",
       "      <td>True</td>\n",
       "    </tr>\n",
       "  </tbody>\n",
       "</table>\n",
       "</div>"
      ],
      "text/plain": [
       "          name inferred_type  completeness  num_constraints.is_non_negative\n",
       "0  class        Integral      1.0           True                           \n",
       "1  mass         Fractional    1.0           True                           \n",
       "2  width        Fractional    1.0           True                           \n",
       "3  height       Fractional    1.0           True                           \n",
       "4  color_score  Fractional    1.0           True                           "
      ]
     },
     "execution_count": 41,
     "metadata": {},
     "output_type": "execute_result"
    }
   ],
   "source": [
    "constraints_df = pd.io.json.json_normalize(baseline_job.suggested_constraints().body_dict['features'])\n",
    "constraints_df.head(10)"
   ]
  },
  {
   "cell_type": "markdown",
   "metadata": {},
   "source": [
    "## Monitoring Schedules\n",
    "\n",
    "<p><b>Analyzing collected data for data quality issues</b></p>\n",
    "\n",
    "When you have collected the data above, analyze and monitor the data with Monitoring Schedules"
   ]
  },
  {
   "cell_type": "markdown",
   "metadata": {},
   "source": [
    "### Create a Schedule"
   ]
  },
  {
   "cell_type": "code",
   "execution_count": 42,
   "metadata": {},
   "outputs": [],
   "source": [
    "from sagemaker.model_monitor import CronExpressionGenerator\n",
    "from time import gmtime, strftime"
   ]
  },
  {
   "cell_type": "code",
   "execution_count": 43,
   "metadata": {},
   "outputs": [
    {
     "name": "stderr",
     "output_type": "stream",
     "text": [
      "The endpoint attribute has been renamed in sagemaker>=2.\n",
      "See: https://sagemaker.readthedocs.io/en/stable/v2.html for details.\n"
     ]
    },
    {
     "name": "stdout",
     "output_type": "stream",
     "text": [
      "\n",
      "Creating Monitoring Schedule with name: clf-xgb-model-monitor-schedule-2020-11-08-19-10-20\n"
     ]
    }
   ],
   "source": [
    "mon_schedule_name = 'clf-xgb-model-monitor-schedule-' + strftime('%Y-%m-%d-%H-%M-%S', gmtime())\n",
    "\n",
    "default_model_monitor.create_monitoring_schedule(\n",
    "    monitor_schedule_name=mon_schedule_name,\n",
    "    endpoint_input=predictor.endpoint,\n",
    "    output_s3_uri=s3_report_path,\n",
    "    statistics=default_model_monitor.baseline_statistics(),\n",
    "    constraints=default_model_monitor.suggested_constraints(),\n",
    "    schedule_cron_expression=CronExpressionGenerator.hourly(),\n",
    "    enable_cloudwatch_metrics=True,\n",
    ")"
   ]
  },
  {
   "cell_type": "markdown",
   "metadata": {},
   "source": [
    "### Test Model Monitoring using Artificial Traffic\n",
    "The cell below starts a thread to send some traffic to the endpoint. Note that you need to stop the kernel to terminate this thread. If there is no traffic, the monitoring jobs are marked as `Failed` since there is no data to process."
   ]
  },
  {
   "cell_type": "code",
   "execution_count": 44,
   "metadata": {},
   "outputs": [],
   "source": [
    "from threading import Thread\n",
    "from time import sleep\n",
    "import time"
   ]
  },
  {
   "cell_type": "code",
   "execution_count": 45,
   "metadata": {},
   "outputs": [
    {
     "name": "stderr",
     "output_type": "stream",
     "text": [
      "The endpoint attribute has been renamed in sagemaker>=2.\n",
      "See: https://sagemaker.readthedocs.io/en/stable/v2.html for details.\n"
     ]
    }
   ],
   "source": [
    "endpoint_name = predictor.endpoint\n",
    "#endpoint_name = 'classifier-xgboost-model-monitor-2020-11-08-03-43-50'\n",
    "runtime_client = boto3.client('runtime.sagemaker')"
   ]
  },
  {
   "cell_type": "code",
   "execution_count": 46,
   "metadata": {},
   "outputs": [],
   "source": [
    "def invoke_endpoint(endpoint_name, file_name, runtime_client):\n",
    "    with open(file_name, 'r') as f:\n",
    "        for row in f:\n",
    "            payload = row.rstrip('\\n')\n",
    "            runtime_client.invoke_endpoint(EndpointName=endpoint_name, \n",
    "                                           ContentType='text/csv', \n",
    "                                           Body=payload)\n",
    "            #prediction = response['Body'].read()"
   ]
  },
  {
   "cell_type": "code",
   "execution_count": 47,
   "metadata": {},
   "outputs": [],
   "source": [
    "def invoke_endpoint_forever():\n",
    "    while True:\n",
    "        invoke_endpoint(endpoint_name, '.././DATA/test/model_monitor_test.csv', runtime_client)"
   ]
  },
  {
   "cell_type": "code",
   "execution_count": 48,
   "metadata": {},
   "outputs": [],
   "source": [
    "thread = Thread(target=invoke_endpoint_forever)\n",
    "thread.start()\n",
    "# NOTE: You need to stop the kernel to stop the invocations"
   ]
  },
  {
   "cell_type": "markdown",
   "metadata": {},
   "source": [
    "### Describe and Inspect the Schedule\n",
    "Once you describe, observe that the MonitoringScheduleStatus changes to Scheduled."
   ]
  },
  {
   "cell_type": "code",
   "execution_count": 49,
   "metadata": {},
   "outputs": [
    {
     "name": "stdout",
     "output_type": "stream",
     "text": [
      "Schedule status: Scheduled\n"
     ]
    }
   ],
   "source": [
    "desc_schedule_result = default_model_monitor.describe_schedule()\n",
    "print('Schedule status: {}'.format(desc_schedule_result['MonitoringScheduleStatus']))"
   ]
  },
  {
   "cell_type": "markdown",
   "metadata": {},
   "source": [
    "### List executions\n",
    "The schedule starts jobs at the previously specified intervals. Here, you list the latest five executions. Note that if you are kicking this off after creating the hourly schedule, you might find the executions empty. You might have to wait until you cross the hour boundary (in UTC) to see executions kick off. The code below has the logic for waiting.\n",
    "\n",
    "Note: Even for an hourly schedule, Amazon SageMaker has a buffer period of 20 minutes to schedule your execution. You might see your execution start in anywhere from zero to ~20 minutes from the hour boundary. This is expected and done for load balancing in the backend."
   ]
  },
  {
   "cell_type": "code",
   "execution_count": 80,
   "metadata": {},
   "outputs": [
    {
     "name": "stdout",
     "output_type": "stream",
     "text": [
      "We created a hourly schedule above and it will kick off executions ON the hour (plus 0 - 20 min buffer).\n",
      "We will have to wait till we hit the hour ...\n"
     ]
    }
   ],
   "source": [
    "mon_executions = default_model_monitor.list_executions()\n",
    "\n",
    "print(\"We created a hourly schedule above and it will kick off executions ON the hour (plus 0 - 20 min buffer).\")\n",
    "print(\"We will have to wait till we hit the hour ...\") \n",
    "\n"
   ]
  },
  {
   "cell_type": "code",
   "execution_count": 81,
   "metadata": {},
   "outputs": [
    {
     "data": {
      "text/plain": [
       "[<sagemaker.model_monitor.model_monitoring.MonitoringExecution at 0x7f8ea305d898>]"
      ]
     },
     "execution_count": 81,
     "metadata": {},
     "output_type": "execute_result"
    }
   ],
   "source": [
    "# Wait till you see an execution object in this list before you proceed to the next step\n",
    "# takes between (60 to 80 mins)\n",
    "mon_executions"
   ]
  },
  {
   "cell_type": "markdown",
   "metadata": {},
   "source": [
    "### Inspect a specific execution (latest execution)\n",
    "In the previous cell, you picked up the latest completed or failed scheduled execution. Here are the possible terminal states and what each of them mean: \n",
    "* Completed - This means the monitoring execution completed and no issues were found in the violations report.\n",
    "* CompletedWithViolations - This means the execution completed, but constraint violations were detected.\n",
    "* Failed - The monitoring execution failed, maybe due to client error (perhaps incorrect role premissions) or infrastructure issues. Further examination of FailureReason and ExitMessage is necessary to identify what exactly happened.\n",
    "* Stopped - Job exceeded max runtime or was manually stopped."
   ]
  },
  {
   "cell_type": "code",
   "execution_count": 91,
   "metadata": {},
   "outputs": [
    {
     "data": {
      "text/plain": [
       "{'ProcessingInputs': [{'InputName': 'input_1',\n",
       "   'S3Input': {'S3Uri': 's3://sagemaker-us-east-1-892313895307/classifier/model-monitor/datacapture/classifier-xgboost-model-monitor-2020-11-08-18-52-39/AllTraffic/2020/11/08/19',\n",
       "    'LocalPath': '/opt/ml/processing/input/endpoint/classifier-xgboost-model-monitor-2020-11-08-18-52-39/AllTraffic/2020/11/08/19',\n",
       "    'S3DataType': 'S3Prefix',\n",
       "    'S3InputMode': 'File',\n",
       "    'S3DataDistributionType': 'FullyReplicated',\n",
       "    'S3CompressionType': 'None'}},\n",
       "  {'InputName': 'baseline',\n",
       "   'S3Input': {'S3Uri': 's3://sagemaker-us-east-1-892313895307/classifier/model-monitor/baselining/results/statistics.json',\n",
       "    'LocalPath': '/opt/ml/processing/baseline/stats',\n",
       "    'S3DataType': 'S3Prefix',\n",
       "    'S3InputMode': 'File',\n",
       "    'S3DataDistributionType': 'FullyReplicated'}},\n",
       "  {'InputName': 'constraints',\n",
       "   'S3Input': {'S3Uri': 's3://sagemaker-us-east-1-892313895307/classifier/model-monitor/baselining/results/constraints.json',\n",
       "    'LocalPath': '/opt/ml/processing/baseline/constraints',\n",
       "    'S3DataType': 'S3Prefix',\n",
       "    'S3InputMode': 'File',\n",
       "    'S3DataDistributionType': 'FullyReplicated'}}],\n",
       " 'ProcessingOutputConfig': {'Outputs': [{'OutputName': 'result',\n",
       "    'S3Output': {'S3Uri': 's3://sagemaker-us-east-1-892313895307/classifier/model-monitor/reports/classifier-xgboost-model-monitor-2020-11-08-18-52-39/clf-xgb-model-monitor-schedule-2020-11-08-19-10-20/2020/11/08/20',\n",
       "     'LocalPath': '/opt/ml/processing/output',\n",
       "     'S3UploadMode': 'Continuous'}}]},\n",
       " 'ProcessingJobName': 'model-monitoring-202011082000-96ca3043fa6008fafb2dedd8',\n",
       " 'ProcessingResources': {'ClusterConfig': {'InstanceCount': 1,\n",
       "   'InstanceType': 'ml.r5.xlarge',\n",
       "   'VolumeSizeInGB': 20}},\n",
       " 'StoppingCondition': {'MaxRuntimeInSeconds': 3600},\n",
       " 'AppSpecification': {'ImageUri': '156813124566.dkr.ecr.us-east-1.amazonaws.com/sagemaker-model-monitor-analyzer'},\n",
       " 'Environment': {'baseline_constraints': '/opt/ml/processing/baseline/constraints/constraints.json',\n",
       "  'baseline_statistics': '/opt/ml/processing/baseline/stats/statistics.json',\n",
       "  'dataset_format': '{\"sagemakerCaptureJson\":{\"captureIndexNames\":[\"endpointInput\",\"endpointOutput\"]}}',\n",
       "  'dataset_source': '/opt/ml/processing/input/endpoint',\n",
       "  'end_time': '2020-11-08T20:00:00Z',\n",
       "  'output_path': '/opt/ml/processing/output',\n",
       "  'publish_cloudwatch_metrics': 'Enabled',\n",
       "  'sagemaker_endpoint_name': 'classifier-xgboost-model-monitor-2020-11-08-18-52-39',\n",
       "  'sagemaker_monitoring_schedule_name': 'clf-xgb-model-monitor-schedule-2020-11-08-19-10-20',\n",
       "  'start_time': '2020-11-08T19:00:00Z'},\n",
       " 'RoleArn': 'arn:aws:iam::892313895307:role/service-role/AmazonSageMaker-ExecutionRole-20200827T161464',\n",
       " 'ProcessingJobArn': 'arn:aws:sagemaker:us-east-1:892313895307:processing-job/model-monitoring-202011082000-96ca3043fa6008fafb2dedd8',\n",
       " 'ProcessingJobStatus': 'InProgress',\n",
       " 'ProcessingStartTime': datetime.datetime(2020, 11, 8, 20, 11, 17, 923000, tzinfo=tzlocal()),\n",
       " 'LastModifiedTime': datetime.datetime(2020, 11, 8, 20, 11, 17, 925000, tzinfo=tzlocal()),\n",
       " 'CreationTime': datetime.datetime(2020, 11, 8, 20, 7, 31, 311000, tzinfo=tzlocal()),\n",
       " 'MonitoringScheduleArn': 'arn:aws:sagemaker:us-east-1:892313895307:monitoring-schedule/clf-xgb-model-monitor-schedule-2020-11-08-19-10-20',\n",
       " 'ResponseMetadata': {'RequestId': 'e804a8b5-512a-4c6e-ba31-084f9bfa1d8d',\n",
       "  'HTTPStatusCode': 200,\n",
       "  'HTTPHeaders': {'x-amzn-requestid': 'e804a8b5-512a-4c6e-ba31-084f9bfa1d8d',\n",
       "   'content-type': 'application/x-amz-json-1.1',\n",
       "   'content-length': '2895',\n",
       "   'date': 'Sun, 08 Nov 2020 20:12:24 GMT'},\n",
       "  'RetryAttempts': 0}}"
      ]
     },
     "execution_count": 91,
     "metadata": {},
     "output_type": "execute_result"
    }
   ],
   "source": [
    "latest_execution = mon_executions[-1] # latest execution's index is -1, second to last is -2 and so on ...\n",
    "latest_execution.describe()"
   ]
  },
  {
   "cell_type": "code",
   "execution_count": 93,
   "metadata": {},
   "outputs": [
    {
     "name": "stdout",
     "output_type": "stream",
     "text": [
      "Latest Execution Status: Completed\n",
      "Latest Execution Result: CompletedWithViolations: Job completed successfully with 5 violations.\n"
     ]
    }
   ],
   "source": [
    "print(\"Latest Execution Status: {}\".format(latest_execution.describe()['ProcessingJobStatus']))\n",
    "print(\"Latest Execution Result: {}\".format(latest_execution.describe()['ExitMessage']))"
   ]
  },
  {
   "cell_type": "code",
   "execution_count": 94,
   "metadata": {},
   "outputs": [
    {
     "name": "stdout",
     "output_type": "stream",
     "text": [
      "Report URI: s3://sagemaker-us-east-1-892313895307/classifier/model-monitor/reports/classifier-xgboost-model-monitor-2020-11-08-18-52-39/clf-xgb-model-monitor-schedule-2020-11-08-19-10-20/2020/11/08/20\n"
     ]
    }
   ],
   "source": [
    "report_uri = latest_execution.output.destination\n",
    "print('Report URI: {}'.format(report_uri))"
   ]
  },
  {
   "cell_type": "markdown",
   "metadata": {},
   "source": [
    "### List the Generated Reports"
   ]
  },
  {
   "cell_type": "code",
   "execution_count": 95,
   "metadata": {},
   "outputs": [],
   "source": [
    "from urllib.parse import urlparse"
   ]
  },
  {
   "cell_type": "code",
   "execution_count": 96,
   "metadata": {},
   "outputs": [
    {
     "name": "stdout",
     "output_type": "stream",
     "text": [
      "Report Bucket: sagemaker-us-east-1-892313895307\n",
      "Report Key: classifier/model-monitor/reports/classifier-xgboost-model-monitor-2020-11-08-18-52-39/clf-xgb-model-monitor-schedule-2020-11-08-19-10-20/2020/11/08/20\n"
     ]
    }
   ],
   "source": [
    "s3uri = urlparse(report_uri)\n",
    "report_bucket = s3uri.netloc\n",
    "report_key = s3uri.path.lstrip('/')\n",
    "print('Report Bucket: {}'.format(report_bucket))\n",
    "print('Report Key: {}'.format(report_key))"
   ]
  },
  {
   "cell_type": "code",
   "execution_count": 97,
   "metadata": {},
   "outputs": [
    {
     "name": "stdout",
     "output_type": "stream",
     "text": [
      "Found Report Files:\n",
      "classifier/model-monitor/reports/classifier-xgboost-model-monitor-2020-11-08-18-52-39/clf-xgb-model-monitor-schedule-2020-11-08-19-10-20/2020/11/08/20/constraint_violations.json\n",
      " classifier/model-monitor/reports/classifier-xgboost-model-monitor-2020-11-08-18-52-39/clf-xgb-model-monitor-schedule-2020-11-08-19-10-20/2020/11/08/20/constraints.json\n",
      " classifier/model-monitor/reports/classifier-xgboost-model-monitor-2020-11-08-18-52-39/clf-xgb-model-monitor-schedule-2020-11-08-19-10-20/2020/11/08/20/statistics.json\n"
     ]
    }
   ],
   "source": [
    "s3_client = boto3.Session().client('s3')\n",
    "result = s3_client.list_objects(Bucket=report_bucket, Prefix=report_key)\n",
    "report_files = [report_file.get(\"Key\") for report_file in result.get('Contents')]\n",
    "print(\"Found Report Files:\")\n",
    "print(\"\\n \".join(report_files))"
   ]
  },
  {
   "cell_type": "markdown",
   "metadata": {},
   "source": [
    "### Violations Report\n",
    "\n",
    "If there are any violations compared to the baseline, they will be listed here."
   ]
  },
  {
   "cell_type": "code",
   "execution_count": 98,
   "metadata": {},
   "outputs": [
    {
     "data": {
      "text/plain": [
       "{'body_dict': {'violations': [{'feature_name': 'color_score',\n",
       "    'constraint_check_type': 'data_type_check',\n",
       "    'description': 'Data type match requirement is not met. Expected data type: Fractional, Expected match: 100.0%. Observed: Only 75.00389666855347% of data is Fractional.'},\n",
       "   {'feature_name': 'class',\n",
       "    'constraint_check_type': 'data_type_check',\n",
       "    'description': 'Data type match requirement is not met. Expected data type: Integral, Expected match: 100.0%. Observed: Only 0.0% of data is Integral.'},\n",
       "   {'feature_name': 'width',\n",
       "    'constraint_check_type': 'data_type_check',\n",
       "    'description': 'Data type match requirement is not met. Expected data type: Fractional, Expected match: 100.0%. Observed: Only 90.00155866742139% of data is Fractional.'},\n",
       "   {'feature_name': 'mass',\n",
       "    'constraint_check_type': 'data_type_check',\n",
       "    'description': 'Data type match requirement is not met. Expected data type: Fractional, Expected match: 100.0%. Observed: Only 80.00229698356837% of data is Fractional.'},\n",
       "   {'feature_name': 'mass',\n",
       "    'constraint_check_type': 'baseline_drift_check',\n",
       "    'description': 'Baseline drift distance: 0.1280188382123924 exceeds threshold: 0.1'}]},\n",
       " 'file_s3_uri': 's3://sagemaker-us-east-1-892313895307/classifier/model-monitor/reports/classifier-xgboost-model-monitor-2020-11-08-18-52-39/clf-xgb-model-monitor-schedule-2020-11-08-19-10-20/2020/11/08/20/constraint_violations.json',\n",
       " 'kms_key': None,\n",
       " 'session': None}"
      ]
     },
     "execution_count": 98,
     "metadata": {},
     "output_type": "execute_result"
    }
   ],
   "source": [
    "violations = default_model_monitor.latest_monitoring_constraint_violations()\n",
    "violations.__dict__"
   ]
  },
  {
   "cell_type": "code",
   "execution_count": 99,
   "metadata": {},
   "outputs": [],
   "source": [
    "constraints_df = pd.json_normalize(violations.body_dict[\"violations\"])"
   ]
  },
  {
   "cell_type": "code",
   "execution_count": 100,
   "metadata": {},
   "outputs": [
    {
     "data": {
      "text/html": [
       "<div>\n",
       "<style scoped>\n",
       "    .dataframe tbody tr th:only-of-type {\n",
       "        vertical-align: middle;\n",
       "    }\n",
       "\n",
       "    .dataframe tbody tr th {\n",
       "        vertical-align: top;\n",
       "    }\n",
       "\n",
       "    .dataframe thead th {\n",
       "        text-align: right;\n",
       "    }\n",
       "</style>\n",
       "<table border=\"1\" class=\"dataframe\">\n",
       "  <thead>\n",
       "    <tr style=\"text-align: right;\">\n",
       "      <th></th>\n",
       "      <th>feature_name</th>\n",
       "      <th>constraint_check_type</th>\n",
       "      <th>description</th>\n",
       "    </tr>\n",
       "  </thead>\n",
       "  <tbody>\n",
       "    <tr>\n",
       "      <th>0</th>\n",
       "      <td>color_score</td>\n",
       "      <td>data_type_check</td>\n",
       "      <td>Data type match requirement is not met. Expected data type: Fractional, Expected match: 100.0%. Observed: Only 75.00389666855347% of data is Fractional.</td>\n",
       "    </tr>\n",
       "    <tr>\n",
       "      <th>1</th>\n",
       "      <td>class</td>\n",
       "      <td>data_type_check</td>\n",
       "      <td>Data type match requirement is not met. Expected data type: Integral, Expected match: 100.0%. Observed: Only 0.0% of data is Integral.</td>\n",
       "    </tr>\n",
       "    <tr>\n",
       "      <th>2</th>\n",
       "      <td>width</td>\n",
       "      <td>data_type_check</td>\n",
       "      <td>Data type match requirement is not met. Expected data type: Fractional, Expected match: 100.0%. Observed: Only 90.00155866742139% of data is Fractional.</td>\n",
       "    </tr>\n",
       "    <tr>\n",
       "      <th>3</th>\n",
       "      <td>mass</td>\n",
       "      <td>data_type_check</td>\n",
       "      <td>Data type match requirement is not met. Expected data type: Fractional, Expected match: 100.0%. Observed: Only 80.00229698356837% of data is Fractional.</td>\n",
       "    </tr>\n",
       "    <tr>\n",
       "      <th>4</th>\n",
       "      <td>mass</td>\n",
       "      <td>baseline_drift_check</td>\n",
       "      <td>Baseline drift distance: 0.1280188382123924 exceeds threshold: 0.1</td>\n",
       "    </tr>\n",
       "  </tbody>\n",
       "</table>\n",
       "</div>"
      ],
      "text/plain": [
       "  feature_name constraint_check_type  \\\n",
       "0  color_score  data_type_check        \n",
       "1  class        data_type_check        \n",
       "2  width        data_type_check        \n",
       "3  mass         data_type_check        \n",
       "4  mass         baseline_drift_check   \n",
       "\n",
       "                                                                                                                                                description  \n",
       "0  Data type match requirement is not met. Expected data type: Fractional, Expected match: 100.0%. Observed: Only 75.00389666855347% of data is Fractional.  \n",
       "1  Data type match requirement is not met. Expected data type: Integral, Expected match: 100.0%. Observed: Only 0.0% of data is Integral.                    \n",
       "2  Data type match requirement is not met. Expected data type: Fractional, Expected match: 100.0%. Observed: Only 90.00155866742139% of data is Fractional.  \n",
       "3  Data type match requirement is not met. Expected data type: Fractional, Expected match: 100.0%. Observed: Only 80.00229698356837% of data is Fractional.  \n",
       "4  Baseline drift distance: 0.1280188382123924 exceeds threshold: 0.1                                                                                        "
      ]
     },
     "execution_count": 100,
     "metadata": {},
     "output_type": "execute_result"
    }
   ],
   "source": [
    "constraints_df"
   ]
  },
  {
   "cell_type": "markdown",
   "metadata": {},
   "source": [
    "### Shift in Statistics "
   ]
  },
  {
   "cell_type": "code",
   "execution_count": 105,
   "metadata": {},
   "outputs": [],
   "source": [
    "statistics_shift = default_model_monitor.latest_monitoring_statistics()"
   ]
  },
  {
   "cell_type": "code",
   "execution_count": 106,
   "metadata": {},
   "outputs": [
    {
     "data": {
      "text/html": [
       "<div>\n",
       "<style scoped>\n",
       "    .dataframe tbody tr th:only-of-type {\n",
       "        vertical-align: middle;\n",
       "    }\n",
       "\n",
       "    .dataframe tbody tr th {\n",
       "        vertical-align: top;\n",
       "    }\n",
       "\n",
       "    .dataframe thead th {\n",
       "        text-align: right;\n",
       "    }\n",
       "</style>\n",
       "<table border=\"1\" class=\"dataframe\">\n",
       "  <thead>\n",
       "    <tr style=\"text-align: right;\">\n",
       "      <th></th>\n",
       "      <th>name</th>\n",
       "      <th>inferred_type</th>\n",
       "      <th>numerical_statistics.common.num_present</th>\n",
       "      <th>numerical_statistics.common.num_missing</th>\n",
       "      <th>numerical_statistics.mean</th>\n",
       "      <th>numerical_statistics.sum</th>\n",
       "      <th>numerical_statistics.std_dev</th>\n",
       "      <th>numerical_statistics.min</th>\n",
       "      <th>numerical_statistics.max</th>\n",
       "      <th>numerical_statistics.distribution.kll.buckets</th>\n",
       "      <th>numerical_statistics.distribution.kll.sketch.parameters.c</th>\n",
       "      <th>numerical_statistics.distribution.kll.sketch.parameters.k</th>\n",
       "      <th>numerical_statistics.distribution.kll.sketch.data</th>\n",
       "    </tr>\n",
       "  </thead>\n",
       "  <tbody>\n",
       "    <tr>\n",
       "      <th>0</th>\n",
       "      <td>class</td>\n",
       "      <td>Fractional</td>\n",
       "      <td>121899</td>\n",
       "      <td>0</td>\n",
       "      <td>0.850114</td>\n",
       "      <td>1.036280e+05</td>\n",
       "      <td>1.107998</td>\n",
       "      <td>0.000000</td>\n",
       "      <td>3.000000</td>\n",
       "      <td>[{'lower_bound': 0.0, 'upper_bound': 0.3, 'count': 67056.0}, {'lower_bound': 0.3, 'upper_bound': 0.6, 'count': 0.0}, {'lower_bound': 0.6, 'upper_bound': 0.9, 'count': 0.0}, {'lower_bound': 0.9, 'upper_bound': 1.2, 'count': 24334.0}, {'lower_bound': 1.2, 'upper_bound': 1.5, 'count': 0.0}, {'lower_bound': 1.5, 'upper_bound': 1.8, 'count': 0.0}, {'lower_bound': 1.8, 'upper_bound': 2.1, 'count': 12297.0}, {'lower_bound': 2.1, 'upper_bound': 2.4, 'count': 0.0}, {'lower_bound': 2.4, 'upper_bound': 2.7, 'count': 0.0}, {'lower_bound': 2.7, 'upper_bound': 3.0, 'count': 18212.0}]</td>\n",
       "      <td>0.64</td>\n",
       "      <td>2048.0</td>\n",
       "      <td>[[2.0, 1.0, 3.0, 1.0, 0.0, 0.0, 2.0, 1.0, 0.0, 0.0, 0.0, 3.0, 0.0, 1.0, 0.0, 0.0, 0.0, 0.0, 3.0, 0.0, 2.0, 1.0, 3.0, 1.0, 0.0, 0.0, 2.0, 1.0, 0.0, 0.0, 0.0, 3.0, 0.0, 1.0, 0.0, 0.0, 0.0, 0.0, 3.0, 0.0, 2.0, 1.0, 3.0, 1.0, 0.0, 0.0, 2.0, 1.0, 0.0, 0.0, 0.0, 3.0, 0.0, 1.0, 0.0, 0.0, 0.0, 0.0, 3.0, 0.0, 2.0, 1.0, 3.0, 1.0, 0.0, 0.0, 2.0, 1.0, 0.0, 0.0, 0.0, 3.0, 0.0, 1.0, 0.0, 0.0, 0.0, 0.0, 3.0, 0.0, 2.0, 1.0, 3.0, 1.0, 0.0, 0.0, 2.0, 1.0, 0.0, 0.0, 0.0, 3.0, 0.0, 1.0, 0.0, 0.0, 0.0, 0.0, 3.0, 0.0, ...], [0.0, 0.0, 0.0, 0.0, 0.0, 0.0, 0.0, 0.0, 0.0, 0.0, 0.0, 0.0, 0.0, 0.0, 0.0, 0.0, 0.0, 0.0, 0.0, 0.0, 0.0, 0.0, 0.0, 0.0, 0.0, 0.0, 0.0, 0.0, 0.0, 0.0, 0.0, 0.0, 0.0, 0.0, 0.0, 0.0, 0.0, 0.0, 0.0, 0.0, 0.0, 0.0, 0.0, 0.0, 0.0, 0.0, 0.0, 0.0, 0.0, 0.0, 0.0, 0.0, 0.0, 0.0, 0.0, 0.0, 0.0, 0.0, 0.0, 0.0, 0.0, 0.0, 0.0, 0.0, 0.0, 0.0, 0.0, 0.0, 0.0, 0.0, 0.0, 0.0, 0.0, 0.0, 0.0, 0.0, 0.0, 0.0, 0.0, 0.0, 0.0, 0.0, 0.0, 0.0, 0.0, 0.0, 0.0, 0.0, 0.0, 0.0, 0.0, 0.0, 0.0, 0.0, 0.0, 0.0, 0.0, 0.0, 0.0, 0.0, ...], [3.0, 3.0], [], [3.0], [], [0.0, 0.0, 0.0, 0.0, 0.0, 0.0, 0.0, 0.0, 0.0, 0.0, 0.0, 0.0, 0.0, 0.0, 0.0, 0.0, 0.0, 0.0, 0.0, 0.0, 0.0, 0.0, 0.0, 0.0, 0.0, 0.0, 0.0, 0.0, 0.0, 0.0, 0.0, 0.0, 0.0, 0.0, 0.0, 0.0, 0.0, 0.0, 0.0, 0.0, 0.0, 0.0, 0.0, 0.0, 0.0, 0.0, 0.0, 0.0, 0.0, 0.0, 0.0, 0.0, 0.0, 0.0, 0.0, 0.0, 0.0, 0.0, 0.0, 0.0, 0.0, 0.0, 0.0, 0.0, 0.0, 0.0, 0.0, 0.0, 0.0, 0.0, 0.0, 0.0, 0.0, 0.0, 0.0, 0.0, 0.0, 0.0, 0.0, 0.0, 0.0, 0.0, 0.0, 0.0, 0.0, 0.0, 0.0, 0.0, 0.0, 0.0, 0.0, 0.0, 0.0, 0.0, 0.0, 0.0, 0.0, 0.0, 0.0, 0.0, ...]]</td>\n",
       "    </tr>\n",
       "    <tr>\n",
       "      <th>1</th>\n",
       "      <td>mass</td>\n",
       "      <td>Fractional</td>\n",
       "      <td>121899</td>\n",
       "      <td>0</td>\n",
       "      <td>-0.100035</td>\n",
       "      <td>-1.219417e+04</td>\n",
       "      <td>9.195325</td>\n",
       "      <td>-34.000000</td>\n",
       "      <td>23.000000</td>\n",
       "      <td>[{'lower_bound': -34.0, 'upper_bound': -28.3, 'count': 6150.0}, {'lower_bound': -28.3, 'upper_bound': -22.6, 'count': 0.0}, {'lower_bound': -22.6, 'upper_bound': -16.9, 'count': 0.0}, {'lower_bound': -16.9, 'upper_bound': -11.2, 'count': 0.0}, {'lower_bound': -11.2, 'upper_bound': -5.5, 'count': 0.0}, {'lower_bound': -5.5, 'upper_bound': 0.20000000000000284, 'count': 30483.0}, {'lower_bound': 0.20000000000000284, 'upper_bound': 5.899999999999999, 'count': 79158.0}, {'lower_bound': 5.899999999999999, 'upper_bound': 11.600000000000001, 'count': 0.0}, {'lower_bound': 11.600000000000001, 'upper_bound': 17.299999999999997, 'count': 0.0}, {'lower_bound': 17.299999999999997, 'upper_bound': 23.0, 'count': 6108.0}]</td>\n",
       "      <td>0.64</td>\n",
       "      <td>2048.0</td>\n",
       "      <td>[[0.01428571428571429, 0.221753, 0.884463, 0.080034, 0.80802, 0.835571, 0.0, 0.562571, 0.901655, 0.166014, 0.180816, 1.0, 0.678211, 0.355426, 0.914464, 0.272637, 0.767457, 23.0, 0.256926, -34.0, 0.111654, 0.221753, 0.884463, 0.080034, 0.80802, 0.835571, 0.0, 0.562571, 0.901655, 0.166014, 0.180816, 1.0, 0.678211, 0.355426, 0.914464, 0.272637, 0.767457, 23.0, 0.256926, -34.0, 0.111654, 0.221753, 0.884463, 0.080034, 0.80802, 0.835571, 0.0, 0.562571, 0.901655, 0.166014, 0.180816, 1.0, 0.678211, 0.355426, 0.914464, 0.272637, 0.767457, 23.0, 0.256926, -34.0, 0.111654, 0.221753, 0.884463, 0.080034, 0.80802, 0.835571, 0.0, 0.562571, 0.901655, 0.166014, 0.180816, 1.0, 0.678211, 0.355426, 0.914464, 0.272637, 0.767457, 23.0, 0.256926, -34.0, 0.111654, 0.221753, 0.884463, 0.080034, 0.80802, 0.835571, 0.0, 0.562571, 0.901655, 0.166014, 0.180816, 1.0, 0.678211, 0.355426, 0.914464, 0.272637, 0.767457, 23.0, 0.256926, -34.0, ...], [-34.0, -34.0, -34.0, -34.0, -34.0, -34.0, -34.0, -34.0, -34.0, -34.0, -34.0, -34.0, -34.0, -34.0, -34.0, -34.0, -34.0, -34.0, -34.0, -34.0, -34.0, -34.0, -34.0, -34.0, -34.0, -34.0, -34.0, -34.0, -34.0, -34.0, -34.0, -34.0, -34.0, -34.0, -34.0, -34.0, -34.0, -34.0, -34.0, -34.0, -34.0, -34.0, -34.0, -34.0, -34.0, -34.0, -34.0, -34.0, -34.0, -34.0, -34.0, -34.0, -34.0, -34.0, -34.0, -34.0, -34.0, 0.0, 0.0, 0.0, 0.0, 0.0, 0.0, 0.0, 0.0, 0.0, 0.0, 0.0, 0.0, 0.0, 0.0, 0.0, 0.0, 0.0, 0.0, 0.0, 0.0, 0.0, 0.0, 0.0, 0.0, 0.0, 0.0, 0.0, 0.0, 0.0, 0.0, 0.0, 0.0, 0.0, 0.0, 0.0, 0.0, 0.0, 0.0, 0.0, 0.0, 0.0, 0.0, 0.0, ...], [23.0, 23.0], [], [23.0], [], [-34.0, -34.0, -34.0, -34.0, -34.0, -34.0, -34.0, -34.0, -34.0, -34.0, -34.0, -34.0, -34.0, -34.0, -34.0, -34.0, -34.0, -34.0, -34.0, -34.0, -34.0, -34.0, -34.0, -34.0, -34.0, -34.0, -34.0, -34.0, -34.0, -34.0, -34.0, -34.0, -34.0, -34.0, -34.0, -34.0, -34.0, -34.0, -34.0, -34.0, -34.0, -34.0, -34.0, -34.0, -34.0, -34.0, -34.0, -34.0, -34.0, -34.0, -34.0, -34.0, -34.0, -34.0, -34.0, -34.0, -34.0, -34.0, -34.0, -34.0, -34.0, -34.0, -34.0, -34.0, -34.0, -34.0, -34.0, -34.0, -34.0, -34.0, -34.0, -34.0, -34.0, -34.0, -34.0, -34.0, -34.0, -34.0, -34.0, -34.0, -34.0, -34.0, -34.0, -34.0, -34.0, -34.0, -34.0, -34.0, -34.0, -34.0, -34.0, -34.0, -34.0, 0.0, 0.0, 0.0, 0.0, 0.0, 0.0, 0.0, ...]]</td>\n",
       "    </tr>\n",
       "    <tr>\n",
       "      <th>2</th>\n",
       "      <td>width</td>\n",
       "      <td>Fractional</td>\n",
       "      <td>121899</td>\n",
       "      <td>0</td>\n",
       "      <td>23.695746</td>\n",
       "      <td>2.888488e+06</td>\n",
       "      <td>77.952985</td>\n",
       "      <td>0.000000</td>\n",
       "      <td>343.000000</td>\n",
       "      <td>[{'lower_bound': 0.0, 'upper_bound': 34.3, 'count': 109709.0}, {'lower_bound': 34.3, 'upper_bound': 68.6, 'count': 0.0}, {'lower_bound': 68.6, 'upper_bound': 102.9, 'count': 0.0}, {'lower_bound': 102.9, 'upper_bound': 137.2, 'count': 6082.0}, {'lower_bound': 137.2, 'upper_bound': 171.5, 'count': 0.0}, {'lower_bound': 171.5, 'upper_bound': 205.8, 'count': 0.0}, {'lower_bound': 205.8, 'upper_bound': 240.1, 'count': 0.0}, {'lower_bound': 240.1, 'upper_bound': 274.4, 'count': 0.0}, {'lower_bound': 274.4, 'upper_bound': 308.7, 'count': 0.0}, {'lower_bound': 308.7, 'upper_bound': 343.0, 'count': 6108.0}]</td>\n",
       "      <td>0.64</td>\n",
       "      <td>2048.0</td>\n",
       "      <td>[[0.0, 0.233536, 0.984038, 0.023101, 123.0, 0.025692, 0.041463, 0.356641, 0.318637, 0.694105, 0.10558, 0.360742, 0.695819, 0.048761, 0.924296, 0.514188, 0.038752, 0.94194, 0.70121, 0.978918, 343.0, 0.233536, 0.984038, 0.023101, 123.0, 0.025692, 0.041463, 0.356641, 0.318637, 0.694105, 0.10558, 0.360742, 0.695819, 0.048761, 0.924296, 0.514188, 0.038752, 0.94194, 0.70121, 0.978918, 343.0, 0.233536, 0.984038, 0.023101, 123.0, 0.025692, 0.041463, 0.356641, 0.318637, 0.694105, 0.10558, 0.360742, 0.695819, 0.048761, 0.924296, 0.514188, 0.038752, 0.94194, 0.70121, 0.978918, 343.0, 0.233536, 0.984038, 0.023101, 123.0, 0.025692, 0.041463, 0.356641, 0.318637, 0.694105, 0.10558, 0.360742, 0.695819, 0.048761, 0.924296, 0.514188, 0.038752, 0.94194, 0.70121, 0.978918, 343.0, 0.233536, 0.984038, 0.023101, 123.0, 0.025692, 0.041463, 0.356641, 0.318637, 0.694105, 0.10558, 0.360742, 0.695819, 0.048761, 0.924296, 0.514188, 0.038752, 0.94194, 0.70121, 0.978918, ...], [0.023101, 0.023101, 0.023101, 0.023101, 0.023101, 0.023101, 0.023101, 0.023101, 0.023101, 0.023101, 0.023101, 0.023101, 0.023101, 0.023101, 0.023101, 0.023101, 0.023101, 0.023101, 0.023101, 0.023101, 0.023101, 0.023101, 0.023101, 0.023101, 0.023101, 0.023101, 0.023101, 0.023101, 0.023101, 0.023101, 0.023101, 0.023101, 0.023101, 0.023101, 0.023101, 0.023101, 0.023101, 0.023101, 0.023101, 0.023101, 0.023101, 0.023101, 0.023101, 0.023101, 0.023101, 0.023101, 0.023101, 0.023101, 0.023101, 0.023101, 0.023101, 0.023101, 0.023101, 0.023101, 0.023101, 0.023101, 0.025692, 0.025692, 0.025692, 0.025692, 0.025692, 0.025692, 0.025692, 0.025692, 0.025692, 0.025692, 0.025692, 0.025692, 0.025692, 0.025692, 0.025692, 0.025692, 0.025692, 0.025692, 0.025692, 0.025692, 0.025692, 0.025692, 0.025692, 0.025692, 0.025692, 0.025692, 0.025692, 0.025692, 0.025692, 0.025692, 0.025692, 0.025692, 0.025692, 0.025692, 0.025692, 0.025692, 0.025692, 0.025692, 0.025692, 0.025692, 0.025692, 0.025692, 0.025692, 0.025692, ...], [343.0, 343.0], [], [343.0], [], [0.023101, 0.023101, 0.023101, 0.023101, 0.023101, 0.023101, 0.023101, 0.023101, 0.023101, 0.023101, 0.023101, 0.023101, 0.023101, 0.023101, 0.023101, 0.023101, 0.023101, 0.023101, 0.023101, 0.023101, 0.023101, 0.023101, 0.023101, 0.023101, 0.023101, 0.023101, 0.023101, 0.023101, 0.023101, 0.023101, 0.023101, 0.023101, 0.023101, 0.023101, 0.023101, 0.023101, 0.023101, 0.023101, 0.023101, 0.023101, 0.023101, 0.023101, 0.023101, 0.023101, 0.023101, 0.023101, 0.023101, 0.023101, 0.023101, 0.023101, 0.023101, 0.023101, 0.023101, 0.023101, 0.023101, 0.023101, 0.023101, 0.023101, 0.023101, 0.023101, 0.023101, 0.023101, 0.023101, 0.023101, 0.023101, 0.023101, 0.023101, 0.023101, 0.023101, 0.023101, 0.023101, 0.023101, 0.023101, 0.023101, 0.023101, 0.023101, 0.023101, 0.023101, 0.023101, 0.023101, 0.023101, 0.023101, 0.023101, 0.023101, 0.023101, 0.023101, 0.023101, 0.023101, 0.023101, 0.023101, 0.023101, 0.023101, 0.023101, 0.025692, 0.025692, 0.025692, 0.025692, 0.025692, 0.025692, 0.025692, ...]]</td>\n",
       "    </tr>\n",
       "    <tr>\n",
       "      <th>3</th>\n",
       "      <td>height</td>\n",
       "      <td>Fractional</td>\n",
       "      <td>121899</td>\n",
       "      <td>0</td>\n",
       "      <td>0.328452</td>\n",
       "      <td>4.003799e+04</td>\n",
       "      <td>0.463386</td>\n",
       "      <td>-0.681011</td>\n",
       "      <td>0.993026</td>\n",
       "      <td>[{'lower_bound': -0.681011, 'upper_bound': -0.5136073000000001, 'count': 12232.0}, {'lower_bound': -0.5136073000000001, 'upper_bound': -0.34620360000000006, 'count': 6084.0}, {'lower_bound': -0.34620360000000006, 'upper_bound': -0.1787999, 'count': 0.0}, {'lower_bound': -0.1787999, 'upper_bound': -0.011396200000000078, 'count': 0.0}, {'lower_bound': -0.011396200000000078, 'upper_bound': 0.15600749999999985, 'count': 12171.0}, {'lower_bound': 0.15600749999999985, 'upper_bound': 0.3234112, 'count': 24398.0}, {'lower_bound': 0.3234112, 'upper_bound': 0.49081489999999994, 'count': 24402.0}, {'lower_bound': 0.49081489999999994, 'upper_bound': 0.6582185999999999, 'count': 6148.0}, {'lower_bound': 0.6582185999999999, 'upper_bound': 0.8256223, 'count': 18252.0}, {'lower_bound': 0.8256223, 'upper_bound': 0.9930259999999997, 'count': 12104.0}]</td>\n",
       "      <td>0.64</td>\n",
       "      <td>2048.0</td>\n",
       "      <td>[[0.0461538461538461, 0.753662, 0.182228, 0.843789, 0.290125, 0.431839, 0.070133, 0.914217, 0.423314, -0.581441, -0.457089, 0.186612, 0.251606, 0.761739, 0.511618, 0.454337, 0.993026, 0.052749, 0.686661, 0.480277, -0.681011, 0.753662, 0.182228, 0.843789, 0.290125, 0.431839, 0.070133, 0.914217, 0.423314, -0.581441, -0.457089, 0.186612, 0.251606, 0.761739, 0.511618, 0.454337, 0.993026, 0.052749, 0.686661, 0.480277, -0.681011, 0.753662, 0.182228, 0.843789, 0.290125, 0.431839, 0.070133, 0.914217, 0.423314, -0.581441, -0.457089, 0.186612, 0.251606, 0.761739, 0.511618, 0.454337, 0.993026, 0.052749, 0.686661, 0.480277, -0.681011, 0.753662, 0.182228, 0.843789, 0.290125, 0.431839, 0.070133, 0.914217, 0.423314, -0.581441, -0.457089, 0.186612, 0.251606, 0.761739, 0.511618, 0.454337, 0.993026, 0.052749, 0.686661, 0.480277, -0.681011, 0.753662, 0.182228, 0.843789, 0.290125, 0.431839, 0.070133, 0.914217, 0.423314, -0.581441, -0.457089, 0.186612, 0.251606, 0.761739, 0.511618, 0.454337, 0.993026, 0.052749, 0.686661, 0.480277, ...], [-0.681011, -0.681011, -0.681011, -0.681011, -0.681011, -0.681011, -0.681011, -0.681011, -0.681011, -0.681011, -0.681011, -0.681011, -0.681011, -0.681011, -0.681011, -0.681011, -0.681011, -0.681011, -0.681011, -0.681011, -0.681011, -0.681011, -0.681011, -0.681011, -0.681011, -0.681011, -0.681011, -0.681011, -0.681011, -0.681011, -0.681011, -0.681011, -0.681011, -0.681011, -0.681011, -0.681011, -0.681011, -0.681011, -0.681011, -0.681011, -0.681011, -0.681011, -0.681011, -0.681011, -0.681011, -0.681011, -0.681011, -0.681011, -0.681011, -0.681011, -0.681011, -0.681011, -0.681011, -0.681011, -0.681011, -0.681011, -0.581441, -0.581441, -0.581441, -0.581441, -0.581441, -0.581441, -0.581441, -0.581441, -0.581441, -0.581441, -0.581441, -0.581441, -0.581441, -0.581441, -0.581441, -0.581441, -0.581441, -0.581441, -0.581441, -0.581441, -0.581441, -0.581441, -0.581441, -0.581441, -0.581441, -0.581441, -0.581441, -0.581441, -0.581441, -0.581441, -0.581441, -0.581441, -0.581441, -0.581441, -0.581441, -0.581441, -0.581441, -0.581441, -0.581441, -0.581441, -0.581441, -0.581441, -0.581441, -0.581441, ...], [0.993026, 0.993026], [], [0.993026], [], [-0.681011, -0.681011, -0.681011, -0.681011, -0.681011, -0.681011, -0.681011, -0.681011, -0.681011, -0.681011, -0.681011, -0.681011, -0.681011, -0.681011, -0.681011, -0.681011, -0.681011, -0.681011, -0.681011, -0.681011, -0.681011, -0.681011, -0.681011, -0.681011, -0.681011, -0.681011, -0.681011, -0.681011, -0.681011, -0.681011, -0.681011, -0.681011, -0.681011, -0.681011, -0.681011, -0.681011, -0.681011, -0.681011, -0.681011, -0.681011, -0.681011, -0.681011, -0.681011, -0.681011, -0.681011, -0.681011, -0.681011, -0.681011, -0.681011, -0.681011, -0.681011, -0.681011, -0.681011, -0.681011, -0.681011, -0.681011, -0.681011, -0.681011, -0.681011, -0.681011, -0.681011, -0.681011, -0.681011, -0.681011, -0.681011, -0.681011, -0.681011, -0.681011, -0.681011, -0.681011, -0.681011, -0.681011, -0.681011, -0.681011, -0.681011, -0.681011, -0.681011, -0.681011, -0.681011, -0.681011, -0.681011, -0.681011, -0.681011, -0.681011, -0.681011, -0.681011, -0.681011, -0.681011, -0.681011, -0.681011, -0.681011, -0.681011, -0.681011, -0.581441, -0.581441, -0.581441, -0.581441, -0.581441, -0.581441, -0.581441, ...]]</td>\n",
       "    </tr>\n",
       "    <tr>\n",
       "      <th>4</th>\n",
       "      <td>color_score</td>\n",
       "      <td>Fractional</td>\n",
       "      <td>121899</td>\n",
       "      <td>0</td>\n",
       "      <td>2.090061</td>\n",
       "      <td>2.547763e+05</td>\n",
       "      <td>4.034095</td>\n",
       "      <td>-0.117647</td>\n",
       "      <td>12.000000</td>\n",
       "      <td>[{'lower_bound': -0.11764705882352923, 'upper_bound': 1.0941176470588236, 'count': 103687.0}, {'lower_bound': 1.0941176470588236, 'upper_bound': 2.3058823529411763, 'count': 0.0}, {'lower_bound': 2.3058823529411763, 'upper_bound': 3.5176470588235293, 'count': 0.0}, {'lower_bound': 3.5176470588235293, 'upper_bound': 4.729411764705882, 'count': 0.0}, {'lower_bound': 4.729411764705882, 'upper_bound': 5.9411764705882355, 'count': 0.0}, {'lower_bound': 5.9411764705882355, 'upper_bound': 7.152941176470589, 'count': 0.0}, {'lower_bound': 7.152941176470589, 'upper_bound': 8.36470588235294, 'count': 0.0}, {'lower_bound': 8.36470588235294, 'upper_bound': 9.576470588235294, 'count': 0.0}, {'lower_bound': 9.576470588235294, 'upper_bound': 10.788235294117648, 'count': 0.0}, {'lower_bound': 10.788235294117648, 'upper_bound': 12.0, 'count': 18212.0}]</td>\n",
       "      <td>0.64</td>\n",
       "      <td>2048.0</td>\n",
       "      <td>[[0.5294117647058822, 0.598349, 0.486559, 0.017876, 0.293483, 0.740756, 0.419282, 0.0, 12.0, 12.0, 11.0, 0.350795, 0.291092, 0.057155, 0.699412, 0.780144, 0.773738, 0.0, 0.569451, 0.3074, 0.420716, 0.598349, 0.486559, 0.017876, 0.293483, 0.740756, 0.419282, 0.0, 12.0, 12.0, 11.0, 0.350795, 0.291092, 0.057155, 0.699412, 0.780144, 0.773738, 0.0, 0.569451, 0.3074, 0.420716, 0.598349, 0.486559, 0.017876, 0.293483, 0.740756, 0.419282, 0.0, 12.0, 12.0, 11.0, 0.350795, 0.291092, 0.057155, 0.699412, 0.780144, 0.773738, 0.0, 0.569451, 0.3074, 0.420716, 0.598349, 0.486559, 0.017876, 0.293483, 0.740756, 0.419282, 0.0, 12.0, 12.0, 11.0, 0.350795, 0.291092, 0.057155, 0.699412, 0.780144, 0.773738, 0.0, 0.569451, 0.3074, 0.420716, 0.598349, 0.486559, 0.017876, 0.293483, 0.740756, 0.419282, 0.0, 12.0, 12.0, 11.0, 0.350795, 0.291092, 0.057155, 0.699412, 0.780144, 0.773738, 0.0, 0.569451, 0.3074, ...], [0.0, 0.0, 0.0, 0.0, 0.0, 0.0, 0.0, 0.0, 0.0, 0.0, 0.0, 0.0, 0.0, 0.0, 0.0, 0.0, 0.0, 0.0, 0.0, 0.0, 0.0, 0.0, 0.0, 0.0, 0.0, 0.0, 0.0, 0.0, 0.0, 0.0, 0.0, 0.0, 0.0, 0.0, 0.0, 0.0, 0.0, 0.0, 0.0, 0.0, 0.0, 0.0, 0.0, 0.0, 0.0, 0.0, 0.0, 0.0, 0.0, 0.0, 0.0, 0.0, 0.0, 0.0, 0.0, 0.0, 0.0, 0.0, 0.0, 0.0, 0.0, 0.0, 0.0, 0.0, 0.0, 0.0, 0.0, 0.0, 0.0, 0.0, 0.0, 0.0, 0.0, 0.0, 0.0, 0.0, 0.0, 0.0, 0.0, 0.0, 0.0, 0.0, 0.0, 0.0, 0.0, 0.0, 0.0, 0.0, 0.0, 0.0, 0.0, 0.0, 0.0, 0.0, 0.0, 0.0, 0.0, 0.0, 0.0, 0.0, ...], [12.0, 12.0], [], [12.0], [], [0.0, 0.0, 0.0, 0.0, 0.0, 0.0, 0.0, 0.0, 0.0, 0.0, 0.0, 0.0, 0.0, 0.0, 0.0, 0.0, 0.0, 0.0, 0.0, 0.0, 0.0, 0.0, 0.0, 0.0, 0.0, 0.0, 0.0, 0.0, 0.0, 0.0, 0.0, 0.0, 0.0, 0.0, 0.0, 0.0, 0.0, 0.0, 0.0, 0.0, 0.0, 0.0, 0.0, 0.0, 0.0, 0.0, 0.0, 0.0, 0.0, 0.0, 0.0, 0.0, 0.0, 0.0, 0.0, 0.0, 0.0, 0.0, 0.0, 0.0, 0.0, 0.0, 0.0, 0.0, 0.0, 0.0, 0.0, 0.0, 0.0, 0.0, 0.0, 0.0, 0.0, 0.0, 0.0, 0.0, 0.0, 0.0, 0.0, 0.0, 0.0, 0.0, 0.0, 0.0, 0.0, 0.0, 0.0, 0.0, 0.0, 0.0, 0.0, 0.0, 0.0, 0.0, 0.0, 0.0, 0.0, 0.0, 0.0, 0.0, ...]]</td>\n",
       "    </tr>\n",
       "  </tbody>\n",
       "</table>\n",
       "</div>"
      ],
      "text/plain": [
       "          name inferred_type  numerical_statistics.common.num_present  \\\n",
       "0  class        Fractional    121899                                    \n",
       "1  mass         Fractional    121899                                    \n",
       "2  width        Fractional    121899                                    \n",
       "3  height       Fractional    121899                                    \n",
       "4  color_score  Fractional    121899                                    \n",
       "\n",
       "   numerical_statistics.common.num_missing  numerical_statistics.mean  \\\n",
       "0  0                                        0.850114                    \n",
       "1  0                                       -0.100035                    \n",
       "2  0                                        23.695746                   \n",
       "3  0                                        0.328452                    \n",
       "4  0                                        2.090061                    \n",
       "\n",
       "   numerical_statistics.sum  numerical_statistics.std_dev  \\\n",
       "0  1.036280e+05              1.107998                       \n",
       "1 -1.219417e+04              9.195325                       \n",
       "2  2.888488e+06              77.952985                      \n",
       "3  4.003799e+04              0.463386                       \n",
       "4  2.547763e+05              4.034095                       \n",
       "\n",
       "   numerical_statistics.min  numerical_statistics.max  \\\n",
       "0  0.000000                  3.000000                   \n",
       "1 -34.000000                 23.000000                  \n",
       "2  0.000000                  343.000000                 \n",
       "3 -0.681011                  0.993026                   \n",
       "4 -0.117647                  12.000000                  \n",
       "\n",
       "                                                                                                                                                                                                                                                                                                                                                                                                                                                                                                                                                                                                                                                                                                                                                                                                                                     numerical_statistics.distribution.kll.buckets  \\\n",
       "0  [{'lower_bound': 0.0, 'upper_bound': 0.3, 'count': 67056.0}, {'lower_bound': 0.3, 'upper_bound': 0.6, 'count': 0.0}, {'lower_bound': 0.6, 'upper_bound': 0.9, 'count': 0.0}, {'lower_bound': 0.9, 'upper_bound': 1.2, 'count': 24334.0}, {'lower_bound': 1.2, 'upper_bound': 1.5, 'count': 0.0}, {'lower_bound': 1.5, 'upper_bound': 1.8, 'count': 0.0}, {'lower_bound': 1.8, 'upper_bound': 2.1, 'count': 12297.0}, {'lower_bound': 2.1, 'upper_bound': 2.4, 'count': 0.0}, {'lower_bound': 2.4, 'upper_bound': 2.7, 'count': 0.0}, {'lower_bound': 2.7, 'upper_bound': 3.0, 'count': 18212.0}]                                                                                                                                                                                                                                                                                  \n",
       "1  [{'lower_bound': -34.0, 'upper_bound': -28.3, 'count': 6150.0}, {'lower_bound': -28.3, 'upper_bound': -22.6, 'count': 0.0}, {'lower_bound': -22.6, 'upper_bound': -16.9, 'count': 0.0}, {'lower_bound': -16.9, 'upper_bound': -11.2, 'count': 0.0}, {'lower_bound': -11.2, 'upper_bound': -5.5, 'count': 0.0}, {'lower_bound': -5.5, 'upper_bound': 0.20000000000000284, 'count': 30483.0}, {'lower_bound': 0.20000000000000284, 'upper_bound': 5.899999999999999, 'count': 79158.0}, {'lower_bound': 5.899999999999999, 'upper_bound': 11.600000000000001, 'count': 0.0}, {'lower_bound': 11.600000000000001, 'upper_bound': 17.299999999999997, 'count': 0.0}, {'lower_bound': 17.299999999999997, 'upper_bound': 23.0, 'count': 6108.0}]                                                                                                                                       \n",
       "2  [{'lower_bound': 0.0, 'upper_bound': 34.3, 'count': 109709.0}, {'lower_bound': 34.3, 'upper_bound': 68.6, 'count': 0.0}, {'lower_bound': 68.6, 'upper_bound': 102.9, 'count': 0.0}, {'lower_bound': 102.9, 'upper_bound': 137.2, 'count': 6082.0}, {'lower_bound': 137.2, 'upper_bound': 171.5, 'count': 0.0}, {'lower_bound': 171.5, 'upper_bound': 205.8, 'count': 0.0}, {'lower_bound': 205.8, 'upper_bound': 240.1, 'count': 0.0}, {'lower_bound': 240.1, 'upper_bound': 274.4, 'count': 0.0}, {'lower_bound': 274.4, 'upper_bound': 308.7, 'count': 0.0}, {'lower_bound': 308.7, 'upper_bound': 343.0, 'count': 6108.0}]                                                                                                                                                                                                                                                     \n",
       "3  [{'lower_bound': -0.681011, 'upper_bound': -0.5136073000000001, 'count': 12232.0}, {'lower_bound': -0.5136073000000001, 'upper_bound': -0.34620360000000006, 'count': 6084.0}, {'lower_bound': -0.34620360000000006, 'upper_bound': -0.1787999, 'count': 0.0}, {'lower_bound': -0.1787999, 'upper_bound': -0.011396200000000078, 'count': 0.0}, {'lower_bound': -0.011396200000000078, 'upper_bound': 0.15600749999999985, 'count': 12171.0}, {'lower_bound': 0.15600749999999985, 'upper_bound': 0.3234112, 'count': 24398.0}, {'lower_bound': 0.3234112, 'upper_bound': 0.49081489999999994, 'count': 24402.0}, {'lower_bound': 0.49081489999999994, 'upper_bound': 0.6582185999999999, 'count': 6148.0}, {'lower_bound': 0.6582185999999999, 'upper_bound': 0.8256223, 'count': 18252.0}, {'lower_bound': 0.8256223, 'upper_bound': 0.9930259999999997, 'count': 12104.0}]     \n",
       "4  [{'lower_bound': -0.11764705882352923, 'upper_bound': 1.0941176470588236, 'count': 103687.0}, {'lower_bound': 1.0941176470588236, 'upper_bound': 2.3058823529411763, 'count': 0.0}, {'lower_bound': 2.3058823529411763, 'upper_bound': 3.5176470588235293, 'count': 0.0}, {'lower_bound': 3.5176470588235293, 'upper_bound': 4.729411764705882, 'count': 0.0}, {'lower_bound': 4.729411764705882, 'upper_bound': 5.9411764705882355, 'count': 0.0}, {'lower_bound': 5.9411764705882355, 'upper_bound': 7.152941176470589, 'count': 0.0}, {'lower_bound': 7.152941176470589, 'upper_bound': 8.36470588235294, 'count': 0.0}, {'lower_bound': 8.36470588235294, 'upper_bound': 9.576470588235294, 'count': 0.0}, {'lower_bound': 9.576470588235294, 'upper_bound': 10.788235294117648, 'count': 0.0}, {'lower_bound': 10.788235294117648, 'upper_bound': 12.0, 'count': 18212.0}]   \n",
       "\n",
       "   numerical_statistics.distribution.kll.sketch.parameters.c  \\\n",
       "0  0.64                                                        \n",
       "1  0.64                                                        \n",
       "2  0.64                                                        \n",
       "3  0.64                                                        \n",
       "4  0.64                                                        \n",
       "\n",
       "   numerical_statistics.distribution.kll.sketch.parameters.k  \\\n",
       "0  2048.0                                                      \n",
       "1  2048.0                                                      \n",
       "2  2048.0                                                      \n",
       "3  2048.0                                                      \n",
       "4  2048.0                                                      \n",
       "\n",
       "                                                                                                                                                                                                                                                                                                                                                                                                                                                                                                                                                                                                                                                                                                                                                                                                                                                                                                                                                                                                                                                                                                                                                                                                                                                                                                                                                                                                                                                                                                                                                                                                                                                                                                                                                                                                                                                                                                                                                                                                                                                                                                                                                                                                                                                                                                                                                                                                                                                                                                                                                                                                                                                                                                                                                                                                                                                                                                                                                                                                                                                                                                                                                                                                                                                                                                                                                                         numerical_statistics.distribution.kll.sketch.data  \n",
       "0  [[2.0, 1.0, 3.0, 1.0, 0.0, 0.0, 2.0, 1.0, 0.0, 0.0, 0.0, 3.0, 0.0, 1.0, 0.0, 0.0, 0.0, 0.0, 3.0, 0.0, 2.0, 1.0, 3.0, 1.0, 0.0, 0.0, 2.0, 1.0, 0.0, 0.0, 0.0, 3.0, 0.0, 1.0, 0.0, 0.0, 0.0, 0.0, 3.0, 0.0, 2.0, 1.0, 3.0, 1.0, 0.0, 0.0, 2.0, 1.0, 0.0, 0.0, 0.0, 3.0, 0.0, 1.0, 0.0, 0.0, 0.0, 0.0, 3.0, 0.0, 2.0, 1.0, 3.0, 1.0, 0.0, 0.0, 2.0, 1.0, 0.0, 0.0, 0.0, 3.0, 0.0, 1.0, 0.0, 0.0, 0.0, 0.0, 3.0, 0.0, 2.0, 1.0, 3.0, 1.0, 0.0, 0.0, 2.0, 1.0, 0.0, 0.0, 0.0, 3.0, 0.0, 1.0, 0.0, 0.0, 0.0, 0.0, 3.0, 0.0, ...], [0.0, 0.0, 0.0, 0.0, 0.0, 0.0, 0.0, 0.0, 0.0, 0.0, 0.0, 0.0, 0.0, 0.0, 0.0, 0.0, 0.0, 0.0, 0.0, 0.0, 0.0, 0.0, 0.0, 0.0, 0.0, 0.0, 0.0, 0.0, 0.0, 0.0, 0.0, 0.0, 0.0, 0.0, 0.0, 0.0, 0.0, 0.0, 0.0, 0.0, 0.0, 0.0, 0.0, 0.0, 0.0, 0.0, 0.0, 0.0, 0.0, 0.0, 0.0, 0.0, 0.0, 0.0, 0.0, 0.0, 0.0, 0.0, 0.0, 0.0, 0.0, 0.0, 0.0, 0.0, 0.0, 0.0, 0.0, 0.0, 0.0, 0.0, 0.0, 0.0, 0.0, 0.0, 0.0, 0.0, 0.0, 0.0, 0.0, 0.0, 0.0, 0.0, 0.0, 0.0, 0.0, 0.0, 0.0, 0.0, 0.0, 0.0, 0.0, 0.0, 0.0, 0.0, 0.0, 0.0, 0.0, 0.0, 0.0, 0.0, ...], [3.0, 3.0], [], [3.0], [], [0.0, 0.0, 0.0, 0.0, 0.0, 0.0, 0.0, 0.0, 0.0, 0.0, 0.0, 0.0, 0.0, 0.0, 0.0, 0.0, 0.0, 0.0, 0.0, 0.0, 0.0, 0.0, 0.0, 0.0, 0.0, 0.0, 0.0, 0.0, 0.0, 0.0, 0.0, 0.0, 0.0, 0.0, 0.0, 0.0, 0.0, 0.0, 0.0, 0.0, 0.0, 0.0, 0.0, 0.0, 0.0, 0.0, 0.0, 0.0, 0.0, 0.0, 0.0, 0.0, 0.0, 0.0, 0.0, 0.0, 0.0, 0.0, 0.0, 0.0, 0.0, 0.0, 0.0, 0.0, 0.0, 0.0, 0.0, 0.0, 0.0, 0.0, 0.0, 0.0, 0.0, 0.0, 0.0, 0.0, 0.0, 0.0, 0.0, 0.0, 0.0, 0.0, 0.0, 0.0, 0.0, 0.0, 0.0, 0.0, 0.0, 0.0, 0.0, 0.0, 0.0, 0.0, 0.0, 0.0, 0.0, 0.0, 0.0, 0.0, ...]]                                                                                                                                                                                                                                                                                                                                                                                                                                                                                                                                                                                                                                                                                                                                                                                                                                                                                                                                                                                                                                                                                                                                                                                                                                                                                                                                                                                                                                                                                                                                                                                                                                                                                                                                                                                                             \n",
       "1  [[0.01428571428571429, 0.221753, 0.884463, 0.080034, 0.80802, 0.835571, 0.0, 0.562571, 0.901655, 0.166014, 0.180816, 1.0, 0.678211, 0.355426, 0.914464, 0.272637, 0.767457, 23.0, 0.256926, -34.0, 0.111654, 0.221753, 0.884463, 0.080034, 0.80802, 0.835571, 0.0, 0.562571, 0.901655, 0.166014, 0.180816, 1.0, 0.678211, 0.355426, 0.914464, 0.272637, 0.767457, 23.0, 0.256926, -34.0, 0.111654, 0.221753, 0.884463, 0.080034, 0.80802, 0.835571, 0.0, 0.562571, 0.901655, 0.166014, 0.180816, 1.0, 0.678211, 0.355426, 0.914464, 0.272637, 0.767457, 23.0, 0.256926, -34.0, 0.111654, 0.221753, 0.884463, 0.080034, 0.80802, 0.835571, 0.0, 0.562571, 0.901655, 0.166014, 0.180816, 1.0, 0.678211, 0.355426, 0.914464, 0.272637, 0.767457, 23.0, 0.256926, -34.0, 0.111654, 0.221753, 0.884463, 0.080034, 0.80802, 0.835571, 0.0, 0.562571, 0.901655, 0.166014, 0.180816, 1.0, 0.678211, 0.355426, 0.914464, 0.272637, 0.767457, 23.0, 0.256926, -34.0, ...], [-34.0, -34.0, -34.0, -34.0, -34.0, -34.0, -34.0, -34.0, -34.0, -34.0, -34.0, -34.0, -34.0, -34.0, -34.0, -34.0, -34.0, -34.0, -34.0, -34.0, -34.0, -34.0, -34.0, -34.0, -34.0, -34.0, -34.0, -34.0, -34.0, -34.0, -34.0, -34.0, -34.0, -34.0, -34.0, -34.0, -34.0, -34.0, -34.0, -34.0, -34.0, -34.0, -34.0, -34.0, -34.0, -34.0, -34.0, -34.0, -34.0, -34.0, -34.0, -34.0, -34.0, -34.0, -34.0, -34.0, -34.0, 0.0, 0.0, 0.0, 0.0, 0.0, 0.0, 0.0, 0.0, 0.0, 0.0, 0.0, 0.0, 0.0, 0.0, 0.0, 0.0, 0.0, 0.0, 0.0, 0.0, 0.0, 0.0, 0.0, 0.0, 0.0, 0.0, 0.0, 0.0, 0.0, 0.0, 0.0, 0.0, 0.0, 0.0, 0.0, 0.0, 0.0, 0.0, 0.0, 0.0, 0.0, 0.0, 0.0, ...], [23.0, 23.0], [], [23.0], [], [-34.0, -34.0, -34.0, -34.0, -34.0, -34.0, -34.0, -34.0, -34.0, -34.0, -34.0, -34.0, -34.0, -34.0, -34.0, -34.0, -34.0, -34.0, -34.0, -34.0, -34.0, -34.0, -34.0, -34.0, -34.0, -34.0, -34.0, -34.0, -34.0, -34.0, -34.0, -34.0, -34.0, -34.0, -34.0, -34.0, -34.0, -34.0, -34.0, -34.0, -34.0, -34.0, -34.0, -34.0, -34.0, -34.0, -34.0, -34.0, -34.0, -34.0, -34.0, -34.0, -34.0, -34.0, -34.0, -34.0, -34.0, -34.0, -34.0, -34.0, -34.0, -34.0, -34.0, -34.0, -34.0, -34.0, -34.0, -34.0, -34.0, -34.0, -34.0, -34.0, -34.0, -34.0, -34.0, -34.0, -34.0, -34.0, -34.0, -34.0, -34.0, -34.0, -34.0, -34.0, -34.0, -34.0, -34.0, -34.0, -34.0, -34.0, -34.0, -34.0, -34.0, 0.0, 0.0, 0.0, 0.0, 0.0, 0.0, 0.0, ...]]                                                                                                                                                                                                                                                                                                                                                                                                                                                                                                                                                                                                                                                                                                                                                                                                                                                                                                                                                                                                                                                         \n",
       "2  [[0.0, 0.233536, 0.984038, 0.023101, 123.0, 0.025692, 0.041463, 0.356641, 0.318637, 0.694105, 0.10558, 0.360742, 0.695819, 0.048761, 0.924296, 0.514188, 0.038752, 0.94194, 0.70121, 0.978918, 343.0, 0.233536, 0.984038, 0.023101, 123.0, 0.025692, 0.041463, 0.356641, 0.318637, 0.694105, 0.10558, 0.360742, 0.695819, 0.048761, 0.924296, 0.514188, 0.038752, 0.94194, 0.70121, 0.978918, 343.0, 0.233536, 0.984038, 0.023101, 123.0, 0.025692, 0.041463, 0.356641, 0.318637, 0.694105, 0.10558, 0.360742, 0.695819, 0.048761, 0.924296, 0.514188, 0.038752, 0.94194, 0.70121, 0.978918, 343.0, 0.233536, 0.984038, 0.023101, 123.0, 0.025692, 0.041463, 0.356641, 0.318637, 0.694105, 0.10558, 0.360742, 0.695819, 0.048761, 0.924296, 0.514188, 0.038752, 0.94194, 0.70121, 0.978918, 343.0, 0.233536, 0.984038, 0.023101, 123.0, 0.025692, 0.041463, 0.356641, 0.318637, 0.694105, 0.10558, 0.360742, 0.695819, 0.048761, 0.924296, 0.514188, 0.038752, 0.94194, 0.70121, 0.978918, ...], [0.023101, 0.023101, 0.023101, 0.023101, 0.023101, 0.023101, 0.023101, 0.023101, 0.023101, 0.023101, 0.023101, 0.023101, 0.023101, 0.023101, 0.023101, 0.023101, 0.023101, 0.023101, 0.023101, 0.023101, 0.023101, 0.023101, 0.023101, 0.023101, 0.023101, 0.023101, 0.023101, 0.023101, 0.023101, 0.023101, 0.023101, 0.023101, 0.023101, 0.023101, 0.023101, 0.023101, 0.023101, 0.023101, 0.023101, 0.023101, 0.023101, 0.023101, 0.023101, 0.023101, 0.023101, 0.023101, 0.023101, 0.023101, 0.023101, 0.023101, 0.023101, 0.023101, 0.023101, 0.023101, 0.023101, 0.023101, 0.025692, 0.025692, 0.025692, 0.025692, 0.025692, 0.025692, 0.025692, 0.025692, 0.025692, 0.025692, 0.025692, 0.025692, 0.025692, 0.025692, 0.025692, 0.025692, 0.025692, 0.025692, 0.025692, 0.025692, 0.025692, 0.025692, 0.025692, 0.025692, 0.025692, 0.025692, 0.025692, 0.025692, 0.025692, 0.025692, 0.025692, 0.025692, 0.025692, 0.025692, 0.025692, 0.025692, 0.025692, 0.025692, 0.025692, 0.025692, 0.025692, 0.025692, 0.025692, 0.025692, ...], [343.0, 343.0], [], [343.0], [], [0.023101, 0.023101, 0.023101, 0.023101, 0.023101, 0.023101, 0.023101, 0.023101, 0.023101, 0.023101, 0.023101, 0.023101, 0.023101, 0.023101, 0.023101, 0.023101, 0.023101, 0.023101, 0.023101, 0.023101, 0.023101, 0.023101, 0.023101, 0.023101, 0.023101, 0.023101, 0.023101, 0.023101, 0.023101, 0.023101, 0.023101, 0.023101, 0.023101, 0.023101, 0.023101, 0.023101, 0.023101, 0.023101, 0.023101, 0.023101, 0.023101, 0.023101, 0.023101, 0.023101, 0.023101, 0.023101, 0.023101, 0.023101, 0.023101, 0.023101, 0.023101, 0.023101, 0.023101, 0.023101, 0.023101, 0.023101, 0.023101, 0.023101, 0.023101, 0.023101, 0.023101, 0.023101, 0.023101, 0.023101, 0.023101, 0.023101, 0.023101, 0.023101, 0.023101, 0.023101, 0.023101, 0.023101, 0.023101, 0.023101, 0.023101, 0.023101, 0.023101, 0.023101, 0.023101, 0.023101, 0.023101, 0.023101, 0.023101, 0.023101, 0.023101, 0.023101, 0.023101, 0.023101, 0.023101, 0.023101, 0.023101, 0.023101, 0.023101, 0.025692, 0.025692, 0.025692, 0.025692, 0.025692, 0.025692, 0.025692, ...]]                                                                                                                                                                                                                                                                                          \n",
       "3  [[0.0461538461538461, 0.753662, 0.182228, 0.843789, 0.290125, 0.431839, 0.070133, 0.914217, 0.423314, -0.581441, -0.457089, 0.186612, 0.251606, 0.761739, 0.511618, 0.454337, 0.993026, 0.052749, 0.686661, 0.480277, -0.681011, 0.753662, 0.182228, 0.843789, 0.290125, 0.431839, 0.070133, 0.914217, 0.423314, -0.581441, -0.457089, 0.186612, 0.251606, 0.761739, 0.511618, 0.454337, 0.993026, 0.052749, 0.686661, 0.480277, -0.681011, 0.753662, 0.182228, 0.843789, 0.290125, 0.431839, 0.070133, 0.914217, 0.423314, -0.581441, -0.457089, 0.186612, 0.251606, 0.761739, 0.511618, 0.454337, 0.993026, 0.052749, 0.686661, 0.480277, -0.681011, 0.753662, 0.182228, 0.843789, 0.290125, 0.431839, 0.070133, 0.914217, 0.423314, -0.581441, -0.457089, 0.186612, 0.251606, 0.761739, 0.511618, 0.454337, 0.993026, 0.052749, 0.686661, 0.480277, -0.681011, 0.753662, 0.182228, 0.843789, 0.290125, 0.431839, 0.070133, 0.914217, 0.423314, -0.581441, -0.457089, 0.186612, 0.251606, 0.761739, 0.511618, 0.454337, 0.993026, 0.052749, 0.686661, 0.480277, ...], [-0.681011, -0.681011, -0.681011, -0.681011, -0.681011, -0.681011, -0.681011, -0.681011, -0.681011, -0.681011, -0.681011, -0.681011, -0.681011, -0.681011, -0.681011, -0.681011, -0.681011, -0.681011, -0.681011, -0.681011, -0.681011, -0.681011, -0.681011, -0.681011, -0.681011, -0.681011, -0.681011, -0.681011, -0.681011, -0.681011, -0.681011, -0.681011, -0.681011, -0.681011, -0.681011, -0.681011, -0.681011, -0.681011, -0.681011, -0.681011, -0.681011, -0.681011, -0.681011, -0.681011, -0.681011, -0.681011, -0.681011, -0.681011, -0.681011, -0.681011, -0.681011, -0.681011, -0.681011, -0.681011, -0.681011, -0.681011, -0.581441, -0.581441, -0.581441, -0.581441, -0.581441, -0.581441, -0.581441, -0.581441, -0.581441, -0.581441, -0.581441, -0.581441, -0.581441, -0.581441, -0.581441, -0.581441, -0.581441, -0.581441, -0.581441, -0.581441, -0.581441, -0.581441, -0.581441, -0.581441, -0.581441, -0.581441, -0.581441, -0.581441, -0.581441, -0.581441, -0.581441, -0.581441, -0.581441, -0.581441, -0.581441, -0.581441, -0.581441, -0.581441, -0.581441, -0.581441, -0.581441, -0.581441, -0.581441, -0.581441, ...], [0.993026, 0.993026], [], [0.993026], [], [-0.681011, -0.681011, -0.681011, -0.681011, -0.681011, -0.681011, -0.681011, -0.681011, -0.681011, -0.681011, -0.681011, -0.681011, -0.681011, -0.681011, -0.681011, -0.681011, -0.681011, -0.681011, -0.681011, -0.681011, -0.681011, -0.681011, -0.681011, -0.681011, -0.681011, -0.681011, -0.681011, -0.681011, -0.681011, -0.681011, -0.681011, -0.681011, -0.681011, -0.681011, -0.681011, -0.681011, -0.681011, -0.681011, -0.681011, -0.681011, -0.681011, -0.681011, -0.681011, -0.681011, -0.681011, -0.681011, -0.681011, -0.681011, -0.681011, -0.681011, -0.681011, -0.681011, -0.681011, -0.681011, -0.681011, -0.681011, -0.681011, -0.681011, -0.681011, -0.681011, -0.681011, -0.681011, -0.681011, -0.681011, -0.681011, -0.681011, -0.681011, -0.681011, -0.681011, -0.681011, -0.681011, -0.681011, -0.681011, -0.681011, -0.681011, -0.681011, -0.681011, -0.681011, -0.681011, -0.681011, -0.681011, -0.681011, -0.681011, -0.681011, -0.681011, -0.681011, -0.681011, -0.681011, -0.681011, -0.681011, -0.681011, -0.681011, -0.681011, -0.581441, -0.581441, -0.581441, -0.581441, -0.581441, -0.581441, -0.581441, ...]]  \n",
       "4  [[0.5294117647058822, 0.598349, 0.486559, 0.017876, 0.293483, 0.740756, 0.419282, 0.0, 12.0, 12.0, 11.0, 0.350795, 0.291092, 0.057155, 0.699412, 0.780144, 0.773738, 0.0, 0.569451, 0.3074, 0.420716, 0.598349, 0.486559, 0.017876, 0.293483, 0.740756, 0.419282, 0.0, 12.0, 12.0, 11.0, 0.350795, 0.291092, 0.057155, 0.699412, 0.780144, 0.773738, 0.0, 0.569451, 0.3074, 0.420716, 0.598349, 0.486559, 0.017876, 0.293483, 0.740756, 0.419282, 0.0, 12.0, 12.0, 11.0, 0.350795, 0.291092, 0.057155, 0.699412, 0.780144, 0.773738, 0.0, 0.569451, 0.3074, 0.420716, 0.598349, 0.486559, 0.017876, 0.293483, 0.740756, 0.419282, 0.0, 12.0, 12.0, 11.0, 0.350795, 0.291092, 0.057155, 0.699412, 0.780144, 0.773738, 0.0, 0.569451, 0.3074, 0.420716, 0.598349, 0.486559, 0.017876, 0.293483, 0.740756, 0.419282, 0.0, 12.0, 12.0, 11.0, 0.350795, 0.291092, 0.057155, 0.699412, 0.780144, 0.773738, 0.0, 0.569451, 0.3074, ...], [0.0, 0.0, 0.0, 0.0, 0.0, 0.0, 0.0, 0.0, 0.0, 0.0, 0.0, 0.0, 0.0, 0.0, 0.0, 0.0, 0.0, 0.0, 0.0, 0.0, 0.0, 0.0, 0.0, 0.0, 0.0, 0.0, 0.0, 0.0, 0.0, 0.0, 0.0, 0.0, 0.0, 0.0, 0.0, 0.0, 0.0, 0.0, 0.0, 0.0, 0.0, 0.0, 0.0, 0.0, 0.0, 0.0, 0.0, 0.0, 0.0, 0.0, 0.0, 0.0, 0.0, 0.0, 0.0, 0.0, 0.0, 0.0, 0.0, 0.0, 0.0, 0.0, 0.0, 0.0, 0.0, 0.0, 0.0, 0.0, 0.0, 0.0, 0.0, 0.0, 0.0, 0.0, 0.0, 0.0, 0.0, 0.0, 0.0, 0.0, 0.0, 0.0, 0.0, 0.0, 0.0, 0.0, 0.0, 0.0, 0.0, 0.0, 0.0, 0.0, 0.0, 0.0, 0.0, 0.0, 0.0, 0.0, 0.0, 0.0, ...], [12.0, 12.0], [], [12.0], [], [0.0, 0.0, 0.0, 0.0, 0.0, 0.0, 0.0, 0.0, 0.0, 0.0, 0.0, 0.0, 0.0, 0.0, 0.0, 0.0, 0.0, 0.0, 0.0, 0.0, 0.0, 0.0, 0.0, 0.0, 0.0, 0.0, 0.0, 0.0, 0.0, 0.0, 0.0, 0.0, 0.0, 0.0, 0.0, 0.0, 0.0, 0.0, 0.0, 0.0, 0.0, 0.0, 0.0, 0.0, 0.0, 0.0, 0.0, 0.0, 0.0, 0.0, 0.0, 0.0, 0.0, 0.0, 0.0, 0.0, 0.0, 0.0, 0.0, 0.0, 0.0, 0.0, 0.0, 0.0, 0.0, 0.0, 0.0, 0.0, 0.0, 0.0, 0.0, 0.0, 0.0, 0.0, 0.0, 0.0, 0.0, 0.0, 0.0, 0.0, 0.0, 0.0, 0.0, 0.0, 0.0, 0.0, 0.0, 0.0, 0.0, 0.0, 0.0, 0.0, 0.0, 0.0, 0.0, 0.0, 0.0, 0.0, 0.0, 0.0, ...]]                                                                                                                                                                                                                                                                                                                                                                                                                                                                                                                                                                                                                                                                                                                                                                                                                                                                                                                                                                                                                                                                                                                                                                                                                                                                                                                                                                                                    "
      ]
     },
     "execution_count": 106,
     "metadata": {},
     "output_type": "execute_result"
    }
   ],
   "source": [
    "statistics_shift_df = pd.json_normalize(statistics_shift.body_dict[\"features\"])\n",
    "statistics_shift_df"
   ]
  },
  {
   "cell_type": "markdown",
   "metadata": {},
   "source": [
    "### Other Commands\n",
    "We can also start and stop the monitoring schedules."
   ]
  },
  {
   "cell_type": "code",
   "execution_count": null,
   "metadata": {},
   "outputs": [],
   "source": [
    "# my_default_monitor.stop_monitoring_schedule()\n",
    "# my_default_monitor.start_monitoring_schedule()"
   ]
  },
  {
   "cell_type": "markdown",
   "metadata": {},
   "source": [
    "## Delete the Resources\n",
    "\n",
    "You can keep your endpoint running to continue capturing data. If you do not plan to collect more data or use this endpoint further, you should delete the endpoint to avoid incurring additional charges. Note that deleting your endpoint does not delete the data that was captured during the model invocations. That data persists in Amazon S3 until you delete it yourself.\n",
    "\n",
    "But before that, you need to delete the schedule first."
   ]
  },
  {
   "cell_type": "code",
   "execution_count": null,
   "metadata": {},
   "outputs": [],
   "source": [
    "# my_default_monitor.delete_monitoring_schedule()\n",
    "# time.sleep(60) # actually wait for the deletion"
   ]
  },
  {
   "cell_type": "code",
   "execution_count": null,
   "metadata": {},
   "outputs": [],
   "source": [
    "# predictor.delete_endpoint()"
   ]
  },
  {
   "cell_type": "code",
   "execution_count": null,
   "metadata": {},
   "outputs": [],
   "source": [
    "# predictor.delete_model()"
   ]
  },
  {
   "cell_type": "code",
   "execution_count": null,
   "metadata": {},
   "outputs": [],
   "source": []
  },
  {
   "cell_type": "code",
   "execution_count": null,
   "metadata": {},
   "outputs": [],
   "source": []
  },
  {
   "cell_type": "code",
   "execution_count": null,
   "metadata": {},
   "outputs": [],
   "source": []
  }
 ],
 "metadata": {
  "kernelspec": {
   "display_name": "conda_python3",
   "language": "python",
   "name": "conda_python3"
  },
  "language_info": {
   "codemirror_mode": {
    "name": "ipython",
    "version": 3
   },
   "file_extension": ".py",
   "mimetype": "text/x-python",
   "name": "python",
   "nbconvert_exporter": "python",
   "pygments_lexer": "ipython3",
   "version": "3.6.10"
  }
 },
 "nbformat": 4,
 "nbformat_minor": 4
}
