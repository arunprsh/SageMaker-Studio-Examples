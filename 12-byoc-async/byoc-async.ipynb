{
 "cells": [
  {
   "cell_type": "markdown",
   "metadata": {},
   "source": [
    "## Train a Scikit-Learn Model using SageMaker Container Mode\n",
    "#### Bring Your Own Container (BYOC)"
   ]
  },
  {
   "cell_type": "markdown",
   "metadata": {},
   "source": [
    "### 1. Create Train Script "
   ]
  },
  {
   "cell_type": "code",
   "execution_count": 1,
   "metadata": {},
   "outputs": [
    {
     "name": "stdout",
     "output_type": "stream",
     "text": [
      "Overwriting train\n"
     ]
    }
   ],
   "source": [
    "%%file train\n",
    "#!/usr/bin/env python\n",
    "\n",
    "from sklearn.neighbors import KNeighborsClassifier\n",
    "import pandas as pd\n",
    "import numpy as np\n",
    "import pickle\n",
    "import os\n",
    "\n",
    "\n",
    "np.random.seed(123)\n",
    "\n",
    "# Define paths for Model Training inside Container.\n",
    "INPUT_PATH = '/opt/ml/input/data'\n",
    "OUTPUT_PATH = '/opt/ml/output'\n",
    "MODEL_PATH = '/opt/ml/model'\n",
    "PARAM_PATH = '/opt/ml/input/config/hyperparameters.json'\n",
    "\n",
    "# Training data sitting in S3 will be copied to this location during training when used with File MODE.\n",
    "TRAIN_DATA_PATH = f'{INPUT_PATH}/train'\n",
    "TEST_DATA_PATH = f'{INPUT_PATH}/test'\n",
    "\n",
    "def train():\n",
    "    print(\"------- [STARTING TRAINING] -------\")\n",
    "    train_df = pd.read_csv(os.path.join(TRAIN_DATA_PATH, 'train.csv'), names=['class', 'bmi', 'diastolic_bp_change', 'systolic_bp_change', 'respiratory_rate'])\n",
    "    train_df.head()\n",
    "    X_train = train_df[['bmi', 'diastolic_bp_change', 'systolic_bp_change', 'respiratory_rate']]\n",
    "    y_train = train_df['class']\n",
    "    knn = KNeighborsClassifier()\n",
    "    knn.fit(X_train, y_train)\n",
    "    # Save the trained Model inside the Container\n",
    "    with open(os.path.join(MODEL_PATH, 'model.pkl'), 'wb') as out:\n",
    "        pickle.dump(knn, out)\n",
    "    print(\"------- [TRAINING COMPLETE!] -------\")\n",
    "    \n",
    "    print(\"------- [STARTING EVALUATION] -------\")\n",
    "    test_df = pd.read_csv(os.path.join(TEST_DATA_PATH, 'test.csv'), names=['class', 'bmi', 'diastolic_bp_change', 'systolic_bp_change', 'respiratory_rate'])\n",
    "    X_test = train_df[['bmi', 'diastolic_bp_change', 'systolic_bp_change', 'respiratory_rate']]\n",
    "    y_test = train_df['class']\n",
    "    acc = knn.score(X_test, y_test)\n",
    "    print('Accuracy = {:.2f}%'.format(acc * 100))\n",
    "    print(\"------- [EVALUATION DONE!] -------\")\n",
    "\n",
    "if __name__ == '__main__':\n",
    "    train()"
   ]
  },
  {
   "cell_type": "markdown",
   "metadata": {},
   "source": [
    "### 2. Create Serve Script"
   ]
  },
  {
   "cell_type": "code",
   "execution_count": 2,
   "metadata": {},
   "outputs": [
    {
     "name": "stdout",
     "output_type": "stream",
     "text": [
      "Overwriting serve\n"
     ]
    }
   ],
   "source": [
    "%%file serve\n",
    "#!/usr/bin/env python\n",
    "\n",
    "from flask import Flask, Response, request\n",
    "from io import StringIO\n",
    "import pandas as pd\n",
    "import logging\n",
    "import pickle\n",
    "import os\n",
    "\n",
    "\n",
    "app = Flask(__name__)\n",
    "\n",
    "MODEL_PATH = '/opt/ml/model'\n",
    "\n",
    "# Singleton Class for holding the Model\n",
    "class Predictor:\n",
    "    model = None\n",
    "    \n",
    "    @classmethod\n",
    "    def load_model(cls):\n",
    "        print('[LOADING MODEL]')\n",
    "        if cls.model is None:\n",
    "            with open(os.path.join(MODEL_PATH, 'model.pkl'), 'rb') as file_:\n",
    "                cls.model = pickle.load(file_)\n",
    "        print('MODEL LOADED!')\n",
    "        return cls.model\n",
    "    \n",
    "    @classmethod\n",
    "    def predict(cls, X):\n",
    "        clf = cls.load_model()\n",
    "        return clf.predict(X)\n",
    "\n",
    "@app.route('/ping', methods=['GET'])\n",
    "def ping():\n",
    "    print('[HEALTH CHECK]')\n",
    "    model = Predictor.load_model()\n",
    "    status = 200\n",
    "    if model is None:\n",
    "        status = 404\n",
    "    return Response(response={\"HEALTH CHECK\": \"OK\"}, status=status, mimetype='application/json')\n",
    "\n",
    "@app.route('/invocations', methods=['POST'])\n",
    "def invoke():\n",
    "    data = None\n",
    "\n",
    "    # Transform Payload in CSV to Pandas DataFrame.\n",
    "    if request.content_type == 'text/csv':\n",
    "        data = request.data.decode('utf-8')\n",
    "        data = StringIO(data)\n",
    "        data = pd.read_csv(data, header=None)\n",
    "    else:\n",
    "        return flask.Response(response='This Predictor only supports CSV data', status=415, mimetype='text/plain')\n",
    "\n",
    "    logging.info('Invoked with {} records'.format(data.shape[0]))\n",
    "    \n",
    "    predictions = Predictor.predict(data)\n",
    "\n",
    "    # Convert from numpy back to CSV\n",
    "    out = StringIO()\n",
    "    pd.DataFrame({'results': predictions}).to_csv(out, header=False, index=False)\n",
    "    result = out.getvalue()\n",
    "\n",
    "    return Response(response=result, status=200, mimetype='text/csv')\n",
    "\n",
    "if __name__ == '__main__':\n",
    "    app.run(host='0.0.0.0', port=8080)"
   ]
  },
  {
   "cell_type": "markdown",
   "metadata": {},
   "source": [
    "### 3. Build a Docker Image and Push to ECR"
   ]
  },
  {
   "cell_type": "markdown",
   "metadata": {},
   "source": [
    "<p>Build the docker image and push to ECR and have the image URI handy for the next steps.</p>"
   ]
  },
  {
   "cell_type": "code",
   "execution_count": 3,
   "metadata": {},
   "outputs": [
    {
     "name": "stdout",
     "output_type": "stream",
     "text": [
      "Sending build context to Docker daemon  41.47kB\n",
      "Step 1/8 : FROM python:3.7\n",
      "3.7: Pulling from library/python\n",
      "\n",
      "\u001b[1B565cc8df: Pulling fs layer \n",
      "\u001b[1Bd13e55e7: Pulling fs layer \n",
      "\u001b[1B7528c685: Pulling fs layer \n",
      "\u001b[1B072f9cd1: Pulling fs layer \n",
      "\u001b[1B83117533: Pulling fs layer \n",
      "\u001b[1B2d56ded5: Pulling fs layer \n",
      "\u001b[1Bf01be008: Pulling fs layer \n",
      "\u001b[1Bfb36b5a8: Pulling fs layer \n",
      "\u001b[1BDigest: sha256:8b743b1af852e554b98e2377f9c92221693225b85d984b23be6b033018f97cc3[6A\u001b[2K\u001b[5A\u001b[2K\u001b[6A\u001b[2K\u001b[5A\u001b[2K\u001b[6A\u001b[2K\u001b[5A\u001b[2K\u001b[4A\u001b[2K\u001b[5A\u001b[2K\u001b[9A\u001b[2K\u001b[1A\u001b[2K\u001b[5A\u001b[2K\u001b[5A\u001b[2K\u001b[5A\u001b[2K\u001b[5A\u001b[2K\u001b[5A\u001b[2K\u001b[5A\u001b[2K\u001b[5A\u001b[2K\u001b[5A\u001b[2K\u001b[5A\u001b[2K\u001b[9A\u001b[2K\u001b[5A\u001b[2K\u001b[9A\u001b[2K\u001b[5A\u001b[2K\u001b[9A\u001b[2K\u001b[5A\u001b[2K\u001b[9A\u001b[2K\u001b[5A\u001b[2K\u001b[9A\u001b[2K\u001b[8A\u001b[2K\u001b[8A\u001b[2K\u001b[7A\u001b[2K\u001b[7A\u001b[2K\u001b[7A\u001b[2K\u001b[6A\u001b[2K\u001b[6A\u001b[2K\u001b[6A\u001b[2K\u001b[6A\u001b[2K\u001b[6A\u001b[2K\u001b[6A\u001b[2K\u001b[6A\u001b[2K\u001b[6A\u001b[2K\u001b[6A\u001b[2K\u001b[6A\u001b[2K\u001b[6A\u001b[2K\u001b[6A\u001b[2K\u001b[6A\u001b[2K\u001b[6A\u001b[2K\u001b[6A\u001b[2K\u001b[6A\u001b[2K\u001b[6A\u001b[2K\u001b[5A\u001b[2K\u001b[5A\u001b[2K\u001b[5A\u001b[2K\u001b[5A\u001b[2K\u001b[5A\u001b[2K\u001b[5A\u001b[2K\u001b[5A\u001b[2K\u001b[5A\u001b[2K\u001b[5A\u001b[2K\u001b[5A\u001b[2K\u001b[5A\u001b[2K\u001b[5A\u001b[2K\u001b[5A\u001b[2K\u001b[5A\u001b[2K\u001b[5A\u001b[2K\u001b[5A\u001b[2K\u001b[5A\u001b[2K\u001b[5A\u001b[2K\u001b[5A\u001b[2K\u001b[5A\u001b[2K\u001b[5A\u001b[2K\u001b[5A\u001b[2K\u001b[5A\u001b[2K\u001b[5A\u001b[2K\u001b[5A\u001b[2K\u001b[5A\u001b[2K\u001b[5A\u001b[2K\u001b[5A\u001b[2K\u001b[5A\u001b[2K\u001b[5A\u001b[2K\u001b[5A\u001b[2K\u001b[5A\u001b[2K\u001b[5A\u001b[2K\u001b[5A\u001b[2K\u001b[5A\u001b[2K\u001b[5A\u001b[2K\u001b[5A\u001b[2K\u001b[5A\u001b[2K\u001b[5A\u001b[2K\u001b[5A\u001b[2K\u001b[5A\u001b[2K\u001b[5A\u001b[2K\u001b[5A\u001b[2K\u001b[5A\u001b[2K\u001b[5A\u001b[2K\u001b[5A\u001b[2K\u001b[5A\u001b[2K\u001b[5A\u001b[2K\u001b[4A\u001b[2K\u001b[4A\u001b[2K\u001b[4A\u001b[2K\u001b[3A\u001b[2K\u001b[3A\u001b[2K\u001b[3A\u001b[2K\u001b[3A\u001b[2K\u001b[3A\u001b[2K\u001b[3A\u001b[2K\u001b[2A\u001b[2K\u001b[2A\u001b[2K\u001b[1A\u001b[2K\u001b[1A\u001b[2K\u001b[1A\u001b[2K\n",
      "Status: Downloaded newer image for python:3.7\n",
      " ---> f97db05f776a\n",
      "Step 2/8 : COPY requirements.txt ./\n",
      " ---> b9c805c17af7\n",
      "Step 3/8 : RUN pip install --no-cache-dir -r requirements.txt\n",
      " ---> Running in 9211409e654f\n",
      "Collecting scikit-learn\n",
      "  Downloading scikit_learn-1.0.2-cp37-cp37m-manylinux_2_17_x86_64.manylinux2014_x86_64.whl (24.8 MB)\n",
      "     ━━━━━━━━━━━━━━━━━━━━━━━━━━━━━━━━━━━━━━━ 24.8/24.8 MB 204.5 MB/s eta 0:00:00\n",
      "Collecting pandas\n",
      "  Downloading pandas-1.3.5-cp37-cp37m-manylinux_2_17_x86_64.manylinux2014_x86_64.whl (11.3 MB)\n",
      "     ━━━━━━━━━━━━━━━━━━━━━━━━━━━━━━━━━━━━━━━ 11.3/11.3 MB 186.9 MB/s eta 0:00:00\n",
      "Collecting flask\n",
      "  Downloading Flask-2.2.2-py3-none-any.whl (101 kB)\n",
      "     ━━━━━━━━━━━━━━━━━━━━━━━━━━━━━━━━━━━━━ 101.5/101.5 KB 234.7 MB/s eta 0:00:00\n",
      "Collecting scipy>=1.1.0\n",
      "  Downloading scipy-1.7.3-cp37-cp37m-manylinux_2_12_x86_64.manylinux2010_x86_64.whl (38.1 MB)\n",
      "     ━━━━━━━━━━━━━━━━━━━━━━━━━━━━━━━━━━━━━━━ 38.1/38.1 MB 204.0 MB/s eta 0:00:00\n",
      "Collecting numpy>=1.14.6\n",
      "  Downloading numpy-1.21.6-cp37-cp37m-manylinux_2_12_x86_64.manylinux2010_x86_64.whl (15.7 MB)\n",
      "     ━━━━━━━━━━━━━━━━━━━━━━━━━━━━━━━━━━━━━━━ 15.7/15.7 MB 152.0 MB/s eta 0:00:00\n",
      "Collecting threadpoolctl>=2.0.0\n",
      "  Downloading threadpoolctl-3.1.0-py3-none-any.whl (14 kB)\n",
      "Collecting joblib>=0.11\n",
      "  Downloading joblib-1.1.0-py2.py3-none-any.whl (306 kB)\n",
      "     ━━━━━━━━━━━━━━━━━━━━━━━━━━━━━━━━━━━━━ 307.0/307.0 KB 265.1 MB/s eta 0:00:00\n",
      "Collecting pytz>=2017.3\n",
      "  Downloading pytz-2022.2.1-py2.py3-none-any.whl (500 kB)\n",
      "     ━━━━━━━━━━━━━━━━━━━━━━━━━━━━━━━━━━━━━ 500.6/500.6 KB 206.7 MB/s eta 0:00:00\n",
      "Collecting python-dateutil>=2.7.3\n",
      "  Downloading python_dateutil-2.8.2-py2.py3-none-any.whl (247 kB)\n",
      "     ━━━━━━━━━━━━━━━━━━━━━━━━━━━━━━━━━━━━━ 247.7/247.7 KB 230.4 MB/s eta 0:00:00\n",
      "Collecting importlib-metadata>=3.6.0\n",
      "  Downloading importlib_metadata-4.12.0-py3-none-any.whl (21 kB)\n",
      "Collecting itsdangerous>=2.0\n",
      "  Downloading itsdangerous-2.1.2-py3-none-any.whl (15 kB)\n",
      "Collecting Jinja2>=3.0\n",
      "  Downloading Jinja2-3.1.2-py3-none-any.whl (133 kB)\n",
      "     ━━━━━━━━━━━━━━━━━━━━━━━━━━━━━━━━━━━━━ 133.1/133.1 KB 225.6 MB/s eta 0:00:00\n",
      "Collecting click>=8.0\n",
      "  Downloading click-8.1.3-py3-none-any.whl (96 kB)\n",
      "     ━━━━━━━━━━━━━━━━━━━━━━━━━━━━━━━━━━━━━━━ 96.6/96.6 KB 216.6 MB/s eta 0:00:00\n",
      "Collecting Werkzeug>=2.2.2\n",
      "  Downloading Werkzeug-2.2.2-py3-none-any.whl (232 kB)\n",
      "     ━━━━━━━━━━━━━━━━━━━━━━━━━━━━━━━━━━━━━ 232.7/232.7 KB 247.3 MB/s eta 0:00:00\n",
      "Collecting zipp>=0.5\n",
      "  Downloading zipp-3.8.1-py3-none-any.whl (5.6 kB)\n",
      "Collecting typing-extensions>=3.6.4\n",
      "  Downloading typing_extensions-4.3.0-py3-none-any.whl (25 kB)\n",
      "Collecting MarkupSafe>=2.0\n",
      "  Downloading MarkupSafe-2.1.1-cp37-cp37m-manylinux_2_17_x86_64.manylinux2014_x86_64.whl (25 kB)\n",
      "Collecting six>=1.5\n",
      "  Downloading six-1.16.0-py2.py3-none-any.whl (11 kB)\n",
      "Installing collected packages: pytz, zipp, typing-extensions, threadpoolctl, six, numpy, MarkupSafe, joblib, itsdangerous, Werkzeug, scipy, python-dateutil, Jinja2, importlib-metadata, scikit-learn, pandas, click, flask\n",
      "Successfully installed Jinja2-3.1.2 MarkupSafe-2.1.1 Werkzeug-2.2.2 click-8.1.3 flask-2.2.2 importlib-metadata-4.12.0 itsdangerous-2.1.2 joblib-1.1.0 numpy-1.21.6 pandas-1.3.5 python-dateutil-2.8.2 pytz-2022.2.1 scikit-learn-1.0.2 scipy-1.7.3 six-1.16.0 threadpoolctl-3.1.0 typing-extensions-4.3.0 zipp-3.8.1\n",
      "\u001b[91mWARNING: Running pip as the 'root' user can result in broken permissions and conflicting behaviour with the system package manager. It is recommended to use a virtual environment instead: https://pip.pypa.io/warnings/venv\n",
      "\u001b[0m\u001b[91mWARNING: You are using pip version 22.0.4; however, version 22.2.2 is available.\n",
      "You should consider upgrading via the '/usr/local/bin/python -m pip install --upgrade pip' command.\n",
      "\u001b[0mRemoving intermediate container 9211409e654f\n",
      " ---> 3d12a2c54956\n",
      "Step 4/8 : COPY train /usr/local/bin\n",
      " ---> e0715a2b5e4e\n",
      "Step 5/8 : RUN chmod +x /usr/local/bin/train\n",
      " ---> Running in 7dc0b5143f5b\n",
      "Removing intermediate container 7dc0b5143f5b\n",
      " ---> 775b1b163782\n",
      "Step 6/8 : COPY serve /usr/local/bin\n",
      " ---> 4f2862c6bcbb\n",
      "Step 7/8 : RUN chmod +x /usr/local/bin/serve\n",
      " ---> Running in ec09640c1dae\n",
      "Removing intermediate container ec09640c1dae\n",
      " ---> c283f9c220ce\n",
      "Step 8/8 : EXPOSE 8080\n",
      " ---> Running in 34b015cd282e\n",
      "Removing intermediate container 34b015cd282e\n",
      " ---> e5f3a9e3cf1c\n",
      "Successfully built e5f3a9e3cf1c\n",
      "Successfully tagged sagemaker-byoc-sklearn:latest\n"
     ]
    }
   ],
   "source": [
    "!docker build -t sagemaker-byoc-sklearn -f Dockerfile ."
   ]
  },
  {
   "cell_type": "code",
   "execution_count": 4,
   "metadata": {},
   "outputs": [
    {
     "name": "stdout",
     "output_type": "stream",
     "text": [
      "Container Name:  sagemaker-byoc-sklearn\n",
      "Account:  119174016168\n",
      "Region: us-east-1\n",
      "ECR Repository:  119174016168.dkr.ecr.us-east-1.amazonaws.com\n",
      "ECR Image URI:  119174016168.dkr.ecr.us-east-1.amazonaws.com/sagemaker-byoc-sklearn:latest\n",
      "Login Succeeded\n",
      "The push refers to repository [119174016168.dkr.ecr.us-east-1.amazonaws.com/sagemaker-byoc-sklearn]\n",
      "575b202a40db: Preparing\n",
      "ee795eea6e0c: Preparing\n",
      "9b7e8570903d: Preparing\n",
      "19290b8c0c93: Preparing\n",
      "de4fe2acc881: Preparing\n",
      "565fe7d7f6e2: Preparing\n",
      "bd2aedacc58f: Preparing\n",
      "0d858d352b03: Preparing\n",
      "76bc459f764a: Preparing\n",
      "100796cdf3b1: Preparing\n",
      "54acb5a6fa0b: Preparing\n",
      "8d51c618126f: Preparing\n",
      "9ff6e4d46744: Preparing\n",
      "a89d1d47b5a1: Preparing\n",
      "655ed1b7a428: Preparing\n",
      "bd2aedacc58f: Waiting\n",
      "54acb5a6fa0b: Waiting\n",
      "565fe7d7f6e2: Waiting\n",
      "8d51c618126f: Waiting\n",
      "655ed1b7a428: Waiting\n",
      "9ff6e4d46744: Waiting\n",
      "76bc459f764a: Waiting\n",
      "a89d1d47b5a1: Waiting\n",
      "100796cdf3b1: Waiting\n",
      "0d858d352b03: Waiting\n",
      "575b202a40db: Pushed\n",
      "9b7e8570903d: Pushed\n",
      "ee795eea6e0c: Pushed\n",
      "19290b8c0c93: Pushed\n",
      "565fe7d7f6e2: Pushed\n",
      "0d858d352b03: Pushed\n",
      "bd2aedacc58f: Pushed\n",
      "100796cdf3b1: Pushed\n",
      "76bc459f764a: Pushed\n",
      "9ff6e4d46744: Pushed\n",
      "a89d1d47b5a1: Pushed\n",
      "8d51c618126f: Pushed\n",
      "655ed1b7a428: Pushed\n",
      "de4fe2acc881: Pushed\n",
      "54acb5a6fa0b: Pushed\n",
      "latest: digest: sha256:8f57830837b381684f664c661c8532968df02cfc6e2cf169a715b993170d1e5f size: 3469\n"
     ]
    },
    {
     "name": "stderr",
     "output_type": "stream",
     "text": [
      "WARNING! Your password will be stored unencrypted in /home/ec2-user/.docker/config.json.\n",
      "Configure a credential helper to remove this warning. See\n",
      "https://docs.docker.com/engine/reference/commandline/login/#credentials-store\n",
      "\n"
     ]
    }
   ],
   "source": [
    "%%sh\n",
    "\n",
    "# Specify a name to your custom container\n",
    "container_name=sagemaker-byoc-sklearn\n",
    "echo \"Container Name: \" ${container_name}\n",
    "\n",
    "# Retreive AWS account ID\n",
    "account=$(aws sts get-caller-identity --query Account --output text)\n",
    "\n",
    "# Get the AWS region defined in the current configuration (default to us-east-1 if none defined)\n",
    "region=$(aws configure get region)\n",
    "region=${region:-us-east-1}\n",
    "\n",
    "echo \"Account: \" ${account}\n",
    "echo \"Region: \"${region}\n",
    "\n",
    "repository=\"${account}.dkr.ecr.${region}.amazonaws.com\"\n",
    "echo \"ECR Repository: \" ${repository}\n",
    "\n",
    "image=\"${account}.dkr.ecr.${region}.amazonaws.com/${container_name}:latest\"\n",
    "echo \"ECR Image URI: \" ${image}\n",
    "\n",
    "# If the ECR repository does not exist, create it.\n",
    "aws ecr describe-repositories --repository-names ${container_name} > /dev/null 2>&1\n",
    "if [ $? -ne 0 ]\n",
    "then\n",
    "aws ecr create-repository --repository-name ${container_name} > /dev/null\n",
    "fi\n",
    "\n",
    "# Get the login command from ECR and execute it directly\n",
    "aws ecr get-login-password --region ${region} | docker login --username AWS --password-stdin ${repository}\n",
    "\n",
    "# Tag the local image with ECR image name\n",
    "docker tag ${container_name} ${image}\n",
    "\n",
    "# Finally, push the local docker image to ECR with the full ECR image name\n",
    "docker push ${image}"
   ]
  },
  {
   "cell_type": "markdown",
   "metadata": {},
   "source": [
    "### 4. Train your Custom Sklearn Model using SageMaker Training"
   ]
  },
  {
   "cell_type": "markdown",
   "metadata": {},
   "source": [
    "### Imports "
   ]
  },
  {
   "cell_type": "code",
   "execution_count": 5,
   "metadata": {},
   "outputs": [],
   "source": [
    "from sagemaker.serializers import CSVSerializer\n",
    "import pandas as pd\n",
    "import sagemaker"
   ]
  },
  {
   "cell_type": "markdown",
   "metadata": {},
   "source": [
    "### Essentials"
   ]
  },
  {
   "cell_type": "code",
   "execution_count": 15,
   "metadata": {},
   "outputs": [],
   "source": [
    "role = sagemaker.get_execution_role()\n",
    "session = sagemaker.Session()\n",
    "account = session.boto_session.client('sts').get_caller_identity()['Account']\n",
    "region = session.boto_session.region_name\n",
    "image_name = 'sagemaker-byoc-sklearn'\n",
    "image_uri = f'{account}.dkr.ecr.{region}.amazonaws.com/{image_name}:latest'"
   ]
  },
  {
   "cell_type": "code",
   "execution_count": 16,
   "metadata": {},
   "outputs": [
    {
     "data": {
      "text/plain": [
       "'119174016168.dkr.ecr.us-east-1.amazonaws.com/sagemaker-byoc-sklearn:latest'"
      ]
     },
     "execution_count": 16,
     "metadata": {},
     "output_type": "execute_result"
    }
   ],
   "source": [
    "image_uri"
   ]
  },
  {
   "cell_type": "markdown",
   "metadata": {},
   "source": [
    "### Train (using SageMaker)"
   ]
  },
  {
   "cell_type": "code",
   "execution_count": 17,
   "metadata": {},
   "outputs": [],
   "source": [
    "WORK_DIRECTORY = '.././DATA'\n",
    "\n",
    "train_data_s3_pointer = session.upload_data(f'{WORK_DIRECTORY}/train', key_prefix='byoc-sklearn/train')\n",
    "test_data_s3_pointer = session.upload_data(f'{WORK_DIRECTORY}/test', key_prefix='byoc-sklearn/test')"
   ]
  },
  {
   "cell_type": "code",
   "execution_count": 18,
   "metadata": {},
   "outputs": [
    {
     "data": {
      "text/plain": [
       "'s3://sagemaker-us-east-1-119174016168/byoc-sklearn/train'"
      ]
     },
     "execution_count": 18,
     "metadata": {},
     "output_type": "execute_result"
    }
   ],
   "source": [
    "train_data_s3_pointer"
   ]
  },
  {
   "cell_type": "code",
   "execution_count": 19,
   "metadata": {},
   "outputs": [
    {
     "data": {
      "text/plain": [
       "'s3://sagemaker-us-east-1-119174016168/byoc-sklearn/test'"
      ]
     },
     "execution_count": 19,
     "metadata": {},
     "output_type": "execute_result"
    }
   ],
   "source": [
    "test_data_s3_pointer"
   ]
  },
  {
   "cell_type": "code",
   "execution_count": 20,
   "metadata": {},
   "outputs": [],
   "source": [
    "model = sagemaker.estimator.Estimator(\n",
    "    image_uri=image_uri,\n",
    "    role=role,\n",
    "    instance_count=1,\n",
    "    instance_type='ml.m5.xlarge',\n",
    "    sagemaker_session=session  # ensure the session is set to session\n",
    ")"
   ]
  },
  {
   "cell_type": "code",
   "execution_count": 21,
   "metadata": {},
   "outputs": [
    {
     "name": "stdout",
     "output_type": "stream",
     "text": [
      "2022-08-24 15:03:56 Starting - Starting the training job...\n",
      "2022-08-24 15:04:19 Starting - Preparing the instances for trainingProfilerReport-1661353436: InProgress\n",
      "......\n",
      "2022-08-24 15:05:20 Downloading - Downloading input data...\n",
      "2022-08-24 15:05:43 Training - Downloading the training image...\n",
      "2022-08-24 15:06:25 Uploading - Uploading generated training model\n",
      "2022-08-24 15:06:25 Completed - Training job completed\n",
      "\u001b[34m------- [STARTING TRAINING] -------\u001b[0m\n",
      "\u001b[34m------- [TRAINING COMPLETE!] -------\u001b[0m\n",
      "\u001b[34m------- [STARTING EVALUATION] -------\u001b[0m\n",
      "\u001b[34mAccuracy = 82.42%\u001b[0m\n",
      "\u001b[34m------- [EVALUATION DONE!] -------\u001b[0m\n",
      "Training seconds: 67\n",
      "Billable seconds: 67\n"
     ]
    }
   ],
   "source": [
    "model.fit({'train': train_data_s3_pointer, 'test': test_data_s3_pointer})"
   ]
  },
  {
   "cell_type": "code",
   "execution_count": 25,
   "metadata": {},
   "outputs": [
    {
     "data": {
      "text/plain": [
       "'sagemaker-byoc-sklearn-2022-08-24-15-03-56-118'"
      ]
     },
     "execution_count": 25,
     "metadata": {},
     "output_type": "execute_result"
    }
   ],
   "source": [
    "model._current_job_name"
   ]
  },
  {
   "cell_type": "markdown",
   "metadata": {},
   "source": [
    "### Create Endpoint Config"
   ]
  },
  {
   "cell_type": "code",
   "execution_count": 52,
   "metadata": {},
   "outputs": [],
   "source": [
    "import datetime\n",
    "from time import gmtime, strftime"
   ]
  },
  {
   "cell_type": "code",
   "execution_count": 53,
   "metadata": {},
   "outputs": [],
   "source": [
    "#TRAINING_JOB_NAME = 'classifier-2020-12-07-19-55-02-397' # Copy this from the AWS SageMaker console\n",
    "TRAINING_JOB_NAME = model._current_job_name"
   ]
  },
  {
   "cell_type": "code",
   "execution_count": 54,
   "metadata": {},
   "outputs": [],
   "source": [
    "sagemaker_session = sagemaker.session.Session()"
   ]
  },
  {
   "cell_type": "code",
   "execution_count": 55,
   "metadata": {},
   "outputs": [],
   "source": [
    "current_timestamp = strftime(\"%Y-%m-%d-%H-%M-%S\", gmtime())\n",
    "MODEL_NAME = f'clf-xgboost-model-{current_timestamp}'"
   ]
  },
  {
   "cell_type": "code",
   "execution_count": 56,
   "metadata": {},
   "outputs": [],
   "source": [
    "model_name = sagemaker_session.create_model_from_job(training_job_name=TRAINING_JOB_NAME, \n",
    "                                        name=MODEL_NAME)"
   ]
  },
  {
   "cell_type": "code",
   "execution_count": 57,
   "metadata": {},
   "outputs": [],
   "source": [
    "s3_bucket = sagemaker_session.default_bucket()\n",
    "bucket_prefix = 'async_test'"
   ]
  },
  {
   "cell_type": "code",
   "execution_count": 65,
   "metadata": {},
   "outputs": [
    {
     "data": {
      "text/plain": [
       "'sagemaker-us-east-1-119174016168'"
      ]
     },
     "execution_count": 65,
     "metadata": {},
     "output_type": "execute_result"
    }
   ],
   "source": [
    "s3_bucket"
   ]
  },
  {
   "cell_type": "code",
   "execution_count": 58,
   "metadata": {},
   "outputs": [],
   "source": [
    "import boto3\n",
    "# Create a low-level SageMaker service client.\n",
    "sagemaker_client = boto3.client('sagemaker', region_name='us-east-1')"
   ]
  },
  {
   "cell_type": "code",
   "execution_count": 62,
   "metadata": {},
   "outputs": [
    {
     "name": "stdout",
     "output_type": "stream",
     "text": [
      "async-ep-2022-08-24-15-48-50\n"
     ]
    }
   ],
   "source": [
    "# Create an endpoint config name. Here we create one based on the date  \n",
    "# so it we can search endpoints based on creation time.\n",
    "endpoint_config_name = f\"async-ep-{strftime('%Y-%m-%d-%H-%M-%S', gmtime())}\"\n",
    "print(endpoint_config_name)\n",
    "\n",
    "\n",
    "create_endpoint_config_response = sagemaker_client.create_endpoint_config(\n",
    "    EndpointConfigName=endpoint_config_name, # You will specify this name in a CreateEndpoint request.\n",
    "    # List of ProductionVariant objects, one for each model that you want to host at this endpoint.\n",
    "    ProductionVariants=[\n",
    "        {\n",
    "            \"VariantName\": \"variant1\", # The name of the production variant.\n",
    "            \"ModelName\": model_name, \n",
    "            \"InstanceType\": \"ml.m5.xlarge\", # Specify the compute instance type.\n",
    "            \"InitialInstanceCount\": 1 # Number of instances to launch initially.\n",
    "        }\n",
    "    ],\n",
    "    AsyncInferenceConfig={\n",
    "        \"OutputConfig\": {\n",
    "            # Location to upload response outputs when no location is provided in the request.\n",
    "            \"S3OutputPath\": f\"s3://{s3_bucket}/{bucket_prefix}/output\",\n",
    "            # (Optional) specify Amazon SNS topics\n",
    "            \"NotificationConfig\": {\n",
    "                \"SuccessTopic\": \"arn:aws:sns:us-east-1:119174016168:success-topic\",\n",
    "                \"ErrorTopic\": \"arn:aws:sns:us-east-1:119174016168:error-topic\",\n",
    "            }\n",
    "        },\n",
    "        \"ClientConfig\": {\n",
    "            # (Optional) Specify the max number of inflight invocations per instance\n",
    "            # If no value is provided, Amazon SageMaker will choose an optimal value for you\n",
    "            \"MaxConcurrentInvocationsPerInstance\": 4\n",
    "        }\n",
    "    }\n",
    ")\n",
    "\n",
    "#print(f\"Created EndpointConfig: {create_endpoint_config_response['EndpointConfigArn']}\")"
   ]
  },
  {
   "cell_type": "code",
   "execution_count": null,
   "metadata": {},
   "outputs": [],
   "source": []
  },
  {
   "cell_type": "markdown",
   "metadata": {},
   "source": [
    "### Create Async Endpoint"
   ]
  },
  {
   "cell_type": "code",
   "execution_count": 63,
   "metadata": {},
   "outputs": [],
   "source": [
    "# The name of the endpoint.The name must be unique within an AWS Region in your AWS account.\n",
    "endpoint_name = f\"async-ep-{strftime('%Y-%m-%d-%H-%M-%S', gmtime())}\" \n",
    "\n",
    "create_endpoint_response = sagemaker_client.create_endpoint(\n",
    "                                            EndpointName=endpoint_name, \n",
    "                                            EndpointConfigName=endpoint_config_name) "
   ]
  },
  {
   "cell_type": "code",
   "execution_count": 64,
   "metadata": {},
   "outputs": [
    {
     "data": {
      "text/plain": [
       "'async-ep-2022-08-24-15-49-04'"
      ]
     },
     "execution_count": 64,
     "metadata": {},
     "output_type": "execute_result"
    }
   ],
   "source": [
    "endpoint_name"
   ]
  },
  {
   "cell_type": "code",
   "execution_count": null,
   "metadata": {},
   "outputs": [],
   "source": []
  },
  {
   "cell_type": "code",
   "execution_count": null,
   "metadata": {},
   "outputs": [],
   "source": []
  },
  {
   "cell_type": "markdown",
   "metadata": {},
   "source": [
    "### Invoke Async Endpoint"
   ]
  },
  {
   "cell_type": "code",
   "execution_count": 66,
   "metadata": {},
   "outputs": [
    {
     "data": {
      "text/plain": [
       "{'ResponseMetadata': {'RequestId': '38ab7a22-4aa1-4d70-86a3-135990257ba9',\n",
       "  'HTTPStatusCode': 202,\n",
       "  'HTTPHeaders': {'x-amzn-requestid': '38ab7a22-4aa1-4d70-86a3-135990257ba9',\n",
       "   'x-amzn-sagemaker-outputlocation': 's3://sagemaker-us-east-1-119174016168/async_test/output/07294395-3950-46e8-be75-443d4248133c.out',\n",
       "   'date': 'Wed, 24 Aug 2022 15:56:32 GMT',\n",
       "   'content-type': 'application/json',\n",
       "   'content-length': '54'},\n",
       "  'RetryAttempts': 0},\n",
       " 'OutputLocation': 's3://sagemaker-us-east-1-119174016168/async_test/output/07294395-3950-46e8-be75-443d4248133c.out',\n",
       " 'InferenceId': 'de69aef3-45b9-42d5-b5b2-43129b60e3a4'}"
      ]
     },
     "execution_count": 66,
     "metadata": {},
     "output_type": "execute_result"
    }
   ],
   "source": [
    "# Create a low-level client representing Amazon SageMaker Runtime\n",
    "sagemaker_runtime = boto3.client(\"sagemaker-runtime\", region_name='us-east-1')\n",
    "\n",
    "# Specify the location of the input. Here, a single SVM sample\n",
    "input_location = f\"s3://{s3_bucket}/async-test/test.csv\"\n",
    "\n",
    "\n",
    "# After you deploy a model into production using SageMaker hosting \n",
    "# services, your client applications use this API to get inferences \n",
    "# from the model hosted at the specified endpoint.\n",
    "response = sagemaker_runtime.invoke_endpoint_async(\n",
    "                            EndpointName=endpoint_name, \n",
    "                            InputLocation=input_location)\n",
    "response"
   ]
  },
  {
   "cell_type": "code",
   "execution_count": null,
   "metadata": {},
   "outputs": [],
   "source": []
  },
  {
   "cell_type": "markdown",
   "metadata": {},
   "source": [
    "### Invoke Async Endpoint (Exception Scenario)"
   ]
  },
  {
   "cell_type": "code",
   "execution_count": 67,
   "metadata": {},
   "outputs": [
    {
     "data": {
      "text/plain": [
       "{'ResponseMetadata': {'RequestId': '2814a109-75b3-4281-b89c-96bc30931970',\n",
       "  'HTTPStatusCode': 202,\n",
       "  'HTTPHeaders': {'x-amzn-requestid': '2814a109-75b3-4281-b89c-96bc30931970',\n",
       "   'x-amzn-sagemaker-outputlocation': 's3://sagemaker-us-east-1-119174016168/async_test/output/7c7af8ff-bd8a-4426-b9dd-af6e439ebfd0.out',\n",
       "   'date': 'Wed, 24 Aug 2022 16:10:46 GMT',\n",
       "   'content-type': 'application/json',\n",
       "   'content-length': '54'},\n",
       "  'RetryAttempts': 0},\n",
       " 'OutputLocation': 's3://sagemaker-us-east-1-119174016168/async_test/output/7c7af8ff-bd8a-4426-b9dd-af6e439ebfd0.out',\n",
       " 'InferenceId': '6236a879-e78a-44b6-bc98-21ba5d744ad4'}"
      ]
     },
     "execution_count": 67,
     "metadata": {},
     "output_type": "execute_result"
    }
   ],
   "source": [
    "# Create a low-level client representing Amazon SageMaker Runtime\n",
    "sagemaker_runtime = boto3.client(\"sagemaker-runtime\", region_name='us-east-1')\n",
    "\n",
    "# Specify the location of the input. Here, a single SVM sample\n",
    "input_location = f\"s3://{s3_bucket}/async-test/bad_test.csv\"  # 5 col value is string\n",
    "\n",
    "\n",
    "# After you deploy a model into production using SageMaker hosting \n",
    "# services, your client applications use this API to get inferences \n",
    "# from the model hosted at the specified endpoint.\n",
    "response = sagemaker_runtime.invoke_endpoint_async(\n",
    "                            EndpointName=endpoint_name, \n",
    "                            InputLocation=input_location)\n",
    "response"
   ]
  },
  {
   "cell_type": "code",
   "execution_count": null,
   "metadata": {},
   "outputs": [],
   "source": []
  },
  {
   "cell_type": "code",
   "execution_count": null,
   "metadata": {},
   "outputs": [],
   "source": []
  },
  {
   "cell_type": "code",
   "execution_count": null,
   "metadata": {},
   "outputs": [],
   "source": []
  },
  {
   "cell_type": "code",
   "execution_count": null,
   "metadata": {},
   "outputs": [],
   "source": []
  },
  {
   "cell_type": "code",
   "execution_count": 22,
   "metadata": {},
   "outputs": [],
   "source": [
    "#Ignore everything below for now."
   ]
  },
  {
   "cell_type": "markdown",
   "metadata": {},
   "source": [
    "### Deploy Trained Model as SageMaker Endpoint"
   ]
  },
  {
   "cell_type": "code",
   "execution_count": 10,
   "metadata": {},
   "outputs": [
    {
     "name": "stdout",
     "output_type": "stream",
     "text": [
      "-------------!"
     ]
    }
   ],
   "source": [
    "csv_serializer = CSVSerializer()\n",
    "predictor = model.deploy(1, 'ml.m5.xlarge', \n",
    "                         endpoint_name='emr-byoc-sklearn', \n",
    "                         serializer=csv_serializer)"
   ]
  },
  {
   "cell_type": "markdown",
   "metadata": {},
   "source": [
    "### Real Time Inference using Deployed Endpoint"
   ]
  },
  {
   "cell_type": "code",
   "execution_count": 11,
   "metadata": {},
   "outputs": [],
   "source": [
    "df = pd.read_csv('.././DATA/test/test.csv', header=None)\n",
    "test_df = df.sample(1)"
   ]
  },
  {
   "cell_type": "code",
   "execution_count": 12,
   "metadata": {},
   "outputs": [
    {
     "data": {
      "text/html": [
       "<div>\n",
       "<style scoped>\n",
       "    .dataframe tbody tr th:only-of-type {\n",
       "        vertical-align: middle;\n",
       "    }\n",
       "\n",
       "    .dataframe tbody tr th {\n",
       "        vertical-align: top;\n",
       "    }\n",
       "\n",
       "    .dataframe thead th {\n",
       "        text-align: right;\n",
       "    }\n",
       "</style>\n",
       "<table border=\"1\" class=\"dataframe\">\n",
       "  <thead>\n",
       "    <tr style=\"text-align: right;\">\n",
       "      <th></th>\n",
       "      <th>1</th>\n",
       "      <th>2</th>\n",
       "      <th>3</th>\n",
       "      <th>4</th>\n",
       "    </tr>\n",
       "  </thead>\n",
       "  <tbody>\n",
       "    <tr>\n",
       "      <th>1608</th>\n",
       "      <td>0.733637</td>\n",
       "      <td>0.347981</td>\n",
       "      <td>0.228029</td>\n",
       "      <td>0.162324</td>\n",
       "    </tr>\n",
       "  </tbody>\n",
       "</table>\n",
       "</div>"
      ],
      "text/plain": [
       "             1         2         3         4\n",
       "1608  0.733637  0.347981  0.228029  0.162324"
      ]
     },
     "execution_count": 12,
     "metadata": {},
     "output_type": "execute_result"
    }
   ],
   "source": [
    "test_df.drop(test_df.columns[[0]], axis=1, inplace=True)\n",
    "test_df"
   ]
  },
  {
   "cell_type": "code",
   "execution_count": 13,
   "metadata": {},
   "outputs": [
    {
     "data": {
      "text/plain": [
       "array([[0.73363737, 0.3479813 , 0.22802851, 0.16232361]])"
      ]
     },
     "execution_count": 13,
     "metadata": {},
     "output_type": "execute_result"
    }
   ],
   "source": [
    "test_df.values"
   ]
  },
  {
   "cell_type": "code",
   "execution_count": 14,
   "metadata": {},
   "outputs": [],
   "source": [
    "prediction = predictor.predict(test_df.values).decode('utf-8').strip()"
   ]
  },
  {
   "cell_type": "code",
   "execution_count": 15,
   "metadata": {},
   "outputs": [
    {
     "data": {
      "text/plain": [
       "'0'"
      ]
     },
     "execution_count": 15,
     "metadata": {},
     "output_type": "execute_result"
    }
   ],
   "source": [
    "prediction"
   ]
  },
  {
   "cell_type": "code",
   "execution_count": null,
   "metadata": {},
   "outputs": [],
   "source": []
  }
 ],
 "metadata": {
  "instance_type": "ml.t3.medium",
  "kernelspec": {
   "display_name": "conda_python3",
   "language": "python",
   "name": "conda_python3"
  },
  "language_info": {
   "codemirror_mode": {
    "name": "ipython",
    "version": 3
   },
   "file_extension": ".py",
   "mimetype": "text/x-python",
   "name": "python",
   "nbconvert_exporter": "python",
   "pygments_lexer": "ipython3",
   "version": "3.8.12"
  }
 },
 "nbformat": 4,
 "nbformat_minor": 4
}
