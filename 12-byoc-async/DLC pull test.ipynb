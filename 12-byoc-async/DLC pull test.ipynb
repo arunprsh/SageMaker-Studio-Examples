{
 "cells": [
  {
   "cell_type": "code",
   "execution_count": 1,
   "id": "cd891dcf",
   "metadata": {},
   "outputs": [
    {
     "name": "stdout",
     "output_type": "stream",
     "text": [
      "Error response from daemon: Head \"https://763104351884.dkr.ecr.us-east-1.amazonaws.com/v2/pytorch-inference/manifests/1.9.1-cpu-py38-ubuntu20.04\": no basic auth credentials\r\n"
     ]
    }
   ],
   "source": [
    "!docker pull 763104351884.dkr.ecr.us-east-1.amazonaws.com/pytorch-inference:1.9.1-cpu-py38-ubuntu20.04"
   ]
  },
  {
   "cell_type": "code",
   "execution_count": 12,
   "id": "7cf9fc11",
   "metadata": {},
   "outputs": [
    {
     "name": "stdout",
     "output_type": "stream",
     "text": [
      "WARNING! Your password will be stored unencrypted in /home/ec2-user/.docker/config.json.\r\n",
      "Configure a credential helper to remove this warning. See\r\n",
      "https://docs.docker.com/engine/reference/commandline/login/#credentials-store\r\n",
      "\r\n",
      "Login Succeeded\r\n"
     ]
    }
   ],
   "source": [
    "!aws ecr get-login-password | docker login --username AWS --password-stdin 763104351884.dkr.ecr.us-east-1.amazonaws.com"
   ]
  },
  {
   "cell_type": "code",
   "execution_count": 3,
   "id": "e03e7455",
   "metadata": {},
   "outputs": [
    {
     "name": "stdout",
     "output_type": "stream",
     "text": [
      "1.9.1-cpu-py38-ubuntu20.04: Pulling from pytorch-inference\n",
      "\n",
      "\u001b[1Bec22a9e9: Pulling fs layer \n",
      "\u001b[1B4a0242a9: Pulling fs layer \n",
      "\u001b[1Ba3707d1f: Pulling fs layer \n",
      "\u001b[1Ba98cbe63: Pulling fs layer \n",
      "\u001b[1Ba1d0dc0e: Pulling fs layer \n",
      "\u001b[1Bc1d57856: Pulling fs layer \n",
      "\u001b[1B47bd104d: Pulling fs layer \n",
      "\u001b[1Baccdeb22: Pulling fs layer \n",
      "\u001b[1Bff2927ba: Pulling fs layer \n",
      "\u001b[1B51d798ce: Pulling fs layer \n",
      "\u001b[1B24a19581: Pulling fs layer \n",
      "\u001b[1Bed407e21: Pulling fs layer \n",
      "\u001b[1Bd4016968: Pulling fs layer \n",
      "\u001b[1Be730a862: Pulling fs layer \n",
      "\u001b[1Bb99eb04d: Pulling fs layer \n",
      "\u001b[1B8c5c2e78: Pulling fs layer \n",
      "\u001b[1B84c3501b: Pulling fs layer \n",
      "\u001b[1B2729e702: Pulling fs layer \n",
      "\u001b[1Bd4e4e430: Pulling fs layer \n",
      "\u001b[1B40967379: Pulling fs layer \n",
      "\u001b[1B5787c72f: Pulling fs layer \n",
      "\u001b[1Bd5086a14: Pulling fs layer \n",
      "\u001b[1BDigest: sha256:327d9112f93764b3d94edf7e2629d9a4d4dc410ccce0e7d8e3a8f4b4d9cdc91c\u001b[2K\u001b[23A\u001b[2K\u001b[22A\u001b[2K\u001b[23A\u001b[2K\u001b[22A\u001b[2K\u001b[23A\u001b[2K\u001b[23A\u001b[2K\u001b[20A\u001b[2K\u001b[23A\u001b[2K\u001b[22A\u001b[2K\u001b[20A\u001b[2K\u001b[18A\u001b[2K\u001b[23A\u001b[2K\u001b[20A\u001b[2K\u001b[23A\u001b[2K\u001b[17A\u001b[2K\u001b[20A\u001b[2K\u001b[22A\u001b[2K\u001b[23A\u001b[2K\u001b[20A\u001b[2K\u001b[17A\u001b[2K\u001b[23A\u001b[2K\u001b[22A\u001b[2K\u001b[23A\u001b[2K\u001b[20A\u001b[2K\u001b[22A\u001b[2K\u001b[23A\u001b[2K\u001b[20A\u001b[2K\u001b[20A\u001b[2K\u001b[17A\u001b[2K\u001b[20A\u001b[2K\u001b[20A\u001b[2K\u001b[17A\u001b[2K\u001b[20A\u001b[2K\u001b[22A\u001b[2K\u001b[20A\u001b[2K\u001b[17A\u001b[2K\u001b[20A\u001b[2K\u001b[17A\u001b[2K\u001b[17A\u001b[2K\u001b[22A\u001b[2K\u001b[20A\u001b[2K\u001b[20A\u001b[2K\u001b[22A\u001b[2K\u001b[17A\u001b[2K\u001b[20A\u001b[2K\u001b[22A\u001b[2K\u001b[20A\u001b[2K\u001b[17A\u001b[2K\u001b[20A\u001b[2K\u001b[17A\u001b[2K\u001b[20A\u001b[2K\u001b[22A\u001b[2K\u001b[17A\u001b[2K\u001b[22A\u001b[2K\u001b[20A\u001b[2K\u001b[17A\u001b[2K\u001b[20A\u001b[2K\u001b[22A\u001b[2K\u001b[20A\u001b[2K\u001b[17A\u001b[2K\u001b[20A\u001b[2K\u001b[17A\u001b[2K\u001b[20A\u001b[2K\u001b[22A\u001b[2K\u001b[17A\u001b[2K\u001b[20A\u001b[2K\u001b[22A\u001b[2K\u001b[20A\u001b[2K\u001b[22A\u001b[2K\u001b[20A\u001b[2K\u001b[22A\u001b[2K\u001b[20A\u001b[2K\u001b[20A\u001b[2K\u001b[17A\u001b[2K\u001b[22A\u001b[2K\u001b[17A\u001b[2K\u001b[22A\u001b[2K\u001b[20A\u001b[2K\u001b[17A\u001b[2K\u001b[17A\u001b[2K\u001b[22A\u001b[2K\u001b[17A\u001b[2K\u001b[22A\u001b[2K\u001b[17A\u001b[2K\u001b[22A\u001b[2K\u001b[17A\u001b[2K\u001b[22A\u001b[2K\u001b[20A\u001b[2K\u001b[17A\u001b[2K\u001b[22A\u001b[2K\u001b[17A\u001b[2K\u001b[17A\u001b[2K\u001b[20A\u001b[2K\u001b[22A\u001b[2K\u001b[17A\u001b[2K\u001b[20A\u001b[2K\u001b[17A\u001b[2K\u001b[22A\u001b[2K\u001b[17A\u001b[2K\u001b[22A\u001b[2K\u001b[17A\u001b[2K\u001b[22A\u001b[2K\u001b[17A\u001b[2K\u001b[20A\u001b[2K\u001b[22A\u001b[2K\u001b[17A\u001b[2K\u001b[20A\u001b[2K\u001b[17A\u001b[2K\u001b[22A\u001b[2K\u001b[17A\u001b[2K\u001b[22A\u001b[2K\u001b[17A\u001b[2K\u001b[22A\u001b[2K\u001b[20A\u001b[2K\u001b[17A\u001b[2K\u001b[20A\u001b[2K\u001b[17A\u001b[2K\u001b[22A\u001b[2K\u001b[17A\u001b[2K\u001b[20A\u001b[2K\u001b[22A\u001b[2K\u001b[17A\u001b[2K\u001b[22A\u001b[2K\u001b[17A\u001b[2K\u001b[22A\u001b[2K\u001b[20A\u001b[2K\u001b[17A\u001b[2K\u001b[22A\u001b[2K\u001b[20A\u001b[2K\u001b[22A\u001b[2K\u001b[20A\u001b[2K\u001b[20A\u001b[2K\u001b[20A\u001b[2K\u001b[20A\u001b[2K\u001b[17A\u001b[2K\u001b[20A\u001b[2K\u001b[20A\u001b[2K\u001b[17A\u001b[2K\u001b[20A\u001b[2K\u001b[22A\u001b[2K\u001b[20A\u001b[2K\u001b[22A\u001b[2K\u001b[17A\u001b[2K\u001b[20A\u001b[2K\u001b[22A\u001b[2K\u001b[22A\u001b[2K\u001b[17A\u001b[2K\u001b[20A\u001b[2K\u001b[20A\u001b[2K\u001b[22A\u001b[2K\u001b[20A\u001b[2K\u001b[22A\u001b[2K\u001b[17A\u001b[2K\u001b[20A\u001b[2K\u001b[22A\u001b[2K\u001b[20A\u001b[2K\u001b[22A\u001b[2K\u001b[20A\u001b[2K\u001b[17A\u001b[2K\u001b[20A\u001b[2K\u001b[22A\u001b[2K\u001b[17A\u001b[2K\u001b[22A\u001b[2K\u001b[20A\u001b[2K\u001b[17A\u001b[2K\u001b[22A\u001b[2K\u001b[20A\u001b[2K\u001b[22A\u001b[2K\u001b[17A\u001b[2K\u001b[22A\u001b[2K\u001b[17A\u001b[2K\u001b[22A\u001b[2K\u001b[20A\u001b[2K\u001b[22A\u001b[2K\u001b[17A\u001b[2K\u001b[22A\u001b[2K\u001b[17A\u001b[2K\u001b[22A\u001b[2K\u001b[20A\u001b[2K\u001b[22A\u001b[2K\u001b[17A\u001b[2K\u001b[20A\u001b[2K\u001b[22A\u001b[2K\u001b[20A\u001b[2K\u001b[22A\u001b[2K\u001b[20A\u001b[2K\u001b[17A\u001b[2K\u001b[22A\u001b[2K\u001b[20A\u001b[2K\u001b[22A\u001b[2K\u001b[20A\u001b[2K\u001b[17A\u001b[2K\u001b[22A\u001b[2K\u001b[17A\u001b[2K\u001b[22A\u001b[2K\u001b[20A\u001b[2K\u001b[20A\u001b[2K\u001b[17A\u001b[2K\u001b[20A\u001b[2K\u001b[22A\u001b[2K\u001b[20A\u001b[2K\u001b[16A\u001b[2K\u001b[16A\u001b[2K\u001b[22A\u001b[2K\u001b[15A\u001b[2K\u001b[15A\u001b[2K\u001b[22A\u001b[2K\u001b[20A\u001b[2K\u001b[22A\u001b[2K\u001b[20A\u001b[2K\u001b[15A\u001b[2K\u001b[22A\u001b[2K\u001b[15A\u001b[2K\u001b[22A\u001b[2K\u001b[15A\u001b[2K\u001b[22A\u001b[2K\u001b[20A\u001b[2K\u001b[15A\u001b[2K\u001b[22A\u001b[2K\u001b[20A\u001b[2K\u001b[22A\u001b[2K\u001b[22A\u001b[2K\u001b[15A\u001b[2K\u001b[15A\u001b[2K\u001b[20A\u001b[2K\u001b[15A\u001b[2K\u001b[15A\u001b[2K\u001b[20A\u001b[2K\u001b[15A\u001b[2K\u001b[20A\u001b[2K\u001b[15A\u001b[2K\u001b[20A\u001b[2K\u001b[15A\u001b[2K\u001b[14A\u001b[2K\u001b[14A\u001b[2K\u001b[22A\u001b[2K\u001b[14A\u001b[2K\u001b[15A\u001b[2K\u001b[22A\u001b[2K\u001b[14A\u001b[2K\u001b[22A\u001b[2K\u001b[14A\u001b[2K\u001b[15A\u001b[2K\u001b[14A\u001b[2K\u001b[15A\u001b[2K\u001b[22A\u001b[2K\u001b[13A\u001b[2K\u001b[22A\u001b[2K\u001b[13A\u001b[2K\u001b[22A\u001b[2K\u001b[13A\u001b[2K\u001b[22A\u001b[2K\u001b[15A\u001b[2K\u001b[22A\u001b[2K\u001b[15A\u001b[2K\u001b[13A\u001b[2K\u001b[15A\u001b[2K\u001b[13A\u001b[2K\u001b[22A\u001b[2K\u001b[22A\u001b[2K\u001b[12A\u001b[2K\u001b[22A\u001b[2K\u001b[10A\u001b[2K\u001b[11A\u001b[2K\u001b[9A\u001b[2K\u001b[15A\u001b[2K\u001b[22A\u001b[2K\u001b[11A\u001b[2K\u001b[15A\u001b[2K\u001b[5A\u001b[2K\u001b[11A\u001b[2K\u001b[22A\u001b[2K\u001b[11A\u001b[2K\u001b[22A\u001b[2K\u001b[3A\u001b[2K\u001b[22A\u001b[2K\u001b[2A\u001b[2K\u001b[22A\u001b[2K\u001b[1A\u001b[2K\u001b[15A\u001b[2K\u001b[11A\u001b[2K\u001b[22A\u001b[2K\u001b[11A\u001b[2K\u001b[22A\u001b[2K\u001b[11A\u001b[2K\u001b[22A\u001b[2K\u001b[11A\u001b[2K\u001b[22A\u001b[2K\u001b[22A\u001b[2K\u001b[22A\u001b[2K\u001b[22A\u001b[2K\u001b[11A\u001b[2K\u001b[22A\u001b[2K\u001b[22A\u001b[2K\u001b[22A\u001b[2K\u001b[11A\u001b[2K\u001b[22A\u001b[2K\u001b[22A\u001b[2K\u001b[22A\u001b[2K\u001b[22A\u001b[2K\u001b[22A\u001b[2K\u001b[22A\u001b[2K\u001b[22A\u001b[2K\u001b[22A\u001b[2K\u001b[22A\u001b[2K\u001b[22A\u001b[2K\u001b[22A\u001b[2K\u001b[22A\u001b[2K\u001b[22A\u001b[2K\u001b[22A\u001b[2K\u001b[22A\u001b[2K\u001b[22A\u001b[2K\u001b[22A\u001b[2K\u001b[22A\u001b[2K\u001b[22A\u001b[2K\u001b[22A\u001b[2K\u001b[22A\u001b[2K\u001b[22A\u001b[2K\u001b[22A\u001b[2K\u001b[22A\u001b[2K\u001b[22A\u001b[2K\u001b[22A\u001b[2K\u001b[22A\u001b[2K\u001b[22A\u001b[2K\u001b[22A\u001b[2K\u001b[22A\u001b[2K\u001b[22A\u001b[2K\u001b[22A\u001b[2K\u001b[22A\u001b[2K\u001b[22A\u001b[2K\u001b[22A\u001b[2K\u001b[22A\u001b[2K\u001b[22A\u001b[2K\u001b[22A\u001b[2K\u001b[22A\u001b[2K\u001b[22A\u001b[2K\u001b[22A\u001b[2K\u001b[22A\u001b[2K\u001b[22A\u001b[2K\u001b[22A\u001b[2K\u001b[22A\u001b[2K\u001b[22A\u001b[2K\u001b[22A\u001b[2K\u001b[22A\u001b[2K\u001b[22A\u001b[2K\u001b[22A\u001b[2K\u001b[22A\u001b[2K\u001b[22A\u001b[2K\u001b[22A\u001b[2K\u001b[22A\u001b[2K\u001b[22A\u001b[2K\u001b[22A\u001b[2K\u001b[22A\u001b[2K\u001b[22A\u001b[2K\u001b[22A\u001b[2K\u001b[22A\u001b[2K\u001b[22A\u001b[2K\u001b[22A\u001b[2K\u001b[22A\u001b[2K\u001b[22A\u001b[2K\u001b[22A\u001b[2K\u001b[22A\u001b[2K\u001b[22A\u001b[2K\u001b[22A\u001b[2K\u001b[22A\u001b[2K\u001b[22A\u001b[2K\u001b[22A\u001b[2K\u001b[22A\u001b[2K\u001b[22A\u001b[2K\u001b[22A\u001b[2K\u001b[22A\u001b[2K\u001b[22A\u001b[2K\u001b[22A\u001b[2K\u001b[22A\u001b[2K\u001b[21A\u001b[2K\u001b[20A\u001b[2K\u001b[20A\u001b[2K\u001b[20A\u001b[2K\u001b[20A\u001b[2K\u001b[20A\u001b[2K\u001b[20A\u001b[2K\u001b[20A\u001b[2K\u001b[20A\u001b[2K\u001b[20A\u001b[2K\u001b[20A\u001b[2K\u001b[20A\u001b[2K\u001b[20A\u001b[2K\u001b[20A\u001b[2K\u001b[20A\u001b[2K\u001b[20A\u001b[2K\u001b[20A\u001b[2K\u001b[20A\u001b[2K\u001b[20A\u001b[2K\u001b[20A\u001b[2K\u001b[20A\u001b[2K\u001b[20A\u001b[2K\u001b[20A\u001b[2K\u001b[20A\u001b[2K\u001b[20A\u001b[2K\u001b[20A\u001b[2K\u001b[20A\u001b[2K\u001b[20A\u001b[2K\u001b[20A\u001b[2K\u001b[20A\u001b[2K\u001b[20A\u001b[2K\u001b[20A\u001b[2K\u001b[20A\u001b[2K\u001b[20A\u001b[2K\u001b[20A\u001b[2K\u001b[20A\u001b[2K\u001b[20A\u001b[2K\u001b[20A\u001b[2K\u001b[20A\u001b[2K\u001b[20A\u001b[2K\u001b[20A\u001b[2K\u001b[20A\u001b[2K\u001b[20A\u001b[2K\u001b[20A\u001b[2K\u001b[20A\u001b[2K\u001b[20A\u001b[2K\u001b[20A\u001b[2K\u001b[20A\u001b[2K\u001b[20A\u001b[2K\u001b[20A\u001b[2K\u001b[20A\u001b[2K\u001b[20A\u001b[2K\u001b[20A\u001b[2K\u001b[20A\u001b[2K\u001b[20A\u001b[2K\u001b[20A\u001b[2K\u001b[20A\u001b[2K\u001b[20A\u001b[2K\u001b[20A\u001b[2K\u001b[20A\u001b[2K\u001b[20A\u001b[2K\u001b[20A\u001b[2K\u001b[20A\u001b[2K\u001b[20A\u001b[2K\u001b[20A\u001b[2K\u001b[20A\u001b[2K\u001b[20A\u001b[2K\u001b[20A\u001b[2K\u001b[20A\u001b[2K\u001b[20A\u001b[2K\u001b[20A\u001b[2K\u001b[20A\u001b[2K\u001b[20A\u001b[2K\u001b[20A\u001b[2K\u001b[20A\u001b[2K\u001b[20A\u001b[2K\u001b[20A\u001b[2K\u001b[20A\u001b[2K\u001b[20A\u001b[2K\u001b[20A\u001b[2K\u001b[20A\u001b[2K\u001b[20A\u001b[2K\u001b[20A\u001b[2K\u001b[20A\u001b[2K\u001b[20A\u001b[2K\u001b[20A\u001b[2K\u001b[20A\u001b[2K\u001b[20A\u001b[2K\u001b[20A\u001b[2K\u001b[20A\u001b[2K\u001b[20A\u001b[2K\u001b[20A\u001b[2K\u001b[20A\u001b[2K\u001b[20A\u001b[2K\u001b[20A\u001b[2K\u001b[20A\u001b[2K\u001b[20A\u001b[2K\u001b[20A\u001b[2K\u001b[20A\u001b[2K\u001b[20A\u001b[2K\u001b[20A\u001b[2K\u001b[20A\u001b[2K\u001b[20A\u001b[2K\u001b[20A\u001b[2K\u001b[20A\u001b[2K\u001b[20A\u001b[2K\u001b[20A\u001b[2K\u001b[20A\u001b[2K\u001b[20A\u001b[2K\u001b[20A\u001b[2K\u001b[20A\u001b[2K\u001b[20A\u001b[2K\u001b[19A\u001b[2K\u001b[18A\u001b[2K\u001b[18A\u001b[2K\u001b[18A\u001b[2K\u001b[17A\u001b[2K\u001b[17A\u001b[2K\u001b[17A\u001b[2K\u001b[17A\u001b[2K\u001b[17A\u001b[2K\u001b[17A\u001b[2K\u001b[17A\u001b[2K\u001b[17A\u001b[2K\u001b[17A\u001b[2K\u001b[17A\u001b[2K\u001b[17A\u001b[2K\u001b[17A\u001b[2K\u001b[17A\u001b[2K\u001b[17A\u001b[2K\u001b[17A\u001b[2K\u001b[17A\u001b[2K\u001b[17A\u001b[2K\u001b[17A\u001b[2K\u001b[17A\u001b[2K\u001b[17A\u001b[2K\u001b[17A\u001b[2K\u001b[17A\u001b[2K\u001b[17A\u001b[2K\u001b[17A\u001b[2K\u001b[17A\u001b[2K\u001b[17A\u001b[2K\u001b[17A\u001b[2K\u001b[17A\u001b[2K\u001b[17A\u001b[2K\u001b[17A\u001b[2K\u001b[17A\u001b[2K\u001b[17A\u001b[2K\u001b[17A\u001b[2K\u001b[17A\u001b[2K\u001b[17A\u001b[2K\u001b[17A\u001b[2K\u001b[17A\u001b[2K\u001b[17A\u001b[2K\u001b[17A\u001b[2K\u001b[17A\u001b[2K\u001b[17A\u001b[2K\u001b[17A\u001b[2K\u001b[17A\u001b[2K\u001b[17A\u001b[2K\u001b[17A\u001b[2K\u001b[17A\u001b[2K\u001b[17A\u001b[2K\u001b[17A\u001b[2K\u001b[17A\u001b[2K\u001b[17A\u001b[2K\u001b[17A\u001b[2K\u001b[17A\u001b[2K\u001b[17A\u001b[2K\u001b[17A\u001b[2K\u001b[17A\u001b[2K\u001b[17A\u001b[2K\u001b[17A\u001b[2K\u001b[17A\u001b[2K\u001b[17A\u001b[2K\u001b[17A\u001b[2K\u001b[17A\u001b[2K\u001b[17A\u001b[2K\u001b[17A\u001b[2K\u001b[17A\u001b[2K\u001b[17A\u001b[2K\u001b[17A\u001b[2K\u001b[17A\u001b[2K\u001b[17A\u001b[2K\u001b[17A\u001b[2K\u001b[17A\u001b[2K\u001b[17A\u001b[2K\u001b[17A\u001b[2K\u001b[17A\u001b[2K\u001b[17A\u001b[2K\u001b[17A\u001b[2K\u001b[17A\u001b[2K\u001b[17A\u001b[2K\u001b[17A\u001b[2K\u001b[17A\u001b[2K\u001b[17A\u001b[2K\u001b[17A\u001b[2K\u001b[17A\u001b[2K\u001b[17A\u001b[2K\u001b[17A\u001b[2K\u001b[17A\u001b[2K\u001b[17A\u001b[2K\u001b[17A\u001b[2K\u001b[17A\u001b[2K\u001b[17A\u001b[2K\u001b[17A\u001b[2K\u001b[17A\u001b[2K\u001b[17A\u001b[2K\u001b[17A\u001b[2K\u001b[17A\u001b[2K\u001b[17A\u001b[2K\u001b[17A\u001b[2K\u001b[17A\u001b[2K\u001b[17A\u001b[2K\u001b[17A\u001b[2K\u001b[17A\u001b[2K\u001b[17A\u001b[2K\u001b[17A\u001b[2K\u001b[17A\u001b[2K\u001b[17A\u001b[2K\u001b[17A\u001b[2K\u001b[17A\u001b[2K\u001b[16A\u001b[2K\u001b[16A\u001b[2K\u001b[16A\u001b[2K\u001b[16A\u001b[2K\u001b[15A\u001b[2K\u001b[15A\u001b[2K\u001b[15A\u001b[2K\u001b[15A\u001b[2K\u001b[15A\u001b[2K\u001b[15A\u001b[2K\u001b[15A\u001b[2K\u001b[15A\u001b[2K\u001b[15A\u001b[2K\u001b[15A\u001b[2K\u001b[15A\u001b[2K\u001b[15A\u001b[2K\u001b[15A\u001b[2K\u001b[15A\u001b[2K\u001b[15A\u001b[2K\u001b[15A\u001b[2K\u001b[15A\u001b[2K\u001b[15A\u001b[2K\u001b[15A\u001b[2K\u001b[15A\u001b[2K\u001b[15A\u001b[2K\u001b[15A\u001b[2K\u001b[15A\u001b[2K\u001b[15A\u001b[2K\u001b[15A\u001b[2K\u001b[15A\u001b[2K\u001b[15A\u001b[2K\u001b[15A\u001b[2K\u001b[15A\u001b[2K\u001b[15A\u001b[2K\u001b[15A\u001b[2K\u001b[15A\u001b[2K\u001b[15A\u001b[2K\u001b[15A\u001b[2K\u001b[15A\u001b[2K\u001b[15A\u001b[2K\u001b[15A\u001b[2K\u001b[15A\u001b[2K\u001b[15A\u001b[2K\u001b[15A\u001b[2K\u001b[14A\u001b[2K\u001b[14A\u001b[2K\u001b[14A\u001b[2K\u001b[14A\u001b[2K\u001b[14A\u001b[2K\u001b[14A\u001b[2K\u001b[14A\u001b[2K\u001b[14A\u001b[2K\u001b[13A\u001b[2K\u001b[13A\u001b[2K\u001b[13A\u001b[2K\u001b[13A\u001b[2K\u001b[13A\u001b[2K\u001b[13A\u001b[2K\u001b[13A\u001b[2K\u001b[13A\u001b[2K\u001b[13A\u001b[2K\u001b[13A\u001b[2K\u001b[13A\u001b[2K\u001b[13A\u001b[2K\u001b[13A\u001b[2K\u001b[13A\u001b[2K\u001b[13A\u001b[2K\u001b[12A\u001b[2K\u001b[12A\u001b[2K\u001b[11A\u001b[2K\u001b[11A\u001b[2K\u001b[11A\u001b[2K\u001b[11A\u001b[2K\u001b[11A\u001b[2K\u001b[11A\u001b[2K\u001b[11A\u001b[2K\u001b[11A\u001b[2K\u001b[11A\u001b[2K\u001b[11A\u001b[2K\u001b[11A\u001b[2K\u001b[11A\u001b[2K\u001b[11A\u001b[2K\u001b[10A\u001b[2K\u001b[10A\u001b[2K\u001b[9A\u001b[2K\u001b[9A\u001b[2K\u001b[8A\u001b[2K\u001b[8A\u001b[2K\u001b[7A\u001b[2K\u001b[7A\u001b[2K\u001b[6A\u001b[2K\u001b[6A\u001b[2K\u001b[5A\u001b[2K\u001b[5A\u001b[2K\u001b[4A\u001b[2K\u001b[4A\u001b[2K\u001b[3A\u001b[2K\u001b[3A\u001b[2K\u001b[3A\u001b[2K\u001b[3A\u001b[2K\u001b[2A\u001b[2K\u001b[1A\u001b[2K\n",
      "Status: Downloaded newer image for 763104351884.dkr.ecr.us-east-1.amazonaws.com/pytorch-inference:1.9.1-cpu-py38-ubuntu20.04\n",
      "763104351884.dkr.ecr.us-east-1.amazonaws.com/pytorch-inference:1.9.1-cpu-py38-ubuntu20.04\n"
     ]
    }
   ],
   "source": [
    "!docker pull 763104351884.dkr.ecr.us-east-1.amazonaws.com/pytorch-inference:1.9.1-cpu-py38-ubuntu20.04"
   ]
  },
  {
   "cell_type": "code",
   "execution_count": 5,
   "id": "2eea7699",
   "metadata": {},
   "outputs": [
    {
     "name": "stdout",
     "output_type": "stream",
     "text": [
      "REPOSITORY                                                       TAG                          DIGEST    IMAGE ID       CREATED       SIZE\r\n",
      "763104351884.dkr.ecr.us-east-1.amazonaws.com/pytorch-inference   1.9.1-cpu-py38-ubuntu20.04   <none>    08d613ce8634   5 weeks ago   4.98GB\r\n"
     ]
    }
   ],
   "source": [
    "!docker image ls --digests 763104351884.dkr.ecr.us-east-1.amazonaws.com/pytorch-inference:1.9.1-cpu-py38-ubuntu20.04"
   ]
  },
  {
   "cell_type": "code",
   "execution_count": 6,
   "id": "7450b51b",
   "metadata": {},
   "outputs": [
    {
     "name": "stdout",
     "output_type": "stream",
     "text": [
      "REPOSITORY                                                            TAG                          IMAGE ID                                                                  CREATED       SIZE\r\n",
      "119174016168.dkr.ecr.us-east-1.amazonaws.com/sagemaker-byoc-sklearn   latest                       sha256:e5f3a9e3cf1c45b91b000a76bac93ade176ad3beea63111250a75f1df5d44388   4 weeks ago   1.26GB\r\n",
      "sagemaker-byoc-sklearn                                                latest                       sha256:e5f3a9e3cf1c45b91b000a76bac93ade176ad3beea63111250a75f1df5d44388   4 weeks ago   1.26GB\r\n",
      "python                                                                3.7                          sha256:f97db05f776aa72b282ec03ef2f0d7bd02e50f3fc22a15e4bed2c380484d37c7   5 weeks ago   906MB\r\n",
      "763104351884.dkr.ecr.us-east-1.amazonaws.com/pytorch-inference        1.9.1-cpu-py38-ubuntu20.04   sha256:08d613ce863406009799062ca7ba14c15f5f2ced856a2d4346f0e524a9418ade   5 weeks ago   4.98GB\r\n"
     ]
    }
   ],
   "source": [
    "!docker image ls --no-trunc"
   ]
  },
  {
   "cell_type": "code",
   "execution_count": 20,
   "id": "9fb2caf1",
   "metadata": {},
   "outputs": [
    {
     "name": "stdout",
     "output_type": "stream",
     "text": [
      "docker.io/library/pytorch-inference@sha256:327d9112f93764b3d94edf7e2629d9a4d4dc410ccce0e7d8e3a8f4b4d9cdc91c: Pulling from library/pytorch-inference\r\n",
      "Digest: sha256:327d9112f93764b3d94edf7e2629d9a4d4dc410ccce0e7d8e3a8f4b4d9cdc91c\r\n",
      "Status: Downloaded newer image for pytorch-inference@sha256:327d9112f93764b3d94edf7e2629d9a4d4dc410ccce0e7d8e3a8f4b4d9cdc91c\r\n",
      "docker.io/library/pytorch-inference:1.9.1-cpu-py38-ubuntu20.04@sha256:327d9112f93764b3d94edf7e2629d9a4d4dc410ccce0e7d8e3a8f4b4d9cdc91c\r\n"
     ]
    }
   ],
   "source": [
    "!docker manifest inspect --verbose 763104351884.dkr.ecr.us-east-1.amazonaws.com/pytorch-inference:1.9.1-cpu-py38-ubuntu20.04\n",
    "!docker pull pytorch-inference:1.9.1-cpu-py38-ubuntu20.04@sha256:327d9112f93764b3d94edf7e2629d9a4d4dc410ccce0e7d8e3a8f4b4d9cdc91c\n",
    "        \n",
    "        "
   ]
  },
  {
   "cell_type": "code",
   "execution_count": 18,
   "id": "9c5d53d4",
   "metadata": {},
   "outputs": [
    {
     "name": "stdout",
     "output_type": "stream",
     "text": [
      "{\r\n",
      "\t\"Ref\": \"763104351884.dkr.ecr.us-east-1.amazonaws.com/pytorch-inference:1.9.1-cpu-py38-ubuntu20.04\",\r\n",
      "\t\"Descriptor\": {\r\n",
      "\t\t\"mediaType\": \"application/vnd.docker.distribution.manifest.v2+json\",\r\n",
      "\t\t\"digest\": \"sha256:327d9112f93764b3d94edf7e2629d9a4d4dc410ccce0e7d8e3a8f4b4d9cdc91c\",\r\n",
      "\t\t\"size\": 5146,\r\n",
      "\t\t\"platform\": {\r\n",
      "\t\t\t\"architecture\": \"amd64\",\r\n",
      "\t\t\t\"os\": \"linux\"\r\n",
      "\t\t}\r\n",
      "\t},\r\n",
      "\t\"SchemaV2Manifest\": {\r\n",
      "\t\t\"schemaVersion\": 2,\r\n",
      "\t\t\"mediaType\": \"application/vnd.docker.distribution.manifest.v2+json\",\r\n",
      "\t\t\"config\": {\r\n",
      "\t\t\t\"mediaType\": \"application/vnd.docker.container.image.v1+json\",\r\n",
      "\t\t\t\"size\": 27664,\r\n",
      "\t\t\t\"digest\": \"sha256:08d613ce863406009799062ca7ba14c15f5f2ced856a2d4346f0e524a9418ade\"\r\n",
      "\t\t},\r\n",
      "\t\t\"layers\": [\r\n",
      "\t\t\t{\r\n",
      "\t\t\t\t\"mediaType\": \"application/vnd.docker.image.rootfs.diff.tar.gzip\",\r\n",
      "\t\t\t\t\"size\": 28572596,\r\n",
      "\t\t\t\t\"digest\": \"sha256:3b65ec22a9e96affe680712973e88355927506aa3f792ff03330f3a3eb601a98\"\r\n",
      "\t\t\t},\r\n",
      "\t\t\t{\r\n",
      "\t\t\t\t\"mediaType\": \"application/vnd.docker.image.rootfs.diff.tar.gzip\",\r\n",
      "\t\t\t\t\"size\": 553788435,\r\n",
      "\t\t\t\t\"digest\": \"sha256:a4a24a0242a9f6e4435b0b8645ae3eb322eb60beab6e36e75388dfa59d4b4865\"\r\n",
      "\t\t\t},\r\n",
      "\t\t\t{\r\n",
      "\t\t\t\t\"mediaType\": \"application/vnd.docker.image.rootfs.diff.tar.gzip\",\r\n",
      "\t\t\t\t\"size\": 208662,\r\n",
      "\t\t\t\t\"digest\": \"sha256:2577a3707d1f4c93a292e422e4450099fc4ddd0cc1e86b00c7912eab3451b65c\"\r\n",
      "\t\t\t},\r\n",
      "\t\t\t{\r\n",
      "\t\t\t\t\"mediaType\": \"application/vnd.docker.image.rootfs.diff.tar.gzip\",\r\n",
      "\t\t\t\t\"size\": 485637886,\r\n",
      "\t\t\t\t\"digest\": \"sha256:3210a98cbe639efb4e4b051b29286aa19119cefc54b925f9b34e3ec28e8e2da8\"\r\n",
      "\t\t\t},\r\n",
      "\t\t\t{\r\n",
      "\t\t\t\t\"mediaType\": \"application/vnd.docker.image.rootfs.diff.tar.gzip\",\r\n",
      "\t\t\t\t\"size\": 175,\r\n",
      "\t\t\t\t\"digest\": \"sha256:8af1a1d0dc0e4c97eba6f82024b6024066bba255e52c8e3ac878804411271518\"\r\n",
      "\t\t\t},\r\n",
      "\t\t\t{\r\n",
      "\t\t\t\t\"mediaType\": \"application/vnd.docker.image.rootfs.diff.tar.gzip\",\r\n",
      "\t\t\t\t\"size\": 4036726,\r\n",
      "\t\t\t\t\"digest\": \"sha256:46adc1d57856688d3261dacca349587d53f0938349aba24bbac87e0647fa7406\"\r\n",
      "\t\t\t},\r\n",
      "\t\t\t{\r\n",
      "\t\t\t\t\"mediaType\": \"application/vnd.docker.image.rootfs.diff.tar.gzip\",\r\n",
      "\t\t\t\t\"size\": 397042399,\r\n",
      "\t\t\t\t\"digest\": \"sha256:89a247bd104d51bad44e6284c1f402db05e9bfc9a2edaebde2d36a3ee8168590\"\r\n",
      "\t\t\t},\r\n",
      "\t\t\t{\r\n",
      "\t\t\t\t\"mediaType\": \"application/vnd.docker.image.rootfs.diff.tar.gzip\",\r\n",
      "\t\t\t\t\"size\": 5983047,\r\n",
      "\t\t\t\t\"digest\": \"sha256:814caccdeb228b945cbb833c52b735f425459fba5fdb8b636691ca61da35f3ec\"\r\n",
      "\t\t\t},\r\n",
      "\t\t\t{\r\n",
      "\t\t\t\t\"mediaType\": \"application/vnd.docker.image.rootfs.diff.tar.gzip\",\r\n",
      "\t\t\t\t\"size\": 164822552,\r\n",
      "\t\t\t\t\"digest\": \"sha256:821dff2927ba7ece0ff0591a7f790aca57a27ee8db07c553f898338ba4d67420\"\r\n",
      "\t\t\t},\r\n",
      "\t\t\t{\r\n",
      "\t\t\t\t\"mediaType\": \"application/vnd.docker.image.rootfs.diff.tar.gzip\",\r\n",
      "\t\t\t\t\"size\": 24027728,\r\n",
      "\t\t\t\t\"digest\": \"sha256:f01851d798ced75f20df73341e911c241ad218c22ce16c58966bd54e6d0760a7\"\r\n",
      "\t\t\t},\r\n",
      "\t\t\t{\r\n",
      "\t\t\t\t\"mediaType\": \"application/vnd.docker.image.rootfs.diff.tar.gzip\",\r\n",
      "\t\t\t\t\"size\": 32929610,\r\n",
      "\t\t\t\t\"digest\": \"sha256:cdd024a19581037b48dc00934aa0f6f5e7ff0eead94ce842956770cee488f73f\"\r\n",
      "\t\t\t},\r\n",
      "\t\t\t{\r\n",
      "\t\t\t\t\"mediaType\": \"application/vnd.docker.image.rootfs.diff.tar.gzip\",\r\n",
      "\t\t\t\t\"size\": 582291,\r\n",
      "\t\t\t\t\"digest\": \"sha256:68bfed407e21075d697a69e2e56ce1903025713edb21dcc5f33fc54166158768\"\r\n",
      "\t\t\t},\r\n",
      "\t\t\t{\r\n",
      "\t\t\t\t\"mediaType\": \"application/vnd.docker.image.rootfs.diff.tar.gzip\",\r\n",
      "\t\t\t\t\"size\": 74213624,\r\n",
      "\t\t\t\t\"digest\": \"sha256:426dd4016968c8e8c0b0fdd7d7ba4f7511404b2b54185c505c31ebf57f2d22cc\"\r\n",
      "\t\t\t},\r\n",
      "\t\t\t{\r\n",
      "\t\t\t\t\"mediaType\": \"application/vnd.docker.image.rootfs.diff.tar.gzip\",\r\n",
      "\t\t\t\t\"size\": 133,\r\n",
      "\t\t\t\t\"digest\": \"sha256:f77ce730a862443e651e13198b6fd5c72b7d95335801c6f09c83341356e62713\"\r\n",
      "\t\t\t},\r\n",
      "\t\t\t{\r\n",
      "\t\t\t\t\"mediaType\": \"application/vnd.docker.image.rootfs.diff.tar.gzip\",\r\n",
      "\t\t\t\t\"size\": 4670,\r\n",
      "\t\t\t\t\"digest\": \"sha256:d79db99eb04d6982b284daf9100b4b0897aa77b62e179f80f7881ec98737a402\"\r\n",
      "\t\t\t},\r\n",
      "\t\t\t{\r\n",
      "\t\t\t\t\"mediaType\": \"application/vnd.docker.image.rootfs.diff.tar.gzip\",\r\n",
      "\t\t\t\t\"size\": 744,\r\n",
      "\t\t\t\t\"digest\": \"sha256:68268c5c2e78e5b20c2d6b7ac1b75a40bb68e2a28a9c810fac2877b7e3289066\"\r\n",
      "\t\t\t},\r\n",
      "\t\t\t{\r\n",
      "\t\t\t\t\"mediaType\": \"application/vnd.docker.image.rootfs.diff.tar.gzip\",\r\n",
      "\t\t\t\t\"size\": 622,\r\n",
      "\t\t\t\t\"digest\": \"sha256:b8e884c3501b02e625d7234978ef5d320b309b7607b95a3d063c6f03fcae35a1\"\r\n",
      "\t\t\t},\r\n",
      "\t\t\t{\r\n",
      "\t\t\t\t\"mediaType\": \"application/vnd.docker.image.rootfs.diff.tar.gzip\",\r\n",
      "\t\t\t\t\"size\": 743,\r\n",
      "\t\t\t\t\"digest\": \"sha256:a59a2729e7027638dacbbfe640e0003adb4f8cf8a09f05c4ad3492c7eea2775b\"\r\n",
      "\t\t\t},\r\n",
      "\t\t\t{\r\n",
      "\t\t\t\t\"mediaType\": \"application/vnd.docker.image.rootfs.diff.tar.gzip\",\r\n",
      "\t\t\t\t\"size\": 3069,\r\n",
      "\t\t\t\t\"digest\": \"sha256:84ebd4e4e4309f5e8eb4afa0bfd138bdf60ccd5baed11ed196d73a76c7f78f3e\"\r\n",
      "\t\t\t},\r\n",
      "\t\t\t{\r\n",
      "\t\t\t\t\"mediaType\": \"application/vnd.docker.image.rootfs.diff.tar.gzip\",\r\n",
      "\t\t\t\t\"size\": 3067,\r\n",
      "\t\t\t\t\"digest\": \"sha256:cb744096737986171299a4cbc0cc67b3e6a2b5baf531b8b314895c396ebca5b8\"\r\n",
      "\t\t\t},\r\n",
      "\t\t\t{\r\n",
      "\t\t\t\t\"mediaType\": \"application/vnd.docker.image.rootfs.diff.tar.gzip\",\r\n",
      "\t\t\t\t\"size\": 1263891,\r\n",
      "\t\t\t\t\"digest\": \"sha256:4f815787c72fe88ce9f93f0503e61f83b6ecb047b4a0c13b59ca50d29456a203\"\r\n",
      "\t\t\t},\r\n",
      "\t\t\t{\r\n",
      "\t\t\t\t\"mediaType\": \"application/vnd.docker.image.rootfs.diff.tar.gzip\",\r\n",
      "\t\t\t\t\"size\": 1496,\r\n",
      "\t\t\t\t\"digest\": \"sha256:e9fbd5086a143204cab42f678efe947ad5328b9df3b59a91874346f6be1b7937\"\r\n",
      "\t\t\t},\r\n",
      "\t\t\t{\r\n",
      "\t\t\t\t\"mediaType\": \"application/vnd.docker.image.rootfs.diff.tar.gzip\",\r\n",
      "\t\t\t\t\"size\": 1517,\r\n",
      "\t\t\t\t\"digest\": \"sha256:d4f5d504f68eba7c7280e26b49f1e886f5cf5d2d4d2f681f0b82c5bfdb2c3fea\"\r\n",
      "\t\t\t}\r\n",
      "\t\t]\r\n",
      "\t}\r\n",
      "}\r\n"
     ]
    }
   ],
   "source": [
    "!docker manifest inspect --verbose 763104351884.dkr.ecr.us-east-1.amazonaws.com/pytorch-inference:1.9.1-cpu-py38-ubuntu20.04"
   ]
  },
  {
   "cell_type": "code",
   "execution_count": null,
   "id": "390c167c",
   "metadata": {},
   "outputs": [],
   "source": [
    "    "
   ]
  },
  {
   "cell_type": "code",
   "execution_count": null,
   "id": "e609877b",
   "metadata": {},
   "outputs": [],
   "source": []
  },
  {
   "cell_type": "code",
   "execution_count": null,
   "id": "e4a508c3",
   "metadata": {},
   "outputs": [],
   "source": []
  }
 ],
 "metadata": {
  "kernelspec": {
   "display_name": "conda_python3",
   "language": "python",
   "name": "conda_python3"
  },
  "language_info": {
   "codemirror_mode": {
    "name": "ipython",
    "version": 3
   },
   "file_extension": ".py",
   "mimetype": "text/x-python",
   "name": "python",
   "nbconvert_exporter": "python",
   "pygments_lexer": "ipython3",
   "version": "3.8.12"
  }
 },
 "nbformat": 4,
 "nbformat_minor": 5
}
